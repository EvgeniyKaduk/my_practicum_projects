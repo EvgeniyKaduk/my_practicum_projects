{
 "cells": [
  {
   "cell_type": "markdown",
   "metadata": {},
   "source": [
    "# Выбор локации для скважины"
   ]
  },
  {
   "cell_type": "markdown",
   "metadata": {},
   "source": [
    "**Описание задачи**\n",
    "\n",
    "Допустим, мы работаем в добывающей компании «ГлавРосГосНефть». Нужно решить, где бурить новую скважину.\n",
    "\n",
    "Нам предоставлены пробы нефти в трёх регионах: в каждом 10 000 месторождений, где измерили качество нефти и объём её запасов. Необходимо построить модель машинного обучения, которая поможет определить регион, где добыча принесёт наибольшую прибыль, а затем проанализироваать возможную прибыль и риски техникой *Bootstrap.*\n",
    "\n",
    "Условия задачи:\n",
    "\n",
    "•\tДля обучения модели подходит только линейная регрессия.\n",
    "\n",
    "•\tПри разведке региона исследуется 500 точек, из которых с помощью машинного обучения выбирается 200 лучших для разработки.\n",
    "\n",
    "•\tБюджет на разработку скважин в регионе — 10 млрд рублей.\n",
    "\n",
    "•\tПри нынешних ценах один баррель сырья приносит 450 рублей дохода. Доход с каждой единицы продукта составляет 450 тыс. рублей, поскольку объём указан в тысячах баррелей.\n",
    "\n",
    "•\tПосле оценки рисков нужно оставить лишь те регионы, в которых вероятность убытков меньше 2.5%. Среди них мы выбираем регион с наибольшей средней прибылью.\n",
    "\n",
    "\n",
    "**Описание данных**\n",
    "\n",
    "`id` — уникальный идентификатор скважины;\n",
    "\n",
    "`f0`, `f1`, `f2` — три признака точек (неважно, что они означают, но сами признаки значимы);\n",
    "\n",
    "`product` — объём запасов в скважине (тыс. баррелей)."
   ]
  },
  {
   "cell_type": "markdown",
   "metadata": {},
   "source": [
    "## Загрузка и подготовка данных"
   ]
  },
  {
   "cell_type": "code",
   "execution_count": 1,
   "metadata": {},
   "outputs": [],
   "source": [
    "# загружаем необходимые библиотеки, модели, инструменты\n",
    "import pandas as pd\n",
    "import numpy as np\n",
    "import seaborn as sns\n",
    "import matplotlib.pyplot as plt\n",
    "import scipy.stats as st\n",
    "\n",
    "import sklearn\n",
    "from sklearn.preprocessing import PolynomialFeatures\n",
    "from sklearn.model_selection import train_test_split\n",
    "from sklearn.metrics import mean_squared_error\n",
    "from sklearn.linear_model import LinearRegression\n",
    "from sklearn.dummy import DummyRegressor"
   ]
  },
  {
   "cell_type": "code",
   "execution_count": 2,
   "metadata": {},
   "outputs": [],
   "source": [
    "RANDOM_STATE = 42\n",
    "TEST_SIZE=0.25"
   ]
  },
  {
   "cell_type": "code",
   "execution_count": 3,
   "metadata": {},
   "outputs": [],
   "source": [
    "# выгружаем данные геологоразведки по 3-м регионам и сохраняем в датафреймы\n",
    "try:\n",
    "    data_reg_1 = pd.read_csv('https://code.s3.yandex.net/datasets/geo_data_0.csv', index_col='id')\n",
    "    data_reg_2 = pd.read_csv('https://code.s3.yandex.net/datasets/geo_data_1.csv', index_col='id')\n",
    "    data_reg_3 = pd.read_csv('https://code.s3.yandex.net/datasets/geo_data_2.csv', index_col='id')\n",
    "except:\n",
    "    data_reg_1 = pd.read_csv('/datasets/geo_data_0.csv', index_col='id')\n",
    "    data_reg_2 = pd.read_csv('/datasets/geo_data_1.csv', index_col='id')\n",
    "    data_reg_3 = pd.read_csv('/datasets/geo_data_2.csv', index_col='id')"
   ]
  },
  {
   "cell_type": "code",
   "execution_count": 4,
   "metadata": {},
   "outputs": [
    {
     "name": "stdout",
     "output_type": "stream",
     "text": [
      "<class 'pandas.core.frame.DataFrame'>\n",
      "Index: 100000 entries, txEyH to 1CWhH\n",
      "Data columns (total 4 columns):\n",
      " #   Column   Non-Null Count   Dtype  \n",
      "---  ------   --------------   -----  \n",
      " 0   f0       100000 non-null  float64\n",
      " 1   f1       100000 non-null  float64\n",
      " 2   f2       100000 non-null  float64\n",
      " 3   product  100000 non-null  float64\n",
      "dtypes: float64(4)\n",
      "memory usage: 3.8+ MB\n"
     ]
    },
    {
     "data": {
      "text/html": [
       "<div>\n",
       "<style scoped>\n",
       "    .dataframe tbody tr th:only-of-type {\n",
       "        vertical-align: middle;\n",
       "    }\n",
       "\n",
       "    .dataframe tbody tr th {\n",
       "        vertical-align: top;\n",
       "    }\n",
       "\n",
       "    .dataframe thead th {\n",
       "        text-align: right;\n",
       "    }\n",
       "</style>\n",
       "<table border=\"1\" class=\"dataframe\">\n",
       "  <thead>\n",
       "    <tr style=\"text-align: right;\">\n",
       "      <th></th>\n",
       "      <th>f0</th>\n",
       "      <th>f1</th>\n",
       "      <th>f2</th>\n",
       "      <th>product</th>\n",
       "    </tr>\n",
       "    <tr>\n",
       "      <th>id</th>\n",
       "      <th></th>\n",
       "      <th></th>\n",
       "      <th></th>\n",
       "      <th></th>\n",
       "    </tr>\n",
       "  </thead>\n",
       "  <tbody>\n",
       "    <tr>\n",
       "      <th>txEyH</th>\n",
       "      <td>0.705745</td>\n",
       "      <td>-0.497823</td>\n",
       "      <td>1.221170</td>\n",
       "      <td>105.280062</td>\n",
       "    </tr>\n",
       "    <tr>\n",
       "      <th>2acmU</th>\n",
       "      <td>1.334711</td>\n",
       "      <td>-0.340164</td>\n",
       "      <td>4.365080</td>\n",
       "      <td>73.037750</td>\n",
       "    </tr>\n",
       "    <tr>\n",
       "      <th>409Wp</th>\n",
       "      <td>1.022732</td>\n",
       "      <td>0.151990</td>\n",
       "      <td>1.419926</td>\n",
       "      <td>85.265647</td>\n",
       "    </tr>\n",
       "    <tr>\n",
       "      <th>iJLyR</th>\n",
       "      <td>-0.032172</td>\n",
       "      <td>0.139033</td>\n",
       "      <td>2.978566</td>\n",
       "      <td>168.620776</td>\n",
       "    </tr>\n",
       "    <tr>\n",
       "      <th>Xdl7t</th>\n",
       "      <td>1.988431</td>\n",
       "      <td>0.155413</td>\n",
       "      <td>4.751769</td>\n",
       "      <td>154.036647</td>\n",
       "    </tr>\n",
       "  </tbody>\n",
       "</table>\n",
       "</div>"
      ],
      "text/plain": [
       "             f0        f1        f2     product\n",
       "id                                             \n",
       "txEyH  0.705745 -0.497823  1.221170  105.280062\n",
       "2acmU  1.334711 -0.340164  4.365080   73.037750\n",
       "409Wp  1.022732  0.151990  1.419926   85.265647\n",
       "iJLyR -0.032172  0.139033  2.978566  168.620776\n",
       "Xdl7t  1.988431  0.155413  4.751769  154.036647"
      ]
     },
     "execution_count": 4,
     "metadata": {},
     "output_type": "execute_result"
    }
   ],
   "source": [
    "# выводим общую информацию и первые строки по первому региону\n",
    "data_reg_1.info()\n",
    "data_reg_1.head()"
   ]
  },
  {
   "cell_type": "code",
   "execution_count": 5,
   "metadata": {},
   "outputs": [
    {
     "name": "stdout",
     "output_type": "stream",
     "text": [
      "<class 'pandas.core.frame.DataFrame'>\n",
      "Index: 100000 entries, kBEdx to relB0\n",
      "Data columns (total 4 columns):\n",
      " #   Column   Non-Null Count   Dtype  \n",
      "---  ------   --------------   -----  \n",
      " 0   f0       100000 non-null  float64\n",
      " 1   f1       100000 non-null  float64\n",
      " 2   f2       100000 non-null  float64\n",
      " 3   product  100000 non-null  float64\n",
      "dtypes: float64(4)\n",
      "memory usage: 3.8+ MB\n"
     ]
    },
    {
     "data": {
      "text/html": [
       "<div>\n",
       "<style scoped>\n",
       "    .dataframe tbody tr th:only-of-type {\n",
       "        vertical-align: middle;\n",
       "    }\n",
       "\n",
       "    .dataframe tbody tr th {\n",
       "        vertical-align: top;\n",
       "    }\n",
       "\n",
       "    .dataframe thead th {\n",
       "        text-align: right;\n",
       "    }\n",
       "</style>\n",
       "<table border=\"1\" class=\"dataframe\">\n",
       "  <thead>\n",
       "    <tr style=\"text-align: right;\">\n",
       "      <th></th>\n",
       "      <th>f0</th>\n",
       "      <th>f1</th>\n",
       "      <th>f2</th>\n",
       "      <th>product</th>\n",
       "    </tr>\n",
       "    <tr>\n",
       "      <th>id</th>\n",
       "      <th></th>\n",
       "      <th></th>\n",
       "      <th></th>\n",
       "      <th></th>\n",
       "    </tr>\n",
       "  </thead>\n",
       "  <tbody>\n",
       "    <tr>\n",
       "      <th>kBEdx</th>\n",
       "      <td>-15.001348</td>\n",
       "      <td>-8.276000</td>\n",
       "      <td>-0.005876</td>\n",
       "      <td>3.179103</td>\n",
       "    </tr>\n",
       "    <tr>\n",
       "      <th>62mP7</th>\n",
       "      <td>14.272088</td>\n",
       "      <td>-3.475083</td>\n",
       "      <td>0.999183</td>\n",
       "      <td>26.953261</td>\n",
       "    </tr>\n",
       "    <tr>\n",
       "      <th>vyE1P</th>\n",
       "      <td>6.263187</td>\n",
       "      <td>-5.948386</td>\n",
       "      <td>5.001160</td>\n",
       "      <td>134.766305</td>\n",
       "    </tr>\n",
       "    <tr>\n",
       "      <th>KcrkZ</th>\n",
       "      <td>-13.081196</td>\n",
       "      <td>-11.506057</td>\n",
       "      <td>4.999415</td>\n",
       "      <td>137.945408</td>\n",
       "    </tr>\n",
       "    <tr>\n",
       "      <th>AHL4O</th>\n",
       "      <td>12.702195</td>\n",
       "      <td>-8.147433</td>\n",
       "      <td>5.004363</td>\n",
       "      <td>134.766305</td>\n",
       "    </tr>\n",
       "  </tbody>\n",
       "</table>\n",
       "</div>"
      ],
      "text/plain": [
       "              f0         f1        f2     product\n",
       "id                                               \n",
       "kBEdx -15.001348  -8.276000 -0.005876    3.179103\n",
       "62mP7  14.272088  -3.475083  0.999183   26.953261\n",
       "vyE1P   6.263187  -5.948386  5.001160  134.766305\n",
       "KcrkZ -13.081196 -11.506057  4.999415  137.945408\n",
       "AHL4O  12.702195  -8.147433  5.004363  134.766305"
      ]
     },
     "execution_count": 5,
     "metadata": {},
     "output_type": "execute_result"
    }
   ],
   "source": [
    "# выводим общую информацию и первые строки по второму региону\n",
    "data_reg_2.info()\n",
    "data_reg_2.head()"
   ]
  },
  {
   "cell_type": "code",
   "execution_count": 6,
   "metadata": {},
   "outputs": [
    {
     "name": "stdout",
     "output_type": "stream",
     "text": [
      "<class 'pandas.core.frame.DataFrame'>\n",
      "Index: 100000 entries, fwXo0 to V9kWn\n",
      "Data columns (total 4 columns):\n",
      " #   Column   Non-Null Count   Dtype  \n",
      "---  ------   --------------   -----  \n",
      " 0   f0       100000 non-null  float64\n",
      " 1   f1       100000 non-null  float64\n",
      " 2   f2       100000 non-null  float64\n",
      " 3   product  100000 non-null  float64\n",
      "dtypes: float64(4)\n",
      "memory usage: 3.8+ MB\n"
     ]
    },
    {
     "data": {
      "text/html": [
       "<div>\n",
       "<style scoped>\n",
       "    .dataframe tbody tr th:only-of-type {\n",
       "        vertical-align: middle;\n",
       "    }\n",
       "\n",
       "    .dataframe tbody tr th {\n",
       "        vertical-align: top;\n",
       "    }\n",
       "\n",
       "    .dataframe thead th {\n",
       "        text-align: right;\n",
       "    }\n",
       "</style>\n",
       "<table border=\"1\" class=\"dataframe\">\n",
       "  <thead>\n",
       "    <tr style=\"text-align: right;\">\n",
       "      <th></th>\n",
       "      <th>f0</th>\n",
       "      <th>f1</th>\n",
       "      <th>f2</th>\n",
       "      <th>product</th>\n",
       "    </tr>\n",
       "    <tr>\n",
       "      <th>id</th>\n",
       "      <th></th>\n",
       "      <th></th>\n",
       "      <th></th>\n",
       "      <th></th>\n",
       "    </tr>\n",
       "  </thead>\n",
       "  <tbody>\n",
       "    <tr>\n",
       "      <th>fwXo0</th>\n",
       "      <td>-1.146987</td>\n",
       "      <td>0.963328</td>\n",
       "      <td>-0.828965</td>\n",
       "      <td>27.758673</td>\n",
       "    </tr>\n",
       "    <tr>\n",
       "      <th>WJtFt</th>\n",
       "      <td>0.262778</td>\n",
       "      <td>0.269839</td>\n",
       "      <td>-2.530187</td>\n",
       "      <td>56.069697</td>\n",
       "    </tr>\n",
       "    <tr>\n",
       "      <th>ovLUW</th>\n",
       "      <td>0.194587</td>\n",
       "      <td>0.289035</td>\n",
       "      <td>-5.586433</td>\n",
       "      <td>62.871910</td>\n",
       "    </tr>\n",
       "    <tr>\n",
       "      <th>q6cA6</th>\n",
       "      <td>2.236060</td>\n",
       "      <td>-0.553760</td>\n",
       "      <td>0.930038</td>\n",
       "      <td>114.572842</td>\n",
       "    </tr>\n",
       "    <tr>\n",
       "      <th>WPMUX</th>\n",
       "      <td>-0.515993</td>\n",
       "      <td>1.716266</td>\n",
       "      <td>5.899011</td>\n",
       "      <td>149.600746</td>\n",
       "    </tr>\n",
       "  </tbody>\n",
       "</table>\n",
       "</div>"
      ],
      "text/plain": [
       "             f0        f1        f2     product\n",
       "id                                             \n",
       "fwXo0 -1.146987  0.963328 -0.828965   27.758673\n",
       "WJtFt  0.262778  0.269839 -2.530187   56.069697\n",
       "ovLUW  0.194587  0.289035 -5.586433   62.871910\n",
       "q6cA6  2.236060 -0.553760  0.930038  114.572842\n",
       "WPMUX -0.515993  1.716266  5.899011  149.600746"
      ]
     },
     "execution_count": 6,
     "metadata": {},
     "output_type": "execute_result"
    }
   ],
   "source": [
    "# выводим общую информацию и первые строки по третьему региону\n",
    "data_reg_3.info()\n",
    "data_reg_3.head()"
   ]
  },
  {
   "cell_type": "code",
   "execution_count": 7,
   "metadata": {},
   "outputs": [
    {
     "data": {
      "text/plain": [
       "0"
      ]
     },
     "execution_count": 7,
     "metadata": {},
     "output_type": "execute_result"
    }
   ],
   "source": [
    "# проверяем на наличие явных дубликатов\n",
    "data_reg_1.duplicated().sum()"
   ]
  },
  {
   "cell_type": "code",
   "execution_count": 8,
   "metadata": {},
   "outputs": [
    {
     "data": {
      "text/plain": [
       "0"
      ]
     },
     "execution_count": 8,
     "metadata": {},
     "output_type": "execute_result"
    }
   ],
   "source": [
    "# проверяем на наличие явных дубликатов\n",
    "data_reg_2.duplicated().sum()"
   ]
  },
  {
   "cell_type": "code",
   "execution_count": 9,
   "metadata": {},
   "outputs": [
    {
     "data": {
      "text/plain": [
       "0"
      ]
     },
     "execution_count": 9,
     "metadata": {},
     "output_type": "execute_result"
    }
   ],
   "source": [
    "# проверяем на наличие явных дубликатов\n",
    "data_reg_3.duplicated().sum()"
   ]
  },
  {
   "cell_type": "code",
   "execution_count": 10,
   "metadata": {},
   "outputs": [],
   "source": [
    "# создаем функцию для построения графиков для количественных признаков\n",
    "def quant_feature(dataframe, feature, name, bins):\n",
    "    fig, axes = plt.subplots(nrows=1, ncols=2, figsize=(14,5))\n",
    "    fig.suptitle(name, fontsize=15)\n",
    "    \n",
    "    # построим диаграмму размаха\n",
    "    sns.set_style(\"whitegrid\")\n",
    "    sns.boxplot(ax=axes[0], data = dataframe, y = feature)\n",
    "    axes[0].set_title(f'Диаграмма размаха для признака: {feature}')\n",
    "    axes[0].set_ylabel(f'{feature}')\n",
    "    \n",
    "    # строим гистрограмму\n",
    "    sns.histplot(ax=axes[1], data=dataframe[feature], bins=bins)\n",
    "    axes[1].set_title(f'Распределение значений признака: {feature}')\n",
    "    axes[1].set_xlabel(f'{feature}')\n",
    "    axes[1].set_ylabel('Частоты')\n",
    "    plt.show()"
   ]
  },
  {
   "cell_type": "code",
   "execution_count": 11,
   "metadata": {},
   "outputs": [
    {
     "data": {
      "text/html": [
       "<div>\n",
       "<style scoped>\n",
       "    .dataframe tbody tr th:only-of-type {\n",
       "        vertical-align: middle;\n",
       "    }\n",
       "\n",
       "    .dataframe tbody tr th {\n",
       "        vertical-align: top;\n",
       "    }\n",
       "\n",
       "    .dataframe thead th {\n",
       "        text-align: right;\n",
       "    }\n",
       "</style>\n",
       "<table border=\"1\" class=\"dataframe\">\n",
       "  <thead>\n",
       "    <tr style=\"text-align: right;\">\n",
       "      <th></th>\n",
       "      <th>f0</th>\n",
       "      <th>f1</th>\n",
       "      <th>f2</th>\n",
       "      <th>product</th>\n",
       "    </tr>\n",
       "  </thead>\n",
       "  <tbody>\n",
       "    <tr>\n",
       "      <th>count</th>\n",
       "      <td>100000.000000</td>\n",
       "      <td>100000.000000</td>\n",
       "      <td>100000.000000</td>\n",
       "      <td>100000.000000</td>\n",
       "    </tr>\n",
       "    <tr>\n",
       "      <th>mean</th>\n",
       "      <td>0.500419</td>\n",
       "      <td>0.250143</td>\n",
       "      <td>2.502647</td>\n",
       "      <td>92.500000</td>\n",
       "    </tr>\n",
       "    <tr>\n",
       "      <th>std</th>\n",
       "      <td>0.871832</td>\n",
       "      <td>0.504433</td>\n",
       "      <td>3.248248</td>\n",
       "      <td>44.288691</td>\n",
       "    </tr>\n",
       "    <tr>\n",
       "      <th>min</th>\n",
       "      <td>-1.408605</td>\n",
       "      <td>-0.848218</td>\n",
       "      <td>-12.088328</td>\n",
       "      <td>0.000000</td>\n",
       "    </tr>\n",
       "    <tr>\n",
       "      <th>25%</th>\n",
       "      <td>-0.072580</td>\n",
       "      <td>-0.200881</td>\n",
       "      <td>0.287748</td>\n",
       "      <td>56.497507</td>\n",
       "    </tr>\n",
       "    <tr>\n",
       "      <th>50%</th>\n",
       "      <td>0.502360</td>\n",
       "      <td>0.250252</td>\n",
       "      <td>2.515969</td>\n",
       "      <td>91.849972</td>\n",
       "    </tr>\n",
       "    <tr>\n",
       "      <th>75%</th>\n",
       "      <td>1.073581</td>\n",
       "      <td>0.700646</td>\n",
       "      <td>4.715088</td>\n",
       "      <td>128.564089</td>\n",
       "    </tr>\n",
       "    <tr>\n",
       "      <th>max</th>\n",
       "      <td>2.362331</td>\n",
       "      <td>1.343769</td>\n",
       "      <td>16.003790</td>\n",
       "      <td>185.364347</td>\n",
       "    </tr>\n",
       "  </tbody>\n",
       "</table>\n",
       "</div>"
      ],
      "text/plain": [
       "                  f0             f1             f2        product\n",
       "count  100000.000000  100000.000000  100000.000000  100000.000000\n",
       "mean        0.500419       0.250143       2.502647      92.500000\n",
       "std         0.871832       0.504433       3.248248      44.288691\n",
       "min        -1.408605      -0.848218     -12.088328       0.000000\n",
       "25%        -0.072580      -0.200881       0.287748      56.497507\n",
       "50%         0.502360       0.250252       2.515969      91.849972\n",
       "75%         1.073581       0.700646       4.715088     128.564089\n",
       "max         2.362331       1.343769      16.003790     185.364347"
      ]
     },
     "execution_count": 11,
     "metadata": {},
     "output_type": "execute_result"
    }
   ],
   "source": [
    "# выводим описательную статистику по входным и целевому признакам первого региона\n",
    "data_reg_1.describe()"
   ]
  },
  {
   "cell_type": "code",
   "execution_count": 12,
   "metadata": {},
   "outputs": [
    {
     "data": {
      "text/html": [
       "<div>\n",
       "<style scoped>\n",
       "    .dataframe tbody tr th:only-of-type {\n",
       "        vertical-align: middle;\n",
       "    }\n",
       "\n",
       "    .dataframe tbody tr th {\n",
       "        vertical-align: top;\n",
       "    }\n",
       "\n",
       "    .dataframe thead th {\n",
       "        text-align: right;\n",
       "    }\n",
       "</style>\n",
       "<table border=\"1\" class=\"dataframe\">\n",
       "  <thead>\n",
       "    <tr style=\"text-align: right;\">\n",
       "      <th></th>\n",
       "      <th>f0</th>\n",
       "      <th>f1</th>\n",
       "      <th>f2</th>\n",
       "      <th>product</th>\n",
       "    </tr>\n",
       "  </thead>\n",
       "  <tbody>\n",
       "    <tr>\n",
       "      <th>count</th>\n",
       "      <td>100000.000000</td>\n",
       "      <td>100000.000000</td>\n",
       "      <td>100000.000000</td>\n",
       "      <td>100000.000000</td>\n",
       "    </tr>\n",
       "    <tr>\n",
       "      <th>mean</th>\n",
       "      <td>1.141296</td>\n",
       "      <td>-4.796579</td>\n",
       "      <td>2.494541</td>\n",
       "      <td>68.825000</td>\n",
       "    </tr>\n",
       "    <tr>\n",
       "      <th>std</th>\n",
       "      <td>8.965932</td>\n",
       "      <td>5.119872</td>\n",
       "      <td>1.703572</td>\n",
       "      <td>45.944423</td>\n",
       "    </tr>\n",
       "    <tr>\n",
       "      <th>min</th>\n",
       "      <td>-31.609576</td>\n",
       "      <td>-26.358598</td>\n",
       "      <td>-0.018144</td>\n",
       "      <td>0.000000</td>\n",
       "    </tr>\n",
       "    <tr>\n",
       "      <th>25%</th>\n",
       "      <td>-6.298551</td>\n",
       "      <td>-8.267985</td>\n",
       "      <td>1.000021</td>\n",
       "      <td>26.953261</td>\n",
       "    </tr>\n",
       "    <tr>\n",
       "      <th>50%</th>\n",
       "      <td>1.153055</td>\n",
       "      <td>-4.813172</td>\n",
       "      <td>2.011479</td>\n",
       "      <td>57.085625</td>\n",
       "    </tr>\n",
       "    <tr>\n",
       "      <th>75%</th>\n",
       "      <td>8.621015</td>\n",
       "      <td>-1.332816</td>\n",
       "      <td>3.999904</td>\n",
       "      <td>107.813044</td>\n",
       "    </tr>\n",
       "    <tr>\n",
       "      <th>max</th>\n",
       "      <td>29.421755</td>\n",
       "      <td>18.734063</td>\n",
       "      <td>5.019721</td>\n",
       "      <td>137.945408</td>\n",
       "    </tr>\n",
       "  </tbody>\n",
       "</table>\n",
       "</div>"
      ],
      "text/plain": [
       "                  f0             f1             f2        product\n",
       "count  100000.000000  100000.000000  100000.000000  100000.000000\n",
       "mean        1.141296      -4.796579       2.494541      68.825000\n",
       "std         8.965932       5.119872       1.703572      45.944423\n",
       "min       -31.609576     -26.358598      -0.018144       0.000000\n",
       "25%        -6.298551      -8.267985       1.000021      26.953261\n",
       "50%         1.153055      -4.813172       2.011479      57.085625\n",
       "75%         8.621015      -1.332816       3.999904     107.813044\n",
       "max        29.421755      18.734063       5.019721     137.945408"
      ]
     },
     "execution_count": 12,
     "metadata": {},
     "output_type": "execute_result"
    }
   ],
   "source": [
    "# выводим описательную статистику по входным и целевому признакам второго региона\n",
    "data_reg_2.describe()"
   ]
  },
  {
   "cell_type": "code",
   "execution_count": 13,
   "metadata": {},
   "outputs": [
    {
     "data": {
      "text/html": [
       "<div>\n",
       "<style scoped>\n",
       "    .dataframe tbody tr th:only-of-type {\n",
       "        vertical-align: middle;\n",
       "    }\n",
       "\n",
       "    .dataframe tbody tr th {\n",
       "        vertical-align: top;\n",
       "    }\n",
       "\n",
       "    .dataframe thead th {\n",
       "        text-align: right;\n",
       "    }\n",
       "</style>\n",
       "<table border=\"1\" class=\"dataframe\">\n",
       "  <thead>\n",
       "    <tr style=\"text-align: right;\">\n",
       "      <th></th>\n",
       "      <th>f0</th>\n",
       "      <th>f1</th>\n",
       "      <th>f2</th>\n",
       "      <th>product</th>\n",
       "    </tr>\n",
       "  </thead>\n",
       "  <tbody>\n",
       "    <tr>\n",
       "      <th>count</th>\n",
       "      <td>100000.000000</td>\n",
       "      <td>100000.000000</td>\n",
       "      <td>100000.000000</td>\n",
       "      <td>100000.000000</td>\n",
       "    </tr>\n",
       "    <tr>\n",
       "      <th>mean</th>\n",
       "      <td>0.002023</td>\n",
       "      <td>-0.002081</td>\n",
       "      <td>2.495128</td>\n",
       "      <td>95.000000</td>\n",
       "    </tr>\n",
       "    <tr>\n",
       "      <th>std</th>\n",
       "      <td>1.732045</td>\n",
       "      <td>1.730417</td>\n",
       "      <td>3.473445</td>\n",
       "      <td>44.749921</td>\n",
       "    </tr>\n",
       "    <tr>\n",
       "      <th>min</th>\n",
       "      <td>-8.760004</td>\n",
       "      <td>-7.084020</td>\n",
       "      <td>-11.970335</td>\n",
       "      <td>0.000000</td>\n",
       "    </tr>\n",
       "    <tr>\n",
       "      <th>25%</th>\n",
       "      <td>-1.162288</td>\n",
       "      <td>-1.174820</td>\n",
       "      <td>0.130359</td>\n",
       "      <td>59.450441</td>\n",
       "    </tr>\n",
       "    <tr>\n",
       "      <th>50%</th>\n",
       "      <td>0.009424</td>\n",
       "      <td>-0.009482</td>\n",
       "      <td>2.484236</td>\n",
       "      <td>94.925613</td>\n",
       "    </tr>\n",
       "    <tr>\n",
       "      <th>75%</th>\n",
       "      <td>1.158535</td>\n",
       "      <td>1.163678</td>\n",
       "      <td>4.858794</td>\n",
       "      <td>130.595027</td>\n",
       "    </tr>\n",
       "    <tr>\n",
       "      <th>max</th>\n",
       "      <td>7.238262</td>\n",
       "      <td>7.844801</td>\n",
       "      <td>16.739402</td>\n",
       "      <td>190.029838</td>\n",
       "    </tr>\n",
       "  </tbody>\n",
       "</table>\n",
       "</div>"
      ],
      "text/plain": [
       "                  f0             f1             f2        product\n",
       "count  100000.000000  100000.000000  100000.000000  100000.000000\n",
       "mean        0.002023      -0.002081       2.495128      95.000000\n",
       "std         1.732045       1.730417       3.473445      44.749921\n",
       "min        -8.760004      -7.084020     -11.970335       0.000000\n",
       "25%        -1.162288      -1.174820       0.130359      59.450441\n",
       "50%         0.009424      -0.009482       2.484236      94.925613\n",
       "75%         1.158535       1.163678       4.858794     130.595027\n",
       "max         7.238262       7.844801      16.739402     190.029838"
      ]
     },
     "execution_count": 13,
     "metadata": {},
     "output_type": "execute_result"
    }
   ],
   "source": [
    "# выводим описательную статистику по входным и целевому признакам третьего региона\n",
    "data_reg_3.describe()"
   ]
  },
  {
   "cell_type": "code",
   "execution_count": 14,
   "metadata": {},
   "outputs": [
    {
     "data": {
      "image/png": "[encoded data removed]",
      "text/plain": [
       "<Figure size 1008x360 with 2 Axes>"
      ]
     },
     "metadata": {
      "needs_background": "light"
     },
     "output_type": "display_data"
    }
   ],
   "source": [
    "# выводим графики для признака 'f0' по первому региону\n",
    "quant_feature(dataframe=data_reg_1, feature='f0',\n",
    "              name='Признак f0 по первому региону', bins=20)"
   ]
  },
  {
   "cell_type": "code",
   "execution_count": 15,
   "metadata": {},
   "outputs": [
    {
     "data": {
      "image/png": "[encoded data removed]",
      "text/plain": [
       "<Figure size 1008x360 with 2 Axes>"
      ]
     },
     "metadata": {},
     "output_type": "display_data"
    }
   ],
   "source": [
    "# выводим графики для признака 'f0' по второму региону\n",
    "quant_feature(dataframe=data_reg_2, feature='f0',\n",
    "              name='Признак f0 по второму региону', bins=20)"
   ]
  },
  {
   "cell_type": "code",
   "execution_count": 16,
   "metadata": {},
   "outputs": [
    {
     "data": {
      "image/png": "[encoded data removed]",
      "text/plain": [
       "<Figure size 1008x360 with 2 Axes>"
      ]
     },
     "metadata": {},
     "output_type": "display_data"
    }
   ],
   "source": [
    "# выводим графики для признака 'f0' по третьему региону\n",
    "quant_feature(dataframe=data_reg_3, feature='f0',\n",
    "              name='Признак f0 по третьему региону', bins=20)"
   ]
  },
  {
   "cell_type": "code",
   "execution_count": 17,
   "metadata": {},
   "outputs": [
    {
     "data": {
      "image/png": "[encoded data removed]",
      "text/plain": [
       "<Figure size 1008x360 with 2 Axes>"
      ]
     },
     "metadata": {},
     "output_type": "display_data"
    }
   ],
   "source": [
    "# выводим графики для признака 'f1' по первому региону\n",
    "quant_feature(dataframe=data_reg_1, feature='f1',\n",
    "              name='Признак f1 по первому региону', bins=20)"
   ]
  },
  {
   "cell_type": "code",
   "execution_count": 18,
   "metadata": {},
   "outputs": [
    {
     "data": {
      "image/png": "[encoded data removed]",
      "text/plain": [
       "<Figure size 1008x360 with 2 Axes>"
      ]
     },
     "metadata": {},
     "output_type": "display_data"
    }
   ],
   "source": [
    "# выводим графики для признака 'f1' по второму региону\n",
    "quant_feature(dataframe=data_reg_2, feature='f1',\n",
    "              name='Признак f1 по второму региону', bins=18)"
   ]
  },
  {
   "cell_type": "code",
   "execution_count": 19,
   "metadata": {},
   "outputs": [
    {
     "data": {
      "image/png": "[encoded data removed]",
      "text/plain": [
       "<Figure size 1008x360 with 2 Axes>"
      ]
     },
     "metadata": {},
     "output_type": "display_data"
    }
   ],
   "source": [
    "# выводим графики для признака 'f1' по третьему региону\n",
    "quant_feature(dataframe=data_reg_3, feature='f1',\n",
    "              name='Признак f1 по третьему региону', bins=18)"
   ]
  },
  {
   "cell_type": "code",
   "execution_count": 20,
   "metadata": {},
   "outputs": [
    {
     "data": {
      "image/png": "[encoded data removed]",
      "text/plain": [
       "<Figure size 1008x360 with 2 Axes>"
      ]
     },
     "metadata": {},
     "output_type": "display_data"
    }
   ],
   "source": [
    "# выводим графики для признака 'f2' по первому региону\n",
    "quant_feature(dataframe=data_reg_1, feature='f2',\n",
    "              name='Признак f2 по первому региону', bins=18)"
   ]
  },
  {
   "cell_type": "code",
   "execution_count": 21,
   "metadata": {},
   "outputs": [
    {
     "data": {
      "image/png": "[encoded data removed]",
      "text/plain": [
       "<Figure size 1008x360 with 2 Axes>"
      ]
     },
     "metadata": {},
     "output_type": "display_data"
    }
   ],
   "source": [
    "# выводим графики для признака 'f2' по второму региону\n",
    "quant_feature(dataframe=data_reg_2, feature='f2',\n",
    "              name='Признак f2 по второму региону', bins=10)"
   ]
  },
  {
   "cell_type": "code",
   "execution_count": 22,
   "metadata": {},
   "outputs": [
    {
     "data": {
      "image/png": "[encoded data removed]",
      "text/plain": [
       "<Figure size 1008x360 with 2 Axes>"
      ]
     },
     "metadata": {},
     "output_type": "display_data"
    }
   ],
   "source": [
    "# выводим графики для признака 'f2' по третьему региону\n",
    "quant_feature(dataframe=data_reg_3, feature='f2',\n",
    "              name='Признак f2 данных по третьему региону', bins=18)"
   ]
  },
  {
   "cell_type": "code",
   "execution_count": 23,
   "metadata": {},
   "outputs": [
    {
     "data": {
      "image/png": "[encoded data removed]",
      "text/plain": [
       "<Figure size 1008x360 with 2 Axes>"
      ]
     },
     "metadata": {},
     "output_type": "display_data"
    }
   ],
   "source": [
    "# выводим графики для целевого признака 'product' по первому региону\n",
    "quant_feature(dataframe=data_reg_1, feature='product',\n",
    "              name='Целевой признак \"объем запасов в скважине\" для первого региона', bins=20)"
   ]
  },
  {
   "cell_type": "code",
   "execution_count": 24,
   "metadata": {},
   "outputs": [
    {
     "data": {
      "image/png": "[encoded data removed]",
      "text/plain": [
       "<Figure size 1008x360 with 2 Axes>"
      ]
     },
     "metadata": {},
     "output_type": "display_data"
    }
   ],
   "source": [
    "# выводим графики для целевого признака 'product' по второму региону\n",
    "quant_feature(dataframe=data_reg_2, feature='product',\n",
    "              name='Целевой признак \"объем запасов в скважине\" для второго региона', bins=10)"
   ]
  },
  {
   "cell_type": "code",
   "execution_count": 25,
   "metadata": {},
   "outputs": [
    {
     "data": {
      "image/png": "[encoded data removed]",
      "text/plain": [
       "<Figure size 1008x360 with 2 Axes>"
      ]
     },
     "metadata": {},
     "output_type": "display_data"
    }
   ],
   "source": [
    "# выводим графики для целевого признака 'product' по третьему региону\n",
    "quant_feature(dataframe=data_reg_3, feature='product',\n",
    "              name='Целевой признак \"объем запасов в скважине\" для третьего региона', bins=20)"
   ]
  },
  {
   "cell_type": "code",
   "execution_count": 26,
   "metadata": {},
   "outputs": [
    {
     "data": {
      "image/png": "[encoded data removed]",
      "text/plain": [
       "<Figure size 1152x360 with 6 Axes>"
      ]
     },
     "metadata": {},
     "output_type": "display_data"
    }
   ],
   "source": [
    "# выводим корреляционные матрицы для всех признаков по трём регионам\n",
    "fig, axes = plt.subplots(nrows=1, ncols=3, figsize=(16,5))\n",
    "# для первого региона    \n",
    "sns.heatmap(ax=axes[0], data=data_reg_1.corr('pearson'), annot=True, fmt='.2f', cmap='coolwarm')\n",
    "axes[0].set_title('Матрица корреляции между признаками\\n данных геологоразведки первого региона\\n',\n",
    "                  fontsize=11)\n",
    "# для второго региона\n",
    "sns.heatmap(ax=axes[1], data=data_reg_2.corr('pearson'), annot=True, fmt='.2f', cmap='coolwarm')\n",
    "axes[1].set_title('Матрица корреляции между признаками\\n данных геологоразведки второго региона\\n',\n",
    "                  fontsize=11)\n",
    "# для третьего региона\n",
    "sns.heatmap(ax=axes[2], data=data_reg_3.corr('pearson'), annot=True, fmt='.2f', cmap='coolwarm')\n",
    "axes[2].set_title('Матрица корреляции между признаками\\n данных геологоразведки третьего региона\\n',\n",
    "                  fontsize=11)\n",
    "plt.show()\n"
   ]
  },
  {
   "cell_type": "markdown",
   "metadata": {},
   "source": [
    "**Выводы:**\n",
    "\n",
    "Мы выгрузили данные по 3-м регионам и сохранили их в 3-х разных датафреймах, использовав значения столбцца 'id' в качестве индекса. Мы вывели общую информацию и первые строки датафреймов, убедились, что в данных нет пропусков и что тип данных для всех столбцов задан правильно. После этого мы проверили наличие явных дубликатов в 3-х датафреймах, дубликатов в данных не обнаружено. После подготовки данных мы также провели исследовательский анализ данных. Мы вывели описательную статистику по входным и целевому признакам и построили для каждого признака диаграмму размаха и гистограмму, т.к. все данные у нас представляют собой непрерывные количественные величины. Мы видим незначительные выбросы по признакам 'f0' и 'f1' для второго и третьего регионам, по признаку 'f2' для первого и тертьего регионам. Эти выбросы не являются аномалиями и не должны сказаться на качестве прогнозной модели. Признак 'f0' имеет нормальное распределение по третьему региону, признак 'f1' нормально распределен по второму и тертьему региону, для признака 'f2' наблюдается нормальное распределение по первому и третьему региону. Распределение целевого признака 'product' отличается от нормального для всех регионов. \n",
    "\n",
    "В заключении мы провели корееляционный анализ для всех  входных и целевого признаков, которые планируем использовать в моделировании. Для вывода корреляционной матрицы для данных по каждому региону мы использовали коэффициент корреляции Пирсона, с помощью которого можно оценивать линейные взаимосвязи (посольку мы будем строить прогнозв по модели линейной регрессии). Для первого региона мы наблюдаем умеренную свзь целевого признака с признаком 'f2' (коэффициент 0.48) и слабую корреляцию с признаками 'f0' и 'f1'. По второму регону мы видим очень сильную корреляционную связь целевого признака с признаком 'f2' (коэффициент равен 1) и очень слабую корреляцию между целевым признаком и признаками 'f0' и 'f1' (коэффициенты близки к 0). По третьему регону мы видим умеренную корреляционную связь целевого признака с признаком 'f2' (коэффициент равен 0.45) и очень слабую корреляцию между целевым признаком и признаками  'f0' и 'f1' (коэффициенты практически равны 0). Для каждого из 3-х регионов мы видим, что мультиколлениарность между входными признаками отсутствует."
   ]
  },
  {
   "cell_type": "markdown",
   "metadata": {},
   "source": [
    "## Обучение и проверка модели"
   ]
  },
  {
   "cell_type": "code",
   "execution_count": 27,
   "metadata": {},
   "outputs": [],
   "source": [
    "# объединяем датафреймы по 3-м регионам в список для работы в цикле\n",
    "list_of_regions = [data_reg_1, data_reg_2, data_reg_3]"
   ]
  },
  {
   "cell_type": "code",
   "execution_count": 28,
   "metadata": {},
   "outputs": [
    {
     "name": "stdout",
     "output_type": "stream",
     "text": [
      "Средний запас предсказанного сырья для 1-го региона: 92.4\n",
      "Среднеквадратичная ошибка модели для 1-го региона: 37.76\n",
      "  \n",
      "Средний запас предсказанного сырья для 2-го региона: 68.71\n",
      "Среднеквадратичная ошибка модели для 2-го региона: 0.89\n",
      "  \n",
      "Средний запас предсказанного сырья для 3-го региона: 94.77\n",
      "Среднеквадратичная ошибка модели для 3-го региона: 40.15\n",
      "  \n"
     ]
    }
   ],
   "source": [
    "# чтобы избежать копирования при выполнении вычислений по каждому региону будем выполнять все шаги через цикл\n",
    "for i, region in enumerate(list_of_regions):\n",
    "    # определяем входные и целевой признаки\n",
    "    X = region.drop('product', axis=1)\n",
    "    y = region['product']\n",
    "    # разделяем данные на тренировочную и тестовую выборку\n",
    "    X_train, X_test, y_train, y_test = train_test_split(X, y, \n",
    "                                                    test_size = TEST_SIZE,\n",
    "                                                    random_state = RANDOM_STATE)\n",
    "    # применяем модель линейной регресии для прогноза значений запаса сырья на тестовой выборке, считаем среднеквадратичную ошибку\n",
    "    model = LinearRegression()\n",
    "    model.fit(X_train, y_train)\n",
    "    y_pred = model.predict(X_test)\n",
    "    rmse = mean_squared_error(y_test, y_pred, squared=False)   \n",
    "    print(f'Средний запас предсказанного сырья для {i+1}-го региона:', round(y_pred.mean(), 2))\n",
    "    print(f'Среднеквадратичная ошибка модели для {i+1}-го региона:', round(rmse, 2))\n",
    "    print('  ')"
   ]
  },
  {
   "cell_type": "markdown",
   "metadata": {},
   "source": [
    "**Мы видим, что модель для первого и третьего регионов имеет сравнительно низкую точность. Попроубем добавить полиномизацию входных признаков для улучшения модели.**"
   ]
  },
  {
   "cell_type": "code",
   "execution_count": 30,
   "metadata": {},
   "outputs": [
    {
     "name": "stdout",
     "output_type": "stream",
     "text": [
      "\u001b[1mСредний запас предсказанного сырья для 1-го региона: 92.4\n",
      "Среднеквадратичная ошибка модели для 1-го региона: 37.33\n",
      "Значение метрики RMSE для модели DummyRegressor на тестовой выборке по 1-му региону: 44.28\n",
      " \u001b[0;0m\n",
      "\u001b[1mСредний запас предсказанного сырья для 2-го региона: 68.71\n",
      "Среднеквадратичная ошибка модели для 2-го региона: 0.89\n",
      "Значение метрики RMSE для модели DummyRegressor на тестовой выборке по 2-му региону: 47.4\n",
      " \u001b[0;0m\n",
      "\u001b[1mСредний запас предсказанного сырья для 3-го региона: 94.77\n",
      "Среднеквадратичная ошибка модели для 3-го региона: 38.29\n",
      "Значение метрики RMSE для модели DummyRegressor на тестовой выборке по 3-му региону: 44.78\n",
      " \u001b[0;0m\n"
     ]
    }
   ],
   "source": [
    "for i, region in enumerate(list_of_regions):\n",
    "    # определяем входные и целевой признаки\n",
    "    X = region.drop('product', axis=1)\n",
    "    y = region['product']\n",
    "    # разделяем данные на тренировочную и тестовую выборку\n",
    "    X_train, X_test, y_train, y_test = train_test_split(X, y, \n",
    "                                                    test_size = TEST_SIZE,\n",
    "                                                    random_state = RANDOM_STATE)\n",
    "    # применяем модель линейной регресии для прогноза значений запаса сырья на тестовой выборке, считаем среднеквадратичную ошибку\n",
    "    model = LinearRegression()\n",
    "    model.fit(X_train, y_train)\n",
    "    y_pred = model.predict(X_test)\n",
    "    rmse = mean_squared_error(y_test, y_pred, squared=False)\n",
    "    if rmse > 37:\n",
    "        # применяем полиномизацию признаков\n",
    "        poly_features = PolynomialFeatures(degree=4)\n",
    "        X_train = poly_features.fit_transform(X_train)\n",
    "        X_test = poly_features.transform(X_test)\n",
    "        # обучаем и применяем модель линейной регрессии к трансформированным признакам для прогноза целевого признака по тестовой выборке\n",
    "        # считаем среднеквадратичную ошибку\n",
    "        model.fit(X_train, y_train)\n",
    "        y_pred_poly = model.predict(X_test)\n",
    "        rmse = mean_squared_error(y_test, y_pred_poly, squared=False)\n",
    "        X = poly_features.fit_transform(X)\n",
    "    print(\"\\033[1m\"+f'Средний запас предсказанного сырья для {i+1}-го региона:',\n",
    "          round(y_pred.mean(), 2))\n",
    "    print(f'Среднеквадратичная ошибка модели для {i+1}-го региона:', round(rmse, 2))\n",
    "    \n",
    "    # проверим модель на адекватность, сравнив качество её предсказаний с качеством предсказаний модели DummyRegressor(strategy=\"median\")\n",
    "    dummy_model = DummyRegressor(strategy=\"median\")\n",
    "    dummy_model.fit(X_train, y_train)\n",
    "    y_pred_dummy = dummy_model.predict(X_test)\n",
    "    rmse_dummy = mean_squared_error(y_test, y_pred_dummy, squared=False)\n",
    "    print(f'Значение метрики RMSE для модели DummyRegressor на тестовой выборке по {i+1}-му региону:',\n",
    "          round(rmse_dummy, 2))\n",
    "    print(' '+\"\\033[0;0m\")\n",
    "    \n",
    "    # используем обученную ранее модель для прогноза целевого признака для полной выборки по региону и добавляем полученные прогнозные значения в датафрейм\n",
    "    y_pred_full = model.predict(X)\n",
    "    region = region.reset_index()\n",
    "    region['forecast_product'] = pd.Series(y_pred_full)\n",
    "    list_of_regions[i] = region"
   ]
  },
  {
   "cell_type": "code",
   "execution_count": 31,
   "metadata": {},
   "outputs": [
    {
     "name": "stdout",
     "output_type": "stream",
     "text": [
      "\u001b[1mДатафрейм с прогнозными значениями запасов нефти по первому региону:\u001b[0;0m\n"
     ]
    },
    {
     "data": {
      "text/html": [
       "<div>\n",
       "<style scoped>\n",
       "    .dataframe tbody tr th:only-of-type {\n",
       "        vertical-align: middle;\n",
       "    }\n",
       "\n",
       "    .dataframe tbody tr th {\n",
       "        vertical-align: top;\n",
       "    }\n",
       "\n",
       "    .dataframe thead th {\n",
       "        text-align: right;\n",
       "    }\n",
       "</style>\n",
       "<table border=\"1\" class=\"dataframe\">\n",
       "  <thead>\n",
       "    <tr style=\"text-align: right;\">\n",
       "      <th></th>\n",
       "      <th>id</th>\n",
       "      <th>f0</th>\n",
       "      <th>f1</th>\n",
       "      <th>f2</th>\n",
       "      <th>product</th>\n",
       "      <th>forecast_product</th>\n",
       "    </tr>\n",
       "  </thead>\n",
       "  <tbody>\n",
       "    <tr>\n",
       "      <th>0</th>\n",
       "      <td>txEyH</td>\n",
       "      <td>0.705745</td>\n",
       "      <td>-0.497823</td>\n",
       "      <td>1.221170</td>\n",
       "      <td>105.280062</td>\n",
       "      <td>94.095686</td>\n",
       "    </tr>\n",
       "    <tr>\n",
       "      <th>1</th>\n",
       "      <td>2acmU</td>\n",
       "      <td>1.334711</td>\n",
       "      <td>-0.340164</td>\n",
       "      <td>4.365080</td>\n",
       "      <td>73.037750</td>\n",
       "      <td>114.672102</td>\n",
       "    </tr>\n",
       "    <tr>\n",
       "      <th>2</th>\n",
       "      <td>409Wp</td>\n",
       "      <td>1.022732</td>\n",
       "      <td>0.151990</td>\n",
       "      <td>1.419926</td>\n",
       "      <td>85.265647</td>\n",
       "      <td>80.876105</td>\n",
       "    </tr>\n",
       "    <tr>\n",
       "      <th>3</th>\n",
       "      <td>iJLyR</td>\n",
       "      <td>-0.032172</td>\n",
       "      <td>0.139033</td>\n",
       "      <td>2.978566</td>\n",
       "      <td>168.620776</td>\n",
       "      <td>104.368563</td>\n",
       "    </tr>\n",
       "    <tr>\n",
       "      <th>4</th>\n",
       "      <td>Xdl7t</td>\n",
       "      <td>1.988431</td>\n",
       "      <td>0.155413</td>\n",
       "      <td>4.751769</td>\n",
       "      <td>154.036647</td>\n",
       "      <td>121.024047</td>\n",
       "    </tr>\n",
       "    <tr>\n",
       "      <th>...</th>\n",
       "      <td>...</td>\n",
       "      <td>...</td>\n",
       "      <td>...</td>\n",
       "      <td>...</td>\n",
       "      <td>...</td>\n",
       "      <td>...</td>\n",
       "    </tr>\n",
       "    <tr>\n",
       "      <th>99995</th>\n",
       "      <td>DLsed</td>\n",
       "      <td>0.971957</td>\n",
       "      <td>0.370953</td>\n",
       "      <td>6.075346</td>\n",
       "      <td>110.744026</td>\n",
       "      <td>108.660132</td>\n",
       "    </tr>\n",
       "    <tr>\n",
       "      <th>99996</th>\n",
       "      <td>QKivN</td>\n",
       "      <td>1.392429</td>\n",
       "      <td>-0.382606</td>\n",
       "      <td>1.273912</td>\n",
       "      <td>122.346843</td>\n",
       "      <td>93.390128</td>\n",
       "    </tr>\n",
       "    <tr>\n",
       "      <th>99997</th>\n",
       "      <td>3rnvd</td>\n",
       "      <td>1.029585</td>\n",
       "      <td>0.018787</td>\n",
       "      <td>-1.348308</td>\n",
       "      <td>64.375443</td>\n",
       "      <td>65.696877</td>\n",
       "    </tr>\n",
       "    <tr>\n",
       "      <th>99998</th>\n",
       "      <td>7kl59</td>\n",
       "      <td>0.998163</td>\n",
       "      <td>-0.528582</td>\n",
       "      <td>1.583869</td>\n",
       "      <td>74.040764</td>\n",
       "      <td>96.298342</td>\n",
       "    </tr>\n",
       "    <tr>\n",
       "      <th>99999</th>\n",
       "      <td>1CWhH</td>\n",
       "      <td>1.764754</td>\n",
       "      <td>-0.266417</td>\n",
       "      <td>5.722849</td>\n",
       "      <td>149.633246</td>\n",
       "      <td>129.459443</td>\n",
       "    </tr>\n",
       "  </tbody>\n",
       "</table>\n",
       "<p>100000 rows × 6 columns</p>\n",
       "</div>"
      ],
      "text/plain": [
       "          id        f0        f1        f2     product  forecast_product\n",
       "0      txEyH  0.705745 -0.497823  1.221170  105.280062         94.095686\n",
       "1      2acmU  1.334711 -0.340164  4.365080   73.037750        114.672102\n",
       "2      409Wp  1.022732  0.151990  1.419926   85.265647         80.876105\n",
       "3      iJLyR -0.032172  0.139033  2.978566  168.620776        104.368563\n",
       "4      Xdl7t  1.988431  0.155413  4.751769  154.036647        121.024047\n",
       "...      ...       ...       ...       ...         ...               ...\n",
       "99995  DLsed  0.971957  0.370953  6.075346  110.744026        108.660132\n",
       "99996  QKivN  1.392429 -0.382606  1.273912  122.346843         93.390128\n",
       "99997  3rnvd  1.029585  0.018787 -1.348308   64.375443         65.696877\n",
       "99998  7kl59  0.998163 -0.528582  1.583869   74.040764         96.298342\n",
       "99999  1CWhH  1.764754 -0.266417  5.722849  149.633246        129.459443\n",
       "\n",
       "[100000 rows x 6 columns]"
      ]
     },
     "metadata": {},
     "output_type": "display_data"
    },
    {
     "name": "stdout",
     "output_type": "stream",
     "text": [
      "\u001b[1mДатафрейм с прогнозными значениями запасов нефти по второму региону:\u001b[0;0m\n"
     ]
    },
    {
     "data": {
      "text/html": [
       "<div>\n",
       "<style scoped>\n",
       "    .dataframe tbody tr th:only-of-type {\n",
       "        vertical-align: middle;\n",
       "    }\n",
       "\n",
       "    .dataframe tbody tr th {\n",
       "        vertical-align: top;\n",
       "    }\n",
       "\n",
       "    .dataframe thead th {\n",
       "        text-align: right;\n",
       "    }\n",
       "</style>\n",
       "<table border=\"1\" class=\"dataframe\">\n",
       "  <thead>\n",
       "    <tr style=\"text-align: right;\">\n",
       "      <th></th>\n",
       "      <th>id</th>\n",
       "      <th>f0</th>\n",
       "      <th>f1</th>\n",
       "      <th>f2</th>\n",
       "      <th>product</th>\n",
       "      <th>forecast_product</th>\n",
       "    </tr>\n",
       "  </thead>\n",
       "  <tbody>\n",
       "    <tr>\n",
       "      <th>0</th>\n",
       "      <td>kBEdx</td>\n",
       "      <td>-15.001348</td>\n",
       "      <td>-8.276000</td>\n",
       "      <td>-0.005876</td>\n",
       "      <td>3.179103</td>\n",
       "      <td>3.842537</td>\n",
       "    </tr>\n",
       "    <tr>\n",
       "      <th>1</th>\n",
       "      <td>62mP7</td>\n",
       "      <td>14.272088</td>\n",
       "      <td>-3.475083</td>\n",
       "      <td>0.999183</td>\n",
       "      <td>26.953261</td>\n",
       "      <td>26.585852</td>\n",
       "    </tr>\n",
       "    <tr>\n",
       "      <th>2</th>\n",
       "      <td>vyE1P</td>\n",
       "      <td>6.263187</td>\n",
       "      <td>-5.948386</td>\n",
       "      <td>5.001160</td>\n",
       "      <td>134.766305</td>\n",
       "      <td>135.665780</td>\n",
       "    </tr>\n",
       "    <tr>\n",
       "      <th>3</th>\n",
       "      <td>KcrkZ</td>\n",
       "      <td>-13.081196</td>\n",
       "      <td>-11.506057</td>\n",
       "      <td>4.999415</td>\n",
       "      <td>137.945408</td>\n",
       "      <td>138.542435</td>\n",
       "    </tr>\n",
       "    <tr>\n",
       "      <th>4</th>\n",
       "      <td>AHL4O</td>\n",
       "      <td>12.702195</td>\n",
       "      <td>-8.147433</td>\n",
       "      <td>5.004363</td>\n",
       "      <td>134.766305</td>\n",
       "      <td>134.866656</td>\n",
       "    </tr>\n",
       "    <tr>\n",
       "      <th>...</th>\n",
       "      <td>...</td>\n",
       "      <td>...</td>\n",
       "      <td>...</td>\n",
       "      <td>...</td>\n",
       "      <td>...</td>\n",
       "      <td>...</td>\n",
       "    </tr>\n",
       "    <tr>\n",
       "      <th>99995</th>\n",
       "      <td>QywKC</td>\n",
       "      <td>9.535637</td>\n",
       "      <td>-6.878139</td>\n",
       "      <td>1.998296</td>\n",
       "      <td>53.906522</td>\n",
       "      <td>54.275193</td>\n",
       "    </tr>\n",
       "    <tr>\n",
       "      <th>99996</th>\n",
       "      <td>ptvty</td>\n",
       "      <td>-10.160631</td>\n",
       "      <td>-12.558096</td>\n",
       "      <td>5.005581</td>\n",
       "      <td>137.945408</td>\n",
       "      <td>138.308191</td>\n",
       "    </tr>\n",
       "    <tr>\n",
       "      <th>99997</th>\n",
       "      <td>09gWa</td>\n",
       "      <td>-7.378891</td>\n",
       "      <td>-3.084104</td>\n",
       "      <td>4.998651</td>\n",
       "      <td>137.945408</td>\n",
       "      <td>137.512981</td>\n",
       "    </tr>\n",
       "    <tr>\n",
       "      <th>99998</th>\n",
       "      <td>rqwUm</td>\n",
       "      <td>0.665714</td>\n",
       "      <td>-6.152593</td>\n",
       "      <td>1.000146</td>\n",
       "      <td>30.132364</td>\n",
       "      <td>28.641590</td>\n",
       "    </tr>\n",
       "    <tr>\n",
       "      <th>99999</th>\n",
       "      <td>relB0</td>\n",
       "      <td>-3.426139</td>\n",
       "      <td>-7.794274</td>\n",
       "      <td>-0.003299</td>\n",
       "      <td>3.179103</td>\n",
       "      <td>2.224171</td>\n",
       "    </tr>\n",
       "  </tbody>\n",
       "</table>\n",
       "<p>100000 rows × 6 columns</p>\n",
       "</div>"
      ],
      "text/plain": [
       "          id         f0         f1        f2     product  forecast_product\n",
       "0      kBEdx -15.001348  -8.276000 -0.005876    3.179103          3.842537\n",
       "1      62mP7  14.272088  -3.475083  0.999183   26.953261         26.585852\n",
       "2      vyE1P   6.263187  -5.948386  5.001160  134.766305        135.665780\n",
       "3      KcrkZ -13.081196 -11.506057  4.999415  137.945408        138.542435\n",
       "4      AHL4O  12.702195  -8.147433  5.004363  134.766305        134.866656\n",
       "...      ...        ...        ...       ...         ...               ...\n",
       "99995  QywKC   9.535637  -6.878139  1.998296   53.906522         54.275193\n",
       "99996  ptvty -10.160631 -12.558096  5.005581  137.945408        138.308191\n",
       "99997  09gWa  -7.378891  -3.084104  4.998651  137.945408        137.512981\n",
       "99998  rqwUm   0.665714  -6.152593  1.000146   30.132364         28.641590\n",
       "99999  relB0  -3.426139  -7.794274 -0.003299    3.179103          2.224171\n",
       "\n",
       "[100000 rows x 6 columns]"
      ]
     },
     "metadata": {},
     "output_type": "display_data"
    },
    {
     "name": "stdout",
     "output_type": "stream",
     "text": [
      "\u001b[1mДатафрейм с прогнозными значениями запасов нефти по третьему региону:\u001b[0;0m\n"
     ]
    },
    {
     "data": {
      "text/html": [
       "<div>\n",
       "<style scoped>\n",
       "    .dataframe tbody tr th:only-of-type {\n",
       "        vertical-align: middle;\n",
       "    }\n",
       "\n",
       "    .dataframe tbody tr th {\n",
       "        vertical-align: top;\n",
       "    }\n",
       "\n",
       "    .dataframe thead th {\n",
       "        text-align: right;\n",
       "    }\n",
       "</style>\n",
       "<table border=\"1\" class=\"dataframe\">\n",
       "  <thead>\n",
       "    <tr style=\"text-align: right;\">\n",
       "      <th></th>\n",
       "      <th>id</th>\n",
       "      <th>f0</th>\n",
       "      <th>f1</th>\n",
       "      <th>f2</th>\n",
       "      <th>product</th>\n",
       "      <th>forecast_product</th>\n",
       "    </tr>\n",
       "  </thead>\n",
       "  <tbody>\n",
       "    <tr>\n",
       "      <th>0</th>\n",
       "      <td>fwXo0</td>\n",
       "      <td>-1.146987</td>\n",
       "      <td>0.963328</td>\n",
       "      <td>-0.828965</td>\n",
       "      <td>27.758673</td>\n",
       "      <td>65.238760</td>\n",
       "    </tr>\n",
       "    <tr>\n",
       "      <th>1</th>\n",
       "      <td>WJtFt</td>\n",
       "      <td>0.262778</td>\n",
       "      <td>0.269839</td>\n",
       "      <td>-2.530187</td>\n",
       "      <td>56.069697</td>\n",
       "      <td>48.429616</td>\n",
       "    </tr>\n",
       "    <tr>\n",
       "      <th>2</th>\n",
       "      <td>ovLUW</td>\n",
       "      <td>0.194587</td>\n",
       "      <td>0.289035</td>\n",
       "      <td>-5.586433</td>\n",
       "      <td>62.871910</td>\n",
       "      <td>36.809170</td>\n",
       "    </tr>\n",
       "    <tr>\n",
       "      <th>3</th>\n",
       "      <td>q6cA6</td>\n",
       "      <td>2.236060</td>\n",
       "      <td>-0.553760</td>\n",
       "      <td>0.930038</td>\n",
       "      <td>114.572842</td>\n",
       "      <td>85.520888</td>\n",
       "    </tr>\n",
       "    <tr>\n",
       "      <th>4</th>\n",
       "      <td>WPMUX</td>\n",
       "      <td>-0.515993</td>\n",
       "      <td>1.716266</td>\n",
       "      <td>5.899011</td>\n",
       "      <td>149.600746</td>\n",
       "      <td>111.889043</td>\n",
       "    </tr>\n",
       "    <tr>\n",
       "      <th>...</th>\n",
       "      <td>...</td>\n",
       "      <td>...</td>\n",
       "      <td>...</td>\n",
       "      <td>...</td>\n",
       "      <td>...</td>\n",
       "      <td>...</td>\n",
       "    </tr>\n",
       "    <tr>\n",
       "      <th>99995</th>\n",
       "      <td>4GxBu</td>\n",
       "      <td>-1.777037</td>\n",
       "      <td>1.125220</td>\n",
       "      <td>6.263374</td>\n",
       "      <td>172.327046</td>\n",
       "      <td>117.306748</td>\n",
       "    </tr>\n",
       "    <tr>\n",
       "      <th>99996</th>\n",
       "      <td>YKFjq</td>\n",
       "      <td>-1.261523</td>\n",
       "      <td>-0.894828</td>\n",
       "      <td>2.524545</td>\n",
       "      <td>138.748846</td>\n",
       "      <td>87.334604</td>\n",
       "    </tr>\n",
       "    <tr>\n",
       "      <th>99997</th>\n",
       "      <td>tKPY3</td>\n",
       "      <td>-1.199934</td>\n",
       "      <td>-2.957637</td>\n",
       "      <td>5.219411</td>\n",
       "      <td>157.080080</td>\n",
       "      <td>125.391717</td>\n",
       "    </tr>\n",
       "    <tr>\n",
       "      <th>99998</th>\n",
       "      <td>nmxp2</td>\n",
       "      <td>-2.419896</td>\n",
       "      <td>2.417221</td>\n",
       "      <td>-5.548444</td>\n",
       "      <td>51.795253</td>\n",
       "      <td>69.732437</td>\n",
       "    </tr>\n",
       "    <tr>\n",
       "      <th>99999</th>\n",
       "      <td>V9kWn</td>\n",
       "      <td>-2.551421</td>\n",
       "      <td>-2.025625</td>\n",
       "      <td>6.090891</td>\n",
       "      <td>102.775767</td>\n",
       "      <td>129.781597</td>\n",
       "    </tr>\n",
       "  </tbody>\n",
       "</table>\n",
       "<p>100000 rows × 6 columns</p>\n",
       "</div>"
      ],
      "text/plain": [
       "          id        f0        f1        f2     product  forecast_product\n",
       "0      fwXo0 -1.146987  0.963328 -0.828965   27.758673         65.238760\n",
       "1      WJtFt  0.262778  0.269839 -2.530187   56.069697         48.429616\n",
       "2      ovLUW  0.194587  0.289035 -5.586433   62.871910         36.809170\n",
       "3      q6cA6  2.236060 -0.553760  0.930038  114.572842         85.520888\n",
       "4      WPMUX -0.515993  1.716266  5.899011  149.600746        111.889043\n",
       "...      ...       ...       ...       ...         ...               ...\n",
       "99995  4GxBu -1.777037  1.125220  6.263374  172.327046        117.306748\n",
       "99996  YKFjq -1.261523 -0.894828  2.524545  138.748846         87.334604\n",
       "99997  tKPY3 -1.199934 -2.957637  5.219411  157.080080        125.391717\n",
       "99998  nmxp2 -2.419896  2.417221 -5.548444   51.795253         69.732437\n",
       "99999  V9kWn -2.551421 -2.025625  6.090891  102.775767        129.781597\n",
       "\n",
       "[100000 rows x 6 columns]"
      ]
     },
     "metadata": {},
     "output_type": "display_data"
    }
   ],
   "source": [
    "data_reg_1 = list_of_regions[0]\n",
    "data_reg_2 = list_of_regions[1]\n",
    "data_reg_3 = list_of_regions[2]\n",
    "print(\"\\033[1m\"+'Датафрейм с прогнозными значениями запасов нефти по первому региону:'+\"\\033[0;0m\")\n",
    "display(data_reg_1)\n",
    "print(\"\\033[1m\"+'Датафрейм с прогнозными значениями запасов нефти по второму региону:'+\"\\033[0;0m\")\n",
    "display(data_reg_2)\n",
    "print(\"\\033[1m\"+'Датафрейм с прогнозными значениями запасов нефти по третьему региону:'+\"\\033[0;0m\")\n",
    "display(data_reg_3)"
   ]
  },
  {
   "cell_type": "markdown",
   "metadata": {},
   "source": [
    "**Выводы:** Мы последовательно обучили и применили модели линейной регрессии для каждого из 3-х регионов. Мы не применяли мастабирования данных, так как на предыдущем шаге убедилиись, что значения всех признаков представлены в соспоставтимых шкалах. По первому и третьему регионам прогнозные модели дали нам неоень качественные прогнозы, при средних прогнозных значениях по объему сырья в скважине в пределах 92.4 - 94.8 тысяч баррелей средняя квадратичная ошибка (rmse)  составила 37.76 и 40.15. Поэтому мы решили попробовать применить полиномизацию входных признаков (использовали степень полиномизации 4). Полиномизация позволила несколько улучшить прогностическое качество модели, особенно для третьего региона. После полиномизации входных признаков средняя квадратичная ошибка для первого региона составила 37.33, а для третьего региона - 38.29. Поэтоу для дальнейшей работы с данными по первому и третьему регионам мы используем прогнозы, полученные на моделях линейной регрессии с применением полниномизации входных признаков. При выбранной степени полиномизации и заданном кол-ве данных модели работают сравнительно быстро. По второму региону мы также применили модель линейной регресии для прогнозирования объема сырья в скважинах. По второму региону мы получили очень хорошие прогнозы с низкой средней квадратичной ошибкой 0.89. Ранее по корреляционной матрице мы увидели, что целевой признак имеет очень сильную прямую связь с признаком 'f2', это во многом объясняет высокую точность модели. При этом по второму региону мы получили средний объем запаса сырья в скважине заметно меньше, чем по первому и второму региону - 68.7 тысяч баррелей. Мы добавили в датафреймы по регионам прогнозные значения запасов сырья по каждой скважине, полученные на основе выбранной и обученной на тренировочной выборке лучшей модели. \n",
    "\n",
    "Мы проверили получивившиеся модели для трёх регионов на адекватность, сравнив качество предсказаний модели с качеством предсказаний модели DummyRegressor с настройкой вывода медианных значений в качестве предсказаний. Мы видим, что у полученных моделей для прогноза значение метрики RMSE на тестовой выборке лучше, чем у модели DummyRegressor. Значит принятые для прогноза модели адекватная."
   ]
  },
  {
   "cell_type": "markdown",
   "metadata": {},
   "source": [
    "## Подготовка к расчёту прибыли"
   ]
  },
  {
   "cell_type": "code",
   "execution_count": 32,
   "metadata": {},
   "outputs": [],
   "source": [
    "# необходимо выбрать 200 скважин для разработки \n",
    "N_WELLS = 200\n",
    "# прибыль, которую можно получить с 1 тысячи баррелей запасов нефти\n",
    "WELL_REVENUE = 450000\n",
    "# бюджет на разработку скважин в регионе — 10 млрд рублей\n",
    "BUDGET = 10000000000"
   ]
  },
  {
   "cell_type": "code",
   "execution_count": 33,
   "metadata": {},
   "outputs": [
    {
     "name": "stdout",
     "output_type": "stream",
     "text": [
      "Достаточный объём сырья для безубыточной разработки новой скважины, тысяч баррелей: 111.11\n"
     ]
    }
   ],
   "source": [
    "# считаем достаточный объем сырья в одной скважине для безубыточной разработки \n",
    "breakeven_product = BUDGET/(N_WELLS*WELL_REVENUE)\n",
    "print('Достаточный объём сырья для безубыточной разработки новой скважины, тысяч баррелей:',\n",
    "      round(breakeven_product, 2))"
   ]
  },
  {
   "cell_type": "code",
   "execution_count": 34,
   "metadata": {},
   "outputs": [
    {
     "name": "stdout",
     "output_type": "stream",
     "text": [
      "Средний запас нефти в скважине по первому региону, тысяч баррелей 92.5\n",
      "Средний запас нефти в скважине по второму региону, тысяч баррелей 68.83\n",
      "Средний запас нефти в скважине по третьему региону, тысяч баррелей 95.0\n"
     ]
    }
   ],
   "source": [
    "# для сравнения выводим средние запасы сырья в одной скважине по регионам\n",
    "print('Средний запас нефти в скважине по первому региону, тысяч баррелей',\n",
    "      round(data_reg_1['product'].mean(), 2))\n",
    "print('Средний запас нефти в скважине по второму региону, тысяч баррелей',\n",
    "      round(data_reg_2['product'].mean(), 2))\n",
    "print('Средний запас нефти в скважине по третьему региону, тысяч баррелей',\n",
    "      round(data_reg_3['product'].mean(), 2))"
   ]
  },
  {
   "cell_type": "markdown",
   "metadata": {},
   "source": [
    "**Выводы:**\n",
    "\n",
    "Мы сохранили константные значения, которые будем использовать для расчёта прибыли: кол-во скважин для разработки N_WELLS равно 200, прибыль с одной тясячи баррелей нефти в скважине WELL_REVENUE равна 450 000, бюджет на разработку скважин в регионе BUDGET равен 10 000 000 000. Данные по объему нефти в скважине и прогнозному значению объема нефти в скважине мы будем использовать разные по каждому региону на основе выборок, сформированных техникой Bootstrep, мы задим их непосредственно на этапе подсчёта прибыли по каждому региону. На основе заданных константных значений мы посчитали достаточный объём сырья для безубыточной разработки новой скважины: 111.11 тысяч баррелей нефти. Т.е. для безубыточной разработки нужно выбирать скважины с объёмом нефти не менее 111.11 тысяч баррелей. Затем мы сравнили полученное пороговое значение для безубыточной разработки со средними запасами нефти в скважине по каждому региону: 92.5 тысяч баррелей по первому региону, 68.8 тысяч баррелей по второму региону, 95 тысяч баррелей по третьему региону. Получается, что средние значения запасов нефти в скважине в каждом регионе ниже достатосчного уровня объема сырья для безубыточной разработки. Таким образом на дальнейшем этапе выбора скважин для разработки неотрицательное значение прибыли можно получить при выборе скважин с запасами нефти не ниже 111.11 тысяч баррелей, иначе риски получения убытка возрастают."
   ]
  },
  {
   "cell_type": "markdown",
   "metadata": {},
   "source": [
    "## Функция для расчёта прибыли по  выбранным скважинам и предсказаниям модели"
   ]
  },
  {
   "cell_type": "code",
   "execution_count": 35,
   "metadata": {},
   "outputs": [],
   "source": [
    "# функция для расчёта прибыли по выбранным скважинам и предсказаниям модели\n",
    "# n - число скважин, выбранных для разработки \n",
    "# revenue - прибыль, которую можно получить с 1 тысячи баррелей запасов нефти\n",
    "# budget - бюджет на разработку скважин в регионе\n",
    "# product - объем запасов сырья в одной скважине\n",
    "# forecast - прогнозное значение запасов сырья в скважине\n",
    "\n",
    "def region_profit (n, revenue, budget, product, forecast):\n",
    "    forecast_sorted = forecast.sort_values(ascending=False)\n",
    "    select_product = product[forecast_sorted.index][:n]\n",
    "    return revenue*(select_product.sum()) - budget"
   ]
  },
  {
   "cell_type": "markdown",
   "metadata": {},
   "source": [
    "## Расчёт рисков и прибыли для каждого региона"
   ]
  },
  {
   "cell_type": "code",
   "execution_count": 36,
   "metadata": {},
   "outputs": [],
   "source": [
    "# функция для построения гистограммы\n",
    "def profit_distribution(data, num):\n",
    "    plt.figure(figsize = (6, 5))\n",
    "    sns.histplot(data, bins=20)\n",
    "    plt.title(f'Распределение прибыли от 200 скважин {num}-го региона')\n",
    "    plt.ylabel('Частоты')\n",
    "    plt.show()"
   ]
  },
  {
   "cell_type": "code",
   "execution_count": 37,
   "metadata": {},
   "outputs": [],
   "source": [
    "# создаем лист из датафреймов по 3-м регионам\n",
    "list_of_regions = [data_reg_1, data_reg_2, data_reg_3]\n",
    "state = np.random.RandomState(123)"
   ]
  },
  {
   "cell_type": "code",
   "execution_count": 38,
   "metadata": {},
   "outputs": [
    {
     "data": {
      "image/png": "[encoded data removed]",
      "text/plain": [
       "<Figure size 432x360 with 1 Axes>"
      ]
     },
     "metadata": {},
     "output_type": "display_data"
    },
    {
     "name": "stdout",
     "output_type": "stream",
     "text": [
      "\u001b[1mСредняя прибыль для 1-го региона: 476541463.23\n",
      "95%-й доверительный интервал для 1-го региона: [-31172838.54, 997354515.63]\n",
      "Риск убытков от разработки скважин 1-го региона, в процентах: 3.40%\u001b[0;0m\n"
     ]
    },
    {
     "data": {
      "image/png": "[encoded data removed]",
      "text/plain": [
       "<Figure size 432x360 with 1 Axes>"
      ]
     },
     "metadata": {},
     "output_type": "display_data"
    },
    {
     "name": "stdout",
     "output_type": "stream",
     "text": [
      "\u001b[1mСредняя прибыль для 2-го региона: 458626896.46\n",
      "95%-й доверительный интервал для 2-го региона: [64598541.84, 877996644.91]\n",
      "Риск убытков от разработки скважин 2-го региона, в процентах: 1.30%\u001b[0;0m\n"
     ]
    },
    {
     "data": {
      "image/png": "[encoded data removed]",
      "text/plain": [
       "<Figure size 432x360 with 1 Axes>"
      ]
     },
     "metadata": {},
     "output_type": "display_data"
    },
    {
     "name": "stdout",
     "output_type": "stream",
     "text": [
      "\u001b[1mСредняя прибыль для 3-го региона: 646834743.4\n",
      "95%-й доверительный интервал для 3-го региона: [105893934.04, 1169049657.67]\n",
      "Риск убытков от разработки скважин 3-го региона, в процентах: 0.80%\u001b[0;0m\n"
     ]
    }
   ],
   "source": [
    "# чтобы избежать копирования при выполнении вычислений по каждому региону будем выполнять все шаги через цикл\n",
    "for i, region in enumerate(list_of_regions):\n",
    "    # записываем в переменные реальные и прогнозные значения объема запасов сырья для скважин первого региона\n",
    "    product = region['product']\n",
    "    forecast_product = region['forecast_product']\n",
    "    reg=i+1\n",
    "    \n",
    "    # применим технику Bootstrap для 1000 выборок, чтобы найти распределение прибыли\n",
    "    profit = []\n",
    "    for i in range(1000):\n",
    "        product_subsample = product.sample(n=500, random_state=state, replace=True)\n",
    "        forecast_subsample = forecast_product[product_subsample.index]\n",
    "        res = region_profit(n=N_WELLS, revenue=WELL_REVENUE, budget=BUDGET,\n",
    "        product=product_subsample, forecast=forecast_subsample) \n",
    "        profit.append(res)\n",
    "\n",
    "    profit = pd.Series(profit)\n",
    "\n",
    "    # построим график распределения прибыли от 200 скважин для 1000 выборок\n",
    "    profit_distribution(data=profit, num=reg)\n",
    "    \n",
    "    # выводим среднюю прибыль и 95% доверительный интервал для первого региона\n",
    "    print(\"\\033[1m\"+f'Средняя прибыль для {reg}-го региона:', round(profit.mean(), 2))\n",
    "    lower = profit.quantile(0.025)\n",
    "    upper = profit.quantile(0.975)\n",
    "    confidence_interval = [round(lower, 2), round(upper, 2)]\n",
    "    print(f'95%-й доверительный интервал для {reg}-го региона:', confidence_interval)\n",
    "    \n",
    "    # считаем риск убытков как долю случаев с отрицательной прибылью\n",
    "    risk_of_loss = (profit<0).mean()\n",
    "    print(f'Риск убытков от разработки скважин {reg}-го региона, в процентах:',\n",
    "          f\"{risk_of_loss:.2%}\"+\"\\033[0;0m\")"
   ]
  },
  {
   "cell_type": "markdown",
   "metadata": {},
   "source": [
    "**Выводы:**\n",
    "\n",
    "На последнем шаге мы последовательно сделали расчёт прибыли, 95% доверительного интервала и риска убытков для 3-х регионов. Сначала мы применили технику Bootstrap для создания 1000 подвыборок со значениями запасов нефти, произвольно выбранных из значений по всем скважинам региона. Каждая из подвыборок создается в цикле. В каждую подвыборку вошло по 500 значений запасов нефти в скважине, а также для каждого значения запаса нефти мы выбрали соответствующие прогнозные значения запасов нефти, отобранные по индексу запасов нефти. Затем мы применяем функцию для подсчёта прибыли, которую создали на предыдущем шаге. Функция сортирует значения прогнозных значений запасов нефти по убыванию, затем отбирает 200 верхних значений, т.е. наиболее высоких значений в подвыборке. Затем по индексам прогнозных значений сырья отбираются соответствующие значения реальных запасов сырья. По реальным значениям запасов нефти затем считается общая прибыль по выбранным скважинам в регионе: сумму запасов по выбранным скважинам мы умножаем на прибыль, которую можно получить с 1 тысячи баррелей запасов нефти (450 000), и вычитаем бюджет на разработку скважин в регионе (10 000 000 000). Мы добавляем значения прибыли для каждой подвыборки в единый список. Затем на основе списка мы строим гистограмму, которая показывает распределение прибыли для кажжого региона. Графики распределения прибыли по каждому региону, полученные на основе сформированных подвыборок, показывают распределение, которое можно считать нормальным. Помимо прибыли для каждого региона мы вывели 95% доверительный интервал и риск убытков. Для расчёта риска убытков мы  посчитали долю скважин с отрицательной прибылью.\n",
    "\n",
    "Мы получили, что риски получения отрицательной прибыли на основе техники Bootstrep, полученных прогнозных значений запасов нефти в каждой скважине и примения функции для определения прибыли сравнительно невысокие - от 0.8 до 3.4%. По первому региону среднее значение прибыли около 476.5 млн. руб., а риск получения убытков 3.4%. Также для первого региона нижняя граница доверительного интервала имеет отрицательное значение. По другим регионам нижняя граница доверительного интервала выше 0, следовательно в первую очередь следует отказаться от добычи в первом регионе. По второму региону среднее значение прибыли около 458.6 млн. руб., а риск получения убытков 1.3%. По третьему региону мы получили среднее значение прибыли около 646.8 млн. руб., а риск получения убытков 0.8%.\n",
    "\n",
    "Таким образом, для разработки мы предлагаем выбрать третий регион, т.к. по третьему региону мы получили максимальную из всех регионов прибыль, самую высокие нижнюю и верхнюю границы доверительного интервала и минимальное значение риска убытков. Значение риска убытков для третьего региона минимальная даже с учётом того, что модель прогноза запасов нефти по скважинам даёт самое высокое значение ошибки (по сравнению с моделями для двух других регионов)."
   ]
  },
  {
   "cell_type": "markdown",
   "metadata": {},
   "source": [
    "## Чек-лист готовности проекта"
   ]
  },
  {
   "cell_type": "markdown",
   "metadata": {},
   "source": [
    "- [x]  Jupyter Notebook открыт\n",
    "- [x]  Весь код выполняется без ошибок\n",
    "- [x]  Ячейки с кодом расположены в порядке исполнения\n",
    "- [x]  Выполнен шаг 1: данные подготовлены\n",
    "- [x]  Выполнен шаг 2: модели обучены и проверены\n",
    "    - [x]  Данные корректно разбиты на обучающую и валидационную выборки\n",
    "    - [x]  Модели обучены, предсказания сделаны\n",
    "    - [x]  Предсказания и правильные ответы на валидационной выборке сохранены\n",
    "    - [x]  На экране напечатаны результаты\n",
    "    - [x]  Сделаны выводы\n",
    "- [x]  Выполнен шаг 3: проведена подготовка к расчёту прибыли\n",
    "    - [x]  Для всех ключевых значений созданы константы Python\n",
    "    - [x]  Посчитано минимальное среднее количество продукта в месторождениях региона, достаточное для разработки\n",
    "    - [x]  По предыдущему пункту сделаны выводы\n",
    "    - [x]  Написана функция расчёта прибыли\n",
    "- [x]  Выполнен шаг 4: посчитаны риски и прибыль\n",
    "    - [x]  Проведена процедура *Bootstrap*\n",
    "    - [x]  Все параметры бутстрепа соответствуют условию\n",
    "    - [x]  Найдены все нужные величины\n",
    "    - [x]  Предложен регион для разработки месторождения\n",
    "    - [x]  Выбор региона обоснован"
   ]
  },
  {
   "cell_type": "code",
   "execution_count": null,
   "metadata": {},
   "outputs": [],
   "source": []
  }
 ],
 "metadata": {
  "ExecuteTimeLog": [
   {
    "duration": 1848,
    "start_time": "2025-01-21T22:03:15.277Z"
   },
   {
    "duration": 3777,
    "start_time": "2025-01-21T22:03:53.273Z"
   },
   {
    "duration": 38,
    "start_time": "2025-01-21T22:03:59.913Z"
   },
   {
    "duration": 3,
    "start_time": "2025-01-21T22:04:05.321Z"
   },
   {
    "duration": 960,
    "start_time": "2025-01-21T22:04:08.075Z"
   },
   {
    "duration": 19,
    "start_time": "2025-01-21T22:04:56.550Z"
   },
   {
    "duration": 26,
    "start_time": "2025-01-21T22:05:15.641Z"
   },
   {
    "duration": 23,
    "start_time": "2025-01-21T22:06:14.446Z"
   },
   {
    "duration": 22,
    "start_time": "2025-01-21T22:06:56.177Z"
   },
   {
    "duration": 44,
    "start_time": "2025-01-21T22:09:51.401Z"
   },
   {
    "duration": 42,
    "start_time": "2025-01-21T22:10:10.065Z"
   },
   {
    "duration": 42,
    "start_time": "2025-01-21T22:10:22.185Z"
   },
   {
    "duration": 29,
    "start_time": "2025-01-21T22:15:54.421Z"
   },
   {
    "duration": 10,
    "start_time": "2025-01-21T22:16:32.479Z"
   },
   {
    "duration": 39,
    "start_time": "2025-01-21T22:18:36.853Z"
   },
   {
    "duration": 31,
    "start_time": "2025-01-21T22:22:01.366Z"
   },
   {
    "duration": 26,
    "start_time": "2025-01-21T22:22:16.192Z"
   },
   {
    "duration": 31,
    "start_time": "2025-01-21T22:22:29.286Z"
   },
   {
    "duration": 1592,
    "start_time": "2025-01-22T09:32:04.881Z"
   },
   {
    "duration": 3,
    "start_time": "2025-01-22T09:32:06.475Z"
   },
   {
    "duration": 1218,
    "start_time": "2025-01-22T09:32:06.641Z"
   },
   {
    "duration": 24,
    "start_time": "2025-01-22T09:32:12.361Z"
   },
   {
    "duration": 16,
    "start_time": "2025-01-22T09:32:24.410Z"
   },
   {
    "duration": 16,
    "start_time": "2025-01-22T09:32:30.039Z"
   },
   {
    "duration": 30,
    "start_time": "2025-01-22T09:32:40.207Z"
   },
   {
    "duration": 24,
    "start_time": "2025-01-22T09:32:47.329Z"
   },
   {
    "duration": 30,
    "start_time": "2025-01-22T09:32:55.138Z"
   },
   {
    "duration": 38,
    "start_time": "2025-01-22T09:33:13.317Z"
   },
   {
    "duration": 441,
    "start_time": "2025-01-22T09:47:01.358Z"
   },
   {
    "duration": 351,
    "start_time": "2025-01-22T09:47:38.711Z"
   },
   {
    "duration": 350,
    "start_time": "2025-01-22T09:48:14.202Z"
   },
   {
    "duration": 369,
    "start_time": "2025-01-22T09:48:25.154Z"
   },
   {
    "duration": 356,
    "start_time": "2025-01-22T09:49:48.709Z"
   },
   {
    "duration": 460,
    "start_time": "2025-01-22T09:50:07.815Z"
   },
   {
    "duration": 366,
    "start_time": "2025-01-22T09:51:16.100Z"
   },
   {
    "duration": 380,
    "start_time": "2025-01-22T09:51:30.977Z"
   },
   {
    "duration": 355,
    "start_time": "2025-01-22T09:51:45.121Z"
   },
   {
    "duration": 375,
    "start_time": "2025-01-22T09:51:57.077Z"
   },
   {
    "duration": 370,
    "start_time": "2025-01-22T09:52:52.085Z"
   },
   {
    "duration": 406,
    "start_time": "2025-01-22T09:54:56.136Z"
   },
   {
    "duration": 428,
    "start_time": "2025-01-22T09:57:57.338Z"
   },
   {
    "duration": 342,
    "start_time": "2025-01-22T09:58:11.927Z"
   },
   {
    "duration": 177,
    "start_time": "2025-01-22T09:58:30.824Z"
   },
   {
    "duration": 414,
    "start_time": "2025-01-22T09:59:29.149Z"
   },
   {
    "duration": 509,
    "start_time": "2025-01-22T09:59:55.444Z"
   },
   {
    "duration": 382,
    "start_time": "2025-01-22T10:00:05.429Z"
   },
   {
    "duration": 103,
    "start_time": "2025-01-22T10:09:43.996Z"
   },
   {
    "duration": 118,
    "start_time": "2025-01-22T11:08:12.793Z"
   },
   {
    "duration": 91,
    "start_time": "2025-01-22T11:22:56.734Z"
   },
   {
    "duration": 106,
    "start_time": "2025-01-22T11:23:25.767Z"
   },
   {
    "duration": 622,
    "start_time": "2025-01-22T11:24:06.821Z"
   },
   {
    "duration": 1179,
    "start_time": "2025-01-22T11:25:57.805Z"
   },
   {
    "duration": 1198,
    "start_time": "2025-01-22T11:26:09.898Z"
   },
   {
    "duration": 1419,
    "start_time": "2025-01-22T11:28:25.901Z"
   },
   {
    "duration": 1225,
    "start_time": "2025-01-22T11:28:46.689Z"
   },
   {
    "duration": 1216,
    "start_time": "2025-01-22T11:29:21.755Z"
   },
   {
    "duration": 1233,
    "start_time": "2025-01-22T11:29:45.161Z"
   },
   {
    "duration": 1353,
    "start_time": "2025-01-22T11:30:10.473Z"
   },
   {
    "duration": 1187,
    "start_time": "2025-01-22T11:30:19.890Z"
   },
   {
    "duration": 1250,
    "start_time": "2025-01-22T11:30:27.745Z"
   },
   {
    "duration": 1407,
    "start_time": "2025-01-22T11:30:38.401Z"
   },
   {
    "duration": 1295,
    "start_time": "2025-01-22T11:30:46.207Z"
   },
   {
    "duration": 1190,
    "start_time": "2025-01-22T11:31:08.967Z"
   },
   {
    "duration": 1221,
    "start_time": "2025-01-22T11:31:26.913Z"
   },
   {
    "duration": 1300,
    "start_time": "2025-01-22T11:31:41.383Z"
   },
   {
    "duration": 1187,
    "start_time": "2025-01-22T11:32:11.687Z"
   },
   {
    "duration": 1195,
    "start_time": "2025-01-22T11:32:39.691Z"
   },
   {
    "duration": 1174,
    "start_time": "2025-01-22T11:32:53.578Z"
   },
   {
    "duration": 38,
    "start_time": "2025-01-22T12:41:35.328Z"
   },
   {
    "duration": 40,
    "start_time": "2025-01-22T12:42:05.426Z"
   },
   {
    "duration": 6,
    "start_time": "2025-01-22T13:16:09.167Z"
   },
   {
    "duration": 11,
    "start_time": "2025-01-22T13:17:35.674Z"
   },
   {
    "duration": 478,
    "start_time": "2025-01-22T13:17:51.048Z"
   },
   {
    "duration": 385,
    "start_time": "2025-01-22T13:37:46.024Z"
   },
   {
    "duration": 381,
    "start_time": "2025-01-22T13:38:43.108Z"
   },
   {
    "duration": 374,
    "start_time": "2025-01-22T13:39:19.058Z"
   },
   {
    "duration": 354,
    "start_time": "2025-01-22T13:40:11.249Z"
   },
   {
    "duration": 339,
    "start_time": "2025-01-22T13:40:24.379Z"
   },
   {
    "duration": 365,
    "start_time": "2025-01-22T13:41:20.449Z"
   },
   {
    "duration": 514,
    "start_time": "2025-01-22T13:41:27.380Z"
   },
   {
    "duration": 365,
    "start_time": "2025-01-22T13:42:39.111Z"
   },
   {
    "duration": 361,
    "start_time": "2025-01-22T13:43:13.759Z"
   },
   {
    "duration": 376,
    "start_time": "2025-01-22T13:44:55.379Z"
   },
   {
    "duration": 5,
    "start_time": "2025-01-22T13:46:03.275Z"
   },
   {
    "duration": 354,
    "start_time": "2025-01-22T13:46:09.865Z"
   },
   {
    "duration": 5,
    "start_time": "2025-01-22T13:46:53.851Z"
   },
   {
    "duration": 391,
    "start_time": "2025-01-22T13:47:08.567Z"
   },
   {
    "duration": 372,
    "start_time": "2025-01-22T13:47:19.199Z"
   },
   {
    "duration": 568,
    "start_time": "2025-01-22T13:47:36.095Z"
   },
   {
    "duration": 358,
    "start_time": "2025-01-22T13:47:53.990Z"
   },
   {
    "duration": 104,
    "start_time": "2025-01-22T13:48:16.319Z"
   },
   {
    "duration": 376,
    "start_time": "2025-01-22T13:48:22.973Z"
   },
   {
    "duration": 334,
    "start_time": "2025-01-22T13:48:32.651Z"
   },
   {
    "duration": 366,
    "start_time": "2025-01-22T13:48:39.396Z"
   },
   {
    "duration": 393,
    "start_time": "2025-01-22T13:48:53.314Z"
   },
   {
    "duration": 358,
    "start_time": "2025-01-22T13:49:11.086Z"
   },
   {
    "duration": 90,
    "start_time": "2025-01-22T13:49:21.258Z"
   },
   {
    "duration": 362,
    "start_time": "2025-01-22T13:49:26.326Z"
   },
   {
    "duration": 467,
    "start_time": "2025-01-22T13:49:40.725Z"
   },
   {
    "duration": 429,
    "start_time": "2025-01-22T13:55:58.077Z"
   },
   {
    "duration": 377,
    "start_time": "2025-01-22T13:56:48.649Z"
   },
   {
    "duration": 410,
    "start_time": "2025-01-22T13:57:12.927Z"
   },
   {
    "duration": 437,
    "start_time": "2025-01-22T13:57:28.211Z"
   },
   {
    "duration": 1743,
    "start_time": "2025-01-22T22:13:56.570Z"
   },
   {
    "duration": 5,
    "start_time": "2025-01-22T22:14:18.534Z"
   },
   {
    "duration": 14,
    "start_time": "2025-01-22T22:14:18.541Z"
   },
   {
    "duration": 1180,
    "start_time": "2025-01-22T22:14:18.557Z"
   },
   {
    "duration": 22,
    "start_time": "2025-01-22T22:14:19.739Z"
   },
   {
    "duration": 17,
    "start_time": "2025-01-22T22:14:19.763Z"
   },
   {
    "duration": 42,
    "start_time": "2025-01-22T22:14:19.781Z"
   },
   {
    "duration": 29,
    "start_time": "2025-01-22T22:14:19.825Z"
   },
   {
    "duration": 24,
    "start_time": "2025-01-22T22:14:19.856Z"
   },
   {
    "duration": 51,
    "start_time": "2025-01-22T22:14:19.882Z"
   },
   {
    "duration": 5,
    "start_time": "2025-01-22T22:14:19.935Z"
   },
   {
    "duration": 47,
    "start_time": "2025-01-22T22:14:19.941Z"
   },
   {
    "duration": 49,
    "start_time": "2025-01-22T22:14:19.990Z"
   },
   {
    "duration": 37,
    "start_time": "2025-01-22T22:14:20.041Z"
   },
   {
    "duration": 358,
    "start_time": "2025-01-22T22:14:20.081Z"
   },
   {
    "duration": 355,
    "start_time": "2025-01-22T22:14:20.441Z"
   },
   {
    "duration": 485,
    "start_time": "2025-01-22T22:14:20.798Z"
   },
   {
    "duration": 352,
    "start_time": "2025-01-22T22:14:21.285Z"
   },
   {
    "duration": 360,
    "start_time": "2025-01-22T22:14:21.640Z"
   },
   {
    "duration": 389,
    "start_time": "2025-01-22T22:14:22.002Z"
   },
   {
    "duration": 395,
    "start_time": "2025-01-22T22:14:22.393Z"
   },
   {
    "duration": 374,
    "start_time": "2025-01-22T22:14:22.790Z"
   },
   {
    "duration": 351,
    "start_time": "2025-01-22T22:14:23.167Z"
   },
   {
    "duration": 388,
    "start_time": "2025-01-22T22:14:23.520Z"
   },
   {
    "duration": 475,
    "start_time": "2025-01-22T22:14:23.909Z"
   },
   {
    "duration": 387,
    "start_time": "2025-01-22T22:14:24.386Z"
   },
   {
    "duration": 1333,
    "start_time": "2025-01-22T22:14:24.775Z"
   },
   {
    "duration": 3,
    "start_time": "2025-01-22T22:22:16.992Z"
   },
   {
    "duration": 63,
    "start_time": "2025-01-22T22:36:43.334Z"
   },
   {
    "duration": 1570,
    "start_time": "2025-01-23T14:58:56.777Z"
   },
   {
    "duration": 3,
    "start_time": "2025-01-23T14:58:58.349Z"
   },
   {
    "duration": 1504,
    "start_time": "2025-01-23T14:58:58.353Z"
   },
   {
    "duration": 22,
    "start_time": "2025-01-23T14:58:59.860Z"
   },
   {
    "duration": 15,
    "start_time": "2025-01-23T14:58:59.883Z"
   },
   {
    "duration": 15,
    "start_time": "2025-01-23T14:58:59.899Z"
   },
   {
    "duration": 94,
    "start_time": "2025-01-23T14:58:59.915Z"
   },
   {
    "duration": 23,
    "start_time": "2025-01-23T14:59:00.011Z"
   },
   {
    "duration": 65,
    "start_time": "2025-01-23T14:59:00.036Z"
   },
   {
    "duration": 32,
    "start_time": "2025-01-23T14:59:00.104Z"
   },
   {
    "duration": 110,
    "start_time": "2025-01-23T14:59:00.138Z"
   },
   {
    "duration": 37,
    "start_time": "2025-01-23T14:59:00.249Z"
   },
   {
    "duration": 47,
    "start_time": "2025-01-23T14:59:00.287Z"
   },
   {
    "duration": 317,
    "start_time": "2025-01-23T14:59:00.336Z"
   },
   {
    "duration": 322,
    "start_time": "2025-01-23T14:59:00.655Z"
   },
   {
    "duration": 415,
    "start_time": "2025-01-23T14:59:00.979Z"
   },
   {
    "duration": 313,
    "start_time": "2025-01-23T14:59:01.396Z"
   },
   {
    "duration": 309,
    "start_time": "2025-01-23T14:59:01.711Z"
   },
   {
    "duration": 327,
    "start_time": "2025-01-23T14:59:02.022Z"
   },
   {
    "duration": 306,
    "start_time": "2025-01-23T14:59:02.351Z"
   },
   {
    "duration": 337,
    "start_time": "2025-01-23T14:59:02.658Z"
   },
   {
    "duration": 319,
    "start_time": "2025-01-23T14:59:02.996Z"
   },
   {
    "duration": 338,
    "start_time": "2025-01-23T14:59:03.317Z"
   },
   {
    "duration": 401,
    "start_time": "2025-01-23T14:59:03.657Z"
   },
   {
    "duration": 332,
    "start_time": "2025-01-23T14:59:04.060Z"
   },
   {
    "duration": 1188,
    "start_time": "2025-01-23T14:59:04.394Z"
   },
   {
    "duration": 27,
    "start_time": "2025-01-23T14:59:05.584Z"
   },
   {
    "duration": 32,
    "start_time": "2025-01-23T14:59:05.614Z"
   },
   {
    "duration": 113,
    "start_time": "2025-01-23T15:06:52.735Z"
   },
   {
    "duration": 23,
    "start_time": "2025-01-23T15:07:04.868Z"
   },
   {
    "duration": 12,
    "start_time": "2025-01-23T15:07:20.499Z"
   },
   {
    "duration": 27,
    "start_time": "2025-01-23T15:49:59.339Z"
   },
   {
    "duration": 10,
    "start_time": "2025-01-23T15:53:41.159Z"
   },
   {
    "duration": 12,
    "start_time": "2025-01-23T15:54:21.503Z"
   },
   {
    "duration": 13,
    "start_time": "2025-01-23T15:54:46.637Z"
   },
   {
    "duration": 112,
    "start_time": "2025-01-23T15:56:17.648Z"
   },
   {
    "duration": 10,
    "start_time": "2025-01-23T15:56:22.549Z"
   },
   {
    "duration": 10,
    "start_time": "2025-01-23T15:56:34.191Z"
   },
   {
    "duration": 12,
    "start_time": "2025-01-23T15:56:50.765Z"
   },
   {
    "duration": 1519,
    "start_time": "2025-01-23T16:16:09.336Z"
   },
   {
    "duration": 3,
    "start_time": "2025-01-23T16:16:10.857Z"
   },
   {
    "duration": 1132,
    "start_time": "2025-01-23T16:16:10.861Z"
   },
   {
    "duration": 19,
    "start_time": "2025-01-23T16:16:11.995Z"
   },
   {
    "duration": 29,
    "start_time": "2025-01-23T16:16:12.017Z"
   },
   {
    "duration": 14,
    "start_time": "2025-01-23T16:16:12.048Z"
   },
   {
    "duration": 30,
    "start_time": "2025-01-23T16:16:12.063Z"
   },
   {
    "duration": 20,
    "start_time": "2025-01-23T16:16:12.095Z"
   },
   {
    "duration": 54,
    "start_time": "2025-01-23T16:16:12.117Z"
   },
   {
    "duration": 4,
    "start_time": "2025-01-23T16:16:12.173Z"
   },
   {
    "duration": 112,
    "start_time": "2025-01-23T16:16:12.179Z"
   },
   {
    "duration": 32,
    "start_time": "2025-01-23T16:16:12.293Z"
   },
   {
    "duration": 36,
    "start_time": "2025-01-23T16:16:12.326Z"
   },
   {
    "duration": 322,
    "start_time": "2025-01-23T16:16:12.364Z"
   },
   {
    "duration": 334,
    "start_time": "2025-01-23T16:16:12.690Z"
   },
   {
    "duration": 399,
    "start_time": "2025-01-23T16:16:13.025Z"
   },
   {
    "duration": 290,
    "start_time": "2025-01-23T16:16:13.425Z"
   },
   {
    "duration": 293,
    "start_time": "2025-01-23T16:16:13.717Z"
   },
   {
    "duration": 317,
    "start_time": "2025-01-23T16:16:14.012Z"
   },
   {
    "duration": 300,
    "start_time": "2025-01-23T16:16:14.330Z"
   },
   {
    "duration": 294,
    "start_time": "2025-01-23T16:16:14.632Z"
   },
   {
    "duration": 299,
    "start_time": "2025-01-23T16:16:14.928Z"
   },
   {
    "duration": 341,
    "start_time": "2025-01-23T16:16:15.229Z"
   },
   {
    "duration": 403,
    "start_time": "2025-01-23T16:16:15.572Z"
   },
   {
    "duration": 348,
    "start_time": "2025-01-23T16:16:15.977Z"
   },
   {
    "duration": 1207,
    "start_time": "2025-01-23T16:16:16.327Z"
   },
   {
    "duration": 34,
    "start_time": "2025-01-23T16:16:17.535Z"
   },
   {
    "duration": 10,
    "start_time": "2025-01-23T16:16:17.571Z"
   },
   {
    "duration": 64,
    "start_time": "2025-01-23T16:16:17.583Z"
   },
   {
    "duration": 14,
    "start_time": "2025-01-23T16:18:08.538Z"
   },
   {
    "duration": 14,
    "start_time": "2025-01-23T16:27:06.225Z"
   },
   {
    "duration": 10,
    "start_time": "2025-01-23T16:27:25.642Z"
   },
   {
    "duration": 14,
    "start_time": "2025-01-23T16:27:44.985Z"
   },
   {
    "duration": 18,
    "start_time": "2025-01-23T16:28:53.128Z"
   },
   {
    "duration": 15,
    "start_time": "2025-01-23T16:30:24.363Z"
   },
   {
    "duration": 13,
    "start_time": "2025-01-23T16:30:38.665Z"
   },
   {
    "duration": 13,
    "start_time": "2025-01-23T16:31:25.895Z"
   },
   {
    "duration": 4,
    "start_time": "2025-01-23T16:36:35.980Z"
   },
   {
    "duration": 266,
    "start_time": "2025-01-23T16:37:16.797Z"
   },
   {
    "duration": 19,
    "start_time": "2025-01-23T16:37:39.288Z"
   },
   {
    "duration": 14,
    "start_time": "2025-01-23T16:37:54.454Z"
   },
   {
    "duration": 126,
    "start_time": "2025-01-23T16:39:39.534Z"
   },
   {
    "duration": 4,
    "start_time": "2025-01-23T16:42:22.095Z"
   },
   {
    "duration": 10,
    "start_time": "2025-01-23T16:42:37.376Z"
   },
   {
    "duration": 126,
    "start_time": "2025-01-23T16:42:50.733Z"
   },
   {
    "duration": 31,
    "start_time": "2025-01-23T16:46:15.031Z"
   },
   {
    "duration": 33,
    "start_time": "2025-01-23T16:46:27.067Z"
   },
   {
    "duration": 80,
    "start_time": "2025-01-23T16:46:29.387Z"
   },
   {
    "duration": 83,
    "start_time": "2025-01-23T16:46:53.582Z"
   },
   {
    "duration": 97,
    "start_time": "2025-01-23T16:47:01.559Z"
   },
   {
    "duration": 52,
    "start_time": "2025-01-23T16:47:42.771Z"
   },
   {
    "duration": 35,
    "start_time": "2025-01-23T16:47:45.535Z"
   },
   {
    "duration": 4,
    "start_time": "2025-01-23T16:56:31.496Z"
   },
   {
    "duration": 10,
    "start_time": "2025-01-23T17:03:44.142Z"
   },
   {
    "duration": 24,
    "start_time": "2025-01-23T17:06:23.701Z"
   },
   {
    "duration": 15,
    "start_time": "2025-01-23T17:06:26.351Z"
   },
   {
    "duration": 144,
    "start_time": "2025-01-23T17:06:40.603Z"
   },
   {
    "duration": 21,
    "start_time": "2025-01-23T17:06:54.265Z"
   },
   {
    "duration": 164,
    "start_time": "2025-01-23T17:06:56.983Z"
   },
   {
    "duration": 37,
    "start_time": "2025-01-23T17:07:05.861Z"
   },
   {
    "duration": 329,
    "start_time": "2025-01-23T17:07:08.616Z"
   },
   {
    "duration": 52,
    "start_time": "2025-01-23T17:07:17.285Z"
   },
   {
    "duration": 1078,
    "start_time": "2025-01-23T17:07:20.470Z"
   },
   {
    "duration": 78,
    "start_time": "2025-01-23T17:07:29.963Z"
   },
   {
    "duration": 1252,
    "start_time": "2025-01-23T17:07:33.399Z"
   },
   {
    "duration": 100,
    "start_time": "2025-01-23T17:07:48.430Z"
   },
   {
    "duration": 2762,
    "start_time": "2025-01-23T17:07:51.488Z"
   },
   {
    "duration": 48,
    "start_time": "2025-01-23T17:08:02.117Z"
   },
   {
    "duration": 650,
    "start_time": "2025-01-23T17:08:04.606Z"
   },
   {
    "duration": 35,
    "start_time": "2025-01-23T17:08:23.149Z"
   },
   {
    "duration": 51,
    "start_time": "2025-01-23T17:08:26.743Z"
   },
   {
    "duration": 851,
    "start_time": "2025-01-23T17:08:44.001Z"
   },
   {
    "duration": 83,
    "start_time": "2025-01-23T17:09:03.287Z"
   },
   {
    "duration": 1457,
    "start_time": "2025-01-23T17:09:07.796Z"
   },
   {
    "duration": 0,
    "start_time": "2025-01-23T17:12:07.935Z"
   },
   {
    "duration": 0,
    "start_time": "2025-01-23T17:12:07.937Z"
   },
   {
    "duration": 1368,
    "start_time": "2025-01-23T17:12:23.677Z"
   },
   {
    "duration": 2,
    "start_time": "2025-01-23T17:12:25.047Z"
   },
   {
    "duration": 1483,
    "start_time": "2025-01-23T17:12:25.051Z"
   },
   {
    "duration": 25,
    "start_time": "2025-01-23T17:12:26.536Z"
   },
   {
    "duration": 15,
    "start_time": "2025-01-23T17:12:26.563Z"
   },
   {
    "duration": 14,
    "start_time": "2025-01-23T17:12:26.580Z"
   },
   {
    "duration": 59,
    "start_time": "2025-01-23T17:12:26.595Z"
   },
   {
    "duration": 21,
    "start_time": "2025-01-23T17:12:26.655Z"
   },
   {
    "duration": 26,
    "start_time": "2025-01-23T17:12:26.677Z"
   },
   {
    "duration": 5,
    "start_time": "2025-01-23T17:12:26.705Z"
   },
   {
    "duration": 62,
    "start_time": "2025-01-23T17:12:26.712Z"
   },
   {
    "duration": 39,
    "start_time": "2025-01-23T17:12:26.776Z"
   },
   {
    "duration": 59,
    "start_time": "2025-01-23T17:12:26.817Z"
   },
   {
    "duration": 332,
    "start_time": "2025-01-23T17:12:26.879Z"
   },
   {
    "duration": 324,
    "start_time": "2025-01-23T17:12:27.212Z"
   },
   {
    "duration": 436,
    "start_time": "2025-01-23T17:12:27.546Z"
   },
   {
    "duration": 339,
    "start_time": "2025-01-23T17:12:27.983Z"
   },
   {
    "duration": 324,
    "start_time": "2025-01-23T17:12:28.324Z"
   },
   {
    "duration": 382,
    "start_time": "2025-01-23T17:12:28.650Z"
   },
   {
    "duration": 309,
    "start_time": "2025-01-23T17:12:29.034Z"
   },
   {
    "duration": 315,
    "start_time": "2025-01-23T17:12:29.345Z"
   },
   {
    "duration": 366,
    "start_time": "2025-01-23T17:12:29.661Z"
   },
   {
    "duration": 361,
    "start_time": "2025-01-23T17:12:30.030Z"
   },
   {
    "duration": 430,
    "start_time": "2025-01-23T17:12:30.393Z"
   },
   {
    "duration": 346,
    "start_time": "2025-01-23T17:12:30.825Z"
   },
   {
    "duration": 1128,
    "start_time": "2025-01-23T17:12:31.172Z"
   },
   {
    "duration": 31,
    "start_time": "2025-01-23T17:12:40.240Z"
   },
   {
    "duration": 115,
    "start_time": "2025-01-23T17:12:43.792Z"
   },
   {
    "duration": 76,
    "start_time": "2025-01-23T17:12:55.772Z"
   },
   {
    "duration": 40065,
    "start_time": "2025-01-23T17:12:59.887Z"
   },
   {
    "duration": 1628,
    "start_time": "2025-01-23T17:14:37.724Z"
   },
   {
    "duration": 80,
    "start_time": "2025-01-23T17:17:10.913Z"
   },
   {
    "duration": 1605,
    "start_time": "2025-01-23T17:17:15.342Z"
   },
   {
    "duration": 1537,
    "start_time": "2025-01-23T19:49:28.398Z"
   },
   {
    "duration": 2,
    "start_time": "2025-01-23T19:49:29.938Z"
   },
   {
    "duration": 1237,
    "start_time": "2025-01-23T19:49:29.941Z"
   },
   {
    "duration": 19,
    "start_time": "2025-01-23T19:49:31.180Z"
   },
   {
    "duration": 22,
    "start_time": "2025-01-23T19:49:31.202Z"
   },
   {
    "duration": 14,
    "start_time": "2025-01-23T19:49:31.226Z"
   },
   {
    "duration": 31,
    "start_time": "2025-01-23T19:49:31.258Z"
   },
   {
    "duration": 28,
    "start_time": "2025-01-23T19:49:31.291Z"
   },
   {
    "duration": 27,
    "start_time": "2025-01-23T19:49:31.320Z"
   },
   {
    "duration": 16,
    "start_time": "2025-01-23T19:49:31.349Z"
   },
   {
    "duration": 65,
    "start_time": "2025-01-23T19:49:31.366Z"
   },
   {
    "duration": 39,
    "start_time": "2025-01-23T19:49:31.433Z"
   },
   {
    "duration": 31,
    "start_time": "2025-01-23T19:49:31.473Z"
   },
   {
    "duration": 307,
    "start_time": "2025-01-23T19:49:31.506Z"
   },
   {
    "duration": 322,
    "start_time": "2025-01-23T19:49:31.815Z"
   },
   {
    "duration": 401,
    "start_time": "2025-01-23T19:49:32.139Z"
   },
   {
    "duration": 318,
    "start_time": "2025-01-23T19:49:32.541Z"
   },
   {
    "duration": 306,
    "start_time": "2025-01-23T19:49:32.861Z"
   },
   {
    "duration": 333,
    "start_time": "2025-01-23T19:49:33.169Z"
   },
   {
    "duration": 318,
    "start_time": "2025-01-23T19:49:33.503Z"
   },
   {
    "duration": 382,
    "start_time": "2025-01-23T19:49:33.822Z"
   },
   {
    "duration": 326,
    "start_time": "2025-01-23T19:49:34.206Z"
   },
   {
    "duration": 361,
    "start_time": "2025-01-23T19:49:34.533Z"
   },
   {
    "duration": 389,
    "start_time": "2025-01-23T19:49:34.896Z"
   },
   {
    "duration": 335,
    "start_time": "2025-01-23T19:49:35.287Z"
   },
   {
    "duration": 1172,
    "start_time": "2025-01-23T19:49:35.624Z"
   },
   {
    "duration": 4,
    "start_time": "2025-01-23T19:49:56.971Z"
   },
   {
    "duration": 34,
    "start_time": "2025-01-23T19:50:00.166Z"
   },
   {
    "duration": 195,
    "start_time": "2025-01-23T19:50:21.165Z"
   },
   {
    "duration": 156,
    "start_time": "2025-01-23T19:50:33.666Z"
   },
   {
    "duration": 8828,
    "start_time": "2025-01-23T19:50:47.441Z"
   },
   {
    "duration": 26,
    "start_time": "2025-01-23T19:51:29.165Z"
   },
   {
    "duration": 163,
    "start_time": "2025-01-23T19:51:45.149Z"
   },
   {
    "duration": 5,
    "start_time": "2025-01-23T19:51:57.055Z"
   },
   {
    "duration": 4,
    "start_time": "2025-01-23T19:52:46.649Z"
   },
   {
    "duration": 25,
    "start_time": "2025-01-23T19:52:49.124Z"
   },
   {
    "duration": 20,
    "start_time": "2025-01-23T19:53:03.843Z"
   },
   {
    "duration": 147,
    "start_time": "2025-01-23T19:53:27.256Z"
   },
   {
    "duration": 9032,
    "start_time": "2025-01-23T19:53:44.034Z"
   },
   {
    "duration": 109,
    "start_time": "2025-01-23T19:54:05.102Z"
   },
   {
    "duration": 4914,
    "start_time": "2025-01-23T19:54:10.951Z"
   },
   {
    "duration": 56,
    "start_time": "2025-01-23T19:54:34.691Z"
   },
   {
    "duration": 2003,
    "start_time": "2025-01-23T19:54:39.066Z"
   },
   {
    "duration": 36,
    "start_time": "2025-01-23T19:55:01.484Z"
   },
   {
    "duration": 300,
    "start_time": "2025-01-23T19:55:07.465Z"
   },
   {
    "duration": 109,
    "start_time": "2025-01-23T19:55:19.982Z"
   },
   {
    "duration": 5740,
    "start_time": "2025-01-23T19:55:23.728Z"
   },
   {
    "duration": 68,
    "start_time": "2025-01-23T19:55:39.309Z"
   },
   {
    "duration": 2009,
    "start_time": "2025-01-23T19:55:47.447Z"
   },
   {
    "duration": 1501,
    "start_time": "2025-01-23T19:57:02.024Z"
   },
   {
    "duration": 2,
    "start_time": "2025-01-23T19:57:03.527Z"
   },
   {
    "duration": 1191,
    "start_time": "2025-01-23T19:57:03.530Z"
   },
   {
    "duration": 19,
    "start_time": "2025-01-23T19:57:04.722Z"
   },
   {
    "duration": 23,
    "start_time": "2025-01-23T19:57:04.743Z"
   },
   {
    "duration": 14,
    "start_time": "2025-01-23T19:57:04.768Z"
   },
   {
    "duration": 28,
    "start_time": "2025-01-23T19:57:04.784Z"
   },
   {
    "duration": 52,
    "start_time": "2025-01-23T19:57:04.813Z"
   },
   {
    "duration": 27,
    "start_time": "2025-01-23T19:57:04.866Z"
   },
   {
    "duration": 4,
    "start_time": "2025-01-23T19:57:04.895Z"
   },
   {
    "duration": 36,
    "start_time": "2025-01-23T19:57:04.901Z"
   },
   {
    "duration": 42,
    "start_time": "2025-01-23T19:57:04.939Z"
   },
   {
    "duration": 31,
    "start_time": "2025-01-23T19:57:04.982Z"
   },
   {
    "duration": 312,
    "start_time": "2025-01-23T19:57:05.015Z"
   },
   {
    "duration": 319,
    "start_time": "2025-01-23T19:57:05.328Z"
   },
   {
    "duration": 401,
    "start_time": "2025-01-23T19:57:05.648Z"
   },
   {
    "duration": 293,
    "start_time": "2025-01-23T19:57:06.050Z"
   },
   {
    "duration": 304,
    "start_time": "2025-01-23T19:57:06.344Z"
   },
   {
    "duration": 328,
    "start_time": "2025-01-23T19:57:06.650Z"
   },
   {
    "duration": 310,
    "start_time": "2025-01-23T19:57:06.979Z"
   },
   {
    "duration": 307,
    "start_time": "2025-01-23T19:57:07.290Z"
   },
   {
    "duration": 318,
    "start_time": "2025-01-23T19:57:07.599Z"
   },
   {
    "duration": 328,
    "start_time": "2025-01-23T19:57:07.919Z"
   },
   {
    "duration": 384,
    "start_time": "2025-01-23T19:57:08.256Z"
   },
   {
    "duration": 333,
    "start_time": "2025-01-23T19:57:08.642Z"
   },
   {
    "duration": 1095,
    "start_time": "2025-01-23T19:57:08.977Z"
   },
   {
    "duration": 23,
    "start_time": "2025-01-23T19:57:27.226Z"
   },
   {
    "duration": 35,
    "start_time": "2025-01-23T19:57:30.288Z"
   },
   {
    "duration": 203,
    "start_time": "2025-01-23T19:57:36.865Z"
   },
   {
    "duration": 29,
    "start_time": "2025-01-23T19:58:05.468Z"
   },
   {
    "duration": 298,
    "start_time": "2025-01-23T19:58:09.466Z"
   },
   {
    "duration": 21,
    "start_time": "2025-01-23T19:58:42.423Z"
   },
   {
    "duration": 36,
    "start_time": "2025-01-23T19:58:47.124Z"
   },
   {
    "duration": 253,
    "start_time": "2025-01-23T19:58:51.301Z"
   },
   {
    "duration": 208,
    "start_time": "2025-01-23T19:59:11.549Z"
   },
   {
    "duration": 4,
    "start_time": "2025-01-23T19:59:31.044Z"
   },
   {
    "duration": 22,
    "start_time": "2025-01-23T20:03:01.671Z"
   },
   {
    "duration": 221,
    "start_time": "2025-01-23T20:03:05.140Z"
   },
   {
    "duration": 32,
    "start_time": "2025-01-23T20:03:21.042Z"
   },
   {
    "duration": 290,
    "start_time": "2025-01-23T20:03:22.866Z"
   },
   {
    "duration": 13,
    "start_time": "2025-01-23T20:03:32.249Z"
   },
   {
    "duration": 20,
    "start_time": "2025-01-23T20:05:50.771Z"
   },
   {
    "duration": 283,
    "start_time": "2025-01-23T20:06:32.254Z"
   },
   {
    "duration": 15,
    "start_time": "2025-01-23T20:06:44.225Z"
   },
   {
    "duration": 317,
    "start_time": "2025-01-23T20:08:26.037Z"
   },
   {
    "duration": 86,
    "start_time": "2025-01-23T20:08:57.457Z"
   },
   {
    "duration": 13,
    "start_time": "2025-01-23T20:09:12.134Z"
   },
   {
    "duration": 11,
    "start_time": "2025-01-23T20:09:21.195Z"
   },
   {
    "duration": 88,
    "start_time": "2025-01-23T20:09:46.769Z"
   },
   {
    "duration": 12,
    "start_time": "2025-01-23T20:09:51.877Z"
   },
   {
    "duration": 226,
    "start_time": "2025-01-23T20:11:08.231Z"
   },
   {
    "duration": 25,
    "start_time": "2025-01-23T20:11:30.511Z"
   },
   {
    "duration": 21,
    "start_time": "2025-01-23T20:12:50.832Z"
   },
   {
    "duration": 16,
    "start_time": "2025-01-23T20:12:53.277Z"
   },
   {
    "duration": 25,
    "start_time": "2025-01-23T20:16:31.806Z"
   },
   {
    "duration": 119,
    "start_time": "2025-01-23T20:16:36.576Z"
   },
   {
    "duration": 16,
    "start_time": "2025-01-23T20:16:46.900Z"
   },
   {
    "duration": 403,
    "start_time": "2025-01-23T20:18:53.465Z"
   },
   {
    "duration": 24,
    "start_time": "2025-01-23T20:19:28.439Z"
   },
   {
    "duration": 16,
    "start_time": "2025-01-23T20:19:41.699Z"
   },
   {
    "duration": 330,
    "start_time": "2025-01-23T20:21:37.925Z"
   },
   {
    "duration": 4,
    "start_time": "2025-01-23T21:08:40.919Z"
   },
   {
    "duration": 9,
    "start_time": "2025-01-23T21:09:28.675Z"
   },
   {
    "duration": 4,
    "start_time": "2025-01-23T21:10:03.401Z"
   },
   {
    "duration": 28,
    "start_time": "2025-01-23T21:10:21.051Z"
   },
   {
    "duration": 18,
    "start_time": "2025-01-23T21:10:23.416Z"
   },
   {
    "duration": 4,
    "start_time": "2025-01-23T21:10:27.331Z"
   },
   {
    "duration": 432,
    "start_time": "2025-01-23T21:11:22.532Z"
   },
   {
    "duration": 4,
    "start_time": "2025-01-23T21:11:26.366Z"
   },
   {
    "duration": 108,
    "start_time": "2025-01-23T21:21:10.065Z"
   },
   {
    "duration": 4,
    "start_time": "2025-01-23T21:21:15.565Z"
   },
   {
    "duration": 31,
    "start_time": "2025-01-23T21:21:46.781Z"
   },
   {
    "duration": 4,
    "start_time": "2025-01-23T21:21:51.803Z"
   },
   {
    "duration": 16,
    "start_time": "2025-01-23T21:23:08.271Z"
   },
   {
    "duration": 429,
    "start_time": "2025-01-23T21:23:21.349Z"
   },
   {
    "duration": 3,
    "start_time": "2025-01-23T21:23:27.645Z"
   },
   {
    "duration": 6,
    "start_time": "2025-01-23T21:24:39.947Z"
   },
   {
    "duration": 4,
    "start_time": "2025-01-23T21:24:54.374Z"
   },
   {
    "duration": 4,
    "start_time": "2025-01-23T21:26:07.202Z"
   },
   {
    "duration": 3,
    "start_time": "2025-01-23T21:26:47.214Z"
   },
   {
    "duration": 6,
    "start_time": "2025-01-23T21:26:54.565Z"
   },
   {
    "duration": 11,
    "start_time": "2025-01-23T22:19:43.265Z"
   },
   {
    "duration": 12,
    "start_time": "2025-01-23T22:19:51.706Z"
   },
   {
    "duration": 9,
    "start_time": "2025-01-23T22:20:53.241Z"
   },
   {
    "duration": 8,
    "start_time": "2025-01-23T22:21:04.757Z"
   },
   {
    "duration": 8,
    "start_time": "2025-01-23T22:22:04.393Z"
   },
   {
    "duration": 3,
    "start_time": "2025-01-23T22:23:04.462Z"
   },
   {
    "duration": 2,
    "start_time": "2025-01-23T22:27:29.333Z"
   },
   {
    "duration": 4,
    "start_time": "2025-01-23T22:27:37.622Z"
   },
   {
    "duration": 3,
    "start_time": "2025-01-23T22:28:50.428Z"
   },
   {
    "duration": 3,
    "start_time": "2025-01-23T22:29:40.768Z"
   },
   {
    "duration": 1857,
    "start_time": "2025-01-24T08:56:53.643Z"
   },
   {
    "duration": 3,
    "start_time": "2025-01-24T08:56:55.502Z"
   },
   {
    "duration": 1330,
    "start_time": "2025-01-24T08:56:55.507Z"
   },
   {
    "duration": 33,
    "start_time": "2025-01-24T08:56:56.839Z"
   },
   {
    "duration": 18,
    "start_time": "2025-01-24T08:56:56.874Z"
   },
   {
    "duration": 17,
    "start_time": "2025-01-24T08:56:56.894Z"
   },
   {
    "duration": 63,
    "start_time": "2025-01-24T08:56:56.913Z"
   },
   {
    "duration": 25,
    "start_time": "2025-01-24T08:56:56.978Z"
   },
   {
    "duration": 34,
    "start_time": "2025-01-24T08:56:57.005Z"
   },
   {
    "duration": 6,
    "start_time": "2025-01-24T08:56:57.059Z"
   },
   {
    "duration": 70,
    "start_time": "2025-01-24T08:56:57.067Z"
   },
   {
    "duration": 41,
    "start_time": "2025-01-24T08:56:57.139Z"
   },
   {
    "duration": 38,
    "start_time": "2025-01-24T08:56:57.182Z"
   },
   {
    "duration": 371,
    "start_time": "2025-01-24T08:56:57.222Z"
   },
   {
    "duration": 404,
    "start_time": "2025-01-24T08:56:57.594Z"
   },
   {
    "duration": 474,
    "start_time": "2025-01-24T08:56:57.999Z"
   },
   {
    "duration": 354,
    "start_time": "2025-01-24T08:56:58.475Z"
   },
   {
    "duration": 350,
    "start_time": "2025-01-24T08:56:58.831Z"
   },
   {
    "duration": 386,
    "start_time": "2025-01-24T08:56:59.182Z"
   },
   {
    "duration": 389,
    "start_time": "2025-01-24T08:56:59.570Z"
   },
   {
    "duration": 391,
    "start_time": "2025-01-24T08:56:59.961Z"
   },
   {
    "duration": 379,
    "start_time": "2025-01-24T08:57:00.354Z"
   },
   {
    "duration": 410,
    "start_time": "2025-01-24T08:57:00.735Z"
   },
   {
    "duration": 512,
    "start_time": "2025-01-24T08:57:01.147Z"
   },
   {
    "duration": 411,
    "start_time": "2025-01-24T08:57:01.662Z"
   },
   {
    "duration": 1358,
    "start_time": "2025-01-24T08:57:02.075Z"
   },
   {
    "duration": 50,
    "start_time": "2025-01-24T08:57:03.436Z"
   },
   {
    "duration": 79,
    "start_time": "2025-01-24T08:57:03.490Z"
   },
   {
    "duration": 404,
    "start_time": "2025-01-24T08:57:03.660Z"
   },
   {
    "duration": 148,
    "start_time": "2025-01-24T08:57:04.067Z"
   },
   {
    "duration": 43,
    "start_time": "2025-01-24T08:57:04.217Z"
   },
   {
    "duration": 141,
    "start_time": "2025-01-24T08:57:04.263Z"
   },
   {
    "duration": 155,
    "start_time": "2025-01-24T08:57:04.406Z"
   },
   {
    "duration": 500,
    "start_time": "2025-01-24T08:57:04.564Z"
   },
   {
    "duration": 92,
    "start_time": "2025-01-24T08:57:05.069Z"
   },
   {
    "duration": 95,
    "start_time": "2025-01-24T08:57:05.166Z"
   },
   {
    "duration": 37,
    "start_time": "2025-01-24T10:06:16.709Z"
   },
   {
    "duration": 27,
    "start_time": "2025-01-24T10:06:19.878Z"
   },
   {
    "duration": 512,
    "start_time": "2025-01-24T10:06:23.555Z"
   },
   {
    "duration": 122,
    "start_time": "2025-01-24T10:06:50.955Z"
   },
   {
    "duration": 10,
    "start_time": "2025-01-24T10:07:03.808Z"
   },
   {
    "duration": 6,
    "start_time": "2025-01-24T10:07:24.357Z"
   },
   {
    "duration": 13,
    "start_time": "2025-01-24T10:16:49.580Z"
   },
   {
    "duration": 11,
    "start_time": "2025-01-24T10:27:18.495Z"
   },
   {
    "duration": 10,
    "start_time": "2025-01-24T10:27:29.796Z"
   },
   {
    "duration": 20,
    "start_time": "2025-01-24T10:27:47.051Z"
   },
   {
    "duration": 83,
    "start_time": "2025-01-24T10:28:25.803Z"
   },
   {
    "duration": 20,
    "start_time": "2025-01-24T10:28:32.013Z"
   },
   {
    "duration": 81,
    "start_time": "2025-01-24T10:29:30.996Z"
   },
   {
    "duration": 18,
    "start_time": "2025-01-24T10:33:57.601Z"
   },
   {
    "duration": 27,
    "start_time": "2025-01-24T10:34:47.731Z"
   },
   {
    "duration": 40,
    "start_time": "2025-01-24T10:36:38.545Z"
   },
   {
    "duration": 36,
    "start_time": "2025-01-24T10:36:54.747Z"
   },
   {
    "duration": 48,
    "start_time": "2025-01-24T10:36:57.011Z"
   },
   {
    "duration": 345,
    "start_time": "2025-01-24T10:37:00.525Z"
   },
   {
    "duration": 40,
    "start_time": "2025-01-24T10:37:08.927Z"
   },
   {
    "duration": 4,
    "start_time": "2025-01-24T10:37:55.994Z"
   },
   {
    "duration": 7,
    "start_time": "2025-01-24T10:38:20.188Z"
   },
   {
    "duration": 40,
    "start_time": "2025-01-24T10:39:24.237Z"
   },
   {
    "duration": 95,
    "start_time": "2025-01-24T10:45:46.753Z"
   },
   {
    "duration": 90,
    "start_time": "2025-01-24T10:48:03.917Z"
   },
   {
    "duration": 93,
    "start_time": "2025-01-24T10:48:14.875Z"
   },
   {
    "duration": 44,
    "start_time": "2025-01-24T10:54:26.725Z"
   },
   {
    "duration": 39,
    "start_time": "2025-01-24T10:55:34.965Z"
   },
   {
    "duration": 40,
    "start_time": "2025-01-24T10:56:42.491Z"
   },
   {
    "duration": 19,
    "start_time": "2025-01-24T10:57:10.645Z"
   },
   {
    "duration": 27,
    "start_time": "2025-01-24T10:58:26.109Z"
   },
   {
    "duration": 29,
    "start_time": "2025-01-24T10:59:00.973Z"
   },
   {
    "duration": 25,
    "start_time": "2025-01-24T10:59:21.932Z"
   },
   {
    "duration": 28,
    "start_time": "2025-01-24T11:00:07.824Z"
   },
   {
    "duration": 39,
    "start_time": "2025-01-24T11:04:11.581Z"
   },
   {
    "duration": 34,
    "start_time": "2025-01-24T11:04:14.461Z"
   },
   {
    "duration": 26,
    "start_time": "2025-01-24T11:05:11.358Z"
   },
   {
    "duration": 35,
    "start_time": "2025-01-24T11:05:57.980Z"
   },
   {
    "duration": 38,
    "start_time": "2025-01-24T11:06:00.322Z"
   },
   {
    "duration": 352,
    "start_time": "2025-01-24T11:06:06.717Z"
   },
   {
    "duration": 27,
    "start_time": "2025-01-24T11:06:14.731Z"
   },
   {
    "duration": 32,
    "start_time": "2025-01-24T11:06:43.968Z"
   },
   {
    "duration": 103,
    "start_time": "2025-01-24T11:06:46.257Z"
   },
   {
    "duration": 30,
    "start_time": "2025-01-24T11:06:52.506Z"
   },
   {
    "duration": 31,
    "start_time": "2025-01-24T11:07:12.463Z"
   },
   {
    "duration": 63,
    "start_time": "2025-01-24T11:07:14.797Z"
   },
   {
    "duration": 314,
    "start_time": "2025-01-24T11:07:18.057Z"
   },
   {
    "duration": 27,
    "start_time": "2025-01-24T11:07:49.403Z"
   },
   {
    "duration": 3,
    "start_time": "2025-01-24T11:08:28.566Z"
   },
   {
    "duration": 4,
    "start_time": "2025-01-24T11:08:38.889Z"
   },
   {
    "duration": 4,
    "start_time": "2025-01-24T12:39:25.769Z"
   },
   {
    "duration": 4,
    "start_time": "2025-01-24T12:39:32.118Z"
   },
   {
    "duration": 5,
    "start_time": "2025-01-24T12:39:37.461Z"
   },
   {
    "duration": 7,
    "start_time": "2025-01-24T12:47:13.465Z"
   },
   {
    "duration": 12,
    "start_time": "2025-01-24T12:49:35.720Z"
   },
   {
    "duration": 7,
    "start_time": "2025-01-24T12:50:32.140Z"
   },
   {
    "duration": 6,
    "start_time": "2025-01-24T13:02:55.552Z"
   },
   {
    "duration": 8,
    "start_time": "2025-01-24T13:03:44.437Z"
   },
   {
    "duration": 11,
    "start_time": "2025-01-24T13:04:38.218Z"
   },
   {
    "duration": 10,
    "start_time": "2025-01-24T13:05:00.079Z"
   },
   {
    "duration": 14,
    "start_time": "2025-01-24T13:05:06.928Z"
   },
   {
    "duration": 6,
    "start_time": "2025-01-24T13:06:16.573Z"
   },
   {
    "duration": 6,
    "start_time": "2025-01-24T13:06:26.524Z"
   },
   {
    "duration": 6,
    "start_time": "2025-01-24T13:06:41.838Z"
   },
   {
    "duration": 13,
    "start_time": "2025-01-24T13:06:43.927Z"
   },
   {
    "duration": 9,
    "start_time": "2025-01-24T13:06:57.391Z"
   },
   {
    "duration": 15,
    "start_time": "2025-01-24T13:07:00.485Z"
   },
   {
    "duration": 3,
    "start_time": "2025-01-24T13:46:39.420Z"
   },
   {
    "duration": 22,
    "start_time": "2025-01-24T13:46:47.948Z"
   },
   {
    "duration": 9,
    "start_time": "2025-01-24T13:47:41.696Z"
   },
   {
    "duration": 9,
    "start_time": "2025-01-24T13:48:09.262Z"
   },
   {
    "duration": 51,
    "start_time": "2025-01-24T16:25:59.462Z"
   },
   {
    "duration": 1724,
    "start_time": "2025-01-24T16:26:21.300Z"
   },
   {
    "duration": 5,
    "start_time": "2025-01-24T16:27:19.285Z"
   },
   {
    "duration": 11,
    "start_time": "2025-01-24T16:27:35.745Z"
   },
   {
    "duration": 10,
    "start_time": "2025-01-24T16:27:44.297Z"
   },
   {
    "duration": 4,
    "start_time": "2025-01-24T16:27:54.391Z"
   },
   {
    "duration": 8,
    "start_time": "2025-01-24T16:27:54.397Z"
   },
   {
    "duration": 2277,
    "start_time": "2025-01-24T16:27:54.407Z"
   },
   {
    "duration": 22,
    "start_time": "2025-01-24T16:27:56.686Z"
   },
   {
    "duration": 31,
    "start_time": "2025-01-24T16:27:56.710Z"
   },
   {
    "duration": 17,
    "start_time": "2025-01-24T16:27:56.744Z"
   },
   {
    "duration": 36,
    "start_time": "2025-01-24T16:27:56.763Z"
   },
   {
    "duration": 57,
    "start_time": "2025-01-24T16:27:56.801Z"
   },
   {
    "duration": 31,
    "start_time": "2025-01-24T16:27:56.859Z"
   },
   {
    "duration": 6,
    "start_time": "2025-01-24T16:27:56.892Z"
   },
   {
    "duration": 58,
    "start_time": "2025-01-24T16:27:56.900Z"
   },
   {
    "duration": 38,
    "start_time": "2025-01-24T16:27:56.960Z"
   },
   {
    "duration": 62,
    "start_time": "2025-01-24T16:27:56.999Z"
   },
   {
    "duration": 380,
    "start_time": "2025-01-24T16:27:57.064Z"
   },
   {
    "duration": 392,
    "start_time": "2025-01-24T16:27:57.447Z"
   },
   {
    "duration": 475,
    "start_time": "2025-01-24T16:27:57.841Z"
   },
   {
    "duration": 370,
    "start_time": "2025-01-24T16:27:58.319Z"
   },
   {
    "duration": 378,
    "start_time": "2025-01-24T16:27:58.691Z"
   },
   {
    "duration": 389,
    "start_time": "2025-01-24T16:27:59.071Z"
   },
   {
    "duration": 389,
    "start_time": "2025-01-24T16:27:59.462Z"
   },
   {
    "duration": 367,
    "start_time": "2025-01-24T16:27:59.852Z"
   },
   {
    "duration": 382,
    "start_time": "2025-01-24T16:28:00.220Z"
   },
   {
    "duration": 408,
    "start_time": "2025-01-24T16:28:00.603Z"
   },
   {
    "duration": 495,
    "start_time": "2025-01-24T16:28:01.013Z"
   },
   {
    "duration": 452,
    "start_time": "2025-01-24T16:28:01.509Z"
   },
   {
    "duration": 1395,
    "start_time": "2025-01-24T16:28:01.963Z"
   },
   {
    "duration": 51,
    "start_time": "2025-01-24T16:28:03.360Z"
   },
   {
    "duration": 225,
    "start_time": "2025-01-24T16:28:03.412Z"
   },
   {
    "duration": 515,
    "start_time": "2025-01-24T16:28:03.640Z"
   },
   {
    "duration": 182,
    "start_time": "2025-01-24T16:28:04.157Z"
   },
   {
    "duration": 9,
    "start_time": "2025-01-24T16:28:11.960Z"
   },
   {
    "duration": 7,
    "start_time": "2025-01-24T16:29:13.152Z"
   },
   {
    "duration": 42,
    "start_time": "2025-01-24T16:29:43.983Z"
   },
   {
    "duration": 24,
    "start_time": "2025-01-24T16:29:46.505Z"
   },
   {
    "duration": 27,
    "start_time": "2025-01-24T16:29:50.907Z"
   },
   {
    "duration": 8,
    "start_time": "2025-01-24T16:30:32.017Z"
   },
   {
    "duration": 26,
    "start_time": "2025-01-24T16:30:47.969Z"
   },
   {
    "duration": 27,
    "start_time": "2025-01-24T16:31:59.715Z"
   },
   {
    "duration": 31,
    "start_time": "2025-01-24T16:32:35.759Z"
   },
   {
    "duration": 59,
    "start_time": "2025-01-24T16:33:16.041Z"
   },
   {
    "duration": 110,
    "start_time": "2025-01-24T16:33:17.019Z"
   },
   {
    "duration": 351,
    "start_time": "2025-01-24T16:33:18.784Z"
   },
   {
    "duration": 7,
    "start_time": "2025-01-24T16:33:50.042Z"
   },
   {
    "duration": 26,
    "start_time": "2025-01-24T16:34:22.877Z"
   },
   {
    "duration": 3,
    "start_time": "2025-01-24T16:34:36.614Z"
   },
   {
    "duration": 3,
    "start_time": "2025-01-24T16:34:38.798Z"
   },
   {
    "duration": 8,
    "start_time": "2025-01-24T16:34:42.933Z"
   },
   {
    "duration": 6,
    "start_time": "2025-01-24T17:06:25.148Z"
   },
   {
    "duration": 37,
    "start_time": "2025-01-24T17:44:39.968Z"
   },
   {
    "duration": 44,
    "start_time": "2025-01-24T17:44:40.885Z"
   },
   {
    "duration": 447,
    "start_time": "2025-01-24T17:44:41.989Z"
   },
   {
    "duration": 6,
    "start_time": "2025-01-24T17:44:43.711Z"
   },
   {
    "duration": 102,
    "start_time": "2025-01-24T17:49:47.628Z"
   },
   {
    "duration": 300,
    "start_time": "2025-01-24T17:50:36.384Z"
   },
   {
    "duration": 1146,
    "start_time": "2025-01-24T17:56:33.476Z"
   },
   {
    "duration": 16,
    "start_time": "2025-01-24T17:56:38.484Z"
   },
   {
    "duration": 25,
    "start_time": "2025-01-24T17:57:18.315Z"
   },
   {
    "duration": 1018,
    "start_time": "2025-01-24T17:57:47.077Z"
   },
   {
    "duration": 22,
    "start_time": "2025-01-24T17:57:51.274Z"
   },
   {
    "duration": 1532,
    "start_time": "2025-01-24T17:58:05.355Z"
   },
   {
    "duration": 1233,
    "start_time": "2025-01-24T17:58:17.836Z"
   },
   {
    "duration": 25,
    "start_time": "2025-01-24T17:58:25.595Z"
   },
   {
    "duration": 896,
    "start_time": "2025-01-24T17:58:29.487Z"
   },
   {
    "duration": 21,
    "start_time": "2025-01-24T17:58:33.117Z"
   },
   {
    "duration": 867,
    "start_time": "2025-01-24T18:00:43.814Z"
   },
   {
    "duration": 17,
    "start_time": "2025-01-24T18:00:46.344Z"
   },
   {
    "duration": 110,
    "start_time": "2025-01-24T18:09:49.029Z"
   },
   {
    "duration": 245,
    "start_time": "2025-01-24T18:10:11.287Z"
   },
   {
    "duration": 40,
    "start_time": "2025-01-24T18:12:59.810Z"
   },
   {
    "duration": 51,
    "start_time": "2025-01-24T18:13:00.780Z"
   },
   {
    "duration": 8,
    "start_time": "2025-01-24T18:13:01.864Z"
   },
   {
    "duration": 68,
    "start_time": "2025-01-24T18:13:41.363Z"
   },
   {
    "duration": 69,
    "start_time": "2025-01-24T18:13:53.407Z"
   },
   {
    "duration": 109,
    "start_time": "2025-01-24T18:14:27.928Z"
   },
   {
    "duration": 45,
    "start_time": "2025-01-24T18:14:46.206Z"
   },
   {
    "duration": 27,
    "start_time": "2025-01-24T18:14:47.002Z"
   },
   {
    "duration": 359,
    "start_time": "2025-01-24T18:14:48.176Z"
   },
   {
    "duration": 6,
    "start_time": "2025-01-24T18:14:50.302Z"
   },
   {
    "duration": 262,
    "start_time": "2025-01-24T18:16:02.469Z"
   },
   {
    "duration": 3,
    "start_time": "2025-01-24T18:16:16.702Z"
   },
   {
    "duration": 8,
    "start_time": "2025-01-24T18:16:20.196Z"
   },
   {
    "duration": 4,
    "start_time": "2025-01-24T18:16:24.136Z"
   },
   {
    "duration": 18,
    "start_time": "2025-01-24T18:30:03.973Z"
   },
   {
    "duration": 20,
    "start_time": "2025-01-24T18:30:26.967Z"
   },
   {
    "duration": 11,
    "start_time": "2025-01-24T18:30:35.631Z"
   },
   {
    "duration": 4,
    "start_time": "2025-01-24T18:41:32.113Z"
   },
   {
    "duration": 3,
    "start_time": "2025-01-24T18:48:59.376Z"
   },
   {
    "duration": 22,
    "start_time": "2025-01-24T18:51:03.517Z"
   },
   {
    "duration": 3,
    "start_time": "2025-01-24T18:53:59.655Z"
   },
   {
    "duration": 5,
    "start_time": "2025-01-24T18:54:05.038Z"
   },
   {
    "duration": 7,
    "start_time": "2025-01-24T18:54:17.458Z"
   },
   {
    "duration": 7,
    "start_time": "2025-01-24T18:55:25.248Z"
   },
   {
    "duration": 6,
    "start_time": "2025-01-24T18:55:52.146Z"
   },
   {
    "duration": 6,
    "start_time": "2025-01-24T18:56:00.200Z"
   },
   {
    "duration": 51,
    "start_time": "2025-01-24T21:47:21.390Z"
   },
   {
    "duration": 6,
    "start_time": "2025-01-24T21:47:34.844Z"
   },
   {
    "duration": 1723,
    "start_time": "2025-01-24T21:47:50.132Z"
   },
   {
    "duration": 3,
    "start_time": "2025-01-24T21:47:51.857Z"
   },
   {
    "duration": 1226,
    "start_time": "2025-01-24T21:47:51.862Z"
   },
   {
    "duration": 28,
    "start_time": "2025-01-24T21:47:53.090Z"
   },
   {
    "duration": 16,
    "start_time": "2025-01-24T21:47:53.120Z"
   },
   {
    "duration": 18,
    "start_time": "2025-01-24T21:47:53.138Z"
   },
   {
    "duration": 57,
    "start_time": "2025-01-24T21:47:53.158Z"
   },
   {
    "duration": 24,
    "start_time": "2025-01-24T21:47:53.216Z"
   },
   {
    "duration": 31,
    "start_time": "2025-01-24T21:47:53.242Z"
   },
   {
    "duration": 5,
    "start_time": "2025-01-24T21:47:53.275Z"
   },
   {
    "duration": 64,
    "start_time": "2025-01-24T21:47:53.281Z"
   },
   {
    "duration": 37,
    "start_time": "2025-01-24T21:47:53.346Z"
   },
   {
    "duration": 53,
    "start_time": "2025-01-24T21:47:53.385Z"
   },
   {
    "duration": 360,
    "start_time": "2025-01-24T21:47:53.442Z"
   },
   {
    "duration": 357,
    "start_time": "2025-01-24T21:47:53.804Z"
   },
   {
    "duration": 464,
    "start_time": "2025-01-24T21:47:54.163Z"
   },
   {
    "duration": 342,
    "start_time": "2025-01-24T21:47:54.629Z"
   },
   {
    "duration": 380,
    "start_time": "2025-01-24T21:47:54.972Z"
   },
   {
    "duration": 373,
    "start_time": "2025-01-24T21:47:55.354Z"
   },
   {
    "duration": 352,
    "start_time": "2025-01-24T21:47:55.729Z"
   },
   {
    "duration": 340,
    "start_time": "2025-01-24T21:47:56.082Z"
   },
   {
    "duration": 355,
    "start_time": "2025-01-24T21:47:56.423Z"
   },
   {
    "duration": 375,
    "start_time": "2025-01-24T21:47:56.779Z"
   },
   {
    "duration": 454,
    "start_time": "2025-01-24T21:47:57.156Z"
   },
   {
    "duration": 371,
    "start_time": "2025-01-24T21:47:57.612Z"
   },
   {
    "duration": 1306,
    "start_time": "2025-01-24T21:47:57.985Z"
   },
   {
    "duration": 43,
    "start_time": "2025-01-24T21:47:59.293Z"
   },
   {
    "duration": 72,
    "start_time": "2025-01-24T21:47:59.337Z"
   },
   {
    "duration": 496,
    "start_time": "2025-01-24T21:47:59.416Z"
   },
   {
    "duration": 94,
    "start_time": "2025-01-24T21:47:59.914Z"
   },
   {
    "duration": 205,
    "start_time": "2025-01-24T21:48:00.010Z"
   },
   {
    "duration": 43,
    "start_time": "2025-01-24T21:48:00.217Z"
   },
   {
    "duration": 93,
    "start_time": "2025-01-24T21:48:00.261Z"
   },
   {
    "duration": 99,
    "start_time": "2025-01-24T21:48:00.410Z"
   },
   {
    "duration": 103,
    "start_time": "2025-01-24T21:48:00.511Z"
   },
   {
    "duration": 135,
    "start_time": "2025-01-24T21:48:00.617Z"
   },
   {
    "duration": 55,
    "start_time": "2025-01-24T21:48:00.754Z"
   },
   {
    "duration": 503,
    "start_time": "2025-01-24T21:48:00.812Z"
   },
   {
    "duration": 98,
    "start_time": "2025-01-24T21:48:01.317Z"
   },
   {
    "duration": 293,
    "start_time": "2025-01-24T21:48:01.417Z"
   },
   {
    "duration": 92,
    "start_time": "2025-01-24T21:48:01.716Z"
   },
   {
    "duration": 68,
    "start_time": "2025-01-24T21:48:01.810Z"
   },
   {
    "duration": 14,
    "start_time": "2025-01-24T21:48:01.880Z"
   },
   {
    "duration": 27,
    "start_time": "2025-01-24T21:48:01.896Z"
   },
   {
    "duration": 29,
    "start_time": "2025-01-24T21:48:01.924Z"
   },
   {
    "duration": 7,
    "start_time": "2025-01-24T21:48:15.790Z"
   },
   {
    "duration": 23,
    "start_time": "2025-01-24T21:48:49.877Z"
   },
   {
    "duration": 22,
    "start_time": "2025-01-24T21:51:59.904Z"
   },
   {
    "duration": 22,
    "start_time": "2025-01-24T21:53:26.362Z"
   },
   {
    "duration": 23,
    "start_time": "2025-01-24T21:54:28.528Z"
   },
   {
    "duration": 22,
    "start_time": "2025-01-24T21:54:40.576Z"
   },
   {
    "duration": 1587,
    "start_time": "2025-01-26T19:57:16.716Z"
   },
   {
    "duration": 4,
    "start_time": "2025-01-26T19:57:18.305Z"
   },
   {
    "duration": 968,
    "start_time": "2025-01-26T19:57:18.311Z"
   },
   {
    "duration": 21,
    "start_time": "2025-01-26T19:57:19.281Z"
   },
   {
    "duration": 28,
    "start_time": "2025-01-26T19:57:19.304Z"
   },
   {
    "duration": 14,
    "start_time": "2025-01-26T19:57:19.334Z"
   },
   {
    "duration": 27,
    "start_time": "2025-01-26T19:57:19.350Z"
   },
   {
    "duration": 43,
    "start_time": "2025-01-26T19:57:19.379Z"
   },
   {
    "duration": 29,
    "start_time": "2025-01-26T19:57:19.424Z"
   },
   {
    "duration": 4,
    "start_time": "2025-01-26T19:57:19.455Z"
   },
   {
    "duration": 38,
    "start_time": "2025-01-26T19:57:19.460Z"
   },
   {
    "duration": 55,
    "start_time": "2025-01-26T19:57:19.500Z"
   },
   {
    "duration": 35,
    "start_time": "2025-01-26T19:57:19.557Z"
   },
   {
    "duration": 329,
    "start_time": "2025-01-26T19:57:19.594Z"
   },
   {
    "duration": 324,
    "start_time": "2025-01-26T19:57:19.925Z"
   },
   {
    "duration": 445,
    "start_time": "2025-01-26T19:57:20.250Z"
   },
   {
    "duration": 309,
    "start_time": "2025-01-26T19:57:20.697Z"
   },
   {
    "duration": 316,
    "start_time": "2025-01-26T19:57:21.007Z"
   },
   {
    "duration": 334,
    "start_time": "2025-01-26T19:57:21.324Z"
   },
   {
    "duration": 325,
    "start_time": "2025-01-26T19:57:21.660Z"
   },
   {
    "duration": 315,
    "start_time": "2025-01-26T19:57:21.988Z"
   },
   {
    "duration": 354,
    "start_time": "2025-01-26T19:57:22.305Z"
   },
   {
    "duration": 345,
    "start_time": "2025-01-26T19:57:22.660Z"
   },
   {
    "duration": 433,
    "start_time": "2025-01-26T19:57:23.006Z"
   },
   {
    "duration": 354,
    "start_time": "2025-01-26T19:57:23.440Z"
   },
   {
    "duration": 1225,
    "start_time": "2025-01-26T19:57:23.796Z"
   },
   {
    "duration": 30,
    "start_time": "2025-01-26T19:57:25.023Z"
   },
   {
    "duration": 169,
    "start_time": "2025-01-26T19:57:25.054Z"
   },
   {
    "duration": 402,
    "start_time": "2025-01-26T19:57:25.224Z"
   },
   {
    "duration": 99,
    "start_time": "2025-01-26T19:57:25.628Z"
   },
   {
    "duration": 296,
    "start_time": "2025-01-26T19:57:25.730Z"
   },
   {
    "duration": 35,
    "start_time": "2025-01-26T19:57:26.028Z"
   },
   {
    "duration": 59,
    "start_time": "2025-01-26T19:57:26.065Z"
   },
   {
    "duration": 97,
    "start_time": "2025-01-26T19:57:26.128Z"
   },
   {
    "duration": 197,
    "start_time": "2025-01-26T19:57:26.227Z"
   },
   {
    "duration": 42,
    "start_time": "2025-01-26T19:57:26.425Z"
   },
   {
    "duration": 55,
    "start_time": "2025-01-26T19:57:26.468Z"
   },
   {
    "duration": 495,
    "start_time": "2025-01-26T19:57:26.528Z"
   },
   {
    "duration": 8,
    "start_time": "2025-01-26T19:57:27.025Z"
   },
   {
    "duration": 293,
    "start_time": "2025-01-26T19:57:27.034Z"
   },
   {
    "duration": 92,
    "start_time": "2025-01-26T19:57:27.332Z"
   },
   {
    "duration": 23,
    "start_time": "2025-01-26T19:57:27.426Z"
   },
   {
    "duration": 35,
    "start_time": "2025-01-26T19:57:27.451Z"
   },
   {
    "duration": 3,
    "start_time": "2025-01-26T19:57:27.488Z"
   },
   {
    "duration": 40,
    "start_time": "2025-01-26T19:57:27.492Z"
   },
   {
    "duration": 20,
    "start_time": "2025-01-26T19:57:27.533Z"
   },
   {
    "duration": 20,
    "start_time": "2025-01-26T19:57:27.555Z"
   },
   {
    "duration": 129,
    "start_time": "2025-01-26T19:57:27.576Z"
   },
   {
    "duration": 1251,
    "start_time": "2025-01-26T19:58:15.421Z"
   },
   {
    "duration": 1264,
    "start_time": "2025-01-26T20:03:27.941Z"
   },
   {
    "duration": 76,
    "start_time": "2025-01-26T20:04:04.504Z"
   },
   {
    "duration": 72,
    "start_time": "2025-01-26T20:04:31.801Z"
   },
   {
    "duration": 74,
    "start_time": "2025-01-26T20:05:51.442Z"
   },
   {
    "duration": 73,
    "start_time": "2025-01-26T20:06:02.200Z"
   },
   {
    "duration": 67,
    "start_time": "2025-01-26T20:06:07.022Z"
   },
   {
    "duration": 1214,
    "start_time": "2025-01-26T20:06:29.246Z"
   },
   {
    "duration": 1223,
    "start_time": "2025-01-26T20:06:44.459Z"
   },
   {
    "duration": 1231,
    "start_time": "2025-01-26T20:49:23.571Z"
   },
   {
    "duration": 1425,
    "start_time": "2025-01-26T20:51:06.173Z"
   },
   {
    "duration": 6,
    "start_time": "2025-01-26T20:51:21.728Z"
   },
   {
    "duration": 1405,
    "start_time": "2025-01-26T20:52:14.697Z"
   },
   {
    "duration": 1435,
    "start_time": "2025-01-26T20:53:24.968Z"
   },
   {
    "duration": 1413,
    "start_time": "2025-01-26T20:53:45.954Z"
   },
   {
    "duration": 1408,
    "start_time": "2025-01-26T20:54:18.595Z"
   },
   {
    "duration": 1495,
    "start_time": "2025-01-26T20:55:20.892Z"
   },
   {
    "duration": 1416,
    "start_time": "2025-01-26T20:57:18.942Z"
   },
   {
    "duration": 1423,
    "start_time": "2025-01-26T20:58:54.021Z"
   },
   {
    "duration": 1400,
    "start_time": "2025-01-26T20:59:25.401Z"
   },
   {
    "duration": 1459,
    "start_time": "2025-01-26T21:00:12.114Z"
   },
   {
    "duration": 1448,
    "start_time": "2025-01-26T21:00:18.823Z"
   },
   {
    "duration": 1435,
    "start_time": "2025-01-26T21:00:42.214Z"
   },
   {
    "duration": 6,
    "start_time": "2025-01-26T21:02:09.281Z"
   },
   {
    "duration": 13,
    "start_time": "2025-01-26T21:02:57.148Z"
   },
   {
    "duration": 12,
    "start_time": "2025-01-26T21:03:10.521Z"
   },
   {
    "duration": 13,
    "start_time": "2025-01-26T21:07:19.450Z"
   },
   {
    "duration": 6,
    "start_time": "2025-01-26T21:10:30.830Z"
   },
   {
    "duration": 1426,
    "start_time": "2025-01-26T21:16:00.917Z"
   },
   {
    "duration": 5,
    "start_time": "2025-01-26T21:16:34.220Z"
   },
   {
    "duration": 66,
    "start_time": "2025-01-26T22:20:14.913Z"
   },
   {
    "duration": 75,
    "start_time": "2025-01-26T22:20:26.668Z"
   },
   {
    "duration": 13,
    "start_time": "2025-01-26T22:20:38.067Z"
   },
   {
    "duration": 13,
    "start_time": "2025-01-26T22:20:45.769Z"
   },
   {
    "duration": 14,
    "start_time": "2025-01-26T22:20:55.888Z"
   },
   {
    "duration": 12,
    "start_time": "2025-01-26T22:21:03.525Z"
   },
   {
    "duration": 13,
    "start_time": "2025-01-26T22:23:33.525Z"
   },
   {
    "duration": 12,
    "start_time": "2025-01-26T22:24:24.702Z"
   },
   {
    "duration": 6,
    "start_time": "2025-01-26T22:24:38.493Z"
   },
   {
    "duration": 1710,
    "start_time": "2025-01-27T16:13:48.666Z"
   },
   {
    "duration": 4,
    "start_time": "2025-01-27T16:13:50.378Z"
   },
   {
    "duration": 1255,
    "start_time": "2025-01-27T16:13:50.384Z"
   },
   {
    "duration": 22,
    "start_time": "2025-01-27T16:13:51.641Z"
   },
   {
    "duration": 36,
    "start_time": "2025-01-27T16:13:51.665Z"
   },
   {
    "duration": 19,
    "start_time": "2025-01-27T16:13:51.703Z"
   },
   {
    "duration": 32,
    "start_time": "2025-01-27T16:13:51.723Z"
   },
   {
    "duration": 33,
    "start_time": "2025-01-27T16:13:51.756Z"
   },
   {
    "duration": 40,
    "start_time": "2025-01-27T16:13:51.807Z"
   },
   {
    "duration": 5,
    "start_time": "2025-01-27T16:13:51.849Z"
   },
   {
    "duration": 72,
    "start_time": "2025-01-27T16:13:51.856Z"
   },
   {
    "duration": 44,
    "start_time": "2025-01-27T16:13:51.930Z"
   },
   {
    "duration": 52,
    "start_time": "2025-01-27T16:13:51.976Z"
   },
   {
    "duration": 357,
    "start_time": "2025-01-27T16:13:52.032Z"
   },
   {
    "duration": 373,
    "start_time": "2025-01-27T16:13:52.391Z"
   },
   {
    "duration": 472,
    "start_time": "2025-01-27T16:13:52.765Z"
   },
   {
    "duration": 347,
    "start_time": "2025-01-27T16:13:53.238Z"
   },
   {
    "duration": 349,
    "start_time": "2025-01-27T16:13:53.587Z"
   },
   {
    "duration": 370,
    "start_time": "2025-01-27T16:13:53.937Z"
   },
   {
    "duration": 361,
    "start_time": "2025-01-27T16:13:54.309Z"
   },
   {
    "duration": 377,
    "start_time": "2025-01-27T16:13:54.672Z"
   },
   {
    "duration": 363,
    "start_time": "2025-01-27T16:13:55.052Z"
   },
   {
    "duration": 380,
    "start_time": "2025-01-27T16:13:55.417Z"
   },
   {
    "duration": 472,
    "start_time": "2025-01-27T16:13:55.798Z"
   },
   {
    "duration": 390,
    "start_time": "2025-01-27T16:13:56.272Z"
   },
   {
    "duration": 1333,
    "start_time": "2025-01-27T16:13:56.664Z"
   },
   {
    "duration": 42,
    "start_time": "2025-01-27T16:13:57.999Z"
   },
   {
    "duration": 165,
    "start_time": "2025-01-27T16:13:58.042Z"
   },
   {
    "duration": 501,
    "start_time": "2025-01-27T16:13:58.209Z"
   },
   {
    "duration": 97,
    "start_time": "2025-01-27T16:13:58.713Z"
   },
   {
    "duration": 198,
    "start_time": "2025-01-27T16:13:58.813Z"
   },
   {
    "duration": 106,
    "start_time": "2025-01-27T16:13:59.013Z"
   },
   {
    "duration": 23,
    "start_time": "2025-01-27T16:13:59.120Z"
   },
   {
    "duration": 10,
    "start_time": "2025-01-27T16:13:59.209Z"
   },
   {
    "duration": 286,
    "start_time": "2025-01-27T16:13:59.222Z"
   },
   {
    "duration": 44,
    "start_time": "2025-01-27T16:13:59.510Z"
   },
   {
    "duration": 54,
    "start_time": "2025-01-27T16:13:59.556Z"
   },
   {
    "duration": 500,
    "start_time": "2025-01-27T16:13:59.612Z"
   },
   {
    "duration": 96,
    "start_time": "2025-01-27T16:14:00.114Z"
   },
   {
    "duration": 397,
    "start_time": "2025-01-27T16:14:00.212Z"
   },
   {
    "duration": 4,
    "start_time": "2025-01-27T16:14:00.613Z"
   },
   {
    "duration": 7,
    "start_time": "2025-01-27T16:14:00.618Z"
   },
   {
    "duration": 38,
    "start_time": "2025-01-27T16:14:00.627Z"
   },
   {
    "duration": 10,
    "start_time": "2025-01-27T16:14:00.667Z"
   },
   {
    "duration": 36,
    "start_time": "2025-01-27T16:14:00.678Z"
   },
   {
    "duration": 24,
    "start_time": "2025-01-27T16:14:00.715Z"
   },
   {
    "duration": 24,
    "start_time": "2025-01-27T16:14:00.741Z"
   },
   {
    "duration": 1605,
    "start_time": "2025-01-27T16:14:00.766Z"
   },
   {
    "duration": 6,
    "start_time": "2025-01-27T16:14:02.373Z"
   },
   {
    "duration": 1536,
    "start_time": "2025-01-27T16:14:02.381Z"
   },
   {
    "duration": 7,
    "start_time": "2025-01-27T16:14:03.918Z"
   },
   {
    "duration": 1576,
    "start_time": "2025-01-27T16:14:03.926Z"
   },
   {
    "duration": 6,
    "start_time": "2025-01-27T16:14:05.507Z"
   },
   {
    "duration": 6,
    "start_time": "2025-01-27T16:26:50.901Z"
   },
   {
    "duration": 7,
    "start_time": "2025-01-27T16:27:04.815Z"
   },
   {
    "duration": 3,
    "start_time": "2025-01-27T16:27:19.113Z"
   },
   {
    "duration": 54,
    "start_time": "2025-01-27T18:45:03.828Z"
   },
   {
    "duration": 1727,
    "start_time": "2025-01-27T18:45:13.621Z"
   },
   {
    "duration": 82,
    "start_time": "2025-01-27T18:46:05.558Z"
   },
   {
    "duration": 1570,
    "start_time": "2025-01-27T18:46:19.362Z"
   },
   {
    "duration": 3,
    "start_time": "2025-01-27T18:46:20.934Z"
   },
   {
    "duration": 1296,
    "start_time": "2025-01-27T18:46:20.938Z"
   },
   {
    "duration": 34,
    "start_time": "2025-01-27T18:46:22.235Z"
   },
   {
    "duration": 17,
    "start_time": "2025-01-27T18:46:22.272Z"
   },
   {
    "duration": 20,
    "start_time": "2025-01-27T18:46:22.290Z"
   },
   {
    "duration": 53,
    "start_time": "2025-01-27T18:46:22.311Z"
   },
   {
    "duration": 24,
    "start_time": "2025-01-27T18:46:22.366Z"
   },
   {
    "duration": 31,
    "start_time": "2025-01-27T18:46:22.392Z"
   },
   {
    "duration": 5,
    "start_time": "2025-01-27T18:46:22.425Z"
   },
   {
    "duration": 40,
    "start_time": "2025-01-27T18:46:22.459Z"
   },
   {
    "duration": 38,
    "start_time": "2025-01-27T18:46:22.501Z"
   },
   {
    "duration": 57,
    "start_time": "2025-01-27T18:46:22.541Z"
   },
   {
    "duration": 386,
    "start_time": "2025-01-27T18:46:22.601Z"
   },
   {
    "duration": 385,
    "start_time": "2025-01-27T18:46:22.989Z"
   },
   {
    "duration": 492,
    "start_time": "2025-01-27T18:46:23.376Z"
   },
   {
    "duration": 359,
    "start_time": "2025-01-27T18:46:23.870Z"
   },
   {
    "duration": 366,
    "start_time": "2025-01-27T18:46:24.231Z"
   },
   {
    "duration": 394,
    "start_time": "2025-01-27T18:46:24.599Z"
   },
   {
    "duration": 378,
    "start_time": "2025-01-27T18:46:24.995Z"
   },
   {
    "duration": 371,
    "start_time": "2025-01-27T18:46:25.374Z"
   },
   {
    "duration": 380,
    "start_time": "2025-01-27T18:46:25.748Z"
   },
   {
    "duration": 404,
    "start_time": "2025-01-27T18:46:26.129Z"
   },
   {
    "duration": 503,
    "start_time": "2025-01-27T18:46:26.535Z"
   },
   {
    "duration": 402,
    "start_time": "2025-01-27T18:46:27.040Z"
   },
   {
    "duration": 1416,
    "start_time": "2025-01-27T18:46:27.444Z"
   },
   {
    "duration": 46,
    "start_time": "2025-01-27T18:46:28.861Z"
   },
   {
    "duration": 58,
    "start_time": "2025-01-27T18:46:28.909Z"
   },
   {
    "duration": 496,
    "start_time": "2025-01-27T18:46:28.970Z"
   },
   {
    "duration": 10,
    "start_time": "2025-01-27T18:46:29.559Z"
   },
   {
    "duration": 203,
    "start_time": "2025-01-27T18:46:29.661Z"
   },
   {
    "duration": 46,
    "start_time": "2025-01-27T18:46:29.866Z"
   },
   {
    "duration": 51,
    "start_time": "2025-01-27T18:46:29.914Z"
   },
   {
    "duration": 94,
    "start_time": "2025-01-27T18:46:29.968Z"
   },
   {
    "duration": 201,
    "start_time": "2025-01-27T18:46:30.065Z"
   },
   {
    "duration": 58,
    "start_time": "2025-01-27T18:46:30.269Z"
   },
   {
    "duration": 38,
    "start_time": "2025-01-27T18:46:30.329Z"
   },
   {
    "duration": 595,
    "start_time": "2025-01-27T18:46:30.369Z"
   },
   {
    "duration": 97,
    "start_time": "2025-01-27T18:46:30.967Z"
   },
   {
    "duration": 300,
    "start_time": "2025-01-27T18:46:31.067Z"
   },
   {
    "duration": 3,
    "start_time": "2025-01-27T18:46:31.371Z"
   },
   {
    "duration": 32,
    "start_time": "2025-01-27T18:46:31.375Z"
   },
   {
    "duration": 48,
    "start_time": "2025-01-27T18:46:31.409Z"
   },
   {
    "duration": 13,
    "start_time": "2025-01-27T18:46:31.459Z"
   },
   {
    "duration": 1615,
    "start_time": "2025-01-27T18:46:31.474Z"
   },
   {
    "duration": 7,
    "start_time": "2025-01-27T18:46:33.091Z"
   },
   {
    "duration": 1682,
    "start_time": "2025-01-27T18:46:33.100Z"
   },
   {
    "duration": 7,
    "start_time": "2025-01-27T18:46:34.785Z"
   },
   {
    "duration": 1639,
    "start_time": "2025-01-27T18:46:34.793Z"
   },
   {
    "duration": 7,
    "start_time": "2025-01-27T18:46:36.434Z"
   },
   {
    "duration": 27,
    "start_time": "2025-01-27T18:46:36.443Z"
   },
   {
    "duration": 4,
    "start_time": "2025-01-27T18:50:38.501Z"
   },
   {
    "duration": 4,
    "start_time": "2025-01-27T18:53:19.440Z"
   },
   {
    "duration": 7,
    "start_time": "2025-01-27T18:53:26.532Z"
   },
   {
    "duration": 5,
    "start_time": "2025-01-27T18:53:43.413Z"
   },
   {
    "duration": 6,
    "start_time": "2025-01-27T18:54:04.472Z"
   },
   {
    "duration": 7,
    "start_time": "2025-01-27T18:56:42.945Z"
   },
   {
    "duration": 8,
    "start_time": "2025-01-27T18:57:30.241Z"
   },
   {
    "duration": 9,
    "start_time": "2025-01-27T18:57:46.714Z"
   },
   {
    "duration": 7,
    "start_time": "2025-01-27T18:57:54.347Z"
   },
   {
    "duration": 12,
    "start_time": "2025-01-27T18:58:01.766Z"
   },
   {
    "duration": 8,
    "start_time": "2025-01-27T20:07:07.624Z"
   },
   {
    "duration": 7,
    "start_time": "2025-01-27T20:15:59.981Z"
   },
   {
    "duration": 6,
    "start_time": "2025-01-27T20:17:12.714Z"
   },
   {
    "duration": 7,
    "start_time": "2025-01-27T20:17:23.185Z"
   },
   {
    "duration": 7,
    "start_time": "2025-01-27T20:17:30.227Z"
   },
   {
    "duration": 7,
    "start_time": "2025-01-27T20:17:36.199Z"
   },
   {
    "duration": 4,
    "start_time": "2025-01-27T20:22:08.739Z"
   },
   {
    "duration": 8,
    "start_time": "2025-01-27T20:23:20.786Z"
   },
   {
    "duration": 7,
    "start_time": "2025-01-27T20:24:34.404Z"
   },
   {
    "duration": 1821,
    "start_time": "2025-01-27T20:25:03.589Z"
   },
   {
    "duration": 7,
    "start_time": "2025-01-27T20:25:05.412Z"
   },
   {
    "duration": 6,
    "start_time": "2025-01-27T20:25:37.757Z"
   },
   {
    "duration": 1580,
    "start_time": "2025-01-27T20:26:25.095Z"
   },
   {
    "duration": 7,
    "start_time": "2025-01-27T20:26:36.832Z"
   },
   {
    "duration": 7,
    "start_time": "2025-01-27T20:27:03.449Z"
   },
   {
    "duration": 1758,
    "start_time": "2025-01-27T20:27:09.309Z"
   },
   {
    "duration": 7,
    "start_time": "2025-01-27T20:27:17.099Z"
   },
   {
    "duration": 8,
    "start_time": "2025-01-27T20:27:20.464Z"
   },
   {
    "duration": 5,
    "start_time": "2025-01-27T20:27:39.792Z"
   },
   {
    "duration": 4,
    "start_time": "2025-01-27T20:28:56.953Z"
   },
   {
    "duration": 5,
    "start_time": "2025-01-27T20:29:02.757Z"
   },
   {
    "duration": 1646,
    "start_time": "2025-01-27T20:29:02.765Z"
   },
   {
    "duration": 7,
    "start_time": "2025-01-27T20:29:04.413Z"
   },
   {
    "duration": 13,
    "start_time": "2025-01-27T20:29:04.422Z"
   },
   {
    "duration": 26,
    "start_time": "2025-01-27T20:29:04.437Z"
   },
   {
    "duration": 1658,
    "start_time": "2025-01-27T20:29:04.465Z"
   },
   {
    "duration": 7,
    "start_time": "2025-01-27T20:29:06.125Z"
   },
   {
    "duration": 29,
    "start_time": "2025-01-27T20:29:06.134Z"
   },
   {
    "duration": 35,
    "start_time": "2025-01-27T20:29:06.165Z"
   },
   {
    "duration": 1962,
    "start_time": "2025-01-27T20:29:06.201Z"
   },
   {
    "duration": 8,
    "start_time": "2025-01-27T20:29:08.165Z"
   },
   {
    "duration": 12,
    "start_time": "2025-01-27T20:29:08.175Z"
   },
   {
    "duration": 8,
    "start_time": "2025-01-27T20:29:08.188Z"
   },
   {
    "duration": 1675,
    "start_time": "2025-01-27T20:42:21.048Z"
   },
   {
    "duration": 3,
    "start_time": "2025-01-27T20:42:22.725Z"
   },
   {
    "duration": 1152,
    "start_time": "2025-01-27T20:42:22.729Z"
   },
   {
    "duration": 28,
    "start_time": "2025-01-27T20:42:23.883Z"
   },
   {
    "duration": 53,
    "start_time": "2025-01-27T20:42:23.913Z"
   },
   {
    "duration": 26,
    "start_time": "2025-01-27T20:42:23.968Z"
   },
   {
    "duration": 67,
    "start_time": "2025-01-27T20:42:23.996Z"
   },
   {
    "duration": 27,
    "start_time": "2025-01-27T20:42:24.065Z"
   },
   {
    "duration": 33,
    "start_time": "2025-01-27T20:42:24.093Z"
   },
   {
    "duration": 5,
    "start_time": "2025-01-27T20:42:24.128Z"
   },
   {
    "duration": 50,
    "start_time": "2025-01-27T20:42:24.161Z"
   },
   {
    "duration": 81,
    "start_time": "2025-01-27T20:42:24.213Z"
   },
   {
    "duration": 43,
    "start_time": "2025-01-27T20:42:24.296Z"
   },
   {
    "duration": 408,
    "start_time": "2025-01-27T20:42:24.359Z"
   },
   {
    "duration": 427,
    "start_time": "2025-01-27T20:42:24.769Z"
   },
   {
    "duration": 542,
    "start_time": "2025-01-27T20:42:25.199Z"
   },
   {
    "duration": 407,
    "start_time": "2025-01-27T20:42:25.743Z"
   },
   {
    "duration": 419,
    "start_time": "2025-01-27T20:42:26.161Z"
   },
   {
    "duration": 400,
    "start_time": "2025-01-27T20:42:26.582Z"
   },
   {
    "duration": 395,
    "start_time": "2025-01-27T20:42:26.983Z"
   },
   {
    "duration": 389,
    "start_time": "2025-01-27T20:42:27.380Z"
   },
   {
    "duration": 423,
    "start_time": "2025-01-27T20:42:27.771Z"
   },
   {
    "duration": 448,
    "start_time": "2025-01-27T20:42:28.196Z"
   },
   {
    "duration": 571,
    "start_time": "2025-01-27T20:42:28.646Z"
   },
   {
    "duration": 454,
    "start_time": "2025-01-27T20:42:29.219Z"
   },
   {
    "duration": 1343,
    "start_time": "2025-01-27T20:42:29.676Z"
   },
   {
    "duration": 72,
    "start_time": "2025-01-27T20:42:31.021Z"
   },
   {
    "duration": 69,
    "start_time": "2025-01-27T20:42:31.095Z"
   },
   {
    "duration": 893,
    "start_time": "2025-01-27T20:42:31.168Z"
   },
   {
    "duration": 12,
    "start_time": "2025-01-27T20:42:32.064Z"
   },
   {
    "duration": 284,
    "start_time": "2025-01-27T20:42:32.079Z"
   },
   {
    "duration": 49,
    "start_time": "2025-01-27T20:42:32.365Z"
   },
   {
    "duration": 67,
    "start_time": "2025-01-27T20:42:32.416Z"
   },
   {
    "duration": 77,
    "start_time": "2025-01-27T20:42:32.487Z"
   },
   {
    "duration": 194,
    "start_time": "2025-01-27T20:42:32.567Z"
   },
   {
    "duration": 155,
    "start_time": "2025-01-27T20:42:32.764Z"
   },
   {
    "duration": 142,
    "start_time": "2025-01-27T20:42:32.921Z"
   },
   {
    "duration": 498,
    "start_time": "2025-01-27T20:42:33.066Z"
   },
   {
    "duration": 182,
    "start_time": "2025-01-27T20:42:33.578Z"
   },
   {
    "duration": 203,
    "start_time": "2025-01-27T20:42:33.763Z"
   },
   {
    "duration": 4,
    "start_time": "2025-01-27T20:42:33.972Z"
   },
   {
    "duration": 9,
    "start_time": "2025-01-27T20:42:33.979Z"
   },
   {
    "duration": 69,
    "start_time": "2025-01-27T20:42:33.992Z"
   },
   {
    "duration": 4,
    "start_time": "2025-01-27T20:42:34.063Z"
   },
   {
    "duration": 1786,
    "start_time": "2025-01-27T20:42:34.069Z"
   },
   {
    "duration": 9,
    "start_time": "2025-01-27T20:42:35.860Z"
   },
   {
    "duration": 35,
    "start_time": "2025-01-27T20:42:35.871Z"
   },
   {
    "duration": 1758,
    "start_time": "2025-01-27T20:42:35.908Z"
   },
   {
    "duration": 6,
    "start_time": "2025-01-27T20:42:37.669Z"
   },
   {
    "duration": 90,
    "start_time": "2025-01-27T20:42:37.677Z"
   },
   {
    "duration": 1777,
    "start_time": "2025-01-27T20:42:37.769Z"
   },
   {
    "duration": 16,
    "start_time": "2025-01-27T20:42:39.548Z"
   },
   {
    "duration": 16,
    "start_time": "2025-01-27T20:42:39.566Z"
   },
   {
    "duration": 1654,
    "start_time": "2025-01-27T20:47:05.686Z"
   },
   {
    "duration": 9,
    "start_time": "2025-01-27T20:47:25.271Z"
   },
   {
    "duration": 9,
    "start_time": "2025-01-27T20:47:32.939Z"
   },
   {
    "duration": 1666,
    "start_time": "2025-01-27T20:47:42.203Z"
   },
   {
    "duration": 10,
    "start_time": "2025-01-27T20:47:53.704Z"
   },
   {
    "duration": 8,
    "start_time": "2025-01-27T20:47:54.723Z"
   },
   {
    "duration": 1929,
    "start_time": "2025-01-27T20:48:04.522Z"
   },
   {
    "duration": 8,
    "start_time": "2025-01-27T20:48:15.321Z"
   },
   {
    "duration": 9,
    "start_time": "2025-01-27T20:48:16.657Z"
   },
   {
    "duration": 1812,
    "start_time": "2025-01-27T20:57:30.771Z"
   },
   {
    "duration": 7,
    "start_time": "2025-01-27T20:57:38.638Z"
   },
   {
    "duration": 9,
    "start_time": "2025-01-27T20:57:51.672Z"
   },
   {
    "duration": 9,
    "start_time": "2025-01-27T20:58:02.573Z"
   },
   {
    "duration": 7,
    "start_time": "2025-01-27T20:58:12.915Z"
   },
   {
    "duration": 1681,
    "start_time": "2025-01-27T20:58:23.136Z"
   },
   {
    "duration": 8,
    "start_time": "2025-01-27T20:58:28.954Z"
   },
   {
    "duration": 8,
    "start_time": "2025-01-27T20:58:40.163Z"
   },
   {
    "duration": 1765,
    "start_time": "2025-01-27T20:58:44.359Z"
   },
   {
    "duration": 8,
    "start_time": "2025-01-27T20:58:54.618Z"
   },
   {
    "duration": 10,
    "start_time": "2025-01-27T20:59:05.661Z"
   },
   {
    "duration": 1843,
    "start_time": "2025-01-27T21:16:18.368Z"
   },
   {
    "duration": 1701,
    "start_time": "2025-01-27T21:16:33.337Z"
   },
   {
    "duration": 2535,
    "start_time": "2025-01-27T21:19:46.510Z"
   },
   {
    "duration": 66,
    "start_time": "2025-01-27T21:21:48.575Z"
   },
   {
    "duration": 2768,
    "start_time": "2025-01-27T21:22:02.043Z"
   },
   {
    "duration": 1747,
    "start_time": "2025-01-27T21:23:20.768Z"
   },
   {
    "duration": 1596,
    "start_time": "2025-01-28T11:49:52.176Z"
   },
   {
    "duration": 3,
    "start_time": "2025-01-28T11:49:53.774Z"
   },
   {
    "duration": 1223,
    "start_time": "2025-01-28T11:49:53.778Z"
   },
   {
    "duration": 19,
    "start_time": "2025-01-28T11:49:55.003Z"
   },
   {
    "duration": 27,
    "start_time": "2025-01-28T11:49:55.024Z"
   },
   {
    "duration": 42,
    "start_time": "2025-01-28T11:49:55.053Z"
   },
   {
    "duration": 27,
    "start_time": "2025-01-28T11:49:55.098Z"
   },
   {
    "duration": 59,
    "start_time": "2025-01-28T11:49:55.127Z"
   },
   {
    "duration": 27,
    "start_time": "2025-01-28T11:49:55.187Z"
   },
   {
    "duration": 5,
    "start_time": "2025-01-28T11:49:55.215Z"
   },
   {
    "duration": 60,
    "start_time": "2025-01-28T11:49:55.222Z"
   },
   {
    "duration": 33,
    "start_time": "2025-01-28T11:49:55.284Z"
   },
   {
    "duration": 34,
    "start_time": "2025-01-28T11:49:55.319Z"
   },
   {
    "duration": 341,
    "start_time": "2025-01-28T11:49:55.356Z"
   },
   {
    "duration": 349,
    "start_time": "2025-01-28T11:49:55.699Z"
   },
   {
    "duration": 428,
    "start_time": "2025-01-28T11:49:56.050Z"
   },
   {
    "duration": 330,
    "start_time": "2025-01-28T11:49:56.480Z"
   },
   {
    "duration": 322,
    "start_time": "2025-01-28T11:49:56.812Z"
   },
   {
    "duration": 342,
    "start_time": "2025-01-28T11:49:57.136Z"
   },
   {
    "duration": 324,
    "start_time": "2025-01-28T11:49:57.480Z"
   },
   {
    "duration": 327,
    "start_time": "2025-01-28T11:49:57.809Z"
   },
   {
    "duration": 327,
    "start_time": "2025-01-28T11:49:58.137Z"
   },
   {
    "duration": 361,
    "start_time": "2025-01-28T11:49:58.466Z"
   },
   {
    "duration": 441,
    "start_time": "2025-01-28T11:49:58.830Z"
   },
   {
    "duration": 350,
    "start_time": "2025-01-28T11:49:59.272Z"
   },
   {
    "duration": 1195,
    "start_time": "2025-01-28T11:49:59.623Z"
   },
   {
    "duration": 38,
    "start_time": "2025-01-28T11:50:00.819Z"
   },
   {
    "duration": 152,
    "start_time": "2025-01-28T11:50:00.859Z"
   },
   {
    "duration": 498,
    "start_time": "2025-01-28T11:50:01.013Z"
   },
   {
    "duration": 9,
    "start_time": "2025-01-28T11:50:01.515Z"
   },
   {
    "duration": 300,
    "start_time": "2025-01-28T11:50:01.610Z"
   },
   {
    "duration": 42,
    "start_time": "2025-01-28T11:50:01.912Z"
   },
   {
    "duration": 57,
    "start_time": "2025-01-28T11:50:01.956Z"
   },
   {
    "duration": 208,
    "start_time": "2025-01-28T11:50:02.015Z"
   },
   {
    "duration": 195,
    "start_time": "2025-01-28T11:50:02.224Z"
   },
   {
    "duration": 62,
    "start_time": "2025-01-28T11:50:02.510Z"
   },
   {
    "duration": 37,
    "start_time": "2025-01-28T11:50:02.574Z"
   },
   {
    "duration": 600,
    "start_time": "2025-01-28T11:50:02.614Z"
   },
   {
    "duration": 95,
    "start_time": "2025-01-28T11:50:03.216Z"
   },
   {
    "duration": 300,
    "start_time": "2025-01-28T11:50:03.314Z"
   },
   {
    "duration": 3,
    "start_time": "2025-01-28T11:50:03.617Z"
   },
   {
    "duration": 14,
    "start_time": "2025-01-28T11:50:03.621Z"
   },
   {
    "duration": 32,
    "start_time": "2025-01-28T11:50:03.636Z"
   },
   {
    "duration": 18,
    "start_time": "2025-01-28T11:50:03.669Z"
   },
   {
    "duration": 2744,
    "start_time": "2025-01-28T11:51:20.113Z"
   },
   {
    "duration": 6,
    "start_time": "2025-01-28T11:51:31.465Z"
   },
   {
    "duration": 6,
    "start_time": "2025-01-28T11:51:38.946Z"
   },
   {
    "duration": 1436,
    "start_time": "2025-01-28T11:51:44.510Z"
   },
   {
    "duration": 6,
    "start_time": "2025-01-28T11:51:50.783Z"
   },
   {
    "duration": 6,
    "start_time": "2025-01-28T11:51:55.937Z"
   },
   {
    "duration": 1440,
    "start_time": "2025-01-28T11:52:00.575Z"
   },
   {
    "duration": 2688,
    "start_time": "2025-01-28T11:52:18.272Z"
   },
   {
    "duration": 6,
    "start_time": "2025-01-28T11:52:25.440Z"
   },
   {
    "duration": 7,
    "start_time": "2025-01-28T11:52:33.038Z"
   },
   {
    "duration": 1483,
    "start_time": "2025-01-28T11:52:42.292Z"
   },
   {
    "duration": 2897,
    "start_time": "2025-01-28T11:52:51.485Z"
   },
   {
    "duration": 5,
    "start_time": "2025-01-28T11:53:04.199Z"
   },
   {
    "duration": 6,
    "start_time": "2025-01-28T11:53:09.880Z"
   },
   {
    "duration": 1630,
    "start_time": "2025-01-28T14:47:52.869Z"
   },
   {
    "duration": 2,
    "start_time": "2025-01-28T14:47:54.501Z"
   },
   {
    "duration": 1146,
    "start_time": "2025-01-28T14:47:54.505Z"
   },
   {
    "duration": 21,
    "start_time": "2025-01-28T14:47:55.654Z"
   },
   {
    "duration": 15,
    "start_time": "2025-01-28T14:47:55.677Z"
   },
   {
    "duration": 17,
    "start_time": "2025-01-28T14:47:55.714Z"
   },
   {
    "duration": 28,
    "start_time": "2025-01-28T14:47:55.733Z"
   },
   {
    "duration": 22,
    "start_time": "2025-01-28T14:47:55.763Z"
   },
   {
    "duration": 28,
    "start_time": "2025-01-28T14:47:55.813Z"
   },
   {
    "duration": 4,
    "start_time": "2025-01-28T14:47:55.845Z"
   },
   {
    "duration": 36,
    "start_time": "2025-01-28T14:47:55.851Z"
   },
   {
    "duration": 57,
    "start_time": "2025-01-28T14:47:55.889Z"
   },
   {
    "duration": 33,
    "start_time": "2025-01-28T14:47:55.947Z"
   },
   {
    "duration": 350,
    "start_time": "2025-01-28T14:47:55.982Z"
   },
   {
    "duration": 381,
    "start_time": "2025-01-28T14:47:56.334Z"
   },
   {
    "duration": 412,
    "start_time": "2025-01-28T14:47:56.717Z"
   },
   {
    "duration": 326,
    "start_time": "2025-01-28T14:47:57.130Z"
   },
   {
    "duration": 319,
    "start_time": "2025-01-28T14:47:57.457Z"
   },
   {
    "duration": 349,
    "start_time": "2025-01-28T14:47:57.778Z"
   },
   {
    "duration": 328,
    "start_time": "2025-01-28T14:47:58.129Z"
   },
   {
    "duration": 310,
    "start_time": "2025-01-28T14:47:58.459Z"
   },
   {
    "duration": 324,
    "start_time": "2025-01-28T14:47:58.771Z"
   },
   {
    "duration": 358,
    "start_time": "2025-01-28T14:47:59.097Z"
   },
   {
    "duration": 429,
    "start_time": "2025-01-28T14:47:59.456Z"
   },
   {
    "duration": 369,
    "start_time": "2025-01-28T14:47:59.887Z"
   },
   {
    "duration": 1065,
    "start_time": "2025-01-28T14:48:08.172Z"
   },
   {
    "duration": 1430,
    "start_time": "2025-01-28T18:07:58.612Z"
   },
   {
    "duration": 2,
    "start_time": "2025-01-28T18:08:00.044Z"
   },
   {
    "duration": 1254,
    "start_time": "2025-01-28T18:08:00.048Z"
   },
   {
    "duration": 19,
    "start_time": "2025-01-28T18:08:01.304Z"
   },
   {
    "duration": 15,
    "start_time": "2025-01-28T18:08:01.325Z"
   },
   {
    "duration": 16,
    "start_time": "2025-01-28T18:08:01.342Z"
   },
   {
    "duration": 56,
    "start_time": "2025-01-28T18:08:01.360Z"
   },
   {
    "duration": 22,
    "start_time": "2025-01-28T18:08:01.418Z"
   },
   {
    "duration": 26,
    "start_time": "2025-01-28T18:08:01.442Z"
   },
   {
    "duration": 6,
    "start_time": "2025-01-28T18:08:01.470Z"
   },
   {
    "duration": 68,
    "start_time": "2025-01-28T18:08:01.478Z"
   },
   {
    "duration": 34,
    "start_time": "2025-01-28T18:08:01.547Z"
   },
   {
    "duration": 50,
    "start_time": "2025-01-28T18:08:01.582Z"
   },
   {
    "duration": 336,
    "start_time": "2025-01-28T18:08:01.635Z"
   },
   {
    "duration": 370,
    "start_time": "2025-01-28T18:08:01.973Z"
   },
   {
    "duration": 469,
    "start_time": "2025-01-28T18:08:02.345Z"
   },
   {
    "duration": 372,
    "start_time": "2025-01-28T18:08:02.815Z"
   },
   {
    "duration": 363,
    "start_time": "2025-01-28T18:08:03.189Z"
   },
   {
    "duration": 388,
    "start_time": "2025-01-28T18:08:03.553Z"
   },
   {
    "duration": 351,
    "start_time": "2025-01-28T18:08:03.943Z"
   },
   {
    "duration": 337,
    "start_time": "2025-01-28T18:08:04.296Z"
   },
   {
    "duration": 357,
    "start_time": "2025-01-28T18:08:04.635Z"
   },
   {
    "duration": 380,
    "start_time": "2025-01-28T18:08:04.994Z"
   },
   {
    "duration": 440,
    "start_time": "2025-01-28T18:08:05.376Z"
   },
   {
    "duration": 397,
    "start_time": "2025-01-28T18:08:05.818Z"
   },
   {
    "duration": 1078,
    "start_time": "2025-01-28T18:08:06.217Z"
   },
   {
    "duration": 46,
    "start_time": "2025-01-28T18:08:07.297Z"
   },
   {
    "duration": 171,
    "start_time": "2025-01-28T18:08:07.344Z"
   },
   {
    "duration": 598,
    "start_time": "2025-01-28T18:08:07.516Z"
   },
   {
    "duration": 8,
    "start_time": "2025-01-28T18:08:08.115Z"
   },
   {
    "duration": 294,
    "start_time": "2025-01-28T18:08:08.125Z"
   },
   {
    "duration": 34,
    "start_time": "2025-01-28T18:08:08.420Z"
   },
   {
    "duration": 64,
    "start_time": "2025-01-28T18:08:08.456Z"
   },
   {
    "duration": 96,
    "start_time": "2025-01-28T18:08:08.522Z"
   },
   {
    "duration": 105,
    "start_time": "2025-01-28T18:08:08.619Z"
   },
   {
    "duration": 40,
    "start_time": "2025-01-28T18:08:08.814Z"
   },
   {
    "duration": 59,
    "start_time": "2025-01-28T18:08:08.856Z"
   },
   {
    "duration": 401,
    "start_time": "2025-01-28T18:08:08.918Z"
   },
   {
    "duration": 99,
    "start_time": "2025-01-28T18:08:09.321Z"
   },
   {
    "duration": 297,
    "start_time": "2025-01-28T18:08:09.422Z"
   },
   {
    "duration": 3,
    "start_time": "2025-01-28T18:08:09.722Z"
   },
   {
    "duration": 5,
    "start_time": "2025-01-28T18:08:09.726Z"
   },
   {
    "duration": 10,
    "start_time": "2025-01-28T18:08:09.732Z"
   },
   {
    "duration": 5,
    "start_time": "2025-01-28T18:08:09.744Z"
   },
   {
    "duration": 2818,
    "start_time": "2025-01-28T18:08:09.750Z"
   },
   {
    "duration": 6,
    "start_time": "2025-01-28T18:08:12.570Z"
   },
   {
    "duration": 6,
    "start_time": "2025-01-28T18:08:12.578Z"
   },
   {
    "duration": 2790,
    "start_time": "2025-01-28T18:08:12.585Z"
   },
   {
    "duration": 6,
    "start_time": "2025-01-28T18:08:15.376Z"
   },
   {
    "duration": 11,
    "start_time": "2025-01-28T18:08:15.383Z"
   },
   {
    "duration": 2787,
    "start_time": "2025-01-28T18:08:15.395Z"
   },
   {
    "duration": 6,
    "start_time": "2025-01-28T18:08:18.184Z"
   },
   {
    "duration": 7,
    "start_time": "2025-01-28T18:08:18.191Z"
   },
   {
    "duration": 1719,
    "start_time": "2025-01-29T14:51:45.408Z"
   },
   {
    "duration": 3,
    "start_time": "2025-01-29T14:51:47.129Z"
   },
   {
    "duration": 1133,
    "start_time": "2025-01-29T14:51:47.133Z"
   },
   {
    "duration": 22,
    "start_time": "2025-01-29T14:51:48.269Z"
   },
   {
    "duration": 38,
    "start_time": "2025-01-29T14:51:48.292Z"
   },
   {
    "duration": 15,
    "start_time": "2025-01-29T14:51:48.332Z"
   },
   {
    "duration": 29,
    "start_time": "2025-01-29T14:51:48.348Z"
   },
   {
    "duration": 50,
    "start_time": "2025-01-29T14:51:48.379Z"
   },
   {
    "duration": 29,
    "start_time": "2025-01-29T14:51:48.430Z"
   },
   {
    "duration": 5,
    "start_time": "2025-01-29T14:51:48.461Z"
   },
   {
    "duration": 56,
    "start_time": "2025-01-29T14:51:48.468Z"
   },
   {
    "duration": 37,
    "start_time": "2025-01-29T14:51:48.526Z"
   },
   {
    "duration": 35,
    "start_time": "2025-01-29T14:51:48.565Z"
   },
   {
    "duration": 366,
    "start_time": "2025-01-29T14:51:48.614Z"
   },
   {
    "duration": 369,
    "start_time": "2025-01-29T14:51:48.981Z"
   },
   {
    "duration": 405,
    "start_time": "2025-01-29T14:51:49.352Z"
   },
   {
    "duration": 408,
    "start_time": "2025-01-29T14:51:49.759Z"
   },
   {
    "duration": 338,
    "start_time": "2025-01-29T14:51:50.169Z"
   },
   {
    "duration": 365,
    "start_time": "2025-01-29T14:51:50.513Z"
   },
   {
    "duration": 356,
    "start_time": "2025-01-29T14:51:50.879Z"
   },
   {
    "duration": 347,
    "start_time": "2025-01-29T14:51:51.237Z"
   },
   {
    "duration": 364,
    "start_time": "2025-01-29T14:51:51.585Z"
   },
   {
    "duration": 394,
    "start_time": "2025-01-29T14:51:51.951Z"
   },
   {
    "duration": 454,
    "start_time": "2025-01-29T14:51:52.347Z"
   },
   {
    "duration": 405,
    "start_time": "2025-01-29T14:51:52.803Z"
   },
   {
    "duration": 1137,
    "start_time": "2025-01-29T14:51:53.212Z"
   },
   {
    "duration": 35,
    "start_time": "2025-01-29T14:51:54.351Z"
   },
   {
    "duration": 238,
    "start_time": "2025-01-29T14:51:54.390Z"
   },
   {
    "duration": 497,
    "start_time": "2025-01-29T14:51:54.630Z"
   },
   {
    "duration": 88,
    "start_time": "2025-01-29T14:51:55.130Z"
   },
   {
    "duration": 199,
    "start_time": "2025-01-29T14:51:55.222Z"
   },
   {
    "duration": 126,
    "start_time": "2025-01-29T14:51:55.423Z"
   },
   {
    "duration": 79,
    "start_time": "2025-01-29T14:51:55.550Z"
   },
   {
    "duration": 86,
    "start_time": "2025-01-29T14:51:55.632Z"
   },
   {
    "duration": 200,
    "start_time": "2025-01-29T14:51:55.720Z"
   },
   {
    "duration": 38,
    "start_time": "2025-01-29T14:51:55.925Z"
   },
   {
    "duration": 153,
    "start_time": "2025-01-29T14:51:55.964Z"
   },
   {
    "duration": 609,
    "start_time": "2025-01-29T14:51:56.124Z"
   },
   {
    "duration": 20,
    "start_time": "2025-01-29T14:51:56.814Z"
   },
   {
    "duration": 205,
    "start_time": "2025-01-29T14:51:56.915Z"
   },
   {
    "duration": 6,
    "start_time": "2025-01-29T14:51:57.123Z"
   },
   {
    "duration": 4,
    "start_time": "2025-01-29T14:51:57.130Z"
   },
   {
    "duration": 7,
    "start_time": "2025-01-29T14:51:57.135Z"
   },
   {
    "duration": 3,
    "start_time": "2025-01-29T14:51:57.144Z"
   },
   {
    "duration": 2956,
    "start_time": "2025-01-29T14:51:57.149Z"
   },
   {
    "duration": 22,
    "start_time": "2025-01-29T14:52:00.106Z"
   },
   {
    "duration": 6,
    "start_time": "2025-01-29T14:53:15.657Z"
   },
   {
    "duration": 118,
    "start_time": "2025-01-29T14:53:28.131Z"
   },
   {
    "duration": 18,
    "start_time": "2025-01-29T14:53:47.409Z"
   },
   {
    "duration": 6,
    "start_time": "2025-01-29T14:54:01.986Z"
   },
   {
    "duration": 8,
    "start_time": "2025-01-29T14:54:14.610Z"
   },
   {
    "duration": 4,
    "start_time": "2025-01-29T14:54:26.148Z"
   },
   {
    "duration": 4,
    "start_time": "2025-01-29T14:54:57.400Z"
   },
   {
    "duration": 4,
    "start_time": "2025-01-29T14:55:43.226Z"
   },
   {
    "duration": 4,
    "start_time": "2025-01-29T14:56:00.227Z"
   },
   {
    "duration": 12,
    "start_time": "2025-01-29T15:09:30.508Z"
   },
   {
    "duration": 1439,
    "start_time": "2025-01-29T15:09:38.386Z"
   },
   {
    "duration": 6,
    "start_time": "2025-01-29T15:09:41.984Z"
   },
   {
    "duration": 5,
    "start_time": "2025-01-29T15:09:45.161Z"
   },
   {
    "duration": 12,
    "start_time": "2025-01-29T15:30:43.185Z"
   },
   {
    "duration": 13,
    "start_time": "2025-01-29T15:30:55.006Z"
   },
   {
    "duration": 15,
    "start_time": "2025-01-29T15:31:02.781Z"
   },
   {
    "duration": 6,
    "start_time": "2025-01-29T15:32:44.357Z"
   },
   {
    "duration": 7,
    "start_time": "2025-01-29T15:34:20.818Z"
   },
   {
    "duration": 7,
    "start_time": "2025-01-29T15:37:48.204Z"
   },
   {
    "duration": 4,
    "start_time": "2025-01-29T15:38:05.396Z"
   },
   {
    "duration": 2911,
    "start_time": "2025-01-29T15:38:28.954Z"
   },
   {
    "duration": 1491,
    "start_time": "2025-01-29T15:38:46.939Z"
   },
   {
    "duration": 6,
    "start_time": "2025-01-29T15:39:41.602Z"
   },
   {
    "duration": 6,
    "start_time": "2025-01-29T15:40:51.175Z"
   },
   {
    "duration": 1777,
    "start_time": "2025-01-29T15:41:16.079Z"
   },
   {
    "duration": 6,
    "start_time": "2025-01-29T15:41:46.366Z"
   },
   {
    "duration": 7,
    "start_time": "2025-01-29T15:42:33.468Z"
   },
   {
    "duration": 5,
    "start_time": "2025-01-29T15:43:06.037Z"
   },
   {
    "duration": 4,
    "start_time": "2025-01-29T15:43:17.131Z"
   },
   {
    "duration": 1359,
    "start_time": "2025-01-29T18:47:41.146Z"
   },
   {
    "duration": 2,
    "start_time": "2025-01-29T18:47:42.507Z"
   },
   {
    "duration": 1427,
    "start_time": "2025-01-29T18:47:42.511Z"
   },
   {
    "duration": 21,
    "start_time": "2025-01-29T18:47:43.940Z"
   },
   {
    "duration": 15,
    "start_time": "2025-01-29T18:47:43.964Z"
   },
   {
    "duration": 40,
    "start_time": "2025-01-29T18:47:43.981Z"
   },
   {
    "duration": 27,
    "start_time": "2025-01-29T18:47:44.022Z"
   },
   {
    "duration": 20,
    "start_time": "2025-01-29T18:47:44.050Z"
   },
   {
    "duration": 52,
    "start_time": "2025-01-29T18:47:44.072Z"
   },
   {
    "duration": 5,
    "start_time": "2025-01-29T18:47:44.125Z"
   },
   {
    "duration": 38,
    "start_time": "2025-01-29T18:47:44.132Z"
   },
   {
    "duration": 56,
    "start_time": "2025-01-29T18:47:44.173Z"
   },
   {
    "duration": 35,
    "start_time": "2025-01-29T18:47:44.231Z"
   },
   {
    "duration": 343,
    "start_time": "2025-01-29T18:47:44.270Z"
   },
   {
    "duration": 357,
    "start_time": "2025-01-29T18:47:44.615Z"
   },
   {
    "duration": 390,
    "start_time": "2025-01-29T18:47:44.974Z"
   },
   {
    "duration": 413,
    "start_time": "2025-01-29T18:47:45.366Z"
   },
   {
    "duration": 351,
    "start_time": "2025-01-29T18:47:45.781Z"
   },
   {
    "duration": 379,
    "start_time": "2025-01-29T18:47:46.135Z"
   },
   {
    "duration": 368,
    "start_time": "2025-01-29T18:47:46.516Z"
   },
   {
    "duration": 330,
    "start_time": "2025-01-29T18:47:46.886Z"
   },
   {
    "duration": 343,
    "start_time": "2025-01-29T18:47:47.218Z"
   },
   {
    "duration": 366,
    "start_time": "2025-01-29T18:47:47.563Z"
   },
   {
    "duration": 441,
    "start_time": "2025-01-29T18:47:47.931Z"
   },
   {
    "duration": 384,
    "start_time": "2025-01-29T18:47:48.374Z"
   },
   {
    "duration": 1044,
    "start_time": "2025-01-29T18:47:48.760Z"
   },
   {
    "duration": 4,
    "start_time": "2025-01-29T18:48:01.901Z"
   },
   {
    "duration": 127,
    "start_time": "2025-01-29T18:48:40.833Z"
   },
   {
    "duration": 4,
    "start_time": "2025-01-29T18:49:27.377Z"
   },
   {
    "duration": 14,
    "start_time": "2025-01-29T18:49:31.222Z"
   },
   {
    "duration": 4,
    "start_time": "2025-01-29T18:49:47.126Z"
   },
   {
    "duration": 14,
    "start_time": "2025-01-29T18:49:51.007Z"
   },
   {
    "duration": 4,
    "start_time": "2025-01-29T18:50:33.218Z"
   },
   {
    "duration": 3,
    "start_time": "2025-01-29T18:51:45.139Z"
   },
   {
    "duration": 13,
    "start_time": "2025-01-29T18:51:50.086Z"
   },
   {
    "duration": 4,
    "start_time": "2025-01-29T18:52:42.754Z"
   },
   {
    "duration": 14,
    "start_time": "2025-01-29T18:52:50.236Z"
   },
   {
    "duration": 8,
    "start_time": "2025-01-29T18:55:01.111Z"
   },
   {
    "duration": 3,
    "start_time": "2025-01-29T18:55:06.462Z"
   },
   {
    "duration": 15,
    "start_time": "2025-01-29T18:55:08.927Z"
   },
   {
    "duration": 15,
    "start_time": "2025-01-29T18:58:11.394Z"
   },
   {
    "duration": 3,
    "start_time": "2025-01-29T18:58:14.581Z"
   },
   {
    "duration": 15,
    "start_time": "2025-01-29T18:58:17.525Z"
   },
   {
    "duration": 3,
    "start_time": "2025-01-29T18:59:06.331Z"
   },
   {
    "duration": 16,
    "start_time": "2025-01-29T18:59:09.338Z"
   },
   {
    "duration": 3,
    "start_time": "2025-01-29T19:02:13.742Z"
   },
   {
    "duration": 65,
    "start_time": "2025-01-29T19:02:16.561Z"
   },
   {
    "duration": 5,
    "start_time": "2025-01-29T19:02:52.238Z"
   },
   {
    "duration": 53,
    "start_time": "2025-01-29T19:02:55.672Z"
   },
   {
    "duration": 4,
    "start_time": "2025-01-29T19:04:02.877Z"
   },
   {
    "duration": 56,
    "start_time": "2025-01-29T19:04:14.913Z"
   },
   {
    "duration": 51,
    "start_time": "2025-01-29T19:04:19.706Z"
   },
   {
    "duration": 4,
    "start_time": "2025-01-29T19:11:39.383Z"
   },
   {
    "duration": 222,
    "start_time": "2025-01-29T19:11:46.108Z"
   },
   {
    "duration": 205,
    "start_time": "2025-01-29T19:19:45.174Z"
   },
   {
    "duration": 1332,
    "start_time": "2025-01-29T19:20:15.971Z"
   },
   {
    "duration": 3,
    "start_time": "2025-01-29T19:20:17.305Z"
   },
   {
    "duration": 1134,
    "start_time": "2025-01-29T19:20:17.309Z"
   },
   {
    "duration": 23,
    "start_time": "2025-01-29T19:20:18.445Z"
   },
   {
    "duration": 16,
    "start_time": "2025-01-29T19:20:18.470Z"
   },
   {
    "duration": 37,
    "start_time": "2025-01-29T19:20:18.488Z"
   },
   {
    "duration": 27,
    "start_time": "2025-01-29T19:20:18.527Z"
   },
   {
    "duration": 19,
    "start_time": "2025-01-29T19:20:18.556Z"
   },
   {
    "duration": 51,
    "start_time": "2025-01-29T19:20:18.577Z"
   },
   {
    "duration": 5,
    "start_time": "2025-01-29T19:20:18.630Z"
   },
   {
    "duration": 36,
    "start_time": "2025-01-29T19:20:18.636Z"
   },
   {
    "duration": 42,
    "start_time": "2025-01-29T19:20:18.674Z"
   },
   {
    "duration": 33,
    "start_time": "2025-01-29T19:20:18.718Z"
   },
   {
    "duration": 343,
    "start_time": "2025-01-29T19:20:18.753Z"
   },
   {
    "duration": 343,
    "start_time": "2025-01-29T19:20:19.098Z"
   },
   {
    "duration": 356,
    "start_time": "2025-01-29T19:20:19.442Z"
   },
   {
    "duration": 416,
    "start_time": "2025-01-29T19:20:19.800Z"
   },
   {
    "duration": 324,
    "start_time": "2025-01-29T19:20:20.217Z"
   },
   {
    "duration": 339,
    "start_time": "2025-01-29T19:20:20.543Z"
   },
   {
    "duration": 333,
    "start_time": "2025-01-29T19:20:20.884Z"
   },
   {
    "duration": 330,
    "start_time": "2025-01-29T19:20:21.219Z"
   },
   {
    "duration": 325,
    "start_time": "2025-01-29T19:20:21.550Z"
   },
   {
    "duration": 360,
    "start_time": "2025-01-29T19:20:21.876Z"
   },
   {
    "duration": 431,
    "start_time": "2025-01-29T19:20:22.238Z"
   },
   {
    "duration": 355,
    "start_time": "2025-01-29T19:20:22.671Z"
   },
   {
    "duration": 1052,
    "start_time": "2025-01-29T19:20:23.028Z"
   },
   {
    "duration": 36,
    "start_time": "2025-01-29T19:20:31.368Z"
   },
   {
    "duration": 3,
    "start_time": "2025-01-29T19:22:05.323Z"
   },
   {
    "duration": 504,
    "start_time": "2025-01-29T19:29:24.610Z"
   },
   {
    "duration": 324,
    "start_time": "2025-01-29T19:31:07.195Z"
   },
   {
    "duration": 81,
    "start_time": "2025-01-29T19:31:35.634Z"
   },
   {
    "duration": 9,
    "start_time": "2025-01-29T19:32:50.164Z"
   },
   {
    "duration": 3,
    "start_time": "2025-01-29T19:33:01.549Z"
   },
   {
    "duration": 87,
    "start_time": "2025-01-29T19:34:54.230Z"
   },
   {
    "duration": 3,
    "start_time": "2025-01-29T19:34:58.391Z"
   },
   {
    "duration": 110,
    "start_time": "2025-01-29T19:35:06.116Z"
   },
   {
    "duration": 422,
    "start_time": "2025-01-29T19:44:30.397Z"
   },
   {
    "duration": 428,
    "start_time": "2025-01-29T19:46:29.587Z"
   },
   {
    "duration": 405,
    "start_time": "2025-01-29T19:46:52.914Z"
   },
   {
    "duration": 2,
    "start_time": "2025-01-29T19:47:51.832Z"
   },
   {
    "duration": 444,
    "start_time": "2025-01-29T19:52:58.071Z"
   },
   {
    "duration": 513,
    "start_time": "2025-01-29T19:53:35.602Z"
   },
   {
    "duration": 1397,
    "start_time": "2025-01-29T19:54:02.928Z"
   },
   {
    "duration": 3,
    "start_time": "2025-01-29T19:54:04.327Z"
   },
   {
    "duration": 1171,
    "start_time": "2025-01-29T19:54:04.332Z"
   },
   {
    "duration": 25,
    "start_time": "2025-01-29T19:54:05.505Z"
   },
   {
    "duration": 16,
    "start_time": "2025-01-29T19:54:05.532Z"
   },
   {
    "duration": 16,
    "start_time": "2025-01-29T19:54:05.549Z"
   },
   {
    "duration": 54,
    "start_time": "2025-01-29T19:54:05.566Z"
   },
   {
    "duration": 22,
    "start_time": "2025-01-29T19:54:05.622Z"
   },
   {
    "duration": 27,
    "start_time": "2025-01-29T19:54:05.645Z"
   },
   {
    "duration": 5,
    "start_time": "2025-01-29T19:54:05.674Z"
   },
   {
    "duration": 61,
    "start_time": "2025-01-29T19:54:05.681Z"
   },
   {
    "duration": 33,
    "start_time": "2025-01-29T19:54:05.744Z"
   },
   {
    "duration": 52,
    "start_time": "2025-01-29T19:54:05.778Z"
   },
   {
    "duration": 331,
    "start_time": "2025-01-29T19:54:05.833Z"
   },
   {
    "duration": 351,
    "start_time": "2025-01-29T19:54:06.166Z"
   },
   {
    "duration": 385,
    "start_time": "2025-01-29T19:54:06.520Z"
   },
   {
    "duration": 415,
    "start_time": "2025-01-29T19:54:06.907Z"
   },
   {
    "duration": 321,
    "start_time": "2025-01-29T19:54:07.324Z"
   },
   {
    "duration": 351,
    "start_time": "2025-01-29T19:54:07.647Z"
   },
   {
    "duration": 346,
    "start_time": "2025-01-29T19:54:07.999Z"
   },
   {
    "duration": 322,
    "start_time": "2025-01-29T19:54:08.347Z"
   },
   {
    "duration": 328,
    "start_time": "2025-01-29T19:54:08.670Z"
   },
   {
    "duration": 345,
    "start_time": "2025-01-29T19:54:09.000Z"
   },
   {
    "duration": 430,
    "start_time": "2025-01-29T19:54:09.347Z"
   },
   {
    "duration": 352,
    "start_time": "2025-01-29T19:54:09.779Z"
   },
   {
    "duration": 1066,
    "start_time": "2025-01-29T19:54:10.133Z"
   },
   {
    "duration": 3,
    "start_time": "2025-01-29T19:54:11.200Z"
   },
   {
    "duration": 471,
    "start_time": "2025-01-29T19:55:08.242Z"
   },
   {
    "duration": 361,
    "start_time": "2025-01-29T19:55:34.354Z"
   },
   {
    "duration": 353,
    "start_time": "2025-01-29T19:55:43.669Z"
   },
   {
    "duration": 386,
    "start_time": "2025-01-29T19:56:40.230Z"
   },
   {
    "duration": 398,
    "start_time": "2025-01-29T20:02:13.418Z"
   },
   {
    "duration": 363,
    "start_time": "2025-01-29T20:03:55.053Z"
   },
   {
    "duration": 1403,
    "start_time": "2025-01-29T20:04:12.323Z"
   },
   {
    "duration": 2,
    "start_time": "2025-01-29T20:04:13.729Z"
   },
   {
    "duration": 1053,
    "start_time": "2025-01-29T20:04:13.733Z"
   },
   {
    "duration": 28,
    "start_time": "2025-01-29T20:04:14.788Z"
   },
   {
    "duration": 14,
    "start_time": "2025-01-29T20:04:14.819Z"
   },
   {
    "duration": 18,
    "start_time": "2025-01-29T20:04:14.835Z"
   },
   {
    "duration": 28,
    "start_time": "2025-01-29T20:04:14.854Z"
   },
   {
    "duration": 46,
    "start_time": "2025-01-29T20:04:14.884Z"
   },
   {
    "duration": 27,
    "start_time": "2025-01-29T20:04:14.931Z"
   },
   {
    "duration": 5,
    "start_time": "2025-01-29T20:04:14.959Z"
   },
   {
    "duration": 56,
    "start_time": "2025-01-29T20:04:14.966Z"
   },
   {
    "duration": 36,
    "start_time": "2025-01-29T20:04:15.023Z"
   },
   {
    "duration": 35,
    "start_time": "2025-01-29T20:04:15.061Z"
   },
   {
    "duration": 335,
    "start_time": "2025-01-29T20:04:15.115Z"
   },
   {
    "duration": 341,
    "start_time": "2025-01-29T20:04:15.452Z"
   },
   {
    "duration": 372,
    "start_time": "2025-01-29T20:04:15.795Z"
   },
   {
    "duration": 428,
    "start_time": "2025-01-29T20:04:16.169Z"
   },
   {
    "duration": 332,
    "start_time": "2025-01-29T20:04:16.599Z"
   },
   {
    "duration": 349,
    "start_time": "2025-01-29T20:04:16.933Z"
   },
   {
    "duration": 321,
    "start_time": "2025-01-29T20:04:17.283Z"
   },
   {
    "duration": 325,
    "start_time": "2025-01-29T20:04:17.606Z"
   },
   {
    "duration": 338,
    "start_time": "2025-01-29T20:04:17.933Z"
   },
   {
    "duration": 365,
    "start_time": "2025-01-29T20:04:18.273Z"
   },
   {
    "duration": 432,
    "start_time": "2025-01-29T20:04:18.639Z"
   },
   {
    "duration": 374,
    "start_time": "2025-01-29T20:04:19.073Z"
   },
   {
    "duration": 1064,
    "start_time": "2025-01-29T20:04:19.449Z"
   },
   {
    "duration": 3,
    "start_time": "2025-01-29T20:04:20.516Z"
   },
   {
    "duration": 296,
    "start_time": "2025-01-29T20:04:20.521Z"
   },
   {
    "duration": 367,
    "start_time": "2025-01-29T20:05:10.555Z"
   },
   {
    "duration": 444,
    "start_time": "2025-01-29T20:05:59.270Z"
   },
   {
    "duration": 506,
    "start_time": "2025-01-29T20:06:56.413Z"
   },
   {
    "duration": 2,
    "start_time": "2025-01-29T20:26:55.013Z"
   },
   {
    "duration": 466,
    "start_time": "2025-01-29T20:26:57.880Z"
   },
   {
    "duration": 511,
    "start_time": "2025-01-29T20:27:13.505Z"
   },
   {
    "duration": 499,
    "start_time": "2025-01-29T20:27:39.218Z"
   },
   {
    "duration": 67,
    "start_time": "2025-01-29T20:27:48.085Z"
   },
   {
    "duration": 68,
    "start_time": "2025-01-29T20:28:02.866Z"
   },
   {
    "duration": 463,
    "start_time": "2025-01-29T20:28:26.151Z"
   },
   {
    "duration": 541,
    "start_time": "2025-01-29T20:28:37.979Z"
   },
   {
    "duration": 235,
    "start_time": "2025-01-29T20:37:40.181Z"
   },
   {
    "duration": 667,
    "start_time": "2025-01-29T20:38:19.554Z"
   },
   {
    "duration": 12,
    "start_time": "2025-01-29T20:38:46.997Z"
   },
   {
    "duration": 194,
    "start_time": "2025-01-29T20:40:03.722Z"
   },
   {
    "duration": 217,
    "start_time": "2025-01-29T20:40:32.300Z"
   },
   {
    "duration": 68,
    "start_time": "2025-01-29T20:40:48.978Z"
   },
   {
    "duration": 890,
    "start_time": "2025-01-29T20:41:20.966Z"
   },
   {
    "duration": 13,
    "start_time": "2025-01-29T20:41:27.936Z"
   },
   {
    "duration": 57,
    "start_time": "2025-01-29T20:42:04.755Z"
   },
   {
    "duration": 58,
    "start_time": "2025-01-29T20:44:45.076Z"
   },
   {
    "duration": 1359,
    "start_time": "2025-01-29T20:45:17.468Z"
   },
   {
    "duration": 3,
    "start_time": "2025-01-29T20:45:18.830Z"
   },
   {
    "duration": 1123,
    "start_time": "2025-01-29T20:45:18.834Z"
   },
   {
    "duration": 21,
    "start_time": "2025-01-29T20:45:19.960Z"
   },
   {
    "duration": 31,
    "start_time": "2025-01-29T20:45:19.983Z"
   },
   {
    "duration": 16,
    "start_time": "2025-01-29T20:45:20.016Z"
   },
   {
    "duration": 26,
    "start_time": "2025-01-29T20:45:20.034Z"
   },
   {
    "duration": 21,
    "start_time": "2025-01-29T20:45:20.062Z"
   },
   {
    "duration": 30,
    "start_time": "2025-01-29T20:45:20.113Z"
   },
   {
    "duration": 5,
    "start_time": "2025-01-29T20:45:20.147Z"
   },
   {
    "duration": 36,
    "start_time": "2025-01-29T20:45:20.154Z"
   },
   {
    "duration": 34,
    "start_time": "2025-01-29T20:45:20.213Z"
   },
   {
    "duration": 34,
    "start_time": "2025-01-29T20:45:20.249Z"
   },
   {
    "duration": 344,
    "start_time": "2025-01-29T20:45:20.285Z"
   },
   {
    "duration": 340,
    "start_time": "2025-01-29T20:45:20.631Z"
   },
   {
    "duration": 354,
    "start_time": "2025-01-29T20:45:20.973Z"
   },
   {
    "duration": 396,
    "start_time": "2025-01-29T20:45:21.329Z"
   },
   {
    "duration": 330,
    "start_time": "2025-01-29T20:45:21.727Z"
   },
   {
    "duration": 337,
    "start_time": "2025-01-29T20:45:22.059Z"
   },
   {
    "duration": 335,
    "start_time": "2025-01-29T20:45:22.398Z"
   },
   {
    "duration": 325,
    "start_time": "2025-01-29T20:45:22.734Z"
   },
   {
    "duration": 357,
    "start_time": "2025-01-29T20:45:23.061Z"
   },
   {
    "duration": 357,
    "start_time": "2025-01-29T20:45:23.419Z"
   },
   {
    "duration": 438,
    "start_time": "2025-01-29T20:45:23.778Z"
   },
   {
    "duration": 353,
    "start_time": "2025-01-29T20:45:24.218Z"
   },
   {
    "duration": 1025,
    "start_time": "2025-01-29T20:45:24.572Z"
   },
   {
    "duration": 3,
    "start_time": "2025-01-29T20:45:25.598Z"
   },
   {
    "duration": 915,
    "start_time": "2025-01-29T20:46:00.638Z"
   },
   {
    "duration": 13,
    "start_time": "2025-01-29T20:46:05.341Z"
   },
   {
    "duration": 150,
    "start_time": "2025-01-29T20:50:33.232Z"
   },
   {
    "duration": 1455,
    "start_time": "2025-01-29T20:51:22.815Z"
   },
   {
    "duration": 2,
    "start_time": "2025-01-29T20:51:24.272Z"
   },
   {
    "duration": 1020,
    "start_time": "2025-01-29T20:51:24.275Z"
   },
   {
    "duration": 33,
    "start_time": "2025-01-29T20:51:25.297Z"
   },
   {
    "duration": 15,
    "start_time": "2025-01-29T20:51:25.332Z"
   },
   {
    "duration": 15,
    "start_time": "2025-01-29T20:51:25.348Z"
   },
   {
    "duration": 49,
    "start_time": "2025-01-29T20:51:25.364Z"
   },
   {
    "duration": 22,
    "start_time": "2025-01-29T20:51:25.415Z"
   },
   {
    "duration": 25,
    "start_time": "2025-01-29T20:51:25.439Z"
   },
   {
    "duration": 5,
    "start_time": "2025-01-29T20:51:25.465Z"
   },
   {
    "duration": 57,
    "start_time": "2025-01-29T20:51:25.471Z"
   },
   {
    "duration": 32,
    "start_time": "2025-01-29T20:51:25.530Z"
   },
   {
    "duration": 49,
    "start_time": "2025-01-29T20:51:25.564Z"
   },
   {
    "duration": 318,
    "start_time": "2025-01-29T20:51:25.616Z"
   },
   {
    "duration": 333,
    "start_time": "2025-01-29T20:51:25.936Z"
   },
   {
    "duration": 371,
    "start_time": "2025-01-29T20:51:26.270Z"
   },
   {
    "duration": 401,
    "start_time": "2025-01-29T20:51:26.642Z"
   },
   {
    "duration": 307,
    "start_time": "2025-01-29T20:51:27.045Z"
   },
   {
    "duration": 331,
    "start_time": "2025-01-29T20:51:27.354Z"
   },
   {
    "duration": 318,
    "start_time": "2025-01-29T20:51:27.687Z"
   },
   {
    "duration": 315,
    "start_time": "2025-01-29T20:51:28.007Z"
   },
   {
    "duration": 330,
    "start_time": "2025-01-29T20:51:28.324Z"
   },
   {
    "duration": 363,
    "start_time": "2025-01-29T20:51:28.655Z"
   },
   {
    "duration": 432,
    "start_time": "2025-01-29T20:51:29.020Z"
   },
   {
    "duration": 363,
    "start_time": "2025-01-29T20:51:29.453Z"
   },
   {
    "duration": 1011,
    "start_time": "2025-01-29T20:51:29.817Z"
   },
   {
    "duration": 2,
    "start_time": "2025-01-29T20:51:30.830Z"
   },
   {
    "duration": 794,
    "start_time": "2025-01-29T20:51:41.022Z"
   },
   {
    "duration": 11,
    "start_time": "2025-01-29T20:51:47.089Z"
   },
   {
    "duration": 728,
    "start_time": "2025-01-29T20:52:54.586Z"
   },
   {
    "duration": 14,
    "start_time": "2025-01-29T20:52:59.310Z"
   },
   {
    "duration": 13,
    "start_time": "2025-01-29T20:53:18.570Z"
   },
   {
    "duration": 14,
    "start_time": "2025-01-29T20:53:27.976Z"
   },
   {
    "duration": 5,
    "start_time": "2025-01-29T20:53:47.579Z"
   },
   {
    "duration": 14,
    "start_time": "2025-01-29T20:55:42.392Z"
   },
   {
    "duration": 163,
    "start_time": "2025-01-29T20:58:17.209Z"
   },
   {
    "duration": 1445,
    "start_time": "2025-01-29T20:58:53.078Z"
   },
   {
    "duration": 2,
    "start_time": "2025-01-29T20:58:54.525Z"
   },
   {
    "duration": 976,
    "start_time": "2025-01-29T20:58:54.530Z"
   },
   {
    "duration": 25,
    "start_time": "2025-01-29T20:58:55.508Z"
   },
   {
    "duration": 15,
    "start_time": "2025-01-29T20:58:55.535Z"
   },
   {
    "duration": 14,
    "start_time": "2025-01-29T20:58:55.552Z"
   },
   {
    "duration": 61,
    "start_time": "2025-01-29T20:58:55.568Z"
   },
   {
    "duration": 20,
    "start_time": "2025-01-29T20:58:55.631Z"
   },
   {
    "duration": 26,
    "start_time": "2025-01-29T20:58:55.653Z"
   },
   {
    "duration": 5,
    "start_time": "2025-01-29T20:58:55.681Z"
   },
   {
    "duration": 57,
    "start_time": "2025-01-29T20:58:55.687Z"
   },
   {
    "duration": 33,
    "start_time": "2025-01-29T20:58:55.745Z"
   },
   {
    "duration": 50,
    "start_time": "2025-01-29T20:58:55.779Z"
   },
   {
    "duration": 332,
    "start_time": "2025-01-29T20:58:55.830Z"
   },
   {
    "duration": 360,
    "start_time": "2025-01-29T20:58:56.163Z"
   },
   {
    "duration": 389,
    "start_time": "2025-01-29T20:58:56.526Z"
   },
   {
    "duration": 380,
    "start_time": "2025-01-29T20:58:56.917Z"
   },
   {
    "duration": 317,
    "start_time": "2025-01-29T20:58:57.299Z"
   },
   {
    "duration": 338,
    "start_time": "2025-01-29T20:58:57.618Z"
   },
   {
    "duration": 345,
    "start_time": "2025-01-29T20:58:57.958Z"
   },
   {
    "duration": 321,
    "start_time": "2025-01-29T20:58:58.305Z"
   },
   {
    "duration": 333,
    "start_time": "2025-01-29T20:58:58.627Z"
   },
   {
    "duration": 363,
    "start_time": "2025-01-29T20:58:58.962Z"
   },
   {
    "duration": 455,
    "start_time": "2025-01-29T20:58:59.327Z"
   },
   {
    "duration": 358,
    "start_time": "2025-01-29T20:58:59.783Z"
   },
   {
    "duration": 1056,
    "start_time": "2025-01-29T20:59:00.143Z"
   },
   {
    "duration": 12,
    "start_time": "2025-01-29T20:59:01.201Z"
   },
   {
    "duration": 498,
    "start_time": "2025-01-29T20:59:04.317Z"
   },
   {
    "duration": 2044,
    "start_time": "2025-01-29T21:12:23.470Z"
   },
   {
    "duration": 13,
    "start_time": "2025-01-29T21:17:44.409Z"
   },
   {
    "duration": 13,
    "start_time": "2025-01-29T21:18:53.430Z"
   },
   {
    "duration": 13,
    "start_time": "2025-01-29T21:19:12.540Z"
   },
   {
    "duration": 12,
    "start_time": "2025-01-29T21:19:19.889Z"
   },
   {
    "duration": 13,
    "start_time": "2025-01-29T21:19:39.681Z"
   },
   {
    "duration": 24,
    "start_time": "2025-01-29T21:19:57.737Z"
   },
   {
    "duration": 2,
    "start_time": "2025-01-29T21:22:14.184Z"
   },
   {
    "duration": 38,
    "start_time": "2025-01-29T21:28:12.352Z"
   },
   {
    "duration": 34,
    "start_time": "2025-01-29T21:30:42.317Z"
   },
   {
    "duration": 39,
    "start_time": "2025-01-29T21:31:13.726Z"
   },
   {
    "duration": 1336,
    "start_time": "2025-01-29T21:41:56.649Z"
   },
   {
    "duration": 2,
    "start_time": "2025-01-29T21:41:57.987Z"
   },
   {
    "duration": 1147,
    "start_time": "2025-01-29T21:41:57.991Z"
   },
   {
    "duration": 22,
    "start_time": "2025-01-29T21:41:59.140Z"
   },
   {
    "duration": 15,
    "start_time": "2025-01-29T21:41:59.163Z"
   },
   {
    "duration": 41,
    "start_time": "2025-01-29T21:41:59.179Z"
   },
   {
    "duration": 31,
    "start_time": "2025-01-29T21:41:59.221Z"
   },
   {
    "duration": 22,
    "start_time": "2025-01-29T21:41:59.254Z"
   },
   {
    "duration": 58,
    "start_time": "2025-01-29T21:41:59.279Z"
   },
   {
    "duration": 5,
    "start_time": "2025-01-29T21:41:59.341Z"
   },
   {
    "duration": 37,
    "start_time": "2025-01-29T21:41:59.348Z"
   },
   {
    "duration": 56,
    "start_time": "2025-01-29T21:41:59.387Z"
   },
   {
    "duration": 34,
    "start_time": "2025-01-29T21:41:59.445Z"
   },
   {
    "duration": 338,
    "start_time": "2025-01-29T21:41:59.482Z"
   },
   {
    "duration": 347,
    "start_time": "2025-01-29T21:41:59.823Z"
   },
   {
    "duration": 384,
    "start_time": "2025-01-29T21:42:00.172Z"
   },
   {
    "duration": 412,
    "start_time": "2025-01-29T21:42:00.559Z"
   },
   {
    "duration": 333,
    "start_time": "2025-01-29T21:42:00.973Z"
   },
   {
    "duration": 352,
    "start_time": "2025-01-29T21:42:01.309Z"
   },
   {
    "duration": 347,
    "start_time": "2025-01-29T21:42:01.663Z"
   },
   {
    "duration": 339,
    "start_time": "2025-01-29T21:42:02.014Z"
   },
   {
    "duration": 350,
    "start_time": "2025-01-29T21:42:02.355Z"
   },
   {
    "duration": 389,
    "start_time": "2025-01-29T21:42:02.707Z"
   },
   {
    "duration": 471,
    "start_time": "2025-01-29T21:42:03.099Z"
   },
   {
    "duration": 382,
    "start_time": "2025-01-29T21:42:03.573Z"
   },
   {
    "duration": 1099,
    "start_time": "2025-01-29T21:42:03.957Z"
   },
   {
    "duration": 3,
    "start_time": "2025-01-29T21:42:05.058Z"
   },
   {
    "duration": 552,
    "start_time": "2025-01-29T21:42:05.063Z"
   },
   {
    "duration": 80,
    "start_time": "2025-01-29T21:42:23.150Z"
   },
   {
    "duration": 1995,
    "start_time": "2025-01-29T21:43:33.520Z"
   },
   {
    "duration": 1395,
    "start_time": "2025-01-29T21:46:14.451Z"
   },
   {
    "duration": 3,
    "start_time": "2025-01-29T21:46:15.847Z"
   },
   {
    "duration": 1163,
    "start_time": "2025-01-29T21:46:15.851Z"
   },
   {
    "duration": 22,
    "start_time": "2025-01-29T21:46:17.016Z"
   },
   {
    "duration": 15,
    "start_time": "2025-01-29T21:46:17.040Z"
   },
   {
    "duration": 15,
    "start_time": "2025-01-29T21:46:17.057Z"
   },
   {
    "duration": 58,
    "start_time": "2025-01-29T21:46:17.074Z"
   },
   {
    "duration": 21,
    "start_time": "2025-01-29T21:46:17.134Z"
   },
   {
    "duration": 27,
    "start_time": "2025-01-29T21:46:17.157Z"
   },
   {
    "duration": 5,
    "start_time": "2025-01-29T21:46:17.186Z"
   },
   {
    "duration": 36,
    "start_time": "2025-01-29T21:46:17.213Z"
   },
   {
    "duration": 35,
    "start_time": "2025-01-29T21:46:17.251Z"
   },
   {
    "duration": 51,
    "start_time": "2025-01-29T21:46:17.288Z"
   },
   {
    "duration": 341,
    "start_time": "2025-01-29T21:46:17.342Z"
   },
   {
    "duration": 354,
    "start_time": "2025-01-29T21:46:17.685Z"
   },
   {
    "duration": 381,
    "start_time": "2025-01-29T21:46:18.040Z"
   },
   {
    "duration": 410,
    "start_time": "2025-01-29T21:46:18.423Z"
   },
   {
    "duration": 328,
    "start_time": "2025-01-29T21:46:18.834Z"
   },
   {
    "duration": 351,
    "start_time": "2025-01-29T21:46:19.164Z"
   },
   {
    "duration": 333,
    "start_time": "2025-01-29T21:46:19.517Z"
   },
   {
    "duration": 326,
    "start_time": "2025-01-29T21:46:19.852Z"
   },
   {
    "duration": 359,
    "start_time": "2025-01-29T21:46:20.180Z"
   },
   {
    "duration": 376,
    "start_time": "2025-01-29T21:46:20.541Z"
   },
   {
    "duration": 432,
    "start_time": "2025-01-29T21:46:20.919Z"
   },
   {
    "duration": 361,
    "start_time": "2025-01-29T21:46:21.352Z"
   },
   {
    "duration": 1017,
    "start_time": "2025-01-29T21:46:21.715Z"
   },
   {
    "duration": 3,
    "start_time": "2025-01-29T21:46:22.733Z"
   },
   {
    "duration": 483,
    "start_time": "2025-01-29T21:46:22.738Z"
   },
   {
    "duration": 2053,
    "start_time": "2025-01-29T21:46:43.661Z"
   },
   {
    "duration": 158,
    "start_time": "2025-01-29T21:46:59.182Z"
   },
   {
    "duration": 1400,
    "start_time": "2025-01-29T21:47:11.823Z"
   },
   {
    "duration": 3,
    "start_time": "2025-01-29T21:47:13.225Z"
   },
   {
    "duration": 1000,
    "start_time": "2025-01-29T21:47:13.229Z"
   },
   {
    "duration": 21,
    "start_time": "2025-01-29T21:47:14.230Z"
   },
   {
    "duration": 16,
    "start_time": "2025-01-29T21:47:14.253Z"
   },
   {
    "duration": 15,
    "start_time": "2025-01-29T21:47:14.270Z"
   },
   {
    "duration": 52,
    "start_time": "2025-01-29T21:47:14.287Z"
   },
   {
    "duration": 19,
    "start_time": "2025-01-29T21:47:14.341Z"
   },
   {
    "duration": 28,
    "start_time": "2025-01-29T21:47:14.362Z"
   },
   {
    "duration": 26,
    "start_time": "2025-01-29T21:47:14.392Z"
   },
   {
    "duration": 38,
    "start_time": "2025-01-29T21:47:14.420Z"
   },
   {
    "duration": 54,
    "start_time": "2025-01-29T21:47:14.459Z"
   },
   {
    "duration": 36,
    "start_time": "2025-01-29T21:47:14.515Z"
   },
   {
    "duration": 353,
    "start_time": "2025-01-29T21:47:14.553Z"
   },
   {
    "duration": 361,
    "start_time": "2025-01-29T21:47:14.907Z"
   },
   {
    "duration": 390,
    "start_time": "2025-01-29T21:47:15.269Z"
   },
   {
    "duration": 422,
    "start_time": "2025-01-29T21:47:15.661Z"
   },
   {
    "duration": 331,
    "start_time": "2025-01-29T21:47:16.085Z"
   },
   {
    "duration": 376,
    "start_time": "2025-01-29T21:47:16.417Z"
   },
   {
    "duration": 331,
    "start_time": "2025-01-29T21:47:16.795Z"
   },
   {
    "duration": 318,
    "start_time": "2025-01-29T21:47:17.128Z"
   },
   {
    "duration": 339,
    "start_time": "2025-01-29T21:47:17.447Z"
   },
   {
    "duration": 361,
    "start_time": "2025-01-29T21:47:17.788Z"
   },
   {
    "duration": 440,
    "start_time": "2025-01-29T21:47:18.150Z"
   },
   {
    "duration": 362,
    "start_time": "2025-01-29T21:47:18.592Z"
   },
   {
    "duration": 1051,
    "start_time": "2025-01-29T21:47:18.956Z"
   },
   {
    "duration": 3,
    "start_time": "2025-01-29T21:47:20.013Z"
   },
   {
    "duration": 498,
    "start_time": "2025-01-29T21:47:20.018Z"
   },
   {
    "duration": 1917,
    "start_time": "2025-01-29T21:48:07.436Z"
   },
   {
    "duration": 37,
    "start_time": "2025-01-29T21:48:31.217Z"
   },
   {
    "duration": 3,
    "start_time": "2025-01-29T22:00:26.358Z"
   },
   {
    "duration": 4,
    "start_time": "2025-01-29T22:00:27.368Z"
   },
   {
    "duration": 7,
    "start_time": "2025-01-29T22:00:28.776Z"
   },
   {
    "duration": 4,
    "start_time": "2025-01-29T22:00:43.797Z"
   },
   {
    "duration": 112,
    "start_time": "2025-01-29T22:01:02.053Z"
   },
   {
    "duration": 1539,
    "start_time": "2025-01-29T22:01:41.813Z"
   },
   {
    "duration": 7,
    "start_time": "2025-01-29T22:01:47.270Z"
   },
   {
    "duration": 4,
    "start_time": "2025-01-29T22:01:52.426Z"
   },
   {
    "duration": 3,
    "start_time": "2025-01-29T22:10:21.349Z"
   },
   {
    "duration": 3,
    "start_time": "2025-01-29T22:14:13.860Z"
   },
   {
    "duration": 12,
    "start_time": "2025-01-29T22:19:18.338Z"
   },
   {
    "duration": 73,
    "start_time": "2025-01-29T22:22:25.637Z"
   },
   {
    "duration": 4558,
    "start_time": "2025-01-29T22:22:42.140Z"
   },
   {
    "duration": 3,
    "start_time": "2025-01-29T22:24:19.246Z"
   },
   {
    "duration": 68,
    "start_time": "2025-01-29T22:24:58.998Z"
   },
   {
    "duration": 4639,
    "start_time": "2025-01-29T22:25:22.797Z"
   },
   {
    "duration": 4279,
    "start_time": "2025-01-29T22:25:34.231Z"
   },
   {
    "duration": 3,
    "start_time": "2025-01-29T22:26:12.027Z"
   },
   {
    "duration": 3,
    "start_time": "2025-01-29T22:26:14.625Z"
   },
   {
    "duration": 4347,
    "start_time": "2025-01-29T22:26:17.149Z"
   },
   {
    "duration": 4520,
    "start_time": "2025-01-29T22:28:30.306Z"
   },
   {
    "duration": 4360,
    "start_time": "2025-01-29T22:33:25.011Z"
   },
   {
    "duration": 4404,
    "start_time": "2025-01-29T22:41:45.945Z"
   },
   {
    "duration": 4395,
    "start_time": "2025-01-29T22:46:30.791Z"
   },
   {
    "duration": 4508,
    "start_time": "2025-01-29T22:47:10.236Z"
   },
   {
    "duration": 1413,
    "start_time": "2025-01-29T22:51:32.980Z"
   },
   {
    "duration": 2,
    "start_time": "2025-01-29T22:51:34.395Z"
   },
   {
    "duration": 1206,
    "start_time": "2025-01-29T22:51:34.399Z"
   },
   {
    "duration": 23,
    "start_time": "2025-01-29T22:51:35.607Z"
   },
   {
    "duration": 16,
    "start_time": "2025-01-29T22:51:35.632Z"
   },
   {
    "duration": 16,
    "start_time": "2025-01-29T22:51:35.650Z"
   },
   {
    "duration": 64,
    "start_time": "2025-01-29T22:51:35.668Z"
   },
   {
    "duration": 21,
    "start_time": "2025-01-29T22:51:35.734Z"
   },
   {
    "duration": 27,
    "start_time": "2025-01-29T22:51:35.757Z"
   },
   {
    "duration": 5,
    "start_time": "2025-01-29T22:51:35.786Z"
   },
   {
    "duration": 36,
    "start_time": "2025-01-29T22:51:35.814Z"
   },
   {
    "duration": 34,
    "start_time": "2025-01-29T22:51:35.852Z"
   },
   {
    "duration": 53,
    "start_time": "2025-01-29T22:51:35.888Z"
   },
   {
    "duration": 359,
    "start_time": "2025-01-29T22:51:35.945Z"
   },
   {
    "duration": 349,
    "start_time": "2025-01-29T22:51:36.313Z"
   },
   {
    "duration": 357,
    "start_time": "2025-01-29T22:51:36.663Z"
   },
   {
    "duration": 380,
    "start_time": "2025-01-29T22:51:37.022Z"
   },
   {
    "duration": 329,
    "start_time": "2025-01-29T22:51:37.403Z"
   },
   {
    "duration": 329,
    "start_time": "2025-01-29T22:51:37.735Z"
   },
   {
    "duration": 320,
    "start_time": "2025-01-29T22:51:38.065Z"
   },
   {
    "duration": 300,
    "start_time": "2025-01-29T22:51:38.386Z"
   },
   {
    "duration": 317,
    "start_time": "2025-01-29T22:51:38.687Z"
   },
   {
    "duration": 340,
    "start_time": "2025-01-29T22:51:39.013Z"
   },
   {
    "duration": 412,
    "start_time": "2025-01-29T22:51:39.355Z"
   },
   {
    "duration": 354,
    "start_time": "2025-01-29T22:51:39.768Z"
   },
   {
    "duration": 973,
    "start_time": "2025-01-29T22:51:40.124Z"
   },
   {
    "duration": 3,
    "start_time": "2025-01-29T22:51:41.098Z"
   },
   {
    "duration": 513,
    "start_time": "2025-01-29T22:51:41.102Z"
   },
   {
    "duration": 925,
    "start_time": "2025-01-29T22:51:41.620Z"
   },
   {
    "duration": 0,
    "start_time": "2025-01-29T22:51:42.547Z"
   },
   {
    "duration": 0,
    "start_time": "2025-01-29T22:51:42.549Z"
   },
   {
    "duration": 0,
    "start_time": "2025-01-29T22:51:42.550Z"
   },
   {
    "duration": 0,
    "start_time": "2025-01-29T22:51:42.551Z"
   },
   {
    "duration": 0,
    "start_time": "2025-01-29T22:51:42.552Z"
   },
   {
    "duration": 0,
    "start_time": "2025-01-29T22:51:42.553Z"
   },
   {
    "duration": 0,
    "start_time": "2025-01-29T22:51:42.554Z"
   },
   {
    "duration": 0,
    "start_time": "2025-01-29T22:51:42.556Z"
   },
   {
    "duration": 1973,
    "start_time": "2025-01-29T22:52:56.942Z"
   },
   {
    "duration": 36,
    "start_time": "2025-01-29T22:53:08.912Z"
   },
   {
    "duration": 2,
    "start_time": "2025-01-29T22:53:15.838Z"
   },
   {
    "duration": 4,
    "start_time": "2025-01-29T22:53:16.695Z"
   },
   {
    "duration": 7,
    "start_time": "2025-01-29T22:53:18.248Z"
   },
   {
    "duration": 3,
    "start_time": "2025-01-29T22:53:23.927Z"
   },
   {
    "duration": 3,
    "start_time": "2025-01-29T22:53:33.800Z"
   },
   {
    "duration": 4,
    "start_time": "2025-01-29T22:53:35.922Z"
   },
   {
    "duration": 4405,
    "start_time": "2025-01-29T22:53:41.065Z"
   }
  ],
  "kernelspec": {
   "display_name": "Python [conda env:base] *",
   "language": "python",
   "name": "conda-base-py"
  },
  "language_info": {
   "codemirror_mode": {
    "name": "ipython",
    "version": 3
   },
   "file_extension": ".py",
   "mimetype": "text/x-python",
   "name": "python",
   "nbconvert_exporter": "python",
   "pygments_lexer": "ipython3",
   "version": "3.12.7"
  },
  "toc": {
   "base_numbering": 1,
   "nav_menu": {},
   "number_sections": true,
   "sideBar": true,
   "skip_h1_title": true,
   "title_cell": "Table of Contents",
   "title_sidebar": "Contents",
   "toc_cell": false,
   "toc_position": {},
   "toc_section_display": true,
   "toc_window_display": false
  }
 },
 "nbformat": 4,
 "nbformat_minor": 4
}
