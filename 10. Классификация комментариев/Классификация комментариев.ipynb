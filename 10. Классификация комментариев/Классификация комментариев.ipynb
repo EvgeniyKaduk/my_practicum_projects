{
 "cells": [
  {
   "cell_type": "markdown",
   "metadata": {
    "toc": true
   },
   "source": [
    "<h1>Содержание<span class=\"tocSkip\"></span></h1>\n",
    "<div class=\"toc\"><ul class=\"toc-item\"><li><span><a href=\"#Подготовка\" data-toc-modified-id=\"Подготовка-1\"><span class=\"toc-item-num\">1&nbsp;&nbsp;</span>Подготовка</a></span></li><li><span><a href=\"#Обучение\" data-toc-modified-id=\"Обучение-2\"><span class=\"toc-item-num\">2&nbsp;&nbsp;</span>Обучение</a></span></li><li><span><a href=\"#Выводы\" data-toc-modified-id=\"Выводы-3\"><span class=\"toc-item-num\">3&nbsp;&nbsp;</span>Выводы</a></span></li><li><span><a href=\"#Чек-лист-проверки\" data-toc-modified-id=\"Чек-лист-проверки-4\"><span class=\"toc-item-num\">4&nbsp;&nbsp;</span>Чек-лист проверки</a></span></li></ul></div>"
   ]
  },
  {
   "cell_type": "markdown",
   "metadata": {},
   "source": [
    "# Проект для «Викишоп»"
   ]
  },
  {
   "cell_type": "markdown",
   "metadata": {},
   "source": [
    "Интернет-магазин «Викишоп» запускает новый сервис. Теперь пользователи могут редактировать и дополнять описания товаров, как в вики-сообществах. То есть клиенты предлагают свои правки и комментируют изменения других. Магазину нужен инструмент, который будет искать токсичные комментарии и отправлять их на модерацию. \n",
    "\n",
    "Необходимо обучить модель классифицировать комментарии на позитивные и негативные. У нас есть в распоряжении набор данных с разметкой о токсичности правок.\n",
    "\n",
    "Метрика качества *F1* для выбранной оптимальной модели должна быть не меньше 0.75. \n",
    "\n",
    "**Этапы выполнения проекта:**\n",
    "\n",
    "1. Загрузка и подготовька данных.\n",
    "2. Обучение разных моделей и выбор оптимальной модели. \n",
    "3. Выводы.\n",
    "\n",
    "**Описание данных**\n",
    "\n",
    "Данные находятся в файле `toxic_comments.csv`. Столбец *text* содержит текст комментария, а *toxic* — целевой признак."
   ]
  },
  {
   "cell_type": "markdown",
   "metadata": {},
   "source": [
    "## Подготовка"
   ]
  },
  {
   "cell_type": "code",
   "execution_count": 1,
   "metadata": {},
   "outputs": [],
   "source": [
    "# сделаем необходимые инсталяции\n",
    "!pip install nltk -q\n",
    "!pip install -U lightgbm scikit-learn -q\n",
    "!pip install wordcloud==1.8.2.2 -q\n",
    "!pip install --upgrade Pillow==9.5.0 -q\n",
    "!pip install seaborn --upgrade -q\n",
    "!pip install pandas --upgrade -q\n",
    "!pip install scipy==1.13.0 -q\n",
    "!pip install numba --upgrade -q\n",
    "!pip install numpy==1.26.4 -q\n",
    "!pip install spacy -q"
   ]
  },
  {
   "cell_type": "code",
   "execution_count": 2,
   "metadata": {},
   "outputs": [],
   "source": [
    "# импортируем необходимые библиотеки\n",
    "import pandas as pd\n",
    "import seaborn as sns\n",
    "import numpy as np\n",
    "import scipy\n",
    "import os\n",
    "import re\n",
    "import matplotlib.pyplot as plt\n",
    "import itertools\n",
    "import spacy\n",
    "\n",
    "from sklearn.metrics import f1_score\n",
    "from sklearn.model_selection import train_test_split, GridSearchCV\n",
    "from sklearn.feature_extraction.text import TfidfVectorizer\n",
    "from sklearn.pipeline import Pipeline\n",
    "from sklearn.ensemble import RandomForestClassifier\n",
    "from sklearn.compose import ColumnTransformer\n",
    "from sklearn.preprocessing import StandardScaler\n",
    "from sklearn.linear_model import PassiveAggressiveClassifier\n",
    "\n",
    "from wordcloud import WordCloud\n",
    "\n",
    "import nltk\n",
    "from nltk.tokenize import word_tokenize\n",
    "from nltk.corpus import stopwords, wordnet\n",
    "from nltk.probability import FreqDist\n",
    "from nltk.tag import pos_tag\n",
    "from nltk.stem import WordNetLemmatizer\n",
    "from nltk.sentiment import SentimentIntensityAnalyzer\n",
    "\n",
    "import lightgbm as lgb\n",
    "from lightgbm import LGBMClassifier"
   ]
  },
  {
   "cell_type": "code",
   "execution_count": 3,
   "metadata": {},
   "outputs": [],
   "source": [
    "# установим опцию отображения максимальной ширины столбцов\n",
    "pd.set_option('display.max_colwidth', None)"
   ]
  },
  {
   "cell_type": "code",
   "execution_count": 4,
   "metadata": {},
   "outputs": [
    {
     "name": "stderr",
     "output_type": "stream",
     "text": [
      "[nltk_data] Downloading package wordnet to /home/jovyan/nltk_data...\n",
      "[nltk_data]   Package wordnet is already up-to-date!\n",
      "[nltk_data] Downloading package punkt to /home/jovyan/nltk_data...\n",
      "[nltk_data]   Package punkt is already up-to-date!\n",
      "[nltk_data] Downloading package stopwords to /home/jovyan/nltk_data...\n",
      "[nltk_data]   Package stopwords is already up-to-date!\n",
      "[nltk_data] Downloading package vader_lexicon to\n",
      "[nltk_data]     /home/jovyan/nltk_data...\n",
      "[nltk_data]   Package vader_lexicon is already up-to-date!\n",
      "[nltk_data] Downloading package averaged_perceptron_tagger_eng to\n",
      "[nltk_data]     /home/jovyan/nltk_data...\n",
      "[nltk_data]   Package averaged_perceptron_tagger_eng is already up-to-\n",
      "[nltk_data]       date!\n"
     ]
    },
    {
     "data": {
      "text/plain": [
       "True"
      ]
     },
     "execution_count": 4,
     "metadata": {},
     "output_type": "execute_result"
    }
   ],
   "source": [
    "# загрузим необходимые элемененты библиотеки nltk\n",
    "nltk.download('wordnet')\n",
    "nltk.download('punkt')\n",
    "nltk.download('stopwords')\n",
    "nltk.download('vader_lexicon')\n",
    "nltk.download('averaged_perceptron_tagger_eng')"
   ]
  },
  {
   "cell_type": "code",
   "execution_count": 5,
   "metadata": {},
   "outputs": [],
   "source": [
    "# зададим стоп-слова на английском языке\n",
    "stopwords = list(stopwords.words('english'))\n",
    "nlp = spacy.load(\"en_core_web_sm\")"
   ]
  },
  {
   "cell_type": "code",
   "execution_count": 6,
   "metadata": {},
   "outputs": [],
   "source": [
    "# установим константы\n",
    "RANDOM_STATE = 1234\n",
    "TEST_SIZE = 0.25"
   ]
  },
  {
   "cell_type": "code",
   "execution_count": 7,
   "metadata": {},
   "outputs": [],
   "source": [
    "# загружаем данные в датафрейм\n",
    "path_1 = 'https://code.s3.yandex.net/datasets/toxic_comments.csv'\n",
    "path_2 = '/datasets/toxic_comments.csv'\n",
    "if os.path.exists(path_1):\n",
    "    toxic = pd.read_csv(path_1, index_col=0)\n",
    "elif os.path.exists(path_2):\n",
    "    toxic = pd.read_csv(path_2, index_col=0)\n",
    "else:\n",
    "    print('Something is wrong')"
   ]
  },
  {
   "cell_type": "code",
   "execution_count": 8,
   "metadata": {},
   "outputs": [
    {
     "data": {
      "text/html": [
       "<div>\n",
       "<style scoped>\n",
       "    .dataframe tbody tr th:only-of-type {\n",
       "        vertical-align: middle;\n",
       "    }\n",
       "\n",
       "    .dataframe tbody tr th {\n",
       "        vertical-align: top;\n",
       "    }\n",
       "\n",
       "    .dataframe thead th {\n",
       "        text-align: right;\n",
       "    }\n",
       "</style>\n",
       "<table border=\"1\" class=\"dataframe\">\n",
       "  <thead>\n",
       "    <tr style=\"text-align: right;\">\n",
       "      <th></th>\n",
       "      <th>text</th>\n",
       "      <th>toxic</th>\n",
       "    </tr>\n",
       "  </thead>\n",
       "  <tbody>\n",
       "    <tr>\n",
       "      <th>0</th>\n",
       "      <td>Explanation\\nWhy the edits made under my username Hardcore Metallica Fan were reverted? They weren't vandalisms, just closure on some GAs after I voted at New York Dolls FAC. And please don't remove the template from the talk page since I'm retired now.89.205.38.27</td>\n",
       "      <td>0</td>\n",
       "    </tr>\n",
       "    <tr>\n",
       "      <th>1</th>\n",
       "      <td>D'aww! He matches this background colour I'm seemingly stuck with. Thanks.  (talk) 21:51, January 11, 2016 (UTC)</td>\n",
       "      <td>0</td>\n",
       "    </tr>\n",
       "    <tr>\n",
       "      <th>2</th>\n",
       "      <td>Hey man, I'm really not trying to edit war. It's just that this guy is constantly removing relevant information and talking to me through edits instead of my talk page. He seems to care more about the formatting than the actual info.</td>\n",
       "      <td>0</td>\n",
       "    </tr>\n",
       "    <tr>\n",
       "      <th>3</th>\n",
       "      <td>\"\\nMore\\nI can't make any real suggestions on improvement - I wondered if the section statistics should be later on, or a subsection of \"\"types of accidents\"\"  -I think the references may need tidying so that they are all in the exact same format ie date format etc. I can do that later on, if no-one else does first - if you have any preferences for formatting style on references or want to do it yourself please let me know.\\n\\nThere appears to be a backlog on articles for review so I guess there may be a delay until a reviewer turns up. It's listed in the relevant form eg Wikipedia:Good_article_nominations#Transport  \"</td>\n",
       "      <td>0</td>\n",
       "    </tr>\n",
       "    <tr>\n",
       "      <th>4</th>\n",
       "      <td>You, sir, are my hero. Any chance you remember what page that's on?</td>\n",
       "      <td>0</td>\n",
       "    </tr>\n",
       "    <tr>\n",
       "      <th>5</th>\n",
       "      <td>\"\\n\\nCongratulations from me as well, use the tools well.  · talk \"</td>\n",
       "      <td>0</td>\n",
       "    </tr>\n",
       "    <tr>\n",
       "      <th>6</th>\n",
       "      <td>COCKSUCKER BEFORE YOU PISS AROUND ON MY WORK</td>\n",
       "      <td>1</td>\n",
       "    </tr>\n",
       "    <tr>\n",
       "      <th>7</th>\n",
       "      <td>Your vandalism to the Matt Shirvington article has been reverted.  Please don't do it again, or you will be banned.</td>\n",
       "      <td>0</td>\n",
       "    </tr>\n",
       "    <tr>\n",
       "      <th>8</th>\n",
       "      <td>Sorry if the word 'nonsense' was offensive to you. Anyway, I'm not intending to write anything in the article(wow they would jump on me for vandalism), I'm merely requesting that it be more encyclopedic so one can use it for school as a reference. I have been to the selective breeding page but it's almost a stub. It points to 'animal breeding' which is a short messy article that gives you no info. There must be someone around with expertise in eugenics? 93.161.107.169</td>\n",
       "      <td>0</td>\n",
       "    </tr>\n",
       "    <tr>\n",
       "      <th>9</th>\n",
       "      <td>alignment on this subject and which are contrary to those of DuLithgow</td>\n",
       "      <td>0</td>\n",
       "    </tr>\n",
       "  </tbody>\n",
       "</table>\n",
       "</div>"
      ],
      "text/plain": [
       "                                                                                                                                                                                                                                                                                                                                                                                                                                                                                                                                                                                                                                                 text  \\\n",
       "0                                                                                                                                                                                                                                                                                                                                                                           Explanation\\nWhy the edits made under my username Hardcore Metallica Fan were reverted? They weren't vandalisms, just closure on some GAs after I voted at New York Dolls FAC. And please don't remove the template from the talk page since I'm retired now.89.205.38.27   \n",
       "1                                                                                                                                                                                                                                                                                                                                                                                                                                                                                                                                    D'aww! He matches this background colour I'm seemingly stuck with. Thanks.  (talk) 21:51, January 11, 2016 (UTC)   \n",
       "2                                                                                                                                                                                                                                                                                                                                                                                                           Hey man, I'm really not trying to edit war. It's just that this guy is constantly removing relevant information and talking to me through edits instead of my talk page. He seems to care more about the formatting than the actual info.   \n",
       "3  \"\\nMore\\nI can't make any real suggestions on improvement - I wondered if the section statistics should be later on, or a subsection of \"\"types of accidents\"\"  -I think the references may need tidying so that they are all in the exact same format ie date format etc. I can do that later on, if no-one else does first - if you have any preferences for formatting style on references or want to do it yourself please let me know.\\n\\nThere appears to be a backlog on articles for review so I guess there may be a delay until a reviewer turns up. It's listed in the relevant form eg Wikipedia:Good_article_nominations#Transport  \"   \n",
       "4                                                                                                                                                                                                                                                                                                                                                                                                                                                                                                                                                                                 You, sir, are my hero. Any chance you remember what page that's on?   \n",
       "5                                                                                                                                                                                                                                                                                                                                                                                                                                                                                                                                                                                 \"\\n\\nCongratulations from me as well, use the tools well.  · talk \"   \n",
       "6                                                                                                                                                                                                                                                                                                                                                                                                                                                                                                                                                                                                        COCKSUCKER BEFORE YOU PISS AROUND ON MY WORK   \n",
       "7                                                                                                                                                                                                                                                                                                                                                                                                                                                                                                                                 Your vandalism to the Matt Shirvington article has been reverted.  Please don't do it again, or you will be banned.   \n",
       "8                                                                                                                                                            Sorry if the word 'nonsense' was offensive to you. Anyway, I'm not intending to write anything in the article(wow they would jump on me for vandalism), I'm merely requesting that it be more encyclopedic so one can use it for school as a reference. I have been to the selective breeding page but it's almost a stub. It points to 'animal breeding' which is a short messy article that gives you no info. There must be someone around with expertise in eugenics? 93.161.107.169   \n",
       "9                                                                                                                                                                                                                                                                                                                                                                                                                                                                                                                                                                              alignment on this subject and which are contrary to those of DuLithgow   \n",
       "\n",
       "   toxic  \n",
       "0      0  \n",
       "1      0  \n",
       "2      0  \n",
       "3      0  \n",
       "4      0  \n",
       "5      0  \n",
       "6      1  \n",
       "7      0  \n",
       "8      0  \n",
       "9      0  "
      ]
     },
     "execution_count": 8,
     "metadata": {},
     "output_type": "execute_result"
    }
   ],
   "source": [
    "# посмотрим первые 10 строк датафрейма\n",
    "toxic.head(10)"
   ]
  },
  {
   "cell_type": "code",
   "execution_count": 9,
   "metadata": {},
   "outputs": [
    {
     "name": "stdout",
     "output_type": "stream",
     "text": [
      "<class 'pandas.core.frame.DataFrame'>\n",
      "Index: 159292 entries, 0 to 159450\n",
      "Data columns (total 2 columns):\n",
      " #   Column  Non-Null Count   Dtype \n",
      "---  ------  --------------   ----- \n",
      " 0   text    159292 non-null  object\n",
      " 1   toxic   159292 non-null  int64 \n",
      "dtypes: int64(1), object(1)\n",
      "memory usage: 3.6+ MB\n"
     ]
    }
   ],
   "source": [
    "# выведем общую информацию по датафрейму\n",
    "toxic.info()"
   ]
  },
  {
   "cell_type": "code",
   "execution_count": 10,
   "metadata": {},
   "outputs": [
    {
     "data": {
      "text/plain": [
       "toxic\n",
       "0    143106\n",
       "1     16186\n",
       "Name: count, dtype: int64"
      ]
     },
     "execution_count": 10,
     "metadata": {},
     "output_type": "execute_result"
    }
   ],
   "source": [
    "# посмотрим на распределение целевого признака\n",
    "toxic['toxic'].value_counts()"
   ]
  },
  {
   "cell_type": "code",
   "execution_count": 11,
   "metadata": {},
   "outputs": [
    {
     "data": {
      "image/png": "[encoded data removed]",
      "text/plain": [
       "<Figure size 432x432 with 1 Axes>"
      ]
     },
     "metadata": {
      "needs_background": "light"
     },
     "output_type": "display_data"
    }
   ],
   "source": [
    "# построим график распределения меток о токсичности комментариев\n",
    "plt.figure(figsize=(6, 6))\n",
    "sns.set_style('whitegrid')\n",
    "ax=sns.countplot(data=toxic, x='toxic', hue='toxic')\n",
    "ax.set_xticks([0, 1])\n",
    "ax.set_xticklabels(['позитивные', 'токсичные'])\n",
    "handles, labels = ax.get_legend_handles_labels()\n",
    "ax.legend(handles, ['позитивные', 'токсичные'], title='Токсичность')\n",
    "plt.title('Распределение меток о токсичности комментариев')\n",
    "plt.xlabel('Токсичность комментариев')\n",
    "plt.ylabel('Количество')\n",
    "plt.show()"
   ]
  },
  {
   "cell_type": "code",
   "execution_count": 12,
   "metadata": {},
   "outputs": [],
   "source": [
    "# проведем регуляризацию текстов\n",
    "def clear_text(text):\n",
    "    clear_text = re.sub(r'[^a-zA-Z]', ' ', text).lower()\n",
    "    j_text = \" \".join(clear_text.split())\n",
    "    return j_text\n",
    "  \n",
    "toxic['text'] = toxic['text'].apply(clear_text)"
   ]
  },
  {
   "cell_type": "code",
   "execution_count": 13,
   "metadata": {},
   "outputs": [],
   "source": [
    "# создадим функцию для подсчета кол-ва слов в комментарии\n",
    "def number_of_words(text):\n",
    "    words_tokens = word_tokenize(text)\n",
    "    number = len(words_tokens)\n",
    "    return number"
   ]
  },
  {
   "cell_type": "code",
   "execution_count": 14,
   "metadata": {},
   "outputs": [],
   "source": [
    "# применим функцию и добавим новый столбец с кол-вом слов в датафрейм\n",
    "toxic['number_of_words'] = toxic['text'].apply(number_of_words)"
   ]
  },
  {
   "cell_type": "code",
   "execution_count": 15,
   "metadata": {},
   "outputs": [
    {
     "data": {
      "text/plain": [
       "count    143106.000000\n",
       "mean         69.683151\n",
       "std          99.659525\n",
       "min           0.000000\n",
       "25%          18.000000\n",
       "50%          38.000000\n",
       "75%          79.000000\n",
       "max        1250.000000\n",
       "Name: number_of_words, dtype: float64"
      ]
     },
     "execution_count": 15,
     "metadata": {},
     "output_type": "execute_result"
    }
   ],
   "source": [
    "# выведем описательную статистику по кол-ву слов по нетоксичным комментариям\n",
    "toxic.query('toxic==0')['number_of_words'].describe()"
   ]
  },
  {
   "cell_type": "code",
   "execution_count": 16,
   "metadata": {},
   "outputs": [
    {
     "data": {
      "text/plain": [
       "count    16186.000000\n",
       "mean        54.099283\n",
       "std        110.071226\n",
       "min          0.000000\n",
       "25%         11.000000\n",
       "50%         23.000000\n",
       "75%         51.000000\n",
       "max       1403.000000\n",
       "Name: number_of_words, dtype: float64"
      ]
     },
     "execution_count": 16,
     "metadata": {},
     "output_type": "execute_result"
    }
   ],
   "source": [
    "# выведем описательную статистику по кол-ву слов по токсичным комментариям\n",
    "toxic.query('toxic==1')['number_of_words'].describe()"
   ]
  },
  {
   "cell_type": "code",
   "execution_count": 17,
   "metadata": {},
   "outputs": [
    {
     "data": {
      "text/html": [
       "<div>\n",
       "<style scoped>\n",
       "    .dataframe tbody tr th:only-of-type {\n",
       "        vertical-align: middle;\n",
       "    }\n",
       "\n",
       "    .dataframe tbody tr th {\n",
       "        vertical-align: top;\n",
       "    }\n",
       "\n",
       "    .dataframe thead th {\n",
       "        text-align: right;\n",
       "    }\n",
       "</style>\n",
       "<table border=\"1\" class=\"dataframe\">\n",
       "  <thead>\n",
       "    <tr style=\"text-align: right;\">\n",
       "      <th></th>\n",
       "      <th>text</th>\n",
       "      <th>toxic</th>\n",
       "      <th>number_of_words</th>\n",
       "    </tr>\n",
       "  </thead>\n",
       "  <tbody>\n",
       "    <tr>\n",
       "      <th>4475</th>\n",
       "      <td></td>\n",
       "      <td>0</td>\n",
       "      <td>0</td>\n",
       "    </tr>\n",
       "    <tr>\n",
       "      <th>6293</th>\n",
       "      <td></td>\n",
       "      <td>0</td>\n",
       "      <td>0</td>\n",
       "    </tr>\n",
       "    <tr>\n",
       "      <th>10206</th>\n",
       "      <td></td>\n",
       "      <td>0</td>\n",
       "      <td>0</td>\n",
       "    </tr>\n",
       "    <tr>\n",
       "      <th>17297</th>\n",
       "      <td></td>\n",
       "      <td>0</td>\n",
       "      <td>0</td>\n",
       "    </tr>\n",
       "    <tr>\n",
       "      <th>38792</th>\n",
       "      <td></td>\n",
       "      <td>0</td>\n",
       "      <td>0</td>\n",
       "    </tr>\n",
       "    <tr>\n",
       "      <th>52393</th>\n",
       "      <td></td>\n",
       "      <td>0</td>\n",
       "      <td>0</td>\n",
       "    </tr>\n",
       "    <tr>\n",
       "      <th>53740</th>\n",
       "      <td></td>\n",
       "      <td>0</td>\n",
       "      <td>0</td>\n",
       "    </tr>\n",
       "    <tr>\n",
       "      <th>61711</th>\n",
       "      <td></td>\n",
       "      <td>0</td>\n",
       "      <td>0</td>\n",
       "    </tr>\n",
       "    <tr>\n",
       "      <th>82619</th>\n",
       "      <td></td>\n",
       "      <td>0</td>\n",
       "      <td>0</td>\n",
       "    </tr>\n",
       "    <tr>\n",
       "      <th>119123</th>\n",
       "      <td></td>\n",
       "      <td>1</td>\n",
       "      <td>0</td>\n",
       "    </tr>\n",
       "    <tr>\n",
       "      <th>137547</th>\n",
       "      <td></td>\n",
       "      <td>0</td>\n",
       "      <td>0</td>\n",
       "    </tr>\n",
       "  </tbody>\n",
       "</table>\n",
       "</div>"
      ],
      "text/plain": [
       "       text  toxic  number_of_words\n",
       "4475             0                0\n",
       "6293             0                0\n",
       "10206            0                0\n",
       "17297            0                0\n",
       "38792            0                0\n",
       "52393            0                0\n",
       "53740            0                0\n",
       "61711            0                0\n",
       "82619            0                0\n",
       "119123           1                0\n",
       "137547           0                0"
      ]
     },
     "execution_count": 17,
     "metadata": {},
     "output_type": "execute_result"
    }
   ],
   "source": [
    "# выведем строки с нулевым значением слов в комментарии\n",
    "toxic.query('number_of_words==0')"
   ]
  },
  {
   "cell_type": "code",
   "execution_count": 18,
   "metadata": {},
   "outputs": [],
   "source": [
    "# удалим нулевые строки\n",
    "toxic = toxic.query('number_of_words!=0')"
   ]
  },
  {
   "cell_type": "code",
   "execution_count": 19,
   "metadata": {},
   "outputs": [
    {
     "data": {
      "image/png": "[encoded data removed]",
      "text/plain": [
       "<Figure size 576x432 with 1 Axes>"
      ]
     },
     "metadata": {},
     "output_type": "display_data"
    }
   ],
   "source": [
    "# построим гистограмму распределения комментариев по числу слов в разрезе по (не)токсичности текста\n",
    "plt.figure(figsize=(8, 6))\n",
    "sns.set(style='whitegrid')\n",
    "sns.histplot(data = toxic, x = 'number_of_words', hue='toxic', bins=25,\n",
    "                  stat='density', common_norm=False)\n",
    "plt.title('Распределение комментариев по числу слов в разрезе по тональности текста')\n",
    "plt.xlabel('Число слов')\n",
    "plt.ylabel('Плотность вероятности')\n",
    "plt.show()"
   ]
  },
  {
   "cell_type": "code",
   "execution_count": 20,
   "metadata": {},
   "outputs": [
    {
     "data": {
      "image/png": "[encoded data removed]",
      "text/plain": [
       "<Figure size 576x432 with 1 Axes>"
      ]
     },
     "metadata": {},
     "output_type": "display_data"
    }
   ],
   "source": [
    "# построим диагамму размаха для числа слов в комментарии\n",
    "plt.figure(figsize=(8, 6))\n",
    "sns.boxplot(data = toxic, y = 'number_of_words')\n",
    "plt.title('Диаграмма размаха числа слов в комментарии')\n",
    "plt.ylabel('Число слов')\n",
    "plt.show()"
   ]
  },
  {
   "cell_type": "code",
   "execution_count": 21,
   "metadata": {},
   "outputs": [],
   "source": [
    "# удалим из датафрейма строки с аномальными значениями кол-ва слов в комментарии\n",
    "toxic = toxic.query('number_of_words<=1000')"
   ]
  },
  {
   "cell_type": "code",
   "execution_count": 22,
   "metadata": {},
   "outputs": [],
   "source": [
    "# функция для токенизации, фильтрации от стоп-слов и подготовке к подсчету частотности слов в тексте\n",
    "def text_tokens(text):\n",
    "    text_tokens = word_tokenize(text)\n",
    "    filtered_text_tokens = [word for word in text_tokens if word not in stopwords]\n",
    "    filtered_text_tokens = nltk.Text(filtered_text_tokens)\n",
    "    return filtered_text_tokens"
   ]
  },
  {
   "cell_type": "code",
   "execution_count": 23,
   "metadata": {},
   "outputs": [],
   "source": [
    "# применяем функцию к нетоксичным комментариям\n",
    "text_tokens_pos = toxic.query('toxic==0')['text'].apply(text_tokens)"
   ]
  },
  {
   "cell_type": "code",
   "execution_count": 24,
   "metadata": {},
   "outputs": [
    {
     "data": {
      "text/plain": [
       "[('article', 56065),\n",
       " ('wikipedia', 44543),\n",
       " ('page', 44025),\n",
       " ('talk', 36210),\n",
       " ('please', 28711),\n",
       " ('would', 28099),\n",
       " ('one', 27410),\n",
       " ('like', 23821),\n",
       " ('see', 20516),\n",
       " ('also', 19750)]"
      ]
     },
     "execution_count": 24,
     "metadata": {},
     "output_type": "execute_result"
    }
   ],
   "source": [
    "# считаем частотное распределение всех слов в нетоксичных комментариях\n",
    "# выводим 10 самых частых слов\n",
    "text_tokens_pos = list(itertools.chain(*text_tokens_pos))\n",
    "fdist_pos = FreqDist(text_tokens_pos)\n",
    "fdist_pos.most_common(10)"
   ]
  },
  {
   "cell_type": "code",
   "execution_count": 25,
   "metadata": {},
   "outputs": [],
   "source": [
    "# применяем функцию к токсичным комментариям\n",
    "text_tokens_tox = toxic.query('toxic==1')['text'].apply(text_tokens)"
   ]
  },
  {
   "cell_type": "code",
   "execution_count": 26,
   "metadata": {},
   "outputs": [
    {
     "data": {
      "text/plain": [
       "[('fuck', 8253),\n",
       " ('wikipedia', 3927),\n",
       " ('like', 3724),\n",
       " ('shit', 3690),\n",
       " ('nigger', 3306),\n",
       " ('fucking', 3263),\n",
       " ('go', 2954),\n",
       " ('get', 2436),\n",
       " ('u', 2415),\n",
       " ('page', 2328)]"
      ]
     },
     "execution_count": 26,
     "metadata": {},
     "output_type": "execute_result"
    }
   ],
   "source": [
    "# считаем частотное распределение всех слов в токсичных комментариях\n",
    "# выводим 10 самых частых слов\n",
    "text_tokens_tox = list(itertools.chain(*text_tokens_tox))\n",
    "fdist_tox = FreqDist(text_tokens_tox)\n",
    "fdist_tox.most_common(10)"
   ]
  },
  {
   "cell_type": "code",
   "execution_count": 27,
   "metadata": {},
   "outputs": [
    {
     "data": {
      "image/png": "[encoded data removed]",
      "text/plain": [
       "<Figure size 720x720 with 1 Axes>"
      ]
     },
     "metadata": {},
     "output_type": "display_data"
    }
   ],
   "source": [
    "# выводим облако слов для нетоксичных комментариев\n",
    "positive_words = \" \".join(text_tokens_pos)\n",
    "wordcloud_positive = WordCloud(max_words=100, collocations=False).generate(positive_words)\n",
    "plt.figure(figsize=(10, 10))\n",
    "plt.imshow(wordcloud_positive, interpolation=\"bilinear\")\n",
    "plt.axis(\"off\")\n",
    "plt.show()"
   ]
  },
  {
   "cell_type": "code",
   "execution_count": 28,
   "metadata": {},
   "outputs": [
    {
     "data": {
      "image/png": "[encoded data removed]",
      "text/plain": [
       "<Figure size 720x720 with 1 Axes>"
      ]
     },
     "metadata": {},
     "output_type": "display_data"
    }
   ],
   "source": [
    "# выводим облако слов для токсичных комментариев\n",
    "toxic_words = \" \".join(text_tokens_tox)\n",
    "wordcloud_toxic = WordCloud(max_words=100, collocations=False).generate(toxic_words)\n",
    "plt.figure(figsize=(10, 10))\n",
    "plt.imshow(wordcloud_toxic, interpolation=\"bilinear\")\n",
    "plt.axis(\"off\")\n",
    "plt.show()"
   ]
  },
  {
   "cell_type": "code",
   "execution_count": 29,
   "metadata": {},
   "outputs": [],
   "source": [
    "# функция для лемматизации комментариев\n",
    "def lemmatize_spacy(text):\n",
    "    doc = nlp(text)\n",
    "    return ' '.join([token.lemma_ for token in doc])\n",
    "\n",
    "# применяем функцию\n",
    "toxic['lemmatized_text'] = toxic['text'].apply(lemmatize_spacy)"
   ]
  },
  {
   "cell_type": "code",
   "execution_count": 30,
   "metadata": {},
   "outputs": [
    {
     "data": {
      "text/html": [
       "<div>\n",
       "<style scoped>\n",
       "    .dataframe tbody tr th:only-of-type {\n",
       "        vertical-align: middle;\n",
       "    }\n",
       "\n",
       "    .dataframe tbody tr th {\n",
       "        vertical-align: top;\n",
       "    }\n",
       "\n",
       "    .dataframe thead th {\n",
       "        text-align: right;\n",
       "    }\n",
       "</style>\n",
       "<table border=\"1\" class=\"dataframe\">\n",
       "  <thead>\n",
       "    <tr style=\"text-align: right;\">\n",
       "      <th></th>\n",
       "      <th>text</th>\n",
       "      <th>toxic</th>\n",
       "      <th>number_of_words</th>\n",
       "      <th>lemmatized_text</th>\n",
       "    </tr>\n",
       "  </thead>\n",
       "  <tbody>\n",
       "    <tr>\n",
       "      <th>0</th>\n",
       "      <td>explanation why the edits made under my username hardcore metallica fan were reverted they weren t vandalisms just closure on some gas after i voted at new york dolls fac and please don t remove the template from the talk page since i m retired now</td>\n",
       "      <td>0</td>\n",
       "      <td>46</td>\n",
       "      <td>explanation why the edit make under my username hardcore metallica fan be revert they weren t vandalism just closure on some gas after I vote at new york doll fac and please don t remove the template from the talk page since I m retire now</td>\n",
       "    </tr>\n",
       "    <tr>\n",
       "      <th>1</th>\n",
       "      <td>d aww he matches this background colour i m seemingly stuck with thanks talk january utc</td>\n",
       "      <td>0</td>\n",
       "      <td>16</td>\n",
       "      <td>d aww he match this background colour I m seemingly stuck with thank talk january utc</td>\n",
       "    </tr>\n",
       "    <tr>\n",
       "      <th>2</th>\n",
       "      <td>hey man i m really not trying to edit war it s just that this guy is constantly removing relevant information and talking to me through edits instead of my talk page he seems to care more about the formatting than the actual info</td>\n",
       "      <td>0</td>\n",
       "      <td>44</td>\n",
       "      <td>hey man I m really not try to edit war it s just that this guy be constantly remove relevant information and talk to I through edit instead of my talk page he seem to care more about the formatting than the actual info</td>\n",
       "    </tr>\n",
       "    <tr>\n",
       "      <th>3</th>\n",
       "      <td>more i can t make any real suggestions on improvement i wondered if the section statistics should be later on or a subsection of types of accidents i think the references may need tidying so that they are all in the exact same format ie date format etc i can do that later on if no one else does first if you have any preferences for formatting style on references or want to do it yourself please let me know there appears to be a backlog on articles for review so i guess there may be a delay until a reviewer turns up it s listed in the relevant form eg wikipedia good article nominations transport</td>\n",
       "      <td>0</td>\n",
       "      <td>116</td>\n",
       "      <td>more I can t make any real suggestion on improvement I wonder if the section statistic should be later on or a subsection of type of accident I think the reference may need tidy so that they be all in the exact same format ie date format etc I can do that later on if no one else do first if you have any preference for format style on reference or want to do it yourself please let I know there appear to be a backlog on article for review so I guess there may be a delay until a reviewer turn up it s list in the relevant form eg wikipedia good article nomination transport</td>\n",
       "    </tr>\n",
       "    <tr>\n",
       "      <th>4</th>\n",
       "      <td>you sir are my hero any chance you remember what page that s on</td>\n",
       "      <td>0</td>\n",
       "      <td>14</td>\n",
       "      <td>you sir be my hero any chance you remember what page that s on</td>\n",
       "    </tr>\n",
       "  </tbody>\n",
       "</table>\n",
       "</div>"
      ],
      "text/plain": [
       "                                                                                                                                                                                                                                                                                                                                                                                                                                                                                                                                                                                                                        text  \\\n",
       "0                                                                                                                                                                                                                                                                                                                                                                   explanation why the edits made under my username hardcore metallica fan were reverted they weren t vandalisms just closure on some gas after i voted at new york dolls fac and please don t remove the template from the talk page since i m retired now   \n",
       "1                                                                                                                                                                                                                                                                                                                                                                                                                                                                                                                                   d aww he matches this background colour i m seemingly stuck with thanks talk january utc   \n",
       "2                                                                                                                                                                                                                                                                                                                                                                                      hey man i m really not trying to edit war it s just that this guy is constantly removing relevant information and talking to me through edits instead of my talk page he seems to care more about the formatting than the actual info   \n",
       "3  more i can t make any real suggestions on improvement i wondered if the section statistics should be later on or a subsection of types of accidents i think the references may need tidying so that they are all in the exact same format ie date format etc i can do that later on if no one else does first if you have any preferences for formatting style on references or want to do it yourself please let me know there appears to be a backlog on articles for review so i guess there may be a delay until a reviewer turns up it s listed in the relevant form eg wikipedia good article nominations transport   \n",
       "4                                                                                                                                                                                                                                                                                                                                                                                                                                                                                                                                                            you sir are my hero any chance you remember what page that s on   \n",
       "\n",
       "   toxic  number_of_words  \\\n",
       "0      0               46   \n",
       "1      0               16   \n",
       "2      0               44   \n",
       "3      0              116   \n",
       "4      0               14   \n",
       "\n",
       "                                                                                                                                                                                                                                                                                                                                                                                                                                                                                                                                                                                   lemmatized_text  \n",
       "0                                                                                                                                                                                                                                                                                                                                                  explanation why the edit make under my username hardcore metallica fan be revert they weren t vandalism just closure on some gas after I vote at new york doll fac and please don t remove the template from the talk page since I m retire now  \n",
       "1                                                                                                                                                                                                                                                                                                                                                                                                                                                                                                            d aww he match this background colour I m seemingly stuck with thank talk january utc  \n",
       "2                                                                                                                                                                                                                                                                                                                                                                       hey man I m really not try to edit war it s just that this guy be constantly remove relevant information and talk to I through edit instead of my talk page he seem to care more about the formatting than the actual info  \n",
       "3  more I can t make any real suggestion on improvement I wonder if the section statistic should be later on or a subsection of type of accident I think the reference may need tidy so that they be all in the exact same format ie date format etc I can do that later on if no one else do first if you have any preference for format style on reference or want to do it yourself please let I know there appear to be a backlog on article for review so I guess there may be a delay until a reviewer turn up it s list in the relevant form eg wikipedia good article nomination transport  \n",
       "4                                                                                                                                                                                                                                                                                                                                                                                                                                                                                                                                   you sir be my hero any chance you remember what page that s on  "
      ]
     },
     "metadata": {},
     "output_type": "display_data"
    }
   ],
   "source": [
    "# выведем первые 5 строк датафрейма\n",
    "display(toxic.head())"
   ]
  },
  {
   "cell_type": "code",
   "execution_count": 31,
   "metadata": {},
   "outputs": [
    {
     "name": "stdout",
     "output_type": "stream",
     "text": [
      "<class 'pandas.core.frame.DataFrame'>\n",
      "Index: 159244 entries, 0 to 159450\n",
      "Data columns (total 4 columns):\n",
      " #   Column           Non-Null Count   Dtype \n",
      "---  ------           --------------   ----- \n",
      " 0   text             159244 non-null  object\n",
      " 1   toxic            159244 non-null  int64 \n",
      " 2   number_of_words  159244 non-null  int64 \n",
      " 3   lemmatized_text  159244 non-null  object\n",
      "dtypes: int64(2), object(2)\n",
      "memory usage: 6.1+ MB\n"
     ]
    }
   ],
   "source": [
    "toxic.info()"
   ]
  },
  {
   "cell_type": "code",
   "execution_count": 32,
   "metadata": {},
   "outputs": [],
   "source": [
    "# сохраняем датафрем в файл после лемматизации\n",
    "toxic.to_csv('toxic_lemmatized_text.csv', encoding='utf-8')"
   ]
  },
  {
   "cell_type": "code",
   "execution_count": 33,
   "metadata": {},
   "outputs": [],
   "source": [
    "# загружаем данные в датафрейм\n",
    "path_1 = 'https://code.s3.yandex.net/datasets/toxic_lemmatized_text.csv'\n",
    "path_2 = 'toxic_lemmatized_text.csv'\n",
    "if os.path.exists(path_1):\n",
    "    toxic_text = pd.read_csv(path_1, index_col=0)\n",
    "elif os.path.exists(path_2):\n",
    "    toxic_text = pd.read_csv(path_2, index_col=0)\n",
    "else:\n",
    "    print('Something is wrong')"
   ]
  },
  {
   "cell_type": "code",
   "execution_count": 34,
   "metadata": {},
   "outputs": [],
   "source": [
    "# инициализируем функцию для определения настроения текста\n",
    "sia = SentimentIntensityAnalyzer()\n",
    "\n",
    "# функция для оценки негативности текста\n",
    "def get_sentiment(text):\n",
    "\n",
    "    scores = sia.polarity_scores(text)\n",
    "\n",
    "    sentiment = 1 if scores['compound'] < -0.1 else 0\n",
    "\n",
    "    return sentiment\n",
    "\n",
    "# выставляем метки негативности текста, жобавляем столбец в датафрейм\n",
    "toxic_text['negative_sentiment'] = toxic_text['text'].apply(get_sentiment)"
   ]
  },
  {
   "cell_type": "code",
   "execution_count": 35,
   "metadata": {},
   "outputs": [
    {
     "data": {
      "text/html": [
       "<div>\n",
       "<style scoped>\n",
       "    .dataframe tbody tr th:only-of-type {\n",
       "        vertical-align: middle;\n",
       "    }\n",
       "\n",
       "    .dataframe tbody tr th {\n",
       "        vertical-align: top;\n",
       "    }\n",
       "\n",
       "    .dataframe thead th {\n",
       "        text-align: right;\n",
       "    }\n",
       "</style>\n",
       "<table border=\"1\" class=\"dataframe\">\n",
       "  <thead>\n",
       "    <tr style=\"text-align: right;\">\n",
       "      <th></th>\n",
       "      <th>text</th>\n",
       "      <th>toxic</th>\n",
       "      <th>number_of_words</th>\n",
       "      <th>lemmatized_text</th>\n",
       "      <th>negative_sentiment</th>\n",
       "    </tr>\n",
       "  </thead>\n",
       "  <tbody>\n",
       "    <tr>\n",
       "      <th>0</th>\n",
       "      <td>explanation why the edits made under my username hardcore metallica fan were reverted they weren t vandalisms just closure on some gas after i voted at new york dolls fac and please don t remove the template from the talk page since i m retired now</td>\n",
       "      <td>0</td>\n",
       "      <td>46</td>\n",
       "      <td>explanation why the edit make under my username hardcore metallica fan be revert they weren t vandalism just closure on some gas after I vote at new york doll fac and please don t remove the template from the talk page since I m retire now</td>\n",
       "      <td>0</td>\n",
       "    </tr>\n",
       "    <tr>\n",
       "      <th>1</th>\n",
       "      <td>d aww he matches this background colour i m seemingly stuck with thanks talk january utc</td>\n",
       "      <td>0</td>\n",
       "      <td>16</td>\n",
       "      <td>d aww he match this background colour I m seemingly stuck with thank talk january utc</td>\n",
       "      <td>0</td>\n",
       "    </tr>\n",
       "    <tr>\n",
       "      <th>2</th>\n",
       "      <td>hey man i m really not trying to edit war it s just that this guy is constantly removing relevant information and talking to me through edits instead of my talk page he seems to care more about the formatting than the actual info</td>\n",
       "      <td>0</td>\n",
       "      <td>44</td>\n",
       "      <td>hey man I m really not try to edit war it s just that this guy be constantly remove relevant information and talk to I through edit instead of my talk page he seem to care more about the formatting than the actual info</td>\n",
       "      <td>1</td>\n",
       "    </tr>\n",
       "    <tr>\n",
       "      <th>3</th>\n",
       "      <td>more i can t make any real suggestions on improvement i wondered if the section statistics should be later on or a subsection of types of accidents i think the references may need tidying so that they are all in the exact same format ie date format etc i can do that later on if no one else does first if you have any preferences for formatting style on references or want to do it yourself please let me know there appears to be a backlog on articles for review so i guess there may be a delay until a reviewer turns up it s listed in the relevant form eg wikipedia good article nominations transport</td>\n",
       "      <td>0</td>\n",
       "      <td>116</td>\n",
       "      <td>more I can t make any real suggestion on improvement I wonder if the section statistic should be later on or a subsection of type of accident I think the reference may need tidy so that they be all in the exact same format ie date format etc I can do that later on if no one else do first if you have any preference for format style on reference or want to do it yourself please let I know there appear to be a backlog on article for review so I guess there may be a delay until a reviewer turn up it s list in the relevant form eg wikipedia good article nomination transport</td>\n",
       "      <td>0</td>\n",
       "    </tr>\n",
       "    <tr>\n",
       "      <th>4</th>\n",
       "      <td>you sir are my hero any chance you remember what page that s on</td>\n",
       "      <td>0</td>\n",
       "      <td>14</td>\n",
       "      <td>you sir be my hero any chance you remember what page that s on</td>\n",
       "      <td>0</td>\n",
       "    </tr>\n",
       "    <tr>\n",
       "      <th>5</th>\n",
       "      <td>congratulations from me as well use the tools well talk</td>\n",
       "      <td>0</td>\n",
       "      <td>10</td>\n",
       "      <td>congratulation from I as well use the tool well talk</td>\n",
       "      <td>0</td>\n",
       "    </tr>\n",
       "    <tr>\n",
       "      <th>6</th>\n",
       "      <td>cocksucker before you piss around on my work</td>\n",
       "      <td>1</td>\n",
       "      <td>8</td>\n",
       "      <td>cocksucker before you piss around on my work</td>\n",
       "      <td>1</td>\n",
       "    </tr>\n",
       "    <tr>\n",
       "      <th>7</th>\n",
       "      <td>your vandalism to the matt shirvington article has been reverted please don t do it again or you will be banned</td>\n",
       "      <td>0</td>\n",
       "      <td>21</td>\n",
       "      <td>your vandalism to the matt shirvington article have be revert please don t do it again or you will be ban</td>\n",
       "      <td>1</td>\n",
       "    </tr>\n",
       "    <tr>\n",
       "      <th>8</th>\n",
       "      <td>sorry if the word nonsense was offensive to you anyway i m not intending to write anything in the article wow they would jump on me for vandalism i m merely requesting that it be more encyclopedic so one can use it for school as a reference i have been to the selective breeding page but it s almost a stub it points to animal breeding which is a short messy article that gives you no info there must be someone around with expertise in eugenics</td>\n",
       "      <td>0</td>\n",
       "      <td>86</td>\n",
       "      <td>sorry if the word nonsense be offensive to you anyway I m not intend to write anything in the article wow they would jump on I for vandalism I m merely request that it be more encyclopedic so one can use it for school as a reference I have be to the selective breeding page but it s almost a stub it point to animal breeding which be a short messy article that give you no info there must be someone around with expertise in eugenic</td>\n",
       "      <td>1</td>\n",
       "    </tr>\n",
       "    <tr>\n",
       "      <th>9</th>\n",
       "      <td>alignment on this subject and which are contrary to those of dulithgow</td>\n",
       "      <td>0</td>\n",
       "      <td>12</td>\n",
       "      <td>alignment on this subject and which be contrary to those of dulithgow</td>\n",
       "      <td>0</td>\n",
       "    </tr>\n",
       "  </tbody>\n",
       "</table>\n",
       "</div>"
      ],
      "text/plain": [
       "                                                                                                                                                                                                                                                                                                                                                                                                                                                                                                                                                                                                                        text  \\\n",
       "0                                                                                                                                                                                                                                                                                                                                                                   explanation why the edits made under my username hardcore metallica fan were reverted they weren t vandalisms just closure on some gas after i voted at new york dolls fac and please don t remove the template from the talk page since i m retired now   \n",
       "1                                                                                                                                                                                                                                                                                                                                                                                                                                                                                                                                   d aww he matches this background colour i m seemingly stuck with thanks talk january utc   \n",
       "2                                                                                                                                                                                                                                                                                                                                                                                      hey man i m really not trying to edit war it s just that this guy is constantly removing relevant information and talking to me through edits instead of my talk page he seems to care more about the formatting than the actual info   \n",
       "3  more i can t make any real suggestions on improvement i wondered if the section statistics should be later on or a subsection of types of accidents i think the references may need tidying so that they are all in the exact same format ie date format etc i can do that later on if no one else does first if you have any preferences for formatting style on references or want to do it yourself please let me know there appears to be a backlog on articles for review so i guess there may be a delay until a reviewer turns up it s listed in the relevant form eg wikipedia good article nominations transport   \n",
       "4                                                                                                                                                                                                                                                                                                                                                                                                                                                                                                                                                            you sir are my hero any chance you remember what page that s on   \n",
       "5                                                                                                                                                                                                                                                                                                                                                                                                                                                                                                                                                                    congratulations from me as well use the tools well talk   \n",
       "6                                                                                                                                                                                                                                                                                                                                                                                                                                                                                                                                                                               cocksucker before you piss around on my work   \n",
       "7                                                                                                                                                                                                                                                                                                                                                                                                                                                                                                            your vandalism to the matt shirvington article has been reverted please don t do it again or you will be banned   \n",
       "8                                                                                                                                                              sorry if the word nonsense was offensive to you anyway i m not intending to write anything in the article wow they would jump on me for vandalism i m merely requesting that it be more encyclopedic so one can use it for school as a reference i have been to the selective breeding page but it s almost a stub it points to animal breeding which is a short messy article that gives you no info there must be someone around with expertise in eugenics   \n",
       "9                                                                                                                                                                                                                                                                                                                                                                                                                                                                                                                                                     alignment on this subject and which are contrary to those of dulithgow   \n",
       "\n",
       "   toxic  number_of_words  \\\n",
       "0      0               46   \n",
       "1      0               16   \n",
       "2      0               44   \n",
       "3      0              116   \n",
       "4      0               14   \n",
       "5      0               10   \n",
       "6      1                8   \n",
       "7      0               21   \n",
       "8      0               86   \n",
       "9      0               12   \n",
       "\n",
       "                                                                                                                                                                                                                                                                                                                                                                                                                                                                                                                                                                                   lemmatized_text  \\\n",
       "0                                                                                                                                                                                                                                                                                                                                                  explanation why the edit make under my username hardcore metallica fan be revert they weren t vandalism just closure on some gas after I vote at new york doll fac and please don t remove the template from the talk page since I m retire now   \n",
       "1                                                                                                                                                                                                                                                                                                                                                                                                                                                                                                            d aww he match this background colour I m seemingly stuck with thank talk january utc   \n",
       "2                                                                                                                                                                                                                                                                                                                                                                       hey man I m really not try to edit war it s just that this guy be constantly remove relevant information and talk to I through edit instead of my talk page he seem to care more about the formatting than the actual info   \n",
       "3  more I can t make any real suggestion on improvement I wonder if the section statistic should be later on or a subsection of type of accident I think the reference may need tidy so that they be all in the exact same format ie date format etc I can do that later on if no one else do first if you have any preference for format style on reference or want to do it yourself please let I know there appear to be a backlog on article for review so I guess there may be a delay until a reviewer turn up it s list in the relevant form eg wikipedia good article nomination transport   \n",
       "4                                                                                                                                                                                                                                                                                                                                                                                                                                                                                                                                   you sir be my hero any chance you remember what page that s on   \n",
       "5                                                                                                                                                                                                                                                                                                                                                                                                                                                                                                                                             congratulation from I as well use the tool well talk   \n",
       "6                                                                                                                                                                                                                                                                                                                                                                                                                                                                                                                                                     cocksucker before you piss around on my work   \n",
       "7                                                                                                                                                                                                                                                                                                                                                                                                                                                                                        your vandalism to the matt shirvington article have be revert please don t do it again or you will be ban   \n",
       "8                                                                                                                                                 sorry if the word nonsense be offensive to you anyway I m not intend to write anything in the article wow they would jump on I for vandalism I m merely request that it be more encyclopedic so one can use it for school as a reference I have be to the selective breeding page but it s almost a stub it point to animal breeding which be a short messy article that give you no info there must be someone around with expertise in eugenic   \n",
       "9                                                                                                                                                                                                                                                                                                                                                                                                                                                                                                                            alignment on this subject and which be contrary to those of dulithgow   \n",
       "\n",
       "   negative_sentiment  \n",
       "0                   0  \n",
       "1                   0  \n",
       "2                   1  \n",
       "3                   0  \n",
       "4                   0  \n",
       "5                   0  \n",
       "6                   1  \n",
       "7                   1  \n",
       "8                   1  \n",
       "9                   0  "
      ]
     },
     "execution_count": 35,
     "metadata": {},
     "output_type": "execute_result"
    }
   ],
   "source": [
    "# выводим первые 10 строк датафрейма\n",
    "toxic_text.head(10)"
   ]
  },
  {
   "cell_type": "code",
   "execution_count": 36,
   "metadata": {},
   "outputs": [
    {
     "data": {
      "image/png": "[encoded data removed]",
      "text/plain": [
       "<Figure size 576x432 with 1 Axes>"
      ]
     },
     "metadata": {},
     "output_type": "display_data"
    }
   ],
   "source": [
    "# строим график по меткам позитивности/негативности настроения в разрезе по заданной токсичности текста\n",
    "plt.figure(figsize=(8, 6))\n",
    "sns.set(style='whitegrid')\n",
    "sns.countplot(data = toxic_text, x = 'negative_sentiment', hue='toxic',\n",
    "                  stat='percent')\n",
    "plt.title('Распределение комментариев по оценке настроения SentimentIntensityAnalyzer\\nв разрезе по заданной (не)токсичности текста')\n",
    "plt.xlabel('Оценка анализа настроения')\n",
    "plt.ylabel('Частота в процентах')\n",
    "plt.show()"
   ]
  },
  {
   "cell_type": "markdown",
   "metadata": {},
   "source": [
    "**Выводы:**\n",
    "\n",
    "Мы выгрузили данные, изучили их и выполнили подготовку данных для моделирования. Целевой признак имеет явный дисбаланс классов: токсичных комментариев на порядок меньше чем нетоксичных. Дисбаланс классов следует учесть на дальнейшем этапе выполнения задачи. Мы также посчитали кол-во слов в комментариях и вывели графики в разрезе по целевому признаку и сравнив плотности вероятиности для 2-х значений целевого признака. Мы увидели, что в среднем токсичные комментарии почти в 2 раза короче и среди них большая доля коротких комментариев по сравнению с позитивными комментариями. Мы можем сделать вывод о наличии связи длины комментария со значениями целевого признака, поэтому оставим этот новый признак для моделирования.\n",
    "\n",
    "Кроме того мы посчитали частотут встречаемости слов по всему тексту в разрезе по целевому признаку и вывели диаграмму облака слов также в разрезе по целевому признаку. Мы видим, что для нетоксичных комментариев наиболее часто встречаемые слова: 'article', 'wikipedia', 'page', 'talk', 'please'. А наиболее часто встречемые слова среди токсичных комментариев: 'fuck' (встречается с большим перевесом по частоте), 'wikipedia', 'like', 'shit', 'nigger'.\n",
    "\n",
    "Мы сделали обработку комментариев: убрали лишние пробелы и символы кроме латинских букв с помощью регуляризации текста, привели все буквы к нижнему регистру, затем лемматизировали с помощью инструмента SpaCy, учитывающим части речи для каждого слова. В итоге мы получили текст со словами, приведенными к единой лемматизированной форме, и очищенный от лишних символов. На следующем этапе при работе с моделями следует преобразовать его в векторные значения.\n",
    "\n",
    "В заключении мы применили иснтрумент для анализа настроения текста SentimentIntensityAnalyzer(). На основе итоговой оценки текста - compound мы присвоили метки о позитивности/негативности текста и сравнили эти метки с метками о токсичности текста. Мы видим что метки расходятся, метка о позитивности текста для части комментариев имеет метку токсичности текста. Однако в целом среди меток негативного текста доля токсичных комментариев составляет почти треть, тогда как среди меток позитивного настроения текста доля токсичных комментариев на порядок ниже. Метки полученные с помощью SentimentIntensityAnalyzer() мы решили также использовать для моделирования."
   ]
  },
  {
   "cell_type": "markdown",
   "metadata": {},
   "source": [
    "## Обучение"
   ]
  },
  {
   "cell_type": "code",
   "execution_count": 37,
   "metadata": {},
   "outputs": [],
   "source": [
    "# зададим целевой и входной признак\n",
    "X = toxic_text.drop(['text', 'toxic'], axis=1)\n",
    "y = toxic_text['toxic']"
   ]
  },
  {
   "cell_type": "code",
   "execution_count": 38,
   "metadata": {},
   "outputs": [],
   "source": [
    "# разобъем данные на тестовоую и тренировочную выборки\n",
    "X_train, X_test, y_train, y_test = train_test_split(X, y, random_state = RANDOM_STATE,\n",
    "                                                    test_size=TEST_SIZE, stratify=y)"
   ]
  },
  {
   "cell_type": "code",
   "execution_count": 39,
   "metadata": {},
   "outputs": [],
   "source": [
    "num_col = ['number_of_words']"
   ]
  },
  {
   "cell_type": "code",
   "execution_count": 40,
   "metadata": {},
   "outputs": [],
   "source": [
    "data_preprocessor = ColumnTransformer(transformers=\n",
    "     [\n",
    "         ('num', StandardScaler(), num_col),\n",
    "         ('vect', TfidfVectorizer(stop_words=stopwords), 'lemmatized_text')\n",
    "     ],\n",
    "  remainder='passthrough'\n",
    ")"
   ]
  },
  {
   "cell_type": "code",
   "execution_count": 41,
   "metadata": {},
   "outputs": [],
   "source": [
    "# создаем пайплайн для подбора оптимальной модели\n",
    "best_model_pipe = Pipeline(\n",
    "    [\n",
    "        ('preprocessor', data_preprocessor),\n",
    "        ('models', LGBMClassifier())\n",
    "    ]\n",
    ")"
   ]
  },
  {
   "cell_type": "code",
   "execution_count": 42,
   "metadata": {},
   "outputs": [],
   "source": [
    "# задаём гиперпараметры для моделей\n",
    "param_gs = [\n",
    "       # для модели PassiveAggressiveClassifier()\n",
    "     {\n",
    "        'models': [PassiveAggressiveClassifier(random_state=RANDOM_STATE)], \n",
    "        'models__max_iter': [50, 100],\n",
    "        'models__C': [0.05, 0.1, 0.5]\n",
    "     },\n",
    "       # для модели RandomForestClassifier()\n",
    "     {\n",
    "        'models': [RandomForestClassifier(n_estimators=80, bootstrap=True, min_samples_leaf=2,\n",
    "                                          random_state = RANDOM_STATE, class_weight='balanced_subsample',\n",
    "                                          n_jobs=-1)],\n",
    "        'models__max_depth': [100, 500],\n",
    "        'models__min_samples_split': [10, 20],\n",
    "     },\n",
    "\n",
    "       # для модели LGBMClassifier()\n",
    "     {\n",
    "        'models': [LGBMClassifier(n_estimators=80, num_leaves=20, max_depth=20, \n",
    "                                  random_state = RANDOM_STATE)],\n",
    "        'models__learning_rate': [0.3, 0.4]\n",
    "     }\n",
    "\n",
    "             ]"
   ]
  },
  {
   "cell_type": "code",
   "execution_count": 43,
   "metadata": {},
   "outputs": [
    {
     "name": "stdout",
     "output_type": "stream",
     "text": [
      "Fitting 3 folds for each of 12 candidates, totalling 36 fits\n",
      "[CV 1/3] END models=PassiveAggressiveClassifier(random_state=1234), models__C=0.05, models__max_iter=50;, score=0.780 total time=   6.5s\n",
      "[CV 2/3] END models=PassiveAggressiveClassifier(random_state=1234), models__C=0.05, models__max_iter=50;, score=0.786 total time=   6.5s\n",
      "[CV 3/3] END models=PassiveAggressiveClassifier(random_state=1234), models__C=0.05, models__max_iter=50;, score=0.789 total time=   6.4s\n",
      "[CV 1/3] END models=PassiveAggressiveClassifier(random_state=1234), models__C=0.05, models__max_iter=100;, score=0.780 total time=   6.5s\n",
      "[CV 2/3] END models=PassiveAggressiveClassifier(random_state=1234), models__C=0.05, models__max_iter=100;, score=0.786 total time=   6.6s\n",
      "[CV 3/3] END models=PassiveAggressiveClassifier(random_state=1234), models__C=0.05, models__max_iter=100;, score=0.789 total time=   6.6s\n",
      "[CV 1/3] END models=PassiveAggressiveClassifier(random_state=1234), models__C=0.1, models__max_iter=50;, score=0.772 total time=   6.4s\n",
      "[CV 2/3] END models=PassiveAggressiveClassifier(random_state=1234), models__C=0.1, models__max_iter=50;, score=0.775 total time=   6.7s\n",
      "[CV 3/3] END models=PassiveAggressiveClassifier(random_state=1234), models__C=0.1, models__max_iter=50;, score=0.780 total time=   6.6s\n",
      "[CV 1/3] END models=PassiveAggressiveClassifier(random_state=1234), models__C=0.1, models__max_iter=100;, score=0.772 total time=   6.4s\n",
      "[CV 2/3] END models=PassiveAggressiveClassifier(random_state=1234), models__C=0.1, models__max_iter=100;, score=0.775 total time=   6.7s\n",
      "[CV 3/3] END models=PassiveAggressiveClassifier(random_state=1234), models__C=0.1, models__max_iter=100;, score=0.780 total time=   6.6s\n",
      "[CV 1/3] END models=PassiveAggressiveClassifier(random_state=1234), models__C=0.5, models__max_iter=50;, score=0.755 total time=   6.3s\n",
      "[CV 2/3] END models=PassiveAggressiveClassifier(random_state=1234), models__C=0.5, models__max_iter=50;, score=0.748 total time=   6.5s\n",
      "[CV 3/3] END models=PassiveAggressiveClassifier(random_state=1234), models__C=0.5, models__max_iter=50;, score=0.754 total time=   6.5s\n",
      "[CV 1/3] END models=PassiveAggressiveClassifier(random_state=1234), models__C=0.5, models__max_iter=100;, score=0.755 total time=   6.3s\n",
      "[CV 2/3] END models=PassiveAggressiveClassifier(random_state=1234), models__C=0.5, models__max_iter=100;, score=0.748 total time=   6.5s\n",
      "[CV 3/3] END models=PassiveAggressiveClassifier(random_state=1234), models__C=0.5, models__max_iter=100;, score=0.754 total time=   6.5s\n",
      "[CV 1/3] END models=RandomForestClassifier(class_weight='balanced_subsample', min_samples_leaf=2,\n",
      "                       n_estimators=80, n_jobs=-1, random_state=1234), models__max_depth=100, models__min_samples_split=10;, score=0.628 total time=  31.9s\n",
      "[CV 2/3] END models=RandomForestClassifier(class_weight='balanced_subsample', min_samples_leaf=2,\n",
      "                       n_estimators=80, n_jobs=-1, random_state=1234), models__max_depth=100, models__min_samples_split=10;, score=0.633 total time=  31.4s\n",
      "[CV 3/3] END models=RandomForestClassifier(class_weight='balanced_subsample', min_samples_leaf=2,\n",
      "                       n_estimators=80, n_jobs=-1, random_state=1234), models__max_depth=100, models__min_samples_split=10;, score=0.616 total time=  30.5s\n",
      "[CV 1/3] END models=RandomForestClassifier(class_weight='balanced_subsample', min_samples_leaf=2,\n",
      "                       n_estimators=80, n_jobs=-1, random_state=1234), models__max_depth=100, models__min_samples_split=20;, score=0.621 total time=  29.8s\n",
      "[CV 2/3] END models=RandomForestClassifier(class_weight='balanced_subsample', min_samples_leaf=2,\n",
      "                       n_estimators=80, n_jobs=-1, random_state=1234), models__max_depth=100, models__min_samples_split=20;, score=0.636 total time=  28.6s\n",
      "[CV 3/3] END models=RandomForestClassifier(class_weight='balanced_subsample', min_samples_leaf=2,\n",
      "                       n_estimators=80, n_jobs=-1, random_state=1234), models__max_depth=100, models__min_samples_split=20;, score=0.617 total time=  27.6s\n",
      "[CV 1/3] END models=RandomForestClassifier(class_weight='balanced_subsample', min_samples_leaf=2,\n",
      "                       n_estimators=80, n_jobs=-1, random_state=1234), models__max_depth=500, models__min_samples_split=10;, score=0.676 total time=  43.2s\n",
      "[CV 2/3] END models=RandomForestClassifier(class_weight='balanced_subsample', min_samples_leaf=2,\n",
      "                       n_estimators=80, n_jobs=-1, random_state=1234), models__max_depth=500, models__min_samples_split=10;, score=0.698 total time=  43.5s\n",
      "[CV 3/3] END models=RandomForestClassifier(class_weight='balanced_subsample', min_samples_leaf=2,\n",
      "                       n_estimators=80, n_jobs=-1, random_state=1234), models__max_depth=500, models__min_samples_split=10;, score=0.694 total time=  43.3s\n",
      "[CV 1/3] END models=RandomForestClassifier(class_weight='balanced_subsample', min_samples_leaf=2,\n",
      "                       n_estimators=80, n_jobs=-1, random_state=1234), models__max_depth=500, models__min_samples_split=20;, score=0.675 total time=  41.6s\n",
      "[CV 2/3] END models=RandomForestClassifier(class_weight='balanced_subsample', min_samples_leaf=2,\n",
      "                       n_estimators=80, n_jobs=-1, random_state=1234), models__max_depth=500, models__min_samples_split=20;, score=0.696 total time=  41.7s\n",
      "[CV 3/3] END models=RandomForestClassifier(class_weight='balanced_subsample', min_samples_leaf=2,\n",
      "                       n_estimators=80, n_jobs=-1, random_state=1234), models__max_depth=500, models__min_samples_split=20;, score=0.698 total time=  41.7s\n",
      "[LightGBM] [Info] Number of positive: 8077, number of negative: 71545\n",
      "[LightGBM] [Info] Auto-choosing col-wise multi-threading, the overhead of testing was 10.660457 seconds.\n",
      "You can set `force_col_wise=true` to remove the overhead.\n",
      "[LightGBM] [Info] Total Bins 385420\n",
      "[LightGBM] [Info] Number of data points in the train set: 79622, number of used features: 7353\n",
      "[LightGBM] [Info] [binary:BoostFromScore]: pavg=0.101442 -> initscore=-2.181306\n",
      "[LightGBM] [Info] Start training from score -2.181306\n"
     ]
    },
    {
     "name": "stderr",
     "output_type": "stream",
     "text": [
      "/opt/conda/lib/python3.9/site-packages/sklearn/utils/validation.py:2739: UserWarning: X does not have valid feature names, but LGBMClassifier was fitted with feature names\n",
      "  warnings.warn(\n"
     ]
    },
    {
     "name": "stdout",
     "output_type": "stream",
     "text": [
      "[CV 1/3] END models=LGBMClassifier(max_depth=20, n_estimators=80, num_leaves=20, random_state=1234), models__learning_rate=0.3;, score=0.758 total time=  40.5s\n",
      "[LightGBM] [Info] Number of positive: 8077, number of negative: 71545\n",
      "[LightGBM] [Info] Auto-choosing row-wise multi-threading, the overhead of testing was 12.097202 seconds.\n",
      "You can set `force_row_wise=true` to remove the overhead.\n",
      "And if memory is not enough, you can set `force_col_wise=true`.\n",
      "[LightGBM] [Info] Total Bins 385474\n",
      "[LightGBM] [Info] Number of data points in the train set: 79622, number of used features: 7347\n",
      "[LightGBM] [Info] [binary:BoostFromScore]: pavg=0.101442 -> initscore=-2.181306\n",
      "[LightGBM] [Info] Start training from score -2.181306\n"
     ]
    },
    {
     "name": "stderr",
     "output_type": "stream",
     "text": [
      "/opt/conda/lib/python3.9/site-packages/sklearn/utils/validation.py:2739: UserWarning: X does not have valid feature names, but LGBMClassifier was fitted with feature names\n",
      "  warnings.warn(\n"
     ]
    },
    {
     "name": "stdout",
     "output_type": "stream",
     "text": [
      "[CV 2/3] END models=LGBMClassifier(max_depth=20, n_estimators=80, num_leaves=20, random_state=1234), models__learning_rate=0.3;, score=0.762 total time=  43.3s\n",
      "[LightGBM] [Info] Number of positive: 8076, number of negative: 71546\n",
      "[LightGBM] [Info] Auto-choosing row-wise multi-threading, the overhead of testing was 11.670663 seconds.\n",
      "You can set `force_row_wise=true` to remove the overhead.\n",
      "And if memory is not enough, you can set `force_col_wise=true`.\n",
      "[LightGBM] [Info] Total Bins 386091\n",
      "[LightGBM] [Info] Number of data points in the train set: 79622, number of used features: 7381\n",
      "[LightGBM] [Info] [binary:BoostFromScore]: pavg=0.101429 -> initscore=-2.181444\n",
      "[LightGBM] [Info] Start training from score -2.181444\n"
     ]
    },
    {
     "name": "stderr",
     "output_type": "stream",
     "text": [
      "/opt/conda/lib/python3.9/site-packages/sklearn/utils/validation.py:2739: UserWarning: X does not have valid feature names, but LGBMClassifier was fitted with feature names\n",
      "  warnings.warn(\n"
     ]
    },
    {
     "name": "stdout",
     "output_type": "stream",
     "text": [
      "[CV 3/3] END models=LGBMClassifier(max_depth=20, n_estimators=80, num_leaves=20, random_state=1234), models__learning_rate=0.3;, score=0.759 total time=  41.3s\n",
      "[LightGBM] [Info] Number of positive: 8077, number of negative: 71545\n",
      "[LightGBM] [Info] Auto-choosing col-wise multi-threading, the overhead of testing was 11.196700 seconds.\n",
      "You can set `force_col_wise=true` to remove the overhead.\n",
      "[LightGBM] [Info] Total Bins 385420\n",
      "[LightGBM] [Info] Number of data points in the train set: 79622, number of used features: 7353\n",
      "[LightGBM] [Info] [binary:BoostFromScore]: pavg=0.101442 -> initscore=-2.181306\n",
      "[LightGBM] [Info] Start training from score -2.181306\n"
     ]
    },
    {
     "name": "stderr",
     "output_type": "stream",
     "text": [
      "/opt/conda/lib/python3.9/site-packages/sklearn/utils/validation.py:2739: UserWarning: X does not have valid feature names, but LGBMClassifier was fitted with feature names\n",
      "  warnings.warn(\n"
     ]
    },
    {
     "name": "stdout",
     "output_type": "stream",
     "text": [
      "[CV 1/3] END models=LGBMClassifier(max_depth=20, n_estimators=80, num_leaves=20, random_state=1234), models__learning_rate=0.4;, score=0.760 total time=  41.4s\n",
      "[LightGBM] [Info] Number of positive: 8077, number of negative: 71545\n",
      "[LightGBM] [Info] Auto-choosing row-wise multi-threading, the overhead of testing was 12.177567 seconds.\n",
      "You can set `force_row_wise=true` to remove the overhead.\n",
      "And if memory is not enough, you can set `force_col_wise=true`.\n",
      "[LightGBM] [Info] Total Bins 385474\n",
      "[LightGBM] [Info] Number of data points in the train set: 79622, number of used features: 7347\n",
      "[LightGBM] [Info] [binary:BoostFromScore]: pavg=0.101442 -> initscore=-2.181306\n",
      "[LightGBM] [Info] Start training from score -2.181306\n"
     ]
    },
    {
     "name": "stderr",
     "output_type": "stream",
     "text": [
      "/opt/conda/lib/python3.9/site-packages/sklearn/utils/validation.py:2739: UserWarning: X does not have valid feature names, but LGBMClassifier was fitted with feature names\n",
      "  warnings.warn(\n"
     ]
    },
    {
     "name": "stdout",
     "output_type": "stream",
     "text": [
      "[CV 2/3] END models=LGBMClassifier(max_depth=20, n_estimators=80, num_leaves=20, random_state=1234), models__learning_rate=0.4;, score=0.763 total time=  42.4s\n",
      "[LightGBM] [Info] Number of positive: 8076, number of negative: 71546\n",
      "[LightGBM] [Info] Auto-choosing col-wise multi-threading, the overhead of testing was 10.785644 seconds.\n",
      "You can set `force_col_wise=true` to remove the overhead.\n",
      "[LightGBM] [Info] Total Bins 386091\n",
      "[LightGBM] [Info] Number of data points in the train set: 79622, number of used features: 7381\n",
      "[LightGBM] [Info] [binary:BoostFromScore]: pavg=0.101429 -> initscore=-2.181444\n",
      "[LightGBM] [Info] Start training from score -2.181444\n"
     ]
    },
    {
     "name": "stderr",
     "output_type": "stream",
     "text": [
      "/opt/conda/lib/python3.9/site-packages/sklearn/utils/validation.py:2739: UserWarning: X does not have valid feature names, but LGBMClassifier was fitted with feature names\n",
      "  warnings.warn(\n"
     ]
    },
    {
     "name": "stdout",
     "output_type": "stream",
     "text": [
      "[CV 3/3] END models=LGBMClassifier(max_depth=20, n_estimators=80, num_leaves=20, random_state=1234), models__learning_rate=0.4;, score=0.765 total time=  40.9s\n"
     ]
    },
    {
     "name": "stderr",
     "output_type": "stream",
     "text": [
      "/opt/conda/lib/python3.9/site-packages/sklearn/compose/_column_transformer.py:1667: FutureWarning: \n",
      "The format of the columns of the 'remainder' transformer in ColumnTransformer.transformers_ will change in version 1.7 to match the format of the other transformers.\n",
      "At the moment the remainder columns are stored as indices (of type int). With the same ColumnTransformer configuration, in the future they will be stored as column names (of type str).\n",
      "To use the new behavior now and suppress this warning, use ColumnTransformer(force_int_remainder_cols=False).\n",
      "\n",
      "  warnings.warn(\n"
     ]
    },
    {
     "data": {
      "text/html": [
       "<style>#sk-container-id-1 {\n",
       "  /* Definition of color scheme common for light and dark mode */\n",
       "  --sklearn-color-text: #000;\n",
       "  --sklearn-color-text-muted: #666;\n",
       "  --sklearn-color-line: gray;\n",
       "  /* Definition of color scheme for unfitted estimators */\n",
       "  --sklearn-color-unfitted-level-0: #fff5e6;\n",
       "  --sklearn-color-unfitted-level-1: #f6e4d2;\n",
       "  --sklearn-color-unfitted-level-2: #ffe0b3;\n",
       "  --sklearn-color-unfitted-level-3: chocolate;\n",
       "  /* Definition of color scheme for fitted estimators */\n",
       "  --sklearn-color-fitted-level-0: #f0f8ff;\n",
       "  --sklearn-color-fitted-level-1: #d4ebff;\n",
       "  --sklearn-color-fitted-level-2: #b3dbfd;\n",
       "  --sklearn-color-fitted-level-3: cornflowerblue;\n",
       "\n",
       "  /* Specific color for light theme */\n",
       "  --sklearn-color-text-on-default-background: var(--sg-text-color, var(--theme-code-foreground, var(--jp-content-font-color1, black)));\n",
       "  --sklearn-color-background: var(--sg-background-color, var(--theme-background, var(--jp-layout-color0, white)));\n",
       "  --sklearn-color-border-box: var(--sg-text-color, var(--theme-code-foreground, var(--jp-content-font-color1, black)));\n",
       "  --sklearn-color-icon: #696969;\n",
       "\n",
       "  @media (prefers-color-scheme: dark) {\n",
       "    /* Redefinition of color scheme for dark theme */\n",
       "    --sklearn-color-text-on-default-background: var(--sg-text-color, var(--theme-code-foreground, var(--jp-content-font-color1, white)));\n",
       "    --sklearn-color-background: var(--sg-background-color, var(--theme-background, var(--jp-layout-color0, #111)));\n",
       "    --sklearn-color-border-box: var(--sg-text-color, var(--theme-code-foreground, var(--jp-content-font-color1, white)));\n",
       "    --sklearn-color-icon: #878787;\n",
       "  }\n",
       "}\n",
       "\n",
       "#sk-container-id-1 {\n",
       "  color: var(--sklearn-color-text);\n",
       "}\n",
       "\n",
       "#sk-container-id-1 pre {\n",
       "  padding: 0;\n",
       "}\n",
       "\n",
       "#sk-container-id-1 input.sk-hidden--visually {\n",
       "  border: 0;\n",
       "  clip: rect(1px 1px 1px 1px);\n",
       "  clip: rect(1px, 1px, 1px, 1px);\n",
       "  height: 1px;\n",
       "  margin: -1px;\n",
       "  overflow: hidden;\n",
       "  padding: 0;\n",
       "  position: absolute;\n",
       "  width: 1px;\n",
       "}\n",
       "\n",
       "#sk-container-id-1 div.sk-dashed-wrapped {\n",
       "  border: 1px dashed var(--sklearn-color-line);\n",
       "  margin: 0 0.4em 0.5em 0.4em;\n",
       "  box-sizing: border-box;\n",
       "  padding-bottom: 0.4em;\n",
       "  background-color: var(--sklearn-color-background);\n",
       "}\n",
       "\n",
       "#sk-container-id-1 div.sk-container {\n",
       "  /* jupyter's `normalize.less` sets `[hidden] { display: none; }`\n",
       "     but bootstrap.min.css set `[hidden] { display: none !important; }`\n",
       "     so we also need the `!important` here to be able to override the\n",
       "     default hidden behavior on the sphinx rendered scikit-learn.org.\n",
       "     See: https://github.com/scikit-learn/scikit-learn/issues/21755 */\n",
       "  display: inline-block !important;\n",
       "  position: relative;\n",
       "}\n",
       "\n",
       "#sk-container-id-1 div.sk-text-repr-fallback {\n",
       "  display: none;\n",
       "}\n",
       "\n",
       "div.sk-parallel-item,\n",
       "div.sk-serial,\n",
       "div.sk-item {\n",
       "  /* draw centered vertical line to link estimators */\n",
       "  background-image: linear-gradient(var(--sklearn-color-text-on-default-background), var(--sklearn-color-text-on-default-background));\n",
       "  background-size: 2px 100%;\n",
       "  background-repeat: no-repeat;\n",
       "  background-position: center center;\n",
       "}\n",
       "\n",
       "/* Parallel-specific style estimator block */\n",
       "\n",
       "#sk-container-id-1 div.sk-parallel-item::after {\n",
       "  content: \"\";\n",
       "  width: 100%;\n",
       "  border-bottom: 2px solid var(--sklearn-color-text-on-default-background);\n",
       "  flex-grow: 1;\n",
       "}\n",
       "\n",
       "#sk-container-id-1 div.sk-parallel {\n",
       "  display: flex;\n",
       "  align-items: stretch;\n",
       "  justify-content: center;\n",
       "  background-color: var(--sklearn-color-background);\n",
       "  position: relative;\n",
       "}\n",
       "\n",
       "#sk-container-id-1 div.sk-parallel-item {\n",
       "  display: flex;\n",
       "  flex-direction: column;\n",
       "}\n",
       "\n",
       "#sk-container-id-1 div.sk-parallel-item:first-child::after {\n",
       "  align-self: flex-end;\n",
       "  width: 50%;\n",
       "}\n",
       "\n",
       "#sk-container-id-1 div.sk-parallel-item:last-child::after {\n",
       "  align-self: flex-start;\n",
       "  width: 50%;\n",
       "}\n",
       "\n",
       "#sk-container-id-1 div.sk-parallel-item:only-child::after {\n",
       "  width: 0;\n",
       "}\n",
       "\n",
       "/* Serial-specific style estimator block */\n",
       "\n",
       "#sk-container-id-1 div.sk-serial {\n",
       "  display: flex;\n",
       "  flex-direction: column;\n",
       "  align-items: center;\n",
       "  background-color: var(--sklearn-color-background);\n",
       "  padding-right: 1em;\n",
       "  padding-left: 1em;\n",
       "}\n",
       "\n",
       "\n",
       "/* Toggleable style: style used for estimator/Pipeline/ColumnTransformer box that is\n",
       "clickable and can be expanded/collapsed.\n",
       "- Pipeline and ColumnTransformer use this feature and define the default style\n",
       "- Estimators will overwrite some part of the style using the `sk-estimator` class\n",
       "*/\n",
       "\n",
       "/* Pipeline and ColumnTransformer style (default) */\n",
       "\n",
       "#sk-container-id-1 div.sk-toggleable {\n",
       "  /* Default theme specific background. It is overwritten whether we have a\n",
       "  specific estimator or a Pipeline/ColumnTransformer */\n",
       "  background-color: var(--sklearn-color-background);\n",
       "}\n",
       "\n",
       "/* Toggleable label */\n",
       "#sk-container-id-1 label.sk-toggleable__label {\n",
       "  cursor: pointer;\n",
       "  display: flex;\n",
       "  width: 100%;\n",
       "  margin-bottom: 0;\n",
       "  padding: 0.5em;\n",
       "  box-sizing: border-box;\n",
       "  text-align: center;\n",
       "  align-items: start;\n",
       "  justify-content: space-between;\n",
       "  gap: 0.5em;\n",
       "}\n",
       "\n",
       "#sk-container-id-1 label.sk-toggleable__label .caption {\n",
       "  font-size: 0.6rem;\n",
       "  font-weight: lighter;\n",
       "  color: var(--sklearn-color-text-muted);\n",
       "}\n",
       "\n",
       "#sk-container-id-1 label.sk-toggleable__label-arrow:before {\n",
       "  /* Arrow on the left of the label */\n",
       "  content: \"▸\";\n",
       "  float: left;\n",
       "  margin-right: 0.25em;\n",
       "  color: var(--sklearn-color-icon);\n",
       "}\n",
       "\n",
       "#sk-container-id-1 label.sk-toggleable__label-arrow:hover:before {\n",
       "  color: var(--sklearn-color-text);\n",
       "}\n",
       "\n",
       "/* Toggleable content - dropdown */\n",
       "\n",
       "#sk-container-id-1 div.sk-toggleable__content {\n",
       "  max-height: 0;\n",
       "  max-width: 0;\n",
       "  overflow: hidden;\n",
       "  text-align: left;\n",
       "  /* unfitted */\n",
       "  background-color: var(--sklearn-color-unfitted-level-0);\n",
       "}\n",
       "\n",
       "#sk-container-id-1 div.sk-toggleable__content.fitted {\n",
       "  /* fitted */\n",
       "  background-color: var(--sklearn-color-fitted-level-0);\n",
       "}\n",
       "\n",
       "#sk-container-id-1 div.sk-toggleable__content pre {\n",
       "  margin: 0.2em;\n",
       "  border-radius: 0.25em;\n",
       "  color: var(--sklearn-color-text);\n",
       "  /* unfitted */\n",
       "  background-color: var(--sklearn-color-unfitted-level-0);\n",
       "}\n",
       "\n",
       "#sk-container-id-1 div.sk-toggleable__content.fitted pre {\n",
       "  /* unfitted */\n",
       "  background-color: var(--sklearn-color-fitted-level-0);\n",
       "}\n",
       "\n",
       "#sk-container-id-1 input.sk-toggleable__control:checked~div.sk-toggleable__content {\n",
       "  /* Expand drop-down */\n",
       "  max-height: 200px;\n",
       "  max-width: 100%;\n",
       "  overflow: auto;\n",
       "}\n",
       "\n",
       "#sk-container-id-1 input.sk-toggleable__control:checked~label.sk-toggleable__label-arrow:before {\n",
       "  content: \"▾\";\n",
       "}\n",
       "\n",
       "/* Pipeline/ColumnTransformer-specific style */\n",
       "\n",
       "#sk-container-id-1 div.sk-label input.sk-toggleable__control:checked~label.sk-toggleable__label {\n",
       "  color: var(--sklearn-color-text);\n",
       "  background-color: var(--sklearn-color-unfitted-level-2);\n",
       "}\n",
       "\n",
       "#sk-container-id-1 div.sk-label.fitted input.sk-toggleable__control:checked~label.sk-toggleable__label {\n",
       "  background-color: var(--sklearn-color-fitted-level-2);\n",
       "}\n",
       "\n",
       "/* Estimator-specific style */\n",
       "\n",
       "/* Colorize estimator box */\n",
       "#sk-container-id-1 div.sk-estimator input.sk-toggleable__control:checked~label.sk-toggleable__label {\n",
       "  /* unfitted */\n",
       "  background-color: var(--sklearn-color-unfitted-level-2);\n",
       "}\n",
       "\n",
       "#sk-container-id-1 div.sk-estimator.fitted input.sk-toggleable__control:checked~label.sk-toggleable__label {\n",
       "  /* fitted */\n",
       "  background-color: var(--sklearn-color-fitted-level-2);\n",
       "}\n",
       "\n",
       "#sk-container-id-1 div.sk-label label.sk-toggleable__label,\n",
       "#sk-container-id-1 div.sk-label label {\n",
       "  /* The background is the default theme color */\n",
       "  color: var(--sklearn-color-text-on-default-background);\n",
       "}\n",
       "\n",
       "/* On hover, darken the color of the background */\n",
       "#sk-container-id-1 div.sk-label:hover label.sk-toggleable__label {\n",
       "  color: var(--sklearn-color-text);\n",
       "  background-color: var(--sklearn-color-unfitted-level-2);\n",
       "}\n",
       "\n",
       "/* Label box, darken color on hover, fitted */\n",
       "#sk-container-id-1 div.sk-label.fitted:hover label.sk-toggleable__label.fitted {\n",
       "  color: var(--sklearn-color-text);\n",
       "  background-color: var(--sklearn-color-fitted-level-2);\n",
       "}\n",
       "\n",
       "/* Estimator label */\n",
       "\n",
       "#sk-container-id-1 div.sk-label label {\n",
       "  font-family: monospace;\n",
       "  font-weight: bold;\n",
       "  display: inline-block;\n",
       "  line-height: 1.2em;\n",
       "}\n",
       "\n",
       "#sk-container-id-1 div.sk-label-container {\n",
       "  text-align: center;\n",
       "}\n",
       "\n",
       "/* Estimator-specific */\n",
       "#sk-container-id-1 div.sk-estimator {\n",
       "  font-family: monospace;\n",
       "  border: 1px dotted var(--sklearn-color-border-box);\n",
       "  border-radius: 0.25em;\n",
       "  box-sizing: border-box;\n",
       "  margin-bottom: 0.5em;\n",
       "  /* unfitted */\n",
       "  background-color: var(--sklearn-color-unfitted-level-0);\n",
       "}\n",
       "\n",
       "#sk-container-id-1 div.sk-estimator.fitted {\n",
       "  /* fitted */\n",
       "  background-color: var(--sklearn-color-fitted-level-0);\n",
       "}\n",
       "\n",
       "/* on hover */\n",
       "#sk-container-id-1 div.sk-estimator:hover {\n",
       "  /* unfitted */\n",
       "  background-color: var(--sklearn-color-unfitted-level-2);\n",
       "}\n",
       "\n",
       "#sk-container-id-1 div.sk-estimator.fitted:hover {\n",
       "  /* fitted */\n",
       "  background-color: var(--sklearn-color-fitted-level-2);\n",
       "}\n",
       "\n",
       "/* Specification for estimator info (e.g. \"i\" and \"?\") */\n",
       "\n",
       "/* Common style for \"i\" and \"?\" */\n",
       "\n",
       ".sk-estimator-doc-link,\n",
       "a:link.sk-estimator-doc-link,\n",
       "a:visited.sk-estimator-doc-link {\n",
       "  float: right;\n",
       "  font-size: smaller;\n",
       "  line-height: 1em;\n",
       "  font-family: monospace;\n",
       "  background-color: var(--sklearn-color-background);\n",
       "  border-radius: 1em;\n",
       "  height: 1em;\n",
       "  width: 1em;\n",
       "  text-decoration: none !important;\n",
       "  margin-left: 0.5em;\n",
       "  text-align: center;\n",
       "  /* unfitted */\n",
       "  border: var(--sklearn-color-unfitted-level-1) 1pt solid;\n",
       "  color: var(--sklearn-color-unfitted-level-1);\n",
       "}\n",
       "\n",
       ".sk-estimator-doc-link.fitted,\n",
       "a:link.sk-estimator-doc-link.fitted,\n",
       "a:visited.sk-estimator-doc-link.fitted {\n",
       "  /* fitted */\n",
       "  border: var(--sklearn-color-fitted-level-1) 1pt solid;\n",
       "  color: var(--sklearn-color-fitted-level-1);\n",
       "}\n",
       "\n",
       "/* On hover */\n",
       "div.sk-estimator:hover .sk-estimator-doc-link:hover,\n",
       ".sk-estimator-doc-link:hover,\n",
       "div.sk-label-container:hover .sk-estimator-doc-link:hover,\n",
       ".sk-estimator-doc-link:hover {\n",
       "  /* unfitted */\n",
       "  background-color: var(--sklearn-color-unfitted-level-3);\n",
       "  color: var(--sklearn-color-background);\n",
       "  text-decoration: none;\n",
       "}\n",
       "\n",
       "div.sk-estimator.fitted:hover .sk-estimator-doc-link.fitted:hover,\n",
       ".sk-estimator-doc-link.fitted:hover,\n",
       "div.sk-label-container:hover .sk-estimator-doc-link.fitted:hover,\n",
       ".sk-estimator-doc-link.fitted:hover {\n",
       "  /* fitted */\n",
       "  background-color: var(--sklearn-color-fitted-level-3);\n",
       "  color: var(--sklearn-color-background);\n",
       "  text-decoration: none;\n",
       "}\n",
       "\n",
       "/* Span, style for the box shown on hovering the info icon */\n",
       ".sk-estimator-doc-link span {\n",
       "  display: none;\n",
       "  z-index: 9999;\n",
       "  position: relative;\n",
       "  font-weight: normal;\n",
       "  right: .2ex;\n",
       "  padding: .5ex;\n",
       "  margin: .5ex;\n",
       "  width: min-content;\n",
       "  min-width: 20ex;\n",
       "  max-width: 50ex;\n",
       "  color: var(--sklearn-color-text);\n",
       "  box-shadow: 2pt 2pt 4pt #999;\n",
       "  /* unfitted */\n",
       "  background: var(--sklearn-color-unfitted-level-0);\n",
       "  border: .5pt solid var(--sklearn-color-unfitted-level-3);\n",
       "}\n",
       "\n",
       ".sk-estimator-doc-link.fitted span {\n",
       "  /* fitted */\n",
       "  background: var(--sklearn-color-fitted-level-0);\n",
       "  border: var(--sklearn-color-fitted-level-3);\n",
       "}\n",
       "\n",
       ".sk-estimator-doc-link:hover span {\n",
       "  display: block;\n",
       "}\n",
       "\n",
       "/* \"?\"-specific style due to the `<a>` HTML tag */\n",
       "\n",
       "#sk-container-id-1 a.estimator_doc_link {\n",
       "  float: right;\n",
       "  font-size: 1rem;\n",
       "  line-height: 1em;\n",
       "  font-family: monospace;\n",
       "  background-color: var(--sklearn-color-background);\n",
       "  border-radius: 1rem;\n",
       "  height: 1rem;\n",
       "  width: 1rem;\n",
       "  text-decoration: none;\n",
       "  /* unfitted */\n",
       "  color: var(--sklearn-color-unfitted-level-1);\n",
       "  border: var(--sklearn-color-unfitted-level-1) 1pt solid;\n",
       "}\n",
       "\n",
       "#sk-container-id-1 a.estimator_doc_link.fitted {\n",
       "  /* fitted */\n",
       "  border: var(--sklearn-color-fitted-level-1) 1pt solid;\n",
       "  color: var(--sklearn-color-fitted-level-1);\n",
       "}\n",
       "\n",
       "/* On hover */\n",
       "#sk-container-id-1 a.estimator_doc_link:hover {\n",
       "  /* unfitted */\n",
       "  background-color: var(--sklearn-color-unfitted-level-3);\n",
       "  color: var(--sklearn-color-background);\n",
       "  text-decoration: none;\n",
       "}\n",
       "\n",
       "#sk-container-id-1 a.estimator_doc_link.fitted:hover {\n",
       "  /* fitted */\n",
       "  background-color: var(--sklearn-color-fitted-level-3);\n",
       "}\n",
       "</style><div id=\"sk-container-id-1\" class=\"sk-top-container\"><div class=\"sk-text-repr-fallback\"><pre>GridSearchCV(cv=3,\n",
       "             estimator=Pipeline(steps=[(&#x27;preprocessor&#x27;,\n",
       "                                        ColumnTransformer(remainder=&#x27;passthrough&#x27;,\n",
       "                                                          transformers=[(&#x27;num&#x27;,\n",
       "                                                                         StandardScaler(),\n",
       "                                                                         [&#x27;number_of_words&#x27;]),\n",
       "                                                                        (&#x27;vect&#x27;,\n",
       "                                                                         TfidfVectorizer(stop_words=[&#x27;a&#x27;,\n",
       "                                                                                                     &#x27;about&#x27;,\n",
       "                                                                                                     &#x27;above&#x27;,\n",
       "                                                                                                     &#x27;after&#x27;,\n",
       "                                                                                                     &#x27;again&#x27;,\n",
       "                                                                                                     &#x27;against&#x27;,\n",
       "                                                                                                     &#x27;ain&#x27;,\n",
       "                                                                                                     &#x27;all&#x27;,\n",
       "                                                                                                     &#x27;am&#x27;,\n",
       "                                                                                                     &#x27;an&#x27;,\n",
       "                                                                                                     &#x27;and&#x27;,\n",
       "                                                                                                     &#x27;any&#x27;,\n",
       "                                                                                                     &#x27;are&#x27;,\n",
       "                                                                                                     &#x27;aren&#x27;,\n",
       "                                                                                                     &quot;aren&#x27;t&quot;,\n",
       "                                                                                                     &#x27;as&#x27;,\n",
       "                                                                                                     &#x27;at&#x27;,\n",
       "                                                                                                     &#x27;be&#x27;,\n",
       "                                                                                                     &#x27;because&#x27;,\n",
       "                                                                                                     &#x27;been&#x27;,\n",
       "                                                                                                     &#x27;before&#x27;,\n",
       "                                                                                                     &#x27;being&#x27;,\n",
       "                                                                                                     &#x27;b...\n",
       "                          &#x27;models__max_iter&#x27;: [50, 100]},\n",
       "                         {&#x27;models&#x27;: [RandomForestClassifier(class_weight=&#x27;balanced_subsample&#x27;,\n",
       "                                                            min_samples_leaf=2,\n",
       "                                                            n_estimators=80,\n",
       "                                                            n_jobs=-1,\n",
       "                                                            random_state=1234)],\n",
       "                          &#x27;models__max_depth&#x27;: [100, 500],\n",
       "                          &#x27;models__min_samples_split&#x27;: [10, 20]},\n",
       "                         {&#x27;models&#x27;: [LGBMClassifier(max_depth=20,\n",
       "                                                    n_estimators=80,\n",
       "                                                    num_leaves=20,\n",
       "                                                    random_state=1234)],\n",
       "                          &#x27;models__learning_rate&#x27;: [0.3, 0.4]}],\n",
       "             scoring=&#x27;f1&#x27;, verbose=3)</pre><b>In a Jupyter environment, please rerun this cell to show the HTML representation or trust the notebook. <br />On GitHub, the HTML representation is unable to render, please try loading this page with nbviewer.org.</b></div><div class=\"sk-container\" hidden><div class=\"sk-item sk-dashed-wrapped\"><div class=\"sk-label-container\"><div class=\"sk-label fitted sk-toggleable\"><input class=\"sk-toggleable__control sk-hidden--visually\" id=\"sk-estimator-id-1\" type=\"checkbox\" ><label for=\"sk-estimator-id-1\" class=\"sk-toggleable__label fitted sk-toggleable__label-arrow\"><div><div>GridSearchCV</div></div><div><a class=\"sk-estimator-doc-link fitted\" rel=\"noreferrer\" target=\"_blank\" href=\"https://scikit-learn.org/1.6/modules/generated/sklearn.model_selection.GridSearchCV.html\">?<span>Documentation for GridSearchCV</span></a><span class=\"sk-estimator-doc-link fitted\">i<span>Fitted</span></span></div></label><div class=\"sk-toggleable__content fitted\"><pre>GridSearchCV(cv=3,\n",
       "             estimator=Pipeline(steps=[(&#x27;preprocessor&#x27;,\n",
       "                                        ColumnTransformer(remainder=&#x27;passthrough&#x27;,\n",
       "                                                          transformers=[(&#x27;num&#x27;,\n",
       "                                                                         StandardScaler(),\n",
       "                                                                         [&#x27;number_of_words&#x27;]),\n",
       "                                                                        (&#x27;vect&#x27;,\n",
       "                                                                         TfidfVectorizer(stop_words=[&#x27;a&#x27;,\n",
       "                                                                                                     &#x27;about&#x27;,\n",
       "                                                                                                     &#x27;above&#x27;,\n",
       "                                                                                                     &#x27;after&#x27;,\n",
       "                                                                                                     &#x27;again&#x27;,\n",
       "                                                                                                     &#x27;against&#x27;,\n",
       "                                                                                                     &#x27;ain&#x27;,\n",
       "                                                                                                     &#x27;all&#x27;,\n",
       "                                                                                                     &#x27;am&#x27;,\n",
       "                                                                                                     &#x27;an&#x27;,\n",
       "                                                                                                     &#x27;and&#x27;,\n",
       "                                                                                                     &#x27;any&#x27;,\n",
       "                                                                                                     &#x27;are&#x27;,\n",
       "                                                                                                     &#x27;aren&#x27;,\n",
       "                                                                                                     &quot;aren&#x27;t&quot;,\n",
       "                                                                                                     &#x27;as&#x27;,\n",
       "                                                                                                     &#x27;at&#x27;,\n",
       "                                                                                                     &#x27;be&#x27;,\n",
       "                                                                                                     &#x27;because&#x27;,\n",
       "                                                                                                     &#x27;been&#x27;,\n",
       "                                                                                                     &#x27;before&#x27;,\n",
       "                                                                                                     &#x27;being&#x27;,\n",
       "                                                                                                     &#x27;b...\n",
       "                          &#x27;models__max_iter&#x27;: [50, 100]},\n",
       "                         {&#x27;models&#x27;: [RandomForestClassifier(class_weight=&#x27;balanced_subsample&#x27;,\n",
       "                                                            min_samples_leaf=2,\n",
       "                                                            n_estimators=80,\n",
       "                                                            n_jobs=-1,\n",
       "                                                            random_state=1234)],\n",
       "                          &#x27;models__max_depth&#x27;: [100, 500],\n",
       "                          &#x27;models__min_samples_split&#x27;: [10, 20]},\n",
       "                         {&#x27;models&#x27;: [LGBMClassifier(max_depth=20,\n",
       "                                                    n_estimators=80,\n",
       "                                                    num_leaves=20,\n",
       "                                                    random_state=1234)],\n",
       "                          &#x27;models__learning_rate&#x27;: [0.3, 0.4]}],\n",
       "             scoring=&#x27;f1&#x27;, verbose=3)</pre></div> </div></div><div class=\"sk-parallel\"><div class=\"sk-parallel-item\"><div class=\"sk-item\"><div class=\"sk-label-container\"><div class=\"sk-label fitted sk-toggleable\"><input class=\"sk-toggleable__control sk-hidden--visually\" id=\"sk-estimator-id-2\" type=\"checkbox\" ><label for=\"sk-estimator-id-2\" class=\"sk-toggleable__label fitted sk-toggleable__label-arrow\"><div><div>best_estimator_: Pipeline</div></div></label><div class=\"sk-toggleable__content fitted\"><pre>Pipeline(steps=[(&#x27;preprocessor&#x27;,\n",
       "                 ColumnTransformer(remainder=&#x27;passthrough&#x27;,\n",
       "                                   transformers=[(&#x27;num&#x27;, StandardScaler(),\n",
       "                                                  [&#x27;number_of_words&#x27;]),\n",
       "                                                 (&#x27;vect&#x27;,\n",
       "                                                  TfidfVectorizer(stop_words=[&#x27;a&#x27;,\n",
       "                                                                              &#x27;about&#x27;,\n",
       "                                                                              &#x27;above&#x27;,\n",
       "                                                                              &#x27;after&#x27;,\n",
       "                                                                              &#x27;again&#x27;,\n",
       "                                                                              &#x27;against&#x27;,\n",
       "                                                                              &#x27;ain&#x27;,\n",
       "                                                                              &#x27;all&#x27;,\n",
       "                                                                              &#x27;am&#x27;,\n",
       "                                                                              &#x27;an&#x27;,\n",
       "                                                                              &#x27;and&#x27;,\n",
       "                                                                              &#x27;any&#x27;,\n",
       "                                                                              &#x27;are&#x27;,\n",
       "                                                                              &#x27;aren&#x27;,\n",
       "                                                                              &quot;aren&#x27;t&quot;,\n",
       "                                                                              &#x27;as&#x27;,\n",
       "                                                                              &#x27;at&#x27;,\n",
       "                                                                              &#x27;be&#x27;,\n",
       "                                                                              &#x27;because&#x27;,\n",
       "                                                                              &#x27;been&#x27;,\n",
       "                                                                              &#x27;before&#x27;,\n",
       "                                                                              &#x27;being&#x27;,\n",
       "                                                                              &#x27;below&#x27;,\n",
       "                                                                              &#x27;between&#x27;,\n",
       "                                                                              &#x27;both&#x27;,\n",
       "                                                                              &#x27;but&#x27;,\n",
       "                                                                              &#x27;by&#x27;,\n",
       "                                                                              &#x27;can&#x27;,\n",
       "                                                                              &#x27;couldn&#x27;,\n",
       "                                                                              &quot;couldn&#x27;t&quot;, ...]),\n",
       "                                                  &#x27;lemmatized_text&#x27;)])),\n",
       "                (&#x27;models&#x27;,\n",
       "                 PassiveAggressiveClassifier(C=0.05, max_iter=50,\n",
       "                                             random_state=1234))])</pre></div> </div></div><div class=\"sk-serial\"><div class=\"sk-item\"><div class=\"sk-serial\"><div class=\"sk-item sk-dashed-wrapped\"><div class=\"sk-label-container\"><div class=\"sk-label fitted sk-toggleable\"><input class=\"sk-toggleable__control sk-hidden--visually\" id=\"sk-estimator-id-3\" type=\"checkbox\" ><label for=\"sk-estimator-id-3\" class=\"sk-toggleable__label fitted sk-toggleable__label-arrow\"><div><div>preprocessor: ColumnTransformer</div></div><div><a class=\"sk-estimator-doc-link fitted\" rel=\"noreferrer\" target=\"_blank\" href=\"https://scikit-learn.org/1.6/modules/generated/sklearn.compose.ColumnTransformer.html\">?<span>Documentation for preprocessor: ColumnTransformer</span></a></div></label><div class=\"sk-toggleable__content fitted\"><pre>ColumnTransformer(remainder=&#x27;passthrough&#x27;,\n",
       "                  transformers=[(&#x27;num&#x27;, StandardScaler(), [&#x27;number_of_words&#x27;]),\n",
       "                                (&#x27;vect&#x27;,\n",
       "                                 TfidfVectorizer(stop_words=[&#x27;a&#x27;, &#x27;about&#x27;,\n",
       "                                                             &#x27;above&#x27;, &#x27;after&#x27;,\n",
       "                                                             &#x27;again&#x27;, &#x27;against&#x27;,\n",
       "                                                             &#x27;ain&#x27;, &#x27;all&#x27;, &#x27;am&#x27;,\n",
       "                                                             &#x27;an&#x27;, &#x27;and&#x27;, &#x27;any&#x27;,\n",
       "                                                             &#x27;are&#x27;, &#x27;aren&#x27;,\n",
       "                                                             &quot;aren&#x27;t&quot;, &#x27;as&#x27;,\n",
       "                                                             &#x27;at&#x27;, &#x27;be&#x27;,\n",
       "                                                             &#x27;because&#x27;, &#x27;been&#x27;,\n",
       "                                                             &#x27;before&#x27;, &#x27;being&#x27;,\n",
       "                                                             &#x27;below&#x27;, &#x27;between&#x27;,\n",
       "                                                             &#x27;both&#x27;, &#x27;but&#x27;,\n",
       "                                                             &#x27;by&#x27;, &#x27;can&#x27;,\n",
       "                                                             &#x27;couldn&#x27;,\n",
       "                                                             &quot;couldn&#x27;t&quot;, ...]),\n",
       "                                 &#x27;lemmatized_text&#x27;)])</pre></div> </div></div><div class=\"sk-parallel\"><div class=\"sk-parallel-item\"><div class=\"sk-item\"><div class=\"sk-label-container\"><div class=\"sk-label fitted sk-toggleable\"><input class=\"sk-toggleable__control sk-hidden--visually\" id=\"sk-estimator-id-4\" type=\"checkbox\" ><label for=\"sk-estimator-id-4\" class=\"sk-toggleable__label fitted sk-toggleable__label-arrow\"><div><div>num</div></div></label><div class=\"sk-toggleable__content fitted\"><pre>[&#x27;number_of_words&#x27;]</pre></div> </div></div><div class=\"sk-serial\"><div class=\"sk-item\"><div class=\"sk-estimator fitted sk-toggleable\"><input class=\"sk-toggleable__control sk-hidden--visually\" id=\"sk-estimator-id-5\" type=\"checkbox\" ><label for=\"sk-estimator-id-5\" class=\"sk-toggleable__label fitted sk-toggleable__label-arrow\"><div><div>StandardScaler</div></div><div><a class=\"sk-estimator-doc-link fitted\" rel=\"noreferrer\" target=\"_blank\" href=\"https://scikit-learn.org/1.6/modules/generated/sklearn.preprocessing.StandardScaler.html\">?<span>Documentation for StandardScaler</span></a></div></label><div class=\"sk-toggleable__content fitted\"><pre>StandardScaler()</pre></div> </div></div></div></div></div><div class=\"sk-parallel-item\"><div class=\"sk-item\"><div class=\"sk-label-container\"><div class=\"sk-label fitted sk-toggleable\"><input class=\"sk-toggleable__control sk-hidden--visually\" id=\"sk-estimator-id-6\" type=\"checkbox\" ><label for=\"sk-estimator-id-6\" class=\"sk-toggleable__label fitted sk-toggleable__label-arrow\"><div><div>vect</div></div></label><div class=\"sk-toggleable__content fitted\"><pre>lemmatized_text</pre></div> </div></div><div class=\"sk-serial\"><div class=\"sk-item\"><div class=\"sk-estimator fitted sk-toggleable\"><input class=\"sk-toggleable__control sk-hidden--visually\" id=\"sk-estimator-id-7\" type=\"checkbox\" ><label for=\"sk-estimator-id-7\" class=\"sk-toggleable__label fitted sk-toggleable__label-arrow\"><div><div>TfidfVectorizer</div></div><div><a class=\"sk-estimator-doc-link fitted\" rel=\"noreferrer\" target=\"_blank\" href=\"https://scikit-learn.org/1.6/modules/generated/sklearn.feature_extraction.text.TfidfVectorizer.html\">?<span>Documentation for TfidfVectorizer</span></a></div></label><div class=\"sk-toggleable__content fitted\"><pre>TfidfVectorizer(stop_words=[&#x27;a&#x27;, &#x27;about&#x27;, &#x27;above&#x27;, &#x27;after&#x27;, &#x27;again&#x27;, &#x27;against&#x27;,\n",
       "                            &#x27;ain&#x27;, &#x27;all&#x27;, &#x27;am&#x27;, &#x27;an&#x27;, &#x27;and&#x27;, &#x27;any&#x27;, &#x27;are&#x27;,\n",
       "                            &#x27;aren&#x27;, &quot;aren&#x27;t&quot;, &#x27;as&#x27;, &#x27;at&#x27;, &#x27;be&#x27;, &#x27;because&#x27;,\n",
       "                            &#x27;been&#x27;, &#x27;before&#x27;, &#x27;being&#x27;, &#x27;below&#x27;, &#x27;between&#x27;,\n",
       "                            &#x27;both&#x27;, &#x27;but&#x27;, &#x27;by&#x27;, &#x27;can&#x27;, &#x27;couldn&#x27;, &quot;couldn&#x27;t&quot;, ...])</pre></div> </div></div></div></div></div><div class=\"sk-parallel-item\"><div class=\"sk-item\"><div class=\"sk-label-container\"><div class=\"sk-label fitted sk-toggleable\"><input class=\"sk-toggleable__control sk-hidden--visually\" id=\"sk-estimator-id-8\" type=\"checkbox\" ><label for=\"sk-estimator-id-8\" class=\"sk-toggleable__label fitted sk-toggleable__label-arrow\"><div><div>remainder</div></div></label><div class=\"sk-toggleable__content fitted\"><pre>[&#x27;negative_sentiment&#x27;]</pre></div> </div></div><div class=\"sk-serial\"><div class=\"sk-item\"><div class=\"sk-estimator fitted sk-toggleable\"><input class=\"sk-toggleable__control sk-hidden--visually\" id=\"sk-estimator-id-9\" type=\"checkbox\" ><label for=\"sk-estimator-id-9\" class=\"sk-toggleable__label fitted sk-toggleable__label-arrow\"><div><div>passthrough</div></div></label><div class=\"sk-toggleable__content fitted\"><pre>passthrough</pre></div> </div></div></div></div></div></div></div><div class=\"sk-item\"><div class=\"sk-estimator fitted sk-toggleable\"><input class=\"sk-toggleable__control sk-hidden--visually\" id=\"sk-estimator-id-10\" type=\"checkbox\" ><label for=\"sk-estimator-id-10\" class=\"sk-toggleable__label fitted sk-toggleable__label-arrow\"><div><div>PassiveAggressiveClassifier</div></div><div><a class=\"sk-estimator-doc-link fitted\" rel=\"noreferrer\" target=\"_blank\" href=\"https://scikit-learn.org/1.6/modules/generated/sklearn.linear_model.PassiveAggressiveClassifier.html\">?<span>Documentation for PassiveAggressiveClassifier</span></a></div></label><div class=\"sk-toggleable__content fitted\"><pre>PassiveAggressiveClassifier(C=0.05, max_iter=50, random_state=1234)</pre></div> </div></div></div></div></div></div></div></div></div></div></div>"
      ],
      "text/plain": [
       "GridSearchCV(cv=3,\n",
       "             estimator=Pipeline(steps=[('preprocessor',\n",
       "                                        ColumnTransformer(remainder='passthrough',\n",
       "                                                          transformers=[('num',\n",
       "                                                                         StandardScaler(),\n",
       "                                                                         ['number_of_words']),\n",
       "                                                                        ('vect',\n",
       "                                                                         TfidfVectorizer(stop_words=['a',\n",
       "                                                                                                     'about',\n",
       "                                                                                                     'above',\n",
       "                                                                                                     'after',\n",
       "                                                                                                     'again',\n",
       "                                                                                                     'against',\n",
       "                                                                                                     'ain',\n",
       "                                                                                                     'all',\n",
       "                                                                                                     'am',\n",
       "                                                                                                     'an',\n",
       "                                                                                                     'and',\n",
       "                                                                                                     'any',\n",
       "                                                                                                     'are',\n",
       "                                                                                                     'aren',\n",
       "                                                                                                     \"aren't\",\n",
       "                                                                                                     'as',\n",
       "                                                                                                     'at',\n",
       "                                                                                                     'be',\n",
       "                                                                                                     'because',\n",
       "                                                                                                     'been',\n",
       "                                                                                                     'before',\n",
       "                                                                                                     'being',\n",
       "                                                                                                     'b...\n",
       "                          'models__max_iter': [50, 100]},\n",
       "                         {'models': [RandomForestClassifier(class_weight='balanced_subsample',\n",
       "                                                            min_samples_leaf=2,\n",
       "                                                            n_estimators=80,\n",
       "                                                            n_jobs=-1,\n",
       "                                                            random_state=1234)],\n",
       "                          'models__max_depth': [100, 500],\n",
       "                          'models__min_samples_split': [10, 20]},\n",
       "                         {'models': [LGBMClassifier(max_depth=20,\n",
       "                                                    n_estimators=80,\n",
       "                                                    num_leaves=20,\n",
       "                                                    random_state=1234)],\n",
       "                          'models__learning_rate': [0.3, 0.4]}],\n",
       "             scoring='f1', verbose=3)"
      ]
     },
     "execution_count": 43,
     "metadata": {},
     "output_type": "execute_result"
    }
   ],
   "source": [
    "# инициализируем класс для автоматизированного поиска лучших гиперпараметров\n",
    "# на данных кросс-валидационной выборки c помощью GridSearchCV\n",
    "best_model_gs = GridSearchCV(best_model_pipe, param_grid=param_gs, cv=3, scoring='f1',\n",
    "                        n_jobs=-1, verbose=3)\n",
    "best_model_gs.fit(X_train, y_train)"
   ]
  },
  {
   "cell_type": "code",
   "execution_count": 44,
   "metadata": {},
   "outputs": [
    {
     "name": "stdout",
     "output_type": "stream",
     "text": [
      "Лучшая обученная модель и её параметры:\n",
      "\n",
      " {'models': PassiveAggressiveClassifier(random_state=1234), 'models__C': 0.05, 'models__max_iter': 50}\n"
     ]
    }
   ],
   "source": [
    "# выводим лучшую обученную модель и её гиперпараметры\n",
    "print('Лучшая обученная модель и её параметры:\\n\\n', best_model_gs.best_params_)"
   ]
  },
  {
   "cell_type": "code",
   "execution_count": 45,
   "metadata": {},
   "outputs": [
    {
     "name": "stdout",
     "output_type": "stream",
     "text": [
      "\u001b[1mОбщие результаты поиска гиперпараметров лучшей модели:\u001b[0m\n"
     ]
    },
    {
     "data": {
      "text/html": [
       "<div>\n",
       "<style scoped>\n",
       "    .dataframe tbody tr th:only-of-type {\n",
       "        vertical-align: middle;\n",
       "    }\n",
       "\n",
       "    .dataframe tbody tr th {\n",
       "        vertical-align: top;\n",
       "    }\n",
       "\n",
       "    .dataframe thead th {\n",
       "        text-align: right;\n",
       "    }\n",
       "</style>\n",
       "<table border=\"1\" class=\"dataframe\">\n",
       "  <thead>\n",
       "    <tr style=\"text-align: right;\">\n",
       "      <th></th>\n",
       "      <th>mean_fit_time</th>\n",
       "      <th>std_fit_time</th>\n",
       "      <th>mean_score_time</th>\n",
       "      <th>std_score_time</th>\n",
       "      <th>param_models</th>\n",
       "      <th>param_models__C</th>\n",
       "      <th>param_models__max_iter</th>\n",
       "      <th>param_models__max_depth</th>\n",
       "      <th>param_models__min_samples_split</th>\n",
       "      <th>param_models__learning_rate</th>\n",
       "      <th>params</th>\n",
       "      <th>split0_test_score</th>\n",
       "      <th>split1_test_score</th>\n",
       "      <th>split2_test_score</th>\n",
       "      <th>mean_test_score</th>\n",
       "      <th>std_test_score</th>\n",
       "      <th>rank_test_score</th>\n",
       "    </tr>\n",
       "  </thead>\n",
       "  <tbody>\n",
       "    <tr>\n",
       "      <th>0</th>\n",
       "      <td>4.736950</td>\n",
       "      <td>0.035750</td>\n",
       "      <td>1.718475</td>\n",
       "      <td>0.014118</td>\n",
       "      <td>PassiveAggressiveClassifier(random_state=1234)</td>\n",
       "      <td>0.05</td>\n",
       "      <td>50.0</td>\n",
       "      <td>NaN</td>\n",
       "      <td>NaN</td>\n",
       "      <td>NaN</td>\n",
       "      <td>{'models': PassiveAggressiveClassifier(random_state=1234), 'models__C': 0.05, 'models__max_iter': 50}</td>\n",
       "      <td>0.779745</td>\n",
       "      <td>0.786171</td>\n",
       "      <td>0.788542</td>\n",
       "      <td>0.784820</td>\n",
       "      <td>0.003716</td>\n",
       "      <td>1</td>\n",
       "    </tr>\n",
       "    <tr>\n",
       "      <th>1</th>\n",
       "      <td>4.764927</td>\n",
       "      <td>0.078439</td>\n",
       "      <td>1.782127</td>\n",
       "      <td>0.047687</td>\n",
       "      <td>PassiveAggressiveClassifier(random_state=1234)</td>\n",
       "      <td>0.05</td>\n",
       "      <td>100.0</td>\n",
       "      <td>NaN</td>\n",
       "      <td>NaN</td>\n",
       "      <td>NaN</td>\n",
       "      <td>{'models': PassiveAggressiveClassifier(random_state=1234), 'models__C': 0.05, 'models__max_iter': 100}</td>\n",
       "      <td>0.779745</td>\n",
       "      <td>0.786171</td>\n",
       "      <td>0.788542</td>\n",
       "      <td>0.784820</td>\n",
       "      <td>0.003716</td>\n",
       "      <td>1</td>\n",
       "    </tr>\n",
       "    <tr>\n",
       "      <th>2</th>\n",
       "      <td>4.808306</td>\n",
       "      <td>0.131220</td>\n",
       "      <td>1.777149</td>\n",
       "      <td>0.009530</td>\n",
       "      <td>PassiveAggressiveClassifier(random_state=1234)</td>\n",
       "      <td>0.10</td>\n",
       "      <td>50.0</td>\n",
       "      <td>NaN</td>\n",
       "      <td>NaN</td>\n",
       "      <td>NaN</td>\n",
       "      <td>{'models': PassiveAggressiveClassifier(random_state=1234), 'models__C': 0.1, 'models__max_iter': 50}</td>\n",
       "      <td>0.771829</td>\n",
       "      <td>0.775019</td>\n",
       "      <td>0.780475</td>\n",
       "      <td>0.775775</td>\n",
       "      <td>0.003570</td>\n",
       "      <td>3</td>\n",
       "    </tr>\n",
       "    <tr>\n",
       "      <th>3</th>\n",
       "      <td>4.795292</td>\n",
       "      <td>0.160711</td>\n",
       "      <td>1.788419</td>\n",
       "      <td>0.026529</td>\n",
       "      <td>PassiveAggressiveClassifier(random_state=1234)</td>\n",
       "      <td>0.10</td>\n",
       "      <td>100.0</td>\n",
       "      <td>NaN</td>\n",
       "      <td>NaN</td>\n",
       "      <td>NaN</td>\n",
       "      <td>{'models': PassiveAggressiveClassifier(random_state=1234), 'models__C': 0.1, 'models__max_iter': 100}</td>\n",
       "      <td>0.771829</td>\n",
       "      <td>0.775019</td>\n",
       "      <td>0.780475</td>\n",
       "      <td>0.775775</td>\n",
       "      <td>0.003570</td>\n",
       "      <td>3</td>\n",
       "    </tr>\n",
       "    <tr>\n",
       "      <th>4</th>\n",
       "      <td>4.635937</td>\n",
       "      <td>0.100688</td>\n",
       "      <td>1.791826</td>\n",
       "      <td>0.017665</td>\n",
       "      <td>PassiveAggressiveClassifier(random_state=1234)</td>\n",
       "      <td>0.50</td>\n",
       "      <td>50.0</td>\n",
       "      <td>NaN</td>\n",
       "      <td>NaN</td>\n",
       "      <td>NaN</td>\n",
       "      <td>{'models': PassiveAggressiveClassifier(random_state=1234), 'models__C': 0.5, 'models__max_iter': 50}</td>\n",
       "      <td>0.755370</td>\n",
       "      <td>0.748358</td>\n",
       "      <td>0.753898</td>\n",
       "      <td>0.752542</td>\n",
       "      <td>0.003019</td>\n",
       "      <td>7</td>\n",
       "    </tr>\n",
       "    <tr>\n",
       "      <th>5</th>\n",
       "      <td>4.655389</td>\n",
       "      <td>0.102086</td>\n",
       "      <td>1.747241</td>\n",
       "      <td>0.017551</td>\n",
       "      <td>PassiveAggressiveClassifier(random_state=1234)</td>\n",
       "      <td>0.50</td>\n",
       "      <td>100.0</td>\n",
       "      <td>NaN</td>\n",
       "      <td>NaN</td>\n",
       "      <td>NaN</td>\n",
       "      <td>{'models': PassiveAggressiveClassifier(random_state=1234), 'models__C': 0.5, 'models__max_iter': 100}</td>\n",
       "      <td>0.755370</td>\n",
       "      <td>0.748358</td>\n",
       "      <td>0.753898</td>\n",
       "      <td>0.752542</td>\n",
       "      <td>0.003019</td>\n",
       "      <td>7</td>\n",
       "    </tr>\n",
       "    <tr>\n",
       "      <th>6</th>\n",
       "      <td>28.328569</td>\n",
       "      <td>0.571685</td>\n",
       "      <td>2.941843</td>\n",
       "      <td>0.021671</td>\n",
       "      <td>RandomForestClassifier(class_weight='balanced_subsample', min_samples_leaf=2,\\n                       n_estimators=80, n_jobs=-1, random_state=1234)</td>\n",
       "      <td>NaN</td>\n",
       "      <td>NaN</td>\n",
       "      <td>100.0</td>\n",
       "      <td>10.0</td>\n",
       "      <td>NaN</td>\n",
       "      <td>{'models': RandomForestClassifier(class_weight='balanced_subsample', min_samples_leaf=2,\n",
       "                       n_estimators=80, n_jobs=-1, random_state=1234), 'models__max_depth': 100, 'models__min_samples_split': 10}</td>\n",
       "      <td>0.627742</td>\n",
       "      <td>0.632594</td>\n",
       "      <td>0.615854</td>\n",
       "      <td>0.625397</td>\n",
       "      <td>0.007032</td>\n",
       "      <td>11</td>\n",
       "    </tr>\n",
       "    <tr>\n",
       "      <th>7</th>\n",
       "      <td>25.795121</td>\n",
       "      <td>0.823698</td>\n",
       "      <td>2.884544</td>\n",
       "      <td>0.060945</td>\n",
       "      <td>RandomForestClassifier(class_weight='balanced_subsample', min_samples_leaf=2,\\n                       n_estimators=80, n_jobs=-1, random_state=1234)</td>\n",
       "      <td>NaN</td>\n",
       "      <td>NaN</td>\n",
       "      <td>100.0</td>\n",
       "      <td>20.0</td>\n",
       "      <td>NaN</td>\n",
       "      <td>{'models': RandomForestClassifier(class_weight='balanced_subsample', min_samples_leaf=2,\n",
       "                       n_estimators=80, n_jobs=-1, random_state=1234), 'models__max_depth': 100, 'models__min_samples_split': 20}</td>\n",
       "      <td>0.621285</td>\n",
       "      <td>0.635508</td>\n",
       "      <td>0.616524</td>\n",
       "      <td>0.624439</td>\n",
       "      <td>0.008065</td>\n",
       "      <td>12</td>\n",
       "    </tr>\n",
       "    <tr>\n",
       "      <th>8</th>\n",
       "      <td>39.588946</td>\n",
       "      <td>0.155453</td>\n",
       "      <td>3.726717</td>\n",
       "      <td>0.009602</td>\n",
       "      <td>RandomForestClassifier(class_weight='balanced_subsample', min_samples_leaf=2,\\n                       n_estimators=80, n_jobs=-1, random_state=1234)</td>\n",
       "      <td>NaN</td>\n",
       "      <td>NaN</td>\n",
       "      <td>500.0</td>\n",
       "      <td>10.0</td>\n",
       "      <td>NaN</td>\n",
       "      <td>{'models': RandomForestClassifier(class_weight='balanced_subsample', min_samples_leaf=2,\n",
       "                       n_estimators=80, n_jobs=-1, random_state=1234), 'models__max_depth': 500, 'models__min_samples_split': 10}</td>\n",
       "      <td>0.676117</td>\n",
       "      <td>0.697809</td>\n",
       "      <td>0.694448</td>\n",
       "      <td>0.689458</td>\n",
       "      <td>0.009533</td>\n",
       "      <td>10</td>\n",
       "    </tr>\n",
       "    <tr>\n",
       "      <th>9</th>\n",
       "      <td>37.964377</td>\n",
       "      <td>0.058505</td>\n",
       "      <td>3.702043</td>\n",
       "      <td>0.054987</td>\n",
       "      <td>RandomForestClassifier(class_weight='balanced_subsample', min_samples_leaf=2,\\n                       n_estimators=80, n_jobs=-1, random_state=1234)</td>\n",
       "      <td>NaN</td>\n",
       "      <td>NaN</td>\n",
       "      <td>500.0</td>\n",
       "      <td>20.0</td>\n",
       "      <td>NaN</td>\n",
       "      <td>{'models': RandomForestClassifier(class_weight='balanced_subsample', min_samples_leaf=2,\n",
       "                       n_estimators=80, n_jobs=-1, random_state=1234), 'models__max_depth': 500, 'models__min_samples_split': 20}</td>\n",
       "      <td>0.675214</td>\n",
       "      <td>0.695935</td>\n",
       "      <td>0.697775</td>\n",
       "      <td>0.689641</td>\n",
       "      <td>0.010229</td>\n",
       "      <td>9</td>\n",
       "    </tr>\n",
       "    <tr>\n",
       "      <th>10</th>\n",
       "      <td>38.097342</td>\n",
       "      <td>1.099562</td>\n",
       "      <td>3.602152</td>\n",
       "      <td>0.196452</td>\n",
       "      <td>LGBMClassifier(max_depth=20, n_estimators=80, num_leaves=20, random_state=1234)</td>\n",
       "      <td>NaN</td>\n",
       "      <td>NaN</td>\n",
       "      <td>NaN</td>\n",
       "      <td>NaN</td>\n",
       "      <td>0.3</td>\n",
       "      <td>{'models': LGBMClassifier(max_depth=20, n_estimators=80, num_leaves=20, random_state=1234), 'models__learning_rate': 0.3}</td>\n",
       "      <td>0.757850</td>\n",
       "      <td>0.762309</td>\n",
       "      <td>0.758881</td>\n",
       "      <td>0.759680</td>\n",
       "      <td>0.001906</td>\n",
       "      <td>6</td>\n",
       "    </tr>\n",
       "    <tr>\n",
       "      <th>11</th>\n",
       "      <td>37.986810</td>\n",
       "      <td>0.616706</td>\n",
       "      <td>3.607356</td>\n",
       "      <td>0.011636</td>\n",
       "      <td>LGBMClassifier(max_depth=20, n_estimators=80, num_leaves=20, random_state=1234)</td>\n",
       "      <td>NaN</td>\n",
       "      <td>NaN</td>\n",
       "      <td>NaN</td>\n",
       "      <td>NaN</td>\n",
       "      <td>0.4</td>\n",
       "      <td>{'models': LGBMClassifier(max_depth=20, n_estimators=80, num_leaves=20, random_state=1234), 'models__learning_rate': 0.4}</td>\n",
       "      <td>0.760128</td>\n",
       "      <td>0.762924</td>\n",
       "      <td>0.764535</td>\n",
       "      <td>0.762529</td>\n",
       "      <td>0.001821</td>\n",
       "      <td>5</td>\n",
       "    </tr>\n",
       "  </tbody>\n",
       "</table>\n",
       "</div>"
      ],
      "text/plain": [
       "    mean_fit_time  std_fit_time  mean_score_time  std_score_time  \\\n",
       "0        4.736950      0.035750         1.718475        0.014118   \n",
       "1        4.764927      0.078439         1.782127        0.047687   \n",
       "2        4.808306      0.131220         1.777149        0.009530   \n",
       "3        4.795292      0.160711         1.788419        0.026529   \n",
       "4        4.635937      0.100688         1.791826        0.017665   \n",
       "5        4.655389      0.102086         1.747241        0.017551   \n",
       "6       28.328569      0.571685         2.941843        0.021671   \n",
       "7       25.795121      0.823698         2.884544        0.060945   \n",
       "8       39.588946      0.155453         3.726717        0.009602   \n",
       "9       37.964377      0.058505         3.702043        0.054987   \n",
       "10      38.097342      1.099562         3.602152        0.196452   \n",
       "11      37.986810      0.616706         3.607356        0.011636   \n",
       "\n",
       "                                                                                                                                            param_models  \\\n",
       "0                                                                                                         PassiveAggressiveClassifier(random_state=1234)   \n",
       "1                                                                                                         PassiveAggressiveClassifier(random_state=1234)   \n",
       "2                                                                                                         PassiveAggressiveClassifier(random_state=1234)   \n",
       "3                                                                                                         PassiveAggressiveClassifier(random_state=1234)   \n",
       "4                                                                                                         PassiveAggressiveClassifier(random_state=1234)   \n",
       "5                                                                                                         PassiveAggressiveClassifier(random_state=1234)   \n",
       "6   RandomForestClassifier(class_weight='balanced_subsample', min_samples_leaf=2,\\n                       n_estimators=80, n_jobs=-1, random_state=1234)   \n",
       "7   RandomForestClassifier(class_weight='balanced_subsample', min_samples_leaf=2,\\n                       n_estimators=80, n_jobs=-1, random_state=1234)   \n",
       "8   RandomForestClassifier(class_weight='balanced_subsample', min_samples_leaf=2,\\n                       n_estimators=80, n_jobs=-1, random_state=1234)   \n",
       "9   RandomForestClassifier(class_weight='balanced_subsample', min_samples_leaf=2,\\n                       n_estimators=80, n_jobs=-1, random_state=1234)   \n",
       "10                                                                       LGBMClassifier(max_depth=20, n_estimators=80, num_leaves=20, random_state=1234)   \n",
       "11                                                                       LGBMClassifier(max_depth=20, n_estimators=80, num_leaves=20, random_state=1234)   \n",
       "\n",
       "    param_models__C  param_models__max_iter  param_models__max_depth  \\\n",
       "0              0.05                    50.0                      NaN   \n",
       "1              0.05                   100.0                      NaN   \n",
       "2              0.10                    50.0                      NaN   \n",
       "3              0.10                   100.0                      NaN   \n",
       "4              0.50                    50.0                      NaN   \n",
       "5              0.50                   100.0                      NaN   \n",
       "6               NaN                     NaN                    100.0   \n",
       "7               NaN                     NaN                    100.0   \n",
       "8               NaN                     NaN                    500.0   \n",
       "9               NaN                     NaN                    500.0   \n",
       "10              NaN                     NaN                      NaN   \n",
       "11              NaN                     NaN                      NaN   \n",
       "\n",
       "    param_models__min_samples_split  param_models__learning_rate  \\\n",
       "0                               NaN                          NaN   \n",
       "1                               NaN                          NaN   \n",
       "2                               NaN                          NaN   \n",
       "3                               NaN                          NaN   \n",
       "4                               NaN                          NaN   \n",
       "5                               NaN                          NaN   \n",
       "6                              10.0                          NaN   \n",
       "7                              20.0                          NaN   \n",
       "8                              10.0                          NaN   \n",
       "9                              20.0                          NaN   \n",
       "10                              NaN                          0.3   \n",
       "11                              NaN                          0.4   \n",
       "\n",
       "                                                                                                                                                                                                                        params  \\\n",
       "0                                                                                                                        {'models': PassiveAggressiveClassifier(random_state=1234), 'models__C': 0.05, 'models__max_iter': 50}   \n",
       "1                                                                                                                       {'models': PassiveAggressiveClassifier(random_state=1234), 'models__C': 0.05, 'models__max_iter': 100}   \n",
       "2                                                                                                                         {'models': PassiveAggressiveClassifier(random_state=1234), 'models__C': 0.1, 'models__max_iter': 50}   \n",
       "3                                                                                                                        {'models': PassiveAggressiveClassifier(random_state=1234), 'models__C': 0.1, 'models__max_iter': 100}   \n",
       "4                                                                                                                         {'models': PassiveAggressiveClassifier(random_state=1234), 'models__C': 0.5, 'models__max_iter': 50}   \n",
       "5                                                                                                                        {'models': PassiveAggressiveClassifier(random_state=1234), 'models__C': 0.5, 'models__max_iter': 100}   \n",
       "6   {'models': RandomForestClassifier(class_weight='balanced_subsample', min_samples_leaf=2,\n",
       "                       n_estimators=80, n_jobs=-1, random_state=1234), 'models__max_depth': 100, 'models__min_samples_split': 10}   \n",
       "7   {'models': RandomForestClassifier(class_weight='balanced_subsample', min_samples_leaf=2,\n",
       "                       n_estimators=80, n_jobs=-1, random_state=1234), 'models__max_depth': 100, 'models__min_samples_split': 20}   \n",
       "8   {'models': RandomForestClassifier(class_weight='balanced_subsample', min_samples_leaf=2,\n",
       "                       n_estimators=80, n_jobs=-1, random_state=1234), 'models__max_depth': 500, 'models__min_samples_split': 10}   \n",
       "9   {'models': RandomForestClassifier(class_weight='balanced_subsample', min_samples_leaf=2,\n",
       "                       n_estimators=80, n_jobs=-1, random_state=1234), 'models__max_depth': 500, 'models__min_samples_split': 20}   \n",
       "10                                                                                                   {'models': LGBMClassifier(max_depth=20, n_estimators=80, num_leaves=20, random_state=1234), 'models__learning_rate': 0.3}   \n",
       "11                                                                                                   {'models': LGBMClassifier(max_depth=20, n_estimators=80, num_leaves=20, random_state=1234), 'models__learning_rate': 0.4}   \n",
       "\n",
       "    split0_test_score  split1_test_score  split2_test_score  mean_test_score  \\\n",
       "0            0.779745           0.786171           0.788542         0.784820   \n",
       "1            0.779745           0.786171           0.788542         0.784820   \n",
       "2            0.771829           0.775019           0.780475         0.775775   \n",
       "3            0.771829           0.775019           0.780475         0.775775   \n",
       "4            0.755370           0.748358           0.753898         0.752542   \n",
       "5            0.755370           0.748358           0.753898         0.752542   \n",
       "6            0.627742           0.632594           0.615854         0.625397   \n",
       "7            0.621285           0.635508           0.616524         0.624439   \n",
       "8            0.676117           0.697809           0.694448         0.689458   \n",
       "9            0.675214           0.695935           0.697775         0.689641   \n",
       "10           0.757850           0.762309           0.758881         0.759680   \n",
       "11           0.760128           0.762924           0.764535         0.762529   \n",
       "\n",
       "    std_test_score  rank_test_score  \n",
       "0         0.003716                1  \n",
       "1         0.003716                1  \n",
       "2         0.003570                3  \n",
       "3         0.003570                3  \n",
       "4         0.003019                7  \n",
       "5         0.003019                7  \n",
       "6         0.007032               11  \n",
       "7         0.008065               12  \n",
       "8         0.009533               10  \n",
       "9         0.010229                9  \n",
       "10        0.001906                6  \n",
       "11        0.001821                5  "
      ]
     },
     "metadata": {},
     "output_type": "display_data"
    }
   ],
   "source": [
    "# выводим общие результаты поиска гиперпараметров лучшей модели\n",
    "print('\\033[1mОбщие результаты поиска гиперпараметров лучшей модели:\\033[0m')\n",
    "display(pd.DataFrame(best_model_gs.cv_results_))"
   ]
  },
  {
   "cell_type": "code",
   "execution_count": 46,
   "metadata": {},
   "outputs": [
    {
     "name": "stdout",
     "output_type": "stream",
     "text": [
      "Значением метрики качества F1 для лучшей модели на тестовой выборке: 0.79\n"
     ]
    }
   ],
   "source": [
    "# сделаем предсказания целевого признака с помощью лучшей модели на тестовой выборки\n",
    "predictions = best_model_gs.predict(X_test)\n",
    "print('Значением метрики качества F1 для лучшей модели на тестовой выборке:',\n",
    "      round(f1_score(y_test, predictions), 2))"
   ]
  },
  {
   "cell_type": "code",
   "execution_count": 47,
   "metadata": {},
   "outputs": [
    {
     "name": "stdout",
     "output_type": "stream",
     "text": [
      "Важность входных признаков для лучшей модели:\n"
     ]
    },
    {
     "data": {
      "text/html": [
       "<div>\n",
       "<style scoped>\n",
       "    .dataframe tbody tr th:only-of-type {\n",
       "        vertical-align: middle;\n",
       "    }\n",
       "\n",
       "    .dataframe tbody tr th {\n",
       "        vertical-align: top;\n",
       "    }\n",
       "\n",
       "    .dataframe thead th {\n",
       "        text-align: right;\n",
       "    }\n",
       "</style>\n",
       "<table border=\"1\" class=\"dataframe\">\n",
       "  <thead>\n",
       "    <tr style=\"text-align: right;\">\n",
       "      <th></th>\n",
       "      <th>Feature_name</th>\n",
       "      <th>Importance</th>\n",
       "    </tr>\n",
       "  </thead>\n",
       "  <tbody>\n",
       "    <tr>\n",
       "      <th>42009</th>\n",
       "      <td>vect__fuck</td>\n",
       "      <td>16.23</td>\n",
       "    </tr>\n",
       "    <tr>\n",
       "      <th>42037</th>\n",
       "      <td>vect__fucking</td>\n",
       "      <td>12.28</td>\n",
       "    </tr>\n",
       "    <tr>\n",
       "      <th>101540</th>\n",
       "      <td>vect__shit</td>\n",
       "      <td>9.50</td>\n",
       "    </tr>\n",
       "    <tr>\n",
       "      <th>52318</th>\n",
       "      <td>vect__idiot</td>\n",
       "      <td>9.14</td>\n",
       "    </tr>\n",
       "    <tr>\n",
       "      <th>12796</th>\n",
       "      <td>vect__bitch</td>\n",
       "      <td>8.90</td>\n",
       "    </tr>\n",
       "    <tr>\n",
       "      <th>7617</th>\n",
       "      <td>vect__asshole</td>\n",
       "      <td>8.67</td>\n",
       "    </tr>\n",
       "    <tr>\n",
       "      <th>15884</th>\n",
       "      <td>vect__bullshit</td>\n",
       "      <td>8.37</td>\n",
       "    </tr>\n",
       "    <tr>\n",
       "      <th>38016</th>\n",
       "      <td>vect__faggot</td>\n",
       "      <td>8.29</td>\n",
       "    </tr>\n",
       "    <tr>\n",
       "      <th>7537</th>\n",
       "      <td>vect__ass</td>\n",
       "      <td>7.75</td>\n",
       "    </tr>\n",
       "    <tr>\n",
       "      <th>107877</th>\n",
       "      <td>vect__suck</td>\n",
       "      <td>7.61</td>\n",
       "    </tr>\n",
       "    <tr>\n",
       "      <th>107443</th>\n",
       "      <td>vect__stupid</td>\n",
       "      <td>7.11</td>\n",
       "    </tr>\n",
       "    <tr>\n",
       "      <th>10455</th>\n",
       "      <td>vect__bastard</td>\n",
       "      <td>6.76</td>\n",
       "    </tr>\n",
       "    <tr>\n",
       "      <th>73419</th>\n",
       "      <td>vect__moron</td>\n",
       "      <td>6.47</td>\n",
       "    </tr>\n",
       "    <tr>\n",
       "      <th>25787</th>\n",
       "      <td>vect__cunt</td>\n",
       "      <td>6.33</td>\n",
       "    </tr>\n",
       "    <tr>\n",
       "      <th>29370</th>\n",
       "      <td>vect__dick</td>\n",
       "      <td>6.02</td>\n",
       "    </tr>\n",
       "    <tr>\n",
       "      <th>42023</th>\n",
       "      <td>vect__fucker</td>\n",
       "      <td>5.88</td>\n",
       "    </tr>\n",
       "    <tr>\n",
       "      <th>21308</th>\n",
       "      <td>vect__cock</td>\n",
       "      <td>5.74</td>\n",
       "    </tr>\n",
       "    <tr>\n",
       "      <th>84222</th>\n",
       "      <td>vect__penis</td>\n",
       "      <td>5.61</td>\n",
       "    </tr>\n",
       "    <tr>\n",
       "      <th>73624</th>\n",
       "      <td>vect__motherfucker</td>\n",
       "      <td>5.42</td>\n",
       "    </tr>\n",
       "    <tr>\n",
       "      <th>90196</th>\n",
       "      <td>vect__pussy</td>\n",
       "      <td>5.40</td>\n",
       "    </tr>\n",
       "    <tr>\n",
       "      <th>24780</th>\n",
       "      <td>vect__crap</td>\n",
       "      <td>5.30</td>\n",
       "    </tr>\n",
       "    <tr>\n",
       "      <th>77217</th>\n",
       "      <td>vect__nigger</td>\n",
       "      <td>5.28</td>\n",
       "    </tr>\n",
       "    <tr>\n",
       "      <th>32534</th>\n",
       "      <td>vect__dumbass</td>\n",
       "      <td>5.27</td>\n",
       "    </tr>\n",
       "    <tr>\n",
       "      <th>57426</th>\n",
       "      <td>vect__jerk</td>\n",
       "      <td>5.26</td>\n",
       "    </tr>\n",
       "    <tr>\n",
       "      <th>42036</th>\n",
       "      <td>vect__fuckin</td>\n",
       "      <td>5.15</td>\n",
       "    </tr>\n",
       "    <tr>\n",
       "      <th>29390</th>\n",
       "      <td>vect__dickhead</td>\n",
       "      <td>5.07</td>\n",
       "    </tr>\n",
       "    <tr>\n",
       "      <th>65966</th>\n",
       "      <td>vect__loser</td>\n",
       "      <td>4.97</td>\n",
       "    </tr>\n",
       "    <tr>\n",
       "      <th>20549</th>\n",
       "      <td>vect__ck</td>\n",
       "      <td>4.79</td>\n",
       "    </tr>\n",
       "    <tr>\n",
       "      <th>83543</th>\n",
       "      <td>vect__pathetic</td>\n",
       "      <td>4.72</td>\n",
       "    </tr>\n",
       "    <tr>\n",
       "      <th>123426</th>\n",
       "      <td>vect__whore</td>\n",
       "      <td>4.72</td>\n",
       "    </tr>\n",
       "    <tr>\n",
       "      <th>52319</th>\n",
       "      <td>vect__idiotic</td>\n",
       "      <td>4.66</td>\n",
       "    </tr>\n",
       "    <tr>\n",
       "      <th>32532</th>\n",
       "      <td>vect__dumb</td>\n",
       "      <td>4.47</td>\n",
       "    </tr>\n",
       "    <tr>\n",
       "      <th>56600</th>\n",
       "      <td>vect__jackass</td>\n",
       "      <td>4.23</td>\n",
       "    </tr>\n",
       "    <tr>\n",
       "      <th>20555</th>\n",
       "      <td>vect__cke</td>\n",
       "      <td>4.22</td>\n",
       "    </tr>\n",
       "    <tr>\n",
       "      <th>29950</th>\n",
       "      <td>vect__dipshit</td>\n",
       "      <td>4.16</td>\n",
       "    </tr>\n",
       "    <tr>\n",
       "      <th>37996</th>\n",
       "      <td>vect__fag</td>\n",
       "      <td>4.01</td>\n",
       "    </tr>\n",
       "    <tr>\n",
       "      <th>21343</th>\n",
       "      <td>vect__cocksucker</td>\n",
       "      <td>3.97</td>\n",
       "    </tr>\n",
       "    <tr>\n",
       "      <th>102021</th>\n",
       "      <td>vect__shut</td>\n",
       "      <td>3.95</td>\n",
       "    </tr>\n",
       "    <tr>\n",
       "      <th>99480</th>\n",
       "      <td>vect__scum</td>\n",
       "      <td>3.88</td>\n",
       "    </tr>\n",
       "    <tr>\n",
       "      <th>107449</th>\n",
       "      <td>vect__stupidity</td>\n",
       "      <td>3.81</td>\n",
       "    </tr>\n",
       "    <tr>\n",
       "      <th>51914</th>\n",
       "      <td>vect__hypocrite</td>\n",
       "      <td>3.81</td>\n",
       "    </tr>\n",
       "    <tr>\n",
       "      <th>42030</th>\n",
       "      <td>vect__fuckhead</td>\n",
       "      <td>3.78</td>\n",
       "    </tr>\n",
       "    <tr>\n",
       "      <th>94686</th>\n",
       "      <td>vect__retard</td>\n",
       "      <td>3.69</td>\n",
       "    </tr>\n",
       "    <tr>\n",
       "      <th>125503</th>\n",
       "      <td>vect__wtf</td>\n",
       "      <td>3.61</td>\n",
       "    </tr>\n",
       "    <tr>\n",
       "      <th>77208</th>\n",
       "      <td>vect__nigga</td>\n",
       "      <td>3.61</td>\n",
       "    </tr>\n",
       "    <tr>\n",
       "      <th>24612</th>\n",
       "      <td>vect__coward</td>\n",
       "      <td>3.60</td>\n",
       "    </tr>\n",
       "    <tr>\n",
       "      <th>73422</th>\n",
       "      <td>vect__moronic</td>\n",
       "      <td>3.59</td>\n",
       "    </tr>\n",
       "    <tr>\n",
       "      <th>48966</th>\n",
       "      <td>vect__hell</td>\n",
       "      <td>3.59</td>\n",
       "    </tr>\n",
       "    <tr>\n",
       "      <th>99481</th>\n",
       "      <td>vect__scumbag</td>\n",
       "      <td>3.58</td>\n",
       "    </tr>\n",
       "    <tr>\n",
       "      <th>43209</th>\n",
       "      <td>vect__gay</td>\n",
       "      <td>3.56</td>\n",
       "    </tr>\n",
       "  </tbody>\n",
       "</table>\n",
       "</div>"
      ],
      "text/plain": [
       "              Feature_name  Importance\n",
       "42009           vect__fuck       16.23\n",
       "42037        vect__fucking       12.28\n",
       "101540          vect__shit        9.50\n",
       "52318          vect__idiot        9.14\n",
       "12796          vect__bitch        8.90\n",
       "7617         vect__asshole        8.67\n",
       "15884       vect__bullshit        8.37\n",
       "38016         vect__faggot        8.29\n",
       "7537             vect__ass        7.75\n",
       "107877          vect__suck        7.61\n",
       "107443        vect__stupid        7.11\n",
       "10455        vect__bastard        6.76\n",
       "73419          vect__moron        6.47\n",
       "25787           vect__cunt        6.33\n",
       "29370           vect__dick        6.02\n",
       "42023         vect__fucker        5.88\n",
       "21308           vect__cock        5.74\n",
       "84222          vect__penis        5.61\n",
       "73624   vect__motherfucker        5.42\n",
       "90196          vect__pussy        5.40\n",
       "24780           vect__crap        5.30\n",
       "77217         vect__nigger        5.28\n",
       "32534        vect__dumbass        5.27\n",
       "57426           vect__jerk        5.26\n",
       "42036         vect__fuckin        5.15\n",
       "29390       vect__dickhead        5.07\n",
       "65966          vect__loser        4.97\n",
       "20549             vect__ck        4.79\n",
       "83543       vect__pathetic        4.72\n",
       "123426         vect__whore        4.72\n",
       "52319        vect__idiotic        4.66\n",
       "32532           vect__dumb        4.47\n",
       "56600        vect__jackass        4.23\n",
       "20555            vect__cke        4.22\n",
       "29950        vect__dipshit        4.16\n",
       "37996            vect__fag        4.01\n",
       "21343     vect__cocksucker        3.97\n",
       "102021          vect__shut        3.95\n",
       "99480           vect__scum        3.88\n",
       "107449     vect__stupidity        3.81\n",
       "51914      vect__hypocrite        3.81\n",
       "42030       vect__fuckhead        3.78\n",
       "94686         vect__retard        3.69\n",
       "125503           vect__wtf        3.61\n",
       "77208          vect__nigga        3.61\n",
       "24612         vect__coward        3.60\n",
       "73422        vect__moronic        3.59\n",
       "48966           vect__hell        3.59\n",
       "99481        vect__scumbag        3.58\n",
       "43209            vect__gay        3.56"
      ]
     },
     "execution_count": 47,
     "metadata": {},
     "output_type": "execute_result"
    }
   ],
   "source": [
    "# выводим трансформированные признаки из data_preprocessor и их важность для целевого признака\n",
    "print('Важность входных признаков для лучшей модели:')\n",
    "pd.DataFrame({\n",
    "    'Feature_name':\n",
    "    best_model_gs.best_estimator_.named_steps['preprocessor'].get_feature_names_out(),\n",
    "    'Importance':\n",
    "    np.around(best_model_gs.best_estimator_.named_steps['models'].coef_[0],\n",
    "              decimals=2)\n",
    "           }).sort_values(by='Importance', ascending=False).head(50)"
   ]
  },
  {
   "cell_type": "markdown",
   "metadata": {},
   "source": [
    "## Выводы "
   ]
  },
  {
   "cell_type": "markdown",
   "metadata": {},
   "source": [
    "На этапе  предобработки выгрузили данные и выполнили подготовку данных для моделирования. Мы регулизировали и лемматизировали комментарии, удалили комментарии с нулевым кол-вом слов и с аномально высоким кол-вом слов. Мы также добавили новые признаки, которые решено использорвать для моделирования: длину слов в комментарии и оценку позитивности/негативности текста, полученную с помощью SentimentIntensityAnalyzer(). Мы увидели, что в среднем токсичные комментарии почти в 2 раза короче и среди них большая доля коротких комментариев по сравнению с позитивными комментариями, что говорит о наличии связи между длиной комментария со значениями целевого признака. Среди комментариев с метками негативного текста SentimentIntensityAnalyzer() доля токсичных комментариев составляет почти треть, тогда как среди комментариев с метками позитивного настроения текста доля токсичных комментариев очень незначительная.\n",
    "\n",
    "На этапе обучения мы прежде всего определили входной и целевой признак для моделирования, а затем провели разбивку данных на тренировочную и тестовую выборки, применив стратификацию по целевому признаку, чтобы таким образом учесть дисбаланс классов при обучении и получить лучшее качество модели.\n",
    "\n",
    "Мы выбрали 3 модели для нашей задачи классификации - определения тональности текст: PassiveAggressiveClassifier(), RandomForestClassifier(), LGBMClassifier(). Подготовку данных, выбор оптимальных гиперпараметров и обучение выбранной оптимальной модели мы выполнили в пайплайне, использовав GridSearchCV для подбора оптимальных гиперпараметров. В пайплайн мы включили предобработку количественных данных (длина текста) с помощью StandardScaler и векторизацию лемматизированного текста, подготовленного на предыдущем этапе, с помощью инструмента TfidfVectorizer. Метрику качества F1 мы считали на кросс-валидационной выборке и с помощью GridSearchCV отобрали модель с лучшим показателем заданной метрики. Мы вывели общие результаты поиска гиперпараметров лучшей модели, чтобы посмотреть как справились наши модели с задачей классификации.\n",
    "\n",
    "Мы видим, что модель RandomForestClassifier() показывает самые низкие значения метрики F1: менее 0.7. Модель RandomForestClassifier() имеет большую сложность за счёт использования большого значения максимальной глубины и работает довольно медленно, хотя и быстрее чем LGBMClassifier(). С помощью модели LGBMClassifier() мы получили метрику качества F1 выше 0.75. При этом модель работает медленнее других моделей и почти в 10 раз медленнее оьбучается на кросс-валидационной выборке по сравнению с моделью PassiveAggressiveClassifier(). Модель PassiveAggressiveClassifier() показывает лучшее значение метрики F1=0.78 на тренировочной выборке. Оптимальные параметры для модели PassiveAggressiveClassifier(): C=0.05, max_iter=50. Кроме того модель работает очень быстро, обучается на порядок быстрее чем RandomForestClassifier() и LGBMClassifier().\n",
    "\n",
    "В заключение мы посчитали метрику F1 для лучшей выбранной модели PassiveAggressiveClassifier() на тестовой выборке и получили значение 0.79. Полученное значение метрики удовлетворяет цели поставленной задачи. Также мы вывели 50 первых входных признаков по важности, мы увидели слова, указывающие на токсичность комментария."
   ]
  },
  {
   "cell_type": "markdown",
   "metadata": {},
   "source": [
    "## Чек-лист проверки"
   ]
  },
  {
   "cell_type": "markdown",
   "metadata": {},
   "source": [
    "- [x]  Jupyter Notebook открыт\n",
    "- [x]  Весь код выполняется без ошибок\n",
    "- [x]  Ячейки с кодом расположены в порядке исполнения\n",
    "- [x]  Данные загружены и подготовлены\n",
    "- [x]  Модели обучены\n",
    "- [x]  Значение метрики *F1* не меньше 0.75\n",
    "- [x]  Выводы написаны"
   ]
  },
  {
   "cell_type": "code",
   "execution_count": null,
   "metadata": {},
   "outputs": [],
   "source": []
  }
 ],
 "metadata": {
  "ExecuteTimeLog": [
   {
    "duration": 2290,
    "start_time": "2025-03-22T17:51:12.618Z"
   },
   {
    "duration": 985,
    "start_time": "2025-03-22T17:53:57.463Z"
   },
   {
    "duration": 13,
    "start_time": "2025-03-22T17:54:13.878Z"
   },
   {
    "duration": 140,
    "start_time": "2025-03-22T17:55:01.702Z"
   },
   {
    "duration": 28,
    "start_time": "2025-03-22T17:55:07.394Z"
   },
   {
    "duration": 21,
    "start_time": "2025-03-22T18:01:54.843Z"
   },
   {
    "duration": 5,
    "start_time": "2025-03-22T18:02:48.454Z"
   },
   {
    "duration": 9,
    "start_time": "2025-03-22T18:03:01.715Z"
   },
   {
    "duration": 6,
    "start_time": "2025-03-22T18:03:50.457Z"
   },
   {
    "duration": 58,
    "start_time": "2025-03-22T19:19:02.870Z"
   },
   {
    "duration": 2356,
    "start_time": "2025-03-22T19:19:15.290Z"
   },
   {
    "duration": 976,
    "start_time": "2025-03-22T19:19:17.648Z"
   },
   {
    "duration": 14,
    "start_time": "2025-03-22T19:19:29.341Z"
   },
   {
    "duration": 34,
    "start_time": "2025-03-22T19:20:03.601Z"
   },
   {
    "duration": 23,
    "start_time": "2025-03-22T19:20:05.205Z"
   },
   {
    "duration": 254,
    "start_time": "2025-03-22T20:19:12.697Z"
   },
   {
    "duration": 2490,
    "start_time": "2025-03-23T16:49:13.350Z"
   },
   {
    "duration": 1026,
    "start_time": "2025-03-23T16:49:17.418Z"
   },
   {
    "duration": 13,
    "start_time": "2025-03-23T16:49:19.153Z"
   },
   {
    "duration": 32,
    "start_time": "2025-03-23T16:49:20.389Z"
   },
   {
    "duration": 22,
    "start_time": "2025-03-23T16:49:21.933Z"
   },
   {
    "duration": 9,
    "start_time": "2025-03-23T16:49:22.924Z"
   },
   {
    "duration": 4512,
    "start_time": "2025-03-23T16:51:10.269Z"
   },
   {
    "duration": 38,
    "start_time": "2025-03-23T16:51:40.474Z"
   },
   {
    "duration": 2047,
    "start_time": "2025-03-23T16:52:25.936Z"
   },
   {
    "duration": 2552,
    "start_time": "2025-03-23T17:01:42.913Z"
   },
   {
    "duration": 987,
    "start_time": "2025-03-23T17:01:45.467Z"
   },
   {
    "duration": 14,
    "start_time": "2025-03-23T17:01:46.455Z"
   },
   {
    "duration": 33,
    "start_time": "2025-03-23T17:01:46.470Z"
   },
   {
    "duration": 18,
    "start_time": "2025-03-23T17:01:46.507Z"
   },
   {
    "duration": 5,
    "start_time": "2025-03-23T17:01:46.527Z"
   },
   {
    "duration": 4724,
    "start_time": "2025-03-23T17:01:46.533Z"
   },
   {
    "duration": 4557,
    "start_time": "2025-03-23T17:15:45.778Z"
   },
   {
    "duration": 4407,
    "start_time": "2025-03-23T17:22:36.659Z"
   },
   {
    "duration": 4,
    "start_time": "2025-03-23T17:23:35.571Z"
   },
   {
    "duration": 23,
    "start_time": "2025-03-23T17:23:40.597Z"
   },
   {
    "duration": 2036,
    "start_time": "2025-03-23T17:24:05.203Z"
   },
   {
    "duration": 17,
    "start_time": "2025-03-23T17:24:08.980Z"
   },
   {
    "duration": 3,
    "start_time": "2025-03-23T18:37:59.828Z"
   },
   {
    "duration": 838,
    "start_time": "2025-03-23T18:38:01.082Z"
   },
   {
    "duration": 7,
    "start_time": "2025-03-23T18:38:03.332Z"
   },
   {
    "duration": 31,
    "start_time": "2025-03-23T18:38:04.609Z"
   },
   {
    "duration": 64,
    "start_time": "2025-03-23T18:38:05.441Z"
   },
   {
    "duration": 6,
    "start_time": "2025-03-23T18:38:06.259Z"
   },
   {
    "duration": 2495,
    "start_time": "2025-03-23T18:38:37.659Z"
   },
   {
    "duration": 1038,
    "start_time": "2025-03-23T18:38:40.156Z"
   },
   {
    "duration": 13,
    "start_time": "2025-03-23T18:38:41.195Z"
   },
   {
    "duration": 38,
    "start_time": "2025-03-23T18:38:41.210Z"
   },
   {
    "duration": 19,
    "start_time": "2025-03-23T18:38:41.250Z"
   },
   {
    "duration": 6,
    "start_time": "2025-03-23T18:38:41.270Z"
   },
   {
    "duration": 172,
    "start_time": "2025-03-23T18:38:41.277Z"
   },
   {
    "duration": 2135,
    "start_time": "2025-03-23T18:39:00.805Z"
   },
   {
    "duration": 3808,
    "start_time": "2025-03-23T18:45:29.379Z"
   },
   {
    "duration": 45,
    "start_time": "2025-03-23T18:45:44.818Z"
   },
   {
    "duration": 20,
    "start_time": "2025-03-23T18:46:17.655Z"
   },
   {
    "duration": 2516,
    "start_time": "2025-03-23T18:55:55.531Z"
   },
   {
    "duration": 993,
    "start_time": "2025-03-23T18:55:58.048Z"
   },
   {
    "duration": 13,
    "start_time": "2025-03-23T18:55:59.043Z"
   },
   {
    "duration": 30,
    "start_time": "2025-03-23T18:55:59.058Z"
   },
   {
    "duration": 24,
    "start_time": "2025-03-23T18:55:59.089Z"
   },
   {
    "duration": 5,
    "start_time": "2025-03-23T18:55:59.114Z"
   },
   {
    "duration": 4513,
    "start_time": "2025-03-23T18:55:59.120Z"
   },
   {
    "duration": 1605,
    "start_time": "2025-03-23T18:56:03.634Z"
   },
   {
    "duration": 21,
    "start_time": "2025-03-23T18:56:05.240Z"
   },
   {
    "duration": 38,
    "start_time": "2025-03-23T18:56:39.126Z"
   },
   {
    "duration": 453,
    "start_time": "2025-03-23T18:56:40.773Z"
   },
   {
    "duration": 44,
    "start_time": "2025-03-23T18:56:42.991Z"
   },
   {
    "duration": 400,
    "start_time": "2025-03-23T19:32:52.978Z"
   },
   {
    "duration": 162,
    "start_time": "2025-03-23T19:32:59.555Z"
   },
   {
    "duration": 11,
    "start_time": "2025-03-23T19:35:49.023Z"
   },
   {
    "duration": 209,
    "start_time": "2025-03-23T19:36:09.614Z"
   },
   {
    "duration": 5723,
    "start_time": "2025-03-23T19:39:44.703Z"
   },
   {
    "duration": 1177,
    "start_time": "2025-03-23T19:40:06.410Z"
   },
   {
    "duration": 2558,
    "start_time": "2025-03-24T09:02:36.875Z"
   },
   {
    "duration": 931,
    "start_time": "2025-03-24T09:02:40.473Z"
   },
   {
    "duration": 14,
    "start_time": "2025-03-24T09:02:48.351Z"
   },
   {
    "duration": 32,
    "start_time": "2025-03-24T09:03:30.904Z"
   },
   {
    "duration": 1748,
    "start_time": "2025-03-24T09:03:32.271Z"
   },
   {
    "duration": 33,
    "start_time": "2025-03-24T09:03:37.373Z"
   },
   {
    "duration": 21,
    "start_time": "2025-03-24T09:03:38.519Z"
   },
   {
    "duration": 6,
    "start_time": "2025-03-24T09:03:42.337Z"
   },
   {
    "duration": 33,
    "start_time": "2025-03-24T09:03:43.750Z"
   },
   {
    "duration": 425,
    "start_time": "2025-03-24T09:03:45.182Z"
   },
   {
    "duration": 5884,
    "start_time": "2025-03-24T09:03:47.023Z"
   },
   {
    "duration": 931,
    "start_time": "2025-03-24T09:03:55.354Z"
   },
   {
    "duration": 906,
    "start_time": "2025-03-24T09:07:39.886Z"
   },
   {
    "duration": 5957,
    "start_time": "2025-03-24T09:16:09.643Z"
   },
   {
    "duration": 926,
    "start_time": "2025-03-24T09:16:19.252Z"
   },
   {
    "duration": 915,
    "start_time": "2025-03-24T09:23:27.287Z"
   },
   {
    "duration": 161,
    "start_time": "2025-03-24T09:25:06.868Z"
   },
   {
    "duration": 4619,
    "start_time": "2025-03-24T09:26:03.776Z"
   },
   {
    "duration": 469,
    "start_time": "2025-03-24T09:26:09.787Z"
   },
   {
    "duration": 11,
    "start_time": "2025-03-24T09:26:13.338Z"
   },
   {
    "duration": 2292,
    "start_time": "2025-03-24T09:35:28.415Z"
   },
   {
    "duration": 12,
    "start_time": "2025-03-24T09:35:52.033Z"
   },
   {
    "duration": 418,
    "start_time": "2025-03-24T09:45:27.472Z"
   },
   {
    "duration": 28,
    "start_time": "2025-03-24T09:46:44.201Z"
   },
   {
    "duration": 4,
    "start_time": "2025-03-24T09:46:54.934Z"
   },
   {
    "duration": 4,
    "start_time": "2025-03-24T09:47:08.949Z"
   },
   {
    "duration": 4,
    "start_time": "2025-03-24T09:47:36.126Z"
   },
   {
    "duration": 4191,
    "start_time": "2025-03-24T09:49:41.764Z"
   },
   {
    "duration": 2550,
    "start_time": "2025-03-24T09:50:23.967Z"
   },
   {
    "duration": 918,
    "start_time": "2025-03-24T09:50:26.519Z"
   },
   {
    "duration": 14,
    "start_time": "2025-03-24T09:50:27.439Z"
   },
   {
    "duration": 44,
    "start_time": "2025-03-24T09:50:27.455Z"
   },
   {
    "duration": 19,
    "start_time": "2025-03-24T09:50:27.501Z"
   },
   {
    "duration": 6,
    "start_time": "2025-03-24T09:50:27.522Z"
   },
   {
    "duration": 46,
    "start_time": "2025-03-24T09:50:27.530Z"
   },
   {
    "duration": 1699,
    "start_time": "2025-03-24T09:50:27.578Z"
   },
   {
    "duration": 4069,
    "start_time": "2025-03-24T09:50:29.278Z"
   },
   {
    "duration": 1317,
    "start_time": "2025-03-24T09:50:33.349Z"
   },
   {
    "duration": 3,
    "start_time": "2025-03-24T09:54:10.830Z"
   },
   {
    "duration": 2580,
    "start_time": "2025-03-24T09:55:24.640Z"
   },
   {
    "duration": 899,
    "start_time": "2025-03-24T09:55:27.222Z"
   },
   {
    "duration": 14,
    "start_time": "2025-03-24T09:55:28.123Z"
   },
   {
    "duration": 42,
    "start_time": "2025-03-24T09:55:28.139Z"
   },
   {
    "duration": 20,
    "start_time": "2025-03-24T09:55:28.183Z"
   },
   {
    "duration": 5,
    "start_time": "2025-03-24T09:55:28.205Z"
   },
   {
    "duration": 36,
    "start_time": "2025-03-24T09:55:28.211Z"
   },
   {
    "duration": 1718,
    "start_time": "2025-03-24T09:55:28.249Z"
   },
   {
    "duration": 4,
    "start_time": "2025-03-24T09:55:29.973Z"
   },
   {
    "duration": 4128,
    "start_time": "2025-03-24T09:55:29.979Z"
   },
   {
    "duration": 4,
    "start_time": "2025-03-24T09:55:34.109Z"
   },
   {
    "duration": 45,
    "start_time": "2025-03-24T10:00:55.956Z"
   },
   {
    "duration": 45,
    "start_time": "2025-03-24T10:01:36.069Z"
   },
   {
    "duration": 2477,
    "start_time": "2025-03-24T10:09:59.528Z"
   },
   {
    "duration": 3,
    "start_time": "2025-03-24T10:10:02.008Z"
   },
   {
    "duration": 962,
    "start_time": "2025-03-24T10:10:02.012Z"
   },
   {
    "duration": 14,
    "start_time": "2025-03-24T10:10:02.975Z"
   },
   {
    "duration": 70,
    "start_time": "2025-03-24T10:10:02.992Z"
   },
   {
    "duration": 42,
    "start_time": "2025-03-24T10:10:03.064Z"
   },
   {
    "duration": 25,
    "start_time": "2025-03-24T10:10:03.108Z"
   },
   {
    "duration": 49,
    "start_time": "2025-03-24T10:10:03.135Z"
   },
   {
    "duration": 1690,
    "start_time": "2025-03-24T10:10:03.185Z"
   },
   {
    "duration": 41,
    "start_time": "2025-03-24T10:10:04.877Z"
   },
   {
    "duration": 4096,
    "start_time": "2025-03-24T10:10:04.919Z"
   },
   {
    "duration": 57,
    "start_time": "2025-03-24T10:10:09.016Z"
   },
   {
    "duration": 47,
    "start_time": "2025-03-24T10:11:21.822Z"
   },
   {
    "duration": 2469,
    "start_time": "2025-03-24T10:11:40.774Z"
   },
   {
    "duration": 3,
    "start_time": "2025-03-24T10:11:43.245Z"
   },
   {
    "duration": 917,
    "start_time": "2025-03-24T10:11:43.249Z"
   },
   {
    "duration": 14,
    "start_time": "2025-03-24T10:11:44.168Z"
   },
   {
    "duration": 31,
    "start_time": "2025-03-24T10:11:44.184Z"
   },
   {
    "duration": 19,
    "start_time": "2025-03-24T10:11:44.217Z"
   },
   {
    "duration": 5,
    "start_time": "2025-03-24T10:11:44.237Z"
   },
   {
    "duration": 59,
    "start_time": "2025-03-24T10:11:44.243Z"
   },
   {
    "duration": 1698,
    "start_time": "2025-03-24T10:11:44.304Z"
   },
   {
    "duration": 42,
    "start_time": "2025-03-24T10:11:46.004Z"
   },
   {
    "duration": 4055,
    "start_time": "2025-03-24T10:11:46.048Z"
   },
   {
    "duration": 45,
    "start_time": "2025-03-24T10:11:50.105Z"
   },
   {
    "duration": 41,
    "start_time": "2025-03-24T10:15:16.408Z"
   },
   {
    "duration": 7,
    "start_time": "2025-03-24T10:15:35.027Z"
   },
   {
    "duration": 5,
    "start_time": "2025-03-24T11:24:56.650Z"
   },
   {
    "duration": 3,
    "start_time": "2025-03-24T11:25:01.173Z"
   },
   {
    "duration": 917,
    "start_time": "2025-03-24T11:25:03.145Z"
   },
   {
    "duration": 8,
    "start_time": "2025-03-24T11:25:05.132Z"
   },
   {
    "duration": 32,
    "start_time": "2025-03-24T11:25:07.657Z"
   },
   {
    "duration": 22,
    "start_time": "2025-03-24T11:25:08.925Z"
   },
   {
    "duration": 6,
    "start_time": "2025-03-24T11:25:10.278Z"
   },
   {
    "duration": 37,
    "start_time": "2025-03-24T11:25:11.752Z"
   },
   {
    "duration": 464,
    "start_time": "2025-03-24T11:25:14.599Z"
   },
   {
    "duration": 37,
    "start_time": "2025-03-24T11:25:16.964Z"
   },
   {
    "duration": 4142,
    "start_time": "2025-03-24T11:25:26.083Z"
   },
   {
    "duration": 42,
    "start_time": "2025-03-24T11:25:37.257Z"
   },
   {
    "duration": 41,
    "start_time": "2025-03-24T11:25:44.114Z"
   },
   {
    "duration": 6,
    "start_time": "2025-03-24T11:25:51.021Z"
   },
   {
    "duration": 182,
    "start_time": "2025-03-24T11:27:12.714Z"
   },
   {
    "duration": 93,
    "start_time": "2025-03-24T11:27:44.851Z"
   },
   {
    "duration": 424,
    "start_time": "2025-03-24T11:30:51.410Z"
   },
   {
    "duration": 5,
    "start_time": "2025-03-24T11:31:16.872Z"
   },
   {
    "duration": 4,
    "start_time": "2025-03-24T11:31:34.856Z"
   },
   {
    "duration": 5,
    "start_time": "2025-03-24T11:31:47.427Z"
   },
   {
    "duration": 2731,
    "start_time": "2025-03-24T11:32:51.890Z"
   },
   {
    "duration": 1170,
    "start_time": "2025-03-24T11:33:02.724Z"
   },
   {
    "duration": 2386,
    "start_time": "2025-03-24T11:33:10.604Z"
   },
   {
    "duration": 2737,
    "start_time": "2025-03-24T11:33:25.360Z"
   },
   {
    "duration": 173,
    "start_time": "2025-03-24T11:33:34.200Z"
   },
   {
    "duration": 2,
    "start_time": "2025-03-24T11:33:45.095Z"
   },
   {
    "duration": 932,
    "start_time": "2025-03-24T11:33:52.545Z"
   },
   {
    "duration": 10,
    "start_time": "2025-03-24T11:33:53.642Z"
   },
   {
    "duration": 35,
    "start_time": "2025-03-24T11:34:02.198Z"
   },
   {
    "duration": 33,
    "start_time": "2025-03-24T11:34:05.823Z"
   },
   {
    "duration": 22,
    "start_time": "2025-03-24T11:34:06.890Z"
   },
   {
    "duration": 6,
    "start_time": "2025-03-24T11:34:07.897Z"
   },
   {
    "duration": 32,
    "start_time": "2025-03-24T11:34:08.934Z"
   },
   {
    "duration": 1703,
    "start_time": "2025-03-24T11:34:10.170Z"
   },
   {
    "duration": 43,
    "start_time": "2025-03-24T11:34:11.875Z"
   },
   {
    "duration": 4078,
    "start_time": "2025-03-24T11:34:14.219Z"
   },
   {
    "duration": 45,
    "start_time": "2025-03-24T11:34:18.299Z"
   },
   {
    "duration": 52,
    "start_time": "2025-03-24T11:34:18.346Z"
   },
   {
    "duration": 7,
    "start_time": "2025-03-24T11:34:21.352Z"
   },
   {
    "duration": 159,
    "start_time": "2025-03-24T11:34:26.925Z"
   },
   {
    "duration": 10,
    "start_time": "2025-03-24T11:34:57.899Z"
   },
   {
    "duration": 22,
    "start_time": "2025-03-24T11:35:44.556Z"
   },
   {
    "duration": 2701,
    "start_time": "2025-03-24T13:29:54.732Z"
   },
   {
    "duration": 2,
    "start_time": "2025-03-24T13:30:03.399Z"
   },
   {
    "duration": 922,
    "start_time": "2025-03-24T13:30:04.748Z"
   },
   {
    "duration": 14,
    "start_time": "2025-03-24T13:30:06.041Z"
   },
   {
    "duration": 32,
    "start_time": "2025-03-24T13:30:07.353Z"
   },
   {
    "duration": 21,
    "start_time": "2025-03-24T13:30:08.694Z"
   },
   {
    "duration": 6,
    "start_time": "2025-03-24T13:30:09.907Z"
   },
   {
    "duration": 31,
    "start_time": "2025-03-24T13:30:11.382Z"
   },
   {
    "duration": 1745,
    "start_time": "2025-03-24T13:30:12.520Z"
   },
   {
    "duration": 38,
    "start_time": "2025-03-24T13:30:14.267Z"
   },
   {
    "duration": 4042,
    "start_time": "2025-03-24T13:30:16.915Z"
   },
   {
    "duration": 50,
    "start_time": "2025-03-24T13:30:20.959Z"
   },
   {
    "duration": 41,
    "start_time": "2025-03-24T13:30:25.074Z"
   },
   {
    "duration": 7,
    "start_time": "2025-03-24T13:30:38.536Z"
   },
   {
    "duration": 4,
    "start_time": "2025-03-24T14:18:30.501Z"
   },
   {
    "duration": 394,
    "start_time": "2025-03-24T14:18:54.620Z"
   },
   {
    "duration": 3,
    "start_time": "2025-03-24T14:19:10.253Z"
   },
   {
    "duration": 924,
    "start_time": "2025-03-24T14:19:11.839Z"
   },
   {
    "duration": 8,
    "start_time": "2025-03-24T14:19:17.194Z"
   },
   {
    "duration": 32,
    "start_time": "2025-03-24T14:19:18.899Z"
   },
   {
    "duration": 20,
    "start_time": "2025-03-24T14:19:20.845Z"
   },
   {
    "duration": 6,
    "start_time": "2025-03-24T14:19:21.028Z"
   },
   {
    "duration": 34,
    "start_time": "2025-03-24T14:19:22.321Z"
   },
   {
    "duration": 475,
    "start_time": "2025-03-24T14:19:23.644Z"
   },
   {
    "duration": 48,
    "start_time": "2025-03-24T14:19:24.646Z"
   },
   {
    "duration": 4116,
    "start_time": "2025-03-24T14:19:26.573Z"
   },
   {
    "duration": 46,
    "start_time": "2025-03-24T14:19:33.528Z"
   },
   {
    "duration": 43,
    "start_time": "2025-03-24T14:19:37.541Z"
   },
   {
    "duration": 7,
    "start_time": "2025-03-24T14:19:38.256Z"
   },
   {
    "duration": 157,
    "start_time": "2025-03-24T14:23:50.528Z"
   },
   {
    "duration": 3,
    "start_time": "2025-03-24T14:24:36.399Z"
   },
   {
    "duration": 10,
    "start_time": "2025-03-24T14:24:44.233Z"
   },
   {
    "duration": 10,
    "start_time": "2025-03-24T14:24:59.712Z"
   },
   {
    "duration": 4,
    "start_time": "2025-03-24T14:25:11.995Z"
   },
   {
    "duration": 4,
    "start_time": "2025-03-24T14:25:53.928Z"
   },
   {
    "duration": 928,
    "start_time": "2025-03-24T14:26:29.842Z"
   },
   {
    "duration": 7,
    "start_time": "2025-03-24T14:26:35.899Z"
   },
   {
    "duration": 32,
    "start_time": "2025-03-24T14:26:42.358Z"
   },
   {
    "duration": 18,
    "start_time": "2025-03-24T14:26:46.754Z"
   },
   {
    "duration": 5,
    "start_time": "2025-03-24T14:26:56.265Z"
   },
   {
    "duration": 34,
    "start_time": "2025-03-24T14:26:57.815Z"
   },
   {
    "duration": 452,
    "start_time": "2025-03-24T14:27:06.186Z"
   },
   {
    "duration": 37,
    "start_time": "2025-03-24T14:27:10.114Z"
   },
   {
    "duration": 4106,
    "start_time": "2025-03-24T14:27:11.601Z"
   },
   {
    "duration": 43,
    "start_time": "2025-03-24T14:27:15.709Z"
   },
   {
    "duration": 41,
    "start_time": "2025-03-24T14:27:17.609Z"
   },
   {
    "duration": 8,
    "start_time": "2025-03-24T14:27:19.597Z"
   },
   {
    "duration": 3,
    "start_time": "2025-03-24T14:43:35.190Z"
   },
   {
    "duration": 40,
    "start_time": "2025-03-24T14:45:23.157Z"
   },
   {
    "duration": 3,
    "start_time": "2025-03-24T14:47:28.686Z"
   },
   {
    "duration": 56,
    "start_time": "2025-03-24T14:47:58.892Z"
   },
   {
    "duration": 45,
    "start_time": "2025-03-24T14:48:33.208Z"
   },
   {
    "duration": 46,
    "start_time": "2025-03-24T14:48:49.638Z"
   },
   {
    "duration": 2763,
    "start_time": "2025-03-24T14:49:33.283Z"
   },
   {
    "duration": 2583,
    "start_time": "2025-03-24T14:49:36.049Z"
   },
   {
    "duration": 246,
    "start_time": "2025-03-24T14:49:38.634Z"
   },
   {
    "duration": 2,
    "start_time": "2025-03-24T14:49:38.882Z"
   },
   {
    "duration": 5,
    "start_time": "2025-03-24T14:49:38.886Z"
   },
   {
    "duration": 3,
    "start_time": "2025-03-24T14:49:38.892Z"
   },
   {
    "duration": 907,
    "start_time": "2025-03-24T14:49:38.896Z"
   },
   {
    "duration": 10,
    "start_time": "2025-03-24T14:49:39.805Z"
   },
   {
    "duration": 27,
    "start_time": "2025-03-24T14:49:39.817Z"
   },
   {
    "duration": 39,
    "start_time": "2025-03-24T14:49:39.846Z"
   },
   {
    "duration": 5,
    "start_time": "2025-03-24T14:49:39.887Z"
   },
   {
    "duration": 31,
    "start_time": "2025-03-24T14:49:39.893Z"
   },
   {
    "duration": 1721,
    "start_time": "2025-03-24T14:49:39.925Z"
   },
   {
    "duration": 49,
    "start_time": "2025-03-24T14:49:41.649Z"
   },
   {
    "duration": 4198,
    "start_time": "2025-03-24T14:49:41.700Z"
   },
   {
    "duration": 45,
    "start_time": "2025-03-24T14:49:45.899Z"
   },
   {
    "duration": 52,
    "start_time": "2025-03-24T14:49:45.946Z"
   },
   {
    "duration": 7,
    "start_time": "2025-03-24T14:49:46.000Z"
   },
   {
    "duration": 6903,
    "start_time": "2025-03-24T14:50:25.842Z"
   },
   {
    "duration": 147,
    "start_time": "2025-03-24T14:50:55.189Z"
   },
   {
    "duration": 3,
    "start_time": "2025-03-24T14:51:00.058Z"
   },
   {
    "duration": 137,
    "start_time": "2025-03-24T15:23:09.021Z"
   },
   {
    "duration": 2409,
    "start_time": "2025-03-24T15:27:03.550Z"
   },
   {
    "duration": 2572,
    "start_time": "2025-03-24T15:27:05.962Z"
   },
   {
    "duration": 241,
    "start_time": "2025-03-24T15:27:08.536Z"
   },
   {
    "duration": 2,
    "start_time": "2025-03-24T15:27:08.778Z"
   },
   {
    "duration": 6,
    "start_time": "2025-03-24T15:27:08.782Z"
   },
   {
    "duration": 2,
    "start_time": "2025-03-24T15:27:08.789Z"
   },
   {
    "duration": 902,
    "start_time": "2025-03-24T15:27:08.792Z"
   },
   {
    "duration": 9,
    "start_time": "2025-03-24T15:27:09.696Z"
   },
   {
    "duration": 34,
    "start_time": "2025-03-24T15:27:09.707Z"
   },
   {
    "duration": 46,
    "start_time": "2025-03-24T15:27:09.742Z"
   },
   {
    "duration": 6,
    "start_time": "2025-03-24T15:27:09.789Z"
   },
   {
    "duration": 37,
    "start_time": "2025-03-24T15:27:09.796Z"
   },
   {
    "duration": 1755,
    "start_time": "2025-03-24T15:27:09.834Z"
   },
   {
    "duration": 44,
    "start_time": "2025-03-24T15:27:11.591Z"
   },
   {
    "duration": 4091,
    "start_time": "2025-03-24T15:27:11.636Z"
   },
   {
    "duration": 53,
    "start_time": "2025-03-24T15:27:15.729Z"
   },
   {
    "duration": 30,
    "start_time": "2025-03-24T15:27:15.784Z"
   },
   {
    "duration": 15,
    "start_time": "2025-03-24T15:27:15.815Z"
   },
   {
    "duration": 6732,
    "start_time": "2025-03-24T15:27:15.832Z"
   },
   {
    "duration": 9,
    "start_time": "2025-03-24T15:27:22.565Z"
   },
   {
    "duration": 19446,
    "start_time": "2025-03-24T15:32:30.246Z"
   },
   {
    "duration": 168,
    "start_time": "2025-03-24T15:33:36.817Z"
   },
   {
    "duration": 2368,
    "start_time": "2025-03-24T15:34:27.362Z"
   },
   {
    "duration": 2833,
    "start_time": "2025-03-24T15:34:29.732Z"
   },
   {
    "duration": 164,
    "start_time": "2025-03-24T15:34:32.567Z"
   },
   {
    "duration": 2,
    "start_time": "2025-03-24T15:34:32.734Z"
   },
   {
    "duration": 28,
    "start_time": "2025-03-24T15:34:32.739Z"
   },
   {
    "duration": 24,
    "start_time": "2025-03-24T15:34:32.769Z"
   },
   {
    "duration": 941,
    "start_time": "2025-03-24T15:34:32.794Z"
   },
   {
    "duration": 10,
    "start_time": "2025-03-24T15:34:33.737Z"
   },
   {
    "duration": 41,
    "start_time": "2025-03-24T15:34:33.748Z"
   },
   {
    "duration": 35,
    "start_time": "2025-03-24T15:34:33.791Z"
   },
   {
    "duration": 5,
    "start_time": "2025-03-24T15:34:33.828Z"
   },
   {
    "duration": 32,
    "start_time": "2025-03-24T15:34:33.835Z"
   },
   {
    "duration": 1777,
    "start_time": "2025-03-24T15:34:33.874Z"
   },
   {
    "duration": 50,
    "start_time": "2025-03-24T15:34:35.653Z"
   },
   {
    "duration": 4114,
    "start_time": "2025-03-24T15:34:35.704Z"
   },
   {
    "duration": 40,
    "start_time": "2025-03-24T15:34:39.820Z"
   },
   {
    "duration": 30,
    "start_time": "2025-03-24T15:34:39.873Z"
   },
   {
    "duration": 10,
    "start_time": "2025-03-24T15:34:39.905Z"
   },
   {
    "duration": 6920,
    "start_time": "2025-03-24T15:34:39.919Z"
   },
   {
    "duration": 20082,
    "start_time": "2025-03-24T15:34:46.841Z"
   },
   {
    "duration": 169,
    "start_time": "2025-03-24T15:38:02.494Z"
   },
   {
    "duration": 1124,
    "start_time": "2025-03-24T15:43:53.371Z"
   },
   {
    "duration": 1086,
    "start_time": "2025-03-24T15:44:48.110Z"
   },
   {
    "duration": 17,
    "start_time": "2025-03-24T15:45:24.477Z"
   },
   {
    "duration": 14,
    "start_time": "2025-03-24T15:45:35.420Z"
   },
   {
    "duration": 6938,
    "start_time": "2025-03-24T15:47:49.479Z"
   },
   {
    "duration": 19756,
    "start_time": "2025-03-24T15:47:59.655Z"
   },
   {
    "duration": 1087,
    "start_time": "2025-03-24T15:48:49.678Z"
   },
   {
    "duration": 14,
    "start_time": "2025-03-24T15:48:53.398Z"
   },
   {
    "duration": 35760,
    "start_time": "2025-03-24T15:50:36.629Z"
   },
   {
    "duration": 50702,
    "start_time": "2025-03-24T15:51:18.587Z"
   },
   {
    "duration": 2958,
    "start_time": "2025-03-24T15:52:14.271Z"
   },
   {
    "duration": 12,
    "start_time": "2025-03-24T15:52:19.074Z"
   },
   {
    "duration": 11,
    "start_time": "2025-03-24T15:53:10.844Z"
   },
   {
    "duration": 10,
    "start_time": "2025-03-24T15:54:05.013Z"
   },
   {
    "duration": 4,
    "start_time": "2025-03-24T15:54:13.207Z"
   },
   {
    "duration": 95949,
    "start_time": "2025-03-24T15:57:28.158Z"
   },
   {
    "duration": 1039,
    "start_time": "2025-03-24T15:59:12.671Z"
   },
   {
    "duration": 13,
    "start_time": "2025-03-24T15:59:19.134Z"
   },
   {
    "duration": 83,
    "start_time": "2025-03-24T16:12:36.740Z"
   },
   {
    "duration": 408087,
    "start_time": "2025-03-24T16:12:46.929Z"
   },
   {
    "duration": 206121,
    "start_time": "2025-03-24T16:19:37.282Z"
   },
   {
    "duration": 4366,
    "start_time": "2025-03-24T16:23:06.048Z"
   },
   {
    "duration": 4275,
    "start_time": "2025-03-24T16:23:40.543Z"
   },
   {
    "duration": 2358,
    "start_time": "2025-03-24T16:24:03.283Z"
   },
   {
    "duration": 2786,
    "start_time": "2025-03-24T16:24:05.644Z"
   },
   {
    "duration": 163,
    "start_time": "2025-03-24T16:24:08.432Z"
   },
   {
    "duration": 3,
    "start_time": "2025-03-24T16:24:08.597Z"
   },
   {
    "duration": 19,
    "start_time": "2025-03-24T16:24:08.602Z"
   },
   {
    "duration": 17,
    "start_time": "2025-03-24T16:24:08.622Z"
   },
   {
    "duration": 924,
    "start_time": "2025-03-24T16:24:08.640Z"
   },
   {
    "duration": 15,
    "start_time": "2025-03-24T16:24:09.566Z"
   },
   {
    "duration": 50,
    "start_time": "2025-03-24T16:24:09.582Z"
   },
   {
    "duration": 20,
    "start_time": "2025-03-24T16:24:09.634Z"
   },
   {
    "duration": 17,
    "start_time": "2025-03-24T16:24:09.656Z"
   },
   {
    "duration": 32,
    "start_time": "2025-03-24T16:24:09.675Z"
   },
   {
    "duration": 1735,
    "start_time": "2025-03-24T16:24:09.708Z"
   },
   {
    "duration": 46,
    "start_time": "2025-03-24T16:24:11.446Z"
   },
   {
    "duration": 4152,
    "start_time": "2025-03-24T16:24:11.494Z"
   },
   {
    "duration": 46,
    "start_time": "2025-03-24T16:24:15.647Z"
   },
   {
    "duration": 28,
    "start_time": "2025-03-24T16:24:15.695Z"
   },
   {
    "duration": 7,
    "start_time": "2025-03-24T16:24:15.725Z"
   },
   {
    "duration": 6782,
    "start_time": "2025-03-24T16:24:15.733Z"
   },
   {
    "duration": 98739,
    "start_time": "2025-03-24T16:24:22.517Z"
   },
   {
    "duration": 1048,
    "start_time": "2025-03-24T16:26:01.274Z"
   },
   {
    "duration": 12,
    "start_time": "2025-03-24T16:26:02.324Z"
   },
   {
    "duration": 4541,
    "start_time": "2025-03-24T16:26:02.337Z"
   },
   {
    "duration": 5958,
    "start_time": "2025-03-24T16:35:05.123Z"
   },
   {
    "duration": 14567,
    "start_time": "2025-03-24T16:36:03.725Z"
   },
   {
    "duration": 2415,
    "start_time": "2025-03-24T16:37:32.294Z"
   },
   {
    "duration": 2608,
    "start_time": "2025-03-24T16:37:34.711Z"
   },
   {
    "duration": 170,
    "start_time": "2025-03-24T16:37:37.321Z"
   },
   {
    "duration": 2,
    "start_time": "2025-03-24T16:37:37.493Z"
   },
   {
    "duration": 8,
    "start_time": "2025-03-24T16:37:37.497Z"
   },
   {
    "duration": 9,
    "start_time": "2025-03-24T16:37:37.507Z"
   },
   {
    "duration": 951,
    "start_time": "2025-03-24T16:37:37.517Z"
   },
   {
    "duration": 10,
    "start_time": "2025-03-24T16:37:38.470Z"
   },
   {
    "duration": 28,
    "start_time": "2025-03-24T16:37:38.481Z"
   },
   {
    "duration": 19,
    "start_time": "2025-03-24T16:37:38.510Z"
   },
   {
    "duration": 5,
    "start_time": "2025-03-24T16:37:38.530Z"
   },
   {
    "duration": 59,
    "start_time": "2025-03-24T16:37:38.537Z"
   },
   {
    "duration": 1737,
    "start_time": "2025-03-24T16:37:38.597Z"
   },
   {
    "duration": 50,
    "start_time": "2025-03-24T16:37:40.338Z"
   },
   {
    "duration": 4136,
    "start_time": "2025-03-24T16:37:40.391Z"
   },
   {
    "duration": 54,
    "start_time": "2025-03-24T16:37:44.528Z"
   },
   {
    "duration": 51,
    "start_time": "2025-03-24T16:37:44.584Z"
   },
   {
    "duration": 7,
    "start_time": "2025-03-24T16:37:44.637Z"
   },
   {
    "duration": 6798,
    "start_time": "2025-03-24T16:37:44.645Z"
   },
   {
    "duration": 106045,
    "start_time": "2025-03-24T16:37:51.445Z"
   },
   {
    "duration": 1006,
    "start_time": "2025-03-24T16:39:37.491Z"
   },
   {
    "duration": 12,
    "start_time": "2025-03-24T16:39:38.499Z"
   },
   {
    "duration": 14312,
    "start_time": "2025-03-24T16:39:38.512Z"
   },
   {
    "duration": 13849,
    "start_time": "2025-03-24T16:54:03.636Z"
   },
   {
    "duration": 97664,
    "start_time": "2025-03-24T16:54:27.783Z"
   },
   {
    "duration": 1038,
    "start_time": "2025-03-24T16:56:11.885Z"
   },
   {
    "duration": 13,
    "start_time": "2025-03-24T16:56:15.131Z"
   },
   {
    "duration": 3683,
    "start_time": "2025-03-24T16:56:22.945Z"
   },
   {
    "duration": 402568,
    "start_time": "2025-03-24T16:56:35.138Z"
   },
   {
    "duration": 479854,
    "start_time": "2025-03-24T17:48:52.262Z"
   },
   {
    "duration": 101743,
    "start_time": "2025-03-24T18:04:44.144Z"
   },
   {
    "duration": 1086,
    "start_time": "2025-03-24T18:07:51.913Z"
   },
   {
    "duration": 13,
    "start_time": "2025-03-24T18:07:54.635Z"
   },
   {
    "duration": 13,
    "start_time": "2025-03-24T18:08:13.041Z"
   },
   {
    "duration": 99601,
    "start_time": "2025-03-24T18:08:23.892Z"
   },
   {
    "duration": 1125,
    "start_time": "2025-03-24T18:28:52.762Z"
   },
   {
    "duration": 12,
    "start_time": "2025-03-24T18:29:00.121Z"
   },
   {
    "duration": 99137,
    "start_time": "2025-03-24T18:29:08.641Z"
   },
   {
    "duration": 1049,
    "start_time": "2025-03-24T18:41:40.948Z"
   },
   {
    "duration": 13,
    "start_time": "2025-03-24T18:41:43.356Z"
   },
   {
    "duration": 12,
    "start_time": "2025-03-24T18:41:56.293Z"
   },
   {
    "duration": 11,
    "start_time": "2025-03-24T18:53:33.339Z"
   },
   {
    "duration": 15,
    "start_time": "2025-03-24T18:54:01.687Z"
   },
   {
    "duration": 5,
    "start_time": "2025-03-24T18:54:10.476Z"
   },
   {
    "duration": 93987,
    "start_time": "2025-03-24T18:54:37.468Z"
   },
   {
    "duration": 138784,
    "start_time": "2025-03-24T18:56:34.283Z"
   },
   {
    "duration": 930250,
    "start_time": "2025-03-24T19:01:10.855Z"
   },
   {
    "duration": 2534,
    "start_time": "2025-03-25T07:11:45.519Z"
   },
   {
    "duration": 2508,
    "start_time": "2025-03-25T07:11:48.056Z"
   },
   {
    "duration": 349,
    "start_time": "2025-03-25T07:11:50.565Z"
   },
   {
    "duration": 3,
    "start_time": "2025-03-25T07:11:50.917Z"
   },
   {
    "duration": 4,
    "start_time": "2025-03-25T07:11:50.922Z"
   },
   {
    "duration": 9,
    "start_time": "2025-03-25T07:11:50.928Z"
   },
   {
    "duration": 931,
    "start_time": "2025-03-25T07:11:50.939Z"
   },
   {
    "duration": 10,
    "start_time": "2025-03-25T07:11:51.872Z"
   },
   {
    "duration": 42,
    "start_time": "2025-03-25T07:11:51.883Z"
   },
   {
    "duration": 42,
    "start_time": "2025-03-25T07:11:51.927Z"
   },
   {
    "duration": 29,
    "start_time": "2025-03-25T07:11:51.971Z"
   },
   {
    "duration": 40,
    "start_time": "2025-03-25T07:11:52.002Z"
   },
   {
    "duration": 1645,
    "start_time": "2025-03-25T07:11:52.044Z"
   },
   {
    "duration": 45,
    "start_time": "2025-03-25T07:11:53.691Z"
   },
   {
    "duration": 3880,
    "start_time": "2025-03-25T07:11:53.738Z"
   },
   {
    "duration": 42,
    "start_time": "2025-03-25T07:11:57.619Z"
   },
   {
    "duration": 50,
    "start_time": "2025-03-25T07:11:57.663Z"
   },
   {
    "duration": 7,
    "start_time": "2025-03-25T07:11:57.714Z"
   },
   {
    "duration": 6639,
    "start_time": "2025-03-25T07:11:57.722Z"
   },
   {
    "duration": 117561,
    "start_time": "2025-03-25T07:12:04.362Z"
   },
   {
    "duration": 1724,
    "start_time": "2025-03-25T07:14:01.924Z"
   },
   {
    "duration": 12,
    "start_time": "2025-03-25T07:14:03.649Z"
   },
   {
    "duration": 1237647,
    "start_time": "2025-03-25T07:14:03.663Z"
   },
   {
    "duration": 1118969,
    "start_time": "2025-03-25T08:03:03.825Z"
   },
   {
    "duration": 0,
    "start_time": "2025-03-25T08:43:54.950Z"
   },
   {
    "duration": 2231,
    "start_time": "2025-03-25T09:26:33.997Z"
   },
   {
    "duration": 2498,
    "start_time": "2025-03-25T09:26:36.230Z"
   },
   {
    "duration": 197,
    "start_time": "2025-03-25T09:26:38.730Z"
   },
   {
    "duration": 3,
    "start_time": "2025-03-25T09:26:38.928Z"
   },
   {
    "duration": 5,
    "start_time": "2025-03-25T09:26:38.933Z"
   },
   {
    "duration": 4,
    "start_time": "2025-03-25T09:26:38.939Z"
   },
   {
    "duration": 893,
    "start_time": "2025-03-25T09:26:38.945Z"
   },
   {
    "duration": 9,
    "start_time": "2025-03-25T09:26:39.840Z"
   },
   {
    "duration": 33,
    "start_time": "2025-03-25T09:26:39.850Z"
   },
   {
    "duration": 36,
    "start_time": "2025-03-25T09:26:39.884Z"
   },
   {
    "duration": 5,
    "start_time": "2025-03-25T09:26:39.922Z"
   },
   {
    "duration": 30,
    "start_time": "2025-03-25T09:26:39.928Z"
   },
   {
    "duration": 1602,
    "start_time": "2025-03-25T09:26:39.959Z"
   },
   {
    "duration": 44,
    "start_time": "2025-03-25T09:26:41.563Z"
   },
   {
    "duration": 3885,
    "start_time": "2025-03-25T09:26:41.609Z"
   },
   {
    "duration": 48,
    "start_time": "2025-03-25T09:26:45.496Z"
   },
   {
    "duration": 45,
    "start_time": "2025-03-25T09:26:45.546Z"
   },
   {
    "duration": 16,
    "start_time": "2025-03-25T09:26:45.592Z"
   },
   {
    "duration": 6516,
    "start_time": "2025-03-25T09:26:45.610Z"
   },
   {
    "duration": 115979,
    "start_time": "2025-03-25T09:26:52.128Z"
   },
   {
    "duration": 1833,
    "start_time": "2025-03-25T09:28:48.109Z"
   },
   {
    "duration": 14,
    "start_time": "2025-03-25T09:28:49.944Z"
   },
   {
    "duration": 186,
    "start_time": "2025-03-25T09:28:49.959Z"
   },
   {
    "duration": 12,
    "start_time": "2025-03-25T09:29:19.024Z"
   },
   {
    "duration": 17434,
    "start_time": "2025-03-25T09:29:50.616Z"
   },
   {
    "duration": 17262,
    "start_time": "2025-03-25T09:34:20.261Z"
   },
   {
    "duration": 13526,
    "start_time": "2025-03-25T09:36:39.402Z"
   },
   {
    "duration": 27884,
    "start_time": "2025-03-25T09:37:10.538Z"
   },
   {
    "duration": 35645,
    "start_time": "2025-03-25T09:38:04.586Z"
   },
   {
    "duration": 89298,
    "start_time": "2025-03-25T09:38:50.557Z"
   },
   {
    "duration": 17493,
    "start_time": "2025-03-25T09:41:59.575Z"
   },
   {
    "duration": 66732,
    "start_time": "2025-03-25T09:42:30.287Z"
   },
   {
    "duration": 90375,
    "start_time": "2025-03-25T09:47:23.123Z"
   },
   {
    "duration": 118293,
    "start_time": "2025-03-25T09:49:11.057Z"
   },
   {
    "duration": 92559,
    "start_time": "2025-03-25T09:52:34.313Z"
   },
   {
    "duration": 28762,
    "start_time": "2025-03-25T09:55:25.647Z"
   },
   {
    "duration": 265352,
    "start_time": "2025-03-25T09:57:04.618Z"
   },
   {
    "duration": 88227,
    "start_time": "2025-03-25T10:01:39.058Z"
   },
   {
    "duration": 178820,
    "start_time": "2025-03-25T10:04:12.452Z"
   },
   {
    "duration": 442605,
    "start_time": "2025-03-25T10:07:21.885Z"
   },
   {
    "duration": 137,
    "start_time": "2025-03-25T10:28:36.555Z"
   },
   {
    "duration": 187,
    "start_time": "2025-03-25T10:28:47.000Z"
   },
   {
    "duration": 89989,
    "start_time": "2025-03-25T10:33:22.013Z"
   },
   {
    "duration": 175,
    "start_time": "2025-03-25T10:36:55.448Z"
   },
   {
    "duration": 78213,
    "start_time": "2025-03-25T10:37:24.334Z"
   },
   {
    "duration": 87714,
    "start_time": "2025-03-25T10:41:44.485Z"
   },
   {
    "duration": 3053,
    "start_time": "2025-03-25T10:44:10.829Z"
   },
   {
    "duration": 13944,
    "start_time": "2025-03-25T10:44:19.617Z"
   },
   {
    "duration": 114719,
    "start_time": "2025-03-25T10:44:53.166Z"
   },
   {
    "duration": 113919,
    "start_time": "2025-03-25T10:48:55.795Z"
   },
   {
    "duration": 83601,
    "start_time": "2025-03-25T10:54:39.224Z"
   },
   {
    "duration": 497116,
    "start_time": "2025-03-25T11:00:41.472Z"
   },
   {
    "duration": 3655,
    "start_time": "2025-03-25T11:09:15.435Z"
   },
   {
    "duration": 3911,
    "start_time": "2025-03-25T11:09:27.501Z"
   },
   {
    "duration": 223,
    "start_time": "2025-03-25T11:09:40.553Z"
   },
   {
    "duration": 211,
    "start_time": "2025-03-25T11:09:46.732Z"
   },
   {
    "duration": 3870,
    "start_time": "2025-03-25T11:09:56.849Z"
   },
   {
    "duration": 82808,
    "start_time": "2025-03-25T11:10:11.386Z"
   },
   {
    "duration": 107411,
    "start_time": "2025-03-25T11:13:39.556Z"
   },
   {
    "duration": 1268,
    "start_time": "2025-03-25T11:15:47.948Z"
   },
   {
    "duration": 12,
    "start_time": "2025-03-25T11:15:54.809Z"
   },
   {
    "duration": 102701,
    "start_time": "2025-03-25T11:16:06.515Z"
   },
   {
    "duration": 1412,
    "start_time": "2025-03-25T11:26:16.995Z"
   },
   {
    "duration": 11,
    "start_time": "2025-03-25T11:26:23.382Z"
   },
   {
    "duration": 2240,
    "start_time": "2025-03-25T11:26:50.693Z"
   },
   {
    "duration": 2512,
    "start_time": "2025-03-25T11:26:52.936Z"
   },
   {
    "duration": 168,
    "start_time": "2025-03-25T11:26:55.450Z"
   },
   {
    "duration": 2,
    "start_time": "2025-03-25T11:26:55.620Z"
   },
   {
    "duration": 5,
    "start_time": "2025-03-25T11:26:55.624Z"
   },
   {
    "duration": 14,
    "start_time": "2025-03-25T11:26:55.630Z"
   },
   {
    "duration": 881,
    "start_time": "2025-03-25T11:26:55.645Z"
   },
   {
    "duration": 9,
    "start_time": "2025-03-25T11:26:56.528Z"
   },
   {
    "duration": 34,
    "start_time": "2025-03-25T11:26:56.538Z"
   },
   {
    "duration": 44,
    "start_time": "2025-03-25T11:26:56.574Z"
   },
   {
    "duration": 5,
    "start_time": "2025-03-25T11:26:56.620Z"
   },
   {
    "duration": 33,
    "start_time": "2025-03-25T11:26:56.626Z"
   },
   {
    "duration": 1645,
    "start_time": "2025-03-25T11:26:56.661Z"
   },
   {
    "duration": 42,
    "start_time": "2025-03-25T11:26:58.309Z"
   },
   {
    "duration": 3960,
    "start_time": "2025-03-25T11:26:58.353Z"
   },
   {
    "duration": 47,
    "start_time": "2025-03-25T11:27:02.314Z"
   },
   {
    "duration": 89,
    "start_time": "2025-03-25T11:27:02.363Z"
   },
   {
    "duration": 10,
    "start_time": "2025-03-25T11:27:02.454Z"
   },
   {
    "duration": 6140,
    "start_time": "2025-03-25T11:27:02.466Z"
   },
   {
    "duration": 103742,
    "start_time": "2025-03-25T11:27:08.608Z"
   },
   {
    "duration": 1375,
    "start_time": "2025-03-25T11:28:52.352Z"
   },
   {
    "duration": 11,
    "start_time": "2025-03-25T11:28:53.729Z"
   },
   {
    "duration": 97327,
    "start_time": "2025-03-25T11:34:16.227Z"
   },
   {
    "duration": 1232,
    "start_time": "2025-03-25T11:36:47.429Z"
   },
   {
    "duration": 13,
    "start_time": "2025-03-25T11:36:49.830Z"
   },
   {
    "duration": 90396,
    "start_time": "2025-03-25T11:37:06.232Z"
   },
   {
    "duration": 1031,
    "start_time": "2025-03-25T11:38:46.304Z"
   },
   {
    "duration": 12,
    "start_time": "2025-03-25T11:38:48.422Z"
   },
   {
    "duration": 91114,
    "start_time": "2025-03-25T11:39:04.701Z"
   },
   {
    "duration": 940,
    "start_time": "2025-03-25T11:42:12.525Z"
   },
   {
    "duration": 13,
    "start_time": "2025-03-25T11:42:14.401Z"
   },
   {
    "duration": 75509,
    "start_time": "2025-03-25T11:42:38.361Z"
   },
   {
    "duration": 558,
    "start_time": "2025-03-25T11:43:53.872Z"
   },
   {
    "duration": 13,
    "start_time": "2025-03-25T11:43:54.431Z"
   },
   {
    "duration": 73840,
    "start_time": "2025-03-25T11:50:40.294Z"
   },
   {
    "duration": 607,
    "start_time": "2025-03-25T11:51:54.136Z"
   },
   {
    "duration": 65,
    "start_time": "2025-03-25T11:51:54.745Z"
   },
   {
    "duration": 83623,
    "start_time": "2025-03-25T11:52:39.330Z"
   },
   {
    "duration": 855,
    "start_time": "2025-03-25T11:54:02.955Z"
   },
   {
    "duration": 12,
    "start_time": "2025-03-25T11:54:03.812Z"
   },
   {
    "duration": 102736,
    "start_time": "2025-03-25T11:56:14.701Z"
   },
   {
    "duration": 1086,
    "start_time": "2025-03-25T11:57:57.440Z"
   },
   {
    "duration": 12,
    "start_time": "2025-03-25T11:57:58.528Z"
   },
   {
    "duration": 97681,
    "start_time": "2025-03-25T11:58:50.972Z"
   },
   {
    "duration": 1072,
    "start_time": "2025-03-25T12:00:28.655Z"
   },
   {
    "duration": 11,
    "start_time": "2025-03-25T12:00:29.729Z"
   },
   {
    "duration": 105348,
    "start_time": "2025-03-25T12:00:56.089Z"
   },
   {
    "duration": 1421,
    "start_time": "2025-03-25T12:02:41.439Z"
   },
   {
    "duration": 13,
    "start_time": "2025-03-25T12:02:42.861Z"
   },
   {
    "duration": 105855,
    "start_time": "2025-03-25T12:03:23.530Z"
   },
   {
    "duration": 1670,
    "start_time": "2025-03-25T12:05:09.386Z"
   },
   {
    "duration": 12,
    "start_time": "2025-03-25T12:05:11.058Z"
   },
   {
    "duration": 105276,
    "start_time": "2025-03-25T12:05:40.673Z"
   },
   {
    "duration": 1007,
    "start_time": "2025-03-25T12:07:25.951Z"
   },
   {
    "duration": 13,
    "start_time": "2025-03-25T12:07:26.959Z"
   },
   {
    "duration": 92482,
    "start_time": "2025-03-25T12:10:21.654Z"
   },
   {
    "duration": 1089,
    "start_time": "2025-03-25T12:11:54.137Z"
   },
   {
    "duration": 13,
    "start_time": "2025-03-25T12:11:55.227Z"
   },
   {
    "duration": 154,
    "start_time": "2025-03-25T15:06:10.390Z"
   },
   {
    "duration": 5,
    "start_time": "2025-03-25T15:06:23.993Z"
   },
   {
    "duration": 5,
    "start_time": "2025-03-25T15:06:33.418Z"
   },
   {
    "duration": 6,
    "start_time": "2025-03-25T15:06:45.388Z"
   },
   {
    "duration": 5,
    "start_time": "2025-03-25T15:09:33.094Z"
   },
   {
    "duration": 12,
    "start_time": "2025-03-25T15:18:20.736Z"
   },
   {
    "duration": 7,
    "start_time": "2025-03-25T15:18:39.617Z"
   },
   {
    "duration": 13,
    "start_time": "2025-03-25T15:18:49.681Z"
   },
   {
    "duration": 31,
    "start_time": "2025-03-25T15:19:13.630Z"
   },
   {
    "duration": 147,
    "start_time": "2025-03-25T15:19:44.379Z"
   },
   {
    "duration": 6503,
    "start_time": "2025-03-25T15:20:10.684Z"
   },
   {
    "duration": 88480,
    "start_time": "2025-03-25T15:20:20.663Z"
   },
   {
    "duration": 890,
    "start_time": "2025-03-25T15:23:08.276Z"
   },
   {
    "duration": 13,
    "start_time": "2025-03-25T15:23:10.377Z"
   },
   {
    "duration": 93016,
    "start_time": "2025-03-25T15:23:20.621Z"
   },
   {
    "duration": 1050,
    "start_time": "2025-03-25T15:25:01.681Z"
   },
   {
    "duration": 74,
    "start_time": "2025-03-25T15:25:02.733Z"
   },
   {
    "duration": 94516,
    "start_time": "2025-03-25T15:25:15.371Z"
   },
   {
    "duration": 1231,
    "start_time": "2025-03-25T15:26:49.906Z"
   },
   {
    "duration": 68,
    "start_time": "2025-03-25T15:26:51.139Z"
   },
   {
    "duration": 91938,
    "start_time": "2025-03-25T15:27:07.596Z"
   },
   {
    "duration": 1109,
    "start_time": "2025-03-25T15:28:39.536Z"
   },
   {
    "duration": 73,
    "start_time": "2025-03-25T15:28:40.646Z"
   },
   {
    "duration": 92614,
    "start_time": "2025-03-25T15:32:11.955Z"
   },
   {
    "duration": 1165,
    "start_time": "2025-03-25T15:33:44.571Z"
   },
   {
    "duration": 13,
    "start_time": "2025-03-25T15:33:45.738Z"
   },
   {
    "duration": 103504,
    "start_time": "2025-03-25T15:38:39.429Z"
   },
   {
    "duration": 1572,
    "start_time": "2025-03-25T15:40:22.935Z"
   },
   {
    "duration": 13,
    "start_time": "2025-03-25T15:40:24.508Z"
   },
   {
    "duration": 115499,
    "start_time": "2025-03-25T15:45:58.337Z"
   },
   {
    "duration": 1714,
    "start_time": "2025-03-25T15:47:53.837Z"
   },
   {
    "duration": 12,
    "start_time": "2025-03-25T15:47:55.553Z"
   },
   {
    "duration": 115402,
    "start_time": "2025-03-25T15:48:59.333Z"
   },
   {
    "duration": 1799,
    "start_time": "2025-03-25T15:50:54.736Z"
   },
   {
    "duration": 12,
    "start_time": "2025-03-25T15:50:56.536Z"
   },
   {
    "duration": 2294,
    "start_time": "2025-03-25T15:53:43.017Z"
   },
   {
    "duration": 2662,
    "start_time": "2025-03-25T15:53:45.313Z"
   },
   {
    "duration": 254,
    "start_time": "2025-03-25T15:53:47.977Z"
   },
   {
    "duration": 2,
    "start_time": "2025-03-25T15:53:48.233Z"
   },
   {
    "duration": 9,
    "start_time": "2025-03-25T15:53:48.237Z"
   },
   {
    "duration": 2,
    "start_time": "2025-03-25T15:53:48.247Z"
   },
   {
    "duration": 907,
    "start_time": "2025-03-25T15:53:48.251Z"
   },
   {
    "duration": 10,
    "start_time": "2025-03-25T15:53:49.160Z"
   },
   {
    "duration": 52,
    "start_time": "2025-03-25T15:53:49.172Z"
   },
   {
    "duration": 36,
    "start_time": "2025-03-25T15:53:49.227Z"
   },
   {
    "duration": 16,
    "start_time": "2025-03-25T15:53:49.264Z"
   },
   {
    "duration": 67,
    "start_time": "2025-03-25T15:53:49.281Z"
   },
   {
    "duration": 1750,
    "start_time": "2025-03-25T15:53:49.349Z"
   },
   {
    "duration": 55,
    "start_time": "2025-03-25T15:53:51.101Z"
   },
   {
    "duration": 3879,
    "start_time": "2025-03-25T15:53:51.158Z"
   },
   {
    "duration": 43,
    "start_time": "2025-03-25T15:53:55.039Z"
   },
   {
    "duration": 49,
    "start_time": "2025-03-25T15:53:55.084Z"
   },
   {
    "duration": 13,
    "start_time": "2025-03-25T15:53:55.135Z"
   },
   {
    "duration": 5,
    "start_time": "2025-03-25T15:53:55.149Z"
   },
   {
    "duration": 138,
    "start_time": "2025-03-25T15:53:55.155Z"
   },
   {
    "duration": 157,
    "start_time": "2025-03-25T15:53:55.294Z"
   },
   {
    "duration": 0,
    "start_time": "2025-03-25T15:53:55.452Z"
   },
   {
    "duration": 0,
    "start_time": "2025-03-25T15:53:55.454Z"
   },
   {
    "duration": 0,
    "start_time": "2025-03-25T15:53:55.455Z"
   },
   {
    "duration": 6408,
    "start_time": "2025-03-25T15:56:34.274Z"
   },
   {
    "duration": 107458,
    "start_time": "2025-03-25T15:56:45.376Z"
   },
   {
    "duration": 1510,
    "start_time": "2025-03-25T15:58:32.836Z"
   },
   {
    "duration": 13,
    "start_time": "2025-03-25T15:58:34.347Z"
   },
   {
    "duration": 105783,
    "start_time": "2025-03-25T16:00:06.547Z"
   },
   {
    "duration": 1594,
    "start_time": "2025-03-25T16:01:52.332Z"
   },
   {
    "duration": 12,
    "start_time": "2025-03-25T16:01:53.928Z"
   },
   {
    "duration": 88053,
    "start_time": "2025-03-25T16:01:53.941Z"
   },
   {
    "duration": 5,
    "start_time": "2025-03-25T16:11:37.259Z"
   },
   {
    "duration": 331,
    "start_time": "2025-03-25T16:13:58.358Z"
   },
   {
    "duration": 28,
    "start_time": "2025-03-25T16:14:02.556Z"
   },
   {
    "duration": 288,
    "start_time": "2025-03-25T16:14:57.413Z"
   },
   {
    "duration": 15,
    "start_time": "2025-03-25T16:15:01.776Z"
   },
   {
    "duration": 4,
    "start_time": "2025-03-25T16:15:24.818Z"
   },
   {
    "duration": 286,
    "start_time": "2025-03-25T16:15:32.863Z"
   },
   {
    "duration": 15,
    "start_time": "2025-03-25T16:15:38.087Z"
   },
   {
    "duration": 289,
    "start_time": "2025-03-25T16:17:03.895Z"
   },
   {
    "duration": 15,
    "start_time": "2025-03-25T16:17:29.023Z"
   },
   {
    "duration": 122,
    "start_time": "2025-03-25T16:18:03.229Z"
   },
   {
    "duration": 14,
    "start_time": "2025-03-25T16:18:07.161Z"
   },
   {
    "duration": 2458,
    "start_time": "2025-03-25T16:19:07.011Z"
   },
   {
    "duration": 2590,
    "start_time": "2025-03-25T16:19:09.471Z"
   },
   {
    "duration": 169,
    "start_time": "2025-03-25T16:19:12.062Z"
   },
   {
    "duration": 2,
    "start_time": "2025-03-25T16:19:12.232Z"
   },
   {
    "duration": 6,
    "start_time": "2025-03-25T16:19:12.236Z"
   },
   {
    "duration": 7,
    "start_time": "2025-03-25T16:19:12.243Z"
   },
   {
    "duration": 887,
    "start_time": "2025-03-25T16:19:12.252Z"
   },
   {
    "duration": 9,
    "start_time": "2025-03-25T16:19:13.141Z"
   },
   {
    "duration": 38,
    "start_time": "2025-03-25T16:19:13.151Z"
   },
   {
    "duration": 40,
    "start_time": "2025-03-25T16:19:13.190Z"
   },
   {
    "duration": 5,
    "start_time": "2025-03-25T16:19:13.231Z"
   },
   {
    "duration": 31,
    "start_time": "2025-03-25T16:19:13.238Z"
   },
   {
    "duration": 1667,
    "start_time": "2025-03-25T16:19:13.270Z"
   },
   {
    "duration": 46,
    "start_time": "2025-03-25T16:19:14.940Z"
   },
   {
    "duration": 3902,
    "start_time": "2025-03-25T16:19:14.988Z"
   },
   {
    "duration": 51,
    "start_time": "2025-03-25T16:19:18.892Z"
   },
   {
    "duration": 42,
    "start_time": "2025-03-25T16:19:18.945Z"
   },
   {
    "duration": 23,
    "start_time": "2025-03-25T16:19:18.988Z"
   },
   {
    "duration": 5,
    "start_time": "2025-03-25T16:19:19.012Z"
   },
   {
    "duration": 308,
    "start_time": "2025-03-25T16:19:27.099Z"
   },
   {
    "duration": 6737,
    "start_time": "2025-03-25T16:19:30.374Z"
   },
   {
    "duration": 105388,
    "start_time": "2025-03-25T16:19:41.791Z"
   },
   {
    "duration": 1572,
    "start_time": "2025-03-25T16:21:27.181Z"
   },
   {
    "duration": 52,
    "start_time": "2025-03-25T16:21:28.755Z"
   },
   {
    "duration": 104722,
    "start_time": "2025-03-25T16:25:44.026Z"
   },
   {
    "duration": 1590,
    "start_time": "2025-03-25T16:27:28.749Z"
   },
   {
    "duration": 75,
    "start_time": "2025-03-25T16:27:30.340Z"
   },
   {
    "duration": 108898,
    "start_time": "2025-03-25T16:32:07.472Z"
   },
   {
    "duration": 1401,
    "start_time": "2025-03-25T16:33:56.372Z"
   },
   {
    "duration": 42,
    "start_time": "2025-03-25T16:33:57.775Z"
   },
   {
    "duration": 83232,
    "start_time": "2025-03-25T16:33:57.819Z"
   },
   {
    "duration": 6,
    "start_time": "2025-03-25T16:49:02.385Z"
   },
   {
    "duration": 2,
    "start_time": "2025-03-25T16:49:45.122Z"
   },
   {
    "duration": 71,
    "start_time": "2025-03-25T16:49:45.957Z"
   },
   {
    "duration": 164,
    "start_time": "2025-03-25T16:49:47.685Z"
   },
   {
    "duration": 2287,
    "start_time": "2025-03-25T16:50:05.630Z"
   },
   {
    "duration": 2901,
    "start_time": "2025-03-25T16:50:07.920Z"
   },
   {
    "duration": 263,
    "start_time": "2025-03-25T16:50:10.823Z"
   },
   {
    "duration": 4,
    "start_time": "2025-03-25T16:50:11.088Z"
   },
   {
    "duration": 11,
    "start_time": "2025-03-25T16:50:11.094Z"
   },
   {
    "duration": 3,
    "start_time": "2025-03-25T16:50:11.106Z"
   },
   {
    "duration": 925,
    "start_time": "2025-03-25T16:50:11.111Z"
   },
   {
    "duration": 11,
    "start_time": "2025-03-25T16:50:12.037Z"
   },
   {
    "duration": 31,
    "start_time": "2025-03-25T16:50:12.049Z"
   },
   {
    "duration": 41,
    "start_time": "2025-03-25T16:50:12.081Z"
   },
   {
    "duration": 6,
    "start_time": "2025-03-25T16:50:12.123Z"
   },
   {
    "duration": 39,
    "start_time": "2025-03-25T16:50:12.130Z"
   },
   {
    "duration": 1651,
    "start_time": "2025-03-25T16:50:12.171Z"
   },
   {
    "duration": 40,
    "start_time": "2025-03-25T16:50:13.825Z"
   },
   {
    "duration": 3901,
    "start_time": "2025-03-25T16:50:13.867Z"
   },
   {
    "duration": 56,
    "start_time": "2025-03-25T16:50:17.770Z"
   },
   {
    "duration": 35,
    "start_time": "2025-03-25T16:50:17.828Z"
   },
   {
    "duration": 8,
    "start_time": "2025-03-25T16:50:17.864Z"
   },
   {
    "duration": 3,
    "start_time": "2025-03-25T16:50:17.874Z"
   },
   {
    "duration": 87,
    "start_time": "2025-03-25T16:50:17.878Z"
   },
   {
    "duration": 6582,
    "start_time": "2025-03-25T16:50:17.967Z"
   },
   {
    "duration": 148,
    "start_time": "2025-03-25T16:50:38.674Z"
   },
   {
    "duration": 19,
    "start_time": "2025-03-25T16:50:51.323Z"
   },
   {
    "duration": 5,
    "start_time": "2025-03-25T18:18:49.893Z"
   },
   {
    "duration": 19,
    "start_time": "2025-03-25T18:19:05.262Z"
   },
   {
    "duration": 2271,
    "start_time": "2025-03-25T18:29:36.315Z"
   },
   {
    "duration": 2719,
    "start_time": "2025-03-25T18:29:38.588Z"
   },
   {
    "duration": 169,
    "start_time": "2025-03-25T18:29:41.309Z"
   },
   {
    "duration": 3,
    "start_time": "2025-03-25T18:29:41.480Z"
   },
   {
    "duration": 5,
    "start_time": "2025-03-25T18:29:41.485Z"
   },
   {
    "duration": 5,
    "start_time": "2025-03-25T18:29:41.491Z"
   },
   {
    "duration": 893,
    "start_time": "2025-03-25T18:29:41.497Z"
   },
   {
    "duration": 18,
    "start_time": "2025-03-25T18:29:42.392Z"
   },
   {
    "duration": 28,
    "start_time": "2025-03-25T18:29:42.412Z"
   },
   {
    "duration": 19,
    "start_time": "2025-03-25T18:29:42.442Z"
   },
   {
    "duration": 5,
    "start_time": "2025-03-25T18:29:42.462Z"
   },
   {
    "duration": 55,
    "start_time": "2025-03-25T18:29:42.468Z"
   },
   {
    "duration": 1656,
    "start_time": "2025-03-25T18:29:42.525Z"
   },
   {
    "duration": 46,
    "start_time": "2025-03-25T18:29:44.184Z"
   },
   {
    "duration": 3920,
    "start_time": "2025-03-25T18:29:44.231Z"
   },
   {
    "duration": 55,
    "start_time": "2025-03-25T18:29:48.152Z"
   },
   {
    "duration": 48,
    "start_time": "2025-03-25T18:29:48.209Z"
   },
   {
    "duration": 20,
    "start_time": "2025-03-25T18:29:48.258Z"
   },
   {
    "duration": 14,
    "start_time": "2025-03-25T18:29:48.279Z"
   },
   {
    "duration": 62,
    "start_time": "2025-03-25T18:29:48.294Z"
   },
   {
    "duration": 6743,
    "start_time": "2025-03-25T18:29:48.358Z"
   },
   {
    "duration": 140857,
    "start_time": "2025-03-25T18:29:55.102Z"
   },
   {
    "duration": 1766,
    "start_time": "2025-03-25T18:32:15.961Z"
   },
   {
    "duration": 13,
    "start_time": "2025-03-25T18:32:17.729Z"
   },
   {
    "duration": 92050,
    "start_time": "2025-03-25T18:32:17.743Z"
   },
   {
    "duration": 4,
    "start_time": "2025-03-25T18:36:18.343Z"
   },
   {
    "duration": 60,
    "start_time": "2025-03-25T18:36:27.952Z"
   },
   {
    "duration": 56,
    "start_time": "2025-03-25T18:41:27.950Z"
   },
   {
    "duration": 55,
    "start_time": "2025-03-25T18:41:34.398Z"
   },
   {
    "duration": 55,
    "start_time": "2025-03-25T18:41:40.097Z"
   },
   {
    "duration": 57,
    "start_time": "2025-03-25T18:41:46.856Z"
   },
   {
    "duration": 56,
    "start_time": "2025-03-25T18:41:53.234Z"
   },
   {
    "duration": 60,
    "start_time": "2025-03-25T18:41:58.878Z"
   },
   {
    "duration": 56,
    "start_time": "2025-03-25T18:42:05.471Z"
   },
   {
    "duration": 58,
    "start_time": "2025-03-25T18:42:11.487Z"
   },
   {
    "duration": 55,
    "start_time": "2025-03-25T18:42:16.264Z"
   },
   {
    "duration": 58,
    "start_time": "2025-03-25T18:42:23.017Z"
   },
   {
    "duration": 151,
    "start_time": "2025-03-25T18:42:47.940Z"
   },
   {
    "duration": 4,
    "start_time": "2025-03-25T18:49:16.887Z"
   },
   {
    "duration": 59,
    "start_time": "2025-03-25T18:51:11.612Z"
   },
   {
    "duration": 57,
    "start_time": "2025-03-25T18:51:18.989Z"
   },
   {
    "duration": 29,
    "start_time": "2025-03-25T19:15:51.305Z"
   },
   {
    "duration": 2250,
    "start_time": "2025-03-25T19:16:15.826Z"
   },
   {
    "duration": 2661,
    "start_time": "2025-03-25T19:16:18.079Z"
   },
   {
    "duration": 262,
    "start_time": "2025-03-25T19:16:20.742Z"
   },
   {
    "duration": 2,
    "start_time": "2025-03-25T19:16:21.006Z"
   },
   {
    "duration": 22,
    "start_time": "2025-03-25T19:16:21.011Z"
   },
   {
    "duration": 12,
    "start_time": "2025-03-25T19:16:21.035Z"
   },
   {
    "duration": 885,
    "start_time": "2025-03-25T19:16:21.049Z"
   },
   {
    "duration": 10,
    "start_time": "2025-03-25T19:16:21.935Z"
   },
   {
    "duration": 33,
    "start_time": "2025-03-25T19:16:21.947Z"
   },
   {
    "duration": 39,
    "start_time": "2025-03-25T19:16:21.982Z"
   },
   {
    "duration": 15,
    "start_time": "2025-03-25T19:16:22.023Z"
   },
   {
    "duration": 34,
    "start_time": "2025-03-25T19:16:22.040Z"
   },
   {
    "duration": 1683,
    "start_time": "2025-03-25T19:16:22.076Z"
   },
   {
    "duration": 52,
    "start_time": "2025-03-25T19:16:23.762Z"
   },
   {
    "duration": 3909,
    "start_time": "2025-03-25T19:16:23.816Z"
   },
   {
    "duration": 47,
    "start_time": "2025-03-25T19:16:27.726Z"
   },
   {
    "duration": 62,
    "start_time": "2025-03-25T19:16:27.775Z"
   },
   {
    "duration": 78,
    "start_time": "2025-03-25T19:16:27.838Z"
   },
   {
    "duration": 6,
    "start_time": "2025-03-25T19:16:27.918Z"
   },
   {
    "duration": 70,
    "start_time": "2025-03-25T19:16:27.925Z"
   },
   {
    "duration": 24771,
    "start_time": "2025-03-25T19:17:05.236Z"
   },
   {
    "duration": 218336,
    "start_time": "2025-03-25T19:17:34.938Z"
   },
   {
    "duration": 1730,
    "start_time": "2025-03-25T19:21:13.277Z"
   },
   {
    "duration": 14,
    "start_time": "2025-03-25T19:21:15.008Z"
   },
   {
    "duration": 235852,
    "start_time": "2025-03-25T19:22:33.292Z"
   },
   {
    "duration": 233,
    "start_time": "2025-03-25T19:26:29.146Z"
   },
   {
    "duration": 25201,
    "start_time": "2025-03-25T19:28:00.631Z"
   },
   {
    "duration": 218781,
    "start_time": "2025-03-25T19:28:57.848Z"
   },
   {
    "duration": 1754,
    "start_time": "2025-03-25T19:32:36.631Z"
   },
   {
    "duration": 26,
    "start_time": "2025-03-25T19:32:38.387Z"
   },
   {
    "duration": 209816,
    "start_time": "2025-03-25T19:32:38.416Z"
   },
   {
    "duration": 247,
    "start_time": "2025-03-25T19:36:08.234Z"
   },
   {
    "duration": 47094,
    "start_time": "2025-03-25T19:37:25.497Z"
   },
   {
    "duration": 28225,
    "start_time": "2025-03-25T19:38:12.594Z"
   },
   {
    "duration": 202,
    "start_time": "2025-03-25T19:38:40.820Z"
   },
   {
    "duration": 12,
    "start_time": "2025-03-25T19:38:41.024Z"
   },
   {
    "duration": 24657,
    "start_time": "2025-03-25T19:38:41.037Z"
   },
   {
    "duration": 0,
    "start_time": "2025-03-25T19:39:05.696Z"
   },
   {
    "duration": 29278,
    "start_time": "2025-03-25T19:39:12.252Z"
   },
   {
    "duration": 28295,
    "start_time": "2025-03-25T19:39:41.532Z"
   },
   {
    "duration": 188,
    "start_time": "2025-03-25T19:40:09.828Z"
   },
   {
    "duration": 12,
    "start_time": "2025-03-25T19:40:10.018Z"
   },
   {
    "duration": 304659,
    "start_time": "2025-03-25T19:40:10.032Z"
   },
   {
    "duration": 0,
    "start_time": "2025-03-25T19:45:14.693Z"
   },
   {
    "duration": 20729,
    "start_time": "2025-03-25T19:45:31.210Z"
   },
   {
    "duration": 87449,
    "start_time": "2025-03-25T19:45:51.941Z"
   },
   {
    "duration": 1461,
    "start_time": "2025-03-25T19:47:19.392Z"
   },
   {
    "duration": 14,
    "start_time": "2025-03-25T19:47:20.855Z"
   },
   {
    "duration": 154015,
    "start_time": "2025-03-25T19:47:20.873Z"
   },
   {
    "duration": 196,
    "start_time": "2025-03-25T19:49:54.889Z"
   },
   {
    "duration": 281,
    "start_time": "2025-03-25T19:51:51.536Z"
   },
   {
    "duration": 2269,
    "start_time": "2025-03-25T19:52:09.222Z"
   },
   {
    "duration": 2628,
    "start_time": "2025-03-25T19:52:11.494Z"
   },
   {
    "duration": 159,
    "start_time": "2025-03-25T19:52:14.123Z"
   },
   {
    "duration": 3,
    "start_time": "2025-03-25T19:52:14.283Z"
   },
   {
    "duration": 6,
    "start_time": "2025-03-25T19:52:14.288Z"
   },
   {
    "duration": 7,
    "start_time": "2025-03-25T19:52:14.295Z"
   },
   {
    "duration": 868,
    "start_time": "2025-03-25T19:52:14.303Z"
   },
   {
    "duration": 9,
    "start_time": "2025-03-25T19:52:15.173Z"
   },
   {
    "duration": 47,
    "start_time": "2025-03-25T19:52:15.183Z"
   },
   {
    "duration": 47,
    "start_time": "2025-03-25T19:52:15.232Z"
   },
   {
    "duration": 24,
    "start_time": "2025-03-25T19:52:15.281Z"
   },
   {
    "duration": 42,
    "start_time": "2025-03-25T19:52:15.307Z"
   },
   {
    "duration": 1645,
    "start_time": "2025-03-25T19:52:15.350Z"
   },
   {
    "duration": 47,
    "start_time": "2025-03-25T19:52:16.997Z"
   },
   {
    "duration": 3938,
    "start_time": "2025-03-25T19:52:17.045Z"
   },
   {
    "duration": 49,
    "start_time": "2025-03-25T19:52:20.985Z"
   },
   {
    "duration": 56,
    "start_time": "2025-03-25T19:52:21.036Z"
   },
   {
    "duration": 23,
    "start_time": "2025-03-25T19:52:21.094Z"
   },
   {
    "duration": 53,
    "start_time": "2025-03-25T19:52:21.118Z"
   },
   {
    "duration": 88,
    "start_time": "2025-03-25T19:52:21.172Z"
   },
   {
    "duration": 151,
    "start_time": "2025-03-25T19:52:21.262Z"
   },
   {
    "duration": 0,
    "start_time": "2025-03-25T19:52:21.414Z"
   },
   {
    "duration": 0,
    "start_time": "2025-03-25T19:52:21.416Z"
   },
   {
    "duration": 0,
    "start_time": "2025-03-25T19:52:21.417Z"
   },
   {
    "duration": 0,
    "start_time": "2025-03-25T19:52:21.418Z"
   },
   {
    "duration": 0,
    "start_time": "2025-03-25T19:52:21.419Z"
   },
   {
    "duration": 15,
    "start_time": "2025-03-25T19:54:22.661Z"
   },
   {
    "duration": 11,
    "start_time": "2025-03-25T19:54:28.482Z"
   },
   {
    "duration": 11,
    "start_time": "2025-03-25T19:54:34.739Z"
   },
   {
    "duration": 0,
    "start_time": "2025-03-25T19:54:34.752Z"
   },
   {
    "duration": 12,
    "start_time": "2025-03-25T19:54:34.843Z"
   },
   {
    "duration": 0,
    "start_time": "2025-03-25T19:54:34.856Z"
   },
   {
    "duration": 6693,
    "start_time": "2025-03-25T19:54:54.006Z"
   },
   {
    "duration": 106660,
    "start_time": "2025-03-25T19:55:00.701Z"
   },
   {
    "duration": 1580,
    "start_time": "2025-03-25T19:56:47.363Z"
   },
   {
    "duration": 17,
    "start_time": "2025-03-25T19:56:48.946Z"
   },
   {
    "duration": 81874,
    "start_time": "2025-03-25T19:56:48.966Z"
   },
   {
    "duration": 73,
    "start_time": "2025-03-25T19:58:10.842Z"
   },
   {
    "duration": 2607,
    "start_time": "2025-03-26T09:20:38.658Z"
   },
   {
    "duration": 2639,
    "start_time": "2025-03-26T09:20:41.267Z"
   },
   {
    "duration": 271,
    "start_time": "2025-03-26T09:20:43.907Z"
   },
   {
    "duration": 3,
    "start_time": "2025-03-26T09:20:44.180Z"
   },
   {
    "duration": 20,
    "start_time": "2025-03-26T09:20:44.185Z"
   },
   {
    "duration": 2,
    "start_time": "2025-03-26T09:20:44.207Z"
   },
   {
    "duration": 1280,
    "start_time": "2025-03-26T09:20:44.211Z"
   },
   {
    "duration": 10,
    "start_time": "2025-03-26T09:20:45.492Z"
   },
   {
    "duration": 34,
    "start_time": "2025-03-26T09:20:45.503Z"
   },
   {
    "duration": 94,
    "start_time": "2025-03-26T09:20:45.539Z"
   },
   {
    "duration": 5,
    "start_time": "2025-03-26T09:20:45.634Z"
   },
   {
    "duration": 29,
    "start_time": "2025-03-26T09:20:45.640Z"
   },
   {
    "duration": 1667,
    "start_time": "2025-03-26T09:20:45.678Z"
   },
   {
    "duration": 42,
    "start_time": "2025-03-26T09:20:47.347Z"
   },
   {
    "duration": 3919,
    "start_time": "2025-03-26T09:20:47.390Z"
   },
   {
    "duration": 44,
    "start_time": "2025-03-26T09:20:51.310Z"
   },
   {
    "duration": 26,
    "start_time": "2025-03-26T09:20:51.356Z"
   },
   {
    "duration": 7,
    "start_time": "2025-03-26T09:20:51.383Z"
   },
   {
    "duration": 7,
    "start_time": "2025-03-26T09:20:51.391Z"
   },
   {
    "duration": 82,
    "start_time": "2025-03-26T09:20:51.400Z"
   },
   {
    "duration": 6625,
    "start_time": "2025-03-26T09:20:51.484Z"
   },
   {
    "duration": 103579,
    "start_time": "2025-03-26T09:20:58.111Z"
   },
   {
    "duration": 1492,
    "start_time": "2025-03-26T09:22:41.692Z"
   },
   {
    "duration": 11,
    "start_time": "2025-03-26T09:22:43.186Z"
   },
   {
    "duration": 87873,
    "start_time": "2025-03-26T09:22:43.199Z"
   },
   {
    "duration": 72,
    "start_time": "2025-03-26T09:24:11.073Z"
   },
   {
    "duration": 151,
    "start_time": "2025-03-26T09:31:37.393Z"
   },
   {
    "duration": 6647,
    "start_time": "2025-03-26T09:34:53.475Z"
   },
   {
    "duration": 104482,
    "start_time": "2025-03-26T09:35:00.124Z"
   },
   {
    "duration": 1472,
    "start_time": "2025-03-26T09:36:44.607Z"
   },
   {
    "duration": 61,
    "start_time": "2025-03-26T09:36:46.081Z"
   },
   {
    "duration": 83884,
    "start_time": "2025-03-26T09:36:46.144Z"
   },
   {
    "duration": 62,
    "start_time": "2025-03-26T09:38:10.029Z"
   },
   {
    "duration": 49664,
    "start_time": "2025-03-26T09:40:46.473Z"
   },
   {
    "duration": 45,
    "start_time": "2025-03-26T09:43:39.051Z"
   },
   {
    "duration": 5,
    "start_time": "2025-03-26T09:43:39.261Z"
   },
   {
    "duration": 6,
    "start_time": "2025-03-26T09:43:39.480Z"
   },
   {
    "duration": 7,
    "start_time": "2025-03-26T09:43:41.349Z"
   },
   {
    "duration": 6,
    "start_time": "2025-03-26T09:43:41.564Z"
   },
   {
    "duration": 2588,
    "start_time": "2025-03-26T09:44:00.169Z"
   },
   {
    "duration": 227,
    "start_time": "2025-03-26T09:44:03.744Z"
   },
   {
    "duration": 3,
    "start_time": "2025-03-26T09:44:04.625Z"
   },
   {
    "duration": 5,
    "start_time": "2025-03-26T09:44:05.481Z"
   },
   {
    "duration": 3,
    "start_time": "2025-03-26T09:44:05.702Z"
   },
   {
    "duration": 1127,
    "start_time": "2025-03-26T09:44:06.219Z"
   },
   {
    "duration": 9,
    "start_time": "2025-03-26T09:44:07.348Z"
   },
   {
    "duration": 31,
    "start_time": "2025-03-26T09:44:07.359Z"
   },
   {
    "duration": 22,
    "start_time": "2025-03-26T09:44:07.522Z"
   },
   {
    "duration": 6,
    "start_time": "2025-03-26T09:44:08.531Z"
   },
   {
    "duration": 31,
    "start_time": "2025-03-26T09:44:09.012Z"
   },
   {
    "duration": 1691,
    "start_time": "2025-03-26T09:44:10.058Z"
   },
   {
    "duration": 40,
    "start_time": "2025-03-26T09:44:11.750Z"
   },
   {
    "duration": 3991,
    "start_time": "2025-03-26T09:44:12.291Z"
   },
   {
    "duration": 39,
    "start_time": "2025-03-26T09:44:16.284Z"
   },
   {
    "duration": 54,
    "start_time": "2025-03-26T09:44:16.324Z"
   },
   {
    "duration": 8,
    "start_time": "2025-03-26T09:44:16.380Z"
   },
   {
    "duration": 4,
    "start_time": "2025-03-26T09:44:19.742Z"
   },
   {
    "duration": 63,
    "start_time": "2025-03-26T09:44:20.752Z"
   },
   {
    "duration": 49495,
    "start_time": "2025-03-26T09:44:21.898Z"
   },
   {
    "duration": 46,
    "start_time": "2025-03-26T09:49:57.554Z"
   },
   {
    "duration": 6,
    "start_time": "2025-03-26T09:49:57.606Z"
   },
   {
    "duration": 6,
    "start_time": "2025-03-26T09:49:58.293Z"
   },
   {
    "duration": 7,
    "start_time": "2025-03-26T09:50:00.359Z"
   },
   {
    "duration": 6,
    "start_time": "2025-03-26T09:50:04.087Z"
   },
   {
    "duration": 2302,
    "start_time": "2025-03-26T09:50:36.710Z"
   },
   {
    "duration": 2593,
    "start_time": "2025-03-26T09:50:39.015Z"
   },
   {
    "duration": 0,
    "start_time": "2025-03-26T09:50:41.610Z"
   },
   {
    "duration": 0,
    "start_time": "2025-03-26T09:50:41.611Z"
   },
   {
    "duration": 1,
    "start_time": "2025-03-26T09:50:41.612Z"
   },
   {
    "duration": 0,
    "start_time": "2025-03-26T09:50:41.614Z"
   },
   {
    "duration": 0,
    "start_time": "2025-03-26T09:50:41.615Z"
   },
   {
    "duration": 0,
    "start_time": "2025-03-26T09:50:41.617Z"
   },
   {
    "duration": 0,
    "start_time": "2025-03-26T09:50:41.618Z"
   },
   {
    "duration": 0,
    "start_time": "2025-03-26T09:50:41.636Z"
   },
   {
    "duration": 0,
    "start_time": "2025-03-26T09:50:41.637Z"
   },
   {
    "duration": 0,
    "start_time": "2025-03-26T09:50:41.639Z"
   },
   {
    "duration": 0,
    "start_time": "2025-03-26T09:50:41.640Z"
   },
   {
    "duration": 1,
    "start_time": "2025-03-26T09:50:41.641Z"
   },
   {
    "duration": 0,
    "start_time": "2025-03-26T09:50:41.643Z"
   },
   {
    "duration": 0,
    "start_time": "2025-03-26T09:50:41.644Z"
   },
   {
    "duration": 0,
    "start_time": "2025-03-26T09:50:41.645Z"
   },
   {
    "duration": 0,
    "start_time": "2025-03-26T09:50:41.647Z"
   },
   {
    "duration": 0,
    "start_time": "2025-03-26T09:50:41.648Z"
   },
   {
    "duration": 0,
    "start_time": "2025-03-26T09:50:41.650Z"
   },
   {
    "duration": 0,
    "start_time": "2025-03-26T09:50:41.651Z"
   },
   {
    "duration": 0,
    "start_time": "2025-03-26T09:50:41.652Z"
   },
   {
    "duration": 0,
    "start_time": "2025-03-26T09:50:41.654Z"
   },
   {
    "duration": 0,
    "start_time": "2025-03-26T09:50:41.655Z"
   },
   {
    "duration": 0,
    "start_time": "2025-03-26T09:50:41.656Z"
   },
   {
    "duration": 0,
    "start_time": "2025-03-26T09:50:41.658Z"
   },
   {
    "duration": 2474,
    "start_time": "2025-03-26T09:58:45.611Z"
   },
   {
    "duration": 227,
    "start_time": "2025-03-26T09:58:48.087Z"
   },
   {
    "duration": 249,
    "start_time": "2025-03-26T09:58:48.316Z"
   },
   {
    "duration": 3,
    "start_time": "2025-03-26T09:58:48.567Z"
   },
   {
    "duration": 21,
    "start_time": "2025-03-26T09:58:48.572Z"
   },
   {
    "duration": 2,
    "start_time": "2025-03-26T09:58:48.595Z"
   },
   {
    "duration": 1158,
    "start_time": "2025-03-26T09:58:48.599Z"
   },
   {
    "duration": 11,
    "start_time": "2025-03-26T09:58:49.759Z"
   },
   {
    "duration": 32,
    "start_time": "2025-03-26T09:58:49.772Z"
   },
   {
    "duration": 33,
    "start_time": "2025-03-26T09:58:49.807Z"
   },
   {
    "duration": 6,
    "start_time": "2025-03-26T09:58:49.842Z"
   },
   {
    "duration": 34,
    "start_time": "2025-03-26T09:58:49.849Z"
   },
   {
    "duration": 1712,
    "start_time": "2025-03-26T09:58:49.885Z"
   },
   {
    "duration": 43,
    "start_time": "2025-03-26T09:58:51.599Z"
   },
   {
    "duration": 4023,
    "start_time": "2025-03-26T09:58:51.643Z"
   },
   {
    "duration": 40,
    "start_time": "2025-03-26T09:58:55.667Z"
   },
   {
    "duration": 55,
    "start_time": "2025-03-26T09:58:55.709Z"
   },
   {
    "duration": 7,
    "start_time": "2025-03-26T09:58:55.765Z"
   },
   {
    "duration": 4,
    "start_time": "2025-03-26T09:58:55.774Z"
   },
   {
    "duration": 74,
    "start_time": "2025-03-26T09:58:55.779Z"
   },
   {
    "duration": 6783,
    "start_time": "2025-03-26T09:58:55.855Z"
   },
   {
    "duration": 104818,
    "start_time": "2025-03-26T09:59:02.639Z"
   },
   {
    "duration": 1583,
    "start_time": "2025-03-26T10:00:47.459Z"
   },
   {
    "duration": 12,
    "start_time": "2025-03-26T10:00:49.043Z"
   },
   {
    "duration": 86301,
    "start_time": "2025-03-26T10:00:49.056Z"
   },
   {
    "duration": 59,
    "start_time": "2025-03-26T10:02:15.359Z"
   },
   {
    "duration": 4,
    "start_time": "2025-03-26T10:06:16.182Z"
   },
   {
    "duration": 108,
    "start_time": "2025-03-26T10:06:25.070Z"
   },
   {
    "duration": 91,
    "start_time": "2025-03-26T10:07:07.347Z"
   },
   {
    "duration": 97,
    "start_time": "2025-03-26T10:07:14.151Z"
   },
   {
    "duration": 96,
    "start_time": "2025-03-26T10:07:20.382Z"
   },
   {
    "duration": 95,
    "start_time": "2025-03-26T10:07:26.256Z"
   },
   {
    "duration": 93,
    "start_time": "2025-03-26T10:07:32.258Z"
   },
   {
    "duration": 91,
    "start_time": "2025-03-26T10:07:43.249Z"
   },
   {
    "duration": 92,
    "start_time": "2025-03-26T10:09:26.245Z"
   },
   {
    "duration": 94,
    "start_time": "2025-03-26T10:09:37.869Z"
   },
   {
    "duration": 92,
    "start_time": "2025-03-26T10:09:51.802Z"
   },
   {
    "duration": 93,
    "start_time": "2025-03-26T10:10:24.341Z"
   },
   {
    "duration": 95,
    "start_time": "2025-03-26T10:10:30.546Z"
   },
   {
    "duration": 91,
    "start_time": "2025-03-26T10:10:43.958Z"
   },
   {
    "duration": 6,
    "start_time": "2025-03-26T10:11:10.614Z"
   },
   {
    "duration": 56,
    "start_time": "2025-03-26T10:11:37.974Z"
   },
   {
    "duration": 59,
    "start_time": "2025-03-26T10:11:46.964Z"
   },
   {
    "duration": 59,
    "start_time": "2025-03-26T10:11:51.837Z"
   },
   {
    "duration": 58,
    "start_time": "2025-03-26T10:11:56.662Z"
   },
   {
    "duration": 70,
    "start_time": "2025-03-26T10:12:01.780Z"
   },
   {
    "duration": 59,
    "start_time": "2025-03-26T10:12:07.555Z"
   },
   {
    "duration": 57,
    "start_time": "2025-03-26T10:12:12.211Z"
   },
   {
    "duration": 63,
    "start_time": "2025-03-26T10:12:18.344Z"
   },
   {
    "duration": 59,
    "start_time": "2025-03-26T10:12:25.838Z"
   },
   {
    "duration": 55,
    "start_time": "2025-03-26T10:14:36.758Z"
   },
   {
    "duration": 58,
    "start_time": "2025-03-26T10:14:45.653Z"
   },
   {
    "duration": 59,
    "start_time": "2025-03-26T10:14:51.668Z"
   },
   {
    "duration": 59,
    "start_time": "2025-03-26T10:14:56.948Z"
   },
   {
    "duration": 58,
    "start_time": "2025-03-26T10:15:03.235Z"
   },
   {
    "duration": 25,
    "start_time": "2025-03-26T10:17:09.602Z"
   },
   {
    "duration": 54,
    "start_time": "2025-03-26T10:17:30.950Z"
   },
   {
    "duration": 55,
    "start_time": "2025-03-26T10:17:42.062Z"
   },
   {
    "duration": 2,
    "start_time": "2025-03-26T10:18:12.879Z"
   },
   {
    "duration": 68,
    "start_time": "2025-03-26T10:18:14.000Z"
   },
   {
    "duration": 28,
    "start_time": "2025-03-26T10:18:15.065Z"
   },
   {
    "duration": 2343,
    "start_time": "2025-03-26T10:18:32.722Z"
   },
   {
    "duration": 6,
    "start_time": "2025-03-26T10:18:35.068Z"
   },
   {
    "duration": 23,
    "start_time": "2025-03-26T10:18:35.076Z"
   },
   {
    "duration": 3,
    "start_time": "2025-03-26T10:18:35.101Z"
   },
   {
    "duration": 3,
    "start_time": "2025-03-26T10:18:35.107Z"
   },
   {
    "duration": 3,
    "start_time": "2025-03-26T10:18:35.111Z"
   },
   {
    "duration": 897,
    "start_time": "2025-03-26T10:18:35.116Z"
   },
   {
    "duration": 8,
    "start_time": "2025-03-26T10:18:36.015Z"
   },
   {
    "duration": 39,
    "start_time": "2025-03-26T10:18:36.025Z"
   },
   {
    "duration": 17,
    "start_time": "2025-03-26T10:18:36.066Z"
   },
   {
    "duration": 11,
    "start_time": "2025-03-26T10:18:36.084Z"
   },
   {
    "duration": 73,
    "start_time": "2025-03-26T10:18:36.097Z"
   },
   {
    "duration": 486,
    "start_time": "2025-03-26T10:18:36.171Z"
   },
   {
    "duration": 39,
    "start_time": "2025-03-26T10:18:36.660Z"
   },
   {
    "duration": 3984,
    "start_time": "2025-03-26T10:18:36.701Z"
   },
   {
    "duration": 49,
    "start_time": "2025-03-26T10:18:40.687Z"
   },
   {
    "duration": 40,
    "start_time": "2025-03-26T10:18:40.738Z"
   },
   {
    "duration": 63,
    "start_time": "2025-03-26T10:18:40.780Z"
   },
   {
    "duration": 4,
    "start_time": "2025-03-26T10:18:40.845Z"
   },
   {
    "duration": 70,
    "start_time": "2025-03-26T10:18:40.850Z"
   },
   {
    "duration": 6706,
    "start_time": "2025-03-26T10:18:40.922Z"
   },
   {
    "duration": 60,
    "start_time": "2025-03-26T10:19:08.848Z"
   },
   {
    "duration": 71,
    "start_time": "2025-03-26T10:21:35.575Z"
   },
   {
    "duration": 108,
    "start_time": "2025-03-26T10:21:42.153Z"
   },
   {
    "duration": 92,
    "start_time": "2025-03-26T10:22:03.424Z"
   },
   {
    "duration": 93,
    "start_time": "2025-03-26T10:22:09.929Z"
   },
   {
    "duration": 93,
    "start_time": "2025-03-26T10:22:18.778Z"
   },
   {
    "duration": 91,
    "start_time": "2025-03-26T10:22:25.485Z"
   },
   {
    "duration": 93,
    "start_time": "2025-03-26T10:22:35.157Z"
   },
   {
    "duration": 88,
    "start_time": "2025-03-26T10:22:52.349Z"
   },
   {
    "duration": 90,
    "start_time": "2025-03-26T10:22:59.661Z"
   },
   {
    "duration": 58,
    "start_time": "2025-03-26T10:23:32.245Z"
   },
   {
    "duration": 62,
    "start_time": "2025-03-26T10:23:44.043Z"
   },
   {
    "duration": 58,
    "start_time": "2025-03-26T10:23:48.603Z"
   },
   {
    "duration": 58,
    "start_time": "2025-03-26T10:23:52.622Z"
   },
   {
    "duration": 58,
    "start_time": "2025-03-26T10:24:00.385Z"
   },
   {
    "duration": 60,
    "start_time": "2025-03-26T10:25:21.098Z"
   },
   {
    "duration": 25,
    "start_time": "2025-03-26T10:25:31.646Z"
   },
   {
    "duration": 56,
    "start_time": "2025-03-26T10:26:21.385Z"
   },
   {
    "duration": 57,
    "start_time": "2025-03-26T10:26:33.358Z"
   },
   {
    "duration": 88,
    "start_time": "2025-03-26T10:39:33.972Z"
   },
   {
    "duration": 91,
    "start_time": "2025-03-26T10:39:45.971Z"
   },
   {
    "duration": 12,
    "start_time": "2025-03-26T10:40:00.481Z"
   },
   {
    "duration": 12,
    "start_time": "2025-03-26T10:40:14.741Z"
   },
   {
    "duration": 108,
    "start_time": "2025-03-26T10:40:56.900Z"
   },
   {
    "duration": 69,
    "start_time": "2025-03-26T10:41:05.465Z"
   },
   {
    "duration": 99,
    "start_time": "2025-03-26T10:41:11.419Z"
   },
   {
    "duration": 91,
    "start_time": "2025-03-26T10:41:17.298Z"
   },
   {
    "duration": 11,
    "start_time": "2025-03-26T10:42:01.256Z"
   },
   {
    "duration": 56,
    "start_time": "2025-03-26T10:42:05.757Z"
   },
   {
    "duration": 43379,
    "start_time": "2025-03-26T10:43:10.997Z"
   },
   {
    "duration": 666,
    "start_time": "2025-03-26T10:45:47.802Z"
   },
   {
    "duration": 662,
    "start_time": "2025-03-26T10:45:54.237Z"
   },
   {
    "duration": 657,
    "start_time": "2025-03-26T10:46:00.714Z"
   },
   {
    "duration": 656,
    "start_time": "2025-03-26T10:46:07.857Z"
   },
   {
    "duration": 690,
    "start_time": "2025-03-26T10:46:16.816Z"
   },
   {
    "duration": 677,
    "start_time": "2025-03-26T10:46:24.553Z"
   },
   {
    "duration": 25495,
    "start_time": "2025-03-26T10:46:39.084Z"
   },
   {
    "duration": 266,
    "start_time": "2025-03-26T10:47:04.581Z"
   },
   {
    "duration": 259,
    "start_time": "2025-03-26T10:48:57.722Z"
   },
   {
    "duration": 267,
    "start_time": "2025-03-26T10:49:02.811Z"
   },
   {
    "duration": 260,
    "start_time": "2025-03-26T10:49:07.717Z"
   },
   {
    "duration": 255,
    "start_time": "2025-03-26T10:49:14.412Z"
   },
   {
    "duration": 260,
    "start_time": "2025-03-26T10:49:21.562Z"
   },
   {
    "duration": 260,
    "start_time": "2025-03-26T10:49:28.068Z"
   },
   {
    "duration": 20977,
    "start_time": "2025-03-26T10:50:42.082Z"
   },
   {
    "duration": 205,
    "start_time": "2025-03-26T10:51:03.061Z"
   },
   {
    "duration": 202,
    "start_time": "2025-03-26T10:52:06.247Z"
   },
   {
    "duration": 193,
    "start_time": "2025-03-26T10:52:11.953Z"
   },
   {
    "duration": 196,
    "start_time": "2025-03-26T10:52:16.828Z"
   },
   {
    "duration": 201,
    "start_time": "2025-03-26T10:52:21.280Z"
   },
   {
    "duration": 85974,
    "start_time": "2025-03-26T10:52:27.348Z"
   },
   {
    "duration": 1642,
    "start_time": "2025-03-26T10:53:53.324Z"
   },
   {
    "duration": 13,
    "start_time": "2025-03-26T10:53:54.968Z"
   },
   {
    "duration": 48157,
    "start_time": "2025-03-26T10:54:29.892Z"
   },
   {
    "duration": 2310,
    "start_time": "2025-03-26T10:55:55.873Z"
   },
   {
    "duration": 2615,
    "start_time": "2025-03-26T10:55:58.185Z"
   },
   {
    "duration": 232,
    "start_time": "2025-03-26T10:56:00.802Z"
   },
   {
    "duration": 3,
    "start_time": "2025-03-26T10:56:01.035Z"
   },
   {
    "duration": 5,
    "start_time": "2025-03-26T10:56:01.040Z"
   },
   {
    "duration": 12,
    "start_time": "2025-03-26T10:56:01.047Z"
   },
   {
    "duration": 1074,
    "start_time": "2025-03-26T10:56:01.061Z"
   },
   {
    "duration": 9,
    "start_time": "2025-03-26T10:56:02.137Z"
   },
   {
    "duration": 32,
    "start_time": "2025-03-26T10:56:02.148Z"
   },
   {
    "duration": 40,
    "start_time": "2025-03-26T10:56:02.182Z"
   },
   {
    "duration": 5,
    "start_time": "2025-03-26T10:56:02.224Z"
   },
   {
    "duration": 41,
    "start_time": "2025-03-26T10:56:02.230Z"
   },
   {
    "duration": 1712,
    "start_time": "2025-03-26T10:56:02.273Z"
   },
   {
    "duration": 41,
    "start_time": "2025-03-26T10:56:03.988Z"
   },
   {
    "duration": 3950,
    "start_time": "2025-03-26T10:56:04.036Z"
   },
   {
    "duration": 52,
    "start_time": "2025-03-26T10:56:07.988Z"
   },
   {
    "duration": 34,
    "start_time": "2025-03-26T10:56:08.042Z"
   },
   {
    "duration": 8,
    "start_time": "2025-03-26T10:56:08.078Z"
   },
   {
    "duration": 5,
    "start_time": "2025-03-26T10:56:08.088Z"
   },
   {
    "duration": 91,
    "start_time": "2025-03-26T10:56:08.094Z"
   },
   {
    "duration": 48575,
    "start_time": "2025-03-26T10:56:08.187Z"
   },
   {
    "duration": 2318,
    "start_time": "2025-03-26T10:57:52.334Z"
   },
   {
    "duration": 2831,
    "start_time": "2025-03-26T10:57:54.655Z"
   },
   {
    "duration": 162,
    "start_time": "2025-03-26T10:57:57.488Z"
   },
   {
    "duration": 3,
    "start_time": "2025-03-26T10:57:57.652Z"
   },
   {
    "duration": 6,
    "start_time": "2025-03-26T10:57:57.657Z"
   },
   {
    "duration": 5,
    "start_time": "2025-03-26T10:57:57.664Z"
   },
   {
    "duration": 1078,
    "start_time": "2025-03-26T10:57:57.670Z"
   },
   {
    "duration": 9,
    "start_time": "2025-03-26T10:57:58.749Z"
   },
   {
    "duration": 32,
    "start_time": "2025-03-26T10:57:58.760Z"
   },
   {
    "duration": 19,
    "start_time": "2025-03-26T10:57:58.794Z"
   },
   {
    "duration": 5,
    "start_time": "2025-03-26T10:57:58.815Z"
   },
   {
    "duration": 30,
    "start_time": "2025-03-26T10:57:58.835Z"
   },
   {
    "duration": 1665,
    "start_time": "2025-03-26T10:57:58.866Z"
   },
   {
    "duration": 43,
    "start_time": "2025-03-26T10:58:00.534Z"
   },
   {
    "duration": 3912,
    "start_time": "2025-03-26T10:58:00.579Z"
   },
   {
    "duration": 49,
    "start_time": "2025-03-26T10:58:04.493Z"
   },
   {
    "duration": 41,
    "start_time": "2025-03-26T10:58:04.543Z"
   },
   {
    "duration": 24,
    "start_time": "2025-03-26T10:58:04.585Z"
   },
   {
    "duration": 12,
    "start_time": "2025-03-26T10:58:04.610Z"
   },
   {
    "duration": 67,
    "start_time": "2025-03-26T10:58:04.623Z"
   },
   {
    "duration": 6597,
    "start_time": "2025-03-26T10:58:04.692Z"
   },
   {
    "duration": 106887,
    "start_time": "2025-03-26T10:58:11.290Z"
   },
   {
    "duration": 1479,
    "start_time": "2025-03-26T10:59:58.179Z"
   },
   {
    "duration": 84598,
    "start_time": "2025-03-26T10:59:59.673Z"
   },
   {
    "duration": 66,
    "start_time": "2025-03-26T11:01:24.272Z"
   },
   {
    "duration": 167,
    "start_time": "2025-03-26T11:10:47.019Z"
   },
   {
    "duration": 13,
    "start_time": "2025-03-26T11:10:55.515Z"
   },
   {
    "duration": 2609,
    "start_time": "2025-03-26T15:25:33.336Z"
   },
   {
    "duration": 2785,
    "start_time": "2025-03-26T15:25:35.947Z"
   },
   {
    "duration": 296,
    "start_time": "2025-03-26T15:25:38.733Z"
   },
   {
    "duration": 3,
    "start_time": "2025-03-26T15:25:39.030Z"
   },
   {
    "duration": 7,
    "start_time": "2025-03-26T15:25:39.035Z"
   },
   {
    "duration": 5,
    "start_time": "2025-03-26T15:25:39.044Z"
   },
   {
    "duration": 1242,
    "start_time": "2025-03-26T15:25:39.050Z"
   },
   {
    "duration": 9,
    "start_time": "2025-03-26T15:25:40.294Z"
   },
   {
    "duration": 42,
    "start_time": "2025-03-26T15:25:40.305Z"
   },
   {
    "duration": 28,
    "start_time": "2025-03-26T15:25:40.349Z"
   },
   {
    "duration": 16,
    "start_time": "2025-03-26T15:25:40.378Z"
   },
   {
    "duration": 46,
    "start_time": "2025-03-26T15:25:40.396Z"
   },
   {
    "duration": 1662,
    "start_time": "2025-03-26T15:25:40.444Z"
   },
   {
    "duration": 52,
    "start_time": "2025-03-26T15:25:42.108Z"
   },
   {
    "duration": 4019,
    "start_time": "2025-03-26T15:25:42.162Z"
   },
   {
    "duration": 44,
    "start_time": "2025-03-26T15:25:46.183Z"
   },
   {
    "duration": 55,
    "start_time": "2025-03-26T15:25:46.229Z"
   },
   {
    "duration": 15,
    "start_time": "2025-03-26T15:25:46.286Z"
   },
   {
    "duration": 30,
    "start_time": "2025-03-26T15:25:46.303Z"
   },
   {
    "duration": 74,
    "start_time": "2025-03-26T15:25:46.335Z"
   },
   {
    "duration": 157,
    "start_time": "2025-03-26T15:26:00.688Z"
   },
   {
    "duration": 12,
    "start_time": "2025-03-26T15:26:44.045Z"
   },
   {
    "duration": 13,
    "start_time": "2025-03-26T15:27:37.272Z"
   },
   {
    "duration": 11,
    "start_time": "2025-03-26T15:27:49.074Z"
   },
   {
    "duration": 12,
    "start_time": "2025-03-26T15:27:53.780Z"
   },
   {
    "duration": 12,
    "start_time": "2025-03-26T15:28:02.524Z"
   },
   {
    "duration": 11,
    "start_time": "2025-03-26T15:28:43.328Z"
   },
   {
    "duration": 6,
    "start_time": "2025-03-26T15:28:52.120Z"
   },
   {
    "duration": 13,
    "start_time": "2025-03-26T15:39:14.028Z"
   },
   {
    "duration": 2,
    "start_time": "2025-03-26T15:39:50.349Z"
   },
   {
    "duration": 3,
    "start_time": "2025-03-26T15:49:16.389Z"
   },
   {
    "duration": 15,
    "start_time": "2025-03-26T15:49:22.488Z"
   },
   {
    "duration": 4,
    "start_time": "2025-03-26T15:50:00.321Z"
   },
   {
    "duration": 11,
    "start_time": "2025-03-26T15:52:04.289Z"
   },
   {
    "duration": 4,
    "start_time": "2025-03-26T15:52:17.397Z"
   },
   {
    "duration": 3,
    "start_time": "2025-03-26T15:52:31.390Z"
   },
   {
    "duration": 2,
    "start_time": "2025-03-26T15:53:33.117Z"
   },
   {
    "duration": 2366,
    "start_time": "2025-03-26T15:53:54.333Z"
   },
   {
    "duration": 2725,
    "start_time": "2025-03-26T15:53:56.702Z"
   },
   {
    "duration": 167,
    "start_time": "2025-03-26T15:53:59.428Z"
   },
   {
    "duration": 2,
    "start_time": "2025-03-26T15:53:59.597Z"
   },
   {
    "duration": 15,
    "start_time": "2025-03-26T15:53:59.601Z"
   },
   {
    "duration": 13,
    "start_time": "2025-03-26T15:53:59.617Z"
   },
   {
    "duration": 902,
    "start_time": "2025-03-26T15:53:59.631Z"
   },
   {
    "duration": 9,
    "start_time": "2025-03-26T15:54:00.535Z"
   },
   {
    "duration": 42,
    "start_time": "2025-03-26T15:54:00.545Z"
   },
   {
    "duration": 23,
    "start_time": "2025-03-26T15:54:00.589Z"
   },
   {
    "duration": 18,
    "start_time": "2025-03-26T15:54:00.613Z"
   },
   {
    "duration": 41,
    "start_time": "2025-03-26T15:54:00.632Z"
   },
   {
    "duration": 1741,
    "start_time": "2025-03-26T15:54:00.675Z"
   },
   {
    "duration": 53,
    "start_time": "2025-03-26T15:54:02.419Z"
   },
   {
    "duration": 4101,
    "start_time": "2025-03-26T15:54:02.473Z"
   },
   {
    "duration": 46,
    "start_time": "2025-03-26T15:54:06.575Z"
   },
   {
    "duration": 58,
    "start_time": "2025-03-26T15:54:06.622Z"
   },
   {
    "duration": 8,
    "start_time": "2025-03-26T15:54:06.681Z"
   },
   {
    "duration": 5,
    "start_time": "2025-03-26T15:54:06.690Z"
   },
   {
    "duration": 78,
    "start_time": "2025-03-26T15:54:06.697Z"
   },
   {
    "duration": 3,
    "start_time": "2025-03-26T15:54:06.777Z"
   },
   {
    "duration": 21,
    "start_time": "2025-03-26T15:54:06.781Z"
   },
   {
    "duration": 38,
    "start_time": "2025-03-26T15:54:06.803Z"
   },
   {
    "duration": 4,
    "start_time": "2025-03-26T15:54:06.842Z"
   },
   {
    "duration": 3,
    "start_time": "2025-03-26T15:55:16.402Z"
   },
   {
    "duration": 3,
    "start_time": "2025-03-26T15:55:17.727Z"
   },
   {
    "duration": 2,
    "start_time": "2025-03-26T15:55:20.759Z"
   },
   {
    "duration": 2,
    "start_time": "2025-03-26T15:55:24.625Z"
   },
   {
    "duration": 155,
    "start_time": "2025-03-26T15:55:57.718Z"
   },
   {
    "duration": 3,
    "start_time": "2025-03-26T15:57:58.100Z"
   },
   {
    "duration": 13,
    "start_time": "2025-03-26T15:58:01.816Z"
   },
   {
    "duration": 3,
    "start_time": "2025-03-26T16:00:29.243Z"
   },
   {
    "duration": 4,
    "start_time": "2025-03-26T16:00:30.508Z"
   },
   {
    "duration": 5,
    "start_time": "2025-03-26T16:00:31.900Z"
   },
   {
    "duration": 3,
    "start_time": "2025-03-26T16:00:33.138Z"
   },
   {
    "duration": 11,
    "start_time": "2025-03-26T16:00:35.248Z"
   },
   {
    "duration": 26,
    "start_time": "2025-03-26T16:00:47.757Z"
   },
   {
    "duration": 11,
    "start_time": "2025-03-26T16:01:55.296Z"
   },
   {
    "duration": 49,
    "start_time": "2025-03-26T16:03:07.997Z"
   },
   {
    "duration": 47,
    "start_time": "2025-03-26T16:03:48.090Z"
   },
   {
    "duration": 2300,
    "start_time": "2025-03-26T16:05:13.054Z"
   },
   {
    "duration": 2832,
    "start_time": "2025-03-26T16:05:15.356Z"
   },
   {
    "duration": 173,
    "start_time": "2025-03-26T16:05:18.190Z"
   },
   {
    "duration": 3,
    "start_time": "2025-03-26T16:05:18.365Z"
   },
   {
    "duration": 8,
    "start_time": "2025-03-26T16:05:18.370Z"
   },
   {
    "duration": 5,
    "start_time": "2025-03-26T16:05:18.380Z"
   },
   {
    "duration": 961,
    "start_time": "2025-03-26T16:05:18.387Z"
   },
   {
    "duration": 15,
    "start_time": "2025-03-26T16:05:19.350Z"
   },
   {
    "duration": 38,
    "start_time": "2025-03-26T16:05:19.366Z"
   },
   {
    "duration": 34,
    "start_time": "2025-03-26T16:05:19.406Z"
   },
   {
    "duration": 15,
    "start_time": "2025-03-26T16:05:19.442Z"
   },
   {
    "duration": 32,
    "start_time": "2025-03-26T16:05:19.459Z"
   },
   {
    "duration": 1686,
    "start_time": "2025-03-26T16:05:19.492Z"
   },
   {
    "duration": 47,
    "start_time": "2025-03-26T16:05:21.180Z"
   },
   {
    "duration": 4057,
    "start_time": "2025-03-26T16:05:21.228Z"
   },
   {
    "duration": 45,
    "start_time": "2025-03-26T16:05:25.287Z"
   },
   {
    "duration": 48,
    "start_time": "2025-03-26T16:05:25.334Z"
   },
   {
    "duration": 7,
    "start_time": "2025-03-26T16:05:25.384Z"
   },
   {
    "duration": 9,
    "start_time": "2025-03-26T16:05:25.392Z"
   },
   {
    "duration": 76,
    "start_time": "2025-03-26T16:05:25.403Z"
   },
   {
    "duration": 2,
    "start_time": "2025-03-26T16:05:25.481Z"
   },
   {
    "duration": 13,
    "start_time": "2025-03-26T16:05:25.484Z"
   },
   {
    "duration": 7,
    "start_time": "2025-03-26T16:05:25.498Z"
   },
   {
    "duration": 195,
    "start_time": "2025-03-26T16:06:09.653Z"
   },
   {
    "duration": 3,
    "start_time": "2025-03-26T16:07:05.586Z"
   },
   {
    "duration": 3,
    "start_time": "2025-03-26T16:07:06.694Z"
   },
   {
    "duration": 4,
    "start_time": "2025-03-26T16:07:07.887Z"
   },
   {
    "duration": 45,
    "start_time": "2025-03-26T16:07:10.242Z"
   },
   {
    "duration": 2,
    "start_time": "2025-03-26T16:08:20.610Z"
   },
   {
    "duration": 3,
    "start_time": "2025-03-26T16:08:23.794Z"
   },
   {
    "duration": 3,
    "start_time": "2025-03-26T16:08:25.105Z"
   },
   {
    "duration": 4,
    "start_time": "2025-03-26T16:08:26.725Z"
   },
   {
    "duration": 42,
    "start_time": "2025-03-26T16:08:27.967Z"
   },
   {
    "duration": 2,
    "start_time": "2025-03-26T16:09:01.756Z"
   },
   {
    "duration": 3,
    "start_time": "2025-03-26T16:09:03.095Z"
   },
   {
    "duration": 4,
    "start_time": "2025-03-26T16:09:04.247Z"
   },
   {
    "duration": 45,
    "start_time": "2025-03-26T16:09:05.303Z"
   },
   {
    "duration": 42,
    "start_time": "2025-03-26T16:19:40.911Z"
   },
   {
    "duration": 2,
    "start_time": "2025-03-26T16:20:22.217Z"
   },
   {
    "duration": 91,
    "start_time": "2025-03-26T16:20:23.204Z"
   },
   {
    "duration": 2,
    "start_time": "2025-03-26T16:20:24.372Z"
   },
   {
    "duration": 3,
    "start_time": "2025-03-26T16:20:31.241Z"
   },
   {
    "duration": 4,
    "start_time": "2025-03-26T16:21:24.489Z"
   },
   {
    "duration": 41,
    "start_time": "2025-03-26T16:21:26.565Z"
   },
   {
    "duration": 44,
    "start_time": "2025-03-26T16:22:25.155Z"
   },
   {
    "duration": 3,
    "start_time": "2025-03-26T17:46:12.096Z"
   },
   {
    "duration": 64,
    "start_time": "2025-03-26T17:46:13.125Z"
   },
   {
    "duration": 3,
    "start_time": "2025-03-26T17:46:14.151Z"
   },
   {
    "duration": 3,
    "start_time": "2025-03-26T17:46:15.242Z"
   },
   {
    "duration": 4,
    "start_time": "2025-03-26T17:46:17.030Z"
   },
   {
    "duration": 1010,
    "start_time": "2025-03-26T17:46:18.463Z"
   },
   {
    "duration": 3,
    "start_time": "2025-03-26T17:47:08.392Z"
   },
   {
    "duration": 1122,
    "start_time": "2025-03-26T17:47:17.753Z"
   },
   {
    "duration": 1287,
    "start_time": "2025-03-26T17:59:23.373Z"
   },
   {
    "duration": 2235,
    "start_time": "2025-03-26T17:59:45.679Z"
   },
   {
    "duration": 2489,
    "start_time": "2025-03-26T17:59:47.917Z"
   },
   {
    "duration": 272,
    "start_time": "2025-03-26T17:59:50.407Z"
   },
   {
    "duration": 2,
    "start_time": "2025-03-26T17:59:50.681Z"
   },
   {
    "duration": 4,
    "start_time": "2025-03-26T17:59:50.685Z"
   },
   {
    "duration": 2,
    "start_time": "2025-03-26T17:59:50.691Z"
   },
   {
    "duration": 868,
    "start_time": "2025-03-26T17:59:50.694Z"
   },
   {
    "duration": 9,
    "start_time": "2025-03-26T17:59:51.563Z"
   },
   {
    "duration": 41,
    "start_time": "2025-03-26T17:59:51.574Z"
   },
   {
    "duration": 85,
    "start_time": "2025-03-26T17:59:51.616Z"
   },
   {
    "duration": 5,
    "start_time": "2025-03-26T17:59:51.702Z"
   },
   {
    "duration": 86,
    "start_time": "2025-03-26T17:59:51.709Z"
   },
   {
    "duration": 1718,
    "start_time": "2025-03-26T17:59:51.796Z"
   },
   {
    "duration": 52,
    "start_time": "2025-03-26T17:59:53.516Z"
   },
   {
    "duration": 3966,
    "start_time": "2025-03-26T17:59:53.570Z"
   },
   {
    "duration": 50,
    "start_time": "2025-03-26T17:59:57.538Z"
   },
   {
    "duration": 49,
    "start_time": "2025-03-26T17:59:57.590Z"
   },
   {
    "duration": 43,
    "start_time": "2025-03-26T17:59:57.641Z"
   },
   {
    "duration": 11,
    "start_time": "2025-03-26T17:59:57.687Z"
   },
   {
    "duration": 69,
    "start_time": "2025-03-26T17:59:57.699Z"
   },
   {
    "duration": 3,
    "start_time": "2025-03-26T17:59:57.770Z"
   },
   {
    "duration": 4,
    "start_time": "2025-03-26T17:59:57.774Z"
   },
   {
    "duration": 5,
    "start_time": "2025-03-26T17:59:57.779Z"
   },
   {
    "duration": 2964,
    "start_time": "2025-03-26T20:20:59.514Z"
   },
   {
    "duration": 2720,
    "start_time": "2025-03-26T20:21:02.482Z"
   },
   {
    "duration": 1428,
    "start_time": "2025-03-26T20:21:05.203Z"
   },
   {
    "duration": 3,
    "start_time": "2025-03-26T20:21:06.632Z"
   },
   {
    "duration": 4,
    "start_time": "2025-03-26T20:21:06.637Z"
   },
   {
    "duration": 7,
    "start_time": "2025-03-26T20:21:06.642Z"
   },
   {
    "duration": 965,
    "start_time": "2025-03-26T20:21:06.651Z"
   },
   {
    "duration": 9,
    "start_time": "2025-03-26T20:21:07.618Z"
   },
   {
    "duration": 31,
    "start_time": "2025-03-26T20:21:07.629Z"
   },
   {
    "duration": 35,
    "start_time": "2025-03-26T20:21:07.661Z"
   },
   {
    "duration": 5,
    "start_time": "2025-03-26T20:21:07.698Z"
   },
   {
    "duration": 34,
    "start_time": "2025-03-26T20:21:07.704Z"
   },
   {
    "duration": 1876,
    "start_time": "2025-03-26T20:21:07.740Z"
   },
   {
    "duration": 45,
    "start_time": "2025-03-26T20:21:09.618Z"
   },
   {
    "duration": 4538,
    "start_time": "2025-03-26T20:21:09.665Z"
   },
   {
    "duration": 41,
    "start_time": "2025-03-26T20:21:14.204Z"
   },
   {
    "duration": 62,
    "start_time": "2025-03-26T20:21:14.246Z"
   },
   {
    "duration": 7,
    "start_time": "2025-03-26T20:21:14.310Z"
   },
   {
    "duration": 3,
    "start_time": "2025-03-26T20:21:14.318Z"
   },
   {
    "duration": 86,
    "start_time": "2025-03-26T20:21:14.322Z"
   },
   {
    "duration": 3,
    "start_time": "2025-03-26T20:21:14.409Z"
   },
   {
    "duration": 19,
    "start_time": "2025-03-26T20:21:14.413Z"
   },
   {
    "duration": 4,
    "start_time": "2025-03-26T20:21:14.434Z"
   },
   {
    "duration": 3,
    "start_time": "2025-03-26T20:22:59.525Z"
   },
   {
    "duration": 68,
    "start_time": "2025-03-26T20:23:00.693Z"
   },
   {
    "duration": 3,
    "start_time": "2025-03-26T20:23:02.181Z"
   },
   {
    "duration": 3,
    "start_time": "2025-03-26T20:23:03.789Z"
   },
   {
    "duration": 3,
    "start_time": "2025-03-26T20:23:07.494Z"
   },
   {
    "duration": 751,
    "start_time": "2025-03-26T20:23:11.634Z"
   },
   {
    "duration": 2,
    "start_time": "2025-03-26T20:24:50.878Z"
   },
   {
    "duration": 67,
    "start_time": "2025-03-26T20:24:53.011Z"
   },
   {
    "duration": 3,
    "start_time": "2025-03-26T20:24:55.487Z"
   },
   {
    "duration": 3,
    "start_time": "2025-03-26T20:25:07.132Z"
   },
   {
    "duration": 3,
    "start_time": "2025-03-26T20:25:09.141Z"
   },
   {
    "duration": 4,
    "start_time": "2025-03-26T20:25:13.376Z"
   },
   {
    "duration": 1310,
    "start_time": "2025-03-26T20:25:19.393Z"
   },
   {
    "duration": 3,
    "start_time": "2025-03-26T20:32:49.935Z"
   },
   {
    "duration": 62,
    "start_time": "2025-03-26T20:32:51.241Z"
   },
   {
    "duration": 3,
    "start_time": "2025-03-26T20:32:53.238Z"
   },
   {
    "duration": 3,
    "start_time": "2025-03-26T20:32:56.441Z"
   },
   {
    "duration": 4,
    "start_time": "2025-03-26T20:32:58.177Z"
   },
   {
    "duration": 53,
    "start_time": "2025-03-26T20:32:58.182Z"
   },
   {
    "duration": 3,
    "start_time": "2025-03-26T20:35:03.132Z"
   },
   {
    "duration": 68,
    "start_time": "2025-03-26T20:35:04.428Z"
   },
   {
    "duration": 3,
    "start_time": "2025-03-26T20:35:15.992Z"
   },
   {
    "duration": 4,
    "start_time": "2025-03-26T20:35:17.376Z"
   },
   {
    "duration": 3094,
    "start_time": "2025-03-27T06:25:02.056Z"
   },
   {
    "duration": 3010,
    "start_time": "2025-03-27T06:25:05.153Z"
   },
   {
    "duration": 340,
    "start_time": "2025-03-27T06:25:08.165Z"
   },
   {
    "duration": 3,
    "start_time": "2025-03-27T06:25:08.506Z"
   },
   {
    "duration": 19,
    "start_time": "2025-03-27T06:25:08.511Z"
   },
   {
    "duration": 9,
    "start_time": "2025-03-27T06:25:08.533Z"
   },
   {
    "duration": 1041,
    "start_time": "2025-03-27T06:25:08.544Z"
   },
   {
    "duration": 10,
    "start_time": "2025-03-27T06:25:09.587Z"
   },
   {
    "duration": 59,
    "start_time": "2025-03-27T06:25:09.598Z"
   },
   {
    "duration": 39,
    "start_time": "2025-03-27T06:25:09.659Z"
   },
   {
    "duration": 25,
    "start_time": "2025-03-27T06:25:09.699Z"
   },
   {
    "duration": 42,
    "start_time": "2025-03-27T06:25:09.726Z"
   },
   {
    "duration": 1780,
    "start_time": "2025-03-27T06:25:09.770Z"
   },
   {
    "duration": 50,
    "start_time": "2025-03-27T06:25:11.552Z"
   },
   {
    "duration": 4258,
    "start_time": "2025-03-27T06:25:11.604Z"
   },
   {
    "duration": 48,
    "start_time": "2025-03-27T06:25:15.863Z"
   },
   {
    "duration": 104,
    "start_time": "2025-03-27T06:25:15.912Z"
   },
   {
    "duration": 8,
    "start_time": "2025-03-27T06:25:16.018Z"
   },
   {
    "duration": 96,
    "start_time": "2025-03-27T06:25:16.027Z"
   },
   {
    "duration": 70,
    "start_time": "2025-03-27T06:25:16.125Z"
   },
   {
    "duration": 3,
    "start_time": "2025-03-27T06:25:16.197Z"
   },
   {
    "duration": 11,
    "start_time": "2025-03-27T06:25:16.202Z"
   },
   {
    "duration": 12,
    "start_time": "2025-03-27T06:25:16.215Z"
   },
   {
    "duration": 0,
    "start_time": "2025-03-27T06:26:11.099Z"
   },
   {
    "duration": 2453,
    "start_time": "2025-03-27T06:26:17.699Z"
   },
   {
    "duration": 2705,
    "start_time": "2025-03-27T06:26:20.154Z"
   },
   {
    "duration": 240,
    "start_time": "2025-03-27T06:26:22.861Z"
   },
   {
    "duration": 3,
    "start_time": "2025-03-27T06:26:23.103Z"
   },
   {
    "duration": 66,
    "start_time": "2025-03-27T06:26:23.109Z"
   },
   {
    "duration": 30,
    "start_time": "2025-03-27T06:26:23.177Z"
   },
   {
    "duration": 1004,
    "start_time": "2025-03-27T06:26:23.209Z"
   },
   {
    "duration": 13,
    "start_time": "2025-03-27T06:26:24.214Z"
   },
   {
    "duration": 79,
    "start_time": "2025-03-27T06:26:24.229Z"
   },
   {
    "duration": 28,
    "start_time": "2025-03-27T06:26:24.309Z"
   },
   {
    "duration": 8,
    "start_time": "2025-03-27T06:26:24.339Z"
   },
   {
    "duration": 45,
    "start_time": "2025-03-27T06:26:24.349Z"
   },
   {
    "duration": 1874,
    "start_time": "2025-03-27T06:26:24.396Z"
   },
   {
    "duration": 43,
    "start_time": "2025-03-27T06:26:26.273Z"
   },
   {
    "duration": 4505,
    "start_time": "2025-03-27T06:26:26.318Z"
   },
   {
    "duration": 65,
    "start_time": "2025-03-27T06:26:30.824Z"
   },
   {
    "duration": 63,
    "start_time": "2025-03-27T06:26:30.890Z"
   },
   {
    "duration": 8,
    "start_time": "2025-03-27T06:26:30.954Z"
   },
   {
    "duration": 21,
    "start_time": "2025-03-27T06:26:30.964Z"
   },
   {
    "duration": 103,
    "start_time": "2025-03-27T06:26:30.987Z"
   },
   {
    "duration": 3,
    "start_time": "2025-03-27T06:26:31.092Z"
   },
   {
    "duration": 14,
    "start_time": "2025-03-27T06:26:31.096Z"
   },
   {
    "duration": 27,
    "start_time": "2025-03-27T06:26:31.112Z"
   },
   {
    "duration": 1261728,
    "start_time": "2025-03-27T06:26:31.140Z"
   },
   {
    "duration": 4,
    "start_time": "2025-03-27T06:48:14.864Z"
   },
   {
    "duration": 2418,
    "start_time": "2025-03-27T07:15:48.771Z"
   },
   {
    "duration": 2575,
    "start_time": "2025-03-27T07:15:51.192Z"
   },
   {
    "duration": 236,
    "start_time": "2025-03-27T07:15:53.769Z"
   },
   {
    "duration": 2,
    "start_time": "2025-03-27T07:15:54.007Z"
   },
   {
    "duration": 75,
    "start_time": "2025-03-27T07:15:54.011Z"
   },
   {
    "duration": 11,
    "start_time": "2025-03-27T07:15:54.088Z"
   },
   {
    "duration": 941,
    "start_time": "2025-03-27T07:15:54.100Z"
   },
   {
    "duration": 10,
    "start_time": "2025-03-27T07:15:55.043Z"
   },
   {
    "duration": 35,
    "start_time": "2025-03-27T07:15:55.062Z"
   },
   {
    "duration": 21,
    "start_time": "2025-03-27T07:15:55.099Z"
   },
   {
    "duration": 11,
    "start_time": "2025-03-27T07:15:55.122Z"
   },
   {
    "duration": 48,
    "start_time": "2025-03-27T07:15:55.135Z"
   },
   {
    "duration": 1796,
    "start_time": "2025-03-27T07:15:55.185Z"
   },
   {
    "duration": 44,
    "start_time": "2025-03-27T07:15:56.984Z"
   },
   {
    "duration": 4179,
    "start_time": "2025-03-27T07:15:57.030Z"
   },
   {
    "duration": 53,
    "start_time": "2025-03-27T07:16:01.211Z"
   },
   {
    "duration": 44,
    "start_time": "2025-03-27T07:16:01.265Z"
   },
   {
    "duration": 38,
    "start_time": "2025-03-27T07:16:01.311Z"
   },
   {
    "duration": 50,
    "start_time": "2025-03-27T07:16:01.351Z"
   },
   {
    "duration": 92,
    "start_time": "2025-03-27T07:16:01.402Z"
   },
   {
    "duration": 3,
    "start_time": "2025-03-27T07:16:01.496Z"
   },
   {
    "duration": 17,
    "start_time": "2025-03-27T07:16:01.500Z"
   },
   {
    "duration": 13,
    "start_time": "2025-03-27T07:16:01.519Z"
   },
   {
    "duration": 1521655,
    "start_time": "2025-03-27T07:16:06.490Z"
   },
   {
    "duration": 12,
    "start_time": "2025-03-27T07:56:54.632Z"
   },
   {
    "duration": 31,
    "start_time": "2025-03-27T07:57:19.413Z"
   },
   {
    "duration": 3,
    "start_time": "2025-03-27T08:04:19.434Z"
   },
   {
    "duration": 83,
    "start_time": "2025-03-27T08:04:20.818Z"
   },
   {
    "duration": 3,
    "start_time": "2025-03-27T08:04:22.958Z"
   },
   {
    "duration": 3,
    "start_time": "2025-03-27T08:04:24.203Z"
   },
   {
    "duration": 4,
    "start_time": "2025-03-27T08:04:32.480Z"
   },
   {
    "duration": 1202282,
    "start_time": "2025-03-27T08:04:46.481Z"
   },
   {
    "duration": 3,
    "start_time": "2025-03-27T08:27:42.039Z"
   },
   {
    "duration": 75,
    "start_time": "2025-03-27T08:27:42.814Z"
   },
   {
    "duration": 2,
    "start_time": "2025-03-27T08:28:04.193Z"
   },
   {
    "duration": 78,
    "start_time": "2025-03-27T08:28:05.115Z"
   },
   {
    "duration": 3,
    "start_time": "2025-03-27T08:28:06.198Z"
   },
   {
    "duration": 3,
    "start_time": "2025-03-27T08:28:11.381Z"
   },
   {
    "duration": 39,
    "start_time": "2025-03-27T08:28:17.727Z"
   },
   {
    "duration": 3,
    "start_time": "2025-03-27T08:29:06.802Z"
   },
   {
    "duration": 40,
    "start_time": "2025-03-27T08:29:07.986Z"
   },
   {
    "duration": 3,
    "start_time": "2025-03-27T08:29:32.112Z"
   },
   {
    "duration": 42,
    "start_time": "2025-03-27T08:29:33.053Z"
   },
   {
    "duration": 3,
    "start_time": "2025-03-27T08:31:26.899Z"
   },
   {
    "duration": 40,
    "start_time": "2025-03-27T08:31:28.106Z"
   },
   {
    "duration": 3,
    "start_time": "2025-03-27T08:31:49.862Z"
   },
   {
    "duration": 39,
    "start_time": "2025-03-27T08:31:51.021Z"
   },
   {
    "duration": 3,
    "start_time": "2025-03-27T08:32:10.180Z"
   },
   {
    "duration": 56570,
    "start_time": "2025-03-27T08:32:11.100Z"
   },
   {
    "duration": 17,
    "start_time": "2025-03-27T08:34:51.370Z"
   },
   {
    "duration": 3,
    "start_time": "2025-03-27T08:36:13.191Z"
   },
   {
    "duration": 43,
    "start_time": "2025-03-27T08:36:14.619Z"
   },
   {
    "duration": 3,
    "start_time": "2025-03-27T08:38:43.345Z"
   },
   {
    "duration": 29149,
    "start_time": "2025-03-27T08:38:44.452Z"
   },
   {
    "duration": 3,
    "start_time": "2025-03-27T08:40:03.304Z"
   },
   {
    "duration": 41,
    "start_time": "2025-03-27T08:40:04.503Z"
   },
   {
    "duration": 3,
    "start_time": "2025-03-27T08:42:52.591Z"
   },
   {
    "duration": 140942,
    "start_time": "2025-03-27T08:42:53.436Z"
   },
   {
    "duration": 25,
    "start_time": "2025-03-27T08:45:26.055Z"
   },
   {
    "duration": 3,
    "start_time": "2025-03-27T08:46:55.491Z"
   },
   {
    "duration": 41,
    "start_time": "2025-03-27T08:46:56.627Z"
   },
   {
    "duration": 4,
    "start_time": "2025-03-27T08:47:35.752Z"
   },
   {
    "duration": 300331,
    "start_time": "2025-03-27T08:47:36.689Z"
   },
   {
    "duration": 32,
    "start_time": "2025-03-27T09:04:21.756Z"
   },
   {
    "duration": 3,
    "start_time": "2025-03-27T09:06:02.790Z"
   },
   {
    "duration": 3,
    "start_time": "2025-03-27T09:06:03.617Z"
   },
   {
    "duration": 0,
    "start_time": "2025-03-27T09:08:43.786Z"
   },
   {
    "duration": 0,
    "start_time": "2025-03-27T09:08:43.786Z"
   },
   {
    "duration": 0,
    "start_time": "2025-03-27T09:08:43.787Z"
   },
   {
    "duration": 0,
    "start_time": "2025-03-27T09:08:43.788Z"
   },
   {
    "duration": 0,
    "start_time": "2025-03-27T09:08:43.789Z"
   },
   {
    "duration": 0,
    "start_time": "2025-03-27T09:08:43.790Z"
   },
   {
    "duration": 0,
    "start_time": "2025-03-27T09:08:43.792Z"
   },
   {
    "duration": 0,
    "start_time": "2025-03-27T09:08:43.793Z"
   },
   {
    "duration": 0,
    "start_time": "2025-03-27T09:08:43.793Z"
   },
   {
    "duration": 0,
    "start_time": "2025-03-27T09:08:43.794Z"
   },
   {
    "duration": 0,
    "start_time": "2025-03-27T09:08:43.795Z"
   },
   {
    "duration": 0,
    "start_time": "2025-03-27T09:08:43.796Z"
   },
   {
    "duration": 0,
    "start_time": "2025-03-27T09:08:43.797Z"
   },
   {
    "duration": 0,
    "start_time": "2025-03-27T09:08:43.798Z"
   },
   {
    "duration": 0,
    "start_time": "2025-03-27T09:08:43.799Z"
   },
   {
    "duration": 0,
    "start_time": "2025-03-27T09:08:43.800Z"
   },
   {
    "duration": 0,
    "start_time": "2025-03-27T09:08:43.801Z"
   },
   {
    "duration": 0,
    "start_time": "2025-03-27T09:08:43.802Z"
   },
   {
    "duration": 0,
    "start_time": "2025-03-27T09:08:43.803Z"
   },
   {
    "duration": 0,
    "start_time": "2025-03-27T09:08:43.804Z"
   },
   {
    "duration": 0,
    "start_time": "2025-03-27T09:08:43.805Z"
   },
   {
    "duration": 0,
    "start_time": "2025-03-27T09:08:43.806Z"
   },
   {
    "duration": 0,
    "start_time": "2025-03-27T09:08:43.807Z"
   },
   {
    "duration": 2461,
    "start_time": "2025-03-27T09:09:19.551Z"
   },
   {
    "duration": 2976,
    "start_time": "2025-03-27T09:09:22.015Z"
   },
   {
    "duration": 159,
    "start_time": "2025-03-27T09:09:24.993Z"
   },
   {
    "duration": 3,
    "start_time": "2025-03-27T09:09:25.154Z"
   },
   {
    "duration": 5,
    "start_time": "2025-03-27T09:09:25.160Z"
   },
   {
    "duration": 11,
    "start_time": "2025-03-27T09:09:25.166Z"
   },
   {
    "duration": 998,
    "start_time": "2025-03-27T09:09:25.179Z"
   },
   {
    "duration": 11,
    "start_time": "2025-03-27T09:09:26.179Z"
   },
   {
    "duration": 44,
    "start_time": "2025-03-27T09:09:26.192Z"
   },
   {
    "duration": 43,
    "start_time": "2025-03-27T09:09:26.238Z"
   },
   {
    "duration": 6,
    "start_time": "2025-03-27T09:09:26.283Z"
   },
   {
    "duration": 38,
    "start_time": "2025-03-27T09:09:26.291Z"
   },
   {
    "duration": 1786,
    "start_time": "2025-03-27T09:09:26.330Z"
   },
   {
    "duration": 50,
    "start_time": "2025-03-27T09:09:28.119Z"
   },
   {
    "duration": 4138,
    "start_time": "2025-03-27T09:09:28.171Z"
   },
   {
    "duration": 58,
    "start_time": "2025-03-27T09:09:32.311Z"
   },
   {
    "duration": 42,
    "start_time": "2025-03-27T09:09:32.371Z"
   },
   {
    "duration": 27,
    "start_time": "2025-03-27T09:09:32.415Z"
   },
   {
    "duration": 18,
    "start_time": "2025-03-27T09:09:32.444Z"
   },
   {
    "duration": 105,
    "start_time": "2025-03-27T09:09:32.463Z"
   },
   {
    "duration": 3,
    "start_time": "2025-03-27T09:09:32.569Z"
   },
   {
    "duration": 82,
    "start_time": "2025-03-27T09:09:32.574Z"
   },
   {
    "duration": 202848,
    "start_time": "2025-03-27T09:09:32.658Z"
   },
   {
    "duration": 26,
    "start_time": "2025-03-27T09:13:06.424Z"
   },
   {
    "duration": 3,
    "start_time": "2025-03-27T09:22:28.548Z"
   },
   {
    "duration": 74,
    "start_time": "2025-03-27T09:22:29.217Z"
   },
   {
    "duration": 4,
    "start_time": "2025-03-27T09:22:30.188Z"
   },
   {
    "duration": 4,
    "start_time": "2025-03-27T09:22:31.753Z"
   },
   {
    "duration": 157582,
    "start_time": "2025-03-27T09:22:32.906Z"
   },
   {
    "duration": 24,
    "start_time": "2025-03-27T09:25:10.489Z"
   },
   {
    "duration": 33,
    "start_time": "2025-03-27T09:26:09.763Z"
   },
   {
    "duration": 2,
    "start_time": "2025-03-27T09:28:12.825Z"
   },
   {
    "duration": 79,
    "start_time": "2025-03-27T09:28:13.914Z"
   },
   {
    "duration": 3,
    "start_time": "2025-03-27T09:28:15.131Z"
   },
   {
    "duration": 3,
    "start_time": "2025-03-27T09:28:16.224Z"
   },
   {
    "duration": 111310,
    "start_time": "2025-03-27T09:28:17.505Z"
   },
   {
    "duration": 28,
    "start_time": "2025-03-27T09:30:08.817Z"
   },
   {
    "duration": 30,
    "start_time": "2025-03-27T09:30:30.314Z"
   },
   {
    "duration": 3,
    "start_time": "2025-03-27T09:32:21.135Z"
   },
   {
    "duration": 163680,
    "start_time": "2025-03-27T09:32:22.301Z"
   },
   {
    "duration": 25,
    "start_time": "2025-03-27T09:35:05.983Z"
   },
   {
    "duration": 3,
    "start_time": "2025-03-27T09:37:29.672Z"
   },
   {
    "duration": 164399,
    "start_time": "2025-03-27T09:37:31.815Z"
   },
   {
    "duration": 24,
    "start_time": "2025-03-27T09:40:16.216Z"
   },
   {
    "duration": 23,
    "start_time": "2025-03-27T09:41:03.297Z"
   },
   {
    "duration": 4,
    "start_time": "2025-03-27T09:41:23.028Z"
   },
   {
    "duration": 164143,
    "start_time": "2025-03-27T09:41:23.957Z"
   },
   {
    "duration": 24,
    "start_time": "2025-03-27T09:44:08.102Z"
   },
   {
    "duration": 4,
    "start_time": "2025-03-27T09:45:08.613Z"
   },
   {
    "duration": 111650,
    "start_time": "2025-03-27T09:45:09.445Z"
   },
   {
    "duration": 21,
    "start_time": "2025-03-27T09:47:01.098Z"
   },
   {
    "duration": 226,
    "start_time": "2025-03-27T09:47:01.121Z"
   },
   {
    "duration": 4,
    "start_time": "2025-03-27T09:48:32.202Z"
   },
   {
    "duration": 112014,
    "start_time": "2025-03-27T09:48:33.795Z"
   },
   {
    "duration": 21,
    "start_time": "2025-03-27T09:50:25.811Z"
   },
   {
    "duration": 3,
    "start_time": "2025-03-27T09:51:57.424Z"
   },
   {
    "duration": 111834,
    "start_time": "2025-03-27T09:51:58.229Z"
   },
   {
    "duration": 22,
    "start_time": "2025-03-27T09:53:50.065Z"
   },
   {
    "duration": 5123,
    "start_time": "2025-03-27T11:07:37.744Z"
   },
   {
    "duration": 7,
    "start_time": "2025-03-27T11:07:47.029Z"
   },
   {
    "duration": 3,
    "start_time": "2025-03-27T11:10:01.896Z"
   },
   {
    "duration": 113,
    "start_time": "2025-03-27T11:10:03.090Z"
   },
   {
    "duration": 5,
    "start_time": "2025-03-27T11:10:04.299Z"
   },
   {
    "duration": 5,
    "start_time": "2025-03-27T11:10:05.729Z"
   },
   {
    "duration": 5,
    "start_time": "2025-03-27T11:10:22.485Z"
   },
   {
    "duration": 452,
    "start_time": "2025-03-27T11:10:34.500Z"
   },
   {
    "duration": 4917,
    "start_time": "2025-03-27T11:11:11.785Z"
   },
   {
    "duration": 3044,
    "start_time": "2025-03-27T11:11:16.704Z"
   },
   {
    "duration": 146,
    "start_time": "2025-03-27T11:11:19.749Z"
   },
   {
    "duration": 3,
    "start_time": "2025-03-27T11:11:19.897Z"
   },
   {
    "duration": 13,
    "start_time": "2025-03-27T11:11:19.902Z"
   },
   {
    "duration": 3,
    "start_time": "2025-03-27T11:11:19.916Z"
   },
   {
    "duration": 998,
    "start_time": "2025-03-27T11:11:19.920Z"
   },
   {
    "duration": 10,
    "start_time": "2025-03-27T11:11:20.919Z"
   },
   {
    "duration": 44,
    "start_time": "2025-03-27T11:11:20.931Z"
   },
   {
    "duration": 20,
    "start_time": "2025-03-27T11:11:20.977Z"
   },
   {
    "duration": 9,
    "start_time": "2025-03-27T11:11:20.998Z"
   },
   {
    "duration": 33,
    "start_time": "2025-03-27T11:11:21.008Z"
   },
   {
    "duration": 1802,
    "start_time": "2025-03-27T11:11:21.061Z"
   },
   {
    "duration": 47,
    "start_time": "2025-03-27T11:11:22.866Z"
   },
   {
    "duration": 4219,
    "start_time": "2025-03-27T11:11:22.915Z"
   },
   {
    "duration": 51,
    "start_time": "2025-03-27T11:11:27.136Z"
   },
   {
    "duration": 92,
    "start_time": "2025-03-27T11:11:27.189Z"
   },
   {
    "duration": 27,
    "start_time": "2025-03-27T11:11:27.283Z"
   },
   {
    "duration": 35,
    "start_time": "2025-03-27T11:11:27.311Z"
   },
   {
    "duration": 210,
    "start_time": "2025-03-27T11:11:27.347Z"
   },
   {
    "duration": 4,
    "start_time": "2025-03-27T11:11:27.559Z"
   },
   {
    "duration": 3,
    "start_time": "2025-03-27T11:12:33.292Z"
   },
   {
    "duration": 145412,
    "start_time": "2025-03-27T11:12:38.923Z"
   },
   {
    "duration": 4,
    "start_time": "2025-03-27T11:20:39.326Z"
   },
   {
    "duration": 142021,
    "start_time": "2025-03-27T11:20:40.328Z"
   },
   {
    "duration": 24,
    "start_time": "2025-03-27T11:23:54.903Z"
   },
   {
    "duration": 4,
    "start_time": "2025-03-27T11:27:58.788Z"
   },
   {
    "duration": 555041,
    "start_time": "2025-03-27T11:27:59.842Z"
   },
   {
    "duration": 0,
    "start_time": "2025-03-27T11:37:14.885Z"
   },
   {
    "duration": 4,
    "start_time": "2025-03-27T11:37:21.047Z"
   },
   {
    "duration": 147711,
    "start_time": "2025-03-27T11:37:21.864Z"
   },
   {
    "duration": 23,
    "start_time": "2025-03-27T11:39:49.577Z"
   },
   {
    "duration": 7203,
    "start_time": "2025-03-27T11:39:49.601Z"
   },
   {
    "duration": 4,
    "start_time": "2025-03-27T11:40:16.203Z"
   },
   {
    "duration": 4901,
    "start_time": "2025-03-27T13:14:03.326Z"
   },
   {
    "duration": 2626,
    "start_time": "2025-03-27T13:14:08.230Z"
   },
   {
    "duration": 345,
    "start_time": "2025-03-27T13:14:10.858Z"
   },
   {
    "duration": 2,
    "start_time": "2025-03-27T13:14:11.205Z"
   },
   {
    "duration": 12,
    "start_time": "2025-03-27T13:14:11.209Z"
   },
   {
    "duration": 3,
    "start_time": "2025-03-27T13:14:11.223Z"
   },
   {
    "duration": 827,
    "start_time": "2025-03-27T13:14:11.228Z"
   },
   {
    "duration": 9,
    "start_time": "2025-03-27T13:14:12.057Z"
   },
   {
    "duration": 39,
    "start_time": "2025-03-27T13:14:12.067Z"
   },
   {
    "duration": 19,
    "start_time": "2025-03-27T13:14:12.107Z"
   },
   {
    "duration": 5,
    "start_time": "2025-03-27T13:14:12.128Z"
   },
   {
    "duration": 26,
    "start_time": "2025-03-27T13:14:12.135Z"
   },
   {
    "duration": 1604,
    "start_time": "2025-03-27T13:14:12.162Z"
   },
   {
    "duration": 39,
    "start_time": "2025-03-27T13:14:13.769Z"
   },
   {
    "duration": 4023,
    "start_time": "2025-03-27T13:14:13.810Z"
   },
   {
    "duration": 40,
    "start_time": "2025-03-27T13:14:17.834Z"
   },
   {
    "duration": 55,
    "start_time": "2025-03-27T13:14:17.875Z"
   },
   {
    "duration": 7,
    "start_time": "2025-03-27T13:14:17.932Z"
   },
   {
    "duration": 4,
    "start_time": "2025-03-27T13:14:17.941Z"
   },
   {
    "duration": 84,
    "start_time": "2025-03-27T13:14:17.946Z"
   },
   {
    "duration": 3,
    "start_time": "2025-03-27T13:14:18.032Z"
   },
   {
    "duration": 5,
    "start_time": "2025-03-27T13:14:18.037Z"
   },
   {
    "duration": 0,
    "start_time": "2025-03-27T13:39:51.013Z"
   },
   {
    "duration": 0,
    "start_time": "2025-03-27T13:39:51.014Z"
   },
   {
    "duration": 4,
    "start_time": "2025-03-27T13:40:00.629Z"
   },
   {
    "duration": 1065118,
    "start_time": "2025-03-27T13:40:02.164Z"
   },
   {
    "duration": 28,
    "start_time": "2025-03-27T13:57:47.284Z"
   },
   {
    "duration": 3,
    "start_time": "2025-03-27T14:02:05.651Z"
   },
   {
    "duration": 506122,
    "start_time": "2025-03-27T14:02:10.100Z"
   },
   {
    "duration": 19,
    "start_time": "2025-03-27T14:10:36.224Z"
   },
   {
    "duration": 4,
    "start_time": "2025-03-27T14:11:11.903Z"
   },
   {
    "duration": 679976,
    "start_time": "2025-03-27T14:11:12.935Z"
   },
   {
    "duration": 22,
    "start_time": "2025-03-27T14:22:32.913Z"
   },
   {
    "duration": 3,
    "start_time": "2025-03-27T14:23:36.471Z"
   },
   {
    "duration": 60,
    "start_time": "2025-03-27T14:23:37.322Z"
   },
   {
    "duration": 3,
    "start_time": "2025-03-27T14:23:38.346Z"
   },
   {
    "duration": 4,
    "start_time": "2025-03-27T14:23:40.395Z"
   },
   {
    "duration": 710598,
    "start_time": "2025-03-27T14:23:59.575Z"
   },
   {
    "duration": 30,
    "start_time": "2025-03-27T14:35:50.175Z"
   },
   {
    "duration": 4,
    "start_time": "2025-03-27T14:37:10.984Z"
   },
   {
    "duration": 710651,
    "start_time": "2025-03-27T14:37:12.264Z"
   },
   {
    "duration": 21,
    "start_time": "2025-03-27T14:49:02.918Z"
   },
   {
    "duration": 7,
    "start_time": "2025-03-27T14:56:08.211Z"
   },
   {
    "duration": 707650,
    "start_time": "2025-03-27T14:56:09.175Z"
   },
   {
    "duration": 22,
    "start_time": "2025-03-27T15:08:36.009Z"
   },
   {
    "duration": 3,
    "start_time": "2025-03-27T15:09:06.659Z"
   },
   {
    "duration": 15996,
    "start_time": "2025-03-27T15:09:08.059Z"
   },
   {
    "duration": 3,
    "start_time": "2025-03-27T15:10:10.273Z"
   },
   {
    "duration": 758159,
    "start_time": "2025-03-27T15:10:12.040Z"
   },
   {
    "duration": 39,
    "start_time": "2025-03-27T15:22:50.201Z"
   },
   {
    "duration": 24,
    "start_time": "2025-03-27T15:24:01.827Z"
   },
   {
    "duration": 8993,
    "start_time": "2025-03-27T15:24:57.778Z"
   },
   {
    "duration": 155045,
    "start_time": "2025-03-27T15:25:07.900Z"
   },
   {
    "duration": 1283,
    "start_time": "2025-03-27T15:27:42.948Z"
   },
   {
    "duration": 17,
    "start_time": "2025-03-27T15:27:44.232Z"
   },
   {
    "duration": 70086,
    "start_time": "2025-03-27T15:28:49.000Z"
   },
   {
    "duration": 4,
    "start_time": "2025-03-27T15:34:58.329Z"
   },
   {
    "duration": 702632,
    "start_time": "2025-03-27T15:34:59.543Z"
   },
   {
    "duration": 41,
    "start_time": "2025-03-27T15:46:42.177Z"
   },
   {
    "duration": 22,
    "start_time": "2025-03-27T15:49:32.317Z"
   },
   {
    "duration": 3,
    "start_time": "2025-03-27T15:50:07.421Z"
   },
   {
    "duration": 29,
    "start_time": "2025-03-27T15:50:08.549Z"
   },
   {
    "duration": 4,
    "start_time": "2025-03-27T15:50:09.839Z"
   },
   {
    "duration": 3,
    "start_time": "2025-03-27T15:50:11.365Z"
   },
   {
    "duration": 55246,
    "start_time": "2025-03-27T15:50:13.139Z"
   },
   {
    "duration": 22,
    "start_time": "2025-03-27T15:51:15.582Z"
   },
   {
    "duration": 6,
    "start_time": "2025-03-27T15:51:54.474Z"
   },
   {
    "duration": 6,
    "start_time": "2025-03-27T15:52:04.249Z"
   },
   {
    "duration": 23,
    "start_time": "2025-03-27T15:52:46.387Z"
   },
   {
    "duration": 3,
    "start_time": "2025-03-27T15:52:49.152Z"
   },
   {
    "duration": 4,
    "start_time": "2025-03-27T15:53:11.767Z"
   },
   {
    "duration": 47915,
    "start_time": "2025-03-27T15:53:16.646Z"
   },
   {
    "duration": 25,
    "start_time": "2025-03-27T15:54:04.564Z"
   },
   {
    "duration": 24,
    "start_time": "2025-03-27T15:54:16.702Z"
   },
   {
    "duration": 19,
    "start_time": "2025-03-27T15:55:40.100Z"
   },
   {
    "duration": 3,
    "start_time": "2025-03-27T15:55:41.469Z"
   },
   {
    "duration": 4,
    "start_time": "2025-03-27T15:55:43.148Z"
   },
   {
    "duration": 71998,
    "start_time": "2025-03-27T15:55:44.998Z"
   },
   {
    "duration": 25,
    "start_time": "2025-03-27T15:57:05.681Z"
   },
   {
    "duration": 4,
    "start_time": "2025-03-27T15:58:10.312Z"
   },
   {
    "duration": 72271,
    "start_time": "2025-03-27T15:58:11.470Z"
   },
   {
    "duration": 25,
    "start_time": "2025-03-27T15:59:23.743Z"
   },
   {
    "duration": 4,
    "start_time": "2025-03-27T16:00:30.148Z"
   },
   {
    "duration": 71241,
    "start_time": "2025-03-27T16:00:31.016Z"
   },
   {
    "duration": 24,
    "start_time": "2025-03-27T16:01:42.259Z"
   },
   {
    "duration": 3,
    "start_time": "2025-03-27T16:48:58.785Z"
   },
   {
    "duration": 70604,
    "start_time": "2025-03-27T16:49:00.100Z"
   },
   {
    "duration": 24,
    "start_time": "2025-03-27T16:50:10.706Z"
   },
   {
    "duration": 542,
    "start_time": "2025-03-27T16:50:57.806Z"
   },
   {
    "duration": 2973,
    "start_time": "2025-03-27T16:51:00.047Z"
   },
   {
    "duration": 6,
    "start_time": "2025-03-27T16:51:07.300Z"
   },
   {
    "duration": 6,
    "start_time": "2025-03-27T16:51:08.992Z"
   },
   {
    "duration": 24,
    "start_time": "2025-03-27T16:52:17.364Z"
   },
   {
    "duration": 1344,
    "start_time": "2025-03-27T16:52:27.644Z"
   },
   {
    "duration": 9542,
    "start_time": "2025-03-27T16:52:30.167Z"
   },
   {
    "duration": 10,
    "start_time": "2025-03-27T16:52:41.901Z"
   },
   {
    "duration": 7,
    "start_time": "2025-03-27T16:52:46.150Z"
   },
   {
    "duration": 8214,
    "start_time": "2025-03-27T16:52:57.843Z"
   },
   {
    "duration": 51,
    "start_time": "2025-03-27T16:53:06.059Z"
   },
   {
    "duration": 7,
    "start_time": "2025-03-27T16:53:06.112Z"
   },
   {
    "duration": 9754,
    "start_time": "2025-03-27T16:53:17.599Z"
   },
   {
    "duration": 56,
    "start_time": "2025-03-27T16:53:27.355Z"
   },
   {
    "duration": 7,
    "start_time": "2025-03-27T16:53:27.412Z"
   },
   {
    "duration": 9056,
    "start_time": "2025-03-27T16:53:37.300Z"
   },
   {
    "duration": 51,
    "start_time": "2025-03-27T16:53:46.358Z"
   },
   {
    "duration": 7,
    "start_time": "2025-03-27T16:53:46.410Z"
   },
   {
    "duration": 4919,
    "start_time": "2025-03-27T16:54:01.033Z"
   },
   {
    "duration": 53,
    "start_time": "2025-03-27T16:54:05.954Z"
   },
   {
    "duration": 8,
    "start_time": "2025-03-27T16:54:06.008Z"
   },
   {
    "duration": 6960,
    "start_time": "2025-03-27T16:54:18.655Z"
   },
   {
    "duration": 17,
    "start_time": "2025-03-27T16:54:25.618Z"
   },
   {
    "duration": 50,
    "start_time": "2025-03-27T16:54:25.636Z"
   },
   {
    "duration": 7244,
    "start_time": "2025-03-27T16:54:34.769Z"
   },
   {
    "duration": 10,
    "start_time": "2025-03-27T16:54:42.015Z"
   },
   {
    "duration": 9,
    "start_time": "2025-03-27T16:54:42.027Z"
   },
   {
    "duration": 7541,
    "start_time": "2025-03-27T16:54:50.317Z"
   },
   {
    "duration": 52,
    "start_time": "2025-03-27T16:54:57.860Z"
   },
   {
    "duration": 8,
    "start_time": "2025-03-27T16:54:57.924Z"
   },
   {
    "duration": 7176,
    "start_time": "2025-03-27T16:55:12.442Z"
   },
   {
    "duration": 8,
    "start_time": "2025-03-27T16:55:19.620Z"
   },
   {
    "duration": 46,
    "start_time": "2025-03-27T16:55:19.630Z"
   },
   {
    "duration": 6934,
    "start_time": "2025-03-27T16:55:30.826Z"
   },
   {
    "duration": 63,
    "start_time": "2025-03-27T16:55:37.761Z"
   },
   {
    "duration": 7,
    "start_time": "2025-03-27T16:55:37.826Z"
   },
   {
    "duration": 10834,
    "start_time": "2025-03-27T16:55:45.801Z"
   },
   {
    "duration": 14,
    "start_time": "2025-03-27T16:55:56.638Z"
   },
   {
    "duration": 29,
    "start_time": "2025-03-27T16:55:56.704Z"
   },
   {
    "duration": 13689,
    "start_time": "2025-03-27T16:56:07.633Z"
   },
   {
    "duration": 16,
    "start_time": "2025-03-27T16:56:21.324Z"
   },
   {
    "duration": 75,
    "start_time": "2025-03-27T16:56:21.342Z"
   },
   {
    "duration": 12069,
    "start_time": "2025-03-27T16:56:31.993Z"
   },
   {
    "duration": 14,
    "start_time": "2025-03-27T16:56:44.105Z"
   },
   {
    "duration": 7,
    "start_time": "2025-03-27T16:56:44.121Z"
   },
   {
    "duration": 7024,
    "start_time": "2025-03-27T16:59:26.323Z"
   },
   {
    "duration": 60,
    "start_time": "2025-03-27T16:59:33.350Z"
   },
   {
    "duration": 8,
    "start_time": "2025-03-27T16:59:33.412Z"
   },
   {
    "duration": 5471,
    "start_time": "2025-03-27T16:59:40.160Z"
   },
   {
    "duration": 10,
    "start_time": "2025-03-27T16:59:45.633Z"
   },
   {
    "duration": 64,
    "start_time": "2025-03-27T16:59:45.644Z"
   },
   {
    "duration": 12161,
    "start_time": "2025-03-27T16:59:51.091Z"
   },
   {
    "duration": 65,
    "start_time": "2025-03-27T17:00:03.254Z"
   },
   {
    "duration": 127,
    "start_time": "2025-03-27T17:00:03.321Z"
   },
   {
    "duration": 12181,
    "start_time": "2025-03-27T17:00:10.867Z"
   },
   {
    "duration": 74,
    "start_time": "2025-03-27T17:00:23.050Z"
   },
   {
    "duration": 8,
    "start_time": "2025-03-27T17:00:23.126Z"
   },
   {
    "duration": 20463,
    "start_time": "2025-03-27T17:00:28.690Z"
   },
   {
    "duration": 68,
    "start_time": "2025-03-27T17:00:49.155Z"
   },
   {
    "duration": 9,
    "start_time": "2025-03-27T17:00:49.225Z"
   },
   {
    "duration": 16383,
    "start_time": "2025-03-27T17:01:32.373Z"
   },
   {
    "duration": 59,
    "start_time": "2025-03-27T17:01:48.757Z"
   },
   {
    "duration": 7,
    "start_time": "2025-03-27T17:01:48.818Z"
   },
   {
    "duration": 14913,
    "start_time": "2025-03-27T17:02:23.326Z"
   },
   {
    "duration": 71,
    "start_time": "2025-03-27T17:02:38.242Z"
   },
   {
    "duration": 10,
    "start_time": "2025-03-27T17:02:38.316Z"
   },
   {
    "duration": 14414,
    "start_time": "2025-03-27T17:02:46.138Z"
   },
   {
    "duration": 61,
    "start_time": "2025-03-27T17:03:00.554Z"
   },
   {
    "duration": 6,
    "start_time": "2025-03-27T17:03:00.617Z"
   },
   {
    "duration": 12817,
    "start_time": "2025-03-27T17:03:18.406Z"
   },
   {
    "duration": 81,
    "start_time": "2025-03-27T17:03:31.226Z"
   },
   {
    "duration": 10,
    "start_time": "2025-03-27T17:03:31.309Z"
   },
   {
    "duration": 9301,
    "start_time": "2025-03-27T17:07:19.129Z"
   },
   {
    "duration": 74,
    "start_time": "2025-03-27T17:07:28.432Z"
   },
   {
    "duration": 7,
    "start_time": "2025-03-27T17:07:28.507Z"
   },
   {
    "duration": 2,
    "start_time": "2025-03-27T17:08:14.406Z"
   },
   {
    "duration": 3,
    "start_time": "2025-03-27T17:08:48.125Z"
   },
   {
    "duration": 83,
    "start_time": "2025-03-27T17:08:49.432Z"
   },
   {
    "duration": 3,
    "start_time": "2025-03-27T17:09:05.724Z"
   },
   {
    "duration": 5,
    "start_time": "2025-03-27T17:09:07.610Z"
   },
   {
    "duration": 49511,
    "start_time": "2025-03-27T17:09:12.207Z"
   },
   {
    "duration": 3,
    "start_time": "2025-03-27T17:10:17.716Z"
   },
   {
    "duration": 23665,
    "start_time": "2025-03-27T17:10:22.106Z"
   },
   {
    "duration": 4903,
    "start_time": "2025-03-27T17:10:50.369Z"
   },
   {
    "duration": 2747,
    "start_time": "2025-03-27T17:10:55.274Z"
   },
   {
    "duration": 151,
    "start_time": "2025-03-27T17:10:58.022Z"
   },
   {
    "duration": 3,
    "start_time": "2025-03-27T17:10:58.174Z"
   },
   {
    "duration": 15,
    "start_time": "2025-03-27T17:10:58.178Z"
   },
   {
    "duration": 2,
    "start_time": "2025-03-27T17:10:58.195Z"
   },
   {
    "duration": 921,
    "start_time": "2025-03-27T17:10:58.199Z"
   },
   {
    "duration": 10,
    "start_time": "2025-03-27T17:10:59.122Z"
   },
   {
    "duration": 46,
    "start_time": "2025-03-27T17:10:59.134Z"
   },
   {
    "duration": 26,
    "start_time": "2025-03-27T17:10:59.182Z"
   },
   {
    "duration": 6,
    "start_time": "2025-03-27T17:10:59.210Z"
   },
   {
    "duration": 31,
    "start_time": "2025-03-27T17:10:59.218Z"
   },
   {
    "duration": 1727,
    "start_time": "2025-03-27T17:10:59.251Z"
   },
   {
    "duration": 50,
    "start_time": "2025-03-27T17:11:00.980Z"
   },
   {
    "duration": 4080,
    "start_time": "2025-03-27T17:11:01.032Z"
   },
   {
    "duration": 48,
    "start_time": "2025-03-27T17:11:05.114Z"
   },
   {
    "duration": 83,
    "start_time": "2025-03-27T17:11:05.164Z"
   },
   {
    "duration": 23,
    "start_time": "2025-03-27T17:11:05.250Z"
   },
   {
    "duration": 39,
    "start_time": "2025-03-27T17:11:05.275Z"
   },
   {
    "duration": 72,
    "start_time": "2025-03-27T17:11:05.316Z"
   },
   {
    "duration": 4,
    "start_time": "2025-03-27T17:11:05.390Z"
   },
   {
    "duration": 12,
    "start_time": "2025-03-27T17:11:05.395Z"
   },
   {
    "duration": 5351,
    "start_time": "2025-03-27T17:21:46.300Z"
   },
   {
    "duration": 2831,
    "start_time": "2025-03-27T17:21:51.653Z"
   },
   {
    "duration": 163,
    "start_time": "2025-03-27T17:21:54.486Z"
   },
   {
    "duration": 3,
    "start_time": "2025-03-27T17:21:54.651Z"
   },
   {
    "duration": 47,
    "start_time": "2025-03-27T17:21:54.655Z"
   },
   {
    "duration": 16,
    "start_time": "2025-03-27T17:21:54.704Z"
   },
   {
    "duration": 1019,
    "start_time": "2025-03-27T17:21:54.722Z"
   },
   {
    "duration": 12,
    "start_time": "2025-03-27T17:21:55.742Z"
   },
   {
    "duration": 69,
    "start_time": "2025-03-27T17:21:55.756Z"
   },
   {
    "duration": 21,
    "start_time": "2025-03-27T17:21:55.828Z"
   },
   {
    "duration": 6,
    "start_time": "2025-03-27T17:21:55.851Z"
   },
   {
    "duration": 70,
    "start_time": "2025-03-27T17:21:55.859Z"
   },
   {
    "duration": 1941,
    "start_time": "2025-03-27T17:21:55.931Z"
   },
   {
    "duration": 61,
    "start_time": "2025-03-27T17:21:57.874Z"
   },
   {
    "duration": 4799,
    "start_time": "2025-03-27T17:21:57.937Z"
   },
   {
    "duration": 49,
    "start_time": "2025-03-27T17:22:02.738Z"
   },
   {
    "duration": 90,
    "start_time": "2025-03-27T17:22:02.789Z"
   },
   {
    "duration": 8,
    "start_time": "2025-03-27T17:22:02.880Z"
   },
   {
    "duration": 6,
    "start_time": "2025-03-27T17:22:02.890Z"
   },
   {
    "duration": 100,
    "start_time": "2025-03-27T17:22:02.897Z"
   },
   {
    "duration": 3,
    "start_time": "2025-03-27T17:22:02.999Z"
   },
   {
    "duration": 12,
    "start_time": "2025-03-27T17:22:03.005Z"
   },
   {
    "duration": 659034,
    "start_time": "2025-03-27T17:22:03.019Z"
   },
   {
    "duration": 59,
    "start_time": "2025-03-27T17:33:02.063Z"
   },
   {
    "duration": 8221,
    "start_time": "2025-03-27T17:34:22.157Z"
   },
   {
    "duration": 120399,
    "start_time": "2025-03-27T17:34:30.380Z"
   },
   {
    "duration": 1227,
    "start_time": "2025-03-27T17:36:30.781Z"
   },
   {
    "duration": 25,
    "start_time": "2025-03-27T17:36:32.019Z"
   },
   {
    "duration": 120345,
    "start_time": "2025-03-27T17:37:23.027Z"
   },
   {
    "duration": 1431,
    "start_time": "2025-03-27T17:39:23.374Z"
   },
   {
    "duration": 22,
    "start_time": "2025-03-27T17:39:24.813Z"
   },
   {
    "duration": 91927,
    "start_time": "2025-03-27T17:44:30.026Z"
   },
   {
    "duration": 1374,
    "start_time": "2025-03-27T17:46:01.954Z"
   },
   {
    "duration": 16,
    "start_time": "2025-03-27T17:46:03.330Z"
   },
   {
    "duration": 111511,
    "start_time": "2025-03-27T17:46:22.110Z"
   },
   {
    "duration": 1397,
    "start_time": "2025-03-27T17:48:13.622Z"
   },
   {
    "duration": 26,
    "start_time": "2025-03-27T17:48:15.021Z"
   },
   {
    "duration": 110449,
    "start_time": "2025-03-27T17:48:30.832Z"
   },
   {
    "duration": 1354,
    "start_time": "2025-03-27T17:50:21.284Z"
   },
   {
    "duration": 17,
    "start_time": "2025-03-27T17:50:22.640Z"
   },
   {
    "duration": 92422,
    "start_time": "2025-03-27T17:50:48.594Z"
   },
   {
    "duration": 1186,
    "start_time": "2025-03-27T17:52:21.019Z"
   },
   {
    "duration": 16,
    "start_time": "2025-03-27T17:52:22.206Z"
   },
   {
    "duration": 111058,
    "start_time": "2025-03-27T17:53:30.088Z"
   },
   {
    "duration": 1401,
    "start_time": "2025-03-27T17:55:21.148Z"
   },
   {
    "duration": 64,
    "start_time": "2025-03-27T17:55:22.551Z"
   },
   {
    "duration": 118756,
    "start_time": "2025-03-27T17:55:32.791Z"
   },
   {
    "duration": 1418,
    "start_time": "2025-03-27T17:57:31.549Z"
   },
   {
    "duration": 17,
    "start_time": "2025-03-27T17:57:32.969Z"
   },
   {
    "duration": 120740,
    "start_time": "2025-03-27T17:58:31.832Z"
   },
   {
    "duration": 1450,
    "start_time": "2025-03-27T18:00:32.574Z"
   },
   {
    "duration": 17,
    "start_time": "2025-03-27T18:00:34.026Z"
   },
   {
    "duration": 82844,
    "start_time": "2025-03-27T18:07:00.610Z"
   },
   {
    "duration": 1082,
    "start_time": "2025-03-27T18:08:23.456Z"
   },
   {
    "duration": 73,
    "start_time": "2025-03-27T18:08:24.540Z"
   },
   {
    "duration": 4951,
    "start_time": "2025-03-27T18:11:36.425Z"
   },
   {
    "duration": 2839,
    "start_time": "2025-03-27T18:11:41.380Z"
   },
   {
    "duration": 158,
    "start_time": "2025-03-27T18:11:44.221Z"
   },
   {
    "duration": 3,
    "start_time": "2025-03-27T18:11:44.380Z"
   },
   {
    "duration": 8,
    "start_time": "2025-03-27T18:11:44.385Z"
   },
   {
    "duration": 3,
    "start_time": "2025-03-27T18:11:44.395Z"
   },
   {
    "duration": 966,
    "start_time": "2025-03-27T18:11:44.399Z"
   },
   {
    "duration": 10,
    "start_time": "2025-03-27T18:11:45.367Z"
   },
   {
    "duration": 57,
    "start_time": "2025-03-27T18:11:45.379Z"
   },
   {
    "duration": 29,
    "start_time": "2025-03-27T18:11:45.438Z"
   },
   {
    "duration": 36,
    "start_time": "2025-03-27T18:11:45.469Z"
   },
   {
    "duration": 68,
    "start_time": "2025-03-27T18:11:45.507Z"
   },
   {
    "duration": 1819,
    "start_time": "2025-03-27T18:11:45.577Z"
   },
   {
    "duration": 46,
    "start_time": "2025-03-27T18:11:47.398Z"
   },
   {
    "duration": 5,
    "start_time": "2025-03-27T18:26:12.240Z"
   },
   {
    "duration": 4204,
    "start_time": "2025-03-27T18:27:26.693Z"
   },
   {
    "duration": 51,
    "start_time": "2025-03-27T18:27:34.131Z"
   },
   {
    "duration": 51,
    "start_time": "2025-03-27T18:27:41.080Z"
   },
   {
    "duration": 8,
    "start_time": "2025-03-27T18:27:42.479Z"
   },
   {
    "duration": 4,
    "start_time": "2025-03-27T18:27:51.288Z"
   },
   {
    "duration": 73,
    "start_time": "2025-03-27T18:28:07.169Z"
   },
   {
    "duration": 7459,
    "start_time": "2025-03-27T18:28:18.850Z"
   },
   {
    "duration": 89324,
    "start_time": "2025-03-27T18:28:26.311Z"
   },
   {
    "duration": 1309,
    "start_time": "2025-03-27T18:29:55.637Z"
   },
   {
    "duration": 17,
    "start_time": "2025-03-27T18:29:56.948Z"
   },
   {
    "duration": 3684,
    "start_time": "2025-03-27T18:32:37.031Z"
   },
   {
    "duration": 45,
    "start_time": "2025-03-27T18:32:40.717Z"
   },
   {
    "duration": 47,
    "start_time": "2025-03-27T18:32:41.588Z"
   },
   {
    "duration": 8,
    "start_time": "2025-03-27T18:32:42.918Z"
   },
   {
    "duration": 3,
    "start_time": "2025-03-27T18:32:50.532Z"
   },
   {
    "duration": 82,
    "start_time": "2025-03-27T18:32:52.117Z"
   },
   {
    "duration": 3,
    "start_time": "2025-03-27T18:32:54.194Z"
   },
   {
    "duration": 5,
    "start_time": "2025-03-27T18:34:55.759Z"
   },
   {
    "duration": 1412597,
    "start_time": "2025-03-27T18:34:57.341Z"
   },
   {
    "duration": 37,
    "start_time": "2025-03-27T18:58:29.940Z"
   },
   {
    "duration": 4908,
    "start_time": "2025-03-27T19:01:10.749Z"
   },
   {
    "duration": 2678,
    "start_time": "2025-03-27T19:01:15.659Z"
   },
   {
    "duration": 153,
    "start_time": "2025-03-27T19:01:18.339Z"
   },
   {
    "duration": 2,
    "start_time": "2025-03-27T19:01:18.494Z"
   },
   {
    "duration": 29,
    "start_time": "2025-03-27T19:01:18.498Z"
   },
   {
    "duration": 2,
    "start_time": "2025-03-27T19:01:18.529Z"
   },
   {
    "duration": 923,
    "start_time": "2025-03-27T19:01:18.533Z"
   },
   {
    "duration": 10,
    "start_time": "2025-03-27T19:01:19.457Z"
   },
   {
    "duration": 106,
    "start_time": "2025-03-27T19:01:19.469Z"
   },
   {
    "duration": 140,
    "start_time": "2025-03-27T19:01:19.577Z"
   },
   {
    "duration": 6,
    "start_time": "2025-03-27T19:01:19.718Z"
   },
   {
    "duration": 102,
    "start_time": "2025-03-27T19:01:19.725Z"
   },
   {
    "duration": 1720,
    "start_time": "2025-03-27T19:01:19.828Z"
   },
   {
    "duration": 42,
    "start_time": "2025-03-27T19:01:21.550Z"
   },
   {
    "duration": 6101,
    "start_time": "2025-03-27T19:01:43.901Z"
   },
   {
    "duration": 49,
    "start_time": "2025-03-27T19:02:07.460Z"
   },
   {
    "duration": 48,
    "start_time": "2025-03-27T19:06:32.817Z"
   },
   {
    "duration": 7,
    "start_time": "2025-03-27T19:06:33.001Z"
   },
   {
    "duration": 3,
    "start_time": "2025-03-27T19:06:35.932Z"
   },
   {
    "duration": 68,
    "start_time": "2025-03-27T19:06:38.064Z"
   },
   {
    "duration": 7142,
    "start_time": "2025-03-27T19:06:45.601Z"
   },
   {
    "duration": 93063,
    "start_time": "2025-03-27T19:06:52.748Z"
   },
   {
    "duration": 1192,
    "start_time": "2025-03-27T19:08:25.812Z"
   },
   {
    "duration": 16,
    "start_time": "2025-03-27T19:08:27.006Z"
   },
   {
    "duration": 67,
    "start_time": "2025-03-27T19:12:09.176Z"
   },
   {
    "duration": 65,
    "start_time": "2025-03-27T19:12:16.587Z"
   },
   {
    "duration": 62,
    "start_time": "2025-03-27T19:12:21.759Z"
   },
   {
    "duration": 63,
    "start_time": "2025-03-27T19:12:27.163Z"
   },
   {
    "duration": 161,
    "start_time": "2025-03-27T19:13:08.689Z"
   },
   {
    "duration": 7378,
    "start_time": "2025-03-27T19:13:32.512Z"
   },
   {
    "duration": 74,
    "start_time": "2025-03-27T19:13:39.892Z"
   },
   {
    "duration": 7135,
    "start_time": "2025-03-27T19:14:01.726Z"
   },
   {
    "duration": 74,
    "start_time": "2025-03-27T19:14:08.863Z"
   },
   {
    "duration": 7373,
    "start_time": "2025-03-27T19:28:19.720Z"
   },
   {
    "duration": 84259,
    "start_time": "2025-03-27T19:28:27.095Z"
   },
   {
    "duration": 1401,
    "start_time": "2025-03-27T19:29:51.356Z"
   },
   {
    "duration": 44,
    "start_time": "2025-03-27T19:29:52.760Z"
   },
   {
    "duration": 89607,
    "start_time": "2025-03-27T19:32:09.851Z"
   },
   {
    "duration": 1573,
    "start_time": "2025-03-27T19:33:39.461Z"
   },
   {
    "duration": 18,
    "start_time": "2025-03-27T19:33:41.037Z"
   },
   {
    "duration": 78458,
    "start_time": "2025-03-27T19:34:48.055Z"
   },
   {
    "duration": 1158,
    "start_time": "2025-03-27T19:36:06.515Z"
   },
   {
    "duration": 42,
    "start_time": "2025-03-27T19:36:07.675Z"
   },
   {
    "duration": 87907,
    "start_time": "2025-03-27T19:36:26.409Z"
   },
   {
    "duration": 1418,
    "start_time": "2025-03-27T19:37:54.318Z"
   },
   {
    "duration": 19,
    "start_time": "2025-03-27T19:37:55.737Z"
   },
   {
    "duration": 85659,
    "start_time": "2025-03-27T19:38:55.905Z"
   },
   {
    "duration": 1278,
    "start_time": "2025-03-27T19:40:21.566Z"
   },
   {
    "duration": 16,
    "start_time": "2025-03-27T19:40:22.846Z"
   },
   {
    "duration": 87437,
    "start_time": "2025-03-27T19:43:43.873Z"
   },
   {
    "duration": 1362,
    "start_time": "2025-03-27T19:45:11.312Z"
   },
   {
    "duration": 28,
    "start_time": "2025-03-27T19:45:12.676Z"
   },
   {
    "duration": 95586,
    "start_time": "2025-03-27T20:02:30.897Z"
   },
   {
    "duration": 1438,
    "start_time": "2025-03-27T20:04:06.484Z"
   },
   {
    "duration": 15,
    "start_time": "2025-03-27T20:04:07.924Z"
   },
   {
    "duration": 1649,
    "start_time": "2025-03-27T20:08:29.382Z"
   },
   {
    "duration": 8222,
    "start_time": "2025-03-27T20:09:34.804Z"
   },
   {
    "duration": 1282,
    "start_time": "2025-03-27T20:32:33.970Z"
   },
   {
    "duration": 1274,
    "start_time": "2025-03-27T20:33:00.931Z"
   },
   {
    "duration": 978,
    "start_time": "2025-03-27T20:33:19.340Z"
   },
   {
    "duration": 2070,
    "start_time": "2025-03-27T20:34:02.554Z"
   },
   {
    "duration": 5101,
    "start_time": "2025-03-27T20:35:24.247Z"
   },
   {
    "duration": 4299,
    "start_time": "2025-03-27T20:35:29.351Z"
   },
   {
    "duration": 244,
    "start_time": "2025-03-27T20:35:33.651Z"
   },
   {
    "duration": 3,
    "start_time": "2025-03-27T20:35:33.896Z"
   },
   {
    "duration": 87,
    "start_time": "2025-03-27T20:35:33.901Z"
   },
   {
    "duration": 21,
    "start_time": "2025-03-27T20:35:33.989Z"
   },
   {
    "duration": 977,
    "start_time": "2025-03-27T20:35:34.011Z"
   },
   {
    "duration": 20,
    "start_time": "2025-03-27T20:35:34.989Z"
   },
   {
    "duration": 42,
    "start_time": "2025-03-27T20:35:35.011Z"
   },
   {
    "duration": 52,
    "start_time": "2025-03-27T20:35:35.055Z"
   },
   {
    "duration": 6,
    "start_time": "2025-03-27T20:35:35.108Z"
   },
   {
    "duration": 33,
    "start_time": "2025-03-27T20:35:35.116Z"
   },
   {
    "duration": 2063,
    "start_time": "2025-03-27T20:35:35.151Z"
   },
   {
    "duration": 5200,
    "start_time": "2025-03-27T20:36:15.577Z"
   },
   {
    "duration": 4375,
    "start_time": "2025-03-27T20:36:20.780Z"
   },
   {
    "duration": 237,
    "start_time": "2025-03-27T20:36:25.157Z"
   },
   {
    "duration": 3,
    "start_time": "2025-03-27T20:36:25.395Z"
   },
   {
    "duration": 65,
    "start_time": "2025-03-27T20:36:25.400Z"
   },
   {
    "duration": 7,
    "start_time": "2025-03-27T20:36:25.466Z"
   },
   {
    "duration": 979,
    "start_time": "2025-03-27T20:36:25.475Z"
   },
   {
    "duration": 11,
    "start_time": "2025-03-27T20:36:26.456Z"
   },
   {
    "duration": 58,
    "start_time": "2025-03-27T20:36:26.468Z"
   },
   {
    "duration": 23,
    "start_time": "2025-03-27T20:36:26.527Z"
   },
   {
    "duration": 6,
    "start_time": "2025-03-27T20:36:26.552Z"
   },
   {
    "duration": 54,
    "start_time": "2025-03-27T20:36:26.559Z"
   },
   {
    "duration": 2131,
    "start_time": "2025-03-27T20:36:26.614Z"
   },
   {
    "duration": 56,
    "start_time": "2025-03-27T20:36:28.748Z"
   },
   {
    "duration": 7640,
    "start_time": "2025-03-27T20:36:28.806Z"
   },
   {
    "duration": 57,
    "start_time": "2025-03-27T20:36:36.447Z"
   },
   {
    "duration": 152,
    "start_time": "2025-03-27T20:36:36.506Z"
   },
   {
    "duration": 74,
    "start_time": "2025-03-27T20:36:36.660Z"
   },
   {
    "duration": 8,
    "start_time": "2025-03-27T20:36:36.735Z"
   },
   {
    "duration": 88,
    "start_time": "2025-03-27T20:36:36.744Z"
   },
   {
    "duration": 3,
    "start_time": "2025-03-27T20:36:36.834Z"
   },
   {
    "duration": 20,
    "start_time": "2025-03-27T20:36:36.839Z"
   },
   {
    "duration": 5114,
    "start_time": "2025-03-28T07:46:23.498Z"
   },
   {
    "duration": 4200,
    "start_time": "2025-03-28T07:46:28.615Z"
   },
   {
    "duration": 470,
    "start_time": "2025-03-28T07:46:32.817Z"
   },
   {
    "duration": 3,
    "start_time": "2025-03-28T07:46:33.288Z"
   },
   {
    "duration": 4,
    "start_time": "2025-03-28T07:46:33.293Z"
   },
   {
    "duration": 3,
    "start_time": "2025-03-28T07:46:33.299Z"
   },
   {
    "duration": 938,
    "start_time": "2025-03-28T07:46:33.304Z"
   },
   {
    "duration": 19,
    "start_time": "2025-03-28T07:46:34.243Z"
   },
   {
    "duration": 54,
    "start_time": "2025-03-28T07:46:34.263Z"
   },
   {
    "duration": 20,
    "start_time": "2025-03-28T07:46:34.319Z"
   },
   {
    "duration": 5,
    "start_time": "2025-03-28T07:46:34.341Z"
   },
   {
    "duration": 43,
    "start_time": "2025-03-28T07:46:34.347Z"
   },
   {
    "duration": 1936,
    "start_time": "2025-03-28T07:46:34.392Z"
   },
   {
    "duration": 51,
    "start_time": "2025-03-28T07:46:36.331Z"
   },
   {
    "duration": 7670,
    "start_time": "2025-03-28T07:46:36.384Z"
   },
   {
    "duration": 41,
    "start_time": "2025-03-28T07:46:44.055Z"
   },
   {
    "duration": 36,
    "start_time": "2025-03-28T07:46:44.098Z"
   },
   {
    "duration": 23,
    "start_time": "2025-03-28T07:46:44.135Z"
   },
   {
    "duration": 47,
    "start_time": "2025-03-28T07:46:44.160Z"
   },
   {
    "duration": 127,
    "start_time": "2025-03-28T07:46:44.209Z"
   },
   {
    "duration": 3,
    "start_time": "2025-03-28T07:46:44.337Z"
   },
   {
    "duration": 8,
    "start_time": "2025-03-28T07:46:44.342Z"
   },
   {
    "duration": 845272,
    "start_time": "2025-03-28T07:46:44.352Z"
   },
   {
    "duration": 47,
    "start_time": "2025-03-28T08:00:49.625Z"
   },
   {
    "duration": 7719,
    "start_time": "2025-03-28T08:03:28.019Z"
   },
   {
    "duration": 61973,
    "start_time": "2025-03-28T08:03:35.740Z"
   },
   {
    "duration": 97384,
    "start_time": "2025-03-28T08:39:04.062Z"
   },
   {
    "duration": 101781,
    "start_time": "2025-03-28T08:45:36.951Z"
   },
   {
    "duration": 0,
    "start_time": "2025-03-28T08:55:32.193Z"
   },
   {
    "duration": 67511,
    "start_time": "2025-03-28T08:55:36.093Z"
   },
   {
    "duration": 98516,
    "start_time": "2025-03-28T08:58:11.067Z"
   },
   {
    "duration": 81525,
    "start_time": "2025-03-28T09:01:48.490Z"
   },
   {
    "duration": 75505,
    "start_time": "2025-03-28T09:03:28.650Z"
   },
   {
    "duration": 74811,
    "start_time": "2025-03-28T09:05:15.419Z"
   },
   {
    "duration": 10291,
    "start_time": "2025-03-28T09:10:05.219Z"
   },
   {
    "duration": 189,
    "start_time": "2025-03-28T09:16:50.460Z"
   },
   {
    "duration": 77968,
    "start_time": "2025-03-28T09:18:28.845Z"
   },
   {
    "duration": 191,
    "start_time": "2025-03-28T09:20:23.299Z"
   },
   {
    "duration": 74243,
    "start_time": "2025-03-28T09:27:08.090Z"
   },
   {
    "duration": 64645,
    "start_time": "2025-03-28T09:30:02.492Z"
   },
   {
    "duration": 57302,
    "start_time": "2025-03-28T09:35:26.985Z"
   },
   {
    "duration": 61516,
    "start_time": "2025-03-28T09:37:24.793Z"
   },
   {
    "duration": 35078,
    "start_time": "2025-03-28T09:41:03.991Z"
   },
   {
    "duration": 64985,
    "start_time": "2025-03-28T09:41:50.465Z"
   },
   {
    "duration": 2071,
    "start_time": "2025-03-28T09:43:08.689Z"
   },
   {
    "duration": 65594,
    "start_time": "2025-03-28T09:43:24.445Z"
   },
   {
    "duration": 64194,
    "start_time": "2025-03-28T09:44:44.883Z"
   },
   {
    "duration": 61472,
    "start_time": "2025-03-28T09:47:15.411Z"
   },
   {
    "duration": 68518,
    "start_time": "2025-03-28T09:49:58.243Z"
   },
   {
    "duration": 69090,
    "start_time": "2025-03-28T09:52:03.667Z"
   },
   {
    "duration": 63349,
    "start_time": "2025-03-28T09:53:16.187Z"
   },
   {
    "duration": 63582,
    "start_time": "2025-03-28T09:58:00.220Z"
   },
   {
    "duration": 93451,
    "start_time": "2025-03-28T10:00:30.060Z"
   },
   {
    "duration": 78645,
    "start_time": "2025-03-28T10:02:30.831Z"
   },
   {
    "duration": 92504,
    "start_time": "2025-03-28T10:04:44.031Z"
   },
   {
    "duration": 67507,
    "start_time": "2025-03-28T10:07:09.233Z"
   },
   {
    "duration": 65068,
    "start_time": "2025-03-28T10:09:34.871Z"
   },
   {
    "duration": 64915,
    "start_time": "2025-03-28T10:13:04.244Z"
   },
   {
    "duration": 60830,
    "start_time": "2025-03-28T10:14:44.944Z"
   },
   {
    "duration": 83167,
    "start_time": "2025-03-28T10:16:14.676Z"
   },
   {
    "duration": 89730,
    "start_time": "2025-03-28T10:18:30.425Z"
   },
   {
    "duration": 65139,
    "start_time": "2025-03-28T10:24:07.700Z"
   },
   {
    "duration": 59739,
    "start_time": "2025-03-28T10:28:23.081Z"
   },
   {
    "duration": 1351,
    "start_time": "2025-03-28T10:29:22.822Z"
   },
   {
    "duration": 15,
    "start_time": "2025-03-28T10:29:24.175Z"
   },
   {
    "duration": 86790,
    "start_time": "2025-03-28T10:30:13.403Z"
   },
   {
    "duration": 1263,
    "start_time": "2025-03-28T10:31:40.195Z"
   },
   {
    "duration": 16,
    "start_time": "2025-03-28T10:31:41.460Z"
   },
   {
    "duration": 104890,
    "start_time": "2025-03-28T10:31:52.582Z"
   },
   {
    "duration": 1291,
    "start_time": "2025-03-28T10:33:37.474Z"
   },
   {
    "duration": 15,
    "start_time": "2025-03-28T10:33:38.767Z"
   },
   {
    "duration": 80394,
    "start_time": "2025-03-28T10:35:00.491Z"
   },
   {
    "duration": 1327,
    "start_time": "2025-03-28T10:36:20.887Z"
   },
   {
    "duration": 15,
    "start_time": "2025-03-28T10:36:22.258Z"
   },
   {
    "duration": 3,
    "start_time": "2025-03-28T10:36:54.627Z"
   },
   {
    "duration": 18,
    "start_time": "2025-03-28T10:36:55.622Z"
   },
   {
    "duration": 78525,
    "start_time": "2025-03-28T10:37:33.710Z"
   },
   {
    "duration": 1304,
    "start_time": "2025-03-28T10:38:52.257Z"
   },
   {
    "duration": 17,
    "start_time": "2025-03-28T10:38:53.563Z"
   },
   {
    "duration": 79737,
    "start_time": "2025-03-28T10:40:19.194Z"
   },
   {
    "duration": 1326,
    "start_time": "2025-03-28T10:41:38.933Z"
   },
   {
    "duration": 16,
    "start_time": "2025-03-28T10:41:40.260Z"
   },
   {
    "duration": 80864,
    "start_time": "2025-03-28T10:44:29.795Z"
   },
   {
    "duration": 1398,
    "start_time": "2025-03-28T10:45:50.660Z"
   },
   {
    "duration": 15,
    "start_time": "2025-03-28T10:45:52.061Z"
   },
   {
    "duration": 81067,
    "start_time": "2025-03-28T10:46:25.136Z"
   },
   {
    "duration": 1376,
    "start_time": "2025-03-28T10:47:46.205Z"
   },
   {
    "duration": 16,
    "start_time": "2025-03-28T10:47:47.583Z"
   },
   {
    "duration": 80407,
    "start_time": "2025-03-28T10:48:12.167Z"
   },
   {
    "duration": 1418,
    "start_time": "2025-03-28T10:49:32.576Z"
   },
   {
    "duration": 17,
    "start_time": "2025-03-28T10:49:33.996Z"
   },
   {
    "duration": 81705,
    "start_time": "2025-03-28T10:53:26.213Z"
   },
   {
    "duration": 1359,
    "start_time": "2025-03-28T10:54:47.920Z"
   },
   {
    "duration": 15,
    "start_time": "2025-03-28T10:54:49.281Z"
   },
   {
    "duration": 80510,
    "start_time": "2025-03-28T10:56:53.620Z"
   },
   {
    "duration": 1345,
    "start_time": "2025-03-28T10:58:14.131Z"
   },
   {
    "duration": 16,
    "start_time": "2025-03-28T10:58:15.478Z"
   },
   {
    "duration": 77646,
    "start_time": "2025-03-28T13:30:42.435Z"
   },
   {
    "duration": 1296,
    "start_time": "2025-03-28T13:32:00.083Z"
   },
   {
    "duration": 15,
    "start_time": "2025-03-28T13:32:01.381Z"
   },
   {
    "duration": 80057,
    "start_time": "2025-03-28T13:38:27.627Z"
   },
   {
    "duration": 1304,
    "start_time": "2025-03-28T13:39:47.687Z"
   },
   {
    "duration": 15,
    "start_time": "2025-03-28T13:39:48.993Z"
   },
   {
    "duration": 75491,
    "start_time": "2025-03-28T13:41:01.839Z"
   },
   {
    "duration": 1344,
    "start_time": "2025-03-28T13:42:17.332Z"
   },
   {
    "duration": 14,
    "start_time": "2025-03-28T13:42:18.678Z"
   },
   {
    "duration": 74515,
    "start_time": "2025-03-28T13:43:57.270Z"
   },
   {
    "duration": 1379,
    "start_time": "2025-03-28T13:45:11.787Z"
   },
   {
    "duration": 15,
    "start_time": "2025-03-28T13:45:13.168Z"
   },
   {
    "duration": 76079,
    "start_time": "2025-03-28T13:47:09.623Z"
   },
   {
    "duration": 1301,
    "start_time": "2025-03-28T13:48:25.705Z"
   },
   {
    "duration": 15,
    "start_time": "2025-03-28T13:48:27.058Z"
   },
   {
    "duration": 73845,
    "start_time": "2025-03-28T13:48:37.517Z"
   },
   {
    "duration": 1240,
    "start_time": "2025-03-28T13:49:51.365Z"
   },
   {
    "duration": 15,
    "start_time": "2025-03-28T13:49:52.657Z"
   },
   {
    "duration": 73127,
    "start_time": "2025-03-28T13:53:10.102Z"
   },
   {
    "duration": 1266,
    "start_time": "2025-03-28T13:54:23.231Z"
   },
   {
    "duration": 15,
    "start_time": "2025-03-28T13:54:24.499Z"
   },
   {
    "duration": 73925,
    "start_time": "2025-03-28T13:57:31.968Z"
   },
   {
    "duration": 1263,
    "start_time": "2025-03-28T13:58:45.895Z"
   },
   {
    "duration": 16,
    "start_time": "2025-03-28T13:58:47.159Z"
   },
   {
    "duration": 73452,
    "start_time": "2025-03-28T14:03:05.530Z"
   },
   {
    "duration": 1331,
    "start_time": "2025-03-28T14:04:18.984Z"
   },
   {
    "duration": 15,
    "start_time": "2025-03-28T14:04:20.316Z"
   },
   {
    "duration": 76856,
    "start_time": "2025-03-28T14:11:36.362Z"
   },
   {
    "duration": 1360,
    "start_time": "2025-03-28T14:12:53.220Z"
   },
   {
    "duration": 14,
    "start_time": "2025-03-28T14:12:54.582Z"
   },
   {
    "duration": 4788,
    "start_time": "2025-03-28T14:13:28.610Z"
   },
   {
    "duration": 4252,
    "start_time": "2025-03-28T14:13:33.401Z"
   },
   {
    "duration": 145,
    "start_time": "2025-03-28T14:13:37.655Z"
   },
   {
    "duration": 2,
    "start_time": "2025-03-28T14:13:37.802Z"
   },
   {
    "duration": 5,
    "start_time": "2025-03-28T14:13:37.806Z"
   },
   {
    "duration": 4,
    "start_time": "2025-03-28T14:13:37.812Z"
   },
   {
    "duration": 1130,
    "start_time": "2025-03-28T14:13:37.818Z"
   },
   {
    "duration": 17,
    "start_time": "2025-03-28T14:13:38.950Z"
   },
   {
    "duration": 35,
    "start_time": "2025-03-28T14:13:38.969Z"
   },
   {
    "duration": 89,
    "start_time": "2025-03-28T14:13:39.006Z"
   },
   {
    "duration": 6,
    "start_time": "2025-03-28T14:13:39.097Z"
   },
   {
    "duration": 32,
    "start_time": "2025-03-28T14:13:39.105Z"
   },
   {
    "duration": 1908,
    "start_time": "2025-03-28T14:13:39.138Z"
   },
   {
    "duration": 50,
    "start_time": "2025-03-28T14:13:41.058Z"
   },
   {
    "duration": 7354,
    "start_time": "2025-03-28T14:13:41.109Z"
   },
   {
    "duration": 45,
    "start_time": "2025-03-28T14:13:48.465Z"
   },
   {
    "duration": 53,
    "start_time": "2025-03-28T14:13:48.512Z"
   },
   {
    "duration": 62,
    "start_time": "2025-03-28T14:13:48.567Z"
   },
   {
    "duration": 4,
    "start_time": "2025-03-28T14:13:48.631Z"
   },
   {
    "duration": 68,
    "start_time": "2025-03-28T14:13:48.636Z"
   },
   {
    "duration": 4,
    "start_time": "2025-03-28T14:13:48.706Z"
   },
   {
    "duration": 5,
    "start_time": "2025-03-28T14:13:48.712Z"
   },
   {
    "duration": 834603,
    "start_time": "2025-03-28T14:13:48.718Z"
   },
   {
    "duration": 51,
    "start_time": "2025-03-28T14:27:43.322Z"
   },
   {
    "duration": 318,
    "start_time": "2025-03-28T14:27:43.376Z"
   },
   {
    "duration": 0,
    "start_time": "2025-03-28T14:27:43.696Z"
   },
   {
    "duration": 0,
    "start_time": "2025-03-28T14:27:43.698Z"
   },
   {
    "duration": 0,
    "start_time": "2025-03-28T14:27:43.699Z"
   },
   {
    "duration": 7106,
    "start_time": "2025-03-28T14:29:01.313Z"
   },
   {
    "duration": 78286,
    "start_time": "2025-03-28T14:29:08.421Z"
   },
   {
    "duration": 1385,
    "start_time": "2025-03-28T14:30:26.708Z"
   },
   {
    "duration": 64,
    "start_time": "2025-03-28T14:30:28.095Z"
   },
   {
    "duration": 18,
    "start_time": "2025-03-28T14:33:14.070Z"
   },
   {
    "duration": 11,
    "start_time": "2025-03-28T14:33:37.084Z"
   },
   {
    "duration": 5,
    "start_time": "2025-03-28T14:34:37.989Z"
   },
   {
    "duration": 36,
    "start_time": "2025-03-28T14:34:49.556Z"
   },
   {
    "duration": 3037,
    "start_time": "2025-03-28T14:35:37.152Z"
   },
   {
    "duration": 3017,
    "start_time": "2025-03-28T14:36:29.820Z"
   },
   {
    "duration": 5,
    "start_time": "2025-03-28T15:00:58.758Z"
   },
   {
    "duration": 919176,
    "start_time": "2025-03-28T15:01:06.695Z"
   },
   {
    "duration": 4,
    "start_time": "2025-03-28T15:16:25.874Z"
   },
   {
    "duration": 73,
    "start_time": "2025-03-28T15:16:25.886Z"
   },
   {
    "duration": 3602,
    "start_time": "2025-03-28T15:16:25.962Z"
   },
   {
    "duration": 7488,
    "start_time": "2025-03-28T15:17:35.450Z"
   },
   {
    "duration": 5,
    "start_time": "2025-03-28T15:18:28.304Z"
   },
   {
    "duration": 236,
    "start_time": "2025-03-28T15:31:23.093Z"
   },
   {
    "duration": 48092,
    "start_time": "2025-03-28T15:33:15.159Z"
   },
   {
    "duration": 18,
    "start_time": "2025-03-28T15:55:11.703Z"
   },
   {
    "duration": 175351,
    "start_time": "2025-03-28T15:55:34.579Z"
   },
   {
    "duration": 21,
    "start_time": "2025-03-28T16:03:01.615Z"
   },
   {
    "duration": 18,
    "start_time": "2025-03-28T16:09:00.093Z"
   },
   {
    "duration": 32,
    "start_time": "2025-03-28T17:12:46.761Z"
   },
   {
    "duration": 94596,
    "start_time": "2025-03-28T17:12:51.671Z"
   },
   {
    "duration": 2541,
    "start_time": "2025-03-28T17:14:37.861Z"
   },
   {
    "duration": 2500,
    "start_time": "2025-03-28T17:14:47.333Z"
   },
   {
    "duration": 2421,
    "start_time": "2025-03-28T17:14:58.214Z"
   },
   {
    "duration": 4359,
    "start_time": "2025-03-28T17:15:11.387Z"
   },
   {
    "duration": 352,
    "start_time": "2025-03-28T17:17:11.182Z"
   },
   {
    "duration": 0,
    "start_time": "2025-03-28T17:17:11.537Z"
   },
   {
    "duration": 2444,
    "start_time": "2025-03-28T17:17:17.095Z"
   },
   {
    "duration": 5,
    "start_time": "2025-03-28T17:17:19.542Z"
   },
   {
    "duration": 157,
    "start_time": "2025-03-28T17:17:19.549Z"
   },
   {
    "duration": 3,
    "start_time": "2025-03-28T17:17:19.708Z"
   },
   {
    "duration": 4,
    "start_time": "2025-03-28T17:17:19.713Z"
   },
   {
    "duration": 2,
    "start_time": "2025-03-28T17:17:19.719Z"
   },
   {
    "duration": 939,
    "start_time": "2025-03-28T17:17:19.722Z"
   },
   {
    "duration": 12,
    "start_time": "2025-03-28T17:17:20.663Z"
   },
   {
    "duration": 36,
    "start_time": "2025-03-28T17:17:20.676Z"
   },
   {
    "duration": 46,
    "start_time": "2025-03-28T17:17:20.713Z"
   },
   {
    "duration": 7,
    "start_time": "2025-03-28T17:17:20.760Z"
   },
   {
    "duration": 32,
    "start_time": "2025-03-28T17:17:20.769Z"
   },
   {
    "duration": 2016,
    "start_time": "2025-03-28T17:17:20.802Z"
   },
   {
    "duration": 56,
    "start_time": "2025-03-28T17:17:22.820Z"
   },
   {
    "duration": 7548,
    "start_time": "2025-03-28T17:17:22.877Z"
   },
   {
    "duration": 52,
    "start_time": "2025-03-28T17:17:30.427Z"
   },
   {
    "duration": 46,
    "start_time": "2025-03-28T17:17:30.481Z"
   },
   {
    "duration": 8,
    "start_time": "2025-03-28T17:17:30.528Z"
   },
   {
    "duration": 20,
    "start_time": "2025-03-28T17:17:30.538Z"
   },
   {
    "duration": 70,
    "start_time": "2025-03-28T17:17:30.560Z"
   },
   {
    "duration": 22,
    "start_time": "2025-03-28T17:18:05.023Z"
   },
   {
    "duration": 210127,
    "start_time": "2025-03-28T17:25:18.870Z"
   },
   {
    "duration": 131469,
    "start_time": "2025-03-28T17:32:57.870Z"
   },
   {
    "duration": 209415,
    "start_time": "2025-03-28T17:35:23.035Z"
   },
   {
    "duration": 10226,
    "start_time": "2025-03-28T17:56:01.042Z"
   },
   {
    "duration": 2842,
    "start_time": "2025-03-28T17:57:11.415Z"
   },
   {
    "duration": 49,
    "start_time": "2025-03-28T18:05:55.953Z"
   },
   {
    "duration": 2418,
    "start_time": "2025-03-28T18:06:10.947Z"
   },
   {
    "duration": 4315,
    "start_time": "2025-03-28T18:06:13.367Z"
   },
   {
    "duration": 166,
    "start_time": "2025-03-28T18:06:17.684Z"
   },
   {
    "duration": 3,
    "start_time": "2025-03-28T18:06:17.851Z"
   },
   {
    "duration": 7,
    "start_time": "2025-03-28T18:06:17.856Z"
   },
   {
    "duration": 2,
    "start_time": "2025-03-28T18:06:17.864Z"
   },
   {
    "duration": 920,
    "start_time": "2025-03-28T18:06:17.868Z"
   },
   {
    "duration": 11,
    "start_time": "2025-03-28T18:06:18.789Z"
   },
   {
    "duration": 35,
    "start_time": "2025-03-28T18:06:18.802Z"
   },
   {
    "duration": 39,
    "start_time": "2025-03-28T18:06:18.839Z"
   },
   {
    "duration": 5,
    "start_time": "2025-03-28T18:06:18.880Z"
   },
   {
    "duration": 33,
    "start_time": "2025-03-28T18:06:18.887Z"
   },
   {
    "duration": 1970,
    "start_time": "2025-03-28T18:06:18.922Z"
   },
   {
    "duration": 49,
    "start_time": "2025-03-28T18:06:20.895Z"
   },
   {
    "duration": 4231,
    "start_time": "2025-03-28T18:06:20.946Z"
   },
   {
    "duration": 78,
    "start_time": "2025-03-28T18:06:25.180Z"
   },
   {
    "duration": 49,
    "start_time": "2025-03-28T18:06:25.260Z"
   },
   {
    "duration": 8,
    "start_time": "2025-03-28T18:06:25.310Z"
   },
   {
    "duration": 3,
    "start_time": "2025-03-28T18:06:25.320Z"
   },
   {
    "duration": 93,
    "start_time": "2025-03-28T18:06:25.325Z"
   },
   {
    "duration": 55881,
    "start_time": "2025-03-28T18:06:47.589Z"
   },
   {
    "duration": 9018,
    "start_time": "2025-03-28T18:07:43.472Z"
   },
   {
    "duration": 3024,
    "start_time": "2025-03-28T18:07:52.492Z"
   },
   {
    "duration": 58,
    "start_time": "2025-03-28T18:09:11.669Z"
   },
   {
    "duration": 2366,
    "start_time": "2025-03-28T18:09:22.921Z"
   },
   {
    "duration": 4167,
    "start_time": "2025-03-28T18:09:25.290Z"
   },
   {
    "duration": 162,
    "start_time": "2025-03-28T18:09:29.459Z"
   },
   {
    "duration": 3,
    "start_time": "2025-03-28T18:09:29.623Z"
   },
   {
    "duration": 5,
    "start_time": "2025-03-28T18:09:29.628Z"
   },
   {
    "duration": 3,
    "start_time": "2025-03-28T18:09:29.635Z"
   },
   {
    "duration": 943,
    "start_time": "2025-03-28T18:09:29.639Z"
   },
   {
    "duration": 11,
    "start_time": "2025-03-28T18:09:30.583Z"
   },
   {
    "duration": 34,
    "start_time": "2025-03-28T18:09:30.596Z"
   },
   {
    "duration": 44,
    "start_time": "2025-03-28T18:09:30.631Z"
   },
   {
    "duration": 16,
    "start_time": "2025-03-28T18:09:30.676Z"
   },
   {
    "duration": 33,
    "start_time": "2025-03-28T18:09:30.693Z"
   },
   {
    "duration": 2009,
    "start_time": "2025-03-28T18:09:30.727Z"
   },
   {
    "duration": 50,
    "start_time": "2025-03-28T18:09:32.739Z"
   },
   {
    "duration": 4198,
    "start_time": "2025-03-28T18:09:32.791Z"
   },
   {
    "duration": 44,
    "start_time": "2025-03-28T18:09:36.991Z"
   },
   {
    "duration": 66,
    "start_time": "2025-03-28T18:09:37.037Z"
   },
   {
    "duration": 8,
    "start_time": "2025-03-28T18:09:37.105Z"
   },
   {
    "duration": 4,
    "start_time": "2025-03-28T18:09:37.114Z"
   },
   {
    "duration": 84,
    "start_time": "2025-03-28T18:09:37.119Z"
   },
   {
    "duration": 54793,
    "start_time": "2025-03-28T18:09:37.205Z"
   },
   {
    "duration": 9082,
    "start_time": "2025-03-28T18:10:31.999Z"
   },
   {
    "duration": 2604,
    "start_time": "2025-03-28T18:10:41.083Z"
   },
   {
    "duration": 50,
    "start_time": "2025-03-28T18:14:03.986Z"
   },
   {
    "duration": 13,
    "start_time": "2025-03-28T19:16:07.856Z"
   },
   {
    "duration": 2560,
    "start_time": "2025-03-28T19:16:25.597Z"
   },
   {
    "duration": 4458,
    "start_time": "2025-03-28T19:16:28.163Z"
   },
   {
    "duration": 274,
    "start_time": "2025-03-28T19:16:32.623Z"
   },
   {
    "duration": 3,
    "start_time": "2025-03-28T19:16:32.900Z"
   },
   {
    "duration": 17,
    "start_time": "2025-03-28T19:16:32.905Z"
   },
   {
    "duration": 15,
    "start_time": "2025-03-28T19:16:32.924Z"
   },
   {
    "duration": 985,
    "start_time": "2025-03-28T19:16:32.941Z"
   },
   {
    "duration": 11,
    "start_time": "2025-03-28T19:16:33.928Z"
   },
   {
    "duration": 110,
    "start_time": "2025-03-28T19:16:33.940Z"
   },
   {
    "duration": 36,
    "start_time": "2025-03-28T19:16:34.053Z"
   },
   {
    "duration": 7,
    "start_time": "2025-03-28T19:16:34.091Z"
   },
   {
    "duration": 31,
    "start_time": "2025-03-28T19:16:34.100Z"
   },
   {
    "duration": 2088,
    "start_time": "2025-03-28T19:16:34.132Z"
   },
   {
    "duration": 49,
    "start_time": "2025-03-28T19:16:36.222Z"
   },
   {
    "duration": 4497,
    "start_time": "2025-03-28T19:16:36.273Z"
   },
   {
    "duration": 44,
    "start_time": "2025-03-28T19:16:40.772Z"
   },
   {
    "duration": 57,
    "start_time": "2025-03-28T19:16:40.818Z"
   },
   {
    "duration": 7,
    "start_time": "2025-03-28T19:16:40.877Z"
   },
   {
    "duration": 14,
    "start_time": "2025-03-28T19:16:40.886Z"
   },
   {
    "duration": 80,
    "start_time": "2025-03-28T19:16:40.902Z"
   },
   {
    "duration": 3,
    "start_time": "2025-03-28T19:16:40.983Z"
   },
   {
    "duration": 11,
    "start_time": "2025-03-28T19:16:40.988Z"
   },
   {
    "duration": 1026071,
    "start_time": "2025-03-28T19:16:41.000Z"
   },
   {
    "duration": 3,
    "start_time": "2025-03-28T19:33:47.073Z"
   },
   {
    "duration": 36,
    "start_time": "2025-03-28T19:33:47.078Z"
   },
   {
    "duration": 3656,
    "start_time": "2025-03-28T19:33:47.115Z"
   },
   {
    "duration": 4463,
    "start_time": "2025-03-29T19:27:12.984Z"
   },
   {
    "duration": 314,
    "start_time": "2025-03-29T19:27:17.449Z"
   },
   {
    "duration": 2,
    "start_time": "2025-03-29T19:27:17.765Z"
   },
   {
    "duration": 5,
    "start_time": "2025-03-29T19:27:17.769Z"
   },
   {
    "duration": 2,
    "start_time": "2025-03-29T19:27:17.908Z"
   },
   {
    "duration": 907,
    "start_time": "2025-03-29T19:27:22.607Z"
   },
   {
    "duration": 9,
    "start_time": "2025-03-29T19:27:27.808Z"
   },
   {
    "duration": 12557,
    "start_time": "2025-03-29T19:49:38.929Z"
   },
   {
    "duration": 8211,
    "start_time": "2025-03-29T19:50:04.458Z"
   },
   {
    "duration": 8224,
    "start_time": "2025-03-29T19:50:16.060Z"
   },
   {
    "duration": 6,
    "start_time": "2025-03-29T20:04:51.050Z"
   },
   {
    "duration": 6,
    "start_time": "2025-03-29T20:04:53.366Z"
   },
   {
    "duration": 2,
    "start_time": "2025-03-29T20:04:55.621Z"
   },
   {
    "duration": 3,
    "start_time": "2025-03-29T20:04:59.179Z"
   },
   {
    "duration": 2,
    "start_time": "2025-03-29T20:05:00.409Z"
   },
   {
    "duration": 915,
    "start_time": "2025-03-29T20:05:02.151Z"
   },
   {
    "duration": 8,
    "start_time": "2025-03-29T20:05:17.625Z"
   },
   {
    "duration": 35,
    "start_time": "2025-03-29T20:05:25.922Z"
   },
   {
    "duration": 18,
    "start_time": "2025-03-29T20:05:27.382Z"
   },
   {
    "duration": 335,
    "start_time": "2025-03-29T20:10:40.731Z"
   },
   {
    "duration": 8232,
    "start_time": "2025-03-29T20:10:57.350Z"
   },
   {
    "duration": 4058,
    "start_time": "2025-03-29T20:11:15.080Z"
   },
   {
    "duration": 5,
    "start_time": "2025-03-29T20:27:11.556Z"
   },
   {
    "duration": 315,
    "start_time": "2025-03-29T20:28:04.552Z"
   },
   {
    "duration": 233,
    "start_time": "2025-03-29T20:28:18.543Z"
   },
   {
    "duration": 3,
    "start_time": "2025-03-29T20:28:18.880Z"
   },
   {
    "duration": 4,
    "start_time": "2025-03-29T20:28:19.090Z"
   },
   {
    "duration": 3,
    "start_time": "2025-03-29T20:28:19.971Z"
   },
   {
    "duration": 956,
    "start_time": "2025-03-29T20:28:20.728Z"
   },
   {
    "duration": 11,
    "start_time": "2025-03-29T20:28:24.531Z"
   },
   {
    "duration": 33,
    "start_time": "2025-03-29T20:28:26.776Z"
   },
   {
    "duration": 16,
    "start_time": "2025-03-29T20:28:28.183Z"
   },
   {
    "duration": 5,
    "start_time": "2025-03-29T20:28:29.243Z"
   },
   {
    "duration": 78,
    "start_time": "2025-03-29T20:28:31.358Z"
   },
   {
    "duration": 4,
    "start_time": "2025-03-29T20:28:55.925Z"
   },
   {
    "duration": 9631,
    "start_time": "2025-03-30T19:15:08.543Z"
   },
   {
    "duration": 4439,
    "start_time": "2025-03-30T19:15:18.176Z"
   },
   {
    "duration": 386,
    "start_time": "2025-03-30T19:15:22.617Z"
   },
   {
    "duration": 3,
    "start_time": "2025-03-30T19:15:23.005Z"
   },
   {
    "duration": 10,
    "start_time": "2025-03-30T19:15:23.009Z"
   },
   {
    "duration": 8,
    "start_time": "2025-03-30T19:15:23.020Z"
   },
   {
    "duration": 1255,
    "start_time": "2025-03-30T19:15:23.029Z"
   },
   {
    "duration": 10,
    "start_time": "2025-03-30T19:15:24.285Z"
   },
   {
    "duration": 32,
    "start_time": "2025-03-30T19:15:24.297Z"
   },
   {
    "duration": 19,
    "start_time": "2025-03-30T19:15:24.331Z"
   },
   {
    "duration": 6,
    "start_time": "2025-03-30T19:15:24.352Z"
   },
   {
    "duration": 58,
    "start_time": "2025-03-30T19:15:24.360Z"
   },
   {
    "duration": 76,
    "start_time": "2025-03-30T19:17:15.079Z"
   },
   {
    "duration": 4,
    "start_time": "2025-03-30T19:17:19.279Z"
   },
   {
    "duration": 319,
    "start_time": "2025-03-30T19:18:49.721Z"
   },
   {
    "duration": 26,
    "start_time": "2025-03-30T19:19:28.194Z"
   },
   {
    "duration": 78,
    "start_time": "2025-03-30T19:28:05.817Z"
   },
   {
    "duration": 25,
    "start_time": "2025-03-30T19:28:18.472Z"
   },
   {
    "duration": 25,
    "start_time": "2025-03-30T19:28:54.127Z"
   },
   {
    "duration": 35,
    "start_time": "2025-03-30T19:30:34.964Z"
   },
   {
    "duration": 3,
    "start_time": "2025-03-30T19:31:02.495Z"
   },
   {
    "duration": 27,
    "start_time": "2025-03-30T19:31:11.470Z"
   },
   {
    "duration": 98,
    "start_time": "2025-03-30T19:32:34.121Z"
   },
   {
    "duration": 25,
    "start_time": "2025-03-30T19:32:44.109Z"
   },
   {
    "duration": 16,
    "start_time": "2025-03-30T19:33:11.946Z"
   },
   {
    "duration": 16,
    "start_time": "2025-03-30T19:33:30.421Z"
   },
   {
    "duration": 27,
    "start_time": "2025-03-30T19:35:04.000Z"
   },
   {
    "duration": 16,
    "start_time": "2025-03-30T19:35:34.611Z"
   },
   {
    "duration": 42,
    "start_time": "2025-03-30T20:07:54.213Z"
   },
   {
    "duration": 30,
    "start_time": "2025-03-30T20:12:33.587Z"
   },
   {
    "duration": 45,
    "start_time": "2025-03-30T20:14:19.133Z"
   },
   {
    "duration": 25,
    "start_time": "2025-03-30T20:19:15.296Z"
   },
   {
    "duration": 26,
    "start_time": "2025-03-30T20:19:36.180Z"
   },
   {
    "duration": 310,
    "start_time": "2025-03-30T20:20:43.010Z"
   },
   {
    "duration": 47,
    "start_time": "2025-03-30T20:20:51.742Z"
   },
   {
    "duration": 182,
    "start_time": "2025-03-30T20:23:12.550Z"
   },
   {
    "duration": 4,
    "start_time": "2025-03-30T20:23:16.479Z"
   },
   {
    "duration": 8057,
    "start_time": "2025-03-30T20:23:42.860Z"
   },
   {
    "duration": 4158,
    "start_time": "2025-03-30T20:23:50.919Z"
   },
   {
    "duration": 141,
    "start_time": "2025-03-30T20:23:55.079Z"
   },
   {
    "duration": 3,
    "start_time": "2025-03-30T20:23:55.222Z"
   },
   {
    "duration": 18,
    "start_time": "2025-03-30T20:23:55.226Z"
   },
   {
    "duration": 4,
    "start_time": "2025-03-30T20:23:55.245Z"
   },
   {
    "duration": 910,
    "start_time": "2025-03-30T20:23:55.250Z"
   },
   {
    "duration": 9,
    "start_time": "2025-03-30T20:23:56.162Z"
   },
   {
    "duration": 39,
    "start_time": "2025-03-30T20:23:56.173Z"
   },
   {
    "duration": 14,
    "start_time": "2025-03-30T20:23:56.214Z"
   },
   {
    "duration": 5,
    "start_time": "2025-03-30T20:23:56.230Z"
   },
   {
    "duration": 334,
    "start_time": "2025-03-30T20:23:56.236Z"
   },
   {
    "duration": 0,
    "start_time": "2025-03-30T20:23:56.572Z"
   },
   {
    "duration": 5,
    "start_time": "2025-03-30T20:26:23.610Z"
   },
   {
    "duration": 24986,
    "start_time": "2025-03-30T20:26:48.088Z"
   },
   {
    "duration": 5,
    "start_time": "2025-03-30T20:27:17.026Z"
   },
   {
    "duration": 150,
    "start_time": "2025-03-30T20:27:30.874Z"
   },
   {
    "duration": 33,
    "start_time": "2025-03-30T20:27:32.889Z"
   },
   {
    "duration": 25358,
    "start_time": "2025-03-30T20:28:19.866Z"
   },
   {
    "duration": 4,
    "start_time": "2025-03-30T20:28:48.091Z"
   },
   {
    "duration": 5,
    "start_time": "2025-03-30T20:29:08.561Z"
   },
   {
    "duration": 172,
    "start_time": "2025-03-30T20:32:58.333Z"
   },
   {
    "duration": 5,
    "start_time": "2025-03-30T20:34:54.630Z"
   },
   {
    "duration": 5,
    "start_time": "2025-03-30T20:35:02.204Z"
   },
   {
    "duration": 5,
    "start_time": "2025-03-30T20:35:12.869Z"
   },
   {
    "duration": 31,
    "start_time": "2025-03-30T20:36:22.200Z"
   },
   {
    "duration": 1664,
    "start_time": "2025-03-30T20:36:23.136Z"
   },
   {
    "duration": 38,
    "start_time": "2025-03-30T20:36:25.866Z"
   },
   {
    "duration": 4005,
    "start_time": "2025-03-30T20:36:27.295Z"
   },
   {
    "duration": 8199,
    "start_time": "2025-03-30T20:36:34.036Z"
   },
   {
    "duration": 23270,
    "start_time": "2025-03-30T20:37:00.431Z"
   },
   {
    "duration": 23334,
    "start_time": "2025-03-30T20:37:54.759Z"
   },
   {
    "duration": 16,
    "start_time": "2025-03-30T20:41:01.953Z"
   },
   {
    "duration": 1190,
    "start_time": "2025-03-30T20:41:12.150Z"
   },
   {
    "duration": 1161,
    "start_time": "2025-03-30T20:41:57.958Z"
   },
   {
    "duration": 46,
    "start_time": "2025-03-30T20:42:18.584Z"
   },
   {
    "duration": 44,
    "start_time": "2025-03-30T20:43:52.674Z"
   },
   {
    "duration": 108,
    "start_time": "2025-03-30T20:45:15.615Z"
   },
   {
    "duration": 102,
    "start_time": "2025-03-30T20:45:59.143Z"
   },
   {
    "duration": 95,
    "start_time": "2025-03-30T20:46:10.547Z"
   },
   {
    "duration": 23,
    "start_time": "2025-03-30T20:47:21.597Z"
   },
   {
    "duration": 98,
    "start_time": "2025-03-30T20:47:34.549Z"
   },
   {
    "duration": 24,
    "start_time": "2025-03-30T20:47:54.366Z"
   },
   {
    "duration": 99,
    "start_time": "2025-03-30T20:48:04.568Z"
   },
   {
    "duration": 99,
    "start_time": "2025-03-30T20:48:29.970Z"
   },
   {
    "duration": 8012,
    "start_time": "2025-03-30T20:58:50.985Z"
   },
   {
    "duration": 6,
    "start_time": "2025-03-30T20:58:58.999Z"
   },
   {
    "duration": 6,
    "start_time": "2025-03-30T20:59:01.121Z"
   },
   {
    "duration": 3,
    "start_time": "2025-03-30T20:59:03.073Z"
   },
   {
    "duration": 4,
    "start_time": "2025-03-30T20:59:04.441Z"
   },
   {
    "duration": 3,
    "start_time": "2025-03-30T20:59:05.458Z"
   },
   {
    "duration": 7992,
    "start_time": "2025-03-30T20:59:13.561Z"
   },
   {
    "duration": 4085,
    "start_time": "2025-03-30T20:59:21.556Z"
   },
   {
    "duration": 286,
    "start_time": "2025-03-30T20:59:25.642Z"
   },
   {
    "duration": 3,
    "start_time": "2025-03-30T20:59:25.930Z"
   },
   {
    "duration": 5,
    "start_time": "2025-03-30T20:59:25.934Z"
   },
   {
    "duration": 4,
    "start_time": "2025-03-30T20:59:25.940Z"
   },
   {
    "duration": 902,
    "start_time": "2025-03-30T20:59:25.945Z"
   },
   {
    "duration": 10,
    "start_time": "2025-03-30T20:59:26.849Z"
   },
   {
    "duration": 46,
    "start_time": "2025-03-30T20:59:26.860Z"
   },
   {
    "duration": 15,
    "start_time": "2025-03-30T20:59:26.908Z"
   },
   {
    "duration": 5,
    "start_time": "2025-03-30T20:59:26.925Z"
   },
   {
    "duration": 114,
    "start_time": "2025-03-30T20:59:28.499Z"
   },
   {
    "duration": 118,
    "start_time": "2025-03-30T21:02:02.141Z"
   },
   {
    "duration": 120,
    "start_time": "2025-03-30T21:03:26.987Z"
   },
   {
    "duration": 128,
    "start_time": "2025-03-30T21:05:07.610Z"
   },
   {
    "duration": 151,
    "start_time": "2025-03-30T21:06:04.454Z"
   },
   {
    "duration": 117,
    "start_time": "2025-03-30T21:06:53.428Z"
   },
   {
    "duration": 318,
    "start_time": "2025-03-30T21:07:04.012Z"
   },
   {
    "duration": 114,
    "start_time": "2025-03-30T21:07:10.621Z"
   },
   {
    "duration": 128,
    "start_time": "2025-03-30T21:07:50.377Z"
   },
   {
    "duration": 146,
    "start_time": "2025-03-30T21:08:14.605Z"
   },
   {
    "duration": 126,
    "start_time": "2025-03-30T21:08:26.885Z"
   },
   {
    "duration": 123,
    "start_time": "2025-03-30T21:08:50.076Z"
   },
   {
    "duration": 124,
    "start_time": "2025-03-30T21:10:49.197Z"
   },
   {
    "duration": 5,
    "start_time": "2025-03-30T21:11:04.221Z"
   },
   {
    "duration": 2,
    "start_time": "2025-03-30T21:11:05.207Z"
   },
   {
    "duration": 26,
    "start_time": "2025-03-30T21:11:06.071Z"
   },
   {
    "duration": 2,
    "start_time": "2025-03-30T21:11:06.887Z"
   },
   {
    "duration": 7969,
    "start_time": "2025-03-30T21:11:30.153Z"
   },
   {
    "duration": 4049,
    "start_time": "2025-03-30T21:11:38.125Z"
   },
   {
    "duration": 291,
    "start_time": "2025-03-30T21:11:42.176Z"
   },
   {
    "duration": 3,
    "start_time": "2025-03-30T21:11:42.469Z"
   },
   {
    "duration": 14,
    "start_time": "2025-03-30T21:11:42.475Z"
   },
   {
    "duration": 3,
    "start_time": "2025-03-30T21:11:42.490Z"
   },
   {
    "duration": 867,
    "start_time": "2025-03-30T21:11:42.504Z"
   },
   {
    "duration": 10,
    "start_time": "2025-03-30T21:11:43.372Z"
   },
   {
    "duration": 42,
    "start_time": "2025-03-30T21:11:43.383Z"
   },
   {
    "duration": 15,
    "start_time": "2025-03-30T21:11:43.426Z"
   },
   {
    "duration": 5,
    "start_time": "2025-03-30T21:11:43.442Z"
   },
   {
    "duration": 157,
    "start_time": "2025-03-30T21:11:43.448Z"
   },
   {
    "duration": 105,
    "start_time": "2025-03-30T21:12:48.723Z"
   },
   {
    "duration": 84,
    "start_time": "2025-03-30T21:13:23.601Z"
   },
   {
    "duration": 440,
    "start_time": "2025-03-30T21:13:45.973Z"
   },
   {
    "duration": 127,
    "start_time": "2025-03-30T21:14:11.112Z"
   },
   {
    "duration": 124,
    "start_time": "2025-03-30T21:14:55.149Z"
   },
   {
    "duration": 128,
    "start_time": "2025-03-30T21:15:04.516Z"
   },
   {
    "duration": 65,
    "start_time": "2025-03-30T21:15:28.642Z"
   },
   {
    "duration": 124,
    "start_time": "2025-03-30T21:15:45.856Z"
   },
   {
    "duration": 124,
    "start_time": "2025-03-30T21:17:49.145Z"
   },
   {
    "duration": 148,
    "start_time": "2025-03-30T21:18:42.328Z"
   },
   {
    "duration": 130,
    "start_time": "2025-03-30T21:25:46.090Z"
   },
   {
    "duration": 123,
    "start_time": "2025-03-30T21:26:10.143Z"
   },
   {
    "duration": 129,
    "start_time": "2025-03-30T21:26:29.414Z"
   },
   {
    "duration": 128,
    "start_time": "2025-03-30T21:35:05.581Z"
   },
   {
    "duration": 126,
    "start_time": "2025-03-30T21:35:25.867Z"
   },
   {
    "duration": 128,
    "start_time": "2025-03-30T21:36:01.192Z"
   },
   {
    "duration": 4,
    "start_time": "2025-03-30T21:37:12.168Z"
   },
   {
    "duration": 125,
    "start_time": "2025-03-30T21:37:19.881Z"
   },
   {
    "duration": 112,
    "start_time": "2025-03-30T21:38:59.550Z"
   },
   {
    "duration": 116,
    "start_time": "2025-03-30T21:39:37.181Z"
   },
   {
    "duration": 121,
    "start_time": "2025-03-30T21:39:46.406Z"
   },
   {
    "duration": 150,
    "start_time": "2025-03-30T21:40:04.899Z"
   },
   {
    "duration": 139,
    "start_time": "2025-03-30T21:46:52.153Z"
   },
   {
    "duration": 140,
    "start_time": "2025-03-30T21:51:37.713Z"
   },
   {
    "duration": 150,
    "start_time": "2025-03-30T21:51:59.055Z"
   },
   {
    "duration": 165,
    "start_time": "2025-03-30T21:53:22.892Z"
   },
   {
    "duration": 163,
    "start_time": "2025-03-30T21:53:58.037Z"
   },
   {
    "duration": 134,
    "start_time": "2025-03-30T21:54:36.483Z"
   },
   {
    "duration": 74,
    "start_time": "2025-03-30T21:54:55.359Z"
   },
   {
    "duration": 165,
    "start_time": "2025-03-30T21:55:01.199Z"
   },
   {
    "duration": 171,
    "start_time": "2025-03-30T21:59:45.458Z"
   },
   {
    "duration": 133,
    "start_time": "2025-03-30T22:00:13.618Z"
   },
   {
    "duration": 57,
    "start_time": "2025-03-31T08:13:24.005Z"
   },
   {
    "duration": 10723,
    "start_time": "2025-03-31T08:13:32.913Z"
   },
   {
    "duration": 5462,
    "start_time": "2025-03-31T08:13:43.640Z"
   },
   {
    "duration": 380,
    "start_time": "2025-03-31T08:13:49.104Z"
   },
   {
    "duration": 3,
    "start_time": "2025-03-31T08:13:49.486Z"
   },
   {
    "duration": 78,
    "start_time": "2025-03-31T08:13:49.491Z"
   },
   {
    "duration": 66,
    "start_time": "2025-03-31T08:13:49.571Z"
   },
   {
    "duration": 1426,
    "start_time": "2025-03-31T08:13:49.639Z"
   },
   {
    "duration": 10,
    "start_time": "2025-03-31T08:13:51.067Z"
   },
   {
    "duration": 94,
    "start_time": "2025-03-31T08:13:51.078Z"
   },
   {
    "duration": 43,
    "start_time": "2025-03-31T08:13:51.174Z"
   },
   {
    "duration": 22,
    "start_time": "2025-03-31T08:13:51.219Z"
   },
   {
    "duration": 312,
    "start_time": "2025-03-31T08:18:39.392Z"
   },
   {
    "duration": 23,
    "start_time": "2025-03-31T08:18:49.871Z"
   },
   {
    "duration": 112535,
    "start_time": "2025-03-31T08:22:40.270Z"
   },
   {
    "duration": 8892,
    "start_time": "2025-03-31T08:31:31.965Z"
   },
   {
    "duration": 4794,
    "start_time": "2025-03-31T08:31:40.859Z"
   },
   {
    "duration": 338,
    "start_time": "2025-03-31T08:31:45.655Z"
   },
   {
    "duration": 2,
    "start_time": "2025-03-31T08:31:45.997Z"
   },
   {
    "duration": 22,
    "start_time": "2025-03-31T08:31:46.001Z"
   },
   {
    "duration": 3,
    "start_time": "2025-03-31T08:31:46.025Z"
   },
   {
    "duration": 1300,
    "start_time": "2025-03-31T08:31:46.029Z"
   },
   {
    "duration": 11,
    "start_time": "2025-03-31T08:31:47.331Z"
   },
   {
    "duration": 33,
    "start_time": "2025-03-31T08:31:47.343Z"
   },
   {
    "duration": 26,
    "start_time": "2025-03-31T08:31:47.378Z"
   },
   {
    "duration": 6,
    "start_time": "2025-03-31T08:31:47.406Z"
   },
   {
    "duration": 205,
    "start_time": "2025-03-31T08:42:17.025Z"
   },
   {
    "duration": 66,
    "start_time": "2025-03-31T08:44:08.128Z"
   },
   {
    "duration": 1330,
    "start_time": "2025-03-31T08:44:24.992Z"
   },
   {
    "duration": 137,
    "start_time": "2025-03-31T08:45:58.261Z"
   },
   {
    "duration": 347,
    "start_time": "2025-03-31T08:46:11.381Z"
   },
   {
    "duration": 154,
    "start_time": "2025-03-31T08:46:32.558Z"
   },
   {
    "duration": 153,
    "start_time": "2025-03-31T09:12:45.887Z"
   },
   {
    "duration": 173,
    "start_time": "2025-03-31T09:13:02.134Z"
   },
   {
    "duration": 172,
    "start_time": "2025-03-31T09:13:44.253Z"
   },
   {
    "duration": 168,
    "start_time": "2025-03-31T09:13:52.204Z"
   },
   {
    "duration": 197,
    "start_time": "2025-03-31T09:14:28.531Z"
   },
   {
    "duration": 203,
    "start_time": "2025-03-31T09:30:09.470Z"
   },
   {
    "duration": 157,
    "start_time": "2025-03-31T09:30:21.968Z"
   },
   {
    "duration": 150,
    "start_time": "2025-03-31T09:31:06.423Z"
   },
   {
    "duration": 152,
    "start_time": "2025-03-31T09:31:26.452Z"
   },
   {
    "duration": 178,
    "start_time": "2025-03-31T09:32:13.442Z"
   },
   {
    "duration": 150,
    "start_time": "2025-03-31T09:32:35.831Z"
   },
   {
    "duration": 176,
    "start_time": "2025-03-31T09:33:07.489Z"
   },
   {
    "duration": 184,
    "start_time": "2025-03-31T09:36:30.781Z"
   },
   {
    "duration": 167,
    "start_time": "2025-03-31T09:41:00.057Z"
   },
   {
    "duration": 169,
    "start_time": "2025-03-31T09:42:45.309Z"
   },
   {
    "duration": 171,
    "start_time": "2025-03-31T09:45:05.873Z"
   },
   {
    "duration": 30,
    "start_time": "2025-03-31T09:45:14.428Z"
   },
   {
    "duration": 183,
    "start_time": "2025-03-31T09:45:21.521Z"
   },
   {
    "duration": 164,
    "start_time": "2025-03-31T09:45:41.636Z"
   },
   {
    "duration": 171,
    "start_time": "2025-03-31T09:45:47.397Z"
   },
   {
    "duration": 165,
    "start_time": "2025-03-31T09:46:06.915Z"
   },
   {
    "duration": 161,
    "start_time": "2025-03-31T09:46:16.246Z"
   },
   {
    "duration": 162,
    "start_time": "2025-03-31T09:46:25.710Z"
   },
   {
    "duration": 170,
    "start_time": "2025-03-31T09:48:09.454Z"
   },
   {
    "duration": 169,
    "start_time": "2025-03-31T09:48:16.167Z"
   },
   {
    "duration": 150,
    "start_time": "2025-03-31T09:48:22.716Z"
   },
   {
    "duration": 154,
    "start_time": "2025-03-31T09:51:19.641Z"
   },
   {
    "duration": 206726,
    "start_time": "2025-03-31T09:58:07.762Z"
   },
   {
    "duration": 22,
    "start_time": "2025-03-31T10:01:40.528Z"
   },
   {
    "duration": 68069,
    "start_time": "2025-03-31T10:02:03.933Z"
   },
   {
    "duration": 0,
    "start_time": "2025-03-31T10:03:12.011Z"
   },
   {
    "duration": 23,
    "start_time": "2025-03-31T10:03:28.246Z"
   },
   {
    "duration": 20,
    "start_time": "2025-03-31T10:03:39.565Z"
   },
   {
    "duration": 19,
    "start_time": "2025-03-31T10:03:48.673Z"
   },
   {
    "duration": 18,
    "start_time": "2025-03-31T10:04:08.924Z"
   },
   {
    "duration": 20,
    "start_time": "2025-03-31T10:04:16.260Z"
   },
   {
    "duration": 180,
    "start_time": "2025-03-31T10:07:03.997Z"
   },
   {
    "duration": 147,
    "start_time": "2025-03-31T10:07:19.247Z"
   },
   {
    "duration": 162,
    "start_time": "2025-03-31T10:10:39.883Z"
   },
   {
    "duration": 151,
    "start_time": "2025-03-31T10:12:15.043Z"
   },
   {
    "duration": 148,
    "start_time": "2025-03-31T10:13:20.465Z"
   },
   {
    "duration": 145,
    "start_time": "2025-03-31T10:15:29.648Z"
   },
   {
    "duration": 154,
    "start_time": "2025-03-31T10:16:07.568Z"
   },
   {
    "duration": 136,
    "start_time": "2025-03-31T10:16:13.682Z"
   },
   {
    "duration": 132,
    "start_time": "2025-03-31T10:18:45.363Z"
   },
   {
    "duration": 151,
    "start_time": "2025-03-31T10:18:59.533Z"
   },
   {
    "duration": 138,
    "start_time": "2025-03-31T10:30:12.204Z"
   },
   {
    "duration": 140,
    "start_time": "2025-03-31T10:32:07.997Z"
   },
   {
    "duration": 137,
    "start_time": "2025-03-31T10:37:36.016Z"
   },
   {
    "duration": 135,
    "start_time": "2025-03-31T10:38:13.268Z"
   },
   {
    "duration": 145,
    "start_time": "2025-03-31T10:44:04.131Z"
   },
   {
    "duration": 137,
    "start_time": "2025-03-31T10:45:08.864Z"
   },
   {
    "duration": 140,
    "start_time": "2025-03-31T10:46:07.246Z"
   },
   {
    "duration": 147,
    "start_time": "2025-03-31T10:47:38.220Z"
   },
   {
    "duration": 137,
    "start_time": "2025-03-31T10:47:55.873Z"
   },
   {
    "duration": 137,
    "start_time": "2025-03-31T10:54:14.956Z"
   },
   {
    "duration": 138,
    "start_time": "2025-03-31T10:54:51.319Z"
   },
   {
    "duration": 26,
    "start_time": "2025-03-31T11:03:38.719Z"
   },
   {
    "duration": 184,
    "start_time": "2025-03-31T11:04:03.884Z"
   },
   {
    "duration": 173,
    "start_time": "2025-03-31T11:04:15.623Z"
   },
   {
    "duration": 170,
    "start_time": "2025-03-31T11:04:40.681Z"
   },
   {
    "duration": 173,
    "start_time": "2025-03-31T11:05:25.403Z"
   },
   {
    "duration": 183,
    "start_time": "2025-03-31T11:07:09.626Z"
   },
   {
    "duration": 187,
    "start_time": "2025-03-31T11:09:02.812Z"
   },
   {
    "duration": 202,
    "start_time": "2025-03-31T11:10:49.582Z"
   },
   {
    "duration": 168,
    "start_time": "2025-03-31T11:10:56.875Z"
   },
   {
    "duration": 184,
    "start_time": "2025-03-31T11:11:37.865Z"
   },
   {
    "duration": 192,
    "start_time": "2025-03-31T11:12:01.117Z"
   },
   {
    "duration": 166,
    "start_time": "2025-03-31T11:14:46.992Z"
   },
   {
    "duration": 140,
    "start_time": "2025-03-31T11:22:47.821Z"
   },
   {
    "duration": 141,
    "start_time": "2025-03-31T11:25:32.595Z"
   },
   {
    "duration": 138,
    "start_time": "2025-03-31T11:25:42.012Z"
   },
   {
    "duration": 174,
    "start_time": "2025-03-31T11:26:00.111Z"
   },
   {
    "duration": 173,
    "start_time": "2025-03-31T11:26:13.928Z"
   },
   {
    "duration": 190,
    "start_time": "2025-03-31T11:29:43.084Z"
   },
   {
    "duration": 228,
    "start_time": "2025-03-31T11:35:14.521Z"
   },
   {
    "duration": 174,
    "start_time": "2025-03-31T11:35:35.906Z"
   },
   {
    "duration": 175,
    "start_time": "2025-03-31T11:36:38.476Z"
   },
   {
    "duration": 32,
    "start_time": "2025-03-31T11:46:23.068Z"
   },
   {
    "duration": 29,
    "start_time": "2025-03-31T11:46:36.810Z"
   },
   {
    "duration": 173,
    "start_time": "2025-03-31T11:47:06.959Z"
   },
   {
    "duration": 139,
    "start_time": "2025-03-31T11:48:06.864Z"
   },
   {
    "duration": 137,
    "start_time": "2025-03-31T11:48:42.650Z"
   },
   {
    "duration": 4536,
    "start_time": "2025-03-31T12:34:44.450Z"
   },
   {
    "duration": 8,
    "start_time": "2025-03-31T12:35:22.185Z"
   },
   {
    "duration": 20,
    "start_time": "2025-03-31T12:39:43.427Z"
   },
   {
    "duration": 3,
    "start_time": "2025-03-31T12:42:38.180Z"
   },
   {
    "duration": 671,
    "start_time": "2025-03-31T12:42:42.204Z"
   },
   {
    "duration": 5,
    "start_time": "2025-03-31T12:42:55.083Z"
   },
   {
    "duration": 2499,
    "start_time": "2025-03-31T13:51:19.709Z"
   },
   {
    "duration": 367,
    "start_time": "2025-03-31T13:55:43.937Z"
   },
   {
    "duration": 376,
    "start_time": "2025-03-31T13:58:46.012Z"
   },
   {
    "duration": 331,
    "start_time": "2025-03-31T14:03:34.711Z"
   },
   {
    "duration": 309,
    "start_time": "2025-03-31T14:10:46.293Z"
   },
   {
    "duration": 248,
    "start_time": "2025-03-31T14:11:31.299Z"
   },
   {
    "duration": 317,
    "start_time": "2025-03-31T14:11:52.053Z"
   },
   {
    "duration": 307,
    "start_time": "2025-03-31T14:12:21.464Z"
   },
   {
    "duration": 300,
    "start_time": "2025-03-31T14:12:40.948Z"
   },
   {
    "duration": 334,
    "start_time": "2025-03-31T14:14:32.074Z"
   },
   {
    "duration": 340,
    "start_time": "2025-03-31T14:14:52.868Z"
   },
   {
    "duration": 303,
    "start_time": "2025-03-31T14:15:16.143Z"
   },
   {
    "duration": 301,
    "start_time": "2025-03-31T14:15:28.113Z"
   },
   {
    "duration": 135,
    "start_time": "2025-03-31T14:35:16.061Z"
   },
   {
    "duration": 134,
    "start_time": "2025-03-31T14:35:34.915Z"
   },
   {
    "duration": 297,
    "start_time": "2025-03-31T14:38:18.033Z"
   },
   {
    "duration": 305,
    "start_time": "2025-03-31T14:38:47.312Z"
   },
   {
    "duration": 301,
    "start_time": "2025-03-31T14:39:49.951Z"
   },
   {
    "duration": 293,
    "start_time": "2025-03-31T14:40:09.023Z"
   },
   {
    "duration": 296,
    "start_time": "2025-03-31T14:45:59.976Z"
   },
   {
    "duration": 1265,
    "start_time": "2025-03-31T14:52:28.293Z"
   },
   {
    "duration": 307,
    "start_time": "2025-03-31T14:52:56.793Z"
   },
   {
    "duration": 313,
    "start_time": "2025-03-31T14:55:35.573Z"
   },
   {
    "duration": 304,
    "start_time": "2025-03-31T14:56:10.645Z"
   },
   {
    "duration": 305,
    "start_time": "2025-03-31T14:57:02.042Z"
   },
   {
    "duration": 305,
    "start_time": "2025-03-31T14:57:15.154Z"
   },
   {
    "duration": 20,
    "start_time": "2025-03-31T14:58:12.771Z"
   },
   {
    "duration": 39,
    "start_time": "2025-03-31T14:59:02.208Z"
   },
   {
    "duration": 57,
    "start_time": "2025-03-31T14:59:18.684Z"
   },
   {
    "duration": 36,
    "start_time": "2025-03-31T14:59:55.583Z"
   },
   {
    "duration": 30,
    "start_time": "2025-03-31T15:01:15.408Z"
   },
   {
    "duration": 13,
    "start_time": "2025-03-31T15:01:41.191Z"
   },
   {
    "duration": 168,
    "start_time": "2025-03-31T15:06:28.548Z"
   },
   {
    "duration": 310,
    "start_time": "2025-03-31T15:07:58.590Z"
   },
   {
    "duration": 10699,
    "start_time": "2025-03-31T15:10:23.207Z"
   },
   {
    "duration": 25321,
    "start_time": "2025-03-31T15:10:44.390Z"
   },
   {
    "duration": 31499,
    "start_time": "2025-03-31T15:12:35.658Z"
   },
   {
    "duration": 6,
    "start_time": "2025-03-31T15:14:00.989Z"
   },
   {
    "duration": 146,
    "start_time": "2025-03-31T15:14:09.157Z"
   },
   {
    "duration": 308,
    "start_time": "2025-03-31T15:14:31.603Z"
   },
   {
    "duration": 185,
    "start_time": "2025-03-31T15:14:42.299Z"
   },
   {
    "duration": 294,
    "start_time": "2025-03-31T15:15:18.140Z"
   },
   {
    "duration": 304,
    "start_time": "2025-03-31T15:15:46.797Z"
   },
   {
    "duration": 301,
    "start_time": "2025-03-31T15:16:05.098Z"
   },
   {
    "duration": 305,
    "start_time": "2025-03-31T15:16:44.757Z"
   },
   {
    "duration": 19232,
    "start_time": "2025-03-31T15:23:02.132Z"
   },
   {
    "duration": 6,
    "start_time": "2025-03-31T15:23:21.367Z"
   },
   {
    "duration": 215,
    "start_time": "2025-03-31T15:23:52.170Z"
   },
   {
    "duration": 311,
    "start_time": "2025-03-31T15:24:38.129Z"
   },
   {
    "duration": 68,
    "start_time": "2025-03-31T15:27:29.125Z"
   },
   {
    "duration": 309,
    "start_time": "2025-03-31T15:47:01.786Z"
   },
   {
    "duration": 308,
    "start_time": "2025-03-31T15:49:13.263Z"
   },
   {
    "duration": 332,
    "start_time": "2025-03-31T15:49:35.287Z"
   },
   {
    "duration": 318,
    "start_time": "2025-03-31T15:51:18.253Z"
   },
   {
    "duration": 314,
    "start_time": "2025-03-31T15:51:42.690Z"
   },
   {
    "duration": 306,
    "start_time": "2025-03-31T15:52:40.227Z"
   },
   {
    "duration": 331,
    "start_time": "2025-03-31T15:54:19.631Z"
   },
   {
    "duration": 336,
    "start_time": "2025-03-31T15:56:39.402Z"
   },
   {
    "duration": 349,
    "start_time": "2025-03-31T15:57:07.898Z"
   },
   {
    "duration": 26,
    "start_time": "2025-03-31T16:02:23.736Z"
   },
   {
    "duration": 13,
    "start_time": "2025-03-31T16:02:41.080Z"
   },
   {
    "duration": 341,
    "start_time": "2025-03-31T16:06:22.086Z"
   },
   {
    "duration": 345,
    "start_time": "2025-03-31T16:06:38.372Z"
   },
   {
    "duration": 328,
    "start_time": "2025-03-31T16:09:56.380Z"
   },
   {
    "duration": 3,
    "start_time": "2025-03-31T16:10:17.210Z"
   },
   {
    "duration": 333,
    "start_time": "2025-03-31T16:10:20.603Z"
   },
   {
    "duration": 326,
    "start_time": "2025-03-31T16:13:26.434Z"
   },
   {
    "duration": 333,
    "start_time": "2025-03-31T16:19:48.277Z"
   },
   {
    "duration": 3,
    "start_time": "2025-03-31T16:20:15.892Z"
   },
   {
    "duration": 4,
    "start_time": "2025-03-31T16:20:23.675Z"
   },
   {
    "duration": 4,
    "start_time": "2025-03-31T16:20:37.541Z"
   },
   {
    "duration": 146,
    "start_time": "2025-03-31T16:34:25.550Z"
   },
   {
    "duration": 142,
    "start_time": "2025-03-31T16:34:42.019Z"
   },
   {
    "duration": 134,
    "start_time": "2025-03-31T16:35:01.699Z"
   },
   {
    "duration": 144,
    "start_time": "2025-03-31T16:38:09.762Z"
   },
   {
    "duration": 150,
    "start_time": "2025-03-31T16:40:02.282Z"
   },
   {
    "duration": 148,
    "start_time": "2025-03-31T16:40:13.648Z"
   },
   {
    "duration": 141,
    "start_time": "2025-03-31T16:41:14.894Z"
   },
   {
    "duration": 3,
    "start_time": "2025-03-31T16:43:31.429Z"
   },
   {
    "duration": 3,
    "start_time": "2025-03-31T16:44:16.531Z"
   },
   {
    "duration": 348,
    "start_time": "2025-03-31T16:44:34.795Z"
   },
   {
    "duration": 3,
    "start_time": "2025-03-31T16:44:44.379Z"
   },
   {
    "duration": 140,
    "start_time": "2025-03-31T16:47:12.004Z"
   },
   {
    "duration": 135,
    "start_time": "2025-03-31T16:47:21.221Z"
   },
   {
    "duration": 3,
    "start_time": "2025-03-31T16:47:28.643Z"
   },
   {
    "duration": 223,
    "start_time": "2025-03-31T16:48:01.805Z"
   },
   {
    "duration": 62,
    "start_time": "2025-03-31T16:48:34.435Z"
   },
   {
    "duration": 339,
    "start_time": "2025-03-31T16:48:48.331Z"
   },
   {
    "duration": 67,
    "start_time": "2025-03-31T16:49:04.569Z"
   },
   {
    "duration": 366,
    "start_time": "2025-03-31T16:49:14.863Z"
   },
   {
    "duration": 347,
    "start_time": "2025-03-31T16:49:42.337Z"
   },
   {
    "duration": 18071,
    "start_time": "2025-04-01T07:31:48.777Z"
   },
   {
    "duration": 593,
    "start_time": "2025-04-01T07:32:20.535Z"
   },
   {
    "duration": 6,
    "start_time": "2025-04-01T07:32:22.022Z"
   },
   {
    "duration": 26991,
    "start_time": "2025-04-01T07:32:59.174Z"
   },
   {
    "duration": 622,
    "start_time": "2025-04-01T07:33:47.206Z"
   },
   {
    "duration": 684,
    "start_time": "2025-04-01T07:34:15.560Z"
   },
   {
    "duration": 23373,
    "start_time": "2025-04-01T07:35:16.675Z"
   },
   {
    "duration": 26443,
    "start_time": "2025-04-01T07:36:01.761Z"
   },
   {
    "duration": 637,
    "start_time": "2025-04-01T07:36:53.190Z"
   },
   {
    "duration": 26758,
    "start_time": "2025-04-01T07:40:33.641Z"
   },
   {
    "duration": 5203,
    "start_time": "2025-04-01T07:41:23.980Z"
   },
   {
    "duration": 326,
    "start_time": "2025-04-01T07:41:34.570Z"
   },
   {
    "duration": 3,
    "start_time": "2025-04-01T07:41:36.848Z"
   },
   {
    "duration": 5,
    "start_time": "2025-04-01T07:41:38.504Z"
   },
   {
    "duration": 3,
    "start_time": "2025-04-01T07:41:40.297Z"
   },
   {
    "duration": 951,
    "start_time": "2025-04-01T07:41:41.507Z"
   },
   {
    "duration": 9,
    "start_time": "2025-04-01T07:41:55.690Z"
   },
   {
    "duration": 32,
    "start_time": "2025-04-01T07:42:01.154Z"
   },
   {
    "duration": 6,
    "start_time": "2025-04-01T07:42:04.954Z"
   },
   {
    "duration": 656,
    "start_time": "2025-04-01T07:42:11.488Z"
   },
   {
    "duration": 365,
    "start_time": "2025-04-01T07:42:36.034Z"
   },
   {
    "duration": 336,
    "start_time": "2025-04-01T07:44:00.556Z"
   },
   {
    "duration": 332,
    "start_time": "2025-04-01T07:44:25.202Z"
   },
   {
    "duration": 318,
    "start_time": "2025-04-01T07:44:36.530Z"
   },
   {
    "duration": 331,
    "start_time": "2025-04-01T07:44:59.311Z"
   },
   {
    "duration": 347,
    "start_time": "2025-04-01T07:55:01.831Z"
   },
   {
    "duration": 338,
    "start_time": "2025-04-01T07:55:45.662Z"
   },
   {
    "duration": 315,
    "start_time": "2025-04-01T07:56:12.465Z"
   },
   {
    "duration": 316,
    "start_time": "2025-04-01T07:56:57.772Z"
   },
   {
    "duration": 386,
    "start_time": "2025-04-01T07:57:56.661Z"
   },
   {
    "duration": 413,
    "start_time": "2025-04-01T07:58:41.698Z"
   },
   {
    "duration": 349,
    "start_time": "2025-04-01T07:58:49.963Z"
   },
   {
    "duration": 315,
    "start_time": "2025-04-01T07:58:59.002Z"
   },
   {
    "duration": 378,
    "start_time": "2025-04-01T08:01:35.769Z"
   },
   {
    "duration": 391,
    "start_time": "2025-04-01T08:03:15.265Z"
   },
   {
    "duration": 33,
    "start_time": "2025-04-01T08:04:41.115Z"
   },
   {
    "duration": 25,
    "start_time": "2025-04-01T08:04:55.456Z"
   },
   {
    "duration": 422,
    "start_time": "2025-04-01T08:05:03.337Z"
   },
   {
    "duration": 387,
    "start_time": "2025-04-01T08:06:00.838Z"
   },
   {
    "duration": 426,
    "start_time": "2025-04-01T08:06:56.658Z"
   },
   {
    "duration": 392,
    "start_time": "2025-04-01T08:07:07.507Z"
   },
   {
    "duration": 372,
    "start_time": "2025-04-01T08:07:55.430Z"
   },
   {
    "duration": 543,
    "start_time": "2025-04-01T08:09:22.983Z"
   },
   {
    "duration": 380,
    "start_time": "2025-04-01T08:19:37.485Z"
   },
   {
    "duration": 382,
    "start_time": "2025-04-01T08:20:15.879Z"
   },
   {
    "duration": 370,
    "start_time": "2025-04-01T08:20:50.720Z"
   },
   {
    "duration": 378,
    "start_time": "2025-04-01T08:21:25.128Z"
   },
   {
    "duration": 388,
    "start_time": "2025-04-01T08:23:06.614Z"
   },
   {
    "duration": 400,
    "start_time": "2025-04-01T08:24:52.133Z"
   },
   {
    "duration": 383,
    "start_time": "2025-04-01T08:34:12.941Z"
   },
   {
    "duration": 327,
    "start_time": "2025-04-01T08:40:39.993Z"
   },
   {
    "duration": 27,
    "start_time": "2025-04-01T08:41:16.411Z"
   },
   {
    "duration": 402,
    "start_time": "2025-04-01T08:41:25.861Z"
   },
   {
    "duration": 383,
    "start_time": "2025-04-01T08:46:53.041Z"
   },
   {
    "duration": 6,
    "start_time": "2025-04-01T08:48:46.065Z"
   },
   {
    "duration": 397,
    "start_time": "2025-04-01T08:49:01.011Z"
   },
   {
    "duration": 26,
    "start_time": "2025-04-01T08:53:06.341Z"
   },
   {
    "duration": 391,
    "start_time": "2025-04-01T08:55:15.775Z"
   },
   {
    "duration": 413,
    "start_time": "2025-04-01T08:55:36.075Z"
   },
   {
    "duration": 397,
    "start_time": "2025-04-01T08:56:07.357Z"
   },
   {
    "duration": 26188,
    "start_time": "2025-04-01T08:58:13.752Z"
   },
   {
    "duration": 4796,
    "start_time": "2025-04-01T08:58:49.935Z"
   },
   {
    "duration": 230,
    "start_time": "2025-04-01T08:59:10.804Z"
   },
   {
    "duration": 2,
    "start_time": "2025-04-01T08:59:16.439Z"
   },
   {
    "duration": 3,
    "start_time": "2025-04-01T08:59:17.648Z"
   },
   {
    "duration": 2,
    "start_time": "2025-04-01T08:59:19.619Z"
   },
   {
    "duration": 821,
    "start_time": "2025-04-01T08:59:20.420Z"
   },
   {
    "duration": 8,
    "start_time": "2025-04-01T08:59:23.276Z"
   },
   {
    "duration": 28,
    "start_time": "2025-04-01T08:59:24.163Z"
   },
   {
    "duration": 6,
    "start_time": "2025-04-01T08:59:25.611Z"
   },
   {
    "duration": 600,
    "start_time": "2025-04-01T08:59:27.083Z"
   },
   {
    "duration": 524,
    "start_time": "2025-04-01T09:01:50.602Z"
   },
   {
    "duration": 315,
    "start_time": "2025-04-01T09:02:18.283Z"
   },
   {
    "duration": 495,
    "start_time": "2025-04-01T09:02:29.731Z"
   },
   {
    "duration": 39,
    "start_time": "2025-04-01T09:02:52.416Z"
   },
   {
    "duration": 501,
    "start_time": "2025-04-01T09:03:08.244Z"
   },
   {
    "duration": 20894,
    "start_time": "2025-04-01T09:03:28.383Z"
   },
   {
    "duration": 4766,
    "start_time": "2025-04-01T09:05:18.876Z"
   },
   {
    "duration": 150,
    "start_time": "2025-04-01T09:05:23.644Z"
   },
   {
    "duration": 3,
    "start_time": "2025-04-01T09:05:23.795Z"
   },
   {
    "duration": 5,
    "start_time": "2025-04-01T09:05:23.799Z"
   },
   {
    "duration": 3,
    "start_time": "2025-04-01T09:05:23.805Z"
   },
   {
    "duration": 835,
    "start_time": "2025-04-01T09:05:28.110Z"
   },
   {
    "duration": 8,
    "start_time": "2025-04-01T09:05:30.787Z"
   },
   {
    "duration": 28,
    "start_time": "2025-04-01T09:05:32.160Z"
   },
   {
    "duration": 6,
    "start_time": "2025-04-01T09:05:33.564Z"
   },
   {
    "duration": 539,
    "start_time": "2025-04-01T09:05:35.500Z"
   },
   {
    "duration": 3969,
    "start_time": "2025-04-01T09:05:51.279Z"
   },
   {
    "duration": 3,
    "start_time": "2025-04-01T09:12:27.487Z"
   },
   {
    "duration": 43243,
    "start_time": "2025-04-01T09:12:28.932Z"
   },
   {
    "duration": 25,
    "start_time": "2025-04-01T09:13:25.754Z"
   },
   {
    "duration": 14,
    "start_time": "2025-04-01T09:13:36.136Z"
   },
   {
    "duration": 458,
    "start_time": "2025-04-01T09:14:05.828Z"
   },
   {
    "duration": 443,
    "start_time": "2025-04-01T09:19:18.196Z"
   },
   {
    "duration": 442,
    "start_time": "2025-04-01T09:19:56.309Z"
   },
   {
    "duration": 462,
    "start_time": "2025-04-01T09:20:30.758Z"
   },
   {
    "duration": 439,
    "start_time": "2025-04-01T09:28:21.708Z"
   },
   {
    "duration": 474,
    "start_time": "2025-04-01T09:28:32.353Z"
   },
   {
    "duration": 440,
    "start_time": "2025-04-01T09:33:40.184Z"
   },
   {
    "duration": 441,
    "start_time": "2025-04-01T09:34:06.196Z"
   },
   {
    "duration": 594,
    "start_time": "2025-04-01T09:34:25.344Z"
   },
   {
    "duration": 447,
    "start_time": "2025-04-01T09:35:12.691Z"
   },
   {
    "duration": 809,
    "start_time": "2025-04-01T09:35:53.071Z"
   },
   {
    "duration": 466,
    "start_time": "2025-04-01T09:36:15.633Z"
   },
   {
    "duration": 481,
    "start_time": "2025-04-01T09:36:34.292Z"
   },
   {
    "duration": 457,
    "start_time": "2025-04-01T09:42:28.961Z"
   },
   {
    "duration": 456,
    "start_time": "2025-04-01T09:42:47.155Z"
   },
   {
    "duration": 515,
    "start_time": "2025-04-01T09:44:03.933Z"
   },
   {
    "duration": 448,
    "start_time": "2025-04-01T09:44:32.631Z"
   },
   {
    "duration": 456,
    "start_time": "2025-04-01T09:44:46.753Z"
   },
   {
    "duration": 447,
    "start_time": "2025-04-01T09:50:21.291Z"
   },
   {
    "duration": 438,
    "start_time": "2025-04-01T09:54:42.893Z"
   },
   {
    "duration": 447,
    "start_time": "2025-04-01T10:01:57.883Z"
   },
   {
    "duration": 35,
    "start_time": "2025-04-01T10:13:41.764Z"
   },
   {
    "duration": 459,
    "start_time": "2025-04-01T10:14:01.482Z"
   },
   {
    "duration": 430,
    "start_time": "2025-04-01T10:14:18.503Z"
   },
   {
    "duration": 32,
    "start_time": "2025-04-01T10:19:52.159Z"
   },
   {
    "duration": 724,
    "start_time": "2025-04-01T10:20:03.964Z"
   },
   {
    "duration": 452,
    "start_time": "2025-04-01T10:23:29.214Z"
   },
   {
    "duration": 422,
    "start_time": "2025-04-01T10:24:05.403Z"
   },
   {
    "duration": 410,
    "start_time": "2025-04-01T10:27:15.525Z"
   },
   {
    "duration": 456,
    "start_time": "2025-04-01T10:27:24.560Z"
   },
   {
    "duration": 407,
    "start_time": "2025-04-01T10:28:00.722Z"
   },
   {
    "duration": 497,
    "start_time": "2025-04-01T10:28:18.861Z"
   },
   {
    "duration": 441,
    "start_time": "2025-04-01T10:28:25.281Z"
   },
   {
    "duration": 427,
    "start_time": "2025-04-01T10:29:49.073Z"
   },
   {
    "duration": 14,
    "start_time": "2025-04-01T10:31:03.587Z"
   },
   {
    "duration": 393,
    "start_time": "2025-04-01T10:31:41.820Z"
   },
   {
    "duration": 17,
    "start_time": "2025-04-01T10:31:47.331Z"
   },
   {
    "duration": 472,
    "start_time": "2025-04-01T10:34:38.050Z"
   },
   {
    "duration": 438,
    "start_time": "2025-04-01T10:34:50.796Z"
   },
   {
    "duration": 472,
    "start_time": "2025-04-01T10:35:02.001Z"
   },
   {
    "duration": 25,
    "start_time": "2025-04-01T10:51:59.185Z"
   },
   {
    "duration": 28,
    "start_time": "2025-04-01T10:53:45.610Z"
   },
   {
    "duration": 50,
    "start_time": "2025-04-01T10:54:39.598Z"
   },
   {
    "duration": 44038,
    "start_time": "2025-04-01T10:57:28.109Z"
   },
   {
    "duration": 13,
    "start_time": "2025-04-01T10:59:18.068Z"
   },
   {
    "duration": 15,
    "start_time": "2025-04-01T10:59:23.445Z"
   },
   {
    "duration": 19,
    "start_time": "2025-04-01T10:59:37.800Z"
   },
   {
    "duration": 60,
    "start_time": "2025-04-01T11:03:03.810Z"
   },
   {
    "duration": 3,
    "start_time": "2025-04-01T11:03:35.356Z"
   },
   {
    "duration": 57,
    "start_time": "2025-04-01T11:04:45.651Z"
   },
   {
    "duration": 16,
    "start_time": "2025-04-01T11:05:36.631Z"
   },
   {
    "duration": 58,
    "start_time": "2025-04-01T11:05:46.473Z"
   },
   {
    "duration": 4,
    "start_time": "2025-04-01T11:07:02.645Z"
   },
   {
    "duration": 3000,
    "start_time": "2025-04-01T11:07:09.985Z"
   },
   {
    "duration": 37136,
    "start_time": "2025-04-01T11:07:40.407Z"
   },
   {
    "duration": 4,
    "start_time": "2025-04-01T11:11:18.322Z"
   },
   {
    "duration": 7,
    "start_time": "2025-04-01T11:12:57.329Z"
   },
   {
    "duration": 25,
    "start_time": "2025-04-01T11:18:32.460Z"
   },
   {
    "duration": 74,
    "start_time": "2025-04-01T11:19:35.902Z"
   },
   {
    "duration": 44728,
    "start_time": "2025-04-01T11:19:55.577Z"
   },
   {
    "duration": 1243,
    "start_time": "2025-04-01T11:20:54.729Z"
   },
   {
    "duration": 5032,
    "start_time": "2025-04-01T11:21:02.217Z"
   },
   {
    "duration": 496,
    "start_time": "2025-04-01T11:21:11.266Z"
   },
   {
    "duration": 55024,
    "start_time": "2025-04-01T11:21:20.549Z"
   },
   {
    "duration": 33841,
    "start_time": "2025-04-01T11:22:31.236Z"
   },
   {
    "duration": 4,
    "start_time": "2025-04-01T11:23:05.079Z"
   },
   {
    "duration": 7,
    "start_time": "2025-04-01T11:24:17.911Z"
   },
   {
    "duration": 9,
    "start_time": "2025-04-01T11:24:31.826Z"
   },
   {
    "duration": 3,
    "start_time": "2025-04-01T11:24:51.355Z"
   },
   {
    "duration": 1962,
    "start_time": "2025-04-01T11:25:08.380Z"
   },
   {
    "duration": 1214,
    "start_time": "2025-04-01T11:25:20.828Z"
   },
   {
    "duration": 3,
    "start_time": "2025-04-01T11:26:14.421Z"
   },
   {
    "duration": 3,
    "start_time": "2025-04-01T11:26:31.228Z"
   },
   {
    "duration": 35933,
    "start_time": "2025-04-01T11:27:13.524Z"
   },
   {
    "duration": 4,
    "start_time": "2025-04-01T11:28:28.706Z"
   },
   {
    "duration": 4,
    "start_time": "2025-04-01T11:29:09.559Z"
   },
   {
    "duration": 3,
    "start_time": "2025-04-01T11:29:29.729Z"
   },
   {
    "duration": 4,
    "start_time": "2025-04-01T11:29:47.815Z"
   },
   {
    "duration": 52591,
    "start_time": "2025-04-01T13:09:09.308Z"
   },
   {
    "duration": 5509,
    "start_time": "2025-04-01T13:10:01.901Z"
   },
   {
    "duration": 311,
    "start_time": "2025-04-01T13:10:07.412Z"
   },
   {
    "duration": 3,
    "start_time": "2025-04-01T13:10:07.725Z"
   },
   {
    "duration": 40,
    "start_time": "2025-04-01T13:10:07.729Z"
   },
   {
    "duration": 4,
    "start_time": "2025-04-01T13:10:07.771Z"
   },
   {
    "duration": 924,
    "start_time": "2025-04-01T13:10:07.777Z"
   },
   {
    "duration": 9,
    "start_time": "2025-04-01T13:10:08.705Z"
   },
   {
    "duration": 28,
    "start_time": "2025-04-01T13:10:08.715Z"
   },
   {
    "duration": 34,
    "start_time": "2025-04-01T13:10:08.745Z"
   },
   {
    "duration": 665,
    "start_time": "2025-04-01T13:10:08.781Z"
   },
   {
    "duration": 29947,
    "start_time": "2025-04-01T13:12:55.811Z"
   },
   {
    "duration": 5,
    "start_time": "2025-04-01T13:13:32.678Z"
   },
   {
    "duration": 5,
    "start_time": "2025-04-01T13:13:55.051Z"
   },
   {
    "duration": 6,
    "start_time": "2025-04-01T13:13:57.644Z"
   },
   {
    "duration": 2,
    "start_time": "2025-04-01T13:14:20.432Z"
   },
   {
    "duration": 4,
    "start_time": "2025-04-01T13:14:22.076Z"
   },
   {
    "duration": 6,
    "start_time": "2025-04-01T13:14:47.761Z"
   },
   {
    "duration": 25031,
    "start_time": "2025-04-01T13:14:56.404Z"
   },
   {
    "duration": 4984,
    "start_time": "2025-04-01T13:15:35.921Z"
   },
   {
    "duration": 3,
    "start_time": "2025-04-01T13:15:40.907Z"
   },
   {
    "duration": 12,
    "start_time": "2025-04-01T13:15:40.911Z"
   },
   {
    "duration": 2,
    "start_time": "2025-04-01T13:15:40.925Z"
   },
   {
    "duration": 913,
    "start_time": "2025-04-01T13:15:43.925Z"
   },
   {
    "duration": 15,
    "start_time": "2025-04-01T13:15:47.139Z"
   },
   {
    "duration": 27,
    "start_time": "2025-04-01T13:15:48.655Z"
   },
   {
    "duration": 6,
    "start_time": "2025-04-01T13:15:50.033Z"
   },
   {
    "duration": 554,
    "start_time": "2025-04-01T13:15:51.128Z"
   },
   {
    "duration": 4368,
    "start_time": "2025-04-01T13:15:53.407Z"
   },
   {
    "duration": 3,
    "start_time": "2025-04-01T13:15:58.847Z"
   },
   {
    "duration": 46496,
    "start_time": "2025-04-01T13:16:02.414Z"
   },
   {
    "duration": 29,
    "start_time": "2025-04-01T13:16:48.912Z"
   },
   {
    "duration": 13,
    "start_time": "2025-04-01T13:16:48.943Z"
   },
   {
    "duration": 515,
    "start_time": "2025-04-01T13:16:48.958Z"
   },
   {
    "duration": 487,
    "start_time": "2025-04-01T13:16:49.475Z"
   },
   {
    "duration": 473,
    "start_time": "2025-04-01T13:17:16.152Z"
   },
   {
    "duration": 505,
    "start_time": "2025-04-01T13:17:40.784Z"
   },
   {
    "duration": 17,
    "start_time": "2025-04-01T13:17:51.371Z"
   },
   {
    "duration": 47348,
    "start_time": "2025-04-01T13:17:57.396Z"
   },
   {
    "duration": 1380,
    "start_time": "2025-04-01T13:18:44.746Z"
   },
   {
    "duration": 3,
    "start_time": "2025-04-01T13:30:47.703Z"
   },
   {
    "duration": 5093,
    "start_time": "2025-04-01T13:31:07.123Z"
   },
   {
    "duration": 6,
    "start_time": "2025-04-01T13:31:15.770Z"
   },
   {
    "duration": 4,
    "start_time": "2025-04-01T13:31:30.764Z"
   },
   {
    "duration": 2221,
    "start_time": "2025-04-01T13:39:55.169Z"
   },
   {
    "duration": 338,
    "start_time": "2025-04-01T13:40:10.015Z"
   },
   {
    "duration": 6,
    "start_time": "2025-04-01T13:40:19.590Z"
   },
   {
    "duration": 18,
    "start_time": "2025-04-01T13:41:11.105Z"
   },
   {
    "duration": 211,
    "start_time": "2025-04-01T13:41:21.800Z"
   },
   {
    "duration": 39238,
    "start_time": "2025-04-01T13:41:24.893Z"
   },
   {
    "duration": 4,
    "start_time": "2025-04-01T13:42:18.425Z"
   },
   {
    "duration": 2722,
    "start_time": "2025-04-01T13:42:36.686Z"
   },
   {
    "duration": 1170,
    "start_time": "2025-04-01T13:42:41.659Z"
   },
   {
    "duration": 5,
    "start_time": "2025-04-01T13:42:48.205Z"
   },
   {
    "duration": 2700,
    "start_time": "2025-04-01T13:43:11.619Z"
   },
   {
    "duration": 5,
    "start_time": "2025-04-01T13:43:24.921Z"
   },
   {
    "duration": 4,
    "start_time": "2025-04-01T13:47:04.351Z"
   },
   {
    "duration": 47751,
    "start_time": "2025-04-01T13:47:21.022Z"
   },
   {
    "duration": 158,
    "start_time": "2025-04-01T13:50:06.316Z"
   },
   {
    "duration": 20,
    "start_time": "2025-04-01T13:51:11.987Z"
   },
   {
    "duration": 5,
    "start_time": "2025-04-01T13:57:27.882Z"
   },
   {
    "duration": 73,
    "start_time": "2025-04-01T13:58:43.493Z"
   },
   {
    "duration": 48094,
    "start_time": "2025-04-01T13:59:07.393Z"
   },
   {
    "duration": 6,
    "start_time": "2025-04-01T14:00:00.225Z"
   },
   {
    "duration": 27,
    "start_time": "2025-04-01T14:00:31.333Z"
   },
   {
    "duration": 26,
    "start_time": "2025-04-01T14:01:28.668Z"
   },
   {
    "duration": 317,
    "start_time": "2025-04-01T14:04:13.558Z"
   },
   {
    "duration": 3,
    "start_time": "2025-04-01T14:04:15.759Z"
   },
   {
    "duration": 911,
    "start_time": "2025-04-01T14:05:17.597Z"
   },
   {
    "duration": 5,
    "start_time": "2025-04-01T14:05:40.279Z"
   },
   {
    "duration": 148,
    "start_time": "2025-04-01T14:05:49.801Z"
   },
   {
    "duration": 6,
    "start_time": "2025-04-01T14:06:01.364Z"
   },
   {
    "duration": 3974,
    "start_time": "2025-04-01T14:06:32.878Z"
   },
   {
    "duration": 41,
    "start_time": "2025-04-01T14:06:44.328Z"
   },
   {
    "duration": 35505,
    "start_time": "2025-04-01T14:16:05.205Z"
   },
   {
    "duration": 1731,
    "start_time": "2025-04-01T14:17:14.945Z"
   },
   {
    "duration": 34952,
    "start_time": "2025-04-01T14:20:26.009Z"
   },
   {
    "duration": 34921,
    "start_time": "2025-04-01T14:23:25.542Z"
   },
   {
    "duration": 938,
    "start_time": "2025-04-01T14:24:29.579Z"
   },
   {
    "duration": 26841,
    "start_time": "2025-04-01T14:28:12.636Z"
   },
   {
    "duration": 9228,
    "start_time": "2025-04-01T14:29:39.877Z"
   },
   {
    "duration": 3,
    "start_time": "2025-04-01T14:29:49.109Z"
   },
   {
    "duration": 277,
    "start_time": "2025-04-01T14:29:49.113Z"
   },
   {
    "duration": 6,
    "start_time": "2025-04-01T14:29:49.391Z"
   },
   {
    "duration": 11,
    "start_time": "2025-04-01T14:29:49.399Z"
   },
   {
    "duration": 936,
    "start_time": "2025-04-01T14:29:49.411Z"
   },
   {
    "duration": 11,
    "start_time": "2025-04-01T14:29:55.509Z"
   },
   {
    "duration": 30,
    "start_time": "2025-04-01T14:29:56.966Z"
   },
   {
    "duration": 6,
    "start_time": "2025-04-01T14:30:01.354Z"
   },
   {
    "duration": 603,
    "start_time": "2025-04-01T14:30:02.391Z"
   },
   {
    "duration": 4275,
    "start_time": "2025-04-01T14:30:04.835Z"
   },
   {
    "duration": 2,
    "start_time": "2025-04-01T14:30:11.787Z"
   },
   {
    "duration": 46404,
    "start_time": "2025-04-01T14:30:13.263Z"
   },
   {
    "duration": 37,
    "start_time": "2025-04-01T14:30:59.669Z"
   },
   {
    "duration": 13,
    "start_time": "2025-04-01T14:30:59.707Z"
   },
   {
    "duration": 511,
    "start_time": "2025-04-01T14:30:59.722Z"
   },
   {
    "duration": 472,
    "start_time": "2025-04-01T14:31:00.235Z"
   },
   {
    "duration": 17,
    "start_time": "2025-04-01T14:33:06.981Z"
   },
   {
    "duration": 47560,
    "start_time": "2025-04-01T14:33:08.056Z"
   },
   {
    "duration": 947,
    "start_time": "2025-04-01T14:33:55.619Z"
   },
   {
    "duration": 151,
    "start_time": "2025-04-01T14:33:56.568Z"
   },
   {
    "duration": 3946,
    "start_time": "2025-04-01T14:33:56.722Z"
   },
   {
    "duration": 50,
    "start_time": "2025-04-01T14:34:00.670Z"
   },
   {
    "duration": 942,
    "start_time": "2025-04-01T14:34:00.722Z"
   },
   {
    "duration": 34733,
    "start_time": "2025-04-01T14:34:01.665Z"
   },
   {
    "duration": 34048,
    "start_time": "2025-04-01T14:34:47.139Z"
   },
   {
    "duration": 34071,
    "start_time": "2025-04-01T14:37:10.659Z"
   },
   {
    "duration": 35259,
    "start_time": "2025-04-01T14:40:10.200Z"
   },
   {
    "duration": 34516,
    "start_time": "2025-04-01T14:41:30.246Z"
   },
   {
    "duration": 35327,
    "start_time": "2025-04-01T14:43:15.639Z"
   },
   {
    "duration": 36022,
    "start_time": "2025-04-01T15:02:54.044Z"
   },
   {
    "duration": 5,
    "start_time": "2025-04-01T15:23:05.734Z"
   },
   {
    "duration": 5,
    "start_time": "2025-04-01T15:31:59.608Z"
   },
   {
    "duration": 4,
    "start_time": "2025-04-01T15:54:12.097Z"
   },
   {
    "duration": 356,
    "start_time": "2025-04-01T15:59:38.765Z"
   },
   {
    "duration": 418,
    "start_time": "2025-04-01T15:59:52.114Z"
   },
   {
    "duration": 541,
    "start_time": "2025-04-01T16:00:48.311Z"
   },
   {
    "duration": 51,
    "start_time": "2025-04-01T16:03:34.819Z"
   },
   {
    "duration": 25305,
    "start_time": "2025-04-01T16:03:50.973Z"
   },
   {
    "duration": 7025,
    "start_time": "2025-04-01T16:04:16.281Z"
   },
   {
    "duration": 3,
    "start_time": "2025-04-01T16:04:23.307Z"
   },
   {
    "duration": 199,
    "start_time": "2025-04-01T16:04:23.312Z"
   },
   {
    "duration": 5,
    "start_time": "2025-04-01T16:04:23.513Z"
   },
   {
    "duration": 3,
    "start_time": "2025-04-01T16:04:23.520Z"
   },
   {
    "duration": 1814,
    "start_time": "2025-04-01T16:04:23.525Z"
   },
   {
    "duration": 12,
    "start_time": "2025-04-01T16:04:25.340Z"
   },
   {
    "duration": 142,
    "start_time": "2025-04-01T16:04:25.353Z"
   },
   {
    "duration": 5,
    "start_time": "2025-04-01T16:04:25.498Z"
   },
   {
    "duration": 625,
    "start_time": "2025-04-01T16:04:25.505Z"
   },
   {
    "duration": 4365,
    "start_time": "2025-04-01T16:04:26.132Z"
   },
   {
    "duration": 7,
    "start_time": "2025-04-01T16:04:30.499Z"
   },
   {
    "duration": 46828,
    "start_time": "2025-04-01T16:04:30.508Z"
   },
   {
    "duration": 32,
    "start_time": "2025-04-01T16:05:17.337Z"
   },
   {
    "duration": 42,
    "start_time": "2025-04-01T16:05:17.371Z"
   },
   {
    "duration": 476,
    "start_time": "2025-04-01T16:05:17.415Z"
   },
   {
    "duration": 467,
    "start_time": "2025-04-01T16:05:17.893Z"
   },
   {
    "duration": 17,
    "start_time": "2025-04-01T16:05:18.362Z"
   },
   {
    "duration": 47821,
    "start_time": "2025-04-01T16:05:18.381Z"
   },
   {
    "duration": 992,
    "start_time": "2025-04-01T16:06:06.205Z"
   },
   {
    "duration": 153,
    "start_time": "2025-04-01T16:06:07.198Z"
   },
   {
    "duration": 3981,
    "start_time": "2025-04-01T16:06:07.352Z"
   },
   {
    "duration": 42,
    "start_time": "2025-04-01T16:06:11.335Z"
   },
   {
    "duration": 1031,
    "start_time": "2025-04-01T16:06:11.378Z"
   },
   {
    "duration": 33984,
    "start_time": "2025-04-01T16:06:12.410Z"
   },
   {
    "duration": 31,
    "start_time": "2025-04-01T16:06:46.395Z"
   },
   {
    "duration": 7,
    "start_time": "2025-04-01T16:06:46.429Z"
   },
   {
    "duration": 172,
    "start_time": "2025-04-01T16:06:53.384Z"
   },
   {
    "duration": 24459,
    "start_time": "2025-04-01T16:14:14.346Z"
   },
   {
    "duration": 7173,
    "start_time": "2025-04-01T16:14:38.808Z"
   },
   {
    "duration": 3,
    "start_time": "2025-04-01T16:14:45.982Z"
   },
   {
    "duration": 340,
    "start_time": "2025-04-01T16:14:45.987Z"
   },
   {
    "duration": 5,
    "start_time": "2025-04-01T16:14:46.328Z"
   },
   {
    "duration": 5,
    "start_time": "2025-04-01T16:14:46.334Z"
   },
   {
    "duration": 1036,
    "start_time": "2025-04-01T16:14:46.341Z"
   },
   {
    "duration": 11,
    "start_time": "2025-04-01T16:14:47.379Z"
   },
   {
    "duration": 97,
    "start_time": "2025-04-01T16:14:47.392Z"
   },
   {
    "duration": 6,
    "start_time": "2025-04-01T16:14:47.492Z"
   },
   {
    "duration": 623,
    "start_time": "2025-04-01T16:14:47.500Z"
   },
   {
    "duration": 4209,
    "start_time": "2025-04-01T16:14:48.125Z"
   },
   {
    "duration": 3,
    "start_time": "2025-04-01T16:14:52.336Z"
   },
   {
    "duration": 45791,
    "start_time": "2025-04-01T16:14:52.340Z"
   },
   {
    "duration": 33,
    "start_time": "2025-04-01T16:15:38.132Z"
   },
   {
    "duration": 14,
    "start_time": "2025-04-01T16:15:38.166Z"
   },
   {
    "duration": 492,
    "start_time": "2025-04-01T16:15:38.182Z"
   },
   {
    "duration": 475,
    "start_time": "2025-04-01T16:15:38.675Z"
   },
   {
    "duration": 18,
    "start_time": "2025-04-01T16:15:39.151Z"
   },
   {
    "duration": 47147,
    "start_time": "2025-04-01T16:15:39.170Z"
   },
   {
    "duration": 898,
    "start_time": "2025-04-01T16:16:26.319Z"
   },
   {
    "duration": 149,
    "start_time": "2025-04-01T16:16:27.218Z"
   },
   {
    "duration": 3799,
    "start_time": "2025-04-01T16:16:27.369Z"
   },
   {
    "duration": 51,
    "start_time": "2025-04-01T16:16:31.170Z"
   },
   {
    "duration": 940,
    "start_time": "2025-04-01T16:16:31.223Z"
   },
   {
    "duration": 34126,
    "start_time": "2025-04-01T16:16:32.164Z"
   },
   {
    "duration": 39,
    "start_time": "2025-04-01T16:17:06.292Z"
   },
   {
    "duration": 29,
    "start_time": "2025-04-01T16:17:06.334Z"
   },
   {
    "duration": 2996,
    "start_time": "2025-04-01T16:20:47.580Z"
   },
   {
    "duration": 345,
    "start_time": "2025-04-01T16:28:44.283Z"
   },
   {
    "duration": 562253,
    "start_time": "2025-04-01T16:29:17.724Z"
   },
   {
    "duration": 6,
    "start_time": "2025-04-01T17:04:27.675Z"
   },
   {
    "duration": 9,
    "start_time": "2025-04-01T17:05:06.119Z"
   },
   {
    "duration": 387,
    "start_time": "2025-04-01T17:33:05.988Z"
   },
   {
    "duration": 26742,
    "start_time": "2025-04-01T17:33:16.823Z"
   },
   {
    "duration": 122,
    "start_time": "2025-04-01T17:36:03.931Z"
   },
   {
    "duration": 70,
    "start_time": "2025-04-01T17:36:14.772Z"
   },
   {
    "duration": 29550,
    "start_time": "2025-04-01T17:36:46.678Z"
   },
   {
    "duration": 2444,
    "start_time": "2025-04-01T17:37:16.231Z"
   },
   {
    "duration": 2,
    "start_time": "2025-04-01T17:37:33.669Z"
   },
   {
    "duration": 175,
    "start_time": "2025-04-01T17:37:34.930Z"
   },
   {
    "duration": 524,
    "start_time": "2025-04-01T17:37:39.497Z"
   },
   {
    "duration": 3,
    "start_time": "2025-04-01T17:40:49.082Z"
   },
   {
    "duration": 398935,
    "start_time": "2025-04-01T17:42:40.750Z"
   },
   {
    "duration": 20,
    "start_time": "2025-04-01T17:50:30.263Z"
   },
   {
    "duration": 3,
    "start_time": "2025-04-01T17:57:43.895Z"
   },
   {
    "duration": 19,
    "start_time": "2025-04-01T17:57:46.232Z"
   },
   {
    "duration": 2079918,
    "start_time": "2025-04-01T17:59:46.017Z"
   },
   {
    "duration": 9,
    "start_time": "2025-04-01T18:34:25.937Z"
   },
   {
    "duration": 20,
    "start_time": "2025-04-01T18:36:58.100Z"
   },
   {
    "duration": 24,
    "start_time": "2025-04-01T18:43:09.214Z"
   },
   {
    "duration": 5,
    "start_time": "2025-04-01T18:43:28.976Z"
   },
   {
    "duration": 3,
    "start_time": "2025-04-01T18:43:49.489Z"
   },
   {
    "duration": 264,
    "start_time": "2025-04-01T18:43:50.583Z"
   },
   {
    "duration": 464,
    "start_time": "2025-04-01T18:43:54.156Z"
   },
   {
    "duration": 15428,
    "start_time": "2025-04-01T18:44:45.749Z"
   },
   {
    "duration": 0,
    "start_time": "2025-04-01T18:45:01.178Z"
   },
   {
    "duration": 3,
    "start_time": "2025-04-01T18:45:14.505Z"
   },
   {
    "duration": 120082,
    "start_time": "2025-04-01T18:45:18.512Z"
   },
   {
    "duration": 9,
    "start_time": "2025-04-01T18:50:14.036Z"
   },
   {
    "duration": 22151,
    "start_time": "2025-04-01T18:57:01.357Z"
   },
   {
    "duration": 6647,
    "start_time": "2025-04-01T19:00:04.816Z"
   },
   {
    "duration": 2,
    "start_time": "2025-04-01T19:00:26.246Z"
   },
   {
    "duration": 146,
    "start_time": "2025-04-01T19:00:27.395Z"
   },
   {
    "duration": 532,
    "start_time": "2025-04-01T19:00:31.031Z"
   },
   {
    "duration": 3,
    "start_time": "2025-04-01T19:00:34.197Z"
   },
   {
    "duration": 941,
    "start_time": "2025-04-01T19:00:39.979Z"
   },
   {
    "duration": 10,
    "start_time": "2025-04-01T19:00:44.757Z"
   },
   {
    "duration": 29,
    "start_time": "2025-04-01T19:00:47.156Z"
   },
   {
    "duration": 7,
    "start_time": "2025-04-01T19:00:48.080Z"
   },
   {
    "duration": 578,
    "start_time": "2025-04-01T19:00:55.616Z"
   },
   {
    "duration": 4579,
    "start_time": "2025-04-01T19:01:03.007Z"
   },
   {
    "duration": 3,
    "start_time": "2025-04-01T19:01:07.588Z"
   },
   {
    "duration": 49167,
    "start_time": "2025-04-01T19:01:13.817Z"
   },
   {
    "duration": 33,
    "start_time": "2025-04-01T19:02:02.986Z"
   },
   {
    "duration": 12,
    "start_time": "2025-04-01T19:02:03.021Z"
   },
   {
    "duration": 723,
    "start_time": "2025-04-01T19:02:03.035Z"
   },
   {
    "duration": 492,
    "start_time": "2025-04-01T19:02:03.759Z"
   },
   {
    "duration": 17,
    "start_time": "2025-04-01T19:02:04.253Z"
   },
   {
    "duration": 50803,
    "start_time": "2025-04-01T19:02:04.272Z"
   },
   {
    "duration": 977,
    "start_time": "2025-04-01T19:02:55.076Z"
   },
   {
    "duration": 162,
    "start_time": "2025-04-01T19:02:56.055Z"
   },
   {
    "duration": 4064,
    "start_time": "2025-04-01T19:02:56.220Z"
   },
   {
    "duration": 52,
    "start_time": "2025-04-01T19:03:00.286Z"
   },
   {
    "duration": 994,
    "start_time": "2025-04-01T19:03:00.339Z"
   },
   {
    "duration": 36307,
    "start_time": "2025-04-01T19:03:01.335Z"
   },
   {
    "duration": 3,
    "start_time": "2025-04-01T19:04:57.505Z"
   },
   {
    "duration": 19057,
    "start_time": "2025-04-01T19:05:02.010Z"
   },
   {
    "duration": 0,
    "start_time": "2025-04-01T19:05:21.070Z"
   },
   {
    "duration": 3,
    "start_time": "2025-04-01T19:06:10.356Z"
   },
   {
    "duration": 124144,
    "start_time": "2025-04-01T19:06:22.848Z"
   },
   {
    "duration": 12,
    "start_time": "2025-04-01T19:08:26.994Z"
   },
   {
    "duration": 8,
    "start_time": "2025-04-01T19:09:39.211Z"
   },
   {
    "duration": 18,
    "start_time": "2025-04-01T19:12:10.704Z"
   },
   {
    "duration": 4,
    "start_time": "2025-04-01T19:12:28.336Z"
   },
   {
    "duration": 3,
    "start_time": "2025-04-01T19:12:37.618Z"
   },
   {
    "duration": 6,
    "start_time": "2025-04-01T19:12:38.664Z"
   },
   {
    "duration": 562,
    "start_time": "2025-04-01T19:12:39.994Z"
   },
   {
    "duration": 3,
    "start_time": "2025-04-01T19:12:50.869Z"
   },
   {
    "duration": 41266,
    "start_time": "2025-04-01T19:12:52.089Z"
   },
   {
    "duration": 20,
    "start_time": "2025-04-01T19:13:52.176Z"
   },
   {
    "duration": 5,
    "start_time": "2025-04-01T19:13:57.945Z"
   },
   {
    "duration": 2,
    "start_time": "2025-04-01T19:13:59.287Z"
   },
   {
    "duration": 5,
    "start_time": "2025-04-01T19:14:00.485Z"
   },
   {
    "duration": 500,
    "start_time": "2025-04-01T19:14:02.000Z"
   },
   {
    "duration": 3,
    "start_time": "2025-04-01T19:14:10.810Z"
   },
   {
    "duration": 309325,
    "start_time": "2025-04-01T19:14:11.963Z"
   },
   {
    "duration": 15,
    "start_time": "2025-04-01T19:19:21.290Z"
   },
   {
    "duration": 5,
    "start_time": "2025-04-01T19:20:11.802Z"
   },
   {
    "duration": 3,
    "start_time": "2025-04-01T19:20:12.794Z"
   },
   {
    "duration": 5,
    "start_time": "2025-04-01T19:20:13.942Z"
   },
   {
    "duration": 536,
    "start_time": "2025-04-01T19:20:28.104Z"
   },
   {
    "duration": 4,
    "start_time": "2025-04-01T19:20:35.385Z"
   },
   {
    "duration": 2206047,
    "start_time": "2025-04-01T19:20:49.420Z"
   },
   {
    "duration": 0,
    "start_time": "2025-04-01T19:57:35.469Z"
   },
   {
    "duration": 5,
    "start_time": "2025-04-01T20:01:53.035Z"
   },
   {
    "duration": 3,
    "start_time": "2025-04-01T20:01:56.821Z"
   },
   {
    "duration": 144,
    "start_time": "2025-04-01T20:01:57.759Z"
   },
   {
    "duration": 499,
    "start_time": "2025-04-01T20:01:59.132Z"
   },
   {
    "duration": 2248123,
    "start_time": "2025-04-01T20:03:20.382Z"
   },
   {
    "duration": 8,
    "start_time": "2025-04-01T20:40:48.507Z"
   },
   {
    "duration": 6149,
    "start_time": "2025-04-01T20:45:28.520Z"
   },
   {
    "duration": 2341,
    "start_time": "2025-04-01T20:46:46.973Z"
   },
   {
    "duration": 10,
    "start_time": "2025-04-01T20:47:00.466Z"
   },
   {
    "duration": 8,
    "start_time": "2025-04-01T20:48:27.459Z"
   },
   {
    "duration": 2401,
    "start_time": "2025-04-01T20:48:32.341Z"
   },
   {
    "duration": 7,
    "start_time": "2025-04-01T20:48:35.924Z"
   },
   {
    "duration": 22,
    "start_time": "2025-04-01T20:49:58.233Z"
   },
   {
    "duration": 7,
    "start_time": "2025-04-01T20:53:14.631Z"
   },
   {
    "duration": 94,
    "start_time": "2025-04-01T20:53:16.819Z"
   },
   {
    "duration": 3,
    "start_time": "2025-04-01T21:04:09.636Z"
   },
   {
    "duration": 3,
    "start_time": "2025-04-01T21:05:38.795Z"
   },
   {
    "duration": 3,
    "start_time": "2025-04-01T21:09:34.452Z"
   },
   {
    "duration": 20,
    "start_time": "2025-04-01T21:14:18.556Z"
   },
   {
    "duration": 6,
    "start_time": "2025-04-01T21:14:53.906Z"
   },
   {
    "duration": 10,
    "start_time": "2025-04-01T21:15:10.080Z"
   },
   {
    "duration": 102,
    "start_time": "2025-04-01T21:15:11.297Z"
   },
   {
    "duration": 2,
    "start_time": "2025-04-01T21:15:12.387Z"
   },
   {
    "duration": 19,
    "start_time": "2025-04-01T21:15:14.039Z"
   },
   {
    "duration": 18,
    "start_time": "2025-04-01T21:15:33.259Z"
   },
   {
    "duration": 4,
    "start_time": "2025-04-01T21:16:10.376Z"
   },
   {
    "duration": 3,
    "start_time": "2025-04-01T21:16:17.661Z"
   },
   {
    "duration": 4,
    "start_time": "2025-04-01T21:16:21.912Z"
   },
   {
    "duration": 4,
    "start_time": "2025-04-01T21:16:27.055Z"
   },
   {
    "duration": 60,
    "start_time": "2025-04-01T21:16:33.457Z"
   },
   {
    "duration": 4,
    "start_time": "2025-04-01T21:17:24.762Z"
   },
   {
    "duration": 1029,
    "start_time": "2025-04-01T21:17:33.915Z"
   },
   {
    "duration": 22,
    "start_time": "2025-04-01T21:21:06.777Z"
   },
   {
    "duration": 20,
    "start_time": "2025-04-01T21:22:13.739Z"
   },
   {
    "duration": 72,
    "start_time": "2025-04-01T21:29:26.580Z"
   },
   {
    "duration": 3,
    "start_time": "2025-04-01T21:29:33.161Z"
   },
   {
    "duration": 3,
    "start_time": "2025-04-01T21:29:37.517Z"
   },
   {
    "duration": 5,
    "start_time": "2025-04-01T21:29:59.840Z"
   },
   {
    "duration": 907,
    "start_time": "2025-04-01T21:30:11.111Z"
   },
   {
    "duration": 11,
    "start_time": "2025-04-01T21:30:44.969Z"
   },
   {
    "duration": 89,
    "start_time": "2025-04-01T21:30:46.819Z"
   },
   {
    "duration": 9,
    "start_time": "2025-04-01T21:31:00.423Z"
   },
   {
    "duration": 2,
    "start_time": "2025-04-01T21:37:45.869Z"
   },
   {
    "duration": 3,
    "start_time": "2025-04-01T21:38:05.697Z"
   },
   {
    "duration": 3,
    "start_time": "2025-04-01T21:38:10.486Z"
   },
   {
    "duration": 4,
    "start_time": "2025-04-01T21:38:12.021Z"
   },
   {
    "duration": 936,
    "start_time": "2025-04-01T21:38:15.604Z"
   },
   {
    "duration": 11,
    "start_time": "2025-04-01T21:44:46.374Z"
   },
   {
    "duration": 96,
    "start_time": "2025-04-01T21:44:48.217Z"
   },
   {
    "duration": 2,
    "start_time": "2025-04-01T21:44:50.368Z"
   },
   {
    "duration": 92,
    "start_time": "2025-04-01T21:44:51.801Z"
   },
   {
    "duration": 57,
    "start_time": "2025-04-01T21:45:12.268Z"
   },
   {
    "duration": 3,
    "start_time": "2025-04-01T21:45:49.375Z"
   },
   {
    "duration": 3,
    "start_time": "2025-04-01T21:46:10.330Z"
   },
   {
    "duration": 4,
    "start_time": "2025-04-01T21:46:10.610Z"
   },
   {
    "duration": 902,
    "start_time": "2025-04-01T21:46:10.957Z"
   },
   {
    "duration": 4,
    "start_time": "2025-04-01T21:49:51.143Z"
   },
   {
    "duration": 3,
    "start_time": "2025-04-01T21:49:52.018Z"
   },
   {
    "duration": 219,
    "start_time": "2025-04-01T21:49:53.030Z"
   },
   {
    "duration": 511,
    "start_time": "2025-04-01T21:49:54.585Z"
   },
   {
    "duration": 2,
    "start_time": "2025-04-01T21:49:57.229Z"
   },
   {
    "duration": 908,
    "start_time": "2025-04-01T21:49:59.165Z"
   },
   {
    "duration": 10,
    "start_time": "2025-04-01T21:50:07.095Z"
   },
   {
    "duration": 85,
    "start_time": "2025-04-01T21:50:07.912Z"
   },
   {
    "duration": 3,
    "start_time": "2025-04-01T21:50:09.010Z"
   },
   {
    "duration": 3,
    "start_time": "2025-04-01T21:50:10.484Z"
   },
   {
    "duration": 3,
    "start_time": "2025-04-01T21:50:11.909Z"
   },
   {
    "duration": 4,
    "start_time": "2025-04-01T21:50:13.982Z"
   },
   {
    "duration": 1007,
    "start_time": "2025-04-01T21:50:15.783Z"
   },
   {
    "duration": 8,
    "start_time": "2025-04-01T21:51:31.035Z"
   },
   {
    "duration": 82,
    "start_time": "2025-04-01T21:54:23.703Z"
   },
   {
    "duration": 3,
    "start_time": "2025-04-01T21:54:38.086Z"
   },
   {
    "duration": 3,
    "start_time": "2025-04-01T21:54:38.939Z"
   },
   {
    "duration": 3,
    "start_time": "2025-04-01T21:54:40.035Z"
   },
   {
    "duration": 2,
    "start_time": "2025-04-01T21:54:42.481Z"
   },
   {
    "duration": 5,
    "start_time": "2025-04-01T21:54:44.207Z"
   },
   {
    "duration": 947,
    "start_time": "2025-04-01T21:54:45.629Z"
   },
   {
    "duration": 3,
    "start_time": "2025-04-01T21:55:06.006Z"
   },
   {
    "duration": 3,
    "start_time": "2025-04-01T21:55:07.442Z"
   },
   {
    "duration": 3,
    "start_time": "2025-04-01T21:55:08.662Z"
   },
   {
    "duration": 4,
    "start_time": "2025-04-01T21:55:10.832Z"
   },
   {
    "duration": 959,
    "start_time": "2025-04-01T21:55:12.173Z"
   },
   {
    "duration": 7,
    "start_time": "2025-04-01T21:56:35.158Z"
   },
   {
    "duration": 89,
    "start_time": "2025-04-01T21:56:35.968Z"
   },
   {
    "duration": 2,
    "start_time": "2025-04-01T21:56:36.845Z"
   },
   {
    "duration": 3,
    "start_time": "2025-04-01T21:56:37.748Z"
   },
   {
    "duration": 10,
    "start_time": "2025-04-01T21:56:40.988Z"
   },
   {
    "duration": 88,
    "start_time": "2025-04-01T21:56:43.014Z"
   },
   {
    "duration": 3,
    "start_time": "2025-04-01T21:56:45.168Z"
   },
   {
    "duration": 3,
    "start_time": "2025-04-01T21:56:47.273Z"
   },
   {
    "duration": 3,
    "start_time": "2025-04-01T21:56:49.024Z"
   },
   {
    "duration": 5,
    "start_time": "2025-04-01T21:56:50.580Z"
   },
   {
    "duration": 966,
    "start_time": "2025-04-01T21:56:51.999Z"
   },
   {
    "duration": 3,
    "start_time": "2025-04-01T21:57:23.129Z"
   },
   {
    "duration": 3,
    "start_time": "2025-04-01T21:57:24.092Z"
   },
   {
    "duration": 3,
    "start_time": "2025-04-01T21:57:25.064Z"
   },
   {
    "duration": 5,
    "start_time": "2025-04-01T21:57:26.261Z"
   },
   {
    "duration": 832,
    "start_time": "2025-04-01T21:57:27.209Z"
   },
   {
    "duration": 7,
    "start_time": "2025-04-01T21:59:08.546Z"
   },
   {
    "duration": 8,
    "start_time": "2025-04-01T21:59:27.579Z"
   },
   {
    "duration": 23,
    "start_time": "2025-04-01T21:59:40.959Z"
   },
   {
    "duration": 22,
    "start_time": "2025-04-01T21:59:45.659Z"
   },
   {
    "duration": 7,
    "start_time": "2025-04-01T21:59:56.160Z"
   },
   {
    "duration": 22,
    "start_time": "2025-04-01T22:00:21.424Z"
   },
   {
    "duration": 7,
    "start_time": "2025-04-01T22:01:43.930Z"
   },
   {
    "duration": 22,
    "start_time": "2025-04-01T22:02:32.322Z"
   },
   {
    "duration": 7,
    "start_time": "2025-04-01T22:02:39.640Z"
   },
   {
    "duration": 1072,
    "start_time": "2025-04-01T22:03:14.737Z"
   },
   {
    "duration": 46104,
    "start_time": "2025-04-02T06:35:53.894Z"
   },
   {
    "duration": 32860,
    "start_time": "2025-04-02T06:37:35.117Z"
   },
   {
    "duration": 2218,
    "start_time": "2025-04-02T06:39:34.668Z"
   },
   {
    "duration": 2066,
    "start_time": "2025-04-02T06:39:49.193Z"
   },
   {
    "duration": 30779,
    "start_time": "2025-04-02T06:41:04.795Z"
   },
   {
    "duration": 6631,
    "start_time": "2025-04-02T06:42:20.606Z"
   },
   {
    "duration": 7,
    "start_time": "2025-04-02T06:42:35.253Z"
   },
   {
    "duration": 339,
    "start_time": "2025-04-02T06:42:36.536Z"
   },
   {
    "duration": 512,
    "start_time": "2025-04-02T06:42:38.346Z"
   },
   {
    "duration": 2,
    "start_time": "2025-04-02T06:42:41.780Z"
   },
   {
    "duration": 2468,
    "start_time": "2025-04-02T06:43:04.252Z"
   },
   {
    "duration": 10,
    "start_time": "2025-04-02T06:43:09.014Z"
   },
   {
    "duration": 7,
    "start_time": "2025-04-02T06:43:16.913Z"
   },
   {
    "duration": 63,
    "start_time": "2025-04-02T06:44:07.061Z"
   },
   {
    "duration": 1281,
    "start_time": "2025-04-02T06:44:11.326Z"
   },
   {
    "duration": 7,
    "start_time": "2025-04-02T06:50:27.016Z"
   },
   {
    "duration": 8877,
    "start_time": "2025-04-02T06:55:22.090Z"
   },
   {
    "duration": 8472,
    "start_time": "2025-04-02T06:57:10.293Z"
   },
   {
    "duration": 62,
    "start_time": "2025-04-02T06:57:18.767Z"
   },
   {
    "duration": 27764,
    "start_time": "2025-04-02T06:57:45.449Z"
   },
   {
    "duration": 9785,
    "start_time": "2025-04-02T06:58:13.215Z"
   },
   {
    "duration": 7,
    "start_time": "2025-04-02T06:59:59.985Z"
   },
   {
    "duration": 245,
    "start_time": "2025-04-02T07:00:00.785Z"
   },
   {
    "duration": 585,
    "start_time": "2025-04-02T07:00:02.209Z"
   },
   {
    "duration": 3,
    "start_time": "2025-04-02T07:00:06.761Z"
   },
   {
    "duration": 2370,
    "start_time": "2025-04-02T07:00:20.468Z"
   },
   {
    "duration": 14,
    "start_time": "2025-04-02T07:00:22.841Z"
   },
   {
    "duration": 11,
    "start_time": "2025-04-02T07:00:28.767Z"
   },
   {
    "duration": 31476,
    "start_time": "2025-04-02T07:01:39.556Z"
   },
   {
    "duration": 9661,
    "start_time": "2025-04-02T07:02:11.035Z"
   },
   {
    "duration": 6,
    "start_time": "2025-04-02T07:02:20.698Z"
   },
   {
    "duration": 274,
    "start_time": "2025-04-02T07:02:20.706Z"
   },
   {
    "duration": 494,
    "start_time": "2025-04-02T07:02:20.982Z"
   },
   {
    "duration": 3,
    "start_time": "2025-04-02T07:02:21.477Z"
   },
   {
    "duration": 2709,
    "start_time": "2025-04-02T07:02:31.022Z"
   },
   {
    "duration": 14,
    "start_time": "2025-04-02T07:02:33.733Z"
   },
   {
    "duration": 10,
    "start_time": "2025-04-02T07:02:35.769Z"
   },
   {
    "duration": 27630,
    "start_time": "2025-04-02T07:06:59.325Z"
   },
   {
    "duration": 13607,
    "start_time": "2025-04-02T07:07:26.960Z"
   },
   {
    "duration": 7,
    "start_time": "2025-04-02T07:07:40.568Z"
   },
   {
    "duration": 224,
    "start_time": "2025-04-02T07:07:40.577Z"
   },
   {
    "duration": 483,
    "start_time": "2025-04-02T07:07:40.803Z"
   },
   {
    "duration": 4,
    "start_time": "2025-04-02T07:07:41.288Z"
   },
   {
    "duration": 2710,
    "start_time": "2025-04-02T07:07:41.293Z"
   },
   {
    "duration": 13,
    "start_time": "2025-04-02T07:07:44.004Z"
   },
   {
    "duration": 9,
    "start_time": "2025-04-02T07:08:55.996Z"
   },
   {
    "duration": 68,
    "start_time": "2025-04-02T07:08:58.090Z"
   },
   {
    "duration": 1301,
    "start_time": "2025-04-02T07:09:01.142Z"
   },
   {
    "duration": 7998,
    "start_time": "2025-04-02T07:10:32.977Z"
   },
   {
    "duration": 1590,
    "start_time": "2025-04-02T07:11:08.410Z"
   },
   {
    "duration": 28045,
    "start_time": "2025-04-02T07:14:05.313Z"
   },
   {
    "duration": 9561,
    "start_time": "2025-04-02T07:14:33.361Z"
   },
   {
    "duration": 7,
    "start_time": "2025-04-02T07:14:42.924Z"
   },
   {
    "duration": 183,
    "start_time": "2025-04-02T07:14:42.933Z"
   },
   {
    "duration": 485,
    "start_time": "2025-04-02T07:14:43.117Z"
   },
   {
    "duration": 3,
    "start_time": "2025-04-02T07:14:43.603Z"
   },
   {
    "duration": 2441,
    "start_time": "2025-04-02T07:14:43.607Z"
   },
   {
    "duration": 17,
    "start_time": "2025-04-02T07:14:46.050Z"
   },
   {
    "duration": 11,
    "start_time": "2025-04-02T07:14:46.068Z"
   },
   {
    "duration": 347,
    "start_time": "2025-04-02T07:14:55.542Z"
   },
   {
    "duration": 9,
    "start_time": "2025-04-02T07:15:01.249Z"
   },
   {
    "duration": 15,
    "start_time": "2025-04-02T07:15:28.488Z"
   },
   {
    "duration": 83,
    "start_time": "2025-04-02T07:15:33.223Z"
   },
   {
    "duration": 5236,
    "start_time": "2025-04-02T07:15:50.026Z"
   },
   {
    "duration": 2,
    "start_time": "2025-04-02T07:16:04.332Z"
   },
   {
    "duration": 3,
    "start_time": "2025-04-02T07:16:06.037Z"
   },
   {
    "duration": 2,
    "start_time": "2025-04-02T07:16:07.425Z"
   },
   {
    "duration": 4,
    "start_time": "2025-04-02T07:16:08.855Z"
   },
   {
    "duration": 995,
    "start_time": "2025-04-02T07:16:10.435Z"
   },
   {
    "duration": 12,
    "start_time": "2025-04-02T07:18:56.661Z"
   },
   {
    "duration": 21,
    "start_time": "2025-04-02T07:18:58.495Z"
   },
   {
    "duration": 85,
    "start_time": "2025-04-02T07:18:59.980Z"
   },
   {
    "duration": 3,
    "start_time": "2025-04-02T07:19:06.400Z"
   },
   {
    "duration": 3,
    "start_time": "2025-04-02T07:19:07.606Z"
   },
   {
    "duration": 4,
    "start_time": "2025-04-02T07:19:09.059Z"
   },
   {
    "duration": 4,
    "start_time": "2025-04-02T07:19:10.618Z"
   },
   {
    "duration": 1087,
    "start_time": "2025-04-02T07:19:11.884Z"
   },
   {
    "duration": 5137,
    "start_time": "2025-04-02T07:22:15.766Z"
   },
   {
    "duration": 3,
    "start_time": "2025-04-02T07:23:26.819Z"
   },
   {
    "duration": 3,
    "start_time": "2025-04-02T07:23:27.684Z"
   },
   {
    "duration": 3,
    "start_time": "2025-04-02T07:23:28.610Z"
   },
   {
    "duration": 5,
    "start_time": "2025-04-02T07:23:31.236Z"
   },
   {
    "duration": 1029,
    "start_time": "2025-04-02T07:23:32.976Z"
   },
   {
    "duration": 38,
    "start_time": "2025-04-02T07:26:16.316Z"
   },
   {
    "duration": 36,
    "start_time": "2025-04-02T07:26:40.532Z"
   },
   {
    "duration": 9,
    "start_time": "2025-04-02T07:27:06.852Z"
   },
   {
    "duration": 24,
    "start_time": "2025-04-02T07:36:03.593Z"
   },
   {
    "duration": 13,
    "start_time": "2025-04-02T07:36:30.467Z"
   },
   {
    "duration": 14,
    "start_time": "2025-04-02T07:36:32.236Z"
   },
   {
    "duration": 85,
    "start_time": "2025-04-02T07:36:33.899Z"
   },
   {
    "duration": 2,
    "start_time": "2025-04-02T07:36:38.829Z"
   },
   {
    "duration": 3,
    "start_time": "2025-04-02T07:36:40.153Z"
   },
   {
    "duration": 3,
    "start_time": "2025-04-02T07:36:41.517Z"
   },
   {
    "duration": 5,
    "start_time": "2025-04-02T07:36:42.698Z"
   },
   {
    "duration": 1285,
    "start_time": "2025-04-02T07:36:43.949Z"
   },
   {
    "duration": 53,
    "start_time": "2025-04-02T07:37:17.141Z"
   },
   {
    "duration": 11,
    "start_time": "2025-04-02T07:43:20.737Z"
   },
   {
    "duration": 30,
    "start_time": "2025-04-02T07:43:34.980Z"
   },
   {
    "duration": 16,
    "start_time": "2025-04-02T07:44:10.771Z"
   },
   {
    "duration": 25,
    "start_time": "2025-04-02T07:44:14.215Z"
   },
   {
    "duration": 77,
    "start_time": "2025-04-02T07:44:45.941Z"
   },
   {
    "duration": 5009,
    "start_time": "2025-04-02T07:44:48.571Z"
   },
   {
    "duration": 8,
    "start_time": "2025-04-02T07:45:17.103Z"
   },
   {
    "duration": 7,
    "start_time": "2025-04-02T07:45:25.397Z"
   },
   {
    "duration": 7,
    "start_time": "2025-04-02T07:45:34.952Z"
   },
   {
    "duration": 3,
    "start_time": "2025-04-02T07:57:04.257Z"
   },
   {
    "duration": 4,
    "start_time": "2025-04-02T07:57:05.593Z"
   },
   {
    "duration": 4,
    "start_time": "2025-04-02T07:57:06.944Z"
   },
   {
    "duration": 4,
    "start_time": "2025-04-02T07:57:08.218Z"
   },
   {
    "duration": 1026,
    "start_time": "2025-04-02T07:57:09.545Z"
   },
   {
    "duration": 7,
    "start_time": "2025-04-02T07:57:57.167Z"
   },
   {
    "duration": 6,
    "start_time": "2025-04-02T07:58:17.509Z"
   },
   {
    "duration": 20,
    "start_time": "2025-04-02T07:58:49.901Z"
   },
   {
    "duration": 18,
    "start_time": "2025-04-02T07:59:02.916Z"
   },
   {
    "duration": 19,
    "start_time": "2025-04-02T07:59:27.694Z"
   },
   {
    "duration": 43,
    "start_time": "2025-04-02T07:59:33.900Z"
   },
   {
    "duration": 19,
    "start_time": "2025-04-02T07:59:41.512Z"
   },
   {
    "duration": 20,
    "start_time": "2025-04-02T08:00:18.673Z"
   },
   {
    "duration": 20,
    "start_time": "2025-04-02T08:00:24.743Z"
   },
   {
    "duration": 5,
    "start_time": "2025-04-02T08:00:45.734Z"
   },
   {
    "duration": 5,
    "start_time": "2025-04-02T08:01:05.295Z"
   },
   {
    "duration": 4,
    "start_time": "2025-04-02T08:01:13.577Z"
   },
   {
    "duration": 4,
    "start_time": "2025-04-02T08:01:23.487Z"
   },
   {
    "duration": 5,
    "start_time": "2025-04-02T08:01:29.814Z"
   },
   {
    "duration": 3,
    "start_time": "2025-04-02T08:12:26.952Z"
   },
   {
    "duration": 3,
    "start_time": "2025-04-02T08:12:29.541Z"
   },
   {
    "duration": 3,
    "start_time": "2025-04-02T08:12:31.841Z"
   },
   {
    "duration": 5,
    "start_time": "2025-04-02T08:12:33.549Z"
   },
   {
    "duration": 1012,
    "start_time": "2025-04-02T08:12:34.681Z"
   },
   {
    "duration": 2,
    "start_time": "2025-04-02T08:13:23.148Z"
   },
   {
    "duration": 2,
    "start_time": "2025-04-02T08:13:23.866Z"
   },
   {
    "duration": 3,
    "start_time": "2025-04-02T08:13:24.647Z"
   },
   {
    "duration": 4,
    "start_time": "2025-04-02T08:13:26.574Z"
   },
   {
    "duration": 1021,
    "start_time": "2025-04-02T08:13:27.627Z"
   },
   {
    "duration": 5,
    "start_time": "2025-04-02T08:37:22.047Z"
   },
   {
    "duration": 5,
    "start_time": "2025-04-02T08:37:35.568Z"
   },
   {
    "duration": 7,
    "start_time": "2025-04-02T08:39:33.982Z"
   },
   {
    "duration": 14,
    "start_time": "2025-04-02T08:39:34.931Z"
   },
   {
    "duration": 85,
    "start_time": "2025-04-02T08:39:35.855Z"
   },
   {
    "duration": 4,
    "start_time": "2025-04-02T08:39:37.019Z"
   },
   {
    "duration": 3,
    "start_time": "2025-04-02T08:39:38.630Z"
   },
   {
    "duration": 3,
    "start_time": "2025-04-02T08:39:40.546Z"
   },
   {
    "duration": 3,
    "start_time": "2025-04-02T08:39:42.980Z"
   },
   {
    "duration": 5,
    "start_time": "2025-04-02T08:39:44.186Z"
   },
   {
    "duration": 6398,
    "start_time": "2025-04-02T08:39:45.354Z"
   },
   {
    "duration": 3,
    "start_time": "2025-04-02T08:40:29.859Z"
   },
   {
    "duration": 3,
    "start_time": "2025-04-02T08:40:33.402Z"
   },
   {
    "duration": 4,
    "start_time": "2025-04-02T08:40:34.560Z"
   },
   {
    "duration": 636,
    "start_time": "2025-04-02T08:40:35.579Z"
   },
   {
    "duration": 2,
    "start_time": "2025-04-02T08:42:30.036Z"
   },
   {
    "duration": 2,
    "start_time": "2025-04-02T08:42:31.423Z"
   },
   {
    "duration": 3,
    "start_time": "2025-04-02T08:42:32.647Z"
   },
   {
    "duration": 4,
    "start_time": "2025-04-02T08:42:33.733Z"
   },
   {
    "duration": 973,
    "start_time": "2025-04-02T08:42:34.744Z"
   },
   {
    "duration": 32,
    "start_time": "2025-04-02T08:44:33.395Z"
   },
   {
    "duration": 16,
    "start_time": "2025-04-02T08:45:08.995Z"
   },
   {
    "duration": 75,
    "start_time": "2025-04-02T08:45:23.250Z"
   },
   {
    "duration": 23,
    "start_time": "2025-04-02T08:47:52.250Z"
   },
   {
    "duration": 9,
    "start_time": "2025-04-02T08:48:55.112Z"
   },
   {
    "duration": 4,
    "start_time": "2025-04-02T08:49:48.575Z"
   },
   {
    "duration": 23,
    "start_time": "2025-04-02T08:51:46.242Z"
   },
   {
    "duration": 8,
    "start_time": "2025-04-02T08:52:32.998Z"
   },
   {
    "duration": 26,
    "start_time": "2025-04-02T08:52:53.101Z"
   },
   {
    "duration": 10,
    "start_time": "2025-04-02T08:53:01.162Z"
   },
   {
    "duration": 9,
    "start_time": "2025-04-02T08:53:28.386Z"
   },
   {
    "duration": 10,
    "start_time": "2025-04-02T08:55:25.012Z"
   },
   {
    "duration": 15,
    "start_time": "2025-04-02T08:55:27.639Z"
   },
   {
    "duration": 77,
    "start_time": "2025-04-02T08:55:51.688Z"
   },
   {
    "duration": 9,
    "start_time": "2025-04-02T08:56:00.600Z"
   },
   {
    "duration": 4,
    "start_time": "2025-04-02T08:56:02.045Z"
   },
   {
    "duration": 3,
    "start_time": "2025-04-02T08:56:03.923Z"
   },
   {
    "duration": 37,
    "start_time": "2025-04-02T09:01:28.209Z"
   },
   {
    "duration": 4,
    "start_time": "2025-04-02T09:01:56.980Z"
   },
   {
    "duration": 27,
    "start_time": "2025-04-02T09:02:00.478Z"
   },
   {
    "duration": 3,
    "start_time": "2025-04-02T09:02:59.441Z"
   },
   {
    "duration": 3,
    "start_time": "2025-04-02T09:03:06.431Z"
   },
   {
    "duration": 42,
    "start_time": "2025-04-02T09:03:10.746Z"
   },
   {
    "duration": 3,
    "start_time": "2025-04-02T09:03:42.230Z"
   },
   {
    "duration": 34,
    "start_time": "2025-04-02T09:03:43.412Z"
   },
   {
    "duration": 3,
    "start_time": "2025-04-02T09:05:03.551Z"
   },
   {
    "duration": 3,
    "start_time": "2025-04-02T09:05:56.994Z"
   },
   {
    "duration": 5,
    "start_time": "2025-04-02T09:05:58.903Z"
   },
   {
    "duration": 48,
    "start_time": "2025-04-02T09:06:04.189Z"
   },
   {
    "duration": 3,
    "start_time": "2025-04-02T09:06:45.862Z"
   },
   {
    "duration": 3,
    "start_time": "2025-04-02T09:06:46.974Z"
   },
   {
    "duration": 41,
    "start_time": "2025-04-02T09:06:49.059Z"
   },
   {
    "duration": 2,
    "start_time": "2025-04-02T09:13:32.127Z"
   },
   {
    "duration": 4,
    "start_time": "2025-04-02T09:13:32.895Z"
   },
   {
    "duration": 37,
    "start_time": "2025-04-02T09:13:34.134Z"
   },
   {
    "duration": 3,
    "start_time": "2025-04-02T09:14:13.216Z"
   },
   {
    "duration": 2,
    "start_time": "2025-04-02T09:14:14.379Z"
   },
   {
    "duration": 36,
    "start_time": "2025-04-02T09:14:18.452Z"
   },
   {
    "duration": 27,
    "start_time": "2025-04-02T09:15:31.303Z"
   },
   {
    "duration": 5103,
    "start_time": "2025-04-02T09:15:53.226Z"
   },
   {
    "duration": 3,
    "start_time": "2025-04-02T09:16:14.268Z"
   },
   {
    "duration": 5086,
    "start_time": "2025-04-02T09:16:17.875Z"
   },
   {
    "duration": 3,
    "start_time": "2025-04-02T09:17:13.233Z"
   },
   {
    "duration": 32,
    "start_time": "2025-04-02T09:17:27.617Z"
   },
   {
    "duration": 3,
    "start_time": "2025-04-02T09:17:51.639Z"
   },
   {
    "duration": 16,
    "start_time": "2025-04-02T09:17:53.276Z"
   },
   {
    "duration": 14,
    "start_time": "2025-04-02T09:18:17.020Z"
   },
   {
    "duration": 3,
    "start_time": "2025-04-02T09:18:21.378Z"
   },
   {
    "duration": 4,
    "start_time": "2025-04-02T09:18:22.333Z"
   },
   {
    "duration": 5,
    "start_time": "2025-04-02T09:18:38.099Z"
   },
   {
    "duration": 622575,
    "start_time": "2025-04-02T09:18:39.462Z"
   },
   {
    "duration": 0,
    "start_time": "2025-04-02T09:29:02.040Z"
   },
   {
    "duration": 4,
    "start_time": "2025-04-02T09:31:02.290Z"
   },
   {
    "duration": 20,
    "start_time": "2025-04-02T09:31:08.820Z"
   },
   {
    "duration": 5,
    "start_time": "2025-04-02T09:42:52.216Z"
   },
   {
    "duration": 16812,
    "start_time": "2025-04-02T09:42:56.467Z"
   },
   {
    "duration": 4,
    "start_time": "2025-04-02T09:43:37.946Z"
   },
   {
    "duration": 621034,
    "start_time": "2025-04-02T09:43:39.788Z"
   },
   {
    "duration": 28,
    "start_time": "2025-04-02T09:54:12.141Z"
   },
   {
    "duration": 19,
    "start_time": "2025-04-02T09:54:27.761Z"
   },
   {
    "duration": 17,
    "start_time": "2025-04-02T09:54:38.514Z"
   },
   {
    "duration": 28,
    "start_time": "2025-04-02T09:55:10.208Z"
   },
   {
    "duration": 3,
    "start_time": "2025-04-02T09:55:58.661Z"
   },
   {
    "duration": 28,
    "start_time": "2025-04-02T09:56:03.374Z"
   },
   {
    "duration": 3219,
    "start_time": "2025-04-02T10:07:10.492Z"
   },
   {
    "duration": 26340,
    "start_time": "2025-04-02T10:17:17.908Z"
   },
   {
    "duration": 6,
    "start_time": "2025-04-02T10:17:44.251Z"
   },
   {
    "duration": 6,
    "start_time": "2025-04-02T10:17:44.258Z"
   },
   {
    "duration": 196,
    "start_time": "2025-04-02T10:17:44.266Z"
   },
   {
    "duration": 460,
    "start_time": "2025-04-02T10:17:44.464Z"
   },
   {
    "duration": 3,
    "start_time": "2025-04-02T10:17:44.926Z"
   },
   {
    "duration": 917,
    "start_time": "2025-04-02T10:17:44.930Z"
   },
   {
    "duration": 9,
    "start_time": "2025-04-02T10:17:45.850Z"
   },
   {
    "duration": 47,
    "start_time": "2025-04-02T10:17:45.861Z"
   },
   {
    "duration": 6,
    "start_time": "2025-04-02T10:17:45.911Z"
   },
   {
    "duration": 609,
    "start_time": "2025-04-02T10:17:45.918Z"
   },
   {
    "duration": 4007,
    "start_time": "2025-04-02T10:17:46.529Z"
   },
   {
    "duration": 3,
    "start_time": "2025-04-02T10:17:50.537Z"
   },
   {
    "duration": 43212,
    "start_time": "2025-04-02T10:17:50.542Z"
   },
   {
    "duration": 34,
    "start_time": "2025-04-02T10:18:33.756Z"
   },
   {
    "duration": 12,
    "start_time": "2025-04-02T10:18:33.791Z"
   },
   {
    "duration": 438,
    "start_time": "2025-04-02T10:18:33.804Z"
   },
   {
    "duration": 434,
    "start_time": "2025-04-02T10:18:34.244Z"
   },
   {
    "duration": 15,
    "start_time": "2025-04-02T10:18:34.680Z"
   },
   {
    "duration": 44,
    "start_time": "2025-04-02T10:18:55.385Z"
   },
   {
    "duration": 28,
    "start_time": "2025-04-02T10:19:17.416Z"
   },
   {
    "duration": 25,
    "start_time": "2025-04-02T10:20:02.037Z"
   },
   {
    "duration": 17,
    "start_time": "2025-04-02T10:20:11.356Z"
   },
   {
    "duration": 4,
    "start_time": "2025-04-02T10:20:38.403Z"
   },
   {
    "duration": 475710,
    "start_time": "2025-04-02T10:20:46.187Z"
   },
   {
    "duration": 4,
    "start_time": "2025-04-02T10:29:25.173Z"
   },
   {
    "duration": 12838,
    "start_time": "2025-04-02T10:29:29.002Z"
   },
   {
    "duration": 50212,
    "start_time": "2025-04-02T10:29:46.321Z"
   },
   {
    "duration": 4,
    "start_time": "2025-04-02T10:31:01.358Z"
   },
   {
    "duration": 346,
    "start_time": "2025-04-02T10:31:05.860Z"
   },
   {
    "duration": 3,
    "start_time": "2025-04-02T10:31:21.884Z"
   },
   {
    "duration": 327,
    "start_time": "2025-04-02T10:31:26.651Z"
   },
   {
    "duration": 4,
    "start_time": "2025-04-02T10:32:44.042Z"
   },
   {
    "duration": 178841,
    "start_time": "2025-04-02T10:32:45.294Z"
   },
   {
    "duration": 20,
    "start_time": "2025-04-02T10:38:10.137Z"
   },
   {
    "duration": 530554,
    "start_time": "2025-04-02T10:39:19.501Z"
   },
   {
    "duration": 14888,
    "start_time": "2025-04-02T10:49:58.803Z"
   },
   {
    "duration": 5,
    "start_time": "2025-04-02T10:51:37.316Z"
   },
   {
    "duration": 14856,
    "start_time": "2025-04-02T10:52:02.742Z"
   },
   {
    "duration": 6,
    "start_time": "2025-04-02T10:52:17.600Z"
   },
   {
    "duration": 3,
    "start_time": "2025-04-02T10:53:10.508Z"
   },
   {
    "duration": 5,
    "start_time": "2025-04-02T10:53:16.386Z"
   },
   {
    "duration": 5,
    "start_time": "2025-04-02T10:53:22.376Z"
   },
   {
    "duration": 3,
    "start_time": "2025-04-02T10:53:47.926Z"
   },
   {
    "duration": 15220,
    "start_time": "2025-04-02T10:53:58.817Z"
   },
   {
    "duration": 5,
    "start_time": "2025-04-02T10:54:14.039Z"
   },
   {
    "duration": 3,
    "start_time": "2025-04-02T10:55:19.272Z"
   },
   {
    "duration": 15100,
    "start_time": "2025-04-02T10:55:24.332Z"
   },
   {
    "duration": 6,
    "start_time": "2025-04-02T10:55:39.434Z"
   },
   {
    "duration": 2,
    "start_time": "2025-04-02T10:56:17.960Z"
   },
   {
    "duration": 15410,
    "start_time": "2025-04-02T10:56:23.958Z"
   },
   {
    "duration": 28,
    "start_time": "2025-04-02T10:56:39.370Z"
   },
   {
    "duration": 3,
    "start_time": "2025-04-02T10:57:19.468Z"
   },
   {
    "duration": 15570,
    "start_time": "2025-04-02T10:57:24.024Z"
   },
   {
    "duration": 22,
    "start_time": "2025-04-02T10:57:39.596Z"
   },
   {
    "duration": 3,
    "start_time": "2025-04-02T10:58:21.391Z"
   },
   {
    "duration": 68827,
    "start_time": "2025-04-02T10:58:25.976Z"
   },
   {
    "duration": 0,
    "start_time": "2025-04-02T10:59:34.805Z"
   },
   {
    "duration": 0,
    "start_time": "2025-04-02T10:59:34.807Z"
   },
   {
    "duration": 4,
    "start_time": "2025-04-02T10:59:38.720Z"
   },
   {
    "duration": 15338,
    "start_time": "2025-04-02T10:59:42.477Z"
   },
   {
    "duration": 20,
    "start_time": "2025-04-02T10:59:57.817Z"
   },
   {
    "duration": 3,
    "start_time": "2025-04-02T11:00:53.767Z"
   },
   {
    "duration": 15083,
    "start_time": "2025-04-02T11:00:58.119Z"
   },
   {
    "duration": 5,
    "start_time": "2025-04-02T11:01:13.203Z"
   },
   {
    "duration": 8,
    "start_time": "2025-04-02T11:01:24.175Z"
   },
   {
    "duration": 3,
    "start_time": "2025-04-02T11:01:59.264Z"
   },
   {
    "duration": 15539,
    "start_time": "2025-04-02T11:02:03.054Z"
   },
   {
    "duration": 4,
    "start_time": "2025-04-02T11:02:18.595Z"
   },
   {
    "duration": 4,
    "start_time": "2025-04-02T11:04:09.311Z"
   },
   {
    "duration": 304,
    "start_time": "2025-04-02T11:04:13.595Z"
   },
   {
    "duration": 20,
    "start_time": "2025-04-02T11:04:14.908Z"
   },
   {
    "duration": 7,
    "start_time": "2025-04-02T11:04:28.035Z"
   },
   {
    "duration": 3,
    "start_time": "2025-04-02T11:05:47.123Z"
   },
   {
    "duration": 332,
    "start_time": "2025-04-02T11:05:51.528Z"
   },
   {
    "duration": 22,
    "start_time": "2025-04-02T11:05:54.317Z"
   },
   {
    "duration": 7,
    "start_time": "2025-04-02T11:06:08.847Z"
   },
   {
    "duration": 4,
    "start_time": "2025-04-02T11:06:42.783Z"
   },
   {
    "duration": 365,
    "start_time": "2025-04-02T11:06:46.911Z"
   },
   {
    "duration": 27,
    "start_time": "2025-04-02T11:06:49.607Z"
   },
   {
    "duration": 6,
    "start_time": "2025-04-02T11:07:01.590Z"
   },
   {
    "duration": 3,
    "start_time": "2025-04-02T11:07:23.920Z"
   },
   {
    "duration": 297,
    "start_time": "2025-04-02T11:07:27.997Z"
   },
   {
    "duration": 24,
    "start_time": "2025-04-02T11:07:28.943Z"
   },
   {
    "duration": 8,
    "start_time": "2025-04-02T11:07:33.910Z"
   },
   {
    "duration": 3,
    "start_time": "2025-04-02T11:08:46.308Z"
   },
   {
    "duration": 456,
    "start_time": "2025-04-02T11:08:50.230Z"
   },
   {
    "duration": 23,
    "start_time": "2025-04-02T11:08:51.433Z"
   },
   {
    "duration": 3,
    "start_time": "2025-04-02T11:09:06.981Z"
   },
   {
    "duration": 299,
    "start_time": "2025-04-02T11:09:12.865Z"
   },
   {
    "duration": 5,
    "start_time": "2025-04-02T11:09:16.738Z"
   },
   {
    "duration": 3,
    "start_time": "2025-04-02T11:10:14.302Z"
   },
   {
    "duration": 391,
    "start_time": "2025-04-02T11:10:17.577Z"
   },
   {
    "duration": 5,
    "start_time": "2025-04-02T11:10:18.734Z"
   },
   {
    "duration": 4,
    "start_time": "2025-04-02T11:10:59.931Z"
   },
   {
    "duration": 588,
    "start_time": "2025-04-02T11:11:03.924Z"
   },
   {
    "duration": 38,
    "start_time": "2025-04-02T11:14:59.459Z"
   },
   {
    "duration": 3,
    "start_time": "2025-04-02T11:17:50.929Z"
   },
   {
    "duration": 303,
    "start_time": "2025-04-02T11:17:55.891Z"
   },
   {
    "duration": 7,
    "start_time": "2025-04-02T11:18:01.885Z"
   },
   {
    "duration": 14,
    "start_time": "2025-04-02T11:18:23.835Z"
   },
   {
    "duration": 21,
    "start_time": "2025-04-02T11:19:00.855Z"
   },
   {
    "duration": 23,
    "start_time": "2025-04-02T11:19:11.572Z"
   },
   {
    "duration": 19,
    "start_time": "2025-04-02T11:19:19.392Z"
   },
   {
    "duration": 75,
    "start_time": "2025-04-02T11:23:58.669Z"
   },
   {
    "duration": 63,
    "start_time": "2025-04-02T11:24:43.761Z"
   },
   {
    "duration": 88,
    "start_time": "2025-04-02T11:26:41.745Z"
   },
   {
    "duration": 4,
    "start_time": "2025-04-02T11:27:44.010Z"
   },
   {
    "duration": 336,
    "start_time": "2025-04-02T11:29:08.017Z"
   },
   {
    "duration": 310,
    "start_time": "2025-04-02T11:33:19.797Z"
   },
   {
    "duration": 7,
    "start_time": "2025-04-02T11:33:37.788Z"
   },
   {
    "duration": 3,
    "start_time": "2025-04-02T11:35:46.236Z"
   },
   {
    "duration": 319,
    "start_time": "2025-04-02T11:35:50.843Z"
   },
   {
    "duration": 8,
    "start_time": "2025-04-02T11:35:56.720Z"
   },
   {
    "duration": 3,
    "start_time": "2025-04-02T11:36:23.583Z"
   },
   {
    "duration": 308,
    "start_time": "2025-04-02T11:36:27.226Z"
   },
   {
    "duration": 7,
    "start_time": "2025-04-02T11:36:34.631Z"
   },
   {
    "duration": 14,
    "start_time": "2025-04-02T11:37:02.460Z"
   },
   {
    "duration": 43,
    "start_time": "2025-04-02T11:37:36.322Z"
   },
   {
    "duration": 168,
    "start_time": "2025-04-02T11:38:01.279Z"
   },
   {
    "duration": 169,
    "start_time": "2025-04-02T11:38:32.047Z"
   },
   {
    "duration": 3,
    "start_time": "2025-04-02T11:38:45.323Z"
   },
   {
    "duration": 304,
    "start_time": "2025-04-02T11:38:49.520Z"
   },
   {
    "duration": 175,
    "start_time": "2025-04-02T11:38:51.472Z"
   },
   {
    "duration": 17,
    "start_time": "2025-04-02T11:39:01.922Z"
   },
   {
    "duration": 3,
    "start_time": "2025-04-02T11:40:24.164Z"
   },
   {
    "duration": 329,
    "start_time": "2025-04-02T11:40:30.498Z"
   },
   {
    "duration": 10,
    "start_time": "2025-04-02T11:40:42.050Z"
   },
   {
    "duration": 3,
    "start_time": "2025-04-02T11:41:48.042Z"
   },
   {
    "duration": 309,
    "start_time": "2025-04-02T11:41:52.454Z"
   },
   {
    "duration": 8,
    "start_time": "2025-04-02T11:41:56.552Z"
   },
   {
    "duration": 3,
    "start_time": "2025-04-02T11:42:26.316Z"
   },
   {
    "duration": 7,
    "start_time": "2025-04-02T11:42:32.861Z"
   },
   {
    "duration": 3,
    "start_time": "2025-04-02T11:42:58.246Z"
   },
   {
    "duration": 358,
    "start_time": "2025-04-02T11:43:02.864Z"
   },
   {
    "duration": 47229,
    "start_time": "2025-04-02T11:44:44.307Z"
   },
   {
    "duration": 1108,
    "start_time": "2025-04-02T11:45:31.538Z"
   },
   {
    "duration": 3947,
    "start_time": "2025-04-02T11:45:32.648Z"
   },
   {
    "duration": 40,
    "start_time": "2025-04-02T11:45:36.597Z"
   },
   {
    "duration": 20,
    "start_time": "2025-04-02T11:45:36.640Z"
   },
   {
    "duration": 6,
    "start_time": "2025-04-02T11:46:55.513Z"
   },
   {
    "duration": 167,
    "start_time": "2025-04-02T11:49:00.434Z"
   },
   {
    "duration": 395,
    "start_time": "2025-04-02T11:49:05.501Z"
   },
   {
    "duration": 3,
    "start_time": "2025-04-02T11:49:56.402Z"
   },
   {
    "duration": 363,
    "start_time": "2025-04-02T11:50:00.444Z"
   },
   {
    "duration": 132,
    "start_time": "2025-04-02T11:50:47.317Z"
   },
   {
    "duration": 3,
    "start_time": "2025-04-02T11:51:33.805Z"
   },
   {
    "duration": 411,
    "start_time": "2025-04-02T11:51:39.641Z"
   },
   {
    "duration": 4,
    "start_time": "2025-04-02T11:53:20.322Z"
   },
   {
    "duration": 3,
    "start_time": "2025-04-02T11:53:37.646Z"
   },
   {
    "duration": 388,
    "start_time": "2025-04-02T11:53:41.300Z"
   },
   {
    "duration": 5,
    "start_time": "2025-04-02T11:54:44.292Z"
   },
   {
    "duration": 4,
    "start_time": "2025-04-02T11:54:56.585Z"
   },
   {
    "duration": 356,
    "start_time": "2025-04-02T11:55:11.507Z"
   },
   {
    "duration": 3,
    "start_time": "2025-04-02T11:55:51.389Z"
   },
   {
    "duration": 357,
    "start_time": "2025-04-02T11:55:51.421Z"
   },
   {
    "duration": 7,
    "start_time": "2025-04-02T11:55:59.068Z"
   },
   {
    "duration": 351,
    "start_time": "2025-04-02T11:56:47.313Z"
   },
   {
    "duration": 3,
    "start_time": "2025-04-02T11:57:12.173Z"
   },
   {
    "duration": 370,
    "start_time": "2025-04-02T11:57:12.944Z"
   },
   {
    "duration": 434,
    "start_time": "2025-04-02T11:57:13.842Z"
   },
   {
    "duration": 3,
    "start_time": "2025-04-02T11:57:15.148Z"
   },
   {
    "duration": 3,
    "start_time": "2025-04-02T11:57:43.528Z"
   },
   {
    "duration": 304,
    "start_time": "2025-04-02T11:57:46.841Z"
   },
   {
    "duration": 7,
    "start_time": "2025-04-02T11:57:51.939Z"
   },
   {
    "duration": 3,
    "start_time": "2025-04-02T11:58:27.977Z"
   },
   {
    "duration": 379,
    "start_time": "2025-04-02T11:58:31.692Z"
   },
   {
    "duration": 3,
    "start_time": "2025-04-02T11:58:54.837Z"
   },
   {
    "duration": 303,
    "start_time": "2025-04-02T11:58:59.501Z"
   },
   {
    "duration": 8,
    "start_time": "2025-04-02T11:59:02.618Z"
   },
   {
    "duration": 3,
    "start_time": "2025-04-02T11:59:38.436Z"
   },
   {
    "duration": 291,
    "start_time": "2025-04-02T11:59:43.907Z"
   },
   {
    "duration": 8,
    "start_time": "2025-04-02T11:59:48.021Z"
   },
   {
    "duration": 3,
    "start_time": "2025-04-02T12:00:15.958Z"
   },
   {
    "duration": 375,
    "start_time": "2025-04-02T12:00:21.636Z"
   },
   {
    "duration": 5,
    "start_time": "2025-04-02T12:01:02.441Z"
   },
   {
    "duration": 572,
    "start_time": "2025-04-02T12:01:06.967Z"
   },
   {
    "duration": 4,
    "start_time": "2025-04-02T12:01:50.696Z"
   },
   {
    "duration": 301,
    "start_time": "2025-04-02T12:01:54.583Z"
   },
   {
    "duration": 117,
    "start_time": "2025-04-02T12:01:59.197Z"
   },
   {
    "duration": 115,
    "start_time": "2025-04-02T12:02:07.343Z"
   },
   {
    "duration": 32,
    "start_time": "2025-04-02T12:02:31.942Z"
   },
   {
    "duration": 67,
    "start_time": "2025-04-02T12:03:13.305Z"
   },
   {
    "duration": 18,
    "start_time": "2025-04-02T12:03:26.324Z"
   },
   {
    "duration": 27,
    "start_time": "2025-04-02T12:04:26.534Z"
   },
   {
    "duration": 30,
    "start_time": "2025-04-02T12:05:08.660Z"
   },
   {
    "duration": 3,
    "start_time": "2025-04-02T12:06:38.885Z"
   },
   {
    "duration": 4773,
    "start_time": "2025-04-02T12:06:41.003Z"
   },
   {
    "duration": 352,
    "start_time": "2025-04-02T12:06:45.778Z"
   },
   {
    "duration": 42911,
    "start_time": "2025-04-02T12:06:46.132Z"
   },
   {
    "duration": 3690,
    "start_time": "2025-04-02T12:07:29.045Z"
   },
   {
    "duration": 34,
    "start_time": "2025-04-02T12:09:12.513Z"
   },
   {
    "duration": 43579,
    "start_time": "2025-04-02T12:12:13.599Z"
   },
   {
    "duration": 3363,
    "start_time": "2025-04-02T12:12:57.181Z"
   },
   {
    "duration": 5082,
    "start_time": "2025-04-02T12:13:00.546Z"
   },
   {
    "duration": 411,
    "start_time": "2025-04-02T12:13:05.630Z"
   },
   {
    "duration": 26318,
    "start_time": "2025-04-02T12:15:02.593Z"
   },
   {
    "duration": 10877,
    "start_time": "2025-04-02T12:15:28.913Z"
   },
   {
    "duration": 7,
    "start_time": "2025-04-02T12:15:39.792Z"
   },
   {
    "duration": 180,
    "start_time": "2025-04-02T12:15:39.801Z"
   },
   {
    "duration": 516,
    "start_time": "2025-04-02T12:15:39.983Z"
   },
   {
    "duration": 2,
    "start_time": "2025-04-02T12:15:40.501Z"
   },
   {
    "duration": 996,
    "start_time": "2025-04-02T12:15:40.505Z"
   },
   {
    "duration": 13,
    "start_time": "2025-04-02T12:15:41.503Z"
   },
   {
    "duration": 53,
    "start_time": "2025-04-02T12:15:41.517Z"
   },
   {
    "duration": 6,
    "start_time": "2025-04-02T12:15:41.573Z"
   },
   {
    "duration": 606,
    "start_time": "2025-04-02T12:15:41.581Z"
   },
   {
    "duration": 4072,
    "start_time": "2025-04-02T12:15:42.189Z"
   },
   {
    "duration": 3,
    "start_time": "2025-04-02T12:15:46.263Z"
   },
   {
    "duration": 43815,
    "start_time": "2025-04-02T12:15:46.276Z"
   },
   {
    "duration": 42,
    "start_time": "2025-04-02T12:16:30.093Z"
   },
   {
    "duration": 60,
    "start_time": "2025-04-02T12:16:30.137Z"
   },
   {
    "duration": 486,
    "start_time": "2025-04-02T12:16:30.199Z"
   },
   {
    "duration": 654,
    "start_time": "2025-04-02T12:16:30.687Z"
   },
   {
    "duration": 17,
    "start_time": "2025-04-02T12:16:31.343Z"
   },
   {
    "duration": 15,
    "start_time": "2025-04-02T12:16:31.362Z"
   },
   {
    "duration": 42436,
    "start_time": "2025-04-02T12:16:31.379Z"
   },
   {
    "duration": 3450,
    "start_time": "2025-04-02T12:17:13.817Z"
   },
   {
    "duration": 5195,
    "start_time": "2025-04-02T12:17:17.277Z"
   },
   {
    "duration": 388,
    "start_time": "2025-04-02T12:17:22.473Z"
   },
   {
    "duration": 31052,
    "start_time": "2025-04-02T12:17:22.862Z"
   },
   {
    "duration": 0,
    "start_time": "2025-04-02T12:17:53.916Z"
   },
   {
    "duration": 30903,
    "start_time": "2025-04-02T12:18:20.846Z"
   },
   {
    "duration": 3076,
    "start_time": "2025-04-02T12:18:51.751Z"
   },
   {
    "duration": 4,
    "start_time": "2025-04-02T12:22:15.761Z"
   },
   {
    "duration": 33,
    "start_time": "2025-04-02T12:22:17.155Z"
   },
   {
    "duration": 66318,
    "start_time": "2025-04-02T15:16:59.709Z"
   },
   {
    "duration": 6658,
    "start_time": "2025-04-02T15:18:06.030Z"
   },
   {
    "duration": 6,
    "start_time": "2025-04-02T15:18:12.689Z"
   },
   {
    "duration": 353,
    "start_time": "2025-04-02T15:18:12.697Z"
   },
   {
    "duration": 503,
    "start_time": "2025-04-02T15:18:13.051Z"
   },
   {
    "duration": 7,
    "start_time": "2025-04-02T15:18:13.556Z"
   },
   {
    "duration": 2391,
    "start_time": "2025-04-02T15:19:44.521Z"
   },
   {
    "duration": 10,
    "start_time": "2025-04-02T15:19:46.914Z"
   },
   {
    "duration": 6,
    "start_time": "2025-04-02T15:19:53.931Z"
   },
   {
    "duration": 11,
    "start_time": "2025-04-02T15:19:55.660Z"
   },
   {
    "duration": 57,
    "start_time": "2025-04-02T15:19:57.036Z"
   },
   {
    "duration": 2,
    "start_time": "2025-04-02T15:19:58.531Z"
   },
   {
    "duration": 3,
    "start_time": "2025-04-02T15:21:12.093Z"
   },
   {
    "duration": 3,
    "start_time": "2025-04-02T15:21:13.036Z"
   },
   {
    "duration": 4,
    "start_time": "2025-04-02T15:21:14.497Z"
   },
   {
    "duration": 11934,
    "start_time": "2025-04-02T15:21:15.758Z"
   },
   {
    "duration": 32146,
    "start_time": "2025-04-02T15:42:17.916Z"
   },
   {
    "duration": 27647,
    "start_time": "2025-04-02T15:43:14.658Z"
   },
   {
    "duration": 17,
    "start_time": "2025-04-02T15:43:42.308Z"
   },
   {
    "duration": 7,
    "start_time": "2025-04-02T15:43:42.328Z"
   },
   {
    "duration": 7,
    "start_time": "2025-04-02T15:43:42.337Z"
   },
   {
    "duration": 650,
    "start_time": "2025-04-02T15:43:42.345Z"
   },
   {
    "duration": 2,
    "start_time": "2025-04-02T15:43:42.996Z"
   },
   {
    "duration": 33324,
    "start_time": "2025-04-02T15:44:12.117Z"
   },
   {
    "duration": 6,
    "start_time": "2025-04-02T15:44:45.444Z"
   },
   {
    "duration": 11,
    "start_time": "2025-04-02T15:44:45.451Z"
   },
   {
    "duration": 9,
    "start_time": "2025-04-02T15:44:45.464Z"
   },
   {
    "duration": 441,
    "start_time": "2025-04-02T15:44:45.474Z"
   },
   {
    "duration": 3,
    "start_time": "2025-04-02T15:44:45.916Z"
   },
   {
    "duration": 2902,
    "start_time": "2025-04-02T15:56:18.234Z"
   },
   {
    "duration": 7,
    "start_time": "2025-04-02T15:56:21.138Z"
   },
   {
    "duration": 32,
    "start_time": "2025-04-02T15:56:37.932Z"
   },
   {
    "duration": 8,
    "start_time": "2025-04-02T15:57:12.396Z"
   },
   {
    "duration": 58,
    "start_time": "2025-04-02T15:57:21.200Z"
   },
   {
    "duration": 281,
    "start_time": "2025-04-02T15:57:43.918Z"
   },
   {
    "duration": 353,
    "start_time": "2025-04-02T15:57:53.755Z"
   },
   {
    "duration": 2705,
    "start_time": "2025-04-02T15:58:10.118Z"
   },
   {
    "duration": 81885,
    "start_time": "2025-04-02T16:07:35.247Z"
   },
   {
    "duration": 2825,
    "start_time": "2025-04-02T16:09:39.970Z"
   },
   {
    "duration": 56,
    "start_time": "2025-04-02T16:10:21.570Z"
   },
   {
    "duration": 5,
    "start_time": "2025-04-02T16:10:55.304Z"
   },
   {
    "duration": 3870,
    "start_time": "2025-04-02T16:14:03.277Z"
   },
   {
    "duration": 2999,
    "start_time": "2025-04-02T16:16:32.277Z"
   },
   {
    "duration": 2869,
    "start_time": "2025-04-02T16:32:39.532Z"
   },
   {
    "duration": 30144,
    "start_time": "2025-04-02T16:37:01.942Z"
   },
   {
    "duration": 6197,
    "start_time": "2025-04-02T16:37:32.089Z"
   },
   {
    "duration": 0,
    "start_time": "2025-04-02T16:37:38.288Z"
   },
   {
    "duration": 0,
    "start_time": "2025-04-02T16:37:38.290Z"
   },
   {
    "duration": 0,
    "start_time": "2025-04-02T16:37:38.292Z"
   },
   {
    "duration": 0,
    "start_time": "2025-04-02T16:37:38.293Z"
   },
   {
    "duration": 0,
    "start_time": "2025-04-02T16:37:38.295Z"
   },
   {
    "duration": 0,
    "start_time": "2025-04-02T16:37:38.296Z"
   },
   {
    "duration": 0,
    "start_time": "2025-04-02T16:37:38.298Z"
   },
   {
    "duration": 0,
    "start_time": "2025-04-02T16:37:38.299Z"
   },
   {
    "duration": 0,
    "start_time": "2025-04-02T16:37:38.300Z"
   },
   {
    "duration": 0,
    "start_time": "2025-04-02T16:37:38.302Z"
   },
   {
    "duration": 32419,
    "start_time": "2025-04-02T16:39:48.332Z"
   },
   {
    "duration": 6707,
    "start_time": "2025-04-02T16:40:34.013Z"
   },
   {
    "duration": 8,
    "start_time": "2025-04-02T16:40:40.723Z"
   },
   {
    "duration": 214,
    "start_time": "2025-04-02T16:40:40.733Z"
   },
   {
    "duration": 776,
    "start_time": "2025-04-02T16:40:40.950Z"
   },
   {
    "duration": 3,
    "start_time": "2025-04-02T16:40:41.728Z"
   },
   {
    "duration": 1116,
    "start_time": "2025-04-02T16:40:41.733Z"
   },
   {
    "duration": 10,
    "start_time": "2025-04-02T16:40:42.854Z"
   },
   {
    "duration": 32,
    "start_time": "2025-04-02T16:40:42.866Z"
   },
   {
    "duration": 13,
    "start_time": "2025-04-02T16:40:42.900Z"
   },
   {
    "duration": 586,
    "start_time": "2025-04-02T16:40:42.915Z"
   },
   {
    "duration": 4554,
    "start_time": "2025-04-02T16:40:43.503Z"
   },
   {
    "duration": 24,
    "start_time": "2025-04-02T16:40:55.977Z"
   },
   {
    "duration": 3,
    "start_time": "2025-04-02T16:41:11.092Z"
   },
   {
    "duration": 1358,
    "start_time": "2025-04-02T16:41:27.973Z"
   },
   {
    "duration": 28455,
    "start_time": "2025-04-02T16:46:38.855Z"
   },
   {
    "duration": 5,
    "start_time": "2025-04-02T16:47:07.313Z"
   },
   {
    "duration": 31,
    "start_time": "2025-04-02T16:47:07.319Z"
   },
   {
    "duration": 7,
    "start_time": "2025-04-02T16:47:07.351Z"
   },
   {
    "duration": 672,
    "start_time": "2025-04-02T16:47:07.359Z"
   },
   {
    "duration": 2,
    "start_time": "2025-04-02T16:47:08.033Z"
   },
   {
    "duration": 979,
    "start_time": "2025-04-02T16:47:08.037Z"
   },
   {
    "duration": 7,
    "start_time": "2025-04-02T16:47:09.018Z"
   },
   {
    "duration": 52,
    "start_time": "2025-04-02T16:47:09.026Z"
   },
   {
    "duration": 63,
    "start_time": "2025-04-02T16:47:09.080Z"
   },
   {
    "duration": 525,
    "start_time": "2025-04-02T16:47:09.145Z"
   },
   {
    "duration": 3796,
    "start_time": "2025-04-02T16:47:09.672Z"
   },
   {
    "duration": 3,
    "start_time": "2025-04-02T16:47:13.470Z"
   },
   {
    "duration": 42534,
    "start_time": "2025-04-02T16:47:13.474Z"
   },
   {
    "duration": 22,
    "start_time": "2025-04-02T16:47:56.009Z"
   },
   {
    "duration": 9,
    "start_time": "2025-04-02T16:47:56.033Z"
   },
   {
    "duration": 449,
    "start_time": "2025-04-02T16:47:56.044Z"
   },
   {
    "duration": 396,
    "start_time": "2025-04-02T16:47:56.495Z"
   },
   {
    "duration": 14,
    "start_time": "2025-04-02T16:47:56.893Z"
   },
   {
    "duration": 3,
    "start_time": "2025-04-02T16:47:56.909Z"
   },
   {
    "duration": 40850,
    "start_time": "2025-04-02T16:47:56.913Z"
   },
   {
    "duration": 3268,
    "start_time": "2025-04-02T16:48:37.764Z"
   },
   {
    "duration": 4811,
    "start_time": "2025-04-02T16:48:41.033Z"
   },
   {
    "duration": 355,
    "start_time": "2025-04-02T16:48:45.846Z"
   },
   {
    "duration": 31362,
    "start_time": "2025-04-02T16:48:46.202Z"
   },
   {
    "duration": 2860,
    "start_time": "2025-04-02T16:49:17.565Z"
   },
   {
    "duration": 4,
    "start_time": "2025-04-02T16:49:20.462Z"
   },
   {
    "duration": 126249,
    "start_time": "2025-04-02T16:49:20.470Z"
   },
   {
    "duration": 0,
    "start_time": "2025-04-02T16:51:26.721Z"
   },
   {
    "duration": 0,
    "start_time": "2025-04-02T16:51:26.723Z"
   },
   {
    "duration": 0,
    "start_time": "2025-04-02T16:51:26.724Z"
   },
   {
    "duration": 0,
    "start_time": "2025-04-02T16:51:26.725Z"
   },
   {
    "duration": 0,
    "start_time": "2025-04-02T16:51:26.726Z"
   },
   {
    "duration": 0,
    "start_time": "2025-04-02T16:51:26.727Z"
   },
   {
    "duration": 0,
    "start_time": "2025-04-02T16:51:26.728Z"
   },
   {
    "duration": 0,
    "start_time": "2025-04-02T16:51:26.729Z"
   },
   {
    "duration": 0,
    "start_time": "2025-04-02T16:51:26.730Z"
   },
   {
    "duration": 0,
    "start_time": "2025-04-02T16:51:26.731Z"
   },
   {
    "duration": 0,
    "start_time": "2025-04-02T16:51:26.732Z"
   },
   {
    "duration": 0,
    "start_time": "2025-04-02T16:51:26.733Z"
   },
   {
    "duration": 0,
    "start_time": "2025-04-02T16:51:26.733Z"
   },
   {
    "duration": 0,
    "start_time": "2025-04-02T16:51:26.734Z"
   },
   {
    "duration": 0,
    "start_time": "2025-04-02T16:51:26.735Z"
   },
   {
    "duration": 0,
    "start_time": "2025-04-02T16:51:26.736Z"
   },
   {
    "duration": 0,
    "start_time": "2025-04-02T16:51:26.737Z"
   },
   {
    "duration": 0,
    "start_time": "2025-04-02T16:51:26.738Z"
   },
   {
    "duration": 25,
    "start_time": "2025-04-02T16:51:38.973Z"
   },
   {
    "duration": 9,
    "start_time": "2025-04-02T16:53:59.696Z"
   },
   {
    "duration": 14,
    "start_time": "2025-04-02T16:55:07.509Z"
   },
   {
    "duration": 448,
    "start_time": "2025-04-02T16:55:13.384Z"
   },
   {
    "duration": 389,
    "start_time": "2025-04-02T16:55:16.616Z"
   },
   {
    "duration": 15,
    "start_time": "2025-04-02T16:55:22.176Z"
   },
   {
    "duration": 3,
    "start_time": "2025-04-02T16:55:24.510Z"
   },
   {
    "duration": 43034,
    "start_time": "2025-04-02T16:55:28.376Z"
   },
   {
    "duration": 3663,
    "start_time": "2025-04-02T16:56:11.412Z"
   },
   {
    "duration": 5333,
    "start_time": "2025-04-02T16:56:15.077Z"
   },
   {
    "duration": 409,
    "start_time": "2025-04-02T16:56:20.412Z"
   },
   {
    "duration": 31587,
    "start_time": "2025-04-02T16:56:20.822Z"
   },
   {
    "duration": 3195,
    "start_time": "2025-04-02T16:56:52.411Z"
   },
   {
    "duration": 2139,
    "start_time": "2025-04-02T16:57:30.936Z"
   },
   {
    "duration": 8,
    "start_time": "2025-04-02T16:57:33.077Z"
   },
   {
    "duration": 41,
    "start_time": "2025-04-02T16:57:41.774Z"
   },
   {
    "duration": 46,
    "start_time": "2025-04-02T16:58:36.842Z"
   },
   {
    "duration": 40,
    "start_time": "2025-04-02T16:58:49.625Z"
   },
   {
    "duration": 100505,
    "start_time": "2025-04-02T16:58:55.179Z"
   },
   {
    "duration": 9,
    "start_time": "2025-04-02T17:00:35.686Z"
   },
   {
    "duration": 8,
    "start_time": "2025-04-02T17:02:03.871Z"
   },
   {
    "duration": 33,
    "start_time": "2025-04-02T17:06:35.522Z"
   },
   {
    "duration": 436,
    "start_time": "2025-04-02T17:07:10.776Z"
   },
   {
    "duration": 334,
    "start_time": "2025-04-02T17:07:34.755Z"
   },
   {
    "duration": 282,
    "start_time": "2025-04-02T17:07:45.309Z"
   },
   {
    "duration": 508,
    "start_time": "2025-04-02T17:09:57.161Z"
   },
   {
    "duration": 470,
    "start_time": "2025-04-02T17:10:47.063Z"
   },
   {
    "duration": 96159,
    "start_time": "2025-04-02T17:11:54.217Z"
   },
   {
    "duration": 8,
    "start_time": "2025-04-02T17:13:30.378Z"
   },
   {
    "duration": 529,
    "start_time": "2025-04-02T17:13:30.388Z"
   },
   {
    "duration": 7,
    "start_time": "2025-04-02T17:17:51.217Z"
   },
   {
    "duration": 12,
    "start_time": "2025-04-02T17:17:52.646Z"
   },
   {
    "duration": 58,
    "start_time": "2025-04-02T17:17:54.021Z"
   },
   {
    "duration": 2,
    "start_time": "2025-04-02T17:17:55.140Z"
   },
   {
    "duration": 3,
    "start_time": "2025-04-02T17:17:56.114Z"
   },
   {
    "duration": 3,
    "start_time": "2025-04-02T17:17:59.536Z"
   },
   {
    "duration": 4,
    "start_time": "2025-04-02T17:18:01.170Z"
   },
   {
    "duration": 626630,
    "start_time": "2025-04-02T17:18:05.087Z"
   },
   {
    "duration": 4,
    "start_time": "2025-04-02T17:28:31.718Z"
   },
   {
    "duration": 63,
    "start_time": "2025-04-02T17:28:31.723Z"
   },
   {
    "duration": 2975,
    "start_time": "2025-04-02T17:28:31.788Z"
   },
   {
    "duration": 8457,
    "start_time": "2025-04-02T19:11:31.433Z"
   },
   {
    "duration": 8701,
    "start_time": "2025-04-02T19:13:54.588Z"
   },
   {
    "duration": 8378,
    "start_time": "2025-04-02T19:21:25.753Z"
   },
   {
    "duration": 3,
    "start_time": "2025-04-02T19:21:39.443Z"
   },
   {
    "duration": 17,
    "start_time": "2025-04-02T19:30:53.452Z"
   },
   {
    "duration": 31,
    "start_time": "2025-04-02T19:31:09.396Z"
   },
   {
    "duration": 5609,
    "start_time": "2025-04-02T19:32:45.111Z"
   },
   {
    "duration": 15,
    "start_time": "2025-04-02T19:34:31.112Z"
   },
   {
    "duration": 3,
    "start_time": "2025-04-02T19:34:40.051Z"
   },
   {
    "duration": 3,
    "start_time": "2025-04-02T19:36:35.398Z"
   },
   {
    "duration": 3,
    "start_time": "2025-04-02T19:36:59.091Z"
   },
   {
    "duration": 3,
    "start_time": "2025-04-02T19:45:58.265Z"
   },
   {
    "duration": 9150,
    "start_time": "2025-04-02T19:56:03.520Z"
   },
   {
    "duration": 7,
    "start_time": "2025-04-02T19:56:12.672Z"
   },
   {
    "duration": 5951,
    "start_time": "2025-04-02T19:56:12.680Z"
   },
   {
    "duration": 2,
    "start_time": "2025-04-02T19:56:18.633Z"
   },
   {
    "duration": 3,
    "start_time": "2025-04-02T19:56:19.900Z"
   },
   {
    "duration": 3067,
    "start_time": "2025-04-02T19:56:25.122Z"
   },
   {
    "duration": 3057,
    "start_time": "2025-04-02T19:59:33.428Z"
   },
   {
    "duration": 3,
    "start_time": "2025-04-02T20:00:07.923Z"
   },
   {
    "duration": 3045,
    "start_time": "2025-04-02T20:00:09.252Z"
   },
   {
    "duration": 2972,
    "start_time": "2025-04-02T20:00:15.720Z"
   },
   {
    "duration": 2982,
    "start_time": "2025-04-02T20:00:38.922Z"
   },
   {
    "duration": 3005,
    "start_time": "2025-04-02T20:00:48.694Z"
   },
   {
    "duration": 3068,
    "start_time": "2025-04-02T20:01:24.029Z"
   },
   {
    "duration": 2974,
    "start_time": "2025-04-02T20:02:19.256Z"
   },
   {
    "duration": 3027,
    "start_time": "2025-04-02T20:02:35.652Z"
   },
   {
    "duration": 3058,
    "start_time": "2025-04-02T20:02:50.061Z"
   },
   {
    "duration": 3089,
    "start_time": "2025-04-02T20:02:53.121Z"
   },
   {
    "duration": 3,
    "start_time": "2025-04-02T20:03:05.484Z"
   },
   {
    "duration": 5,
    "start_time": "2025-04-02T20:09:48.567Z"
   },
   {
    "duration": 493,
    "start_time": "2025-04-02T20:11:11.526Z"
   },
   {
    "duration": 446,
    "start_time": "2025-04-02T20:12:18.081Z"
   },
   {
    "duration": 63,
    "start_time": "2025-04-02T20:13:05.883Z"
   },
   {
    "duration": 482,
    "start_time": "2025-04-02T20:13:15.699Z"
   },
   {
    "duration": 5,
    "start_time": "2025-04-02T20:15:52.869Z"
   },
   {
    "duration": 746248,
    "start_time": "2025-04-02T20:16:00.161Z"
   },
   {
    "duration": 5,
    "start_time": "2025-04-02T20:28:26.413Z"
   },
   {
    "duration": 28,
    "start_time": "2025-04-02T20:29:42.524Z"
   },
   {
    "duration": 3,
    "start_time": "2025-04-02T20:33:46.472Z"
   },
   {
    "duration": 152301,
    "start_time": "2025-04-02T20:33:49.077Z"
   },
   {
    "duration": 4,
    "start_time": "2025-04-02T20:36:35.586Z"
   },
   {
    "duration": 25,
    "start_time": "2025-04-02T20:36:45.374Z"
   },
   {
    "duration": 3,
    "start_time": "2025-04-02T20:38:22.955Z"
   },
   {
    "duration": 136969,
    "start_time": "2025-04-02T20:38:25.001Z"
   },
   {
    "duration": 4,
    "start_time": "2025-04-02T20:45:09.263Z"
   },
   {
    "duration": 22,
    "start_time": "2025-04-02T20:45:20.535Z"
   },
   {
    "duration": 18,
    "start_time": "2025-04-02T20:47:12.546Z"
   },
   {
    "duration": 1596,
    "start_time": "2025-04-02T20:48:14.171Z"
   },
   {
    "duration": 4584,
    "start_time": "2025-04-02T21:03:37.679Z"
   },
   {
    "duration": 5,
    "start_time": "2025-04-02T21:04:30.732Z"
   },
   {
    "duration": 4615,
    "start_time": "2025-04-02T21:06:40.502Z"
   },
   {
    "duration": 2,
    "start_time": "2025-04-02T21:06:49.203Z"
   },
   {
    "duration": 5242,
    "start_time": "2025-04-02T21:06:50.729Z"
   },
   {
    "duration": 2,
    "start_time": "2025-04-02T21:07:00.770Z"
   },
   {
    "duration": 3,
    "start_time": "2025-04-02T21:07:01.096Z"
   },
   {
    "duration": 21,
    "start_time": "2025-04-02T21:07:08.112Z"
   },
   {
    "duration": 1541,
    "start_time": "2025-04-02T21:08:31.363Z"
   },
   {
    "duration": 1549,
    "start_time": "2025-04-02T21:08:46.052Z"
   },
   {
    "duration": 1561,
    "start_time": "2025-04-02T21:08:51.193Z"
   },
   {
    "duration": 4,
    "start_time": "2025-04-02T21:09:36.165Z"
   },
   {
    "duration": 630789,
    "start_time": "2025-04-02T21:09:37.327Z"
   },
   {
    "duration": 3,
    "start_time": "2025-04-02T21:26:08.777Z"
   },
   {
    "duration": 32,
    "start_time": "2025-04-02T21:26:10.728Z"
   },
   {
    "duration": 4636,
    "start_time": "2025-04-02T21:26:56.502Z"
   },
   {
    "duration": 3,
    "start_time": "2025-04-02T21:27:01.140Z"
   },
   {
    "duration": 5356,
    "start_time": "2025-04-02T21:27:01.144Z"
   },
   {
    "duration": 2,
    "start_time": "2025-04-02T21:27:06.502Z"
   },
   {
    "duration": 18,
    "start_time": "2025-04-02T21:27:06.506Z"
   },
   {
    "duration": 1544,
    "start_time": "2025-04-02T21:27:06.525Z"
   },
   {
    "duration": 1566,
    "start_time": "2025-04-02T21:27:08.071Z"
   },
   {
    "duration": 16,
    "start_time": "2025-04-02T21:28:24.238Z"
   },
   {
    "duration": 28014,
    "start_time": "2025-04-02T21:32:25.107Z"
   },
   {
    "duration": 6255,
    "start_time": "2025-04-02T21:32:53.123Z"
   },
   {
    "duration": 7,
    "start_time": "2025-04-02T21:32:59.379Z"
   },
   {
    "duration": 292,
    "start_time": "2025-04-02T21:32:59.387Z"
   },
   {
    "duration": 472,
    "start_time": "2025-04-02T21:32:59.681Z"
   },
   {
    "duration": 3,
    "start_time": "2025-04-02T21:33:00.155Z"
   },
   {
    "duration": 861,
    "start_time": "2025-04-02T21:33:00.163Z"
   },
   {
    "duration": 9,
    "start_time": "2025-04-02T21:33:01.025Z"
   },
   {
    "duration": 41,
    "start_time": "2025-04-02T21:33:01.036Z"
   },
   {
    "duration": 8,
    "start_time": "2025-04-02T21:33:01.081Z"
   },
   {
    "duration": 511,
    "start_time": "2025-04-02T21:33:01.091Z"
   },
   {
    "duration": 3771,
    "start_time": "2025-04-02T21:33:01.604Z"
   },
   {
    "duration": 4,
    "start_time": "2025-04-02T21:33:05.376Z"
   },
   {
    "duration": 41105,
    "start_time": "2025-04-02T21:33:05.381Z"
   },
   {
    "duration": 23,
    "start_time": "2025-04-02T21:33:46.488Z"
   },
   {
    "duration": 12,
    "start_time": "2025-04-02T21:33:46.513Z"
   },
   {
    "duration": 15,
    "start_time": "2025-04-02T21:33:46.526Z"
   },
   {
    "duration": 34,
    "start_time": "2025-04-02T21:33:46.543Z"
   },
   {
    "duration": 607,
    "start_time": "2025-04-02T21:33:46.578Z"
   },
   {
    "duration": 401,
    "start_time": "2025-04-02T21:33:47.187Z"
   },
   {
    "duration": 15,
    "start_time": "2025-04-02T21:33:47.590Z"
   },
   {
    "duration": 4,
    "start_time": "2025-04-02T21:33:47.607Z"
   },
   {
    "duration": 40298,
    "start_time": "2025-04-02T21:33:47.613Z"
   },
   {
    "duration": 3266,
    "start_time": "2025-04-02T21:34:27.912Z"
   },
   {
    "duration": 4783,
    "start_time": "2025-04-02T21:34:31.180Z"
   },
   {
    "duration": 377,
    "start_time": "2025-04-02T21:34:35.964Z"
   },
   {
    "duration": 29473,
    "start_time": "2025-04-02T21:34:36.343Z"
   },
   {
    "duration": 2878,
    "start_time": "2025-04-02T21:35:05.818Z"
   },
   {
    "duration": 3,
    "start_time": "2025-04-02T21:35:08.698Z"
   },
   {
    "duration": 670,
    "start_time": "2025-04-02T21:35:08.702Z"
   },
   {
    "duration": 4,
    "start_time": "2025-04-02T21:36:16.952Z"
   },
   {
    "duration": 3,
    "start_time": "2025-04-02T21:37:32.206Z"
   },
   {
    "duration": 411,
    "start_time": "2025-04-02T21:37:37.443Z"
   },
   {
    "duration": 17,
    "start_time": "2025-04-02T21:39:19.814Z"
   },
   {
    "duration": 3,
    "start_time": "2025-04-02T21:41:02.867Z"
   },
   {
    "duration": 452,
    "start_time": "2025-04-02T21:41:14.019Z"
   },
   {
    "duration": 4,
    "start_time": "2025-04-02T21:41:29.348Z"
   },
   {
    "duration": 3,
    "start_time": "2025-04-02T21:41:32.047Z"
   },
   {
    "duration": 6,
    "start_time": "2025-04-02T21:41:33.553Z"
   },
   {
    "duration": 3,
    "start_time": "2025-04-02T21:41:44.895Z"
   },
   {
    "duration": 477400,
    "start_time": "2025-04-02T21:41:55.456Z"
   },
   {
    "duration": 7,
    "start_time": "2025-04-02T21:56:41.064Z"
   },
   {
    "duration": 5301,
    "start_time": "2025-04-02T21:56:58.875Z"
   },
   {
    "duration": 736005,
    "start_time": "2025-04-03T18:57:09.810Z"
   },
   {
    "duration": 26840,
    "start_time": "2025-04-03T19:09:39.701Z"
   },
   {
    "duration": 7050,
    "start_time": "2025-04-03T19:13:26.465Z"
   },
   {
    "duration": 6,
    "start_time": "2025-04-03T19:13:33.517Z"
   },
   {
    "duration": 1047,
    "start_time": "2025-04-03T19:13:33.524Z"
   },
   {
    "duration": 503,
    "start_time": "2025-04-03T19:13:34.573Z"
   },
   {
    "duration": 3,
    "start_time": "2025-04-03T19:13:35.589Z"
   },
   {
    "duration": 2468,
    "start_time": "2025-04-03T19:13:55.082Z"
   },
   {
    "duration": 10,
    "start_time": "2025-04-03T19:13:59.954Z"
   },
   {
    "duration": 47,
    "start_time": "2025-04-03T19:14:20.964Z"
   },
   {
    "duration": 92782,
    "start_time": "2025-04-03T19:14:40.396Z"
   },
   {
    "duration": 10,
    "start_time": "2025-04-03T19:16:13.180Z"
   },
   {
    "duration": 842,
    "start_time": "2025-04-03T19:16:13.192Z"
   },
   {
    "duration": 586,
    "start_time": "2025-04-03T19:16:21.755Z"
   },
   {
    "duration": 8,
    "start_time": "2025-04-03T19:19:28.158Z"
   },
   {
    "duration": 16,
    "start_time": "2025-04-03T19:19:29.245Z"
   },
   {
    "duration": 68,
    "start_time": "2025-04-03T19:19:30.261Z"
   },
   {
    "duration": 2,
    "start_time": "2025-04-03T19:19:31.244Z"
   },
   {
    "duration": 3,
    "start_time": "2025-04-03T19:19:33.161Z"
   },
   {
    "duration": 361,
    "start_time": "2025-04-03T19:20:12.470Z"
   },
   {
    "duration": 4,
    "start_time": "2025-04-03T19:21:43.773Z"
   },
   {
    "duration": 4,
    "start_time": "2025-04-03T19:21:49.373Z"
   },
   {
    "duration": 799987,
    "start_time": "2025-04-03T19:21:55.035Z"
   },
   {
    "duration": 4,
    "start_time": "2025-04-03T19:39:45.032Z"
   },
   {
    "duration": 37,
    "start_time": "2025-04-03T19:39:49.031Z"
   },
   {
    "duration": 5131,
    "start_time": "2025-04-03T19:40:39.863Z"
   },
   {
    "duration": 3,
    "start_time": "2025-04-03T19:40:48.605Z"
   },
   {
    "duration": 5625,
    "start_time": "2025-04-03T19:40:49.890Z"
   },
   {
    "duration": 2,
    "start_time": "2025-04-03T19:40:55.518Z"
   },
   {
    "duration": 7,
    "start_time": "2025-04-03T19:40:55.522Z"
   },
   {
    "duration": 1753,
    "start_time": "2025-04-03T19:40:55.531Z"
   },
   {
    "duration": 1702,
    "start_time": "2025-04-03T19:40:57.486Z"
   },
   {
    "duration": 66733,
    "start_time": "2025-04-04T13:44:05.136Z"
   },
   {
    "duration": 6794,
    "start_time": "2025-04-04T13:45:11.872Z"
   },
   {
    "duration": 5,
    "start_time": "2025-04-04T13:46:08.451Z"
   },
   {
    "duration": 938,
    "start_time": "2025-04-04T13:46:09.091Z"
   },
   {
    "duration": 478,
    "start_time": "2025-04-04T13:46:10.527Z"
   },
   {
    "duration": 2,
    "start_time": "2025-04-04T13:46:11.176Z"
   },
   {
    "duration": 955,
    "start_time": "2025-04-04T13:46:12.192Z"
   },
   {
    "duration": 9,
    "start_time": "2025-04-04T13:46:14.384Z"
   },
   {
    "duration": 25,
    "start_time": "2025-04-04T13:46:15.056Z"
   },
   {
    "duration": 6,
    "start_time": "2025-04-04T13:46:16.004Z"
   },
   {
    "duration": 670,
    "start_time": "2025-04-04T13:46:17.401Z"
   },
   {
    "duration": 3773,
    "start_time": "2025-04-04T13:46:22.393Z"
   },
   {
    "duration": 4,
    "start_time": "2025-04-04T13:46:26.167Z"
   },
   {
    "duration": 42051,
    "start_time": "2025-04-04T13:46:26.369Z"
   },
   {
    "duration": 22,
    "start_time": "2025-04-04T13:47:08.422Z"
   },
   {
    "duration": 23,
    "start_time": "2025-04-04T13:47:08.446Z"
   },
   {
    "duration": 9,
    "start_time": "2025-04-04T13:47:08.471Z"
   },
   {
    "duration": 15,
    "start_time": "2025-04-04T13:47:08.482Z"
   },
   {
    "duration": 412,
    "start_time": "2025-04-04T13:47:08.499Z"
   },
   {
    "duration": 390,
    "start_time": "2025-04-04T13:47:08.912Z"
   },
   {
    "duration": 367,
    "start_time": "2025-04-04T14:00:54.885Z"
   },
   {
    "duration": 18,
    "start_time": "2025-04-04T14:01:10.868Z"
   },
   {
    "duration": 28196,
    "start_time": "2025-04-04T14:01:25.930Z"
   },
   {
    "duration": 6397,
    "start_time": "2025-04-04T14:01:54.129Z"
   },
   {
    "duration": 6,
    "start_time": "2025-04-04T14:02:00.528Z"
   },
   {
    "duration": 298,
    "start_time": "2025-04-04T14:02:00.536Z"
   },
   {
    "duration": 484,
    "start_time": "2025-04-04T14:02:00.837Z"
   },
   {
    "duration": 3,
    "start_time": "2025-04-04T14:02:01.322Z"
   },
   {
    "duration": 980,
    "start_time": "2025-04-04T14:02:01.326Z"
   },
   {
    "duration": 8,
    "start_time": "2025-04-04T14:02:02.308Z"
   },
   {
    "duration": 55,
    "start_time": "2025-04-04T14:02:02.317Z"
   },
   {
    "duration": 6,
    "start_time": "2025-04-04T14:02:02.374Z"
   },
   {
    "duration": 522,
    "start_time": "2025-04-04T14:02:02.382Z"
   },
   {
    "duration": 3892,
    "start_time": "2025-04-04T14:02:02.906Z"
   },
   {
    "duration": 3,
    "start_time": "2025-04-04T14:02:06.800Z"
   },
   {
    "duration": 41579,
    "start_time": "2025-04-04T14:02:06.807Z"
   },
   {
    "duration": 22,
    "start_time": "2025-04-04T14:02:48.388Z"
   },
   {
    "duration": 15,
    "start_time": "2025-04-04T14:02:48.412Z"
   },
   {
    "duration": 50,
    "start_time": "2025-04-04T14:02:48.428Z"
   },
   {
    "duration": 32,
    "start_time": "2025-04-04T14:02:48.479Z"
   },
   {
    "duration": 619,
    "start_time": "2025-04-04T14:02:48.512Z"
   },
   {
    "duration": 376,
    "start_time": "2025-04-04T14:02:49.133Z"
   },
   {
    "duration": 14,
    "start_time": "2025-04-04T14:02:49.511Z"
   },
   {
    "duration": 39,
    "start_time": "2025-04-04T14:02:49.526Z"
   },
   {
    "duration": 40302,
    "start_time": "2025-04-04T14:02:49.567Z"
   },
   {
    "duration": 3398,
    "start_time": "2025-04-04T14:03:29.872Z"
   },
   {
    "duration": 4738,
    "start_time": "2025-04-04T14:03:33.272Z"
   },
   {
    "duration": 381,
    "start_time": "2025-04-04T14:03:38.012Z"
   },
   {
    "duration": 29549,
    "start_time": "2025-04-04T14:05:07.279Z"
   },
   {
    "duration": 66,
    "start_time": "2025-04-04T14:06:30.484Z"
   },
   {
    "duration": 2906,
    "start_time": "2025-04-04T14:06:39.401Z"
   },
   {
    "duration": 4,
    "start_time": "2025-04-04T14:08:37.744Z"
   },
   {
    "duration": 664,
    "start_time": "2025-04-04T14:08:40.891Z"
   },
   {
    "duration": 7,
    "start_time": "2025-04-04T14:10:06.490Z"
   },
   {
    "duration": 369,
    "start_time": "2025-04-04T14:10:19.778Z"
   },
   {
    "duration": 1967064,
    "start_time": "2025-04-04T14:11:52.880Z"
   },
   {
    "duration": 9,
    "start_time": "2025-04-04T14:49:31.445Z"
   },
   {
    "duration": 5550,
    "start_time": "2025-04-04T14:49:39.924Z"
   },
   {
    "duration": 19,
    "start_time": "2025-04-04T14:50:26.389Z"
   },
   {
    "duration": 43,
    "start_time": "2025-04-04T14:50:47.109Z"
   },
   {
    "duration": 5398,
    "start_time": "2025-04-04T14:50:53.076Z"
   },
   {
    "duration": 1994,
    "start_time": "2025-04-04T14:51:53.253Z"
   },
   {
    "duration": 86468,
    "start_time": "2025-04-04T14:54:43.635Z"
   },
   {
    "duration": 8,
    "start_time": "2025-04-04T14:56:10.105Z"
   },
   {
    "duration": 62,
    "start_time": "2025-04-04T14:56:31.989Z"
   },
   {
    "duration": 83,
    "start_time": "2025-04-04T14:56:47.567Z"
   },
   {
    "duration": 70,
    "start_time": "2025-04-04T14:57:11.570Z"
   },
   {
    "duration": 71,
    "start_time": "2025-04-04T14:57:21.769Z"
   },
   {
    "duration": 79,
    "start_time": "2025-04-04T14:57:31.209Z"
   },
   {
    "duration": 81,
    "start_time": "2025-04-04T14:57:49.841Z"
   },
   {
    "duration": 501,
    "start_time": "2025-04-04T14:58:00.720Z"
   },
   {
    "duration": 6,
    "start_time": "2025-04-04T15:11:29.822Z"
   },
   {
    "duration": 10,
    "start_time": "2025-04-04T15:11:30.940Z"
   },
   {
    "duration": 60,
    "start_time": "2025-04-04T15:11:32.274Z"
   },
   {
    "duration": 2,
    "start_time": "2025-04-04T15:11:33.385Z"
   },
   {
    "duration": 3,
    "start_time": "2025-04-04T15:11:39.455Z"
   },
   {
    "duration": 3,
    "start_time": "2025-04-04T15:11:40.963Z"
   },
   {
    "duration": 4,
    "start_time": "2025-04-04T15:11:42.284Z"
   },
   {
    "duration": 670944,
    "start_time": "2025-04-04T15:11:45.388Z"
   },
   {
    "duration": 4,
    "start_time": "2025-04-04T15:22:56.333Z"
   },
   {
    "duration": 32,
    "start_time": "2025-04-04T15:28:44.788Z"
   },
   {
    "duration": 4784,
    "start_time": "2025-04-04T15:31:00.527Z"
   },
   {
    "duration": 3,
    "start_time": "2025-04-04T15:31:05.312Z"
   },
   {
    "duration": 5306,
    "start_time": "2025-04-04T15:31:05.316Z"
   },
   {
    "duration": 3,
    "start_time": "2025-04-04T15:31:10.624Z"
   },
   {
    "duration": 5,
    "start_time": "2025-04-04T15:31:10.628Z"
   },
   {
    "duration": 1584,
    "start_time": "2025-04-04T15:31:10.634Z"
   },
   {
    "duration": 1557,
    "start_time": "2025-04-04T15:31:12.219Z"
   },
   {
    "duration": 1558,
    "start_time": "2025-04-04T15:53:26.712Z"
   },
   {
    "duration": 18,
    "start_time": "2025-04-04T15:55:58.560Z"
   },
   {
    "duration": 65379,
    "start_time": "2025-04-05T16:01:19.586Z"
   },
   {
    "duration": 8954,
    "start_time": "2025-04-05T16:02:24.967Z"
   },
   {
    "duration": 5,
    "start_time": "2025-04-05T16:02:33.923Z"
   },
   {
    "duration": 954,
    "start_time": "2025-04-05T16:02:33.930Z"
   },
   {
    "duration": 535,
    "start_time": "2025-04-05T16:02:34.886Z"
   },
   {
    "duration": 3,
    "start_time": "2025-04-05T16:02:35.423Z"
   },
   {
    "duration": 2475,
    "start_time": "2025-04-05T16:03:36.450Z"
   },
   {
    "duration": 94240,
    "start_time": "2025-04-05T16:03:39.050Z"
   },
   {
    "duration": 11,
    "start_time": "2025-04-05T16:05:13.292Z"
   },
   {
    "duration": 801,
    "start_time": "2025-04-05T16:05:13.305Z"
   },
   {
    "duration": 8,
    "start_time": "2025-04-05T16:05:32.547Z"
   },
   {
    "duration": 69,
    "start_time": "2025-04-05T16:05:36.202Z"
   },
   {
    "duration": 3,
    "start_time": "2025-04-05T16:05:39.289Z"
   },
   {
    "duration": 3,
    "start_time": "2025-04-05T16:05:40.764Z"
   },
   {
    "duration": 3,
    "start_time": "2025-04-05T16:05:45.860Z"
   },
   {
    "duration": 5,
    "start_time": "2025-04-05T16:05:47.207Z"
   },
   {
    "duration": 789965,
    "start_time": "2025-04-05T16:05:48.307Z"
   },
   {
    "duration": 5,
    "start_time": "2025-04-05T16:19:04.633Z"
   },
   {
    "duration": 38,
    "start_time": "2025-04-05T16:19:05.992Z"
   },
   {
    "duration": 1729,
    "start_time": "2025-04-05T16:19:08.697Z"
   },
   {
    "duration": 76,
    "start_time": "2025-04-05T16:27:53.781Z"
   },
   {
    "duration": 382,
    "start_time": "2025-04-05T16:28:02.990Z"
   },
   {
    "duration": 22,
    "start_time": "2025-04-05T16:28:12.788Z"
   },
   {
    "duration": 36375,
    "start_time": "2025-04-05T16:37:27.821Z"
   },
   {
    "duration": 37,
    "start_time": "2025-04-05T16:39:06.316Z"
   },
   {
    "duration": 31936,
    "start_time": "2025-04-05T17:08:40.623Z"
   },
   {
    "duration": 7092,
    "start_time": "2025-04-05T17:12:02.484Z"
   },
   {
    "duration": 11,
    "start_time": "2025-04-05T17:12:09.584Z"
   },
   {
    "duration": 275,
    "start_time": "2025-04-05T17:12:09.601Z"
   },
   {
    "duration": 572,
    "start_time": "2025-04-05T17:12:09.881Z"
   },
   {
    "duration": 3,
    "start_time": "2025-04-05T17:12:10.455Z"
   },
   {
    "duration": 2687,
    "start_time": "2025-04-05T17:12:23.053Z"
   },
   {
    "duration": 100518,
    "start_time": "2025-04-05T17:12:25.742Z"
   },
   {
    "duration": 21,
    "start_time": "2025-04-05T17:14:06.262Z"
   },
   {
    "duration": 609,
    "start_time": "2025-04-05T17:14:06.286Z"
   },
   {
    "duration": 7,
    "start_time": "2025-04-05T17:14:42.224Z"
   },
   {
    "duration": 76,
    "start_time": "2025-04-05T17:14:45.985Z"
   },
   {
    "duration": 2,
    "start_time": "2025-04-05T17:14:47.074Z"
   },
   {
    "duration": 3,
    "start_time": "2025-04-05T17:14:47.804Z"
   },
   {
    "duration": 3,
    "start_time": "2025-04-05T17:14:50.240Z"
   },
   {
    "duration": 5,
    "start_time": "2025-04-05T17:14:51.295Z"
   },
   {
    "duration": 1577,
    "start_time": "2025-04-05T17:14:52.293Z"
   },
   {
    "duration": 23,
    "start_time": "2025-04-05T17:16:00.872Z"
   },
   {
    "duration": 87,
    "start_time": "2025-04-05T17:16:03.623Z"
   },
   {
    "duration": 3,
    "start_time": "2025-04-05T17:16:04.940Z"
   },
   {
    "duration": 4,
    "start_time": "2025-04-05T17:16:06.044Z"
   },
   {
    "duration": 6,
    "start_time": "2025-04-05T17:16:08.975Z"
   },
   {
    "duration": 5,
    "start_time": "2025-04-05T17:16:10.163Z"
   },
   {
    "duration": 1079,
    "start_time": "2025-04-05T17:16:12.192Z"
   },
   {
    "duration": 20,
    "start_time": "2025-04-05T17:17:11.646Z"
   },
   {
    "duration": 2,
    "start_time": "2025-04-05T17:17:23.025Z"
   },
   {
    "duration": 8,
    "start_time": "2025-04-05T17:17:24.407Z"
   },
   {
    "duration": 26,
    "start_time": "2025-04-05T17:17:26.419Z"
   },
   {
    "duration": 26,
    "start_time": "2025-04-05T17:17:41.548Z"
   },
   {
    "duration": 22,
    "start_time": "2025-04-05T17:17:49.948Z"
   },
   {
    "duration": 32659,
    "start_time": "2025-04-05T17:20:05.258Z"
   },
   {
    "duration": 6896,
    "start_time": "2025-04-05T17:20:46.705Z"
   },
   {
    "duration": 5,
    "start_time": "2025-04-05T17:20:53.603Z"
   },
   {
    "duration": 313,
    "start_time": "2025-04-05T17:20:53.609Z"
   },
   {
    "duration": 550,
    "start_time": "2025-04-05T17:20:53.924Z"
   },
   {
    "duration": 3,
    "start_time": "2025-04-05T17:20:54.476Z"
   },
   {
    "duration": 2747,
    "start_time": "2025-04-05T17:21:08.570Z"
   },
   {
    "duration": 99860,
    "start_time": "2025-04-05T17:21:11.318Z"
   },
   {
    "duration": 18,
    "start_time": "2025-04-05T17:22:51.181Z"
   },
   {
    "duration": 605,
    "start_time": "2025-04-05T17:22:51.201Z"
   },
   {
    "duration": 7,
    "start_time": "2025-04-05T17:22:51.808Z"
   },
   {
    "duration": 104,
    "start_time": "2025-04-05T17:22:51.817Z"
   },
   {
    "duration": 3,
    "start_time": "2025-04-05T17:22:51.923Z"
   },
   {
    "duration": 15,
    "start_time": "2025-04-05T17:22:51.927Z"
   },
   {
    "duration": 15,
    "start_time": "2025-04-05T17:22:51.944Z"
   },
   {
    "duration": 5,
    "start_time": "2025-04-05T17:22:51.961Z"
   },
   {
    "duration": 1548,
    "start_time": "2025-04-05T17:22:51.967Z"
   },
   {
    "duration": 30937,
    "start_time": "2025-04-05T17:28:32.450Z"
   },
   {
    "duration": 6901,
    "start_time": "2025-04-05T17:29:03.391Z"
   },
   {
    "duration": 7,
    "start_time": "2025-04-05T17:29:10.296Z"
   },
   {
    "duration": 299,
    "start_time": "2025-04-05T17:29:10.304Z"
   },
   {
    "duration": 559,
    "start_time": "2025-04-05T17:29:10.604Z"
   },
   {
    "duration": 2,
    "start_time": "2025-04-05T17:29:11.165Z"
   },
   {
    "duration": 2440,
    "start_time": "2025-04-05T17:34:17.273Z"
   },
   {
    "duration": 99303,
    "start_time": "2025-04-05T17:34:19.715Z"
   },
   {
    "duration": 13,
    "start_time": "2025-04-05T17:35:59.020Z"
   },
   {
    "duration": 641,
    "start_time": "2025-04-05T17:35:59.035Z"
   },
   {
    "duration": 14,
    "start_time": "2025-04-05T17:35:59.679Z"
   },
   {
    "duration": 96,
    "start_time": "2025-04-05T17:35:59.694Z"
   },
   {
    "duration": 2,
    "start_time": "2025-04-05T17:35:59.793Z"
   },
   {
    "duration": 4,
    "start_time": "2025-04-05T17:35:59.797Z"
   },
   {
    "duration": 7,
    "start_time": "2025-04-05T17:35:59.802Z"
   },
   {
    "duration": 6,
    "start_time": "2025-04-05T17:35:59.811Z"
   },
   {
    "duration": 1575,
    "start_time": "2025-04-05T17:35:59.818Z"
   },
   {
    "duration": 88,
    "start_time": "2025-04-05T17:43:04.509Z"
   },
   {
    "duration": 2,
    "start_time": "2025-04-05T17:43:05.361Z"
   },
   {
    "duration": 4,
    "start_time": "2025-04-05T17:43:06.281Z"
   },
   {
    "duration": 3,
    "start_time": "2025-04-05T17:43:09.161Z"
   },
   {
    "duration": 5,
    "start_time": "2025-04-05T17:43:10.228Z"
   },
   {
    "duration": 1048,
    "start_time": "2025-04-05T17:43:11.119Z"
   },
   {
    "duration": 23,
    "start_time": "2025-04-05T17:46:30.156Z"
   },
   {
    "duration": 19,
    "start_time": "2025-04-05T17:46:46.433Z"
   },
   {
    "duration": 6,
    "start_time": "2025-04-05T17:46:54.442Z"
   },
   {
    "duration": 22,
    "start_time": "2025-04-05T17:46:59.113Z"
   },
   {
    "duration": 5,
    "start_time": "2025-04-05T17:47:39.365Z"
   },
   {
    "duration": 2,
    "start_time": "2025-04-05T17:47:40.699Z"
   },
   {
    "duration": 8,
    "start_time": "2025-04-05T17:47:41.708Z"
   },
   {
    "duration": 522,
    "start_time": "2025-04-05T17:47:44.626Z"
   },
   {
    "duration": 3,
    "start_time": "2025-04-05T17:47:50.064Z"
   },
   {
    "duration": 3,
    "start_time": "2025-04-05T17:48:06.502Z"
   },
   {
    "duration": 3,
    "start_time": "2025-04-05T17:48:08.648Z"
   },
   {
    "duration": 5,
    "start_time": "2025-04-05T17:48:09.650Z"
   },
   {
    "duration": 966907,
    "start_time": "2025-04-05T17:48:10.545Z"
   },
   {
    "duration": 4,
    "start_time": "2025-04-05T18:17:47.451Z"
   },
   {
    "duration": 65,
    "start_time": "2025-04-05T18:17:51.987Z"
   },
   {
    "duration": 1692,
    "start_time": "2025-04-05T18:23:58.575Z"
   },
   {
    "duration": 306,
    "start_time": "2025-04-05T18:24:07.257Z"
   },
   {
    "duration": 316,
    "start_time": "2025-04-05T18:25:55.241Z"
   },
   {
    "duration": 304,
    "start_time": "2025-04-05T18:26:13.212Z"
   },
   {
    "duration": 335,
    "start_time": "2025-04-05T18:31:30.257Z"
   },
   {
    "duration": 321,
    "start_time": "2025-04-05T18:31:48.859Z"
   },
   {
    "duration": 324,
    "start_time": "2025-04-05T18:31:58.648Z"
   },
   {
    "duration": 343,
    "start_time": "2025-04-05T18:32:40.972Z"
   },
   {
    "duration": 334,
    "start_time": "2025-04-05T18:33:12.848Z"
   },
   {
    "duration": 869,
    "start_time": "2025-04-05T18:35:04.463Z"
   },
   {
    "duration": 7,
    "start_time": "2025-04-05T18:35:08.722Z"
   },
   {
    "duration": 28,
    "start_time": "2025-04-05T18:35:09.509Z"
   },
   {
    "duration": 6,
    "start_time": "2025-04-05T18:35:10.774Z"
   },
   {
    "duration": 520,
    "start_time": "2025-04-05T18:35:12.335Z"
   },
   {
    "duration": 4166,
    "start_time": "2025-04-05T18:35:16.904Z"
   },
   {
    "duration": 5,
    "start_time": "2025-04-05T18:35:21.072Z"
   },
   {
    "duration": 44504,
    "start_time": "2025-04-05T18:35:21.079Z"
   },
   {
    "duration": 26,
    "start_time": "2025-04-05T18:36:05.585Z"
   },
   {
    "duration": 19,
    "start_time": "2025-04-05T18:36:05.613Z"
   },
   {
    "duration": 45,
    "start_time": "2025-04-05T18:36:05.634Z"
   },
   {
    "duration": 61,
    "start_time": "2025-04-05T18:36:05.680Z"
   },
   {
    "duration": 516,
    "start_time": "2025-04-05T18:36:05.743Z"
   },
   {
    "duration": 461,
    "start_time": "2025-04-05T18:36:06.261Z"
   },
   {
    "duration": 18,
    "start_time": "2025-04-05T18:36:06.725Z"
   },
   {
    "duration": 25,
    "start_time": "2025-04-05T18:36:06.745Z"
   },
   {
    "duration": 60304,
    "start_time": "2025-04-05T18:36:06.772Z"
   },
   {
    "duration": 3608,
    "start_time": "2025-04-05T18:37:07.078Z"
   },
   {
    "duration": 6678,
    "start_time": "2025-04-05T18:37:10.687Z"
   },
   {
    "duration": 394,
    "start_time": "2025-04-05T18:37:17.366Z"
   },
   {
    "duration": 7376,
    "start_time": "2025-04-05T18:37:17.761Z"
   },
   {
    "duration": 1084,
    "start_time": "2025-04-05T18:37:25.139Z"
   },
   {
    "duration": 83377,
    "start_time": "2025-05-15T13:27:38.632Z"
   },
   {
    "duration": 8075,
    "start_time": "2025-05-15T13:29:02.012Z"
   },
   {
    "duration": 10,
    "start_time": "2025-05-15T13:29:10.089Z"
   },
   {
    "duration": 1209,
    "start_time": "2025-05-15T13:29:10.105Z"
   },
   {
    "duration": 540,
    "start_time": "2025-05-15T13:29:11.318Z"
   },
   {
    "duration": 14,
    "start_time": "2025-05-15T13:29:11.860Z"
   },
   {
    "duration": 1012,
    "start_time": "2025-05-15T13:29:11.878Z"
   },
   {
    "duration": 10,
    "start_time": "2025-05-15T13:29:12.895Z"
   },
   {
    "duration": 82,
    "start_time": "2025-05-15T13:29:12.907Z"
   },
   {
    "duration": 7,
    "start_time": "2025-05-15T13:29:12.991Z"
   },
   {
    "duration": 834,
    "start_time": "2025-05-15T13:29:13.000Z"
   },
   {
    "duration": 5009,
    "start_time": "2025-05-15T13:29:13.836Z"
   },
   {
    "duration": 3,
    "start_time": "2025-05-15T13:29:18.846Z"
   },
   {
    "duration": 3924,
    "start_time": "2025-05-15T13:29:18.852Z"
   },
   {
    "duration": 0,
    "start_time": "2025-05-15T13:29:22.779Z"
   },
   {
    "duration": 0,
    "start_time": "2025-05-15T13:29:22.781Z"
   },
   {
    "duration": 0,
    "start_time": "2025-05-15T13:29:22.782Z"
   },
   {
    "duration": 0,
    "start_time": "2025-05-15T13:29:22.784Z"
   },
   {
    "duration": 0,
    "start_time": "2025-05-15T13:29:22.785Z"
   },
   {
    "duration": 0,
    "start_time": "2025-05-15T13:29:22.786Z"
   },
   {
    "duration": 0,
    "start_time": "2025-05-15T13:29:22.787Z"
   },
   {
    "duration": 0,
    "start_time": "2025-05-15T13:29:22.788Z"
   },
   {
    "duration": 0,
    "start_time": "2025-05-15T13:29:22.789Z"
   },
   {
    "duration": 0,
    "start_time": "2025-05-15T13:29:22.790Z"
   },
   {
    "duration": 0,
    "start_time": "2025-05-15T13:29:22.792Z"
   },
   {
    "duration": 0,
    "start_time": "2025-05-15T13:29:22.793Z"
   },
   {
    "duration": 0,
    "start_time": "2025-05-15T13:29:22.794Z"
   },
   {
    "duration": 0,
    "start_time": "2025-05-15T13:29:22.795Z"
   },
   {
    "duration": 0,
    "start_time": "2025-05-15T13:29:22.796Z"
   },
   {
    "duration": 0,
    "start_time": "2025-05-15T13:29:22.798Z"
   },
   {
    "duration": 0,
    "start_time": "2025-05-15T13:29:22.799Z"
   },
   {
    "duration": 0,
    "start_time": "2025-05-15T13:29:22.800Z"
   },
   {
    "duration": 0,
    "start_time": "2025-05-15T13:29:22.801Z"
   },
   {
    "duration": 0,
    "start_time": "2025-05-15T13:29:22.802Z"
   },
   {
    "duration": 0,
    "start_time": "2025-05-15T13:29:22.803Z"
   },
   {
    "duration": 0,
    "start_time": "2025-05-15T13:29:22.804Z"
   },
   {
    "duration": 0,
    "start_time": "2025-05-15T13:29:22.806Z"
   },
   {
    "duration": 0,
    "start_time": "2025-05-15T13:29:22.807Z"
   },
   {
    "duration": 0,
    "start_time": "2025-05-15T13:29:22.809Z"
   },
   {
    "duration": 0,
    "start_time": "2025-05-15T13:29:22.810Z"
   },
   {
    "duration": 0,
    "start_time": "2025-05-15T13:29:22.812Z"
   },
   {
    "duration": 0,
    "start_time": "2025-05-15T13:29:22.813Z"
   },
   {
    "duration": 0,
    "start_time": "2025-05-15T13:29:22.814Z"
   },
   {
    "duration": 0,
    "start_time": "2025-05-15T13:29:22.816Z"
   },
   {
    "duration": 0,
    "start_time": "2025-05-15T13:29:22.818Z"
   },
   {
    "duration": 0,
    "start_time": "2025-05-15T13:29:22.819Z"
   },
   {
    "duration": 0,
    "start_time": "2025-05-15T13:29:22.820Z"
   },
   {
    "duration": 34424,
    "start_time": "2025-05-15T13:29:32.987Z"
   },
   {
    "duration": 7312,
    "start_time": "2025-05-15T13:30:07.414Z"
   },
   {
    "duration": 6,
    "start_time": "2025-05-15T13:30:14.727Z"
   },
   {
    "duration": 276,
    "start_time": "2025-05-15T13:30:14.735Z"
   },
   {
    "duration": 571,
    "start_time": "2025-05-15T13:30:15.013Z"
   },
   {
    "duration": 3,
    "start_time": "2025-05-15T13:30:15.586Z"
   },
   {
    "duration": 1061,
    "start_time": "2025-05-15T13:30:15.590Z"
   },
   {
    "duration": 10,
    "start_time": "2025-05-15T13:30:16.652Z"
   },
   {
    "duration": 199,
    "start_time": "2025-05-15T13:30:16.664Z"
   },
   {
    "duration": 109,
    "start_time": "2025-05-15T13:30:16.865Z"
   },
   {
    "duration": 637,
    "start_time": "2025-05-15T13:30:16.976Z"
   },
   {
    "duration": 4445,
    "start_time": "2025-05-15T13:30:17.615Z"
   },
   {
    "duration": 3,
    "start_time": "2025-05-15T13:30:22.062Z"
   },
   {
    "duration": 49774,
    "start_time": "2025-05-15T13:30:22.069Z"
   },
   {
    "duration": 27,
    "start_time": "2025-05-15T13:31:11.845Z"
   },
   {
    "duration": 31,
    "start_time": "2025-05-15T13:31:11.874Z"
   },
   {
    "duration": 11,
    "start_time": "2025-05-15T13:31:11.907Z"
   },
   {
    "duration": 18,
    "start_time": "2025-05-15T13:31:11.920Z"
   },
   {
    "duration": 570,
    "start_time": "2025-05-15T13:31:11.940Z"
   },
   {
    "duration": 459,
    "start_time": "2025-05-15T13:31:12.512Z"
   },
   {
    "duration": 16,
    "start_time": "2025-05-15T13:31:12.973Z"
   },
   {
    "duration": 41,
    "start_time": "2025-05-15T13:31:13.003Z"
   },
   {
    "duration": 68907,
    "start_time": "2025-05-15T13:31:13.045Z"
   },
   {
    "duration": 4026,
    "start_time": "2025-05-15T13:32:21.953Z"
   },
   {
    "duration": 7753,
    "start_time": "2025-05-15T13:32:25.981Z"
   },
   {
    "duration": 453,
    "start_time": "2025-05-15T13:32:33.736Z"
   },
   {
    "duration": 8826,
    "start_time": "2025-05-15T13:32:34.191Z"
   },
   {
    "duration": 1347,
    "start_time": "2025-05-15T13:32:43.019Z"
   },
   {
    "duration": 2416207,
    "start_time": "2025-05-15T13:32:44.369Z"
   },
   {
    "duration": 9,
    "start_time": "2025-05-15T14:13:00.578Z"
   },
   {
    "duration": 127,
    "start_time": "2025-05-15T14:13:00.603Z"
   },
   {
    "duration": 7977,
    "start_time": "2025-05-15T14:13:00.733Z"
   },
   {
    "duration": 3160,
    "start_time": "2025-05-15T14:13:08.713Z"
   },
   {
    "duration": 110189,
    "start_time": "2025-05-15T14:13:11.875Z"
   },
   {
    "duration": 11,
    "start_time": "2025-05-15T14:15:02.066Z"
   },
   {
    "duration": 679,
    "start_time": "2025-05-15T14:15:02.080Z"
   },
   {
    "duration": 8,
    "start_time": "2025-05-15T14:15:02.761Z"
   },
   {
    "duration": 125,
    "start_time": "2025-05-15T14:15:02.771Z"
   },
   {
    "duration": 172,
    "start_time": "2025-05-15T14:15:02.898Z"
   },
   {
    "duration": 131,
    "start_time": "2025-05-15T14:15:03.073Z"
   },
   {
    "duration": 156,
    "start_time": "2025-05-15T14:15:03.210Z"
   },
   {
    "duration": 22,
    "start_time": "2025-05-15T14:15:03.368Z"
   },
   {
    "duration": 997925,
    "start_time": "2025-05-15T14:15:03.392Z"
   },
   {
    "duration": 4,
    "start_time": "2025-05-15T14:31:41.319Z"
   },
   {
    "duration": 73,
    "start_time": "2025-05-15T14:31:41.325Z"
   },
   {
    "duration": 1908,
    "start_time": "2025-05-15T14:31:41.399Z"
   },
   {
    "duration": 372,
    "start_time": "2025-05-15T14:31:43.309Z"
   },
   {
    "duration": 37123,
    "start_time": "2025-05-15T14:36:55.806Z"
   },
   {
    "duration": 34115,
    "start_time": "2025-05-15T14:37:56.979Z"
   },
   {
    "duration": 7563,
    "start_time": "2025-05-15T14:38:31.098Z"
   },
   {
    "duration": 6,
    "start_time": "2025-05-15T14:38:38.663Z"
   },
   {
    "duration": 324,
    "start_time": "2025-05-15T14:38:38.671Z"
   },
   {
    "duration": 787,
    "start_time": "2025-05-15T14:38:38.998Z"
   },
   {
    "duration": 3,
    "start_time": "2025-05-15T14:38:39.787Z"
   },
   {
    "duration": 1033,
    "start_time": "2025-05-15T14:38:39.804Z"
   },
   {
    "duration": 9,
    "start_time": "2025-05-15T14:38:40.838Z"
   },
   {
    "duration": 42,
    "start_time": "2025-05-15T14:38:40.849Z"
   },
   {
    "duration": 211,
    "start_time": "2025-05-15T14:38:40.893Z"
   },
   {
    "duration": 607,
    "start_time": "2025-05-15T14:38:41.106Z"
   },
   {
    "duration": 4443,
    "start_time": "2025-05-15T14:38:41.714Z"
   },
   {
    "duration": 4,
    "start_time": "2025-05-15T14:38:46.158Z"
   },
   {
    "duration": 47773,
    "start_time": "2025-05-15T14:38:46.165Z"
   },
   {
    "duration": 28,
    "start_time": "2025-05-15T14:39:33.939Z"
   },
   {
    "duration": 13,
    "start_time": "2025-05-15T14:39:33.968Z"
   },
   {
    "duration": 30,
    "start_time": "2025-05-15T14:39:33.983Z"
   },
   {
    "duration": 32,
    "start_time": "2025-05-15T14:39:34.015Z"
   },
   {
    "duration": 508,
    "start_time": "2025-05-15T14:39:34.050Z"
   },
   {
    "duration": 482,
    "start_time": "2025-05-15T14:39:34.560Z"
   },
   {
    "duration": 20,
    "start_time": "2025-05-15T14:39:35.043Z"
   },
   {
    "duration": 17,
    "start_time": "2025-05-15T14:39:35.065Z"
   },
   {
    "duration": 68274,
    "start_time": "2025-05-15T14:39:35.083Z"
   },
   {
    "duration": 4028,
    "start_time": "2025-05-15T14:40:43.359Z"
   },
   {
    "duration": 7084,
    "start_time": "2025-05-15T14:40:47.389Z"
   },
   {
    "duration": 436,
    "start_time": "2025-05-15T14:40:54.475Z"
   },
   {
    "duration": 8772,
    "start_time": "2025-05-15T14:40:54.913Z"
   },
   {
    "duration": 1278,
    "start_time": "2025-05-15T14:41:03.687Z"
   },
   {
    "duration": 2361600,
    "start_time": "2025-05-15T14:41:04.967Z"
   },
   {
    "duration": 9,
    "start_time": "2025-05-15T15:20:26.569Z"
   },
   {
    "duration": 82,
    "start_time": "2025-05-15T15:20:26.579Z"
   },
   {
    "duration": 7560,
    "start_time": "2025-05-15T15:20:26.663Z"
   },
   {
    "duration": 3798,
    "start_time": "2025-05-15T15:20:34.225Z"
   },
   {
    "duration": 103009,
    "start_time": "2025-05-15T15:20:38.025Z"
   },
   {
    "duration": 11,
    "start_time": "2025-05-15T15:22:21.036Z"
   },
   {
    "duration": 665,
    "start_time": "2025-05-15T15:22:21.049Z"
   },
   {
    "duration": 11,
    "start_time": "2025-05-15T15:22:21.717Z"
   },
   {
    "duration": 146,
    "start_time": "2025-05-15T15:22:21.730Z"
   },
   {
    "duration": 3,
    "start_time": "2025-05-15T15:22:21.878Z"
   },
   {
    "duration": 15,
    "start_time": "2025-05-15T15:22:21.883Z"
   },
   {
    "duration": 21,
    "start_time": "2025-05-15T15:22:21.904Z"
   },
   {
    "duration": 27,
    "start_time": "2025-05-15T15:22:21.927Z"
   },
   {
    "duration": 868471,
    "start_time": "2025-05-15T15:26:05.250Z"
   },
   {
    "duration": 70325,
    "start_time": "2025-05-21T08:58:51.834Z"
   },
   {
    "duration": 7385,
    "start_time": "2025-05-21T09:00:02.162Z"
   },
   {
    "duration": 7,
    "start_time": "2025-05-21T09:00:09.548Z"
   },
   {
    "duration": 877,
    "start_time": "2025-05-21T09:00:09.557Z"
   },
   {
    "duration": 737,
    "start_time": "2025-05-21T09:00:10.435Z"
   },
   {
    "duration": 2,
    "start_time": "2025-05-21T09:00:11.174Z"
   },
   {
    "duration": 896,
    "start_time": "2025-05-21T09:00:11.178Z"
   },
   {
    "duration": 9,
    "start_time": "2025-05-21T09:00:12.076Z"
   },
   {
    "duration": 54,
    "start_time": "2025-05-21T09:00:12.086Z"
   },
   {
    "duration": 10,
    "start_time": "2025-05-21T09:00:12.142Z"
   },
   {
    "duration": 629,
    "start_time": "2025-05-21T09:00:12.153Z"
   },
   {
    "duration": 4118,
    "start_time": "2025-05-21T09:00:12.783Z"
   },
   {
    "duration": 3,
    "start_time": "2025-05-21T09:00:16.902Z"
   },
   {
    "duration": 44950,
    "start_time": "2025-05-21T09:00:16.906Z"
   },
   {
    "duration": 25,
    "start_time": "2025-05-21T09:01:01.858Z"
   },
   {
    "duration": 348,
    "start_time": "2025-05-21T09:01:01.885Z"
   },
   {
    "duration": 69,
    "start_time": "2025-05-21T09:01:02.234Z"
   },
   {
    "duration": 305,
    "start_time": "2025-05-21T09:01:02.305Z"
   },
   {
    "duration": 523,
    "start_time": "2025-05-21T09:01:02.612Z"
   },
   {
    "duration": 465,
    "start_time": "2025-05-21T09:01:03.137Z"
   },
   {
    "duration": 17,
    "start_time": "2025-05-21T09:01:03.604Z"
   },
   {
    "duration": 404,
    "start_time": "2025-05-21T09:01:03.622Z"
   },
   {
    "duration": 60846,
    "start_time": "2025-05-21T09:01:04.028Z"
   },
   {
    "duration": 3619,
    "start_time": "2025-05-21T09:02:04.876Z"
   },
   {
    "duration": 6512,
    "start_time": "2025-05-21T09:02:08.497Z"
   },
   {
    "duration": 384,
    "start_time": "2025-05-21T09:02:15.011Z"
   },
   {
    "duration": 7340,
    "start_time": "2025-05-21T09:02:15.397Z"
   },
   {
    "duration": 1065,
    "start_time": "2025-05-21T09:02:22.741Z"
   },
   {
    "duration": 45290,
    "start_time": "2025-05-21T09:02:39.822Z"
   },
   {
    "duration": 6952,
    "start_time": "2025-05-21T09:03:25.114Z"
   },
   {
    "duration": 5,
    "start_time": "2025-05-21T09:03:32.068Z"
   },
   {
    "duration": 261,
    "start_time": "2025-05-21T09:03:32.075Z"
   },
   {
    "duration": 677,
    "start_time": "2025-05-21T09:03:32.338Z"
   },
   {
    "duration": 3,
    "start_time": "2025-05-21T09:03:33.016Z"
   },
   {
    "duration": 880,
    "start_time": "2025-05-21T09:03:33.021Z"
   },
   {
    "duration": 9,
    "start_time": "2025-05-21T09:03:33.903Z"
   },
   {
    "duration": 92,
    "start_time": "2025-05-21T09:03:33.913Z"
   },
   {
    "duration": 83,
    "start_time": "2025-05-21T09:03:34.007Z"
   },
   {
    "duration": 551,
    "start_time": "2025-05-21T09:03:34.092Z"
   },
   {
    "duration": 4145,
    "start_time": "2025-05-21T09:03:34.644Z"
   },
   {
    "duration": 3,
    "start_time": "2025-05-21T09:03:38.791Z"
   },
   {
    "duration": 44227,
    "start_time": "2025-05-21T09:03:38.797Z"
   },
   {
    "duration": 25,
    "start_time": "2025-05-21T09:04:23.026Z"
   },
   {
    "duration": 12,
    "start_time": "2025-05-21T09:04:23.061Z"
   },
   {
    "duration": 28,
    "start_time": "2025-05-21T09:04:23.074Z"
   },
   {
    "duration": 15,
    "start_time": "2025-05-21T09:04:23.103Z"
   },
   {
    "duration": 511,
    "start_time": "2025-05-21T09:04:23.120Z"
   },
   {
    "duration": 484,
    "start_time": "2025-05-21T09:04:23.633Z"
   },
   {
    "duration": 15,
    "start_time": "2025-05-21T09:04:24.119Z"
   },
   {
    "duration": 3,
    "start_time": "2025-05-21T09:04:24.136Z"
   },
   {
    "duration": 59427,
    "start_time": "2025-05-21T09:04:24.140Z"
   },
   {
    "duration": 3534,
    "start_time": "2025-05-21T09:05:23.569Z"
   },
   {
    "duration": 6439,
    "start_time": "2025-05-21T09:05:27.105Z"
   },
   {
    "duration": 375,
    "start_time": "2025-05-21T09:05:33.545Z"
   },
   {
    "duration": 7320,
    "start_time": "2025-05-21T09:05:33.921Z"
   },
   {
    "duration": 1076,
    "start_time": "2025-05-21T09:05:41.243Z"
   },
   {
    "duration": 2170650,
    "start_time": "2025-05-21T09:05:42.321Z"
   },
   {
    "duration": 9,
    "start_time": "2025-05-21T09:41:52.973Z"
   },
   {
    "duration": 82,
    "start_time": "2025-05-21T09:41:52.984Z"
   },
   {
    "duration": 7606,
    "start_time": "2025-05-21T09:41:53.067Z"
   },
   {
    "duration": 4402,
    "start_time": "2025-05-21T09:42:00.675Z"
   },
   {
    "duration": 94174,
    "start_time": "2025-05-21T09:42:05.084Z"
   },
   {
    "duration": 8,
    "start_time": "2025-05-21T09:43:39.261Z"
   },
   {
    "duration": 575,
    "start_time": "2025-05-21T09:43:39.271Z"
   },
   {
    "duration": 9,
    "start_time": "2025-05-21T09:43:39.860Z"
   },
   {
    "duration": 83,
    "start_time": "2025-05-21T09:43:39.871Z"
   },
   {
    "duration": 3,
    "start_time": "2025-05-21T09:43:39.956Z"
   },
   {
    "duration": 15,
    "start_time": "2025-05-21T09:43:39.960Z"
   },
   {
    "duration": 6,
    "start_time": "2025-05-21T09:43:39.979Z"
   },
   {
    "duration": 21,
    "start_time": "2025-05-21T09:43:39.986Z"
   },
   {
    "duration": 808897,
    "start_time": "2025-05-21T09:43:40.009Z"
   },
   {
    "duration": 4,
    "start_time": "2025-05-21T09:57:08.908Z"
   },
   {
    "duration": 108,
    "start_time": "2025-05-21T09:57:08.913Z"
   },
   {
    "duration": 1659,
    "start_time": "2025-05-21T09:57:09.023Z"
   },
   {
    "duration": 338,
    "start_time": "2025-05-21T09:57:10.684Z"
   }
  ],
  "kernelspec": {
   "display_name": "Python [conda env:base] *",
   "language": "python",
   "name": "conda-base-py"
  },
  "language_info": {
   "codemirror_mode": {
    "name": "ipython",
    "version": 3
   },
   "file_extension": ".py",
   "mimetype": "text/x-python",
   "name": "python",
   "nbconvert_exporter": "python",
   "pygments_lexer": "ipython3",
   "version": "3.12.7"
  },
  "toc": {
   "base_numbering": 1,
   "nav_menu": {},
   "number_sections": true,
   "sideBar": true,
   "skip_h1_title": true,
   "title_cell": "Содержание",
   "title_sidebar": "Contents",
   "toc_cell": true,
   "toc_position": {
    "height": "calc(100% - 180px)",
    "left": "10px",
    "top": "150px",
    "width": "165px"
   },
   "toc_section_display": true,
   "toc_window_display": true
  }
 },
 "nbformat": 4,
 "nbformat_minor": 4
}
