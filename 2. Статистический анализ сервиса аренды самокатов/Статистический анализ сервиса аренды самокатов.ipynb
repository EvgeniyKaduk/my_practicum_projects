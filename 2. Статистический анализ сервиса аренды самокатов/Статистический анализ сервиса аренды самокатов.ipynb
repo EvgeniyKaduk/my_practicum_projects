{
 "cells": [
  {
   "cell_type": "markdown",
   "id": "d276483f",
   "metadata": {},
   "source": [
    "**Описание проекта**\n",
    "\n",
    "Вам передали данные сервиса аренды самокатов GoFast о некоторых пользователях из нескольких городов, а также об их поездках. Проанализируйте данные и проверьте некоторые гипотезы, которые могут помочь бизнесу вырасти.\n",
    "\n",
    "Чтобы совершать поездки по городу, пользователи сервиса GoFast пользуются мобильным приложением. Сервисом можно пользоваться:\n",
    "\n",
    "•\tбез подписки:\n",
    "\n",
    "-\tабонентская плата отсутствует;\n",
    "\n",
    "-\tстоимость одной минуты поездки — 8 рублей;\n",
    "\n",
    "-\tстоимость старта (начала поездки) — 50 рублей;\n",
    "\n",
    "•\tс подпиской Ultra:\n",
    "\n",
    "-\tабонентская плата — 199 рублей в месяц;\n",
    "\n",
    "-\tстоимость одной минуты поездки — 6 рублей;\n",
    "\n",
    "-\tстоимость старта — бесплатно.\n",
    "\n",
    "**********************************************************************                         \n",
    "\n",
    "**Описание данных**\n",
    "\n",
    "В основных данных есть информация о пользователях, их поездках и подписках.\n",
    "\n",
    "**Пользователи — `users_go.csv`**\n",
    "\n",
    "`user_id`\tуникальный идентификатор пользователя\n",
    "\n",
    "`name`\tимя пользователя\n",
    "\n",
    "`age`\tвозраст\n",
    "\n",
    "`city`\tгород\n",
    "\n",
    "`subscription_type`\tтип подписки (free, ultra)\n",
    "\n",
    "**Поездки — `rides_go.csv`**\n",
    "\n",
    "`user_id`\tуникальный идентификатор пользователя\n",
    "\n",
    "`distance`\tрасстояние, которое пользователь проехал в текущей сессии (в метрах)\n",
    "\n",
    "`duration`\tпродолжительность сессии (в минутах)\n",
    "\n",
    "`date`\tдата совершения поездки\n",
    "\n",
    "**Подписки — `subscriptions_go.csv`**\n",
    "\n",
    "`subscription_type`\tтип подписки\n",
    "\n",
    "`minute_price`\tстоимость одной минуты поездки по данной подписке\n",
    "\n",
    "`start_ride_price`\tстоимость начала поездки\n",
    "\n",
    "`subscription_fee`\tстоимость ежемесячного платежа"
   ]
  },
  {
   "cell_type": "markdown",
   "id": "6963c55d",
   "metadata": {},
   "source": [
    "<div class=\"alert alert-success\">\n",
    "<b>✔️ Комментарий ревьюера v2:</b> \n",
    "<br>Привет, рад знакомству! \n",
    "<br>Правка выполнена 👍</div>"
   ]
  },
  {
   "cell_type": "markdown",
   "id": "c42cbe00",
   "metadata": {},
   "source": [
    "## Шаг 1. Загрузка данных"
   ]
  },
  {
   "cell_type": "code",
   "execution_count": 1,
   "id": "eff9f206",
   "metadata": {},
   "outputs": [],
   "source": [
    "# импортируем все библиотеки, которые будем использовать в проекте\n",
    "import pandas as pd\n",
    "import matplotlib.pyplot as plt\n",
    "import numpy as np\n",
    "import scipy.stats as st\n",
    "from scipy.stats import binom, norm\n",
    "from math import sqrt\n",
    "\n",
    "pd.options.display.float_format ='{:,.2f}'.format\n",
    "\n",
    "users = pd.read_csv('/datasets/users_go.csv') # считываем CSV-файл с данными по пользователям сервиса и записываем в отдельный датафрейм\n",
    "rides = pd.read_csv('/datasets/rides_go.csv', parse_dates=['date']) # считываем CSV-файл с данными по поездкам пользователей сервиса и записываем в отдельный датафрейм, добавляем параметр parse_dates для столбца 'date', чтобы автоматически поменять в нём тип данных на даты\n",
    "subscriptions = pd.read_csv('/datasets/subscriptions_go.csv') # считываем CSV-файл с данными по подписками пользователей сервиса и записываем в отдельный датафрейм"
   ]
  },
  {
   "cell_type": "code",
   "execution_count": 2,
   "id": "9ab53d0f",
   "metadata": {},
   "outputs": [
    {
     "name": "stdout",
     "output_type": "stream",
     "text": [
      "\u001b[1mПользователи:\n"
     ]
    },
    {
     "data": {
      "text/html": [
       "<div>\n",
       "<style scoped>\n",
       "    .dataframe tbody tr th:only-of-type {\n",
       "        vertical-align: middle;\n",
       "    }\n",
       "\n",
       "    .dataframe tbody tr th {\n",
       "        vertical-align: top;\n",
       "    }\n",
       "\n",
       "    .dataframe thead th {\n",
       "        text-align: right;\n",
       "    }\n",
       "</style>\n",
       "<table border=\"1\" class=\"dataframe\">\n",
       "  <thead>\n",
       "    <tr style=\"text-align: right;\">\n",
       "      <th></th>\n",
       "      <th>user_id</th>\n",
       "      <th>name</th>\n",
       "      <th>age</th>\n",
       "      <th>city</th>\n",
       "      <th>subscription_type</th>\n",
       "    </tr>\n",
       "  </thead>\n",
       "  <tbody>\n",
       "    <tr>\n",
       "      <th>0</th>\n",
       "      <td>1</td>\n",
       "      <td>Кира</td>\n",
       "      <td>22</td>\n",
       "      <td>Тюмень</td>\n",
       "      <td>ultra</td>\n",
       "    </tr>\n",
       "    <tr>\n",
       "      <th>1</th>\n",
       "      <td>2</td>\n",
       "      <td>Станислав</td>\n",
       "      <td>31</td>\n",
       "      <td>Омск</td>\n",
       "      <td>ultra</td>\n",
       "    </tr>\n",
       "    <tr>\n",
       "      <th>2</th>\n",
       "      <td>3</td>\n",
       "      <td>Алексей</td>\n",
       "      <td>20</td>\n",
       "      <td>Москва</td>\n",
       "      <td>ultra</td>\n",
       "    </tr>\n",
       "    <tr>\n",
       "      <th>3</th>\n",
       "      <td>4</td>\n",
       "      <td>Константин</td>\n",
       "      <td>26</td>\n",
       "      <td>Ростов-на-Дону</td>\n",
       "      <td>ultra</td>\n",
       "    </tr>\n",
       "    <tr>\n",
       "      <th>4</th>\n",
       "      <td>5</td>\n",
       "      <td>Адель</td>\n",
       "      <td>28</td>\n",
       "      <td>Омск</td>\n",
       "      <td>ultra</td>\n",
       "    </tr>\n",
       "    <tr>\n",
       "      <th>5</th>\n",
       "      <td>6</td>\n",
       "      <td>Регина</td>\n",
       "      <td>25</td>\n",
       "      <td>Краснодар</td>\n",
       "      <td>ultra</td>\n",
       "    </tr>\n",
       "    <tr>\n",
       "      <th>6</th>\n",
       "      <td>7</td>\n",
       "      <td>Игорь</td>\n",
       "      <td>23</td>\n",
       "      <td>Омск</td>\n",
       "      <td>ultra</td>\n",
       "    </tr>\n",
       "    <tr>\n",
       "      <th>7</th>\n",
       "      <td>8</td>\n",
       "      <td>Юрий</td>\n",
       "      <td>23</td>\n",
       "      <td>Краснодар</td>\n",
       "      <td>ultra</td>\n",
       "    </tr>\n",
       "    <tr>\n",
       "      <th>8</th>\n",
       "      <td>9</td>\n",
       "      <td>Ян</td>\n",
       "      <td>21</td>\n",
       "      <td>Пятигорск</td>\n",
       "      <td>ultra</td>\n",
       "    </tr>\n",
       "    <tr>\n",
       "      <th>9</th>\n",
       "      <td>10</td>\n",
       "      <td>Валерий</td>\n",
       "      <td>18</td>\n",
       "      <td>Екатеринбург</td>\n",
       "      <td>ultra</td>\n",
       "    </tr>\n",
       "  </tbody>\n",
       "</table>\n",
       "</div>"
      ],
      "text/plain": [
       "   user_id        name  age            city subscription_type\n",
       "0        1        Кира   22          Тюмень             ultra\n",
       "1        2   Станислав   31            Омск             ultra\n",
       "2        3     Алексей   20          Москва             ultra\n",
       "3        4  Константин   26  Ростов-на-Дону             ultra\n",
       "4        5       Адель   28            Омск             ultra\n",
       "5        6      Регина   25       Краснодар             ultra\n",
       "6        7       Игорь   23            Омск             ultra\n",
       "7        8        Юрий   23       Краснодар             ultra\n",
       "8        9          Ян   21       Пятигорск             ultra\n",
       "9       10     Валерий   18    Екатеринбург             ultra"
      ]
     },
     "execution_count": 2,
     "metadata": {},
     "output_type": "execute_result"
    }
   ],
   "source": [
    "print('\\033[1m'+'Пользователи:') # выводим первые строки датафрейма с данными о пользователях сервиса\n",
    "users.head(10)"
   ]
  },
  {
   "cell_type": "code",
   "execution_count": 3,
   "id": "5b8ee948",
   "metadata": {},
   "outputs": [
    {
     "name": "stdout",
     "output_type": "stream",
     "text": [
      "\u001b[1mПоездки:\n"
     ]
    },
    {
     "data": {
      "text/html": [
       "<div>\n",
       "<style scoped>\n",
       "    .dataframe tbody tr th:only-of-type {\n",
       "        vertical-align: middle;\n",
       "    }\n",
       "\n",
       "    .dataframe tbody tr th {\n",
       "        vertical-align: top;\n",
       "    }\n",
       "\n",
       "    .dataframe thead th {\n",
       "        text-align: right;\n",
       "    }\n",
       "</style>\n",
       "<table border=\"1\" class=\"dataframe\">\n",
       "  <thead>\n",
       "    <tr style=\"text-align: right;\">\n",
       "      <th></th>\n",
       "      <th>user_id</th>\n",
       "      <th>distance</th>\n",
       "      <th>duration</th>\n",
       "      <th>date</th>\n",
       "    </tr>\n",
       "  </thead>\n",
       "  <tbody>\n",
       "    <tr>\n",
       "      <th>0</th>\n",
       "      <td>1</td>\n",
       "      <td>4,409.92</td>\n",
       "      <td>25.60</td>\n",
       "      <td>2021-01-01</td>\n",
       "    </tr>\n",
       "    <tr>\n",
       "      <th>1</th>\n",
       "      <td>1</td>\n",
       "      <td>2,617.59</td>\n",
       "      <td>15.82</td>\n",
       "      <td>2021-01-18</td>\n",
       "    </tr>\n",
       "    <tr>\n",
       "      <th>2</th>\n",
       "      <td>1</td>\n",
       "      <td>754.16</td>\n",
       "      <td>6.23</td>\n",
       "      <td>2021-04-20</td>\n",
       "    </tr>\n",
       "    <tr>\n",
       "      <th>3</th>\n",
       "      <td>1</td>\n",
       "      <td>2,694.78</td>\n",
       "      <td>18.51</td>\n",
       "      <td>2021-08-11</td>\n",
       "    </tr>\n",
       "    <tr>\n",
       "      <th>4</th>\n",
       "      <td>1</td>\n",
       "      <td>4,028.69</td>\n",
       "      <td>26.27</td>\n",
       "      <td>2021-08-28</td>\n",
       "    </tr>\n",
       "    <tr>\n",
       "      <th>5</th>\n",
       "      <td>1</td>\n",
       "      <td>2,770.89</td>\n",
       "      <td>16.65</td>\n",
       "      <td>2021-10-09</td>\n",
       "    </tr>\n",
       "    <tr>\n",
       "      <th>6</th>\n",
       "      <td>1</td>\n",
       "      <td>3,039.02</td>\n",
       "      <td>14.93</td>\n",
       "      <td>2021-10-19</td>\n",
       "    </tr>\n",
       "    <tr>\n",
       "      <th>7</th>\n",
       "      <td>1</td>\n",
       "      <td>2,842.12</td>\n",
       "      <td>23.12</td>\n",
       "      <td>2021-11-06</td>\n",
       "    </tr>\n",
       "    <tr>\n",
       "      <th>8</th>\n",
       "      <td>1</td>\n",
       "      <td>3,412.69</td>\n",
       "      <td>15.24</td>\n",
       "      <td>2021-11-14</td>\n",
       "    </tr>\n",
       "    <tr>\n",
       "      <th>9</th>\n",
       "      <td>1</td>\n",
       "      <td>748.69</td>\n",
       "      <td>15.04</td>\n",
       "      <td>2021-11-22</td>\n",
       "    </tr>\n",
       "  </tbody>\n",
       "</table>\n",
       "</div>"
      ],
      "text/plain": [
       "   user_id  distance  duration       date\n",
       "0        1  4,409.92     25.60 2021-01-01\n",
       "1        1  2,617.59     15.82 2021-01-18\n",
       "2        1    754.16      6.23 2021-04-20\n",
       "3        1  2,694.78     18.51 2021-08-11\n",
       "4        1  4,028.69     26.27 2021-08-28\n",
       "5        1  2,770.89     16.65 2021-10-09\n",
       "6        1  3,039.02     14.93 2021-10-19\n",
       "7        1  2,842.12     23.12 2021-11-06\n",
       "8        1  3,412.69     15.24 2021-11-14\n",
       "9        1    748.69     15.04 2021-11-22"
      ]
     },
     "execution_count": 3,
     "metadata": {},
     "output_type": "execute_result"
    }
   ],
   "source": [
    "print('\\033[1m'+'Поездки:') # выводим первые строки датафрейма с данными о поездках пользователей сервиса\n",
    "rides.head(10)"
   ]
  },
  {
   "cell_type": "code",
   "execution_count": 4,
   "id": "9db70f76",
   "metadata": {},
   "outputs": [
    {
     "name": "stdout",
     "output_type": "stream",
     "text": [
      "\u001b[1mПодписки:\n"
     ]
    },
    {
     "data": {
      "text/html": [
       "<div>\n",
       "<style scoped>\n",
       "    .dataframe tbody tr th:only-of-type {\n",
       "        vertical-align: middle;\n",
       "    }\n",
       "\n",
       "    .dataframe tbody tr th {\n",
       "        vertical-align: top;\n",
       "    }\n",
       "\n",
       "    .dataframe thead th {\n",
       "        text-align: right;\n",
       "    }\n",
       "</style>\n",
       "<table border=\"1\" class=\"dataframe\">\n",
       "  <thead>\n",
       "    <tr style=\"text-align: right;\">\n",
       "      <th></th>\n",
       "      <th>subscription_type</th>\n",
       "      <th>minute_price</th>\n",
       "      <th>start_ride_price</th>\n",
       "      <th>subscription_fee</th>\n",
       "    </tr>\n",
       "  </thead>\n",
       "  <tbody>\n",
       "    <tr>\n",
       "      <th>0</th>\n",
       "      <td>free</td>\n",
       "      <td>8</td>\n",
       "      <td>50</td>\n",
       "      <td>0</td>\n",
       "    </tr>\n",
       "    <tr>\n",
       "      <th>1</th>\n",
       "      <td>ultra</td>\n",
       "      <td>6</td>\n",
       "      <td>0</td>\n",
       "      <td>199</td>\n",
       "    </tr>\n",
       "  </tbody>\n",
       "</table>\n",
       "</div>"
      ],
      "text/plain": [
       "  subscription_type  minute_price  start_ride_price  subscription_fee\n",
       "0              free             8                50                 0\n",
       "1             ultra             6                 0               199"
      ]
     },
     "execution_count": 4,
     "metadata": {},
     "output_type": "execute_result"
    }
   ],
   "source": [
    "print('\\033[1m'+'Подписки:') # выводим первые строки датафрейма с данными о подписках пользователей сервиса\n",
    "subscriptions.head(10)"
   ]
  },
  {
   "cell_type": "markdown",
   "id": "af115ec4",
   "metadata": {},
   "source": [
    "**Вывод:**\n",
    "\n",
    "Мы видим, что первые два датафрейма имеют общий столбец 'user_id', по которому их можно при необходимости объединить в один датафрейм. Второй датафрейм содержит детальную информацию по каждой отдельной поездке, и мы видим, что у каждого отдельного пользователя может быть несколько поездок. Первый и третий датафреймы связаны вместе столбцом 'subscription_type', по которому также возможно сделать объединение датафреймов. Третий датафрейм состоит всего из двух строк и раскрывает дополнительную информацию по каждому типу подписки. "
   ]
  },
  {
   "cell_type": "markdown",
   "id": "e95ebca7",
   "metadata": {},
   "source": [
    "## Шаг 2. Предобработка данных"
   ]
  },
  {
   "cell_type": "code",
   "execution_count": 5,
   "id": "af6d202c",
   "metadata": {},
   "outputs": [
    {
     "name": "stdout",
     "output_type": "stream",
     "text": [
      "<class 'pandas.core.frame.DataFrame'>\n",
      "RangeIndex: 1565 entries, 0 to 1564\n",
      "Data columns (total 5 columns):\n",
      " #   Column             Non-Null Count  Dtype \n",
      "---  ------             --------------  ----- \n",
      " 0   user_id            1565 non-null   int64 \n",
      " 1   name               1565 non-null   object\n",
      " 2   age                1565 non-null   int64 \n",
      " 3   city               1565 non-null   object\n",
      " 4   subscription_type  1565 non-null   object\n",
      "dtypes: int64(2), object(3)\n",
      "memory usage: 61.3+ KB\n"
     ]
    }
   ],
   "source": [
    "users.info() # посмотрим общую информацию по таблице 'users'"
   ]
  },
  {
   "cell_type": "code",
   "execution_count": 6,
   "id": "f7525988",
   "metadata": {},
   "outputs": [
    {
     "name": "stdout",
     "output_type": "stream",
     "text": [
      "<class 'pandas.core.frame.DataFrame'>\n",
      "RangeIndex: 18068 entries, 0 to 18067\n",
      "Data columns (total 4 columns):\n",
      " #   Column    Non-Null Count  Dtype         \n",
      "---  ------    --------------  -----         \n",
      " 0   user_id   18068 non-null  int64         \n",
      " 1   distance  18068 non-null  float64       \n",
      " 2   duration  18068 non-null  float64       \n",
      " 3   date      18068 non-null  datetime64[ns]\n",
      "dtypes: datetime64[ns](1), float64(2), int64(1)\n",
      "memory usage: 564.8 KB\n"
     ]
    }
   ],
   "source": [
    "rides.info() # посмотрим общую информацию по таблице 'rides'"
   ]
  },
  {
   "cell_type": "code",
   "execution_count": 7,
   "id": "bc2564ee",
   "metadata": {},
   "outputs": [
    {
     "name": "stdout",
     "output_type": "stream",
     "text": [
      "<class 'pandas.core.frame.DataFrame'>\n",
      "RangeIndex: 2 entries, 0 to 1\n",
      "Data columns (total 4 columns):\n",
      " #   Column             Non-Null Count  Dtype \n",
      "---  ------             --------------  ----- \n",
      " 0   subscription_type  2 non-null      object\n",
      " 1   minute_price       2 non-null      int64 \n",
      " 2   start_ride_price   2 non-null      int64 \n",
      " 3   subscription_fee   2 non-null      int64 \n",
      "dtypes: int64(3), object(1)\n",
      "memory usage: 192.0+ bytes\n"
     ]
    }
   ],
   "source": [
    "subscriptions.info() # посмотрим общую информацию по таблице 'subscriptions'"
   ]
  },
  {
   "cell_type": "markdown",
   "id": "0f567b5f",
   "metadata": {},
   "source": [
    "По общей информации, выведенной методом info() проверяем тип данных по всем столбцам во всех 3-х датафреймах. Мы видим, что тип данных по всем столбцам верный, исправление не требуется. Тип данных по столбцу 'date' в таблице 'rides' мы настроили на автоматаическое исправление при загрузке данных. "
   ]
  },
  {
   "cell_type": "code",
   "execution_count": 8,
   "id": "4866bbf4",
   "metadata": {},
   "outputs": [
    {
     "data": {
      "text/html": [
       "<div>\n",
       "<style scoped>\n",
       "    .dataframe tbody tr th:only-of-type {\n",
       "        vertical-align: middle;\n",
       "    }\n",
       "\n",
       "    .dataframe tbody tr th {\n",
       "        vertical-align: top;\n",
       "    }\n",
       "\n",
       "    .dataframe thead th {\n",
       "        text-align: right;\n",
       "    }\n",
       "</style>\n",
       "<table border=\"1\" class=\"dataframe\">\n",
       "  <thead>\n",
       "    <tr style=\"text-align: right;\">\n",
       "      <th></th>\n",
       "      <th>user_id</th>\n",
       "      <th>distance</th>\n",
       "      <th>duration</th>\n",
       "      <th>date</th>\n",
       "      <th>month_date</th>\n",
       "    </tr>\n",
       "  </thead>\n",
       "  <tbody>\n",
       "    <tr>\n",
       "      <th>0</th>\n",
       "      <td>1</td>\n",
       "      <td>4,409.92</td>\n",
       "      <td>25.60</td>\n",
       "      <td>2021-01-01</td>\n",
       "      <td>1</td>\n",
       "    </tr>\n",
       "    <tr>\n",
       "      <th>1</th>\n",
       "      <td>1</td>\n",
       "      <td>2,617.59</td>\n",
       "      <td>15.82</td>\n",
       "      <td>2021-01-18</td>\n",
       "      <td>1</td>\n",
       "    </tr>\n",
       "    <tr>\n",
       "      <th>2</th>\n",
       "      <td>1</td>\n",
       "      <td>754.16</td>\n",
       "      <td>6.23</td>\n",
       "      <td>2021-04-20</td>\n",
       "      <td>4</td>\n",
       "    </tr>\n",
       "    <tr>\n",
       "      <th>3</th>\n",
       "      <td>1</td>\n",
       "      <td>2,694.78</td>\n",
       "      <td>18.51</td>\n",
       "      <td>2021-08-11</td>\n",
       "      <td>8</td>\n",
       "    </tr>\n",
       "    <tr>\n",
       "      <th>4</th>\n",
       "      <td>1</td>\n",
       "      <td>4,028.69</td>\n",
       "      <td>26.27</td>\n",
       "      <td>2021-08-28</td>\n",
       "      <td>8</td>\n",
       "    </tr>\n",
       "    <tr>\n",
       "      <th>5</th>\n",
       "      <td>1</td>\n",
       "      <td>2,770.89</td>\n",
       "      <td>16.65</td>\n",
       "      <td>2021-10-09</td>\n",
       "      <td>10</td>\n",
       "    </tr>\n",
       "    <tr>\n",
       "      <th>6</th>\n",
       "      <td>1</td>\n",
       "      <td>3,039.02</td>\n",
       "      <td>14.93</td>\n",
       "      <td>2021-10-19</td>\n",
       "      <td>10</td>\n",
       "    </tr>\n",
       "    <tr>\n",
       "      <th>7</th>\n",
       "      <td>1</td>\n",
       "      <td>2,842.12</td>\n",
       "      <td>23.12</td>\n",
       "      <td>2021-11-06</td>\n",
       "      <td>11</td>\n",
       "    </tr>\n",
       "    <tr>\n",
       "      <th>8</th>\n",
       "      <td>1</td>\n",
       "      <td>3,412.69</td>\n",
       "      <td>15.24</td>\n",
       "      <td>2021-11-14</td>\n",
       "      <td>11</td>\n",
       "    </tr>\n",
       "    <tr>\n",
       "      <th>9</th>\n",
       "      <td>1</td>\n",
       "      <td>748.69</td>\n",
       "      <td>15.04</td>\n",
       "      <td>2021-11-22</td>\n",
       "      <td>11</td>\n",
       "    </tr>\n",
       "  </tbody>\n",
       "</table>\n",
       "</div>"
      ],
      "text/plain": [
       "   user_id  distance  duration       date  month_date\n",
       "0        1  4,409.92     25.60 2021-01-01           1\n",
       "1        1  2,617.59     15.82 2021-01-18           1\n",
       "2        1    754.16      6.23 2021-04-20           4\n",
       "3        1  2,694.78     18.51 2021-08-11           8\n",
       "4        1  4,028.69     26.27 2021-08-28           8\n",
       "5        1  2,770.89     16.65 2021-10-09          10\n",
       "6        1  3,039.02     14.93 2021-10-19          10\n",
       "7        1  2,842.12     23.12 2021-11-06          11\n",
       "8        1  3,412.69     15.24 2021-11-14          11\n",
       "9        1    748.69     15.04 2021-11-22          11"
      ]
     },
     "execution_count": 8,
     "metadata": {},
     "output_type": "execute_result"
    }
   ],
   "source": [
    "rides['month_date'] = rides['date'].dt.month # создаем новый столбец с номерами месяца\n",
    "rides.head(10) # вывод первых строк датафрейма, чтобы убедиться, что столбец добавлен верно"
   ]
  },
  {
   "cell_type": "code",
   "execution_count": 9,
   "id": "f5cd30be",
   "metadata": {},
   "outputs": [
    {
     "name": "stdout",
     "output_type": "stream",
     "text": [
      "31\n",
      "31\n"
     ]
    },
    {
     "data": {
      "text/plain": [
       "209     2\n",
       "807     2\n",
       "611     2\n",
       "43      2\n",
       "737     2\n",
       "47      2\n",
       "1198    2\n",
       "829     2\n",
       "924     2\n",
       "153     2\n",
       "Name: user_id, dtype: int64"
      ]
     },
     "execution_count": 9,
     "metadata": {},
     "output_type": "execute_result"
    }
   ],
   "source": [
    "print(users.duplicated().sum()) # проверяем, есть ли дублирующие строки в датафрейме и считаем их кол-во\n",
    "print(users['user_id'].duplicated().sum()) # Проверяем, есть ли дубли по 'user_id' и считаем их кол-во. Видим, что кол-во дублей по строкам равно кол-ву дублей в столбце 'user_id', т.е. все дубли содержатся там \n",
    "users['user_id'].value_counts().head(10) # посмотрим верхние строки по дублям в 'user_id'"
   ]
  },
  {
   "cell_type": "code",
   "execution_count": 10,
   "id": "e720fb19",
   "metadata": {},
   "outputs": [],
   "source": [
    "users = users.drop_duplicates().reset_index(drop=True) # удаляем дубли в датафрейме 'users', обновляем индексы строк"
   ]
  },
  {
   "cell_type": "code",
   "execution_count": 11,
   "id": "a9d8bc71",
   "metadata": {},
   "outputs": [
    {
     "data": {
      "text/plain": [
       "0"
      ]
     },
     "execution_count": 11,
     "metadata": {},
     "output_type": "execute_result"
    }
   ],
   "source": [
    "rides.duplicated().sum() # проверка на наличие дублей после удаления, дублей больше нет"
   ]
  },
  {
   "cell_type": "markdown",
   "id": "a6434db4",
   "metadata": {},
   "source": [
    "**Вывод:**\n",
    "\n",
    "Мы вывели общую информацию по каждому датафрейму и убедились, что в данных нет пропусков. Это сильно облегчает задачу преобработки данных. Мы проверили тип данных по стоблцам и убедились, что по всем столбцам тип данных верный, т.е. дальнейших проблем при анализе не возникнет. Затем мы добавили один столбец 'month_date' в датафрейм 'rides', в котором поместили номера месяцев из столбца с датами 'date' (1 - январь, 2 - февраль, ... 12 - декабрь). Проверка наличия длубликатов показала наличие 31-го дубля в строках датафрейма 'users'. Эти строки можно смело удалять. После очистки датафрейма от дублей преобработка данных закончена."
   ]
  },
  {
   "cell_type": "markdown",
   "id": "212593c7",
   "metadata": {},
   "source": [
    "## Шаг 3. Исследовательский анализ данных"
   ]
  },
  {
   "cell_type": "markdown",
   "id": "2c74db13",
   "metadata": {},
   "source": [
    "Опишем  и визуализируем общую информацию о пользователях и поездках:\n",
    "\n",
    "3.1 частота встречаемости городов;\n",
    "\n",
    "3.2 соотношение пользователей с подпиской и без подписки;\n",
    "\n",
    "3.3 возраст пользователей;\n",
    "\n",
    "3.4 расстояние, которое пользователь преодолел за одну поездку;\n",
    "\n",
    "3.5 продолжительность поездок.\n"
   ]
  },
  {
   "cell_type": "code",
   "execution_count": 12,
   "id": "e3a4274c",
   "metadata": {},
   "outputs": [
    {
     "name": "stdout",
     "output_type": "stream",
     "text": [
      "Пятигорск         219\n",
      "Екатеринбург      204\n",
      "Ростов-на-Дону    198\n",
      "Краснодар         193\n",
      "Сочи              189\n",
      "Омск              183\n",
      "Тюмень            180\n",
      "Москва            168\n",
      "Name: city, dtype: int64\n"
     ]
    },
    {
     "data": {
      "text/plain": [
       "Text(0, 0.5, 'частоты')"
      ]
     },
     "execution_count": 12,
     "metadata": {},
     "output_type": "execute_result"
    },
    {
     "data": {
      "image/png": "[encoded data removed]",
      "text/plain": [
       "<Figure size 504x360 with 1 Axes>"
      ]
     },
     "metadata": {
      "needs_background": "light"
     },
     "output_type": "display_data"
    }
   ],
   "source": [
    "print(users['city'].value_counts()) # выводим список частот городов по всем пользователям в датафрейме 'users' в порядке убывания частоты\n",
    "users['city'].hist(figsize = (7, 5), bins = 15, xlabelsize = 10, xrot = 90) # выводим гистограмму частот городов по датафрейму 'users'\n",
    "plt.title('Распределение пользователей сервиса GoFast по городам')\n",
    "plt.xlabel('города')\n",
    "plt.ylabel('частоты')\n"
   ]
  },
  {
   "cell_type": "code",
   "execution_count": 13,
   "id": "f0eaaa4a",
   "metadata": {},
   "outputs": [
    {
     "name": "stdout",
     "output_type": "stream",
     "text": [
      "count     1534\n",
      "unique       2\n",
      "top       free\n",
      "freq       835\n",
      "Name: subscription_type, dtype: object\n"
     ]
    },
    {
     "data": {
      "text/plain": [
       "Text(0.5, 1.0, 'Соотношение пользователей сервиса GoFast с подпиской и без подписки')"
      ]
     },
     "execution_count": 13,
     "metadata": {},
     "output_type": "execute_result"
    },
    {
     "data": {
      "image/png": "[encoded data removed]",
      "text/plain": [
       "<Figure size 504x360 with 1 Axes>"
      ]
     },
     "metadata": {},
     "output_type": "display_data"
    }
   ],
   "source": [
    "print(users['subscription_type'].describe()) # посмтрим распределение пользователей с подпиской и без, видим что пользователей без подписки немного больше\n",
    "\n",
    "users['subscription_type'].value_counts().plot(figsize = (7, 5),kind = 'pie', legend=True, ylabel = 'тип подписки', labels = ['без подписки', 'с подпиской Ultra'], autopct='%1.1f%%') # выводим круговую диаграмму с долями пользователей с подпиской и без\n",
    "plt.title('Соотношение пользователей сервиса GoFast с подпиской и без подписки')"
   ]
  },
  {
   "cell_type": "code",
   "execution_count": 14,
   "id": "676c0973",
   "metadata": {},
   "outputs": [
    {
     "name": "stdout",
     "output_type": "stream",
     "text": [
      "count   1,534.00\n",
      "mean       24.90\n",
      "std         4.57\n",
      "min        12.00\n",
      "25%        22.00\n",
      "50%        25.00\n",
      "75%        28.00\n",
      "max        43.00\n",
      "Name: age, dtype: float64\n"
     ]
    },
    {
     "data": {
      "text/plain": [
       "Text(0, 0.5, 'частоты')"
      ]
     },
     "execution_count": 14,
     "metadata": {},
     "output_type": "execute_result"
    },
    {
     "data": {
      "image/png": "[encoded data removed]",
      "text/plain": [
       "<Figure size 504x360 with 1 Axes>"
      ]
     },
     "metadata": {
      "needs_background": "light"
     },
     "output_type": "display_data"
    }
   ],
   "source": [
    "print(users['age'].describe()) # выведем данные по возрасту пользователей, медианный возраст - 25 лет, а 75% пользователей не старше 28 лет\n",
    "users['age'].hist(figsize = (7, 5), bins = 15) # посмотрим распределение пользователей по возрасту на гистограмме\n",
    "plt.title('Распределение пользователей сервиса GoFast по возрасту')\n",
    "plt.xlabel('возраст')\n",
    "plt.ylabel('частоты')"
   ]
  },
  {
   "cell_type": "code",
   "execution_count": 15,
   "id": "92ebe5f3",
   "metadata": {},
   "outputs": [
    {
     "name": "stdout",
     "output_type": "stream",
     "text": [
      "count   18,068.00\n",
      "mean     3,070.66\n",
      "std      1,116.83\n",
      "min          0.86\n",
      "25%      2,543.23\n",
      "50%      3,133.61\n",
      "75%      3,776.22\n",
      "max      7,211.01\n",
      "Name: distance, dtype: float64\n"
     ]
    },
    {
     "data": {
      "text/plain": [
       "Text(0.5, 0, 'расстояние одной поездки в метрах')"
      ]
     },
     "execution_count": 15,
     "metadata": {},
     "output_type": "execute_result"
    },
    {
     "data": {
      "image/png": "[encoded data removed]",
      "text/plain": [
       "<Figure size 504x360 with 1 Axes>"
      ]
     },
     "metadata": {
      "needs_background": "light"
     },
     "output_type": "display_data"
    }
   ],
   "source": [
    "print(rides['distance'].describe()) # посмотрим информацию по распределению расстояний одной поездки, которые проезжали пользователи самокатов. Медианное значение - 3133 м \n",
    "rides['distance'].hist(figsize = (7, 5), bins = 20) # посмотрим частотное распределение расстояний одной поездки на гистограмме\n",
    "plt.title('Распределение расстояний, которые пользователь преодолел за одну поездку')\n",
    "plt.ylabel('частоты')\n",
    "plt.xlabel('расстояние одной поездки в метрах')"
   ]
  },
  {
   "cell_type": "code",
   "execution_count": 16,
   "id": "34bb7072",
   "metadata": {},
   "outputs": [
    {
     "name": "stdout",
     "output_type": "stream",
     "text": [
      "count   18,068.00\n",
      "mean        17.81\n",
      "std          6.09\n",
      "min          0.50\n",
      "25%         13.60\n",
      "50%         17.68\n",
      "75%         21.72\n",
      "max         40.82\n",
      "Name: duration, dtype: float64\n"
     ]
    },
    {
     "data": {
      "text/plain": [
       "Text(0.5, 0, 'продолжительность одной поездки в минутах')"
      ]
     },
     "execution_count": 16,
     "metadata": {},
     "output_type": "execute_result"
    },
    {
     "data": {
      "image/png": "[encoded data removed]",
      "text/plain": [
       "<Figure size 504x360 with 1 Axes>"
      ]
     },
     "metadata": {
      "needs_background": "light"
     },
     "output_type": "display_data"
    }
   ],
   "source": [
    "print(rides['duration'].describe()) # выведем информацию по распределению частот продолжительности одной поездки по всем пользователям. Медианное значение - 17,7 мин.\n",
    "rides['duration'].hist(figsize = (7, 5), bins = 20) # посмотрим распределение продолжительности поездок на гистограмме\n",
    "plt.title('Распределение продолжительностей поездок')\n",
    "plt.ylabel('частоты')\n",
    "plt.xlabel('продолжительность одной поездки в минутах')"
   ]
  },
  {
   "cell_type": "markdown",
   "id": "07a618d2",
   "metadata": {},
   "source": [
    "**Вывод:**\n",
    "\n",
    "Данные по городам показывают незначительные расхождения кол-ва пользователей по каждому из 8 городов в базе. Из каждого города в выборке от 168 до 219 пользователей. Такую выборку можно считать репрезентативной. Кол-во пользователей с подпиской заметно меньше кол-ва пользователей без подписки: 699 (45,6%) против 835 (54,4%).\n",
    "\n",
    "Данные показывают, что медианный и средний возраст пользователей самокатами - 25 лет. И также у 75% пользователей возраст находится в пределах 28 лет. Минимальный возраст - 12 лет, а максимальный - 43. Гистограмма имеет форму близкую к нормальному распределению, с вершиной в 25 лет. Можно уверенно сказать, что самокатами преимущественно пользуются взрослые молодые люди.\n",
    "\n",
    "Распределение частот расстояний одной поездки тоже близко к нормальному, однако кроме того мы видим наличие небольшого пика в районе 500 м. Вероятно такие короткие поездки связаны с тем, что пользователи могли первый раз ехать на самокате: им не понравилось, они не разобрались, как управлять самокатом, как вносить оплату за поездку. Медианное значение расстояния одной поездки - 3134 м. А 75% поездок укладываются в 3766 метров. Самая короткая поездка меньше 1 метра, а самая длинная - 7211 метров.\n",
    "\n",
    "Распределение частот продолжительности одной поездки близко к нормальному. Медтианное значение продолжительности одной поездки составляет 17,7 минут, а 75% всех поездок находится в пределах 21,7 минут. Самая короткая поездка - полминуты, а самая продолжительная - 40,8 минут."
   ]
  },
  {
   "cell_type": "markdown",
   "id": "4ef51331",
   "metadata": {},
   "source": [
    "## Шаг 4. Объединение данных"
   ]
  },
  {
   "cell_type": "markdown",
   "id": "d6b0c7df",
   "metadata": {},
   "source": [
    "4.1 Объединим данные о пользователях, поездках и подписках в один датафрейм.\n",
    "\n",
    "4.2 Создадим ещё два датафрейма из датафрейма, созданного на этапе 4.1:\n",
    "\n",
    "•\tc данными о пользователях без подписки;\n",
    "\n",
    "•\tс данными о пользователях с подпиской.\n",
    "\n",
    "4.3 Визуализируем информацию о расстоянии и времени поездок для пользователей обеих категорий.\n"
   ]
  },
  {
   "cell_type": "code",
   "execution_count": 17,
   "id": "6bf288b5",
   "metadata": {},
   "outputs": [
    {
     "data": {
      "text/html": [
       "<div>\n",
       "<style scoped>\n",
       "    .dataframe tbody tr th:only-of-type {\n",
       "        vertical-align: middle;\n",
       "    }\n",
       "\n",
       "    .dataframe tbody tr th {\n",
       "        vertical-align: top;\n",
       "    }\n",
       "\n",
       "    .dataframe thead th {\n",
       "        text-align: right;\n",
       "    }\n",
       "</style>\n",
       "<table border=\"1\" class=\"dataframe\">\n",
       "  <thead>\n",
       "    <tr style=\"text-align: right;\">\n",
       "      <th></th>\n",
       "      <th>user_id</th>\n",
       "      <th>distance</th>\n",
       "      <th>duration</th>\n",
       "      <th>date</th>\n",
       "      <th>month_date</th>\n",
       "      <th>name</th>\n",
       "      <th>age</th>\n",
       "      <th>city</th>\n",
       "      <th>subscription_type</th>\n",
       "      <th>minute_price</th>\n",
       "      <th>start_ride_price</th>\n",
       "      <th>subscription_fee</th>\n",
       "    </tr>\n",
       "  </thead>\n",
       "  <tbody>\n",
       "    <tr>\n",
       "      <th>0</th>\n",
       "      <td>1</td>\n",
       "      <td>4,409.92</td>\n",
       "      <td>25.60</td>\n",
       "      <td>2021-01-01</td>\n",
       "      <td>1</td>\n",
       "      <td>Кира</td>\n",
       "      <td>22</td>\n",
       "      <td>Тюмень</td>\n",
       "      <td>ultra</td>\n",
       "      <td>6</td>\n",
       "      <td>0</td>\n",
       "      <td>199</td>\n",
       "    </tr>\n",
       "    <tr>\n",
       "      <th>1</th>\n",
       "      <td>1</td>\n",
       "      <td>2,617.59</td>\n",
       "      <td>15.82</td>\n",
       "      <td>2021-01-18</td>\n",
       "      <td>1</td>\n",
       "      <td>Кира</td>\n",
       "      <td>22</td>\n",
       "      <td>Тюмень</td>\n",
       "      <td>ultra</td>\n",
       "      <td>6</td>\n",
       "      <td>0</td>\n",
       "      <td>199</td>\n",
       "    </tr>\n",
       "    <tr>\n",
       "      <th>2</th>\n",
       "      <td>1</td>\n",
       "      <td>754.16</td>\n",
       "      <td>6.23</td>\n",
       "      <td>2021-04-20</td>\n",
       "      <td>4</td>\n",
       "      <td>Кира</td>\n",
       "      <td>22</td>\n",
       "      <td>Тюмень</td>\n",
       "      <td>ultra</td>\n",
       "      <td>6</td>\n",
       "      <td>0</td>\n",
       "      <td>199</td>\n",
       "    </tr>\n",
       "    <tr>\n",
       "      <th>3</th>\n",
       "      <td>1</td>\n",
       "      <td>2,694.78</td>\n",
       "      <td>18.51</td>\n",
       "      <td>2021-08-11</td>\n",
       "      <td>8</td>\n",
       "      <td>Кира</td>\n",
       "      <td>22</td>\n",
       "      <td>Тюмень</td>\n",
       "      <td>ultra</td>\n",
       "      <td>6</td>\n",
       "      <td>0</td>\n",
       "      <td>199</td>\n",
       "    </tr>\n",
       "    <tr>\n",
       "      <th>4</th>\n",
       "      <td>1</td>\n",
       "      <td>4,028.69</td>\n",
       "      <td>26.27</td>\n",
       "      <td>2021-08-28</td>\n",
       "      <td>8</td>\n",
       "      <td>Кира</td>\n",
       "      <td>22</td>\n",
       "      <td>Тюмень</td>\n",
       "      <td>ultra</td>\n",
       "      <td>6</td>\n",
       "      <td>0</td>\n",
       "      <td>199</td>\n",
       "    </tr>\n",
       "    <tr>\n",
       "      <th>5</th>\n",
       "      <td>1</td>\n",
       "      <td>2,770.89</td>\n",
       "      <td>16.65</td>\n",
       "      <td>2021-10-09</td>\n",
       "      <td>10</td>\n",
       "      <td>Кира</td>\n",
       "      <td>22</td>\n",
       "      <td>Тюмень</td>\n",
       "      <td>ultra</td>\n",
       "      <td>6</td>\n",
       "      <td>0</td>\n",
       "      <td>199</td>\n",
       "    </tr>\n",
       "    <tr>\n",
       "      <th>6</th>\n",
       "      <td>1</td>\n",
       "      <td>3,039.02</td>\n",
       "      <td>14.93</td>\n",
       "      <td>2021-10-19</td>\n",
       "      <td>10</td>\n",
       "      <td>Кира</td>\n",
       "      <td>22</td>\n",
       "      <td>Тюмень</td>\n",
       "      <td>ultra</td>\n",
       "      <td>6</td>\n",
       "      <td>0</td>\n",
       "      <td>199</td>\n",
       "    </tr>\n",
       "    <tr>\n",
       "      <th>7</th>\n",
       "      <td>1</td>\n",
       "      <td>2,842.12</td>\n",
       "      <td>23.12</td>\n",
       "      <td>2021-11-06</td>\n",
       "      <td>11</td>\n",
       "      <td>Кира</td>\n",
       "      <td>22</td>\n",
       "      <td>Тюмень</td>\n",
       "      <td>ultra</td>\n",
       "      <td>6</td>\n",
       "      <td>0</td>\n",
       "      <td>199</td>\n",
       "    </tr>\n",
       "    <tr>\n",
       "      <th>8</th>\n",
       "      <td>1</td>\n",
       "      <td>3,412.69</td>\n",
       "      <td>15.24</td>\n",
       "      <td>2021-11-14</td>\n",
       "      <td>11</td>\n",
       "      <td>Кира</td>\n",
       "      <td>22</td>\n",
       "      <td>Тюмень</td>\n",
       "      <td>ultra</td>\n",
       "      <td>6</td>\n",
       "      <td>0</td>\n",
       "      <td>199</td>\n",
       "    </tr>\n",
       "    <tr>\n",
       "      <th>9</th>\n",
       "      <td>1</td>\n",
       "      <td>748.69</td>\n",
       "      <td>15.04</td>\n",
       "      <td>2021-11-22</td>\n",
       "      <td>11</td>\n",
       "      <td>Кира</td>\n",
       "      <td>22</td>\n",
       "      <td>Тюмень</td>\n",
       "      <td>ultra</td>\n",
       "      <td>6</td>\n",
       "      <td>0</td>\n",
       "      <td>199</td>\n",
       "    </tr>\n",
       "  </tbody>\n",
       "</table>\n",
       "</div>"
      ],
      "text/plain": [
       "   user_id  distance  duration       date  month_date  name  age    city  \\\n",
       "0        1  4,409.92     25.60 2021-01-01           1  Кира   22  Тюмень   \n",
       "1        1  2,617.59     15.82 2021-01-18           1  Кира   22  Тюмень   \n",
       "2        1    754.16      6.23 2021-04-20           4  Кира   22  Тюмень   \n",
       "3        1  2,694.78     18.51 2021-08-11           8  Кира   22  Тюмень   \n",
       "4        1  4,028.69     26.27 2021-08-28           8  Кира   22  Тюмень   \n",
       "5        1  2,770.89     16.65 2021-10-09          10  Кира   22  Тюмень   \n",
       "6        1  3,039.02     14.93 2021-10-19          10  Кира   22  Тюмень   \n",
       "7        1  2,842.12     23.12 2021-11-06          11  Кира   22  Тюмень   \n",
       "8        1  3,412.69     15.24 2021-11-14          11  Кира   22  Тюмень   \n",
       "9        1    748.69     15.04 2021-11-22          11  Кира   22  Тюмень   \n",
       "\n",
       "  subscription_type  minute_price  start_ride_price  subscription_fee  \n",
       "0             ultra             6                 0               199  \n",
       "1             ultra             6                 0               199  \n",
       "2             ultra             6                 0               199  \n",
       "3             ultra             6                 0               199  \n",
       "4             ultra             6                 0               199  \n",
       "5             ultra             6                 0               199  \n",
       "6             ultra             6                 0               199  \n",
       "7             ultra             6                 0               199  \n",
       "8             ultra             6                 0               199  \n",
       "9             ultra             6                 0               199  "
      ]
     },
     "execution_count": 17,
     "metadata": {},
     "output_type": "execute_result"
    }
   ],
   "source": [
    "rides_data = rides.merge(users, on = 'user_id') # сначала объединим первый и второй датафрейм\n",
    "\n",
    "all_data = rides_data.merge(subscriptions, on = 'subscription_type') # затем к получившемуся датафрейму добавим третий датафрейм\n",
    "all_data.head(10) # выведем первые 10 строк получившегося датафрейма"
   ]
  },
  {
   "cell_type": "code",
   "execution_count": 18,
   "id": "627814c9",
   "metadata": {},
   "outputs": [],
   "source": [
    "free_rides = all_data.query('subscription_type == \"free\"') # создадим отдельную таблицу по пользователям без подписки\n",
    "ultra_rides = all_data.query('subscription_type == \"ultra\"') # создадим отдельную таблицу по пользователям с подпиской"
   ]
  },
  {
   "cell_type": "code",
   "execution_count": 19,
   "id": "3fb7ea57",
   "metadata": {},
   "outputs": [
    {
     "data": {
      "text/plain": [
       "count   11,568.00\n",
       "mean     3,045.50\n",
       "std      1,246.17\n",
       "min          0.86\n",
       "25%      2,366.56\n",
       "50%      3,114.65\n",
       "75%      3,905.70\n",
       "max      7,211.01\n",
       "Name: distance, dtype: float64"
      ]
     },
     "execution_count": 19,
     "metadata": {},
     "output_type": "execute_result"
    }
   ],
   "source": [
    "free_rides['distance'].describe() # посмотрим распределение значений расстояний одной поездки в таблице по пользователям без подписки"
   ]
  },
  {
   "cell_type": "code",
   "execution_count": 20,
   "id": "44e34a06",
   "metadata": {},
   "outputs": [
    {
     "data": {
      "text/plain": [
       "count   6,500.00\n",
       "mean    3,115.45\n",
       "std       836.90\n",
       "min       244.21\n",
       "25%     2,785.44\n",
       "50%     3,148.64\n",
       "75%     3,560.57\n",
       "max     5,699.77\n",
       "Name: distance, dtype: float64"
      ]
     },
     "execution_count": 20,
     "metadata": {},
     "output_type": "execute_result"
    }
   ],
   "source": [
    "ultra_rides['distance'].describe() # посмотрим распределение значений расстояний одной поездки в таблице по пользователям с подпиской"
   ]
  },
  {
   "cell_type": "code",
   "execution_count": 21,
   "id": "fe96970c",
   "metadata": {},
   "outputs": [
    {
     "data": {
      "text/plain": [
       "Text(0, 0.5, 'частоты')"
      ]
     },
     "execution_count": 21,
     "metadata": {},
     "output_type": "execute_result"
    },
    {
     "data": {
      "image/png": "[encoded data removed]",
      "text/plain": [
       "<Figure size 504x360 with 1 Axes>"
      ]
     },
     "metadata": {
      "needs_background": "light"
     },
     "output_type": "display_data"
    }
   ],
   "source": [
    "# отразим распределение значений расстояний одной поездки для пользователей без подписки на гистограмме\n",
    "ax = free_rides['distance'].plot(kind = 'hist', histtype='step', grid = True, bins = 15, figsize = (7, 5),\\\n",
    "     title = 'Распределение расстояний, которые пользователь преодолел за одну поездку', linewidth=5, alpha = 0.7,\\\n",
    "     label = 'пользователи без подписки', legend=True)\n",
    "\n",
    "# отразим распределение значений расстояний одной поездки для пользователей с подпиской на гистограмме рядом\n",
    "ultra_rides['distance'].plot(kind = 'hist', histtype='step', grid = True, bins = 15, figsize = (7, 5),\\\n",
    "                             linewidth=5, alpha = 0.7, ax=ax, label = 'пользователи с подпиской', legend=True) \n",
    "\n",
    "plt.xlabel('расстояние одной поездки в метрах')\n",
    "plt.ylabel('частоты')"
   ]
  },
  {
   "cell_type": "code",
   "execution_count": 22,
   "id": "31f4b9e6",
   "metadata": {},
   "outputs": [
    {
     "data": {
      "text/plain": [
       "count   11,568.00\n",
       "mean        17.39\n",
       "std          6.33\n",
       "min          0.50\n",
       "25%         12.96\n",
       "50%         17.33\n",
       "75%         21.59\n",
       "max         34.95\n",
       "Name: duration, dtype: float64"
      ]
     },
     "execution_count": 22,
     "metadata": {},
     "output_type": "execute_result"
    }
   ],
   "source": [
    "free_rides['duration'].describe() # посмотрим распределение значений продолжительности одной поездки в таблице по пользователям без подписки"
   ]
  },
  {
   "cell_type": "code",
   "execution_count": 23,
   "id": "e163b16a",
   "metadata": {},
   "outputs": [
    {
     "data": {
      "text/plain": [
       "count   6,500.00\n",
       "mean       18.54\n",
       "std         5.57\n",
       "min         3.76\n",
       "25%        14.52\n",
       "50%        18.18\n",
       "75%        21.88\n",
       "max        40.82\n",
       "Name: duration, dtype: float64"
      ]
     },
     "execution_count": 23,
     "metadata": {},
     "output_type": "execute_result"
    }
   ],
   "source": [
    "ultra_rides['duration'].describe() # посмотрим распределение значений продолжительности одной поездки в таблице по пользователям с подпиской"
   ]
  },
  {
   "cell_type": "code",
   "execution_count": 24,
   "id": "8459ddff",
   "metadata": {},
   "outputs": [
    {
     "data": {
      "text/plain": [
       "Text(0.5, 0, 'продолжительность одной поездки в минутах')"
      ]
     },
     "execution_count": 24,
     "metadata": {},
     "output_type": "execute_result"
    },
    {
     "data": {
      "image/png": "[encoded data removed]",
      "text/plain": [
       "<Figure size 504x360 with 1 Axes>"
      ]
     },
     "metadata": {
      "needs_background": "light"
     },
     "output_type": "display_data"
    }
   ],
   "source": [
    "# отразим распределение значений продолжительности одной поездки для пользователей без подписки на гистограмме\n",
    "ax = free_rides['duration'].plot(kind = 'hist', histtype = 'step', grid = True, bins = 15, figsize = (7, 5),\\\n",
    "     title = 'Распределение продолжительностей поездок пользователей', linewidth=5, alpha = 0.7,\\\n",
    "     label = 'пользователи без подписки', legend=True)\n",
    "\n",
    "# отразим распределение значений продолжительности одной поездки для пользователей с подпиской на гистограмме рядом\n",
    "ultra_rides['duration'].plot(kind = 'hist', histtype = 'step', grid = True, bins = 15, figsize = (7, 5),\\\n",
    "                             linewidth=5, alpha = 0.7, label = 'пользователи с подпиской', legend=True, ax=ax)\n",
    "\n",
    "plt.ylabel('частоты')\n",
    "plt.xlabel('продолжительность одной поездки в минутах')"
   ]
  },
  {
   "cell_type": "markdown",
   "id": "9bd51ae2",
   "metadata": {},
   "source": [
    "**Вывод:**\n",
    "\n",
    "С помощью метода `merge` мы последовательно объединили датафреймы: сначала по ключу `'user_id'`, а затем по ключу `'subscription_type'`. Затем на основе объединенной таблицы мы создали отдельные таблицы с пользователями без подписки и с пользователями с подпиской. \n",
    "\n",
    "По созданным таблицам мы изучили информацию по поездкам в разрезе по пользователям с подпиской и без подписки. Мы построили графики распределения расстояний и продолжительности одной поездки для каждого типа пользователей. Поездок, совершенных пользователями без подписки почти на 80% больше числа поездок, совершенных пользователями с подпиской: 11536 и 6500.\n",
    "\n",
    "Графики расстояний одной поездки для двух типов пользователей схожи. Для удобства мы наложили их друг на друга. Одно из заметных отличий - пользователями без подписки совершено более 1000 поездок на короткие расстояния в пределах 1000 метров, тогда как у пользователей с подпиской число таких поездок чуть более 200, т.е. как абсолютное, так и относительное число таких поездок у пользователей с подпиской на порядок ниже. Медианное значение расстояния одной поездки чуть выше у пользователей с подпиской - 3149 метров, тогда как у пользователей без подписки оно составляет 3115 метров. Также у пользователей с подпиской меньше разброс расстояний одной поездки - 836,9 метров против 1246 у пользователей без подписки. Минимальное и максимальное расстояние одной поездки для пользователей с подпиской меньше расходятся с медианным значением расстояния одной поездки по сравнению с пользователями без подписки.\n",
    "\n",
    "Графики продолжительности одной поездки для двух типов пользователей также различаются незначительно. Для удобства мы наложили их друг на друга. Оба графика имеют вид близкий к нормальному распределению. Медианное значение времени поездки у пользователей с подпиской - 18,2 минуты, тогда как у пользователей без подписки - 17,3 минуты. Разброс значений чуть больше у пользователей без подписки. Стандартное отклонение продолжительностей поездок составляет 6,3 минуты для пользователей без подписки и 5,6 минуты для пользователей с подпиской. Минимальное значение продолжиьтельности поездки 0,5 минуты для пользователей без полдписки и 3,8 минуты для пользователй с подпиской. В то же время максимальное время продолжительности одной поездки выше среди пользователей с подпиской - 40,8 минут, тогда как у пользователей без подписки - 35 минут.\n",
    "\n"
   ]
  },
  {
   "cell_type": "markdown",
   "id": "402d620f",
   "metadata": {},
   "source": [
    "## Шаг 5. Подсчёт выручки"
   ]
  },
  {
   "cell_type": "markdown",
   "id": "f09ea7f8",
   "metadata": {},
   "source": [
    "5.1 Создадим датафрейм с агрегированными данными о поездках на основе датафрейма с объединёнными данными из шага 4: найдём суммарное расстояние, количество поездок и суммарное время для каждого пользователя за каждый месяц.\n",
    "\n",
    "5.2 В этот же датафрейм добавим столбец с помесячной выручкой, которую принёс каждый пользователь. Продолжительность каждой поездки в каждой строке исходного датафрейма для подсчёта стоимости округляется до следующего целого числа."
   ]
  },
  {
   "cell_type": "code",
   "execution_count": 25,
   "id": "53049e0a",
   "metadata": {},
   "outputs": [
    {
     "data": {
      "text/html": [
       "<div>\n",
       "<style scoped>\n",
       "    .dataframe tbody tr th:only-of-type {\n",
       "        vertical-align: middle;\n",
       "    }\n",
       "\n",
       "    .dataframe tbody tr th {\n",
       "        vertical-align: top;\n",
       "    }\n",
       "\n",
       "    .dataframe thead th {\n",
       "        text-align: right;\n",
       "    }\n",
       "</style>\n",
       "<table border=\"1\" class=\"dataframe\">\n",
       "  <thead>\n",
       "    <tr style=\"text-align: right;\">\n",
       "      <th></th>\n",
       "      <th>user_id</th>\n",
       "      <th>month_date</th>\n",
       "      <th>distance_sum</th>\n",
       "      <th>rides_count</th>\n",
       "      <th>duration_sum</th>\n",
       "      <th>minute_price</th>\n",
       "      <th>start_ride_price</th>\n",
       "      <th>subscription_fee</th>\n",
       "    </tr>\n",
       "  </thead>\n",
       "  <tbody>\n",
       "    <tr>\n",
       "      <th>0</th>\n",
       "      <td>1</td>\n",
       "      <td>1</td>\n",
       "      <td>7,027.51</td>\n",
       "      <td>2</td>\n",
       "      <td>42.00</td>\n",
       "      <td>6</td>\n",
       "      <td>0</td>\n",
       "      <td>199</td>\n",
       "    </tr>\n",
       "    <tr>\n",
       "      <th>1</th>\n",
       "      <td>1</td>\n",
       "      <td>4</td>\n",
       "      <td>754.16</td>\n",
       "      <td>1</td>\n",
       "      <td>7.00</td>\n",
       "      <td>6</td>\n",
       "      <td>0</td>\n",
       "      <td>199</td>\n",
       "    </tr>\n",
       "    <tr>\n",
       "      <th>2</th>\n",
       "      <td>1</td>\n",
       "      <td>8</td>\n",
       "      <td>6,723.47</td>\n",
       "      <td>2</td>\n",
       "      <td>46.00</td>\n",
       "      <td>6</td>\n",
       "      <td>0</td>\n",
       "      <td>199</td>\n",
       "    </tr>\n",
       "    <tr>\n",
       "      <th>3</th>\n",
       "      <td>1</td>\n",
       "      <td>10</td>\n",
       "      <td>5,809.91</td>\n",
       "      <td>2</td>\n",
       "      <td>32.00</td>\n",
       "      <td>6</td>\n",
       "      <td>0</td>\n",
       "      <td>199</td>\n",
       "    </tr>\n",
       "    <tr>\n",
       "      <th>4</th>\n",
       "      <td>1</td>\n",
       "      <td>11</td>\n",
       "      <td>7,003.50</td>\n",
       "      <td>3</td>\n",
       "      <td>56.00</td>\n",
       "      <td>6</td>\n",
       "      <td>0</td>\n",
       "      <td>199</td>\n",
       "    </tr>\n",
       "  </tbody>\n",
       "</table>\n",
       "</div>"
      ],
      "text/plain": [
       "   user_id  month_date  distance_sum  rides_count  duration_sum  minute_price  \\\n",
       "0        1           1      7,027.51            2         42.00             6   \n",
       "1        1           4        754.16            1          7.00             6   \n",
       "2        1           8      6,723.47            2         46.00             6   \n",
       "3        1          10      5,809.91            2         32.00             6   \n",
       "4        1          11      7,003.50            3         56.00             6   \n",
       "\n",
       "   start_ride_price  subscription_fee  \n",
       "0                 0               199  \n",
       "1                 0               199  \n",
       "2                 0               199  \n",
       "3                 0               199  \n",
       "4                 0               199  "
      ]
     },
     "execution_count": 25,
     "metadata": {},
     "output_type": "execute_result"
    }
   ],
   "source": [
    "all_data['duration'] = np.ceil(all_data['duration']) # скорректируем продолжительность поездок в объединенной таблице, т.к. начатая минута оплачивается полностью независимо от того, что из минуты может быть использовано всего 1-2 секунды\n",
    "\n",
    "grouped_users = all_data.groupby(['user_id', 'month_date']).agg({'distance': ['sum', 'count'], 'duration': ['sum'], 'minute_price': ['first'],\\\n",
    "                                                                 'start_ride_price': ['first'], 'subscription_fee': ['first']}).reset_index() # строим с помощью метода agg() с данными, необходимыми для подсчёта месячной выручки по каждому пользователю\n",
    "grouped_users.columns = ['user_id', 'month_date', 'distance_sum', 'rides_count', 'duration_sum', 'minute_price', 'start_ride_price', 'subscription_fee'] # скорректируем названия столбцов так, чтобы убрать мультииндекс\n",
    "grouped_users.head() # посмотрим вид получившейся таблицы"
   ]
  },
  {
   "cell_type": "code",
   "execution_count": 26,
   "id": "1fd99276",
   "metadata": {},
   "outputs": [
    {
     "data": {
      "text/html": [
       "<div>\n",
       "<style scoped>\n",
       "    .dataframe tbody tr th:only-of-type {\n",
       "        vertical-align: middle;\n",
       "    }\n",
       "\n",
       "    .dataframe tbody tr th {\n",
       "        vertical-align: top;\n",
       "    }\n",
       "\n",
       "    .dataframe thead th {\n",
       "        text-align: right;\n",
       "    }\n",
       "</style>\n",
       "<table border=\"1\" class=\"dataframe\">\n",
       "  <thead>\n",
       "    <tr style=\"text-align: right;\">\n",
       "      <th></th>\n",
       "      <th>user_id</th>\n",
       "      <th>month_date</th>\n",
       "      <th>distance_sum</th>\n",
       "      <th>rides_count</th>\n",
       "      <th>duration_sum</th>\n",
       "      <th>minute_price</th>\n",
       "      <th>start_ride_price</th>\n",
       "      <th>subscription_fee</th>\n",
       "      <th>revenue</th>\n",
       "    </tr>\n",
       "  </thead>\n",
       "  <tbody>\n",
       "    <tr>\n",
       "      <th>0</th>\n",
       "      <td>1</td>\n",
       "      <td>1</td>\n",
       "      <td>7,027.51</td>\n",
       "      <td>2</td>\n",
       "      <td>42.00</td>\n",
       "      <td>6</td>\n",
       "      <td>0</td>\n",
       "      <td>199</td>\n",
       "      <td>451.00</td>\n",
       "    </tr>\n",
       "    <tr>\n",
       "      <th>1</th>\n",
       "      <td>1</td>\n",
       "      <td>4</td>\n",
       "      <td>754.16</td>\n",
       "      <td>1</td>\n",
       "      <td>7.00</td>\n",
       "      <td>6</td>\n",
       "      <td>0</td>\n",
       "      <td>199</td>\n",
       "      <td>241.00</td>\n",
       "    </tr>\n",
       "    <tr>\n",
       "      <th>2</th>\n",
       "      <td>1</td>\n",
       "      <td>8</td>\n",
       "      <td>6,723.47</td>\n",
       "      <td>2</td>\n",
       "      <td>46.00</td>\n",
       "      <td>6</td>\n",
       "      <td>0</td>\n",
       "      <td>199</td>\n",
       "      <td>475.00</td>\n",
       "    </tr>\n",
       "    <tr>\n",
       "      <th>3</th>\n",
       "      <td>1</td>\n",
       "      <td>10</td>\n",
       "      <td>5,809.91</td>\n",
       "      <td>2</td>\n",
       "      <td>32.00</td>\n",
       "      <td>6</td>\n",
       "      <td>0</td>\n",
       "      <td>199</td>\n",
       "      <td>391.00</td>\n",
       "    </tr>\n",
       "    <tr>\n",
       "      <th>4</th>\n",
       "      <td>1</td>\n",
       "      <td>11</td>\n",
       "      <td>7,003.50</td>\n",
       "      <td>3</td>\n",
       "      <td>56.00</td>\n",
       "      <td>6</td>\n",
       "      <td>0</td>\n",
       "      <td>199</td>\n",
       "      <td>535.00</td>\n",
       "    </tr>\n",
       "  </tbody>\n",
       "</table>\n",
       "</div>"
      ],
      "text/plain": [
       "   user_id  month_date  distance_sum  rides_count  duration_sum  minute_price  \\\n",
       "0        1           1      7,027.51            2         42.00             6   \n",
       "1        1           4        754.16            1          7.00             6   \n",
       "2        1           8      6,723.47            2         46.00             6   \n",
       "3        1          10      5,809.91            2         32.00             6   \n",
       "4        1          11      7,003.50            3         56.00             6   \n",
       "\n",
       "   start_ride_price  subscription_fee  revenue  \n",
       "0                 0               199   451.00  \n",
       "1                 0               199   241.00  \n",
       "2                 0               199   475.00  \n",
       "3                 0               199   391.00  \n",
       "4                 0               199   535.00  "
      ]
     },
     "execution_count": 26,
     "metadata": {},
     "output_type": "execute_result"
    }
   ],
   "source": [
    "grouped_users['revenue'] = grouped_users['duration_sum'] * grouped_users['minute_price'] +\\\n",
    "grouped_users['rides_count'] * grouped_users['start_ride_price'] + grouped_users['subscription_fee'] # посчитаем помесячную выручку, которую принёс каждый пользователь\n",
    "grouped_users.head() # выведем таблицу на экран"
   ]
  },
  {
   "cell_type": "markdown",
   "id": "638b7a6f",
   "metadata": {},
   "source": [
    "**Вывод:**\n",
    "\n",
    "Мы последовательно использовали методы `groupby()` и `agg()` для создания новой таблицы, данные в которой сгруппированы по столбцам 'user_id' и 'month_date'. Таким образом мы сможем проанализировать данные по каждому пользователю за каждый отдельный месяц. Для подсчёта помесячной выручки от каждого пользователя мы добавили в таблицу столбцы с кол-вом поездок за месяц, расстоянием и продолжительностью поездок за месяц, тарифом за одну минуту, ценой за старт поездки и стоимостью месячной подписки для пользователей в зависимости от типа подписки (у пользователей без подписки цена месячной подписки будет 0, тогда как у пользователей с подлпсикой цена за старт поездки - 0). В столбец таблицы `'revenue'` мы добавили посчитанные значения месячной выручки."
   ]
  },
  {
   "cell_type": "markdown",
   "id": "41545ac0",
   "metadata": {},
   "source": [
    "## Шаг 6. Проверка гипотез"
   ]
  },
  {
   "cell_type": "markdown",
   "id": "22100204",
   "metadata": {},
   "source": [
    "6.1 Тратят ли пользователи с подпиской больше времени на поездки?\n",
    "\n",
    "Сформулируем гипортезы (нулевую и альтернативную) следующим образом:\n",
    "\n",
    "H₀: μ1 = μ2\n",
    "\n",
    "H1: μ1 > μ2\n",
    "\n",
    "где μ1 - истинное среднее продолжительности одной поездки генеральной совокупности пользователей с подпиской, а μ2 - истинное среднее продолжительности одной поездки генеральной совокупности пользователей без подписки  \n"
   ]
  },
  {
   "cell_type": "code",
   "execution_count": 27,
   "id": "e68759b8",
   "metadata": {},
   "outputs": [
    {
     "name": "stdout",
     "output_type": "stream",
     "text": [
      "среднее значение продолжительности одной поездки позователей с подпиской: 18.54198516280583\n",
      "среднее значение продолжительности одной поездки пользователей без подписки: 17.39090929866399\n",
      "p-значение: 1.2804098316645618e-34\n",
      "Отвергаем нулевую гипотезу\n"
     ]
    }
   ],
   "source": [
    "ultra_duration = ultra_rides['duration']\n",
    "free_duration = free_rides['duration']\n",
    "\n",
    "print(f'среднее значение продолжительности одной поездки позователей с подпиской: {ultra_duration.mean()}')\n",
    "print(f'среднее значение продолжительности одной поездки пользователей без подписки: {free_duration.mean()}')\n",
    "\n",
    "alpha = 0.05 # задаем уровень значимости\n",
    "\n",
    "results = st.ttest_ind(ultra_duration, free_duration, alternative = 'greater') # создаем тест для проверки гипотезы о том, что пользователи с подпиской тратят больше времени на поездки \n",
    "\n",
    "print('p-значение:', results.pvalue) # выводим значение p-value\n",
    "\n",
    "if results.pvalue < alpha: # сравниваем p-value с уровнем значимости\n",
    "    print('Отвергаем нулевую гипотезу')\n",
    "else:\n",
    "    print('Не получилось отвергнуть нулевую гипотезу')"
   ]
  },
  {
   "cell_type": "markdown",
   "id": "098a494f",
   "metadata": {},
   "source": [
    "Мы проверили гипотезу о том, что пользователи с подпиской тратят больше времени на поездки. Для проверки мы использовали тест Стьюдента для двух независимых выборок. Нулевой гипотезой H₀ будет равенство средних двух генеральных совокупностей. А в качестве альтернативной гипотезы H1 мы приняли правостороннюю гипотезу о том, что истинное среднее (по продолжительности поездки) в генеральной совокупности пользователей с подпиской больше истинного среднего пользователей без подписки. \n",
    "\n",
    "Значение p-value в нашем тесте является вероятностью при верной нулевой гипотезе получить наблюдаемое значение или более удалённое от того, которое предположили в H₀. Полученное значение p-value очень низкое, значительно ниже заданного уровня значимости. Поэтому мы отвергаем нулевую гипотезу и принимаем альтернативную гипотезу. По итогам теста можно сделать вывод о том, что пользователи с подпиской действительно тратят больше времени на поездки по сравнению с пользователями без подписки. Среднее продолжительность одной поездки для пользователей без подписки по выборке - 17,4 минуты, а для пользователей с подпиской - 18,6 минут. Пользователи с подпиской могут быть «выгоднее» для компании. \n",
    " "
   ]
  },
  {
   "cell_type": "markdown",
   "id": "51172812",
   "metadata": {},
   "source": [
    "<div class=\"alert alert-success\">\n",
    "<b>✔️ Комментарий ревьюера v1:</b>\n",
    "<br>Вывод верный\n",
    "</div>"
   ]
  },
  {
   "cell_type": "markdown",
   "id": "4bc433b2",
   "metadata": {},
   "source": [
    "6.2 Можно ли сказать, что расстояние, которое проезжают пользователи с подпиской за одну поездку, не превышает 3130 метров? \n",
    "\n",
    "Сформулируем гипортезы (нулевую и альтернативную) следующим образом:\n",
    "\n",
    "H₀: μ = 3130\n",
    "\n",
    "H1: μ > 3130\n",
    "\n",
    "где μ - истинное среднее расстояния одной поездки генеральной совокупности пользователей с подпиской"
   ]
  },
  {
   "cell_type": "code",
   "execution_count": 28,
   "id": "eda67d20",
   "metadata": {},
   "outputs": [
    {
     "name": "stdout",
     "output_type": "stream",
     "text": [
      "среднее значение расстояния одной поездки позователей с подпиской: 3115.4453880370247\n",
      "p-значение: 0.9195368847849785\n",
      "Не получилось отвергнуть нулевую гипотезу\n"
     ]
    }
   ],
   "source": [
    "ultra_distance = ultra_rides['distance']\n",
    "\n",
    "print(f'среднее значение расстояния одной поездки позователей с подпиской: {ultra_distance.mean()}')\n",
    "\n",
    "value = 3130 # задали предполагаемое среднее генеральной совокупности\n",
    "alpha = 0.05 # задали уровень значимости\n",
    "\n",
    "results_2 = st.ttest_1samp(ultra_distance, value, alternative = 'greater') # создаем одновыборочный тест для проверки гипотезы о том, что расстояние, которое проезжают пользователи с подпиской за одну поездку, не превышает 3130 метров\n",
    "\n",
    "print('p-значение:', results_2.pvalue) # выводим значение p-value\n",
    "\n",
    "if results_2.pvalue < alpha: # сравниваем p-value с уровнем значимости\n",
    "    print('Отвергаем нулевую гипотезу')\n",
    "else:\n",
    "    print('Не получилось отвергнуть нулевую гипотезу')\n"
   ]
  },
  {
   "cell_type": "markdown",
   "id": "5693fa27",
   "metadata": {},
   "source": [
    "Мы проверили, можно ли принять гипотезу о том, что расстояние, которое проезжают пользователи с подпиской за одну поездку, не превышает 3130 метров, т.е. меньше или равно 3130. Для проверки мы использовали тест Стьюдента для одной выборки. Нулевой гипотезой H₀ будет равенство среднего (для рассточяния одной поездки) генеральной совокупности пользователей с подпиской заданному числу 3130. А в качестве альтернативной гипотезы H1 мы приняли правостороннюю гипотезу о том, что истинное среднее (по расстоянию поездки) в генеральной совокупности пользователей с подпиской больше 3130.\n",
    "\n",
    "Полученное значение p-value значительно превосходит заданный уровень значимости. Таким образом тест показал, что мы не можем отвергнуть нулевую гипотезу в пользу альтернативной. А раз мы не приняли гипотезу о том что среднее расстояние в генеральной совокупности больше 3130, значит можно говорить о том, что расстояние, которое проезжают пользователи с подпиской за одну поездку, не превышает 3130 метров. Мы вычислили среднее значение расстояния одной поездки пользователей с подпиской по выборке, оно равно 3115."
   ]
  },
  {
   "cell_type": "markdown",
   "id": "633361b1",
   "metadata": {},
   "source": [
    "6.3. Будет ли помесячная выручка от пользователей с подпиской по месяцам выше, чем выручка от пользователей без подписки?\n",
    "\n",
    "Сформулируем гипортезы (нулевую и альтернативную) следующим образом:\n",
    "\n",
    "H₀: μ1 = μ2\n",
    "\n",
    "H1: μ1 > μ2\n",
    "\n",
    "где μ1 - истинное среднее месячной выручки генеральной совокупности пользователей с подпиской, а μ2 - истинное среднее месячной выручки генеральной совокупности пользователей без подписки"
   ]
  },
  {
   "cell_type": "code",
   "execution_count": 29,
   "id": "5d0ae96c",
   "metadata": {},
   "outputs": [
    {
     "name": "stdout",
     "output_type": "stream",
     "text": [
      "среднее значение помесячной выручки от пользователей с подпиской: 362.7921906022502\n",
      "среднее значение помесячной выручки от пользователей без подписки: 328.6413651073845\n",
      "p-значение: 1.8850394384715216e-31\n",
      "Отвергаем нулевую гипотезу\n"
     ]
    }
   ],
   "source": [
    "month_ultra_rides = grouped_users.query('subscription_fee == 199')\n",
    "month_free_rides = grouped_users.query('subscription_fee == 0')\n",
    "\n",
    "month_ultra_revenue = month_ultra_rides['revenue']\n",
    "month_free_revenue = month_free_rides['revenue']\n",
    "\n",
    "print(f'среднее значение помесячной выручки от пользователей с подпиской: {month_ultra_revenue.mean()}')\n",
    "print(f'среднее значение помесячной выручки от пользователей без подписки: {month_free_revenue.mean()}')\n",
    "\n",
    "alpha = 0.05 # задали уровень значимости\n",
    "\n",
    "results_3 = st.ttest_ind(month_ultra_revenue, month_free_revenue, alternative = 'greater') # создаем тест для проверки гипотезы о том, что помесячная выручка от пользователей с подпиской по месяцам выше, чем выручка от пользователей без подписки\n",
    "print('p-значение:', results_3.pvalue)\n",
    "\n",
    "if results_3.pvalue < alpha: # сравниваем p-value с уровнем значимости\n",
    "    print('Отвергаем нулевую гипотезу')\n",
    "else:\n",
    "    print('Не получилось отвергнуть нулевую гипотезу')"
   ]
  },
  {
   "cell_type": "markdown",
   "id": "d7a583bc",
   "metadata": {},
   "source": [
    "Мы проверили гипотезу о том, что помесячная выручка от пользователей с подпиской по месяцам выше, чем выручка от пользователей без подписки. Для проверки мы использовали тест Стьюдента для двух независимых выборок. Нулевой гипотезой H₀ будет равенство средних двух генеральных совокупностей. А в качестве альтернативной гипотезы H1 мы приняли правостороннюю гипотезу о том, что истинное среднее (месячная выручка от пользователей) в генеральной совокупности пользователей с подпиской больше истинного среднего пользователей без подписки.\n",
    "\n",
    "Полученное значение p-value очень низкое, значительно ниже заданного уровня значимости. Поэтому мы отвергаем нулевую гипотезу и принимаем альтернативную гипотезу. Средние помесячной выручки от пользователей двух генеральных совокупностей не равны. По итогам теста мы делаем вывод о том, что помесячная выручка от пользователей с подпиской по месяцам выше, чем выручка от пользователей без подписки. Мы посчитали средние помесячной выручки от пользователей по выборкам, получилось, что среднее помесячной выручки от пользователей с подпиской равно 362,8 руб., тогда как среднее помесячной выручки от пользователей без подписки - 328,6 руб."
   ]
  },
  {
   "cell_type": "markdown",
   "id": "0bb80fad",
   "metadata": {},
   "source": [
    "**Вопрос:**\n",
    "\n",
    "Представьте такую ситуацию: техническая команда сервиса обновила сервера, с которыми взаимодействует мобильное приложение. Она надеется, что из-за этого количество обращений в техподдержку значимо снизилось. Некоторый файл содержит для каждого пользователя данные о количестве обращений до обновления и после него. Какой тест вам понадобился бы для проверки этой гипотезы?\n",
    "\n",
    "**Ответ:**\n",
    "\n",
    "Нужно провести двусторонний t-тест Стьюдента для зависимых выборок. Первая выборка - кол-во обращений в техподдержку до обновления сервера, вторая выборка - кол-во обращений в техподдержку после обновления сервера. Для проверки теста нужно использовать метод `scipy.stats.ttest_rel`. Первым и вторым аргуметами в методе будут кол-во обращений в техподдержку до и после обновления сервера. Третьим аргуметом в методе нужно указать `alternative='greater'`. \n",
    "\n",
    "Сформулируем гипортезы (нулевую и альтернативную) следующим образом:\n",
    "\n",
    "H₀: μ1 = μ2\n",
    "\n",
    "H1: μ1 > μ2\n",
    "\n",
    "где μ1 - истинное среднее обращений в техподдержку генеральной совокупности до обновления сервера, а μ2 - истинное среднее среднее обращений в техподдержку генеральной совокупности после обновления сервера\n",
    "\n",
    "Таким образом, альтернативная гипотеза у нас проверяет, что до обновления сервера обращений в техпоодержку было больше, чем стало обращений после обновления сервераю. Иными словами подтверждение альтернативной гипотезы будет означать, что после обновления кол-во обращений снизилось. Зададим уровень значимости равный 0.01, т.к. хотим проверить снизилось ли число обращений значительно. Если значение `pvalue` будет меньше заданнного уровня значимости, то мы отклоняем нулевую гипотезу о равенстве средних, и принимаем альтернативную, которая подтверждает значимое снижение обращений в техподдержку после обновления сервера.  "
   ]
  },
  {
   "cell_type": "markdown",
   "id": "61213c5e",
   "metadata": {},
   "source": [
    "## Шаг 7. Распределения"
   ]
  },
  {
   "cell_type": "markdown",
   "id": "e0f6f1fb",
   "metadata": {},
   "source": [
    "7.1 Отделу маркетинга GoFast поставили задачу: нужно провести акцию с раздачей промокодов на один бесплатный месяц подписки, в рамках которой как минимум 100 существующих клиентов должны продлить эту подписку. То есть по завершении периода действия подписки пользователь может либо отказаться от неё, либо продлить, совершив соответствующий платёж.\n",
    "Эта акция уже проводилась ранее и по итогу выяснилось, что после бесплатного пробного периода подписку продлевают 10 % пользователей. Выясните, какое минимальное количество промокодов нужно разослать, чтобы вероятность не выполнить план была примерно 5 %. Подберите параметры распределения, описывающего эту ситуацию, постройте график распределения и сформулируйте ответ на вопрос о количестве промокодов."
   ]
  },
  {
   "cell_type": "code",
   "execution_count": 30,
   "id": "4e660126",
   "metadata": {},
   "outputs": [
    {
     "name": "stderr",
     "output_type": "stream",
     "text": [
      "/opt/conda/lib/python3.9/site-packages/scipy/stats/_discrete_distns.py:78: RuntimeWarning: divide by zero encountered in _binom_pdf\n",
      "  return _boost._binom_pdf(x, n, p)\n"
     ]
    },
    {
     "data": {
      "text/plain": [
       "<BarContainer object of 1201 artists>"
      ]
     },
     "execution_count": 30,
     "metadata": {},
     "output_type": "execute_result"
    },
    {
     "data": {
      "image/png": "[encoded data removed]",
      "text/plain": [
       "<Figure size 432x288 with 1 Axes>"
      ]
     },
     "metadata": {
      "needs_background": "light"
     },
     "output_type": "display_data"
    }
   ],
   "source": [
    "p = 0.1 # задаем вероятность\n",
    "n = 1200 # задаем примерно кол-во промокодов для рассылки\n",
    "\n",
    "distr = []\n",
    "\n",
    "for k in range(0, n + 1): \n",
    "    current_value = binom.pmf(k, n, p) # с помощью метода binom.pmf() получаем вероятности биномиального распределения\n",
    "    distr.append(current_value)\n",
    "    \n",
    "plt.bar(range(0,n+1), distr) # строим гистограмму вероятностей для биномиального распределения\n"
   ]
  },
  {
   "cell_type": "markdown",
   "id": "2592b8b7",
   "metadata": {},
   "source": [
    "По гистограмме мы видим, что выбранное число рассылок промокдов завышено и при 1200 рассылках промокодов вероятность не выполнить план (100 подписок) будет скорее меньше 5%. Поэтому попробуем дальше подобрать значение с помощью метода cdf(). Метод cdf() получает на вход один аргумент и возвращает вероятность, что случайная величина примет значение, меньшее заданного аргумента. Мы задаем в качестве аргумента 99, т.к. нам нужно получить такое кол-во рассылок, чтобы 100 существующих клиентов продлили эту подписку. При этом вероятность не выполнить план примерно должна быть равна 5%. План не выполняется если число подписок будет меньше или равно 99. Предварительно применим апроксимацию биномиального распределения нормальным. Для этого мы посчитали математическое ожидание и стандартное отклонение и затем применили метод norm().  "
   ]
  },
  {
   "cell_type": "code",
   "execution_count": 31,
   "id": "2b871449",
   "metadata": {},
   "outputs": [
    {
     "name": "stdout",
     "output_type": "stream",
     "text": [
      "0.021654071405395978\n"
     ]
    }
   ],
   "source": [
    "mu = n*p # математическое ожидание\n",
    "sigma = sqrt(mu*(1-p)) # стандартное отклонение\n",
    "\n",
    "distr = st.norm(mu, sigma) # задаем нормальное распределение\n",
    "\n",
    "result_promo = distr.cdf(99) # считаем вероятность, что случайная величина примет значение, меньшее заданного аргумента\n",
    "print(result_promo)"
   ]
  },
  {
   "cell_type": "code",
   "execution_count": 32,
   "id": "39e7922d",
   "metadata": {},
   "outputs": [
    {
     "name": "stdout",
     "output_type": "stream",
     "text": [
      "0.05789250527618042\n",
      "0.04991937389843044\n"
     ]
    }
   ],
   "source": [
    "n = 1150 # мы видим, что полученная вероятность невыполнения плана сильно меньше 5%, поэтому уменьшаем кол-во рассылок\n",
    "mu = n*p\n",
    "sigma = sqrt(mu*(1-p))\n",
    "\n",
    "distr = st.norm(mu, sigma)\n",
    "\n",
    "result_promo = distr.cdf(99)\n",
    "print(result_promo)\n",
    "      \n",
    "      \n",
    "n = 1158 # При 1150 рассылках вероятность невыполнения плана выше заданного, поэтому чуть увеличиваем колв-во рассылок\n",
    "mu = n*p\n",
    "sigma = sqrt(mu*(1-p))\n",
    "\n",
    "distr = st.norm(mu, sigma)\n",
    "\n",
    "result_promo = distr.cdf(99)\n",
    "print(result_promo)"
   ]
  },
  {
   "cell_type": "markdown",
   "id": "fd4397e1",
   "metadata": {},
   "source": [
    "**Ответ:** Мы выяснили, что нужно разослать минимум 1158 промокодов, чтобы вероятность не выполнить план была примерно 5 %."
   ]
  },
  {
   "cell_type": "markdown",
   "id": "ce3e7bcf",
   "metadata": {},
   "source": [
    "7.2   Отдел маркетинга рассылает клиентам push-уведомления в мобильном приложении. Клиенты могут открыть его или не открывать. Известно, что уведомления открывают около 40 % получивших клиентов. Отдел планирует разослать 1 млн уведомлений. С помощью аппроксимации постройте примерный график распределения и оцените вероятность того, что уведомление откроют не более 399,5 тыс. пользователей."
   ]
  },
  {
   "cell_type": "code",
   "execution_count": 33,
   "id": "dc8b7d52",
   "metadata": {},
   "outputs": [
    {
     "name": "stdout",
     "output_type": "stream",
     "text": [
      "0.15371708296369768\n"
     ]
    }
   ],
   "source": [
    "n = 1000000 # кол-во уведомлений для рассылки\n",
    "p = 0.4 # вероятность, что клиент откроет уведомление\n",
    "\n",
    "mu = n*p # математическое ожидание открытия уведомления\n",
    "sigma = sqrt(mu*(1-p)) # стандартное отклонение\n",
    "distr = st.norm(mu, sigma) # задаем нормальное распределение\n",
    "\n",
    "result_open = distr.cdf(399500) # считаем вероятность, что случайная величина примет значение, меньшее заданного аргумента\n",
    "print(result_open)"
   ]
  },
  {
   "cell_type": "code",
   "execution_count": 34,
   "id": "ded1b1af",
   "metadata": {},
   "outputs": [
    {
     "data": {
      "text/plain": [
       "[<matplotlib.lines.Line2D at 0x7f5b4d4a3550>]"
      ]
     },
     "execution_count": 34,
     "metadata": {},
     "output_type": "execute_result"
    },
    {
     "data": {
      "image/png": "[encoded data removed]",
      "text/plain": [
       "<Figure size 432x288 with 1 Axes>"
      ]
     },
     "metadata": {
      "needs_background": "light"
     },
     "output_type": "display_data"
    }
   ],
   "source": [
    "def linspace(start, stop, num): # зададим функцию, которая выдаёт равномерно распределённые числа для визуализации нормального распределения\n",
    "    step = (stop - start) / (num - 1)\n",
    "    result = []\n",
    "    for i in range(num):\n",
    "        result.append(start + step * i)\n",
    "    return result\n",
    "\n",
    "\n",
    "left = int(n * p - 4 * sqrt(n * p * (1 - p))) # границы промежутка, в котором будем строить аппроксимацию\n",
    "right = int(n * p + 4 * sqrt(n * p * (1 - p)))\n",
    "\n",
    "x = linspace(left, right, 1000) # получим список из 1000 чисел от left до right\n",
    "\n",
    "plt.plot(x, norm.pdf(x, mu, sigma)) # рисуем график нормального распределения"
   ]
  },
  {
   "cell_type": "markdown",
   "id": "3558c577",
   "metadata": {},
   "source": [
    "**Ответ:** Вероятность того, что уведомление откроют не более 399,5 тыс. пользователей, составляет 15,4%."
   ]
  },
  {
   "cell_type": "markdown",
   "id": "b9b7e78c",
   "metadata": {},
   "source": [
    "**Общий вывод**\n",
    "\n",
    "После выгрузки файлов и записи их в 3-х датафреймах мы выполнили предобработку данных:\n",
    "\n",
    "- проверили и убедились, что тип данных в каждом столбце задан верно, \n",
    "\n",
    "- проверили наличие пропусков и дублей, очистили данные от дубликатов,\n",
    "\n",
    "- добавили новый столбец с номером месяца на совнове заданных дат.\n",
    "\n",
    "Затем мы выполнили исследовательский анализ данных. На этом этапе была описана и визуализирована общая информацию о пользователях и поездках. На следующем этапе мы объединили данные из 3-х датафреймров в один новый датафрейм, а затем на его основе создали отдельные датафреймы с пользователями без подписки и с подпиской для визуализации информации о расстоянии и времени поездок для пользователей обеих категорий.\n",
    "\n",
    "Следующим шагом стало создание датафрейма с агрегированными данными о месячных поездках каждого пользователя. Мы добавили в этот датафрейм все необходимые данные для подсчёта помесячной выручки, которую принёс каждый пользователь, а затем добавили столбец с посчитанной месячной выручкой по каждому пользователю.\n",
    "\n",
    "На последнем этапе исследования мы проверили следующие гипотезы:\n",
    "\n",
    "- Тратят ли пользователи с подпиской больше времени на поездки?\n",
    "\n",
    "- Можно ли сказать, что расстояние, которое проезжают пользователи с подпиской за одну поездку, не превышает 3130 метров?\n",
    "\n",
    "- Будет ли помесячная выручка от пользователей с подпиской по месяцам выше, чем выручка от пользователей без подписки?\n",
    "\n",
    "Данные по городам показали незначительные расхождения кол-ва пользователей по каждому из 8 городов в базе. В выборке от 168 до 219 пользователей по каждому городу. Кол-во пользователей с подпиской в выборке 699 или 45,6% от общего числа пользователей, что заметно меньше кол-ва пользователей без подписки — 835 или 54,4%.\n",
    "\n",
    "Медианный и средний возраст пользователей самокатами - 25 лет, а у 75% пользователей возраст находится в пределах 28 лет. Минимальный возраст пользователей - 12 лет, а максимальный - 43. Гистограмма имеет форму близкую к нормальному распределению, с вершиной в районе 25 лет. Можно уверенно сказать, что самокатами преимущественно пользуются взрослые молодые люди.\n",
    "\n",
    "Медианное значение расстояния одной поездки - 3134 м. А 75% поездок укладываются в 3766 метров. Самая короткая поездка меньше 1 метра, а самая длинная - 7211 метров. Распределение частот расстояний одной поездки близко к нормальному. Однако небольшой пик в районе 500 м свидетельстивует о том, что некоторое число пользователей совершило очень короткие поездки. Вероятно, это связано с тем, что пользователи могли первый раз ехать на самокате: им не понравилось или они не разобрались, как управлять самокатом, как вносить оплату за поездку. \n",
    "\n",
    "Медианное значение продолжительности одной поездки составляет 17,7 минут, а 75% всех поездок находится в пределах 21,7 минут. Самая короткая поездка - полминуты, а самая продолжительная - 40,8 минут. Данные также подтверждают наличие очень коротких поездок. Распределение частот продолжительности одной поездки близко к нормальному.\n",
    "\n",
    "Графики расстояний одной поездки для двух типов пользователей схожи. Для удобства мы наложили их друг на друга. Одно из заметных отличий - пользователями без подписки совершено более 1000 поездок на короткие расстояния в пределах 1000 метров, тогда как у пользователей с подпиской число таких поездок чуть более 200, т.е. как абсолютное, так и относительное число таких поездок у пользователей с подпиской на порядок ниже. Медианное значение расстояния одной поездки выше у пользователей с подпиской - 3149 метров, тогда как у пользователей без подписки оно составляет 3115 метров. Также у пользователей с подпиской меньше разброс расстояний одной поездки - 836,9 метров против 1246 у пользователей без подписки.\n",
    "\n",
    "Графики продолжительности одной поездки для двух типов пользователей также различаются незначительно. Для удобства мы наложили их друг на друга. Оба графика имеют вид близкий к нормальному распределению. Медианное значение времени поездки у пользователей с подпиской - 18,2 минуты, тогда как у пользователей без подписки - 17,3 минуты. Разброс значений чуть больше у пользователей без подписки. Стандартное отклонение продолжительностей поездок составляет 6,3 минуты для пользователей без подписки и 5,6 минуты для пользователей с подпиской.\n",
    "\n",
    "Для подсчёта помесячной выручки от каждого пользователя мы создали отдельную таблицу с данными для каждого пользователя за каждый месяц: кол-во поездок за месяц, расстояние и продолжительность поездок за месяц, тариф за одну минуту, цена за старт поездки и стоимость месячной подписки для пользователей в зависимости от типа подписки (у пользователей без подписки цена месячной подписки будет 0, тогда как у пользователей с подлпсикой цена за старт поездки - 0). Посчитанная помесячная выручка была использована для проверки одной из гипотез.\n",
    "\n",
    "Гипотеза о том, что пользователи с подпиской тратят больше времени на поездки по сравнению с пользователями без подписки, подтвердилась. Среднее продолжительность одной поездки для пользователей без подписки по выборке - 17,4 минуты, а для пользователей с подпиской - 18,6 минут. \n",
    "\n",
    "Гипотеза о том, что расстояние, которое проезжают пользователи с подпиской за одну поездку, не превышает 3130 метров, также подтвердилась. \n",
    "\n",
    "Гипотеза о том, что помесячная выручка от пользователей с подпиской по месяцам выше, чем выручка от пользователей без подписки, подтвердилась. По представленным для исследования выборкам среднее помесячной выручки от пользователей с подпиской равно 362,8 руб., тогда как среднее помесячной выручки от пользователей без подписки - 328,6 руб.\n",
    "\n",
    "Результаты проведенного исследования свидетельствуют о том, что пользователи с подпиской Ultra в среднем приносят сервису GoFast больше выручки (выборка показывает разницу более 10%), чем пользователи без подписки. Поэтому компании стоит сосредоточиться на стратегии увеличения числа пользователей с подпиской для обеспечения роста бизнеса.\n"
   ]
  }
 ],
 "metadata": {
  "ExecuteTimeLog": [
   {
    "duration": 658,
    "start_time": "2024-10-25T20:17:42.204Z"
   },
   {
    "duration": 73,
    "start_time": "2024-10-25T20:18:15.664Z"
   },
   {
    "duration": 73,
    "start_time": "2024-10-25T20:18:34.762Z"
   },
   {
    "duration": 74,
    "start_time": "2024-10-25T20:29:01.433Z"
   },
   {
    "duration": 72,
    "start_time": "2024-10-25T20:31:20.468Z"
   },
   {
    "duration": 64,
    "start_time": "2024-10-25T20:32:32.392Z"
   },
   {
    "duration": 11,
    "start_time": "2024-10-25T20:32:40.389Z"
   },
   {
    "duration": 63,
    "start_time": "2024-10-25T20:33:50.991Z"
   },
   {
    "duration": 8,
    "start_time": "2024-10-25T20:33:51.055Z"
   },
   {
    "duration": 55,
    "start_time": "2024-10-25T20:33:51.064Z"
   },
   {
    "duration": 8,
    "start_time": "2024-10-25T20:34:21.550Z"
   },
   {
    "duration": 7,
    "start_time": "2024-10-25T20:34:32.757Z"
   },
   {
    "duration": 8,
    "start_time": "2024-10-25T20:34:37.198Z"
   },
   {
    "duration": 8,
    "start_time": "2024-10-25T20:42:13.281Z"
   },
   {
    "duration": 8,
    "start_time": "2024-10-25T20:43:16.479Z"
   },
   {
    "duration": 6,
    "start_time": "2024-10-25T20:43:29.188Z"
   },
   {
    "duration": 7,
    "start_time": "2024-10-25T20:58:10.270Z"
   },
   {
    "duration": 9,
    "start_time": "2024-10-25T20:58:15.235Z"
   },
   {
    "duration": 8,
    "start_time": "2024-10-25T20:58:20.793Z"
   },
   {
    "duration": 10,
    "start_time": "2024-10-25T20:58:27.130Z"
   },
   {
    "duration": 59,
    "start_time": "2024-10-25T21:38:59.053Z"
   },
   {
    "duration": 10,
    "start_time": "2024-10-25T21:39:04.946Z"
   },
   {
    "duration": 14,
    "start_time": "2024-10-25T21:39:18.202Z"
   },
   {
    "duration": 9,
    "start_time": "2024-10-25T21:39:54.134Z"
   },
   {
    "duration": 10,
    "start_time": "2024-10-25T21:39:57.266Z"
   },
   {
    "duration": 9,
    "start_time": "2024-10-25T21:40:33.464Z"
   },
   {
    "duration": 10,
    "start_time": "2024-10-25T21:49:43.537Z"
   },
   {
    "duration": 34,
    "start_time": "2024-10-25T21:50:27.374Z"
   },
   {
    "duration": 13,
    "start_time": "2024-10-25T21:54:57.551Z"
   },
   {
    "duration": 14,
    "start_time": "2024-10-25T21:55:32.898Z"
   },
   {
    "duration": 49,
    "start_time": "2024-10-27T15:18:42.404Z"
   },
   {
    "duration": 824,
    "start_time": "2024-10-27T15:28:13.412Z"
   },
   {
    "duration": 17,
    "start_time": "2024-10-27T15:28:14.238Z"
   },
   {
    "duration": 12,
    "start_time": "2024-10-27T15:28:14.257Z"
   },
   {
    "duration": 8,
    "start_time": "2024-10-27T15:28:14.271Z"
   },
   {
    "duration": 10,
    "start_time": "2024-10-27T15:28:14.282Z"
   },
   {
    "duration": 28,
    "start_time": "2024-10-27T15:28:14.293Z"
   },
   {
    "duration": 10,
    "start_time": "2024-10-27T15:28:14.323Z"
   },
   {
    "duration": 15,
    "start_time": "2024-10-27T15:28:14.335Z"
   },
   {
    "duration": 8,
    "start_time": "2024-10-27T15:28:18.155Z"
   },
   {
    "duration": 6,
    "start_time": "2024-10-27T15:28:33.731Z"
   },
   {
    "duration": 5,
    "start_time": "2024-10-27T15:30:35.826Z"
   },
   {
    "duration": 8,
    "start_time": "2024-10-27T15:30:41.361Z"
   },
   {
    "duration": 5,
    "start_time": "2024-10-27T15:31:01.583Z"
   },
   {
    "duration": 7,
    "start_time": "2024-10-27T17:17:47.636Z"
   },
   {
    "duration": 6,
    "start_time": "2024-10-27T17:18:04.724Z"
   },
   {
    "duration": 10,
    "start_time": "2024-10-27T18:11:05.063Z"
   },
   {
    "duration": 9,
    "start_time": "2024-10-27T18:11:26.816Z"
   },
   {
    "duration": 7,
    "start_time": "2024-10-27T18:11:32.601Z"
   },
   {
    "duration": 22,
    "start_time": "2024-10-27T18:23:47.756Z"
   },
   {
    "duration": 8,
    "start_time": "2024-10-27T18:34:21.118Z"
   },
   {
    "duration": 51,
    "start_time": "2024-10-27T18:35:10.238Z"
   },
   {
    "duration": 13,
    "start_time": "2024-10-27T18:35:17.860Z"
   },
   {
    "duration": 8,
    "start_time": "2024-10-27T18:35:33.605Z"
   },
   {
    "duration": 6,
    "start_time": "2024-10-27T20:06:08.795Z"
   },
   {
    "duration": 77,
    "start_time": "2024-10-27T20:06:27.602Z"
   },
   {
    "duration": 9,
    "start_time": "2024-10-27T20:06:27.680Z"
   },
   {
    "duration": 12,
    "start_time": "2024-10-27T20:06:27.691Z"
   },
   {
    "duration": 9,
    "start_time": "2024-10-27T20:06:27.705Z"
   },
   {
    "duration": 24,
    "start_time": "2024-10-27T20:06:27.717Z"
   },
   {
    "duration": 16,
    "start_time": "2024-10-27T20:06:27.743Z"
   },
   {
    "duration": 13,
    "start_time": "2024-10-27T20:06:27.761Z"
   },
   {
    "duration": 13,
    "start_time": "2024-10-27T20:06:27.776Z"
   },
   {
    "duration": 40,
    "start_time": "2024-10-27T20:06:27.791Z"
   },
   {
    "duration": 20,
    "start_time": "2024-10-27T20:06:27.834Z"
   },
   {
    "duration": 13,
    "start_time": "2024-10-27T20:06:27.855Z"
   },
   {
    "duration": 5,
    "start_time": "2024-10-27T20:06:34.158Z"
   },
   {
    "duration": 8,
    "start_time": "2024-10-27T20:06:58.687Z"
   },
   {
    "duration": 6,
    "start_time": "2024-10-27T20:07:31.183Z"
   },
   {
    "duration": 6,
    "start_time": "2024-10-27T20:07:43.002Z"
   },
   {
    "duration": 6,
    "start_time": "2024-10-27T20:08:06.474Z"
   },
   {
    "duration": 5,
    "start_time": "2024-10-27T20:09:12.654Z"
   },
   {
    "duration": 79,
    "start_time": "2024-10-27T20:09:22.491Z"
   },
   {
    "duration": 26,
    "start_time": "2024-10-27T20:09:22.572Z"
   },
   {
    "duration": 19,
    "start_time": "2024-10-27T20:09:22.600Z"
   },
   {
    "duration": 16,
    "start_time": "2024-10-27T20:09:22.621Z"
   },
   {
    "duration": 13,
    "start_time": "2024-10-27T20:09:22.639Z"
   },
   {
    "duration": 23,
    "start_time": "2024-10-27T20:09:22.654Z"
   },
   {
    "duration": 18,
    "start_time": "2024-10-27T20:09:22.678Z"
   },
   {
    "duration": 18,
    "start_time": "2024-10-27T20:09:22.698Z"
   },
   {
    "duration": 20,
    "start_time": "2024-10-27T20:09:22.718Z"
   },
   {
    "duration": 12,
    "start_time": "2024-10-27T20:09:22.741Z"
   },
   {
    "duration": 76,
    "start_time": "2024-10-27T20:09:22.755Z"
   },
   {
    "duration": 6,
    "start_time": "2024-10-27T20:09:25.756Z"
   },
   {
    "duration": 6,
    "start_time": "2024-10-27T20:09:40.135Z"
   },
   {
    "duration": 7,
    "start_time": "2024-10-27T20:09:47.539Z"
   },
   {
    "duration": 5,
    "start_time": "2024-10-27T20:10:10.239Z"
   },
   {
    "duration": 19,
    "start_time": "2024-10-27T20:24:32.386Z"
   },
   {
    "duration": 23,
    "start_time": "2024-10-27T20:25:41.212Z"
   },
   {
    "duration": 26,
    "start_time": "2024-10-27T20:28:07.637Z"
   },
   {
    "duration": 21,
    "start_time": "2024-10-27T20:28:21.648Z"
   },
   {
    "duration": 478,
    "start_time": "2024-10-27T20:42:17.162Z"
   },
   {
    "duration": 157,
    "start_time": "2024-10-27T20:44:02.274Z"
   },
   {
    "duration": 129,
    "start_time": "2024-10-27T20:44:25.572Z"
   },
   {
    "duration": 149,
    "start_time": "2024-10-27T20:44:52.414Z"
   },
   {
    "duration": 137,
    "start_time": "2024-10-27T20:45:22.945Z"
   },
   {
    "duration": 14,
    "start_time": "2024-10-27T20:45:36.316Z"
   },
   {
    "duration": 125,
    "start_time": "2024-10-27T20:46:28.310Z"
   },
   {
    "duration": 127,
    "start_time": "2024-10-27T20:46:38.298Z"
   },
   {
    "duration": 169,
    "start_time": "2024-10-27T20:51:57.272Z"
   },
   {
    "duration": 136,
    "start_time": "2024-10-27T20:52:09.726Z"
   },
   {
    "duration": 227,
    "start_time": "2024-10-27T20:52:35.267Z"
   },
   {
    "duration": 141,
    "start_time": "2024-10-27T20:52:44.205Z"
   },
   {
    "duration": 139,
    "start_time": "2024-10-27T20:53:18.769Z"
   },
   {
    "duration": 37,
    "start_time": "2024-10-27T20:53:47.480Z"
   },
   {
    "duration": 137,
    "start_time": "2024-10-27T20:53:55.126Z"
   },
   {
    "duration": 129,
    "start_time": "2024-10-27T20:54:03.666Z"
   },
   {
    "duration": 115,
    "start_time": "2024-10-27T21:01:12.074Z"
   },
   {
    "duration": 15,
    "start_time": "2024-10-27T21:02:16.343Z"
   },
   {
    "duration": 23,
    "start_time": "2024-10-27T21:02:24.115Z"
   },
   {
    "duration": 14,
    "start_time": "2024-10-27T21:02:47.639Z"
   },
   {
    "duration": 120,
    "start_time": "2024-10-27T21:07:29.831Z"
   },
   {
    "duration": 129,
    "start_time": "2024-10-27T21:07:58.757Z"
   },
   {
    "duration": 118,
    "start_time": "2024-10-27T21:08:13.867Z"
   },
   {
    "duration": 138,
    "start_time": "2024-10-27T21:09:54.266Z"
   },
   {
    "duration": 130,
    "start_time": "2024-10-27T21:14:27.928Z"
   },
   {
    "duration": 168,
    "start_time": "2024-10-27T21:14:52.783Z"
   },
   {
    "duration": 131,
    "start_time": "2024-10-27T21:15:31.602Z"
   },
   {
    "duration": 121,
    "start_time": "2024-10-27T21:15:55.268Z"
   },
   {
    "duration": 128,
    "start_time": "2024-10-27T21:16:03.340Z"
   },
   {
    "duration": 242,
    "start_time": "2024-10-27T21:18:50.204Z"
   },
   {
    "duration": 135,
    "start_time": "2024-10-27T21:19:42.366Z"
   },
   {
    "duration": 10,
    "start_time": "2024-10-27T21:20:33.562Z"
   },
   {
    "duration": 135,
    "start_time": "2024-10-27T21:20:48.241Z"
   },
   {
    "duration": 139,
    "start_time": "2024-10-27T21:23:29.940Z"
   },
   {
    "duration": 138,
    "start_time": "2024-10-27T21:23:39.184Z"
   },
   {
    "duration": 133,
    "start_time": "2024-10-27T21:26:44.468Z"
   },
   {
    "duration": 136,
    "start_time": "2024-10-27T21:27:16.229Z"
   },
   {
    "duration": 148,
    "start_time": "2024-10-27T21:27:24.532Z"
   },
   {
    "duration": 141,
    "start_time": "2024-10-27T21:27:57.668Z"
   },
   {
    "duration": 134,
    "start_time": "2024-10-27T21:28:52.733Z"
   },
   {
    "duration": 131,
    "start_time": "2024-10-27T21:39:58.727Z"
   },
   {
    "duration": 66,
    "start_time": "2024-10-27T21:40:11.573Z"
   },
   {
    "duration": 136,
    "start_time": "2024-10-27T21:40:17.008Z"
   },
   {
    "duration": 144,
    "start_time": "2024-10-27T21:40:22.267Z"
   },
   {
    "duration": 153,
    "start_time": "2024-10-27T21:40:37.017Z"
   },
   {
    "duration": 126,
    "start_time": "2024-10-27T21:40:41.426Z"
   },
   {
    "duration": 105,
    "start_time": "2024-10-27T21:59:09.428Z"
   },
   {
    "duration": 104,
    "start_time": "2024-10-27T21:59:24.208Z"
   },
   {
    "duration": 125,
    "start_time": "2024-10-27T22:01:38.015Z"
   },
   {
    "duration": 251,
    "start_time": "2024-10-27T22:01:55.451Z"
   },
   {
    "duration": 121,
    "start_time": "2024-10-27T22:02:08.433Z"
   },
   {
    "duration": 107,
    "start_time": "2024-10-27T22:06:27.749Z"
   },
   {
    "duration": 105,
    "start_time": "2024-10-27T22:06:43.095Z"
   },
   {
    "duration": 129,
    "start_time": "2024-10-27T22:07:33.331Z"
   },
   {
    "duration": 167,
    "start_time": "2024-10-27T22:09:45.057Z"
   },
   {
    "duration": 150,
    "start_time": "2024-10-27T22:10:51.738Z"
   },
   {
    "duration": 155,
    "start_time": "2024-10-27T22:11:03.093Z"
   },
   {
    "duration": 146,
    "start_time": "2024-10-27T22:12:01.515Z"
   },
   {
    "duration": 147,
    "start_time": "2024-10-27T22:15:09.614Z"
   },
   {
    "duration": 10,
    "start_time": "2024-10-27T22:46:21.077Z"
   },
   {
    "duration": 18,
    "start_time": "2024-10-27T22:46:39.434Z"
   },
   {
    "duration": 15,
    "start_time": "2024-10-27T22:47:44.252Z"
   },
   {
    "duration": 14,
    "start_time": "2024-10-27T22:52:19.691Z"
   },
   {
    "duration": 45,
    "start_time": "2024-10-28T09:36:58.486Z"
   },
   {
    "duration": 7,
    "start_time": "2024-10-28T09:53:40.901Z"
   },
   {
    "duration": 687,
    "start_time": "2024-10-28T09:56:08.424Z"
   },
   {
    "duration": 16,
    "start_time": "2024-10-28T09:56:09.113Z"
   },
   {
    "duration": 28,
    "start_time": "2024-10-28T09:56:09.131Z"
   },
   {
    "duration": 37,
    "start_time": "2024-10-28T09:56:09.161Z"
   },
   {
    "duration": 52,
    "start_time": "2024-10-28T09:56:09.200Z"
   },
   {
    "duration": 20,
    "start_time": "2024-10-28T09:56:09.253Z"
   },
   {
    "duration": 31,
    "start_time": "2024-10-28T09:56:09.275Z"
   },
   {
    "duration": 32,
    "start_time": "2024-10-28T09:56:09.308Z"
   },
   {
    "duration": 24,
    "start_time": "2024-10-28T09:56:09.342Z"
   },
   {
    "duration": 25,
    "start_time": "2024-10-28T09:56:09.367Z"
   },
   {
    "duration": 22,
    "start_time": "2024-10-28T09:56:09.394Z"
   },
   {
    "duration": 611,
    "start_time": "2024-10-28T09:56:09.418Z"
   },
   {
    "duration": 60,
    "start_time": "2024-10-28T09:56:24.157Z"
   },
   {
    "duration": 646,
    "start_time": "2024-10-28T14:13:41.841Z"
   },
   {
    "duration": 16,
    "start_time": "2024-10-28T14:13:42.489Z"
   },
   {
    "duration": 8,
    "start_time": "2024-10-28T14:13:42.506Z"
   },
   {
    "duration": 23,
    "start_time": "2024-10-28T14:13:42.516Z"
   },
   {
    "duration": 16,
    "start_time": "2024-10-28T14:13:42.541Z"
   },
   {
    "duration": 10,
    "start_time": "2024-10-28T14:13:42.558Z"
   },
   {
    "duration": 8,
    "start_time": "2024-10-28T14:13:42.570Z"
   },
   {
    "duration": 40,
    "start_time": "2024-10-28T14:13:42.595Z"
   },
   {
    "duration": 8,
    "start_time": "2024-10-28T14:13:42.637Z"
   },
   {
    "duration": 16,
    "start_time": "2024-10-28T14:13:42.646Z"
   },
   {
    "duration": 18,
    "start_time": "2024-10-28T14:13:42.663Z"
   },
   {
    "duration": 580,
    "start_time": "2024-10-28T14:13:42.683Z"
   },
   {
    "duration": 141,
    "start_time": "2024-10-28T14:14:56.919Z"
   },
   {
    "duration": 112,
    "start_time": "2024-10-28T14:16:19.955Z"
   },
   {
    "duration": 159,
    "start_time": "2024-10-28T14:16:40.100Z"
   },
   {
    "duration": 134,
    "start_time": "2024-10-28T14:17:03.290Z"
   },
   {
    "duration": 154,
    "start_time": "2024-10-28T14:17:07.432Z"
   },
   {
    "duration": 165,
    "start_time": "2024-10-28T14:17:11.297Z"
   },
   {
    "duration": 75,
    "start_time": "2024-10-28T14:17:18.657Z"
   },
   {
    "duration": 63,
    "start_time": "2024-10-28T14:29:18.261Z"
   },
   {
    "duration": 9,
    "start_time": "2024-10-28T14:29:18.325Z"
   },
   {
    "duration": 9,
    "start_time": "2024-10-28T14:29:18.335Z"
   },
   {
    "duration": 9,
    "start_time": "2024-10-28T14:29:18.345Z"
   },
   {
    "duration": 12,
    "start_time": "2024-10-28T14:29:18.357Z"
   },
   {
    "duration": 24,
    "start_time": "2024-10-28T14:29:18.371Z"
   },
   {
    "duration": 10,
    "start_time": "2024-10-28T14:29:18.396Z"
   },
   {
    "duration": 15,
    "start_time": "2024-10-28T14:29:18.407Z"
   },
   {
    "duration": 7,
    "start_time": "2024-10-28T14:29:18.423Z"
   },
   {
    "duration": 5,
    "start_time": "2024-10-28T14:29:18.431Z"
   },
   {
    "duration": 8,
    "start_time": "2024-10-28T14:29:18.437Z"
   },
   {
    "duration": 184,
    "start_time": "2024-10-28T14:29:18.446Z"
   },
   {
    "duration": 131,
    "start_time": "2024-10-28T14:29:18.632Z"
   },
   {
    "duration": 158,
    "start_time": "2024-10-28T14:29:18.767Z"
   },
   {
    "duration": 175,
    "start_time": "2024-10-28T14:29:18.926Z"
   },
   {
    "duration": 186,
    "start_time": "2024-10-28T14:29:19.103Z"
   },
   {
    "duration": 14,
    "start_time": "2024-10-28T14:29:26.571Z"
   },
   {
    "duration": 22,
    "start_time": "2024-10-28T14:29:54.182Z"
   },
   {
    "duration": 12,
    "start_time": "2024-10-28T14:45:55.593Z"
   },
   {
    "duration": 219,
    "start_time": "2024-10-28T15:05:07.658Z"
   },
   {
    "duration": 139,
    "start_time": "2024-10-28T15:06:27.713Z"
   },
   {
    "duration": 214,
    "start_time": "2024-10-28T15:07:28.311Z"
   },
   {
    "duration": 151,
    "start_time": "2024-10-28T15:15:27.289Z"
   },
   {
    "duration": 8,
    "start_time": "2024-10-28T15:16:39.309Z"
   },
   {
    "duration": 160,
    "start_time": "2024-10-28T15:19:43.714Z"
   },
   {
    "duration": 7,
    "start_time": "2024-10-28T15:21:09.385Z"
   },
   {
    "duration": 9,
    "start_time": "2024-10-28T15:21:20.881Z"
   },
   {
    "duration": 149,
    "start_time": "2024-10-28T15:21:27.477Z"
   },
   {
    "duration": 162,
    "start_time": "2024-10-28T15:23:00.795Z"
   },
   {
    "duration": 7,
    "start_time": "2024-10-28T15:28:55.415Z"
   },
   {
    "duration": 7,
    "start_time": "2024-10-28T15:29:25.977Z"
   },
   {
    "duration": 7,
    "start_time": "2024-10-28T15:29:43.894Z"
   },
   {
    "duration": 8,
    "start_time": "2024-10-28T15:29:58.210Z"
   },
   {
    "duration": 7,
    "start_time": "2024-10-28T15:30:15.131Z"
   },
   {
    "duration": 7,
    "start_time": "2024-10-28T15:30:29.239Z"
   },
   {
    "duration": 8,
    "start_time": "2024-10-28T15:30:40.406Z"
   },
   {
    "duration": 9,
    "start_time": "2024-10-28T15:30:57.189Z"
   },
   {
    "duration": 9,
    "start_time": "2024-10-28T15:31:31.514Z"
   },
   {
    "duration": 7,
    "start_time": "2024-10-28T15:31:53.952Z"
   },
   {
    "duration": 152,
    "start_time": "2024-10-28T15:34:37.642Z"
   },
   {
    "duration": 7,
    "start_time": "2024-10-28T15:35:10.979Z"
   },
   {
    "duration": 150,
    "start_time": "2024-10-28T15:35:20.019Z"
   },
   {
    "duration": 8,
    "start_time": "2024-10-28T15:36:04.263Z"
   },
   {
    "duration": 8,
    "start_time": "2024-10-28T15:36:48.511Z"
   },
   {
    "duration": 8,
    "start_time": "2024-10-28T15:37:15.201Z"
   },
   {
    "duration": 8,
    "start_time": "2024-10-28T15:38:03.897Z"
   },
   {
    "duration": 24,
    "start_time": "2024-10-28T17:15:30.180Z"
   },
   {
    "duration": 27,
    "start_time": "2024-10-28T17:15:48.429Z"
   },
   {
    "duration": 31,
    "start_time": "2024-10-28T17:27:37.573Z"
   },
   {
    "duration": 14,
    "start_time": "2024-10-28T17:34:44.036Z"
   },
   {
    "duration": 17,
    "start_time": "2024-10-28T17:35:11.104Z"
   },
   {
    "duration": 24,
    "start_time": "2024-10-28T17:40:07.577Z"
   },
   {
    "duration": 23,
    "start_time": "2024-10-28T17:40:33.729Z"
   },
   {
    "duration": 22,
    "start_time": "2024-10-28T17:41:55.055Z"
   },
   {
    "duration": 776,
    "start_time": "2024-10-28T17:43:11.377Z"
   },
   {
    "duration": 810,
    "start_time": "2024-10-28T17:43:20.858Z"
   },
   {
    "duration": 25,
    "start_time": "2024-10-28T17:43:32.296Z"
   },
   {
    "duration": 25,
    "start_time": "2024-10-28T18:37:12.916Z"
   },
   {
    "duration": 19,
    "start_time": "2024-10-28T18:37:44.570Z"
   },
   {
    "duration": 19,
    "start_time": "2024-10-28T18:38:02.252Z"
   },
   {
    "duration": 22,
    "start_time": "2024-10-28T18:38:10.237Z"
   },
   {
    "duration": 25,
    "start_time": "2024-10-28T18:38:25.022Z"
   },
   {
    "duration": 18,
    "start_time": "2024-10-28T18:46:41.073Z"
   },
   {
    "duration": 25,
    "start_time": "2024-10-28T18:46:47.849Z"
   },
   {
    "duration": 15,
    "start_time": "2024-10-28T19:48:02.405Z"
   },
   {
    "duration": 23,
    "start_time": "2024-10-28T19:48:14.133Z"
   },
   {
    "duration": 209,
    "start_time": "2024-10-28T22:24:12.826Z"
   },
   {
    "duration": 28,
    "start_time": "2024-10-28T22:29:35.086Z"
   },
   {
    "duration": 30,
    "start_time": "2024-10-28T22:31:39.731Z"
   },
   {
    "duration": 31,
    "start_time": "2024-10-28T22:33:07.537Z"
   },
   {
    "duration": 31,
    "start_time": "2024-10-28T22:39:20.967Z"
   },
   {
    "duration": 32,
    "start_time": "2024-10-28T22:40:21.294Z"
   },
   {
    "duration": 32,
    "start_time": "2024-10-28T22:42:27.624Z"
   },
   {
    "duration": 5,
    "start_time": "2024-10-28T22:47:16.619Z"
   },
   {
    "duration": 11,
    "start_time": "2024-10-28T22:47:44.204Z"
   },
   {
    "duration": 17,
    "start_time": "2024-10-28T22:48:41.053Z"
   },
   {
    "duration": 716,
    "start_time": "2024-10-29T09:55:02.581Z"
   },
   {
    "duration": 21,
    "start_time": "2024-10-29T09:55:03.299Z"
   },
   {
    "duration": 12,
    "start_time": "2024-10-29T09:55:03.322Z"
   },
   {
    "duration": 16,
    "start_time": "2024-10-29T09:55:03.335Z"
   },
   {
    "duration": 52,
    "start_time": "2024-10-29T09:55:03.354Z"
   },
   {
    "duration": 19,
    "start_time": "2024-10-29T09:55:03.408Z"
   },
   {
    "duration": 11,
    "start_time": "2024-10-29T09:55:03.428Z"
   },
   {
    "duration": 48,
    "start_time": "2024-10-29T09:55:03.440Z"
   },
   {
    "duration": 38,
    "start_time": "2024-10-29T09:55:03.490Z"
   },
   {
    "duration": 28,
    "start_time": "2024-10-29T09:55:03.530Z"
   },
   {
    "duration": 20,
    "start_time": "2024-10-29T09:55:03.560Z"
   },
   {
    "duration": 559,
    "start_time": "2024-10-29T09:55:03.582Z"
   },
   {
    "duration": 125,
    "start_time": "2024-10-29T09:55:04.142Z"
   },
   {
    "duration": 141,
    "start_time": "2024-10-29T09:55:04.270Z"
   },
   {
    "duration": 195,
    "start_time": "2024-10-29T09:55:04.413Z"
   },
   {
    "duration": 154,
    "start_time": "2024-10-29T09:55:04.611Z"
   },
   {
    "duration": 24,
    "start_time": "2024-10-29T09:55:04.766Z"
   },
   {
    "duration": 26,
    "start_time": "2024-10-29T09:55:04.791Z"
   },
   {
    "duration": 7,
    "start_time": "2024-10-29T09:55:04.818Z"
   },
   {
    "duration": 158,
    "start_time": "2024-10-29T09:55:04.827Z"
   },
   {
    "duration": 6,
    "start_time": "2024-10-29T09:55:04.986Z"
   },
   {
    "duration": 156,
    "start_time": "2024-10-29T09:55:04.994Z"
   },
   {
    "duration": 10,
    "start_time": "2024-10-29T09:55:05.151Z"
   },
   {
    "duration": 151,
    "start_time": "2024-10-29T09:55:05.163Z"
   },
   {
    "duration": 7,
    "start_time": "2024-10-29T09:55:05.316Z"
   },
   {
    "duration": 160,
    "start_time": "2024-10-29T09:55:05.324Z"
   },
   {
    "duration": 37,
    "start_time": "2024-10-29T09:55:05.485Z"
   },
   {
    "duration": 158,
    "start_time": "2024-10-29T09:55:05.523Z"
   },
   {
    "duration": 457,
    "start_time": "2024-10-29T10:46:23.458Z"
   },
   {
    "duration": 130,
    "start_time": "2024-10-29T10:50:05.267Z"
   },
   {
    "duration": 6,
    "start_time": "2024-10-29T10:52:43.013Z"
   },
   {
    "duration": 6,
    "start_time": "2024-10-29T10:56:03.347Z"
   },
   {
    "duration": 7,
    "start_time": "2024-10-29T10:56:23.777Z"
   },
   {
    "duration": 5,
    "start_time": "2024-10-29T10:56:34.232Z"
   },
   {
    "duration": 6,
    "start_time": "2024-10-29T11:03:40.577Z"
   },
   {
    "duration": 5,
    "start_time": "2024-10-29T11:10:43.345Z"
   },
   {
    "duration": 6,
    "start_time": "2024-10-29T11:11:16.857Z"
   },
   {
    "duration": 7,
    "start_time": "2024-10-29T11:11:27.781Z"
   },
   {
    "duration": 6,
    "start_time": "2024-10-29T11:12:10.575Z"
   },
   {
    "duration": 5,
    "start_time": "2024-10-29T11:17:33.908Z"
   },
   {
    "duration": 6,
    "start_time": "2024-10-29T11:25:24.264Z"
   },
   {
    "duration": 6,
    "start_time": "2024-10-29T11:25:37.976Z"
   },
   {
    "duration": 667,
    "start_time": "2024-10-29T15:40:01.616Z"
   },
   {
    "duration": 15,
    "start_time": "2024-10-29T15:40:02.285Z"
   },
   {
    "duration": 17,
    "start_time": "2024-10-29T15:40:02.301Z"
   },
   {
    "duration": 37,
    "start_time": "2024-10-29T15:40:02.320Z"
   },
   {
    "duration": 21,
    "start_time": "2024-10-29T15:40:02.358Z"
   },
   {
    "duration": 20,
    "start_time": "2024-10-29T15:40:02.381Z"
   },
   {
    "duration": 7,
    "start_time": "2024-10-29T15:40:02.403Z"
   },
   {
    "duration": 33,
    "start_time": "2024-10-29T15:40:02.411Z"
   },
   {
    "duration": 48,
    "start_time": "2024-10-29T15:40:02.446Z"
   },
   {
    "duration": 10,
    "start_time": "2024-10-29T15:40:02.496Z"
   },
   {
    "duration": 8,
    "start_time": "2024-10-29T15:40:02.507Z"
   },
   {
    "duration": 513,
    "start_time": "2024-10-29T15:40:02.516Z"
   },
   {
    "duration": 113,
    "start_time": "2024-10-29T15:40:03.031Z"
   },
   {
    "duration": 142,
    "start_time": "2024-10-29T15:40:03.146Z"
   },
   {
    "duration": 195,
    "start_time": "2024-10-29T15:40:03.290Z"
   },
   {
    "duration": 155,
    "start_time": "2024-10-29T15:40:03.486Z"
   },
   {
    "duration": 22,
    "start_time": "2024-10-29T15:40:03.642Z"
   },
   {
    "duration": 26,
    "start_time": "2024-10-29T15:40:03.665Z"
   },
   {
    "duration": 6,
    "start_time": "2024-10-29T15:40:03.693Z"
   },
   {
    "duration": 177,
    "start_time": "2024-10-29T15:40:03.701Z"
   },
   {
    "duration": 7,
    "start_time": "2024-10-29T15:40:03.879Z"
   },
   {
    "duration": 147,
    "start_time": "2024-10-29T15:40:03.887Z"
   },
   {
    "duration": 6,
    "start_time": "2024-10-29T15:40:04.035Z"
   },
   {
    "duration": 142,
    "start_time": "2024-10-29T15:40:04.043Z"
   },
   {
    "duration": 6,
    "start_time": "2024-10-29T15:40:04.186Z"
   },
   {
    "duration": 148,
    "start_time": "2024-10-29T15:40:04.193Z"
   },
   {
    "duration": 29,
    "start_time": "2024-10-29T15:40:04.343Z"
   },
   {
    "duration": 22,
    "start_time": "2024-10-29T15:40:04.374Z"
   },
   {
    "duration": 458,
    "start_time": "2024-10-29T15:40:04.398Z"
   },
   {
    "duration": 7,
    "start_time": "2024-10-29T15:40:56.937Z"
   },
   {
    "duration": 5,
    "start_time": "2024-10-29T16:53:34.789Z"
   },
   {
    "duration": 5,
    "start_time": "2024-10-29T16:54:52.685Z"
   },
   {
    "duration": 16,
    "start_time": "2024-10-29T18:09:08.639Z"
   },
   {
    "duration": 9,
    "start_time": "2024-10-29T18:15:18.724Z"
   },
   {
    "duration": 17,
    "start_time": "2024-10-29T18:15:31.817Z"
   },
   {
    "duration": 16,
    "start_time": "2024-10-29T18:15:43.349Z"
   },
   {
    "duration": 7,
    "start_time": "2024-10-29T18:16:04.266Z"
   },
   {
    "duration": 6,
    "start_time": "2024-10-29T18:18:06.370Z"
   },
   {
    "duration": 6,
    "start_time": "2024-10-29T18:19:00.278Z"
   },
   {
    "duration": 6,
    "start_time": "2024-10-29T18:20:26.867Z"
   },
   {
    "duration": 10,
    "start_time": "2024-10-29T18:28:54.507Z"
   },
   {
    "duration": 736,
    "start_time": "2024-10-30T08:18:40.089Z"
   },
   {
    "duration": 19,
    "start_time": "2024-10-30T08:18:40.827Z"
   },
   {
    "duration": 16,
    "start_time": "2024-10-30T08:18:40.847Z"
   },
   {
    "duration": 22,
    "start_time": "2024-10-30T08:18:40.865Z"
   },
   {
    "duration": 13,
    "start_time": "2024-10-30T08:18:40.889Z"
   },
   {
    "duration": 28,
    "start_time": "2024-10-30T08:18:40.904Z"
   },
   {
    "duration": 19,
    "start_time": "2024-10-30T08:18:40.935Z"
   },
   {
    "duration": 41,
    "start_time": "2024-10-30T08:18:40.956Z"
   },
   {
    "duration": 9,
    "start_time": "2024-10-30T08:18:40.999Z"
   },
   {
    "duration": 7,
    "start_time": "2024-10-30T08:18:41.023Z"
   },
   {
    "duration": 28,
    "start_time": "2024-10-30T08:18:41.032Z"
   },
   {
    "duration": 652,
    "start_time": "2024-10-30T08:18:41.061Z"
   },
   {
    "duration": 162,
    "start_time": "2024-10-30T08:18:41.715Z"
   },
   {
    "duration": 186,
    "start_time": "2024-10-30T08:18:41.879Z"
   },
   {
    "duration": 258,
    "start_time": "2024-10-30T08:18:42.067Z"
   },
   {
    "duration": 206,
    "start_time": "2024-10-30T08:18:42.327Z"
   },
   {
    "duration": 26,
    "start_time": "2024-10-30T08:18:42.535Z"
   },
   {
    "duration": 14,
    "start_time": "2024-10-30T08:18:42.563Z"
   },
   {
    "duration": 10,
    "start_time": "2024-10-30T08:18:42.578Z"
   },
   {
    "duration": 204,
    "start_time": "2024-10-30T08:18:42.589Z"
   },
   {
    "duration": 9,
    "start_time": "2024-10-30T08:18:42.795Z"
   },
   {
    "duration": 199,
    "start_time": "2024-10-30T08:18:42.805Z"
   },
   {
    "duration": 19,
    "start_time": "2024-10-30T08:18:43.005Z"
   },
   {
    "duration": 177,
    "start_time": "2024-10-30T08:18:43.026Z"
   },
   {
    "duration": 22,
    "start_time": "2024-10-30T08:18:43.205Z"
   },
   {
    "duration": 184,
    "start_time": "2024-10-30T08:18:43.229Z"
   },
   {
    "duration": 36,
    "start_time": "2024-10-30T08:18:43.420Z"
   },
   {
    "duration": 17,
    "start_time": "2024-10-30T08:18:43.459Z"
   },
   {
    "duration": 594,
    "start_time": "2024-10-30T08:18:43.478Z"
   },
   {
    "duration": 6,
    "start_time": "2024-10-30T08:18:44.074Z"
   },
   {
    "duration": 15,
    "start_time": "2024-10-30T08:18:44.082Z"
   },
   {
    "duration": 164,
    "start_time": "2024-10-30T08:26:01.123Z"
   },
   {
    "duration": 52,
    "start_time": "2024-10-30T08:29:30.131Z"
   },
   {
    "duration": 13,
    "start_time": "2024-10-30T08:37:21.060Z"
   },
   {
    "duration": 1338,
    "start_time": "2024-10-30T08:40:41.642Z"
   },
   {
    "duration": 344,
    "start_time": "2024-10-30T08:50:28.092Z"
   },
   {
    "duration": 17,
    "start_time": "2024-10-30T08:52:07.408Z"
   },
   {
    "duration": 335,
    "start_time": "2024-10-30T08:52:16.576Z"
   },
   {
    "duration": 2447,
    "start_time": "2024-10-30T08:55:13.559Z"
   },
   {
    "duration": 2271,
    "start_time": "2024-10-30T08:56:01.457Z"
   },
   {
    "duration": 1967,
    "start_time": "2024-10-30T08:56:28.651Z"
   },
   {
    "duration": 2169,
    "start_time": "2024-10-30T08:56:59.470Z"
   },
   {
    "duration": 78,
    "start_time": "2024-10-30T08:58:23.050Z"
   },
   {
    "duration": 314,
    "start_time": "2024-10-30T08:59:01.148Z"
   },
   {
    "duration": 2292,
    "start_time": "2024-10-30T09:00:06.736Z"
   },
   {
    "duration": 2322,
    "start_time": "2024-10-30T09:00:26.553Z"
   },
   {
    "duration": 2294,
    "start_time": "2024-10-30T09:01:16.248Z"
   },
   {
    "duration": 2355,
    "start_time": "2024-10-30T09:01:35.736Z"
   },
   {
    "duration": 1927,
    "start_time": "2024-10-30T09:01:49.701Z"
   },
   {
    "duration": 6,
    "start_time": "2024-10-30T09:58:07.678Z"
   },
   {
    "duration": 5,
    "start_time": "2024-10-30T09:58:12.563Z"
   },
   {
    "duration": 5,
    "start_time": "2024-10-30T09:58:24.044Z"
   },
   {
    "duration": 7,
    "start_time": "2024-10-30T10:00:26.748Z"
   },
   {
    "duration": 6,
    "start_time": "2024-10-30T10:00:41.365Z"
   },
   {
    "duration": 4,
    "start_time": "2024-10-30T10:00:51.395Z"
   },
   {
    "duration": 7,
    "start_time": "2024-10-30T10:01:11.784Z"
   },
   {
    "duration": 7,
    "start_time": "2024-10-30T10:01:19.783Z"
   },
   {
    "duration": 6,
    "start_time": "2024-10-30T10:01:26.945Z"
   },
   {
    "duration": 5,
    "start_time": "2024-10-30T10:01:33.259Z"
   },
   {
    "duration": 5,
    "start_time": "2024-10-30T10:01:43.427Z"
   },
   {
    "duration": 65,
    "start_time": "2024-10-30T10:03:29.657Z"
   },
   {
    "duration": 7,
    "start_time": "2024-10-30T10:03:38.408Z"
   },
   {
    "duration": 5,
    "start_time": "2024-10-30T10:10:16.806Z"
   },
   {
    "duration": 8,
    "start_time": "2024-10-30T10:10:57.029Z"
   },
   {
    "duration": 15,
    "start_time": "2024-10-30T10:46:42.446Z"
   },
   {
    "duration": 10,
    "start_time": "2024-10-30T10:47:08.459Z"
   },
   {
    "duration": 11,
    "start_time": "2024-10-30T10:52:10.219Z"
   },
   {
    "duration": 12,
    "start_time": "2024-10-30T10:52:22.379Z"
   },
   {
    "duration": 11,
    "start_time": "2024-10-30T10:52:30.213Z"
   },
   {
    "duration": 10,
    "start_time": "2024-10-30T10:52:54.532Z"
   },
   {
    "duration": 18,
    "start_time": "2024-10-30T10:57:02.465Z"
   },
   {
    "duration": 11,
    "start_time": "2024-10-30T10:57:45.066Z"
   },
   {
    "duration": 12,
    "start_time": "2024-10-30T10:58:00.535Z"
   },
   {
    "duration": 15,
    "start_time": "2024-10-30T10:58:05.427Z"
   },
   {
    "duration": 12,
    "start_time": "2024-10-30T10:58:20.192Z"
   },
   {
    "duration": 11,
    "start_time": "2024-10-30T10:58:25.903Z"
   },
   {
    "duration": 14,
    "start_time": "2024-10-30T12:58:00.600Z"
   },
   {
    "duration": 70,
    "start_time": "2024-10-30T12:58:11.965Z"
   },
   {
    "duration": 11,
    "start_time": "2024-10-30T12:58:12.036Z"
   },
   {
    "duration": 14,
    "start_time": "2024-10-30T12:58:12.048Z"
   },
   {
    "duration": 27,
    "start_time": "2024-10-30T12:58:12.063Z"
   },
   {
    "duration": 15,
    "start_time": "2024-10-30T12:58:12.092Z"
   },
   {
    "duration": 27,
    "start_time": "2024-10-30T12:58:12.108Z"
   },
   {
    "duration": 10,
    "start_time": "2024-10-30T12:58:12.137Z"
   },
   {
    "duration": 17,
    "start_time": "2024-10-30T12:58:12.149Z"
   },
   {
    "duration": 13,
    "start_time": "2024-10-30T12:58:12.168Z"
   },
   {
    "duration": 5,
    "start_time": "2024-10-30T12:58:12.183Z"
   },
   {
    "duration": 32,
    "start_time": "2024-10-30T12:58:12.190Z"
   },
   {
    "duration": 180,
    "start_time": "2024-10-30T12:58:12.223Z"
   },
   {
    "duration": 671,
    "start_time": "2024-10-30T12:58:12.404Z"
   },
   {
    "duration": 163,
    "start_time": "2024-10-30T12:58:13.077Z"
   },
   {
    "duration": 187,
    "start_time": "2024-10-30T12:58:13.241Z"
   },
   {
    "duration": 183,
    "start_time": "2024-10-30T12:58:13.430Z"
   },
   {
    "duration": 29,
    "start_time": "2024-10-30T12:58:13.615Z"
   },
   {
    "duration": 13,
    "start_time": "2024-10-30T12:58:13.645Z"
   },
   {
    "duration": 9,
    "start_time": "2024-10-30T12:58:13.660Z"
   },
   {
    "duration": 200,
    "start_time": "2024-10-30T12:58:13.670Z"
   },
   {
    "duration": 8,
    "start_time": "2024-10-30T12:58:13.872Z"
   },
   {
    "duration": 181,
    "start_time": "2024-10-30T12:58:13.881Z"
   },
   {
    "duration": 8,
    "start_time": "2024-10-30T12:58:14.064Z"
   },
   {
    "duration": 186,
    "start_time": "2024-10-30T12:58:14.073Z"
   },
   {
    "duration": 9,
    "start_time": "2024-10-30T12:58:14.261Z"
   },
   {
    "duration": 187,
    "start_time": "2024-10-30T12:58:14.271Z"
   },
   {
    "duration": 36,
    "start_time": "2024-10-30T12:58:14.460Z"
   },
   {
    "duration": 70,
    "start_time": "2024-10-30T12:58:14.498Z"
   },
   {
    "duration": 8,
    "start_time": "2024-10-30T12:58:14.570Z"
   },
   {
    "duration": 8,
    "start_time": "2024-10-30T12:58:14.579Z"
   },
   {
    "duration": 23,
    "start_time": "2024-10-30T12:58:14.589Z"
   },
   {
    "duration": 1969,
    "start_time": "2024-10-30T12:58:14.614Z"
   },
   {
    "duration": 5,
    "start_time": "2024-10-30T12:58:16.585Z"
   },
   {
    "duration": 27,
    "start_time": "2024-10-30T12:58:16.592Z"
   },
   {
    "duration": 16,
    "start_time": "2024-10-30T12:58:16.620Z"
   },
   {
    "duration": 11,
    "start_time": "2024-10-30T12:58:16.639Z"
   },
   {
    "duration": 68,
    "start_time": "2024-10-30T13:00:43.166Z"
   },
   {
    "duration": 9,
    "start_time": "2024-10-30T13:00:43.237Z"
   },
   {
    "duration": 22,
    "start_time": "2024-10-30T13:00:43.248Z"
   },
   {
    "duration": 22,
    "start_time": "2024-10-30T13:00:43.272Z"
   },
   {
    "duration": 11,
    "start_time": "2024-10-30T13:00:43.297Z"
   },
   {
    "duration": 42,
    "start_time": "2024-10-30T13:00:43.310Z"
   },
   {
    "duration": 18,
    "start_time": "2024-10-30T13:00:43.354Z"
   },
   {
    "duration": 106,
    "start_time": "2024-10-30T13:00:43.374Z"
   },
   {
    "duration": 11,
    "start_time": "2024-10-30T13:00:43.482Z"
   },
   {
    "duration": 36,
    "start_time": "2024-10-30T13:00:43.495Z"
   },
   {
    "duration": 9,
    "start_time": "2024-10-30T13:00:43.533Z"
   },
   {
    "duration": 157,
    "start_time": "2024-10-30T13:00:43.544Z"
   },
   {
    "duration": 148,
    "start_time": "2024-10-30T13:00:43.703Z"
   },
   {
    "duration": 166,
    "start_time": "2024-10-30T13:00:43.854Z"
   },
   {
    "duration": 192,
    "start_time": "2024-10-30T13:00:44.022Z"
   },
   {
    "duration": 189,
    "start_time": "2024-10-30T13:00:44.215Z"
   },
   {
    "duration": 33,
    "start_time": "2024-10-30T13:00:44.405Z"
   },
   {
    "duration": 14,
    "start_time": "2024-10-30T13:00:44.440Z"
   },
   {
    "duration": 8,
    "start_time": "2024-10-30T13:00:44.456Z"
   },
   {
    "duration": 250,
    "start_time": "2024-10-30T13:00:44.466Z"
   },
   {
    "duration": 11,
    "start_time": "2024-10-30T13:00:44.718Z"
   },
   {
    "duration": 205,
    "start_time": "2024-10-30T13:00:44.731Z"
   },
   {
    "duration": 9,
    "start_time": "2024-10-30T13:00:44.939Z"
   },
   {
    "duration": 202,
    "start_time": "2024-10-30T13:00:44.950Z"
   },
   {
    "duration": 11,
    "start_time": "2024-10-30T13:00:45.154Z"
   },
   {
    "duration": 186,
    "start_time": "2024-10-30T13:00:45.166Z"
   },
   {
    "duration": 34,
    "start_time": "2024-10-30T13:00:45.353Z"
   },
   {
    "duration": 35,
    "start_time": "2024-10-30T13:00:45.388Z"
   },
   {
    "duration": 7,
    "start_time": "2024-10-30T13:00:45.425Z"
   },
   {
    "duration": 25,
    "start_time": "2024-10-30T13:00:45.433Z"
   },
   {
    "duration": 20,
    "start_time": "2024-10-30T13:00:45.460Z"
   },
   {
    "duration": 2540,
    "start_time": "2024-10-30T13:00:45.482Z"
   },
   {
    "duration": 1851,
    "start_time": "2024-10-30T13:00:56.859Z"
   },
   {
    "duration": 5,
    "start_time": "2024-10-30T13:01:10.652Z"
   },
   {
    "duration": 7,
    "start_time": "2024-10-30T13:01:13.658Z"
   },
   {
    "duration": 5,
    "start_time": "2024-10-30T13:01:20.259Z"
   },
   {
    "duration": 842,
    "start_time": "2024-10-30T13:03:06.278Z"
   },
   {
    "duration": 121,
    "start_time": "2024-10-30T13:04:23.861Z"
   },
   {
    "duration": 148,
    "start_time": "2024-10-30T13:04:34.157Z"
   },
   {
    "duration": 69,
    "start_time": "2024-10-30T14:20:35.127Z"
   },
   {
    "duration": 784,
    "start_time": "2024-10-30T20:47:08.855Z"
   },
   {
    "duration": 15,
    "start_time": "2024-10-30T20:47:09.641Z"
   },
   {
    "duration": 20,
    "start_time": "2024-10-30T20:47:09.657Z"
   },
   {
    "duration": 9,
    "start_time": "2024-10-30T20:47:09.678Z"
   },
   {
    "duration": 10,
    "start_time": "2024-10-30T20:47:09.688Z"
   },
   {
    "duration": 10,
    "start_time": "2024-10-30T20:47:09.699Z"
   },
   {
    "duration": 7,
    "start_time": "2024-10-30T20:47:09.711Z"
   },
   {
    "duration": 19,
    "start_time": "2024-10-30T20:47:09.720Z"
   },
   {
    "duration": 7,
    "start_time": "2024-10-30T20:47:09.741Z"
   },
   {
    "duration": 4,
    "start_time": "2024-10-30T20:47:09.749Z"
   },
   {
    "duration": 8,
    "start_time": "2024-10-30T20:47:09.754Z"
   },
   {
    "duration": 526,
    "start_time": "2024-10-30T20:47:09.763Z"
   },
   {
    "duration": 116,
    "start_time": "2024-10-30T20:47:10.291Z"
   },
   {
    "duration": 143,
    "start_time": "2024-10-30T20:47:10.409Z"
   },
   {
    "duration": 212,
    "start_time": "2024-10-30T20:47:10.554Z"
   },
   {
    "duration": 155,
    "start_time": "2024-10-30T20:47:10.767Z"
   },
   {
    "duration": 22,
    "start_time": "2024-10-30T20:47:10.924Z"
   },
   {
    "duration": 12,
    "start_time": "2024-10-30T20:47:10.947Z"
   },
   {
    "duration": 13,
    "start_time": "2024-10-30T20:47:10.960Z"
   },
   {
    "duration": 165,
    "start_time": "2024-10-30T20:47:10.974Z"
   },
   {
    "duration": 8,
    "start_time": "2024-10-30T20:47:11.140Z"
   },
   {
    "duration": 187,
    "start_time": "2024-10-30T20:47:11.149Z"
   },
   {
    "duration": 7,
    "start_time": "2024-10-30T20:47:11.337Z"
   },
   {
    "duration": 171,
    "start_time": "2024-10-30T20:47:11.345Z"
   },
   {
    "duration": 8,
    "start_time": "2024-10-30T20:47:11.518Z"
   },
   {
    "duration": 153,
    "start_time": "2024-10-30T20:47:11.527Z"
   },
   {
    "duration": 40,
    "start_time": "2024-10-30T20:47:11.682Z"
   },
   {
    "duration": 15,
    "start_time": "2024-10-30T20:47:11.723Z"
   },
   {
    "duration": 450,
    "start_time": "2024-10-30T20:47:11.740Z"
   },
   {
    "duration": 5,
    "start_time": "2024-10-30T20:47:12.192Z"
   },
   {
    "duration": 55,
    "start_time": "2024-10-30T20:47:12.199Z"
   },
   {
    "duration": 1654,
    "start_time": "2024-10-30T20:47:12.256Z"
   },
   {
    "duration": 10,
    "start_time": "2024-10-30T20:47:13.911Z"
   },
   {
    "duration": 6,
    "start_time": "2024-10-30T20:47:13.922Z"
   },
   {
    "duration": 5,
    "start_time": "2024-10-30T20:47:13.929Z"
   },
   {
    "duration": 143,
    "start_time": "2024-10-30T20:47:13.935Z"
   },
   {
    "duration": 1748,
    "start_time": "2024-10-30T20:53:35.416Z"
   },
   {
    "duration": 97,
    "start_time": "2024-10-30T21:31:36.390Z"
   },
   {
    "duration": 1784,
    "start_time": "2024-10-30T22:14:43.699Z"
   },
   {
    "duration": 5,
    "start_time": "2024-10-30T23:08:05.606Z"
   },
   {
    "duration": 7,
    "start_time": "2024-10-30T23:08:10.539Z"
   },
   {
    "duration": 4,
    "start_time": "2024-10-30T23:08:18.866Z"
   },
   {
    "duration": 713,
    "start_time": "2024-10-31T05:05:58.058Z"
   },
   {
    "duration": 15,
    "start_time": "2024-10-31T05:05:58.773Z"
   },
   {
    "duration": 7,
    "start_time": "2024-10-31T05:05:58.789Z"
   },
   {
    "duration": 61,
    "start_time": "2024-10-31T05:05:58.798Z"
   },
   {
    "duration": 10,
    "start_time": "2024-10-31T05:05:58.861Z"
   },
   {
    "duration": 9,
    "start_time": "2024-10-31T05:05:58.872Z"
   },
   {
    "duration": 8,
    "start_time": "2024-10-31T05:05:58.883Z"
   },
   {
    "duration": 23,
    "start_time": "2024-10-31T05:05:58.958Z"
   },
   {
    "duration": 75,
    "start_time": "2024-10-31T05:05:58.982Z"
   },
   {
    "duration": 7,
    "start_time": "2024-10-31T05:05:59.059Z"
   },
   {
    "duration": 9,
    "start_time": "2024-10-31T05:05:59.067Z"
   },
   {
    "duration": 790,
    "start_time": "2024-10-31T05:05:59.077Z"
   },
   {
    "duration": 207,
    "start_time": "2024-10-31T05:05:59.868Z"
   },
   {
    "duration": 303,
    "start_time": "2024-10-31T05:06:00.078Z"
   },
   {
    "duration": 316,
    "start_time": "2024-10-31T05:06:00.382Z"
   },
   {
    "duration": 394,
    "start_time": "2024-10-31T05:06:00.700Z"
   },
   {
    "duration": 77,
    "start_time": "2024-10-31T05:06:01.095Z"
   },
   {
    "duration": 36,
    "start_time": "2024-10-31T05:06:01.173Z"
   },
   {
    "duration": 53,
    "start_time": "2024-10-31T05:06:01.210Z"
   },
   {
    "duration": 405,
    "start_time": "2024-10-31T05:06:01.265Z"
   },
   {
    "duration": 8,
    "start_time": "2024-10-31T05:06:01.672Z"
   },
   {
    "duration": 310,
    "start_time": "2024-10-31T05:06:01.682Z"
   },
   {
    "duration": 9,
    "start_time": "2024-10-31T05:06:01.993Z"
   },
   {
    "duration": 154,
    "start_time": "2024-10-31T05:06:02.003Z"
   },
   {
    "duration": 6,
    "start_time": "2024-10-31T05:06:02.159Z"
   },
   {
    "duration": 150,
    "start_time": "2024-10-31T05:06:02.166Z"
   },
   {
    "duration": 41,
    "start_time": "2024-10-31T05:06:02.317Z"
   },
   {
    "duration": 14,
    "start_time": "2024-10-31T05:06:02.359Z"
   },
   {
    "duration": 422,
    "start_time": "2024-10-31T05:06:02.374Z"
   },
   {
    "duration": 5,
    "start_time": "2024-10-31T05:06:02.798Z"
   },
   {
    "duration": 70,
    "start_time": "2024-10-31T05:06:02.804Z"
   },
   {
    "duration": 1531,
    "start_time": "2024-10-31T05:06:02.875Z"
   },
   {
    "duration": 5,
    "start_time": "2024-10-31T05:06:04.407Z"
   },
   {
    "duration": 13,
    "start_time": "2024-10-31T05:06:04.414Z"
   },
   {
    "duration": 76,
    "start_time": "2024-10-31T05:06:04.428Z"
   },
   {
    "duration": 125,
    "start_time": "2024-10-31T05:06:04.506Z"
   },
   {
    "duration": 5,
    "start_time": "2024-10-31T05:15:01.479Z"
   },
   {
    "duration": 1831,
    "start_time": "2024-10-31T11:57:13.594Z"
   },
   {
    "duration": 14,
    "start_time": "2024-10-31T11:57:18.155Z"
   },
   {
    "duration": 9,
    "start_time": "2024-10-31T11:57:23.322Z"
   },
   {
    "duration": 8,
    "start_time": "2024-10-31T11:57:39.181Z"
   },
   {
    "duration": 13,
    "start_time": "2024-10-31T11:57:45.207Z"
   },
   {
    "duration": 12,
    "start_time": "2024-10-31T11:57:52.646Z"
   },
   {
    "duration": 11,
    "start_time": "2024-10-31T11:57:58.297Z"
   },
   {
    "duration": 12,
    "start_time": "2024-10-31T12:38:16.121Z"
   },
   {
    "duration": 10,
    "start_time": "2024-10-31T12:38:29.708Z"
   },
   {
    "duration": 6,
    "start_time": "2024-10-31T12:38:35.403Z"
   },
   {
    "duration": 9,
    "start_time": "2024-10-31T12:38:38.437Z"
   },
   {
    "duration": 184,
    "start_time": "2024-10-31T12:38:58.733Z"
   },
   {
    "duration": 166,
    "start_time": "2024-10-31T12:39:17.800Z"
   },
   {
    "duration": 49,
    "start_time": "2024-10-31T15:33:43.445Z"
   },
   {
    "duration": 1783,
    "start_time": "2024-10-31T15:34:02.393Z"
   },
   {
    "duration": 13,
    "start_time": "2024-10-31T15:34:04.178Z"
   },
   {
    "duration": 42,
    "start_time": "2024-10-31T15:34:04.193Z"
   },
   {
    "duration": 25,
    "start_time": "2024-10-31T15:34:04.236Z"
   },
   {
    "duration": 35,
    "start_time": "2024-10-31T15:34:04.263Z"
   },
   {
    "duration": 27,
    "start_time": "2024-10-31T15:34:04.299Z"
   },
   {
    "duration": 10,
    "start_time": "2024-10-31T15:34:04.327Z"
   },
   {
    "duration": 18,
    "start_time": "2024-10-31T15:34:04.338Z"
   },
   {
    "duration": 13,
    "start_time": "2024-10-31T15:34:04.358Z"
   },
   {
    "duration": 132,
    "start_time": "2024-10-31T15:34:04.373Z"
   },
   {
    "duration": 32,
    "start_time": "2024-10-31T15:34:04.507Z"
   },
   {
    "duration": 180,
    "start_time": "2024-10-31T15:34:04.540Z"
   },
   {
    "duration": 171,
    "start_time": "2024-10-31T15:35:43.446Z"
   },
   {
    "duration": 167,
    "start_time": "2024-10-31T15:36:04.050Z"
   },
   {
    "duration": 355,
    "start_time": "2024-10-31T15:42:34.994Z"
   },
   {
    "duration": 428,
    "start_time": "2024-10-31T15:50:12.627Z"
   },
   {
    "duration": 28,
    "start_time": "2024-10-31T17:01:10.482Z"
   },
   {
    "duration": 23,
    "start_time": "2024-10-31T17:01:49.652Z"
   },
   {
    "duration": 23,
    "start_time": "2024-10-31T17:02:48.313Z"
   },
   {
    "duration": 18,
    "start_time": "2024-10-31T17:02:58.338Z"
   },
   {
    "duration": 19,
    "start_time": "2024-10-31T17:03:08.123Z"
   },
   {
    "duration": 14,
    "start_time": "2024-10-31T17:06:11.991Z"
   },
   {
    "duration": 17,
    "start_time": "2024-10-31T17:06:43.353Z"
   },
   {
    "duration": 15,
    "start_time": "2024-10-31T17:07:34.612Z"
   },
   {
    "duration": 25,
    "start_time": "2024-10-31T17:08:21.449Z"
   },
   {
    "duration": 13,
    "start_time": "2024-10-31T17:08:48.691Z"
   },
   {
    "duration": 24,
    "start_time": "2024-10-31T17:13:45.508Z"
   },
   {
    "duration": 132,
    "start_time": "2024-10-31T17:14:21.715Z"
   },
   {
    "duration": 19,
    "start_time": "2024-10-31T17:15:39.655Z"
   },
   {
    "duration": 123,
    "start_time": "2024-10-31T17:15:51.663Z"
   },
   {
    "duration": 28,
    "start_time": "2024-10-31T17:34:09.630Z"
   },
   {
    "duration": 23,
    "start_time": "2024-10-31T17:34:35.710Z"
   },
   {
    "duration": 93,
    "start_time": "2024-10-31T17:51:20.651Z"
   },
   {
    "duration": 90,
    "start_time": "2024-10-31T17:53:43.790Z"
   },
   {
    "duration": 98,
    "start_time": "2024-10-31T17:53:55.661Z"
   },
   {
    "duration": 16,
    "start_time": "2024-10-31T18:00:11.698Z"
   },
   {
    "duration": 11,
    "start_time": "2024-10-31T18:02:42.602Z"
   },
   {
    "duration": 94,
    "start_time": "2024-10-31T18:03:06.286Z"
   },
   {
    "duration": 172,
    "start_time": "2024-10-31T18:04:50.481Z"
   },
   {
    "duration": 114,
    "start_time": "2024-10-31T18:06:01.933Z"
   },
   {
    "duration": 101,
    "start_time": "2024-10-31T18:06:40.672Z"
   },
   {
    "duration": 101,
    "start_time": "2024-10-31T18:07:54.888Z"
   },
   {
    "duration": 96,
    "start_time": "2024-10-31T18:08:16.904Z"
   },
   {
    "duration": 107,
    "start_time": "2024-10-31T18:08:34.169Z"
   },
   {
    "duration": 152,
    "start_time": "2024-10-31T18:14:03.919Z"
   },
   {
    "duration": 145,
    "start_time": "2024-10-31T18:20:28.624Z"
   },
   {
    "duration": 157,
    "start_time": "2024-10-31T18:22:25.632Z"
   },
   {
    "duration": 186,
    "start_time": "2024-10-31T18:22:44.329Z"
   },
   {
    "duration": 150,
    "start_time": "2024-10-31T18:24:06.176Z"
   },
   {
    "duration": 160,
    "start_time": "2024-10-31T18:28:02.249Z"
   },
   {
    "duration": 193,
    "start_time": "2024-10-31T18:31:36.910Z"
   },
   {
    "duration": 197,
    "start_time": "2024-10-31T18:32:00.441Z"
   },
   {
    "duration": 164,
    "start_time": "2024-10-31T18:32:30.533Z"
   },
   {
    "duration": 266,
    "start_time": "2024-10-31T18:34:01.451Z"
   },
   {
    "duration": 190,
    "start_time": "2024-10-31T19:15:28.140Z"
   },
   {
    "duration": 165,
    "start_time": "2024-10-31T19:15:55.203Z"
   },
   {
    "duration": 15,
    "start_time": "2024-10-31T19:27:07.291Z"
   },
   {
    "duration": 37,
    "start_time": "2024-10-31T19:27:22.753Z"
   },
   {
    "duration": 13,
    "start_time": "2024-10-31T19:27:27.065Z"
   },
   {
    "duration": 8,
    "start_time": "2024-10-31T19:27:32.498Z"
   },
   {
    "duration": 208,
    "start_time": "2024-10-31T19:27:36.307Z"
   },
   {
    "duration": 178,
    "start_time": "2024-10-31T19:28:25.997Z"
   },
   {
    "duration": 175,
    "start_time": "2024-10-31T19:29:09.017Z"
   },
   {
    "duration": 177,
    "start_time": "2024-10-31T19:29:33.692Z"
   },
   {
    "duration": 77,
    "start_time": "2024-10-31T19:49:21.189Z"
   },
   {
    "duration": 82,
    "start_time": "2024-10-31T19:50:11.798Z"
   },
   {
    "duration": 149,
    "start_time": "2024-10-31T19:50:28.458Z"
   },
   {
    "duration": 62,
    "start_time": "2024-10-31T19:52:43.625Z"
   },
   {
    "duration": 69,
    "start_time": "2024-10-31T19:52:53.461Z"
   },
   {
    "duration": 63,
    "start_time": "2024-10-31T19:53:05.665Z"
   },
   {
    "duration": 61,
    "start_time": "2024-10-31T19:53:54.205Z"
   },
   {
    "duration": 169,
    "start_time": "2024-10-31T19:54:14.481Z"
   },
   {
    "duration": 147,
    "start_time": "2024-10-31T19:54:47.751Z"
   },
   {
    "duration": 152,
    "start_time": "2024-10-31T19:56:06.795Z"
   },
   {
    "duration": 155,
    "start_time": "2024-10-31T19:58:04.497Z"
   },
   {
    "duration": 164,
    "start_time": "2024-10-31T20:01:27.353Z"
   },
   {
    "duration": 164,
    "start_time": "2024-10-31T20:02:03.594Z"
   },
   {
    "duration": 317,
    "start_time": "2024-10-31T20:02:12.755Z"
   },
   {
    "duration": 195,
    "start_time": "2024-10-31T20:02:55.596Z"
   },
   {
    "duration": 190,
    "start_time": "2024-10-31T20:03:45.239Z"
   },
   {
    "duration": 9,
    "start_time": "2024-10-31T20:05:49.200Z"
   },
   {
    "duration": 8,
    "start_time": "2024-10-31T20:07:28.019Z"
   },
   {
    "duration": 8,
    "start_time": "2024-10-31T20:07:31.600Z"
   },
   {
    "duration": 88,
    "start_time": "2024-10-31T20:13:59.256Z"
   },
   {
    "duration": 192,
    "start_time": "2024-10-31T20:14:56.114Z"
   },
   {
    "duration": 38,
    "start_time": "2024-10-31T20:45:15.063Z"
   },
   {
    "duration": 24,
    "start_time": "2024-10-31T20:45:23.204Z"
   },
   {
    "duration": 7,
    "start_time": "2024-10-31T21:07:17.599Z"
   },
   {
    "duration": 6,
    "start_time": "2024-10-31T21:07:22.471Z"
   },
   {
    "duration": 16,
    "start_time": "2024-10-31T21:07:28.476Z"
   },
   {
    "duration": 1795,
    "start_time": "2024-10-31T21:28:26.294Z"
   },
   {
    "duration": 5,
    "start_time": "2024-10-31T21:28:33.997Z"
   },
   {
    "duration": 6,
    "start_time": "2024-10-31T21:28:37.457Z"
   },
   {
    "duration": 6,
    "start_time": "2024-10-31T21:28:41.852Z"
   },
   {
    "duration": 131,
    "start_time": "2024-10-31T21:28:51.524Z"
   },
   {
    "duration": 32,
    "start_time": "2024-10-31T22:20:35.163Z"
   },
   {
    "duration": 29,
    "start_time": "2024-10-31T22:21:10.626Z"
   },
   {
    "duration": 12,
    "start_time": "2024-10-31T22:22:14.476Z"
   },
   {
    "duration": 31,
    "start_time": "2024-10-31T22:26:16.585Z"
   },
   {
    "duration": 14,
    "start_time": "2024-10-31T22:26:46.762Z"
   },
   {
    "duration": 10,
    "start_time": "2024-10-31T22:27:00.287Z"
   },
   {
    "duration": 160,
    "start_time": "2024-10-31T22:35:55.703Z"
   },
   {
    "duration": 152,
    "start_time": "2024-10-31T22:36:34.919Z"
   },
   {
    "duration": 36,
    "start_time": "2024-10-31T22:48:01.738Z"
   },
   {
    "duration": 23,
    "start_time": "2024-10-31T22:49:50.761Z"
   },
   {
    "duration": 77,
    "start_time": "2024-10-31T23:02:06.359Z"
   },
   {
    "duration": 9,
    "start_time": "2024-10-31T23:02:06.438Z"
   },
   {
    "duration": 44,
    "start_time": "2024-10-31T23:02:06.449Z"
   },
   {
    "duration": 23,
    "start_time": "2024-10-31T23:02:06.494Z"
   },
   {
    "duration": 95,
    "start_time": "2024-10-31T23:02:06.519Z"
   },
   {
    "duration": 31,
    "start_time": "2024-10-31T23:02:06.615Z"
   },
   {
    "duration": 19,
    "start_time": "2024-10-31T23:02:06.647Z"
   },
   {
    "duration": 65,
    "start_time": "2024-10-31T23:02:06.667Z"
   },
   {
    "duration": 40,
    "start_time": "2024-10-31T23:02:06.733Z"
   },
   {
    "duration": 27,
    "start_time": "2024-10-31T23:02:06.776Z"
   },
   {
    "duration": 46,
    "start_time": "2024-10-31T23:02:06.807Z"
   },
   {
    "duration": 180,
    "start_time": "2024-10-31T23:02:06.855Z"
   },
   {
    "duration": 347,
    "start_time": "2024-10-31T23:02:07.036Z"
   },
   {
    "duration": 165,
    "start_time": "2024-10-31T23:02:07.385Z"
   },
   {
    "duration": 215,
    "start_time": "2024-10-31T23:02:07.552Z"
   },
   {
    "duration": 182,
    "start_time": "2024-10-31T23:02:07.768Z"
   },
   {
    "duration": 24,
    "start_time": "2024-10-31T23:02:07.952Z"
   },
   {
    "duration": 12,
    "start_time": "2024-10-31T23:02:07.977Z"
   },
   {
    "duration": 51,
    "start_time": "2024-10-31T23:02:07.991Z"
   },
   {
    "duration": 26,
    "start_time": "2024-10-31T23:02:08.044Z"
   },
   {
    "duration": 209,
    "start_time": "2024-10-31T23:02:08.071Z"
   },
   {
    "duration": 9,
    "start_time": "2024-10-31T23:02:08.281Z"
   },
   {
    "duration": 8,
    "start_time": "2024-10-31T23:02:08.291Z"
   },
   {
    "duration": 211,
    "start_time": "2024-10-31T23:02:08.300Z"
   },
   {
    "duration": 43,
    "start_time": "2024-10-31T23:02:08.512Z"
   },
   {
    "duration": 48,
    "start_time": "2024-10-31T23:02:08.557Z"
   },
   {
    "duration": 7,
    "start_time": "2024-10-31T23:02:08.606Z"
   },
   {
    "duration": 14,
    "start_time": "2024-10-31T23:02:08.616Z"
   },
   {
    "duration": 19,
    "start_time": "2024-10-31T23:02:08.632Z"
   },
   {
    "duration": 1953,
    "start_time": "2024-10-31T23:02:08.653Z"
   },
   {
    "duration": 5,
    "start_time": "2024-10-31T23:02:10.608Z"
   },
   {
    "duration": 34,
    "start_time": "2024-10-31T23:02:10.615Z"
   },
   {
    "duration": 11,
    "start_time": "2024-10-31T23:02:10.650Z"
   },
   {
    "duration": 150,
    "start_time": "2024-10-31T23:02:10.662Z"
   },
   {
    "duration": 1393,
    "start_time": "2024-11-01T13:03:54.463Z"
   },
   {
    "duration": 12,
    "start_time": "2024-11-01T13:03:55.858Z"
   },
   {
    "duration": 8,
    "start_time": "2024-11-01T13:03:55.872Z"
   },
   {
    "duration": 14,
    "start_time": "2024-11-01T13:03:55.882Z"
   },
   {
    "duration": 15,
    "start_time": "2024-11-01T13:03:55.898Z"
   },
   {
    "duration": 16,
    "start_time": "2024-11-01T13:03:55.915Z"
   },
   {
    "duration": 10,
    "start_time": "2024-11-01T13:03:55.934Z"
   },
   {
    "duration": 13,
    "start_time": "2024-11-01T13:03:55.946Z"
   },
   {
    "duration": 8,
    "start_time": "2024-11-01T13:03:55.961Z"
   },
   {
    "duration": 5,
    "start_time": "2024-11-01T13:03:55.971Z"
   },
   {
    "duration": 8,
    "start_time": "2024-11-01T13:03:55.977Z"
   },
   {
    "duration": 239,
    "start_time": "2024-11-01T13:03:55.986Z"
   },
   {
    "duration": 191,
    "start_time": "2024-11-01T13:03:56.227Z"
   },
   {
    "duration": 234,
    "start_time": "2024-11-01T13:03:56.422Z"
   },
   {
    "duration": 355,
    "start_time": "2024-11-01T13:03:56.658Z"
   },
   {
    "duration": 353,
    "start_time": "2024-11-01T13:03:57.017Z"
   },
   {
    "duration": 32,
    "start_time": "2024-11-01T13:03:57.419Z"
   },
   {
    "duration": 69,
    "start_time": "2024-11-01T13:03:57.453Z"
   },
   {
    "duration": 14,
    "start_time": "2024-11-01T13:03:57.524Z"
   },
   {
    "duration": 17,
    "start_time": "2024-11-01T13:03:57.539Z"
   },
   {
    "duration": 486,
    "start_time": "2024-11-01T13:03:57.558Z"
   },
   {
    "duration": 8,
    "start_time": "2024-11-01T13:03:58.046Z"
   },
   {
    "duration": 41,
    "start_time": "2024-11-01T13:03:58.056Z"
   },
   {
    "duration": 545,
    "start_time": "2024-11-01T13:03:58.099Z"
   },
   {
    "duration": 114,
    "start_time": "2024-11-01T13:03:58.646Z"
   },
   {
    "duration": 78,
    "start_time": "2024-11-01T13:03:58.763Z"
   },
   {
    "duration": 8,
    "start_time": "2024-11-01T13:03:58.842Z"
   },
   {
    "duration": 69,
    "start_time": "2024-11-01T13:03:58.851Z"
   },
   {
    "duration": 31,
    "start_time": "2024-11-01T13:03:58.922Z"
   },
   {
    "duration": 4187,
    "start_time": "2024-11-01T13:03:58.955Z"
   },
   {
    "duration": 7,
    "start_time": "2024-11-01T13:04:03.145Z"
   },
   {
    "duration": 68,
    "start_time": "2024-11-01T13:04:03.154Z"
   },
   {
    "duration": 40,
    "start_time": "2024-11-01T13:04:03.224Z"
   },
   {
    "duration": 355,
    "start_time": "2024-11-01T13:04:03.266Z"
   },
   {
    "duration": 49,
    "start_time": "2024-11-05T22:15:02.317Z"
   },
   {
    "duration": 1474,
    "start_time": "2024-11-05T22:15:08.736Z"
   },
   {
    "duration": 16,
    "start_time": "2024-11-05T22:15:10.213Z"
   },
   {
    "duration": 8,
    "start_time": "2024-11-05T22:15:10.231Z"
   },
   {
    "duration": 7,
    "start_time": "2024-11-05T22:15:10.241Z"
   },
   {
    "duration": 11,
    "start_time": "2024-11-05T22:15:10.250Z"
   },
   {
    "duration": 15,
    "start_time": "2024-11-05T22:15:10.262Z"
   },
   {
    "duration": 13,
    "start_time": "2024-11-05T22:15:10.279Z"
   },
   {
    "duration": 17,
    "start_time": "2024-11-05T22:15:10.295Z"
   },
   {
    "duration": 8,
    "start_time": "2024-11-05T22:15:10.314Z"
   },
   {
    "duration": 5,
    "start_time": "2024-11-05T22:15:10.324Z"
   },
   {
    "duration": 38,
    "start_time": "2024-11-05T22:15:10.331Z"
   },
   {
    "duration": 214,
    "start_time": "2024-11-05T22:15:10.371Z"
   },
   {
    "duration": 198,
    "start_time": "2024-11-05T22:15:10.587Z"
   },
   {
    "duration": 173,
    "start_time": "2024-11-05T22:15:10.788Z"
   },
   {
    "duration": 196,
    "start_time": "2024-11-05T22:15:10.963Z"
   },
   {
    "duration": 208,
    "start_time": "2024-11-05T22:15:11.161Z"
   },
   {
    "duration": 39,
    "start_time": "2024-11-05T22:15:11.371Z"
   },
   {
    "duration": 14,
    "start_time": "2024-11-05T22:15:11.412Z"
   },
   {
    "duration": 8,
    "start_time": "2024-11-05T22:15:11.428Z"
   },
   {
    "duration": 27,
    "start_time": "2024-11-05T22:15:11.439Z"
   },
   {
    "duration": 211,
    "start_time": "2024-11-05T22:15:11.467Z"
   },
   {
    "duration": 8,
    "start_time": "2024-11-05T22:15:11.680Z"
   },
   {
    "duration": 9,
    "start_time": "2024-11-05T22:15:11.690Z"
   },
   {
    "duration": 280,
    "start_time": "2024-11-05T22:15:11.701Z"
   },
   {
    "duration": 36,
    "start_time": "2024-11-05T22:15:11.983Z"
   },
   {
    "duration": 22,
    "start_time": "2024-11-05T22:15:12.021Z"
   },
   {
    "duration": 26,
    "start_time": "2024-11-05T22:15:12.044Z"
   },
   {
    "duration": 6,
    "start_time": "2024-11-05T22:15:12.072Z"
   },
   {
    "duration": 20,
    "start_time": "2024-11-05T22:15:12.080Z"
   },
   {
    "duration": 14,
    "start_time": "2024-11-05T22:16:05.096Z"
   },
   {
    "duration": 130,
    "start_time": "2025-04-09T17:17:56.902Z"
   },
   {
    "duration": 79,
    "start_time": "2025-04-09T17:18:36.481Z"
   },
   {
    "duration": 70,
    "start_time": "2025-04-09T17:18:58.514Z"
   },
   {
    "duration": 75,
    "start_time": "2025-04-09T17:20:11.280Z"
   },
   {
    "duration": 3594,
    "start_time": "2025-04-09T17:20:49.670Z"
   },
   {
    "duration": 613,
    "start_time": "2025-04-09T17:21:20.394Z"
   },
   {
    "duration": 60655,
    "start_time": "2025-04-09T17:22:01.883Z"
   },
   {
    "duration": 851,
    "start_time": "2025-04-09T17:24:32.149Z"
   },
   {
    "duration": 23495,
    "start_time": "2025-04-09T17:25:10.094Z"
   },
   {
    "duration": 22891,
    "start_time": "2025-04-09T20:29:02.214Z"
   },
   {
    "duration": 20343,
    "start_time": "2025-04-09T20:30:21.967Z"
   },
   {
    "duration": 488,
    "start_time": "2025-04-09T20:31:15.765Z"
   },
   {
    "duration": 20586,
    "start_time": "2025-04-09T20:32:13.035Z"
   },
   {
    "duration": 21176,
    "start_time": "2025-04-09T20:43:38.222Z"
   },
   {
    "duration": 12183,
    "start_time": "2025-04-09T20:44:05.823Z"
   },
   {
    "duration": 600,
    "start_time": "2025-04-09T20:56:22.378Z"
   },
   {
    "duration": 639,
    "start_time": "2025-04-09T20:56:57.322Z"
   },
   {
    "duration": 21781,
    "start_time": "2025-04-09T20:57:13.832Z"
   },
   {
    "duration": 27725,
    "start_time": "2025-04-10T06:18:29.700Z"
   },
   {
    "duration": 75814,
    "start_time": "2025-04-10T06:21:52.404Z"
   },
   {
    "duration": 0,
    "start_time": "2025-04-10T06:24:31.642Z"
   },
   {
    "duration": 38153,
    "start_time": "2025-04-10T06:24:36.782Z"
   },
   {
    "duration": 488,
    "start_time": "2025-04-10T06:25:35.861Z"
   },
   {
    "duration": 726,
    "start_time": "2025-04-10T06:27:17.712Z"
   },
   {
    "duration": 12882,
    "start_time": "2025-04-10T06:27:35.873Z"
   },
   {
    "duration": 610,
    "start_time": "2025-04-10T06:41:41.713Z"
   },
   {
    "duration": 485,
    "start_time": "2025-04-10T06:42:12.024Z"
   },
   {
    "duration": 608,
    "start_time": "2025-04-10T06:44:08.644Z"
   },
   {
    "duration": 12944,
    "start_time": "2025-04-10T06:44:34.910Z"
   },
   {
    "duration": 13120,
    "start_time": "2025-04-10T06:46:08.723Z"
   },
   {
    "duration": 13599,
    "start_time": "2025-04-10T06:48:30.253Z"
   },
   {
    "duration": 5673,
    "start_time": "2025-04-10T06:48:54.665Z"
   },
   {
    "duration": 12617,
    "start_time": "2025-04-10T06:49:02.726Z"
   },
   {
    "duration": 267,
    "start_time": "2025-04-10T06:53:32.878Z"
   },
   {
    "duration": 270,
    "start_time": "2025-04-10T06:54:36.588Z"
   },
   {
    "duration": 266,
    "start_time": "2025-04-10T06:55:20.389Z"
   },
   {
    "duration": 280,
    "start_time": "2025-04-10T06:56:06.161Z"
   },
   {
    "duration": 595,
    "start_time": "2025-04-10T06:56:23.100Z"
   },
   {
    "duration": 12938,
    "start_time": "2025-04-10T06:56:51.873Z"
   },
   {
    "duration": 458,
    "start_time": "2025-04-10T06:57:54.073Z"
   },
   {
    "duration": 738,
    "start_time": "2025-04-10T06:58:32.482Z"
   },
   {
    "duration": 3552,
    "start_time": "2025-04-10T08:09:36.959Z"
   },
   {
    "duration": 1028,
    "start_time": "2025-04-10T08:11:05.148Z"
   },
   {
    "duration": 12667,
    "start_time": "2025-04-10T08:12:15.646Z"
   },
   {
    "duration": 668,
    "start_time": "2025-04-10T08:12:47.399Z"
   },
   {
    "duration": 12325,
    "start_time": "2025-04-10T08:16:52.755Z"
   },
   {
    "duration": 2677,
    "start_time": "2025-04-12T11:37:22.701Z"
   },
   {
    "duration": 487,
    "start_time": "2025-04-12T11:40:08.555Z"
   },
   {
    "duration": 317,
    "start_time": "2025-04-12T11:40:37.904Z"
   },
   {
    "duration": 308,
    "start_time": "2025-04-12T11:41:38.520Z"
   },
   {
    "duration": 832,
    "start_time": "2025-04-12T11:42:29.596Z"
   },
   {
    "duration": 671,
    "start_time": "2025-04-12T11:43:22.669Z"
   },
   {
    "duration": 664,
    "start_time": "2025-04-12T11:43:57.325Z"
   },
   {
    "duration": 722,
    "start_time": "2025-04-12T11:44:47.761Z"
   },
   {
    "duration": 332920,
    "start_time": "2025-04-12T11:45:33.320Z"
   },
   {
    "duration": 97945,
    "start_time": "2025-04-12T11:51:39.279Z"
   },
   {
    "duration": 55499,
    "start_time": "2025-04-12T11:54:02.242Z"
   },
   {
    "duration": 28462,
    "start_time": "2025-04-12T11:55:04.448Z"
   },
   {
    "duration": 46543,
    "start_time": "2025-04-12T11:55:42.297Z"
   },
   {
    "duration": 20,
    "start_time": "2025-04-12T11:57:29.448Z"
   },
   {
    "duration": 13770,
    "start_time": "2025-04-12T11:57:56.384Z"
   },
   {
    "duration": 132934,
    "start_time": "2025-04-12T11:58:33.776Z"
   },
   {
    "duration": 3310,
    "start_time": "2025-04-12T13:33:24.661Z"
   },
   {
    "duration": 299632,
    "start_time": "2025-04-12T13:34:26.255Z"
   },
   {
    "duration": 301,
    "start_time": "2025-04-12T13:42:31.290Z"
   },
   {
    "duration": 333,
    "start_time": "2025-04-12T13:42:55.256Z"
   },
   {
    "duration": 590999,
    "start_time": "2025-04-12T13:43:19.275Z"
   },
   {
    "duration": 7288,
    "start_time": "2025-04-12T13:53:40.728Z"
   },
   {
    "duration": 377986,
    "start_time": "2025-04-12T13:54:43.727Z"
   },
   {
    "duration": 42360,
    "start_time": "2025-04-12T14:01:04.957Z"
   },
   {
    "duration": 64245,
    "start_time": "2025-04-12T14:09:06.004Z"
   },
   {
    "duration": 320955,
    "start_time": "2025-04-12T14:10:30.523Z"
   },
   {
    "duration": 302,
    "start_time": "2025-04-12T14:32:39.150Z"
   },
   {
    "duration": 55136,
    "start_time": "2025-04-12T14:33:09.170Z"
   },
   {
    "duration": 158715,
    "start_time": "2025-04-12T14:34:32.057Z"
   },
   {
    "duration": 2411,
    "start_time": "2025-04-12T16:47:33.580Z"
   },
   {
    "duration": 28,
    "start_time": "2025-04-12T16:48:05.953Z"
   },
   {
    "duration": 1640,
    "start_time": "2025-04-12T16:48:27.048Z"
   },
   {
    "duration": 1244,
    "start_time": "2025-04-12T16:49:12.454Z"
   },
   {
    "duration": 1308,
    "start_time": "2025-04-12T16:50:00.318Z"
   },
   {
    "duration": 1229,
    "start_time": "2025-04-12T16:50:21.858Z"
   },
   {
    "duration": 125,
    "start_time": "2025-04-12T16:52:32.610Z"
   },
   {
    "duration": 1313,
    "start_time": "2025-04-12T16:53:16.977Z"
   },
   {
    "duration": 1335,
    "start_time": "2025-04-12T16:55:21.502Z"
   },
   {
    "duration": 1064,
    "start_time": "2025-04-12T16:57:52.690Z"
   },
   {
    "duration": 138,
    "start_time": "2025-04-12T17:03:41.505Z"
   },
   {
    "duration": 18222,
    "start_time": "2025-04-12T17:04:07.373Z"
   },
   {
    "duration": 513,
    "start_time": "2025-04-12T17:05:42.132Z"
   },
   {
    "duration": 80,
    "start_time": "2025-04-12T17:07:11.090Z"
   },
   {
    "duration": 96098,
    "start_time": "2025-04-12T17:07:31.272Z"
   },
   {
    "duration": 478236,
    "start_time": "2025-04-12T17:09:27.431Z"
   },
   {
    "duration": 99413,
    "start_time": "2025-04-12T17:18:36.076Z"
   },
   {
    "duration": 33888,
    "start_time": "2025-04-12T19:51:59.937Z"
   },
   {
    "duration": 163,
    "start_time": "2025-04-12T19:55:28.970Z"
   },
   {
    "duration": 143155,
    "start_time": "2025-04-12T19:56:53.269Z"
   },
   {
    "duration": 2927,
    "start_time": "2025-04-12T20:25:32.482Z"
   },
   {
    "duration": 103975,
    "start_time": "2025-04-12T20:28:04.548Z"
   },
   {
    "duration": 106826,
    "start_time": "2025-04-12T20:34:25.298Z"
   },
   {
    "duration": 103729,
    "start_time": "2025-04-12T20:47:23.396Z"
   },
   {
    "duration": 102843,
    "start_time": "2025-04-12T20:51:51.294Z"
   },
   {
    "duration": 102760,
    "start_time": "2025-04-12T20:55:37.153Z"
   },
   {
    "duration": 102484,
    "start_time": "2025-04-12T21:00:24.432Z"
   },
   {
    "duration": 102037,
    "start_time": "2025-04-12T21:02:55.284Z"
   },
   {
    "duration": 510756,
    "start_time": "2025-04-12T21:05:25.477Z"
   },
   {
    "duration": 112184,
    "start_time": "2025-04-12T21:14:13.320Z"
   },
   {
    "duration": 110950,
    "start_time": "2025-04-12T21:17:54.890Z"
   },
   {
    "duration": 110950,
    "start_time": "2025-04-12T21:20:47.489Z"
   },
   {
    "duration": 5086,
    "start_time": "2025-04-13T21:26:07.813Z"
   },
   {
    "duration": 391139,
    "start_time": "2025-04-13T21:27:22.901Z"
   },
   {
    "duration": 83,
    "start_time": "2025-04-13T21:41:40.486Z"
   },
   {
    "duration": 788404,
    "start_time": "2025-04-13T21:41:58.256Z"
   },
   {
    "duration": 0,
    "start_time": "2025-04-14T10:03:35.309Z"
   },
   {
    "duration": 740289,
    "start_time": "2025-04-14T10:10:48.496Z"
   },
   {
    "duration": 742859,
    "start_time": "2025-04-14T10:24:18.123Z"
   },
   {
    "duration": 764586,
    "start_time": "2025-04-14T10:48:42.601Z"
   },
   {
    "duration": 1143423,
    "start_time": "2025-04-14T11:02:08.982Z"
   },
   {
    "duration": 1925467,
    "start_time": "2025-04-14T11:47:42.312Z"
   },
   {
    "duration": 725732,
    "start_time": "2025-04-14T13:31:50.047Z"
   },
   {
    "duration": 681698,
    "start_time": "2025-04-14T13:50:33.093Z"
   },
   {
    "duration": 2309,
    "start_time": "2025-04-14T14:09:55.829Z"
   },
   {
    "duration": 782440,
    "start_time": "2025-04-14T14:10:47.331Z"
   },
   {
    "duration": 17991,
    "start_time": "2025-04-14T14:33:04.610Z"
   },
   {
    "duration": 706342,
    "start_time": "2025-04-14T14:37:38.253Z"
   },
   {
    "duration": 1357,
    "start_time": "2025-05-24T21:19:37.146Z"
   },
   {
    "duration": 13,
    "start_time": "2025-05-24T21:19:38.505Z"
   },
   {
    "duration": 31,
    "start_time": "2025-05-24T21:19:38.519Z"
   },
   {
    "duration": 8,
    "start_time": "2025-05-24T21:19:38.551Z"
   },
   {
    "duration": 10,
    "start_time": "2025-05-24T21:19:38.561Z"
   },
   {
    "duration": 10,
    "start_time": "2025-05-24T21:19:38.573Z"
   },
   {
    "duration": 9,
    "start_time": "2025-05-24T21:19:38.585Z"
   },
   {
    "duration": 13,
    "start_time": "2025-05-24T21:19:38.596Z"
   },
   {
    "duration": 9,
    "start_time": "2025-05-24T21:19:38.610Z"
   },
   {
    "duration": 41,
    "start_time": "2025-05-24T21:19:38.620Z"
   },
   {
    "duration": 34,
    "start_time": "2025-05-24T21:19:38.663Z"
   },
   {
    "duration": 195,
    "start_time": "2025-05-24T21:19:38.698Z"
   },
   {
    "duration": 169,
    "start_time": "2025-05-24T21:19:38.894Z"
   },
   {
    "duration": 164,
    "start_time": "2025-05-24T21:19:39.066Z"
   },
   {
    "duration": 182,
    "start_time": "2025-05-24T21:19:39.231Z"
   },
   {
    "duration": 183,
    "start_time": "2025-05-24T21:19:39.414Z"
   },
   {
    "duration": 26,
    "start_time": "2025-05-24T21:19:39.598Z"
   },
   {
    "duration": 13,
    "start_time": "2025-05-24T21:19:39.625Z"
   },
   {
    "duration": 24,
    "start_time": "2025-05-24T21:19:39.639Z"
   },
   {
    "duration": 7,
    "start_time": "2025-05-24T21:19:39.665Z"
   },
   {
    "duration": 216,
    "start_time": "2025-05-24T21:19:39.674Z"
   },
   {
    "duration": 8,
    "start_time": "2025-05-24T21:19:39.891Z"
   },
   {
    "duration": 8,
    "start_time": "2025-05-24T21:19:39.900Z"
   },
   {
    "duration": 221,
    "start_time": "2025-05-24T21:19:39.909Z"
   },
   {
    "duration": 43,
    "start_time": "2025-05-24T21:19:40.132Z"
   },
   {
    "duration": 45,
    "start_time": "2025-05-24T21:19:40.176Z"
   },
   {
    "duration": 25,
    "start_time": "2025-05-24T21:19:40.223Z"
   },
   {
    "duration": 6,
    "start_time": "2025-05-24T21:19:40.250Z"
   },
   {
    "duration": 14,
    "start_time": "2025-05-24T21:19:40.257Z"
   },
   {
    "duration": 1933,
    "start_time": "2025-05-24T21:19:40.272Z"
   },
   {
    "duration": 4,
    "start_time": "2025-05-24T21:19:42.207Z"
   },
   {
    "duration": 17,
    "start_time": "2025-05-24T21:19:42.213Z"
   },
   {
    "duration": 5,
    "start_time": "2025-05-24T21:19:42.231Z"
   },
   {
    "duration": 159,
    "start_time": "2025-05-24T21:19:42.237Z"
   },
   {
    "duration": 1141,
    "start_time": "2025-05-24T21:27:19.243Z"
   },
   {
    "duration": 14,
    "start_time": "2025-05-24T21:27:20.386Z"
   },
   {
    "duration": 17,
    "start_time": "2025-05-24T21:27:20.402Z"
   },
   {
    "duration": 8,
    "start_time": "2025-05-24T21:27:20.421Z"
   },
   {
    "duration": 12,
    "start_time": "2025-05-24T21:27:20.432Z"
   },
   {
    "duration": 22,
    "start_time": "2025-05-24T21:27:20.445Z"
   },
   {
    "duration": 10,
    "start_time": "2025-05-24T21:27:20.469Z"
   },
   {
    "duration": 12,
    "start_time": "2025-05-24T21:27:20.481Z"
   },
   {
    "duration": 10,
    "start_time": "2025-05-24T21:27:20.495Z"
   },
   {
    "duration": 7,
    "start_time": "2025-05-24T21:27:20.507Z"
   },
   {
    "duration": 50,
    "start_time": "2025-05-24T21:27:20.515Z"
   },
   {
    "duration": 191,
    "start_time": "2025-05-24T21:27:20.567Z"
   },
   {
    "duration": 163,
    "start_time": "2025-05-24T21:27:20.759Z"
   },
   {
    "duration": 169,
    "start_time": "2025-05-24T21:27:20.926Z"
   },
   {
    "duration": 197,
    "start_time": "2025-05-24T21:27:21.097Z"
   },
   {
    "duration": 188,
    "start_time": "2025-05-24T21:27:21.296Z"
   },
   {
    "duration": 28,
    "start_time": "2025-05-24T21:27:21.486Z"
   },
   {
    "duration": 14,
    "start_time": "2025-05-24T21:27:21.517Z"
   },
   {
    "duration": 53,
    "start_time": "2025-05-24T21:27:21.533Z"
   },
   {
    "duration": 48,
    "start_time": "2025-05-24T21:27:21.588Z"
   },
   {
    "duration": 207,
    "start_time": "2025-05-24T21:27:21.637Z"
   },
   {
    "duration": 13,
    "start_time": "2025-05-24T21:27:21.846Z"
   },
   {
    "duration": 25,
    "start_time": "2025-05-24T21:27:21.861Z"
   },
   {
    "duration": 200,
    "start_time": "2025-05-24T21:27:21.887Z"
   },
   {
    "duration": 31,
    "start_time": "2025-05-24T21:27:22.089Z"
   },
   {
    "duration": 157,
    "start_time": "2025-05-24T21:27:22.122Z"
   },
   {
    "duration": 7,
    "start_time": "2025-05-24T21:27:22.281Z"
   },
   {
    "duration": 6,
    "start_time": "2025-05-24T21:27:22.290Z"
   },
   {
    "duration": 15,
    "start_time": "2025-05-24T21:27:22.298Z"
   },
   {
    "duration": 2019,
    "start_time": "2025-05-24T21:27:22.314Z"
   },
   {
    "duration": 5,
    "start_time": "2025-05-24T21:27:24.335Z"
   },
   {
    "duration": 19,
    "start_time": "2025-05-24T21:27:24.341Z"
   },
   {
    "duration": 5,
    "start_time": "2025-05-24T21:27:24.361Z"
   },
   {
    "duration": 159,
    "start_time": "2025-05-24T21:27:24.368Z"
   }
  ],
  "kernelspec": {
   "display_name": "Python [conda env:base] *",
   "language": "python",
   "name": "conda-base-py"
  },
  "language_info": {
   "codemirror_mode": {
    "name": "ipython",
    "version": 3
   },
   "file_extension": ".py",
   "mimetype": "text/x-python",
   "name": "python",
   "nbconvert_exporter": "python",
   "pygments_lexer": "ipython3",
   "version": "3.12.7"
  },
  "toc": {
   "base_numbering": 1,
   "nav_menu": {},
   "number_sections": true,
   "sideBar": true,
   "skip_h1_title": true,
   "title_cell": "Table of Contents",
   "title_sidebar": "Contents",
   "toc_cell": false,
   "toc_position": {},
   "toc_section_display": true,
   "toc_window_display": true
  }
 },
 "nbformat": 4,
 "nbformat_minor": 5
}
