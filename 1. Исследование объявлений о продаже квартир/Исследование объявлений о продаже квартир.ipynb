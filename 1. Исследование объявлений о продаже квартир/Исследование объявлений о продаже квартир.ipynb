{
 "cells": [
  {
   "cell_type": "markdown",
   "metadata": {
    "id": "-VFbjcb3Awb7"
   },
   "source": [
    "# Исследование объявлений о продаже квартир\n",
    "\n",
    "**Описание проекта**\n",
    "\n",
    "В нашем распоряжении данные сервиса Яндекс Недвижимость — архив объявлений о продаже квартир в Санкт-Петербурге и соседних населённых пунктах за несколько лет. Нам нужно научиться определять рыночную стоимость объектов недвижимости. Для этого необходимо провести исследовательский анализ данных и установить параметры, влияющие на цену объектов. Это позволит построить автоматизированную систему: она отследит аномалии и мошенническую деятельность.\n",
    "\n",
    "По каждой квартире на продажу доступны два вида данных. Первые вписаны пользователем, вторые — получены автоматически на основе картографических данных. Например, расстояние до центра, аэропорта и других объектов — эти данные автоматически получены из геосервисов. Количество парков и водоёмов также заполняется без участия пользователя.\n",
    "\n",
    "**Описание данных**\n",
    "\n",
    "  - `airports_nearest` — расстояние до ближайшего аэропорта в метрах (м);\n",
    "  - `balcony` — число балконов;\n",
    "  - `ceiling_height` — высота потолков (м);\n",
    "  - `cityCenters_nearest` — расстояние до центра города (м);\n",
    "  - `days_exposition` — сколько дней было размещено объявление (от публикации до снятия);\n",
    "  - `first_day_exposition` — дата публикации;\n",
    "  - `floor` — этаж;\n",
    "  - `floors_total` — всего этажей в доме;\n",
    "  - `is_apartment` — апартаменты (булев тип);\n",
    "  - `kitchen_area` — площадь кухни в квадратных метрах (м²);\n",
    "  - `last_price` — цена на момент снятия с публикации;\n",
    "  - `living_area` — жилая площадь в квадратных метрах (м²);\n",
    "  - `locality_name` — название населённого пункта;\n",
    "  - `open_plan` — свободная планировка (булев тип);\n",
    "  - `parks_around3000` — число парков в радиусе 3 км;\n",
    "  - `parks_nearest` — расстояние до ближайшего парка (м);\n",
    "  - `ponds_around3000` — число водоёмов в радиусе 3 км;\n",
    "  - `ponds_nearest` — расстояние до ближайшего водоёма (м);\n",
    "  - `rooms` — число комнат;\n",
    "  - `studio` — квартира-студия (булев тип);\n",
    "  - `total_area` — общая площадь квартиры в квадратных метрах (м²);\n",
    "  - `total_images` — число фотографий квартиры в объявлении"
   ]
  },
  {
   "cell_type": "markdown",
   "metadata": {
    "id": "aeFLH07FAwb9"
   },
   "source": [
    "## Загрузка данных"
   ]
  },
  {
   "cell_type": "code",
   "execution_count": 1,
   "metadata": {},
   "outputs": [],
   "source": [
    "# делаем импорты библиотек\n",
    "import pandas as pd\n",
    "import matplotlib.pyplot as plt"
   ]
  },
  {
   "cell_type": "code",
   "execution_count": 2,
   "metadata": {
    "id": "7MZxY65pAwb9"
   },
   "outputs": [
    {
     "name": "stdout",
     "output_type": "stream",
     "text": [
      "  total_images\\tlast_price\\ttotal_area\\tfirst_day_exposition\\trooms\\tceiling_height\\tfloors_total\\tliving_area\\tfloor\\tis_apartment\\tstudio\\topen_plan\\tkitchen_area\\tbalcony\\tlocality_name\\tairports_nearest\\tcityCenters_nearest\\tparks_around3000\\tparks_nearest\\tponds_around3000\\tponds_nearest\\tdays_exposition\n",
      "0  20\\t13000000.0\\t108.0\\t2019-03-07T00:00:00\\t3\\...                                                                                                                                                                                                                                                                  \n",
      "1  7\\t3350000.0\\t40.4\\t2018-12-04T00:00:00\\t1\\t\\t...                                                                                                                                                                                                                                                                  \n",
      "2  10\\t5196000.0\\t56.0\\t2015-08-20T00:00:00\\t2\\t\\...                                                                                                                                                                                                                                                                  \n",
      "3  0\\t64900000.0\\t159.0\\t2015-07-24T00:00:00\\t3\\t...                                                                                                                                                                                                                                                                  \n",
      "4  2\\t10000000.0\\t100.0\\t2018-06-19T00:00:00\\t2\\t...                                                                                                                                                                                                                                                                  \n"
     ]
    }
   ],
   "source": [
    "# делаем выгрузку данных в датафрейм\n",
    "try:\n",
    "    data = pd.read_csv('/datasets/real_estate_data.csv')\n",
    "except:\n",
    "    data = pd.read_csv('https://code.s3.yandex.net/datasets/real_estate_data.csv')\n",
    "print(data.head(5))"
   ]
  },
  {
   "cell_type": "markdown",
   "metadata": {},
   "source": [
    "Обнаружили, что в качестве разделителей выступает '\\t', поэтому исправим выгрузку"
   ]
  },
  {
   "cell_type": "code",
   "execution_count": 3,
   "metadata": {},
   "outputs": [
    {
     "data": {
      "text/html": [
       "<div>\n",
       "<style scoped>\n",
       "    .dataframe tbody tr th:only-of-type {\n",
       "        vertical-align: middle;\n",
       "    }\n",
       "\n",
       "    .dataframe tbody tr th {\n",
       "        vertical-align: top;\n",
       "    }\n",
       "\n",
       "    .dataframe thead th {\n",
       "        text-align: right;\n",
       "    }\n",
       "</style>\n",
       "<table border=\"1\" class=\"dataframe\">\n",
       "  <thead>\n",
       "    <tr style=\"text-align: right;\">\n",
       "      <th></th>\n",
       "      <th>total_images</th>\n",
       "      <th>last_price</th>\n",
       "      <th>total_area</th>\n",
       "      <th>first_day_exposition</th>\n",
       "      <th>rooms</th>\n",
       "      <th>ceiling_height</th>\n",
       "      <th>floors_total</th>\n",
       "      <th>living_area</th>\n",
       "      <th>floor</th>\n",
       "      <th>is_apartment</th>\n",
       "      <th>...</th>\n",
       "      <th>kitchen_area</th>\n",
       "      <th>balcony</th>\n",
       "      <th>locality_name</th>\n",
       "      <th>airports_nearest</th>\n",
       "      <th>cityCenters_nearest</th>\n",
       "      <th>parks_around3000</th>\n",
       "      <th>parks_nearest</th>\n",
       "      <th>ponds_around3000</th>\n",
       "      <th>ponds_nearest</th>\n",
       "      <th>days_exposition</th>\n",
       "    </tr>\n",
       "  </thead>\n",
       "  <tbody>\n",
       "    <tr>\n",
       "      <th>0</th>\n",
       "      <td>20</td>\n",
       "      <td>13000000.0</td>\n",
       "      <td>108.0</td>\n",
       "      <td>2019-03-07T00:00:00</td>\n",
       "      <td>3</td>\n",
       "      <td>2.70</td>\n",
       "      <td>16.0</td>\n",
       "      <td>51.0</td>\n",
       "      <td>8</td>\n",
       "      <td>NaN</td>\n",
       "      <td>...</td>\n",
       "      <td>25.0</td>\n",
       "      <td>NaN</td>\n",
       "      <td>Санкт-Петербург</td>\n",
       "      <td>18863.0</td>\n",
       "      <td>16028.0</td>\n",
       "      <td>1.0</td>\n",
       "      <td>482.0</td>\n",
       "      <td>2.0</td>\n",
       "      <td>755.0</td>\n",
       "      <td>NaN</td>\n",
       "    </tr>\n",
       "    <tr>\n",
       "      <th>1</th>\n",
       "      <td>7</td>\n",
       "      <td>3350000.0</td>\n",
       "      <td>40.4</td>\n",
       "      <td>2018-12-04T00:00:00</td>\n",
       "      <td>1</td>\n",
       "      <td>NaN</td>\n",
       "      <td>11.0</td>\n",
       "      <td>18.6</td>\n",
       "      <td>1</td>\n",
       "      <td>NaN</td>\n",
       "      <td>...</td>\n",
       "      <td>11.0</td>\n",
       "      <td>2.0</td>\n",
       "      <td>посёлок Шушары</td>\n",
       "      <td>12817.0</td>\n",
       "      <td>18603.0</td>\n",
       "      <td>0.0</td>\n",
       "      <td>NaN</td>\n",
       "      <td>0.0</td>\n",
       "      <td>NaN</td>\n",
       "      <td>81.0</td>\n",
       "    </tr>\n",
       "    <tr>\n",
       "      <th>2</th>\n",
       "      <td>10</td>\n",
       "      <td>5196000.0</td>\n",
       "      <td>56.0</td>\n",
       "      <td>2015-08-20T00:00:00</td>\n",
       "      <td>2</td>\n",
       "      <td>NaN</td>\n",
       "      <td>5.0</td>\n",
       "      <td>34.3</td>\n",
       "      <td>4</td>\n",
       "      <td>NaN</td>\n",
       "      <td>...</td>\n",
       "      <td>8.3</td>\n",
       "      <td>0.0</td>\n",
       "      <td>Санкт-Петербург</td>\n",
       "      <td>21741.0</td>\n",
       "      <td>13933.0</td>\n",
       "      <td>1.0</td>\n",
       "      <td>90.0</td>\n",
       "      <td>2.0</td>\n",
       "      <td>574.0</td>\n",
       "      <td>558.0</td>\n",
       "    </tr>\n",
       "    <tr>\n",
       "      <th>3</th>\n",
       "      <td>0</td>\n",
       "      <td>64900000.0</td>\n",
       "      <td>159.0</td>\n",
       "      <td>2015-07-24T00:00:00</td>\n",
       "      <td>3</td>\n",
       "      <td>NaN</td>\n",
       "      <td>14.0</td>\n",
       "      <td>NaN</td>\n",
       "      <td>9</td>\n",
       "      <td>NaN</td>\n",
       "      <td>...</td>\n",
       "      <td>NaN</td>\n",
       "      <td>0.0</td>\n",
       "      <td>Санкт-Петербург</td>\n",
       "      <td>28098.0</td>\n",
       "      <td>6800.0</td>\n",
       "      <td>2.0</td>\n",
       "      <td>84.0</td>\n",
       "      <td>3.0</td>\n",
       "      <td>234.0</td>\n",
       "      <td>424.0</td>\n",
       "    </tr>\n",
       "    <tr>\n",
       "      <th>4</th>\n",
       "      <td>2</td>\n",
       "      <td>10000000.0</td>\n",
       "      <td>100.0</td>\n",
       "      <td>2018-06-19T00:00:00</td>\n",
       "      <td>2</td>\n",
       "      <td>3.03</td>\n",
       "      <td>14.0</td>\n",
       "      <td>32.0</td>\n",
       "      <td>13</td>\n",
       "      <td>NaN</td>\n",
       "      <td>...</td>\n",
       "      <td>41.0</td>\n",
       "      <td>NaN</td>\n",
       "      <td>Санкт-Петербург</td>\n",
       "      <td>31856.0</td>\n",
       "      <td>8098.0</td>\n",
       "      <td>2.0</td>\n",
       "      <td>112.0</td>\n",
       "      <td>1.0</td>\n",
       "      <td>48.0</td>\n",
       "      <td>121.0</td>\n",
       "    </tr>\n",
       "  </tbody>\n",
       "</table>\n",
       "<p>5 rows × 22 columns</p>\n",
       "</div>"
      ],
      "text/plain": [
       "   total_images  last_price  total_area first_day_exposition  rooms  \\\n",
       "0            20  13000000.0       108.0  2019-03-07T00:00:00      3   \n",
       "1             7   3350000.0        40.4  2018-12-04T00:00:00      1   \n",
       "2            10   5196000.0        56.0  2015-08-20T00:00:00      2   \n",
       "3             0  64900000.0       159.0  2015-07-24T00:00:00      3   \n",
       "4             2  10000000.0       100.0  2018-06-19T00:00:00      2   \n",
       "\n",
       "   ceiling_height  floors_total  living_area  floor is_apartment  ...  \\\n",
       "0            2.70          16.0         51.0      8          NaN  ...   \n",
       "1             NaN          11.0         18.6      1          NaN  ...   \n",
       "2             NaN           5.0         34.3      4          NaN  ...   \n",
       "3             NaN          14.0          NaN      9          NaN  ...   \n",
       "4            3.03          14.0         32.0     13          NaN  ...   \n",
       "\n",
       "   kitchen_area  balcony    locality_name  airports_nearest  \\\n",
       "0          25.0      NaN  Санкт-Петербург           18863.0   \n",
       "1          11.0      2.0   посёлок Шушары           12817.0   \n",
       "2           8.3      0.0  Санкт-Петербург           21741.0   \n",
       "3           NaN      0.0  Санкт-Петербург           28098.0   \n",
       "4          41.0      NaN  Санкт-Петербург           31856.0   \n",
       "\n",
       "  cityCenters_nearest  parks_around3000  parks_nearest  ponds_around3000  \\\n",
       "0             16028.0               1.0          482.0               2.0   \n",
       "1             18603.0               0.0            NaN               0.0   \n",
       "2             13933.0               1.0           90.0               2.0   \n",
       "3              6800.0               2.0           84.0               3.0   \n",
       "4              8098.0               2.0          112.0               1.0   \n",
       "\n",
       "   ponds_nearest  days_exposition  \n",
       "0          755.0              NaN  \n",
       "1            NaN             81.0  \n",
       "2          574.0            558.0  \n",
       "3          234.0            424.0  \n",
       "4           48.0            121.0  \n",
       "\n",
       "[5 rows x 22 columns]"
      ]
     },
     "metadata": {},
     "output_type": "display_data"
    },
    {
     "name": "stdout",
     "output_type": "stream",
     "text": [
      "<class 'pandas.core.frame.DataFrame'>\n",
      "RangeIndex: 23699 entries, 0 to 23698\n",
      "Data columns (total 22 columns):\n",
      " #   Column                Non-Null Count  Dtype  \n",
      "---  ------                --------------  -----  \n",
      " 0   total_images          23699 non-null  int64  \n",
      " 1   last_price            23699 non-null  float64\n",
      " 2   total_area            23699 non-null  float64\n",
      " 3   first_day_exposition  23699 non-null  object \n",
      " 4   rooms                 23699 non-null  int64  \n",
      " 5   ceiling_height        14504 non-null  float64\n",
      " 6   floors_total          23613 non-null  float64\n",
      " 7   living_area           21796 non-null  float64\n",
      " 8   floor                 23699 non-null  int64  \n",
      " 9   is_apartment          2775 non-null   object \n",
      " 10  studio                23699 non-null  bool   \n",
      " 11  open_plan             23699 non-null  bool   \n",
      " 12  kitchen_area          21421 non-null  float64\n",
      " 13  balcony               12180 non-null  float64\n",
      " 14  locality_name         23650 non-null  object \n",
      " 15  airports_nearest      18157 non-null  float64\n",
      " 16  cityCenters_nearest   18180 non-null  float64\n",
      " 17  parks_around3000      18181 non-null  float64\n",
      " 18  parks_nearest         8079 non-null   float64\n",
      " 19  ponds_around3000      18181 non-null  float64\n",
      " 20  ponds_nearest         9110 non-null   float64\n",
      " 21  days_exposition       20518 non-null  float64\n",
      "dtypes: bool(2), float64(14), int64(3), object(3)\n",
      "memory usage: 3.7+ MB\n"
     ]
    }
   ],
   "source": [
    "# при исправлении получаем читаемую таблицу и статистику по ней\n",
    "try:\n",
    "    data = pd.read_csv('/datasets/real_estate_data.csv', sep = '\\t')\n",
    "except:\n",
    "    data = pd.read_csv('https://code.s3.yandex.net/datasets/real_estate_data.csv',\n",
    "                       sep = '\\t')\n",
    "\n",
    "# выводим первые строки и общую информаццию \n",
    "display(data.head())\n",
    "data.info()"
   ]
  },
  {
   "cell_type": "code",
   "execution_count": 4,
   "metadata": {},
   "outputs": [
    {
     "data": {
      "image/png": "[encoded data removed]",
      "text/plain": [
       "<Figure size 1152x1584 with 20 Axes>"
      ]
     },
     "metadata": {
      "needs_background": "light"
     },
     "output_type": "display_data"
    }
   ],
   "source": [
    "# строим гисторгаммы по каждому столбцу\n",
    "data.hist(figsize=(16, 22))\n",
    "plt.show()"
   ]
  },
  {
   "cell_type": "markdown",
   "metadata": {},
   "source": [
    "**Вывод:**\n",
    "\n",
    "Метод info() показал, что в таблице по 14 из 22 столбцов есть пропуски, по части из них пропуски есть в более чем 50% ячеек. Надо разобраться, какие пропуски не помешают исследованию, а какие нужно заполнить. Также мы видим, что по части столбцов нужно исправить тип данных.\n",
    "\n",
    "В столбцах 'total_images', 'last_price', 'total_area', 'first_day_exposition', 'rooms', 'floor', 'studio', 'open_plan' нет пропусков.\n",
    "\n",
    "В столбцах 'floors_total' и 'locality_name' очень незначительное число пропусков: 86 и 49 соответственно или 0,4% и 0,2% от выборки, поэтому этими пропусками можно легко пренебречь.\n",
    "\n",
    "В столбцах 'living_area' и 'kitchen_area' пропусков 1903 и 2278 соответственно. Это довольно высокие значения, доля пропусков получается в пределах 10%. Пропущенные значения, вероятно, не были указаны пользователями, некоторые пользователи могли решить, что более важный показатель - общая площадь, а площади кухни и жилых помещений не столь важны. Значения данных столбцов будут нам нужны для шага 4 как факторы, влияющие на цену, поэтому нужно постараться их заполнить. Как вариант попробуем заполнить пропуски медианными значениями по жилой и кухонной площади, посчитанными отдельно для каждого кол-ва этажей в квартире. Однако после такой замены нужно сделать проверку по площадям в квартире: логично, что 'total_area' не может быть меньше, чем сумма 'living_area' и 'kitchen_area'. Если указанное условие не выполняется и таких случаев сравнительно немного, можно удалить такие строки."
   ]
  },
  {
   "cell_type": "markdown",
   "metadata": {
    "id": "-O5NtivEAwb9"
   },
   "source": [
    "## Предобработка данных"
   ]
  },
  {
   "cell_type": "code",
   "execution_count": 5,
   "metadata": {},
   "outputs": [],
   "source": [
    "# заполним пропуски по жилой площади медианными значениями жилой площади по квартирам с тем же кол-вом комнат\n",
    "for r in data['rooms'].unique():\n",
    "    data.loc[(data['rooms'] == r) & (data['living_area'].isna()),\n",
    "             'living_area'] = data.loc[(data['rooms'] == r\n",
    "                                       ) & (data['living_area'].notna()),\n",
    "                                       'living_area'].median()"
   ]
  },
  {
   "cell_type": "code",
   "execution_count": 6,
   "metadata": {},
   "outputs": [],
   "source": [
    "# заполним пропуски по площади кухни медианными значениями жилой площади по квартирам с тем же кол-вом комнат\n",
    "for i in data['rooms'].unique():\n",
    "    data.loc[(data['rooms'] == i) & (data['kitchen_area'].isna()),\n",
    "             'kitchen_area'] = data.loc[(data['rooms'] == i\n",
    "                                        ) & (data['kitchen_area'].notna()),\n",
    "                                        'kitchen_area'].median()"
   ]
  },
  {
   "cell_type": "code",
   "execution_count": 7,
   "metadata": {},
   "outputs": [
    {
     "data": {
      "text/plain": [
       "1     8047\n",
       "2     7940\n",
       "3     5814\n",
       "4     1180\n",
       "5      326\n",
       "0      197\n",
       "6      105\n",
       "7       59\n",
       "8       12\n",
       "9        8\n",
       "10       3\n",
       "11       2\n",
       "14       2\n",
       "19       1\n",
       "16       1\n",
       "12       1\n",
       "15       1\n",
       "Name: rooms, dtype: int64"
      ]
     },
     "execution_count": 7,
     "metadata": {},
     "output_type": "execute_result"
    }
   ],
   "source": [
    "# посмотрим список уникальных значений кол-ва комнат\n",
    "data['rooms'].value_counts()"
   ]
  },
  {
   "cell_type": "code",
   "execution_count": 8,
   "metadata": {},
   "outputs": [
    {
     "name": "stdout",
     "output_type": "stream",
     "text": [
      "0\n",
      "197\n"
     ]
    }
   ],
   "source": [
    "# уберем выбросы - строки с большим кол-вом комнат\n",
    "data = data.query('rooms < 11')\n",
    "# проверим оставшиеся пропуски по 'living_area'\n",
    "print(data['living_area'].isna().sum())\n",
    "# проверим оставшиеся пропуски по 'kitchen_area'\n",
    "print(data['kitchen_area'].isna().sum())"
   ]
  },
  {
   "cell_type": "code",
   "execution_count": 9,
   "metadata": {},
   "outputs": [
    {
     "data": {
      "text/plain": [
       "0"
      ]
     },
     "execution_count": 9,
     "metadata": {},
     "output_type": "execute_result"
    }
   ],
   "source": [
    "# заполняем пропуски по площади кухни медианными значениями по всей выборке\n",
    "data['kitchen_area'] = data['kitchen_area'].fillna(data['kitchen_area'].median())\n",
    "# проверяем, остались ли пустые значения\n",
    "data['kitchen_area'].isna().sum()"
   ]
  },
  {
   "cell_type": "markdown",
   "metadata": {},
   "source": [
    "Проверяем, не нарушили ли наши замены логику площади в квартире: сумма жилой и кухонной площади не может быть больше общей площади квартиры"
   ]
  },
  {
   "cell_type": "code",
   "execution_count": 10,
   "metadata": {},
   "outputs": [
    {
     "data": {
      "text/plain": [
       "423"
      ]
     },
     "execution_count": 10,
     "metadata": {},
     "output_type": "execute_result"
    }
   ],
   "source": [
    "# проверяем, не нарушена ли логика площадей в квартире\n",
    "data.loc[(data['living_area'] + data['kitchen_area']) > data['total_area']\n",
    "        ]['living_area'].count()"
   ]
  },
  {
   "cell_type": "code",
   "execution_count": 11,
   "metadata": {},
   "outputs": [
    {
     "data": {
      "text/plain": [
       "0"
      ]
     },
     "execution_count": 11,
     "metadata": {},
     "output_type": "execute_result"
    }
   ],
   "source": [
    "# 423 строчки после заполнения площадей не удовлетворяют условию, эти строки можно удалить\n",
    "data = data.query('(living_area + kitchen_area) <= total_area')\n",
    "# снова делаем проверку, чтобы убедиться, что удаление сработало правильно\n",
    "data.loc[(data['living_area'] + data['kitchen_area']) > data['total_area']\n",
    "        ]['living_area'].count()"
   ]
  },
  {
   "cell_type": "markdown",
   "metadata": {
    "id": "7v3vAeTuAwb-"
   },
   "source": [
    "В столбце 'ceiling_height' пропуски составляют около 40%. По какой-то причине многие пользователи не указали высоту потолков: их сложно измерить, либо пользователи могут сознательно скрывать высоту потолков, поскольку сравнительно низкие потолки могут отпугнуть покупателя. В данном случае можно заменить пустые значения на медианные, ведь медиана не чувствительна к выбросам. "
   ]
  },
  {
   "cell_type": "code",
   "execution_count": 12,
   "metadata": {},
   "outputs": [
    {
     "data": {
      "text/plain": [
       "0"
      ]
     },
     "execution_count": 12,
     "metadata": {},
     "output_type": "execute_result"
    }
   ],
   "source": [
    "data['ceiling_height'] = data['ceiling_height'\n",
    "                             ].fillna(value=data['ceiling_height'].median())\n",
    "# проверим, что пустых значений не осталось\n",
    "data['ceiling_height'].isna().sum()"
   ]
  },
  {
   "cell_type": "markdown",
   "metadata": {},
   "source": [
    "В столбце 'is_apartment' мы видим очень много пропусков, а также вероятно неверный тип значений. Здесь в качестве значений заносятся булевы переменные как и в столбцах 'studio' и 'open_plan'. Пользователь мог не указать ничего в случаях, если жилье не является апартаментами. Для начала выведем все уникальные значения ячейках столбца, а затем при необходимости проведём замену. "
   ]
  },
  {
   "cell_type": "code",
   "execution_count": 13,
   "metadata": {},
   "outputs": [
    {
     "name": "stdout",
     "output_type": "stream",
     "text": [
      "[nan False True]\n"
     ]
    }
   ],
   "source": [
    "print(data['is_apartment'].unique())"
   ]
  },
  {
   "cell_type": "markdown",
   "metadata": {},
   "source": [
    "Результат кода показывает наличие пропусков помимо булевых значений. Логично, если пропуски относятся к случаям, когда объект недвижимости не является апартаментами, поэтому об этом не было указано."
   ]
  },
  {
   "cell_type": "code",
   "execution_count": 14,
   "metadata": {},
   "outputs": [
    {
     "name": "stdout",
     "output_type": "stream",
     "text": [
      "[False  True]\n"
     ]
    }
   ],
   "source": [
    "# заменим пропуски на False и распечатаем уникальные значения\n",
    "data['is_apartment'] = data['is_apartment'].fillna(False)\n",
    "print(data['is_apartment'].unique())"
   ]
  },
  {
   "cell_type": "code",
   "execution_count": 15,
   "metadata": {},
   "outputs": [
    {
     "data": {
      "text/plain": [
       "dtype('bool')"
      ]
     },
     "execution_count": 15,
     "metadata": {},
     "output_type": "execute_result"
    }
   ],
   "source": [
    "# проверим тип данных, убедимся что тип данных после замены значений также поменялся\n",
    "data['is_apartment'].dtypes"
   ]
  },
  {
   "cell_type": "markdown",
   "metadata": {},
   "source": [
    "Почти 50% пропусков мы видим в столбце 'balcony'. Выведем все уникальные значения. Аналогично столбцу 'is_apartment' пропуски скорее говорят о том, что в квартире нет балкона, иначе бы об этом было указано пользователем. Поэтому в данном столбце можно заменить пропуски на 0."
   ]
  },
  {
   "cell_type": "code",
   "execution_count": 16,
   "metadata": {},
   "outputs": [
    {
     "name": "stdout",
     "output_type": "stream",
     "text": [
      "[nan  2.  0.  1.  5.  4.  3.]\n"
     ]
    }
   ],
   "source": [
    "# выводим уникальные значения\n",
    "print(data['balcony'].unique())"
   ]
  },
  {
   "cell_type": "code",
   "execution_count": 17,
   "metadata": {},
   "outputs": [
    {
     "data": {
      "text/plain": [
       "dtype('int64')"
      ]
     },
     "execution_count": 17,
     "metadata": {},
     "output_type": "execute_result"
    }
   ],
   "source": [
    "# заменим пропуски на 0\n",
    "data['balcony'] = data['balcony'].fillna(0)\n",
    "# заменим тип значений для признака\n",
    "data['balcony'] = data['balcony'].astype('int')\n",
    "# убедимся, что тип данных поменялся\n",
    "data['balcony'].dtypes"
   ]
  },
  {
   "cell_type": "markdown",
   "metadata": {},
   "source": [
    "Пропуски значений в столбце 'days_exposition' составляют 13,4%. Значения в этом слобце скорее считаются системой в зависимости от указанной даты первого дня объявления, но по какой-то причине не были указаны, возможно, что объявления были сняты пользователем, а квартира так и не была продана в случае пропусков. Решаем оставить эти пропуски без изменений.\n",
    "\n",
    "Для рассмотрения у нас остались пропуски значений в столбцах 'airports_nearest', 'cityCenters_nearest', 'parks_around3000', 'parks_nearest', 'ponds_around3000' и 'ponds_nearest'. Значения по этим столбцам получены автоматически на основе картографических данных. Возможно автоматическое заполнение этих данных работает неидеально, нужно обратиться к разработчикам. Но попробуем заполнить некоторые из них, где больше всего пропусков, действуя логически. Больше всего пропусков мы видим в столбцах 'parks_nearest' и 'ponds_nearest'. Проверим, каким значениям в 'parks_around3000' и 'ponds_around3000' соответсвуют пропуски в 'parks_nearest' и 'ponds_nearest'. "
   ]
  },
  {
   "cell_type": "code",
   "execution_count": 18,
   "metadata": {},
   "outputs": [
    {
     "data": {
      "text/plain": [
       "0.0    9928\n",
       "Name: parks_around3000, dtype: int64"
      ]
     },
     "execution_count": 18,
     "metadata": {},
     "output_type": "execute_result"
    }
   ],
   "source": [
    "data[data['parks_nearest'].isna()]['parks_around3000'].value_counts()"
   ]
  },
  {
   "cell_type": "code",
   "execution_count": 19,
   "metadata": {},
   "outputs": [
    {
     "data": {
      "text/plain": [
       "0.0    8958\n",
       "Name: ponds_around3000, dtype: int64"
      ]
     },
     "execution_count": 19,
     "metadata": {},
     "output_type": "execute_result"
    }
   ],
   "source": [
    "data[data['ponds_nearest'].isna()]['ponds_around3000'].value_counts()"
   ]
  },
  {
   "cell_type": "markdown",
   "metadata": {},
   "source": [
    "Мы видим, что кол-во парков в радиусе 3000 м равняется 0 для всех случаев пропусков в parks_nearest. Мы видим, что кол-во прудов в радиусе 3000 м равняется 0 для всех случаев пропусков в ponds_nearest."
   ]
  },
  {
   "cell_type": "code",
   "execution_count": 20,
   "metadata": {},
   "outputs": [
    {
     "data": {
      "text/plain": [
       "array([ 1.,  0.,  2., nan,  3.])"
      ]
     },
     "execution_count": 20,
     "metadata": {},
     "output_type": "execute_result"
    }
   ],
   "source": [
    "# посмотрим уникальные значения кол-ва парков\n",
    "data['parks_around3000'].unique()"
   ]
  },
  {
   "cell_type": "code",
   "execution_count": 21,
   "metadata": {},
   "outputs": [
    {
     "data": {
      "text/plain": [
       "array([ 2.,  0.,  3.,  1., nan])"
      ]
     },
     "execution_count": 21,
     "metadata": {},
     "output_type": "execute_result"
    }
   ],
   "source": [
    "# посмотрим уникальные значения кол-ва прудов\n",
    "data['ponds_around3000'].unique()"
   ]
  },
  {
   "cell_type": "markdown",
   "metadata": {},
   "source": [
    "Данные о том, что в радиусе 3000 м нет парков, представляются сомнительными, поэтому заменим все значения 0 на 1. То же касается и данных о наличии прудов в радиусе 3000 м, поэтому заменим все значения 0 на 1. Также для этих признаков заменим пустые значения значениями 1.\n",
    "\n",
    "Также заменим пустые значения расстояний до ближайшего парка для случаев, когда в радиусе 3000 м находится один парк, на медианнное расстояние до парка для таких случаев с непустыми значениями, а пустые значения расстояний до ближайшего пруда для случаев, когда в радиусе 3000 м находится один пруд, на медианнное расстояние до пруда."
   ]
  },
  {
   "cell_type": "code",
   "execution_count": 22,
   "metadata": {},
   "outputs": [],
   "source": [
    "# выполняем замены\n",
    "data['parks_around3000'].replace({0: 1}, inplace=True)\n",
    "data['ponds_around3000'].replace({0: 1}, inplace=True)\n",
    "data['parks_around3000'] = data['parks_around3000'].fillna(1)\n",
    "data['ponds_around3000'] = data['ponds_around3000'].fillna(1)"
   ]
  },
  {
   "cell_type": "code",
   "execution_count": 23,
   "metadata": {},
   "outputs": [],
   "source": [
    "# выполняем замены\n",
    "data.loc[(data['parks_around3000'] == 1) & (data['parks_nearest'].isna()\n",
    "                                           ), 'parks_nearest'\n",
    "        ] = data.loc[(data['parks_around3000'] == 1) & (data['parks_nearest'].notna()),\n",
    "                     'parks_nearest'].median()\n",
    "\n",
    "data.loc[(data['ponds_around3000'] == 1) & (data['ponds_nearest'].isna()),\n",
    "         'ponds_nearest'\n",
    "        ] = data.loc[(data['ponds_around3000'] == 1) & (data['ponds_nearest'].notna()),\n",
    "                                     'parks_nearest'].median()"
   ]
  },
  {
   "cell_type": "code",
   "execution_count": 24,
   "metadata": {},
   "outputs": [
    {
     "name": "stdout",
     "output_type": "stream",
     "text": [
      "<class 'pandas.core.frame.DataFrame'>\n",
      "Int64Index: 23268 entries, 0 to 23698\n",
      "Data columns (total 22 columns):\n",
      " #   Column                Non-Null Count  Dtype  \n",
      "---  ------                --------------  -----  \n",
      " 0   total_images          23268 non-null  int64  \n",
      " 1   last_price            23268 non-null  float64\n",
      " 2   total_area            23268 non-null  float64\n",
      " 3   first_day_exposition  23268 non-null  object \n",
      " 4   rooms                 23268 non-null  int64  \n",
      " 5   ceiling_height        23268 non-null  float64\n",
      " 6   floors_total          23191 non-null  float64\n",
      " 7   living_area           23268 non-null  float64\n",
      " 8   floor                 23268 non-null  int64  \n",
      " 9   is_apartment          23268 non-null  bool   \n",
      " 10  studio                23268 non-null  bool   \n",
      " 11  open_plan             23268 non-null  bool   \n",
      " 12  kitchen_area          23268 non-null  float64\n",
      " 13  balcony               23268 non-null  int64  \n",
      " 14  locality_name         23220 non-null  object \n",
      " 15  airports_nearest      17896 non-null  float64\n",
      " 16  cityCenters_nearest   17919 non-null  float64\n",
      " 17  parks_around3000      23268 non-null  float64\n",
      " 18  parks_nearest         23268 non-null  float64\n",
      " 19  ponds_around3000      23268 non-null  float64\n",
      " 20  ponds_nearest         23268 non-null  float64\n",
      " 21  days_exposition       20119 non-null  float64\n",
      "dtypes: bool(3), float64(13), int64(4), object(2)\n",
      "memory usage: 3.6+ MB\n"
     ]
    }
   ],
   "source": [
    "# проверим оставшееся кол-во незаполненных значений по всем столбцам\n",
    "data.info()"
   ]
  },
  {
   "cell_type": "markdown",
   "metadata": {},
   "source": [
    "Мы видим, что пропуски ещё есть в таблице, но их уже не так немного. Оставшиеся пропуски не относятся к наиболее важным параметрам для нашего исследования, поэтому мы решаем продолжить работу с таблицей в таком виде.  "
   ]
  },
  {
   "cell_type": "markdown",
   "metadata": {},
   "source": [
    "Посмотрим ещё раз тип данных по всем столбцам и оценим, можно ли в каких из них исправить тип:"
   ]
  },
  {
   "cell_type": "code",
   "execution_count": 25,
   "metadata": {
    "scrolled": true
   },
   "outputs": [
    {
     "data": {
      "text/plain": [
       "total_images              int64\n",
       "last_price              float64\n",
       "total_area              float64\n",
       "first_day_exposition     object\n",
       "rooms                     int64\n",
       "ceiling_height          float64\n",
       "floors_total            float64\n",
       "living_area             float64\n",
       "floor                     int64\n",
       "is_apartment               bool\n",
       "studio                     bool\n",
       "open_plan                  bool\n",
       "kitchen_area            float64\n",
       "balcony                   int64\n",
       "locality_name            object\n",
       "airports_nearest        float64\n",
       "cityCenters_nearest     float64\n",
       "parks_around3000        float64\n",
       "parks_nearest           float64\n",
       "ponds_around3000        float64\n",
       "ponds_nearest           float64\n",
       "days_exposition         float64\n",
       "dtype: object"
      ]
     },
     "execution_count": 25,
     "metadata": {},
     "output_type": "execute_result"
    }
   ],
   "source": [
    "  data.dtypes"
   ]
  },
  {
   "cell_type": "markdown",
   "metadata": {},
   "source": [
    "Есть необходимость перевести строчный формат для столбца 'first_day_exposition' в формат даты и времени. Используем для этого функцию pd.to_datetime и укажем в агрументе formant тот, что соответсвует данным в таблице:"
   ]
  },
  {
   "cell_type": "code",
   "execution_count": 26,
   "metadata": {},
   "outputs": [
    {
     "name": "stdout",
     "output_type": "stream",
     "text": [
      "datetime64[ns]\n"
     ]
    }
   ],
   "source": [
    "data['first_day_exposition'] = pd.to_datetime(data['first_day_exposition'],\n",
    "                                              format='%Y-%m-%dT%H:%M:%S')\n",
    "# проверяем тип данных после изменения, чтобы убедиться что тип поменялся\n",
    "print(data['first_day_exposition'].dtypes)"
   ]
  },
  {
   "cell_type": "markdown",
   "metadata": {},
   "source": [
    "Тип данных в столбцах 'floors_total' и 'days_exposition' можно было бы исправить на integer, поскольку количество этажей и кол-во дней размещения объявления представляют собой целые числа, но у нас есть пропуски (nan), которые мы не можем заполнить, поэтому тип данных остаётся float. \n",
    "\n",
    "Больше ни в каких столбцах не следует менять тип данных."
   ]
  },
  {
   "cell_type": "markdown",
   "metadata": {},
   "source": [
    "Поменяем названия некоторых столбоц так, чтобы они лучше воспронимались. Для этого приведем все названия к змеиному регистру:"
   ]
  },
  {
   "cell_type": "code",
   "execution_count": 27,
   "metadata": {},
   "outputs": [],
   "source": [
    "# изменяем названия столбцов\n",
    "data = data.rename(columns={'cityCenters_nearest': 'city_centers_nearest',\n",
    "                            'parks_around3000': 'parks_around_3000',\n",
    "                            'ponds_around3000': 'ponds_around_3000'})"
   ]
  },
  {
   "cell_type": "code",
   "execution_count": 28,
   "metadata": {},
   "outputs": [
    {
     "data": {
      "text/plain": [
       "array(['Бокситогорск', 'Волосово', 'Волхов', 'Всеволожск', 'Выборг',\n",
       "       'Высоцк', 'Гатчина', 'Зеленогорск', 'Ивангород', 'Каменногорск',\n",
       "       'Кингисепп', 'Кириши', 'Кировск', 'Колпино', 'Коммунар',\n",
       "       'Красное Село', 'Кронштадт', 'Кудрово', 'Лодейное Поле',\n",
       "       'Ломоносов', 'Луга', 'Любань', 'Мурино', 'Никольское',\n",
       "       'Новая Ладога', 'Отрадное', 'Павловск', 'Петергоф', 'Пикалёво',\n",
       "       'Подпорожье', 'Приморск', 'Приозерск', 'Пушкин', 'Санкт-Петербург',\n",
       "       'Светогорск', 'Сертолово', 'Сестрорецк', 'Сланцы', 'Сосновый Бор',\n",
       "       'Сясьстрой', 'Тихвин', 'Тосно', 'Шлиссельбург',\n",
       "       'городской поселок Большая Ижора', 'городской поселок Янино-1',\n",
       "       'городской посёлок Будогощь', 'городской посёлок Виллози',\n",
       "       'городской посёлок Лесогорский', 'городской посёлок Мга',\n",
       "       'городской посёлок Назия', 'городской посёлок Новоселье',\n",
       "       'городской посёлок Павлово', 'городской посёлок Рощино',\n",
       "       'городской посёлок Свирьстрой', 'городской посёлок Советский',\n",
       "       'городской посёлок Фёдоровское', 'городской посёлок Янино-1',\n",
       "       'деревня Агалатово', 'деревня Аро', 'деревня Батово',\n",
       "       'деревня Бегуницы', 'деревня Белогорка', 'деревня Большая Вруда',\n",
       "       'деревня Большая Пустомержа', 'деревня Большие Колпаны',\n",
       "       'деревня Большое Рейзино', 'деревня Большой Сабск', 'деревня Бор',\n",
       "       'деревня Борисова Грива', 'деревня Ваганово', 'деревня Вартемяги',\n",
       "       'деревня Выскатка', 'деревня Гарболово', 'деревня Глинка',\n",
       "       'деревня Горбунки', 'деревня Гостилицы', 'деревня Заклинье',\n",
       "       'деревня Заневка', 'деревня Зимитицы', 'деревня Извара',\n",
       "       'деревня Иссад', 'деревня Калитино', 'деревня Кальтино',\n",
       "       'деревня Камышовка', 'деревня Каськово', 'деревня Келози',\n",
       "       'деревня Кипень', 'деревня Кисельня', 'деревня Колтуши',\n",
       "       'деревня Коркино', 'деревня Котлы', 'деревня Кривко',\n",
       "       'деревня Кудрово', 'деревня Кузьмолово', 'деревня Курковицы',\n",
       "       'деревня Куровицы', 'деревня Куттузи', 'деревня Лаврики',\n",
       "       'деревня Лаголово', 'деревня Лампово', 'деревня Лесколово',\n",
       "       'деревня Лопухинка', 'деревня Лупполово',\n",
       "       'деревня Малая Романовка', 'деревня Малое Верево',\n",
       "       'деревня Малое Карлино', 'деревня Малые Колпаны',\n",
       "       'деревня Мануйлово', 'деревня Меньково', 'деревня Мины',\n",
       "       'деревня Мистолово', 'деревня Ненимяки', 'деревня Нижние Осельки',\n",
       "       'деревня Нижняя', 'деревня Низино', 'деревня Новое Девяткино',\n",
       "       'деревня Новолисино', 'деревня Нурма', 'деревня Оржицы',\n",
       "       'деревня Парицы', 'деревня Пельгора', 'деревня Пеники',\n",
       "       'деревня Пижма', 'деревня Пикколово', 'деревня Пудомяги',\n",
       "       'деревня Пустынка', 'деревня Пчева', 'деревня Рабитицы',\n",
       "       'деревня Разбегаево', 'деревня Раздолье', 'деревня Разметелево',\n",
       "       'деревня Рапполово', 'деревня Реброво', 'деревня Русско',\n",
       "       'деревня Сижно', 'деревня Снегирёвка', 'деревня Старая',\n",
       "       'деревня Старая Пустошь', 'деревня Старое Хинколово',\n",
       "       'деревня Старополье', 'деревня Старосиверская',\n",
       "       'деревня Старые Бегуницы', 'деревня Суоранда',\n",
       "       'деревня Сяськелево', 'деревня Тарасово', 'деревня Терпилицы',\n",
       "       'деревня Тихковицы', 'деревня Тойворово', 'деревня Торосово',\n",
       "       'деревня Торошковичи', 'деревня Трубников Бор',\n",
       "       'деревня Фалилеево', 'деревня Фёдоровское', 'деревня Хапо-Ое',\n",
       "       'деревня Хязельки', 'деревня Чудской Бор', 'деревня Шпаньково',\n",
       "       'деревня Щеглово', 'деревня Юкки', 'деревня Ялгино',\n",
       "       'деревня Яльгелево', 'деревня Ям-Тесово',\n",
       "       'коттеджный поселок Кивеннапа Север', 'коттеджный поселок Счастье',\n",
       "       'коттеджный посёлок Лесное', 'поселок Аннино', 'поселок Барышево',\n",
       "       'поселок Бугры', 'поселок Возрождение', 'поселок Войсковицы',\n",
       "       'поселок Володарское', 'поселок Гаврилово', 'поселок Гарболово',\n",
       "       'поселок Гладкое', 'поселок Глажево', 'поселок Глебычево',\n",
       "       'поселок Гончарово', 'поселок Громово', 'поселок Дружноселье',\n",
       "       'поселок Елизаветино', 'поселок Жилгородок', 'поселок Жилпосёлок',\n",
       "       'поселок Житково', 'поселок Заводской', 'поселок Запорожское',\n",
       "       'поселок Зимитицы', 'поселок Ильичёво', 'поселок Калитино',\n",
       "       'поселок Каложицы', 'поселок Кингисеппский', 'поселок Кирпичное',\n",
       "       'поселок Кобралово', 'поселок Кобринское', 'поселок Коммунары',\n",
       "       'поселок Коробицыно', 'поселок Котельский',\n",
       "       'поселок Красная Долина', 'поселок Красносельское',\n",
       "       'поселок Лесное', 'поселок Лисий Нос', 'поселок Лукаши',\n",
       "       'поселок Любань', 'поселок Мельниково', 'поселок Мичуринское',\n",
       "       'поселок Молодцово', 'поселок Мурино', 'поселок Новый Свет',\n",
       "       'поселок Новый Учхоз', 'поселок Оредеж',\n",
       "       'поселок Пансионат Зелёный Бор', 'поселок Первомайское',\n",
       "       'поселок Перово', 'поселок Петровское', 'поселок Победа',\n",
       "       'поселок Поляны', 'поселок Почап', 'поселок Починок',\n",
       "       'поселок Пушное', 'поселок Пчевжа', 'поселок Рабитицы',\n",
       "       'поселок Романовка', 'поселок Ромашки', 'поселок Рябово',\n",
       "       'поселок Севастьяново', 'поселок Селезнёво', 'поселок Сельцо',\n",
       "       'поселок Семиозерье', 'поселок Семрино', 'поселок Серебрянский',\n",
       "       'поселок Совхозный', 'поселок Старая Малукса',\n",
       "       'поселок Стеклянный', 'поселок Сумино', 'поселок Суходолье',\n",
       "       'поселок Тельмана', 'поселок Терволово', 'поселок Торковичи',\n",
       "       'поселок Тёсово-4', 'поселок Углово', 'поселок Усть-Луга',\n",
       "       'поселок Ушаки', 'поселок Цвелодубово', 'поселок Цвылёво',\n",
       "       'поселок городского типа Большая Ижора',\n",
       "       'поселок городского типа Вырица',\n",
       "       'поселок городского типа Дружная Горка',\n",
       "       'поселок городского типа Дубровка',\n",
       "       'поселок городского типа Ефимовский',\n",
       "       'поселок городского типа Кондратьево',\n",
       "       'поселок городского типа Красный Бор',\n",
       "       'поселок городского типа Кузьмоловский',\n",
       "       'поселок городского типа Лебяжье',\n",
       "       'поселок городского типа Лесогорский',\n",
       "       'поселок городского типа Назия',\n",
       "       'поселок городского типа Никольский',\n",
       "       'поселок городского типа Приладожский',\n",
       "       'поселок городского типа Рахья', 'поселок городского типа Рощино',\n",
       "       'поселок городского типа Рябово',\n",
       "       'поселок городского типа Синявино',\n",
       "       'поселок городского типа Советский',\n",
       "       'поселок городского типа Токсово',\n",
       "       'поселок городского типа Форносово',\n",
       "       'поселок городского типа имени Свердлова',\n",
       "       'поселок станции Вещево', 'поселок станции Корнево',\n",
       "       'поселок станции Лужайка', 'поселок станции Приветнинское',\n",
       "       'посёлок Александровская', 'посёлок Алексеевка', 'посёлок Аннино',\n",
       "       'посёлок Белоостров', 'посёлок Бугры', 'посёлок Возрождение',\n",
       "       'посёлок Войскорово', 'посёлок Высокоключевой',\n",
       "       'посёлок Гаврилово', 'посёлок Дзержинского', 'посёлок Жилгородок',\n",
       "       'посёлок Ильичёво', 'посёлок Кикерино', 'посёлок Кобралово',\n",
       "       'посёлок Коробицыно', 'посёлок Левашово', 'посёлок Ленинское',\n",
       "       'посёлок Лисий Нос', 'посёлок Мельниково', 'посёлок Металлострой',\n",
       "       'посёлок Мичуринское', 'посёлок Молодёжное', 'посёлок Мурино',\n",
       "       'посёлок Мыза-Ивановка', 'посёлок Новогорелово',\n",
       "       'посёлок Новый Свет', 'посёлок Пансионат Зелёный Бор',\n",
       "       'посёлок Парголово', 'посёлок Перово', 'посёлок Песочный',\n",
       "       'посёлок Петровское', 'посёлок Платформа 69-й километр',\n",
       "       'посёлок Плодовое', 'посёлок Плоское', 'посёлок Победа',\n",
       "       'посёлок Поляны', 'посёлок Понтонный', 'посёлок Пригородный',\n",
       "       'посёлок Пудость', 'посёлок Репино', 'посёлок Ропша',\n",
       "       'посёлок Сапёрное', 'посёлок Сапёрный', 'посёлок Сосново',\n",
       "       'посёлок Старая Малукса', 'посёлок Стеклянный', 'посёлок Стрельна',\n",
       "       'посёлок Суйда', 'посёлок Сумино', 'посёлок Тельмана',\n",
       "       'посёлок Терволово', 'посёлок Торфяное', 'посёлок Усть-Ижора',\n",
       "       'посёлок Усть-Луга', 'посёлок Форт Красная Горка',\n",
       "       'посёлок Шугозеро', 'посёлок Шушары', 'посёлок Щеглово',\n",
       "       'посёлок городского типа Важины',\n",
       "       'посёлок городского типа Вознесенье',\n",
       "       'посёлок городского типа Вырица',\n",
       "       'посёлок городского типа Красный Бор',\n",
       "       'посёлок городского типа Кузнечное',\n",
       "       'посёлок городского типа Кузьмоловский',\n",
       "       'посёлок городского типа Лебяжье', 'посёлок городского типа Мга',\n",
       "       'посёлок городского типа Павлово',\n",
       "       'посёлок городского типа Рощино', 'посёлок городского типа Рябово',\n",
       "       'посёлок городского типа Сиверский',\n",
       "       'посёлок городского типа Тайцы', 'посёлок городского типа Токсово',\n",
       "       'посёлок городского типа Ульяновка',\n",
       "       'посёлок городского типа Форносово',\n",
       "       'посёлок городского типа имени Морозова',\n",
       "       'посёлок городского типа имени Свердлова',\n",
       "       'посёлок при железнодорожной станции Вещево',\n",
       "       'посёлок при железнодорожной станции Приветнинское',\n",
       "       'посёлок станции Громово', 'посёлок станции Свирь',\n",
       "       'садоводческое некоммерческое товарищество Лесная Поляна',\n",
       "       'садовое товарищество Новая Ропша',\n",
       "       'садовое товарищество Приладожский', 'садовое товарищество Рахья',\n",
       "       'садовое товарищество Садко', 'село Копорье', 'село Никольское',\n",
       "       'село Павлово', 'село Паша', 'село Путилово', 'село Рождествено',\n",
       "       'село Русско-Высоцкое', 'село Старая Ладога', 'село Шум', nan],\n",
       "      dtype=object)"
      ]
     },
     "execution_count": 28,
     "metadata": {},
     "output_type": "execute_result"
    }
   ],
   "source": [
    "# попробуем выявить неявные дубликаты в столбце 'locality_name'\n",
    "data['locality_name'].sort_values().unique()"
   ]
  },
  {
   "cell_type": "code",
   "execution_count": 29,
   "metadata": {},
   "outputs": [
    {
     "data": {
      "text/plain": [
       "array(['Агалатово', 'Александровская', 'Алексеевка', 'Аннино', 'Аро',\n",
       "       'Барышево', 'Батово', 'Бегуницы', 'Белогорка', 'Белоостров',\n",
       "       'Бокситогорск', 'Большая Вруда', 'Большая Ижора',\n",
       "       'Большая Пустомержа', 'Большие Колпаны', 'Большое Рейзино',\n",
       "       'Большой Сабск', 'Бор', 'Борисова Грива', 'Бугры', 'Будогощь',\n",
       "       'Ваганово', 'Важины', 'Вартемяги', 'Вещево', 'Виллози',\n",
       "       'Вознесенье', 'Возрождение', 'Войсковицы', 'Войскорово',\n",
       "       'Володарское', 'Волосово', 'Волхов', 'Всеволожск', 'Выборг',\n",
       "       'Вырица', 'Выскатка', 'Высокоключевой', 'Высоцк', 'Гаврилово',\n",
       "       'Гарболово', 'Гатчина', 'Гладкое', 'Глажево', 'Глебычево',\n",
       "       'Глинка', 'Гончарово', 'Горбунки', 'Гостилицы', 'Громово',\n",
       "       'Дзержинского', 'Дружная Горка', 'Дружноселье', 'Дубровка',\n",
       "       'Елизаветино', 'Ефимовский', 'Жилгородок', 'Жилпоселок', 'Житково',\n",
       "       'Заводской', 'Заклинье', 'Заневка', 'Запорожское', 'Зеленогорск',\n",
       "       'Зимитицы', 'Ивангород', 'Извара', 'Ильичево', 'Иссад', 'Калитино',\n",
       "       'Каложицы', 'Кальтино', 'Каменногорск', 'Камышовка', 'Каськово',\n",
       "       'Келози', 'Кивеннапа Север', 'Кикерино', 'Кингисепп',\n",
       "       'Кингисеппский', 'Кипень', 'Кириши', 'Кировск', 'Кирпичное',\n",
       "       'Кисельня', 'Кобралово', 'Кобринское', 'Колпино', 'Колтуши',\n",
       "       'Коммунар', 'Коммунары', 'Кондратьево', 'Копорье', 'Коркино',\n",
       "       'Корнево', 'Коробицыно', 'Котельский', 'Котлы', 'Красная Долина',\n",
       "       'Красное Село', 'Красносельское', 'Красный Бор', 'Кривко',\n",
       "       'Кронштадт', 'Кудрово', 'Кузнечное', 'Кузьмолово', 'Кузьмоловский',\n",
       "       'Курковицы', 'Куровицы', 'Куттузи', 'Лаврики', 'Лаголово',\n",
       "       'Лампово', 'Лебяжье', 'Левашово', 'Ленинское', 'Лесколово',\n",
       "       'Лесная Поляна', 'Лесное', 'Лесогорский', 'Лисий Нос',\n",
       "       'Лодейное Поле', 'Ломоносов', 'Лопухинка', 'Луга', 'Лужайка',\n",
       "       'Лукаши', 'Лупполово', 'Любань', 'Малая Романовка', 'Малое Верево',\n",
       "       'Малое Карлино', 'Малые Колпаны', 'Мануйлово', 'Мга', 'Мельниково',\n",
       "       'Меньково', 'Металлострой', 'Мины', 'Мистолово', 'Мичуринское',\n",
       "       'Молодежное', 'Молодцово', 'Мурино', 'Мыза-Ивановка', 'Назия',\n",
       "       'Ненимяки', 'Нижние Осельки', 'Нижняя', 'Низино', 'Никольский',\n",
       "       'Никольское', 'Новая Ладога', 'Новая Ропша', 'Новогорелово',\n",
       "       'Новое Девяткино', 'Новолисино', 'Новоселье', 'Новый Свет',\n",
       "       'Новый Учхоз', 'Нурма', 'Оредеж', 'Оржицы', 'Отрадное', 'Павлово',\n",
       "       'Павловск', 'Пансионат Зеленый Бор', 'Парголово', 'Парицы', 'Паша',\n",
       "       'Пельгора', 'Пеники', 'Первомайское', 'Перово', 'Песочный',\n",
       "       'Петергоф', 'Петровское', 'Пижма', 'Пикалево', 'Пикколово',\n",
       "       'Платформа 69-й километр', 'Плодовое', 'Плоское', 'Победа',\n",
       "       'Подпорожье', 'Поляны', 'Понтонный', 'Почап', 'Починок',\n",
       "       'Приветнинское', 'Пригородный', 'Приладожский', 'Приморск',\n",
       "       'Приозерск', 'Пудомяги', 'Пудость', 'Пустынка', 'Путилово',\n",
       "       'Пушкин', 'Пушное', 'Пчева', 'Пчевжа', 'Рабитицы', 'Разбегаево',\n",
       "       'Раздолье', 'Разметелево', 'Рапполово', 'Рахья', 'Реброво',\n",
       "       'Репино', 'Рождествено', 'Романовка', 'Ромашки', 'Ропша', 'Рощино',\n",
       "       'Русско', 'Русско-Высоцкое', 'Рябово', 'Садко', 'Санкт-Петербург',\n",
       "       'Саперное', 'Саперный', 'Светогорск', 'Свирь', 'Свирьстрой',\n",
       "       'Севастьяново', 'Селезнево', 'Сельцо', 'Семиозерье', 'Семрино',\n",
       "       'Серебрянский', 'Сертолово', 'Сестрорецк', 'Сиверский', 'Сижно',\n",
       "       'Синявино', 'Сланцы', 'Снегиревка', 'Советский', 'Совхозный',\n",
       "       'Сосново', 'Сосновый Бор', 'Старая', 'Старая Ладога',\n",
       "       'Старая Малукса', 'Старая Пустошь', 'Старое Хинколово',\n",
       "       'Старополье', 'Старосиверская', 'Старые Бегуницы', 'Стеклянный',\n",
       "       'Стрельна', 'Суйда', 'Сумино', 'Суоранда', 'Суходолье', 'Счастье',\n",
       "       'Сяськелево', 'Сясьстрой', 'Тайцы', 'Тарасово', 'Тельмана',\n",
       "       'Терволово', 'Терпилицы', 'Тесово-4', 'Тихвин', 'Тихковицы',\n",
       "       'Тойворово', 'Токсово', 'Торковичи', 'Торосово', 'Торошковичи',\n",
       "       'Торфяное', 'Тосно', 'Трубников Бор', 'Углово', 'Ульяновка',\n",
       "       'Усть-Ижора', 'Усть-Луга', 'Ушаки', 'Фалилеево', 'Федоровское',\n",
       "       'Форносово', 'Форт Красная Горка', 'Хапо-Ое', 'Хязельки',\n",
       "       'Цвелодубово', 'Цвылево', 'Чудской Бор', 'Шлиссельбург',\n",
       "       'Шпаньково', 'Шугозеро', 'Шум', 'Шушары', 'Щеглово', 'Юкки',\n",
       "       'Ялгино', 'Яльгелево', 'Ям-Тесово', 'Янино-1', 'имени Морозова',\n",
       "       'имени Свердлова', nan], dtype=object)"
      ]
     },
     "execution_count": 29,
     "metadata": {},
     "output_type": "execute_result"
    }
   ],
   "source": [
    "#выполним замену ё на е\n",
    "data['locality_name'] = data['locality_name'].str.replace('ё', 'е')\n",
    "# уберём обозначения типа населённого пункта, и таким образом удалим оставшиеся неявные дубликаты\n",
    "data['locality_name'] = data['locality_name'].replace(['поселок городского типа ',\n",
    "                                                       'поселок при железнодорожной станции ',\n",
    "                                                       'поселок станции ', 'коттеджный поселок ',\n",
    "                                                       'городской поселок ', 'садовое товарищество ',\n",
    "                                                       'деревня ',\n",
    "                                                       'село ',\n",
    "                                                       'садоводческое некоммерческое товарищество ',\n",
    "                                                       'поселок ', 'коттеджный поселок '\n",
    "                                                      ], '', regex=True)\n",
    "# снова напечатаем уникальные значения в столбце 'locality_name'\n",
    "data['locality_name'].sort_values().unique()"
   ]
  },
  {
   "cell_type": "markdown",
   "metadata": {},
   "source": [
    "Теперь мы видим, что бОльшая часть дублей устранена. В значениях названий населенных пунктов ещё могут быть сотаваться незначительное кол-во дублей из-за опечаток, их выявить сложнее, не будем этого делать для нашего исследования."
   ]
  },
  {
   "cell_type": "code",
   "execution_count": 30,
   "metadata": {},
   "outputs": [],
   "source": [
    "# заполняем расстояние до центра, аэропорта для небольших насленных пунктов\n",
    "small_locality = data[data['locality_name']!=\"Санкт-Петербург\"]['locality_name'].unique()\n",
    "for locality in small_locality:\n",
    "    data.loc[\n",
    "        (data['locality_name']==locality) & data['airports_nearest'].isna(),\n",
    "        'airports_nearest'] = data.loc[\n",
    "        (data['locality_name']==locality) & data['airports_nearest'].notna(),\n",
    "        'airports_nearest'].median()\n",
    "    \n",
    "  \n",
    "    data.loc[\n",
    "        (data['locality_name']==locality) & data['city_centers_nearest'].isna(),\n",
    "        'city_centers_nearest'] = data.loc[\n",
    "        (data['locality_name']==locality) & data['city_centers_nearest'].notna(),\n",
    "        'city_centers_nearest'].median()"
   ]
  },
  {
   "cell_type": "code",
   "execution_count": 31,
   "metadata": {},
   "outputs": [
    {
     "name": "stdout",
     "output_type": "stream",
     "text": [
      "<class 'pandas.core.frame.DataFrame'>\n",
      "Int64Index: 23268 entries, 0 to 23698\n",
      "Data columns (total 22 columns):\n",
      " #   Column                Non-Null Count  Dtype         \n",
      "---  ------                --------------  -----         \n",
      " 0   total_images          23268 non-null  int64         \n",
      " 1   last_price            23268 non-null  float64       \n",
      " 2   total_area            23268 non-null  float64       \n",
      " 3   first_day_exposition  23268 non-null  datetime64[ns]\n",
      " 4   rooms                 23268 non-null  int64         \n",
      " 5   ceiling_height        23268 non-null  float64       \n",
      " 6   floors_total          23191 non-null  float64       \n",
      " 7   living_area           23268 non-null  float64       \n",
      " 8   floor                 23268 non-null  int64         \n",
      " 9   is_apartment          23268 non-null  bool          \n",
      " 10  studio                23268 non-null  bool          \n",
      " 11  open_plan             23268 non-null  bool          \n",
      " 12  kitchen_area          23268 non-null  float64       \n",
      " 13  balcony               23268 non-null  int64         \n",
      " 14  locality_name         23220 non-null  object        \n",
      " 15  airports_nearest      18441 non-null  float64       \n",
      " 16  city_centers_nearest  18465 non-null  float64       \n",
      " 17  parks_around_3000     23268 non-null  float64       \n",
      " 18  parks_nearest         23268 non-null  float64       \n",
      " 19  ponds_around_3000     23268 non-null  float64       \n",
      " 20  ponds_nearest         23268 non-null  float64       \n",
      " 21  days_exposition       20119 non-null  float64       \n",
      "dtypes: bool(3), datetime64[ns](1), float64(13), int64(4), object(1)\n",
      "memory usage: 3.6+ MB\n"
     ]
    }
   ],
   "source": [
    "data.info()"
   ]
  },
  {
   "cell_type": "markdown",
   "metadata": {},
   "source": [
    "**Вывод:**\n",
    "\n",
    "Итак, мы закончили предобработку данных. Там где это было возможно и не оказывало влияния на наши данные мы заполнили пропуски медианными значениями (так сделали для высоты потолков). Где-то мы заполнили пропуски булевыми или нулевыми значениями (кол-во балконов, апартаменты), что было тоже логично. Также мы преположили, что в радиусе 3000 м есть хотя бы одно озеро или парк и заполнили пропуски таким образом по кол-ву ближаших парков/ озер в радиусе 3000 м и затем заполнили расстояния до парка, озера медианными значениями. Для небольших населенных пунктов (кроме Санкт-Петербурга) пропуски до центра и аэропорта мы заполнили медианными расстояниями по квартирам в том же населенном пункте. Какие-то пропуски мы оставили как есть, потому что сложно было логически подобрать значения, не испортившие общей выборки. Также мы поменяли тип данных для части столбцов, чтобы удобно было работать с этими данными в дальнейшем ('first_day_exposition', 'is_apartment', 'balcony'). И наконец мы удалили неявные дубликаты по столбцу со названиями населенных пунктов 'locality_name'."
   ]
  },
  {
   "cell_type": "markdown",
   "metadata": {
    "id": "QCcvyY6YAwb-"
   },
   "source": [
    "## Добавление в таблицу новых столбцов"
   ]
  },
  {
   "cell_type": "code",
   "execution_count": 32,
   "metadata": {
    "id": "Z8eJek3IAwb-"
   },
   "outputs": [],
   "source": [
    "# добавляем колонку со значениями цены одного квадратного метра для каждого объекта\n",
    "data['square_m_price'] = round(data['last_price'] / data['total_area'], 2)\n",
    "# день недели публикации объявления (0 — понедельник, 1 — вторник и так далее)\n",
    "data['day_of_week_exposition'] = data['first_day_exposition'].dt.weekday\n",
    "# месяц публикации объявления\n",
    "data['month_exposition'] = data['first_day_exposition'].dt.month\n",
    "# год публикации объявления\n",
    "data['year_exposition'] = data['first_day_exposition'].dt.year"
   ]
  },
  {
   "cell_type": "code",
   "execution_count": 33,
   "metadata": {},
   "outputs": [
    {
     "data": {
      "text/html": [
       "<div>\n",
       "<style scoped>\n",
       "    .dataframe tbody tr th:only-of-type {\n",
       "        vertical-align: middle;\n",
       "    }\n",
       "\n",
       "    .dataframe tbody tr th {\n",
       "        vertical-align: top;\n",
       "    }\n",
       "\n",
       "    .dataframe thead th {\n",
       "        text-align: right;\n",
       "    }\n",
       "</style>\n",
       "<table border=\"1\" class=\"dataframe\">\n",
       "  <thead>\n",
       "    <tr style=\"text-align: right;\">\n",
       "      <th></th>\n",
       "      <th>total_images</th>\n",
       "      <th>last_price</th>\n",
       "      <th>total_area</th>\n",
       "      <th>first_day_exposition</th>\n",
       "      <th>rooms</th>\n",
       "      <th>ceiling_height</th>\n",
       "      <th>floors_total</th>\n",
       "      <th>living_area</th>\n",
       "      <th>floor</th>\n",
       "      <th>is_apartment</th>\n",
       "      <th>...</th>\n",
       "      <th>parks_nearest</th>\n",
       "      <th>ponds_around_3000</th>\n",
       "      <th>ponds_nearest</th>\n",
       "      <th>days_exposition</th>\n",
       "      <th>square_m_price</th>\n",
       "      <th>day_of_week_exposition</th>\n",
       "      <th>month_exposition</th>\n",
       "      <th>year_exposition</th>\n",
       "      <th>floor_type</th>\n",
       "      <th>city_centers_nearest_km</th>\n",
       "    </tr>\n",
       "  </thead>\n",
       "  <tbody>\n",
       "    <tr>\n",
       "      <th>0</th>\n",
       "      <td>20</td>\n",
       "      <td>13000000.0</td>\n",
       "      <td>108.00</td>\n",
       "      <td>2019-03-07</td>\n",
       "      <td>3</td>\n",
       "      <td>2.70</td>\n",
       "      <td>16.0</td>\n",
       "      <td>51.00</td>\n",
       "      <td>8</td>\n",
       "      <td>False</td>\n",
       "      <td>...</td>\n",
       "      <td>482.0</td>\n",
       "      <td>2.0</td>\n",
       "      <td>755.0</td>\n",
       "      <td>NaN</td>\n",
       "      <td>120370.37</td>\n",
       "      <td>3</td>\n",
       "      <td>3</td>\n",
       "      <td>2019</td>\n",
       "      <td>другой</td>\n",
       "      <td>16.0</td>\n",
       "    </tr>\n",
       "    <tr>\n",
       "      <th>1</th>\n",
       "      <td>7</td>\n",
       "      <td>3350000.0</td>\n",
       "      <td>40.40</td>\n",
       "      <td>2018-12-04</td>\n",
       "      <td>1</td>\n",
       "      <td>2.65</td>\n",
       "      <td>11.0</td>\n",
       "      <td>18.60</td>\n",
       "      <td>1</td>\n",
       "      <td>False</td>\n",
       "      <td>...</td>\n",
       "      <td>501.0</td>\n",
       "      <td>1.0</td>\n",
       "      <td>501.0</td>\n",
       "      <td>81.0</td>\n",
       "      <td>82920.79</td>\n",
       "      <td>1</td>\n",
       "      <td>12</td>\n",
       "      <td>2018</td>\n",
       "      <td>первый</td>\n",
       "      <td>19.0</td>\n",
       "    </tr>\n",
       "    <tr>\n",
       "      <th>2</th>\n",
       "      <td>10</td>\n",
       "      <td>5196000.0</td>\n",
       "      <td>56.00</td>\n",
       "      <td>2015-08-20</td>\n",
       "      <td>2</td>\n",
       "      <td>2.65</td>\n",
       "      <td>5.0</td>\n",
       "      <td>34.30</td>\n",
       "      <td>4</td>\n",
       "      <td>False</td>\n",
       "      <td>...</td>\n",
       "      <td>90.0</td>\n",
       "      <td>2.0</td>\n",
       "      <td>574.0</td>\n",
       "      <td>558.0</td>\n",
       "      <td>92785.71</td>\n",
       "      <td>3</td>\n",
       "      <td>8</td>\n",
       "      <td>2015</td>\n",
       "      <td>другой</td>\n",
       "      <td>14.0</td>\n",
       "    </tr>\n",
       "    <tr>\n",
       "      <th>3</th>\n",
       "      <td>0</td>\n",
       "      <td>64900000.0</td>\n",
       "      <td>159.00</td>\n",
       "      <td>2015-07-24</td>\n",
       "      <td>3</td>\n",
       "      <td>2.65</td>\n",
       "      <td>14.0</td>\n",
       "      <td>45.00</td>\n",
       "      <td>9</td>\n",
       "      <td>False</td>\n",
       "      <td>...</td>\n",
       "      <td>84.0</td>\n",
       "      <td>3.0</td>\n",
       "      <td>234.0</td>\n",
       "      <td>424.0</td>\n",
       "      <td>408176.10</td>\n",
       "      <td>4</td>\n",
       "      <td>7</td>\n",
       "      <td>2015</td>\n",
       "      <td>другой</td>\n",
       "      <td>7.0</td>\n",
       "    </tr>\n",
       "    <tr>\n",
       "      <th>4</th>\n",
       "      <td>2</td>\n",
       "      <td>10000000.0</td>\n",
       "      <td>100.00</td>\n",
       "      <td>2018-06-19</td>\n",
       "      <td>2</td>\n",
       "      <td>3.03</td>\n",
       "      <td>14.0</td>\n",
       "      <td>32.00</td>\n",
       "      <td>13</td>\n",
       "      <td>False</td>\n",
       "      <td>...</td>\n",
       "      <td>112.0</td>\n",
       "      <td>1.0</td>\n",
       "      <td>48.0</td>\n",
       "      <td>121.0</td>\n",
       "      <td>100000.00</td>\n",
       "      <td>1</td>\n",
       "      <td>6</td>\n",
       "      <td>2018</td>\n",
       "      <td>другой</td>\n",
       "      <td>8.0</td>\n",
       "    </tr>\n",
       "    <tr>\n",
       "      <th>5</th>\n",
       "      <td>10</td>\n",
       "      <td>2890000.0</td>\n",
       "      <td>30.40</td>\n",
       "      <td>2018-09-10</td>\n",
       "      <td>1</td>\n",
       "      <td>2.65</td>\n",
       "      <td>12.0</td>\n",
       "      <td>14.40</td>\n",
       "      <td>5</td>\n",
       "      <td>False</td>\n",
       "      <td>...</td>\n",
       "      <td>501.0</td>\n",
       "      <td>1.0</td>\n",
       "      <td>501.0</td>\n",
       "      <td>55.0</td>\n",
       "      <td>95065.79</td>\n",
       "      <td>0</td>\n",
       "      <td>9</td>\n",
       "      <td>2018</td>\n",
       "      <td>другой</td>\n",
       "      <td>NaN</td>\n",
       "    </tr>\n",
       "    <tr>\n",
       "      <th>6</th>\n",
       "      <td>6</td>\n",
       "      <td>3700000.0</td>\n",
       "      <td>37.30</td>\n",
       "      <td>2017-11-02</td>\n",
       "      <td>1</td>\n",
       "      <td>2.65</td>\n",
       "      <td>26.0</td>\n",
       "      <td>10.60</td>\n",
       "      <td>6</td>\n",
       "      <td>False</td>\n",
       "      <td>...</td>\n",
       "      <td>501.0</td>\n",
       "      <td>1.0</td>\n",
       "      <td>501.0</td>\n",
       "      <td>155.0</td>\n",
       "      <td>99195.71</td>\n",
       "      <td>3</td>\n",
       "      <td>11</td>\n",
       "      <td>2017</td>\n",
       "      <td>другой</td>\n",
       "      <td>19.0</td>\n",
       "    </tr>\n",
       "    <tr>\n",
       "      <th>7</th>\n",
       "      <td>5</td>\n",
       "      <td>7915000.0</td>\n",
       "      <td>71.60</td>\n",
       "      <td>2019-04-18</td>\n",
       "      <td>2</td>\n",
       "      <td>2.65</td>\n",
       "      <td>24.0</td>\n",
       "      <td>30.50</td>\n",
       "      <td>22</td>\n",
       "      <td>False</td>\n",
       "      <td>...</td>\n",
       "      <td>501.0</td>\n",
       "      <td>1.0</td>\n",
       "      <td>501.0</td>\n",
       "      <td>NaN</td>\n",
       "      <td>110544.69</td>\n",
       "      <td>3</td>\n",
       "      <td>4</td>\n",
       "      <td>2019</td>\n",
       "      <td>другой</td>\n",
       "      <td>12.0</td>\n",
       "    </tr>\n",
       "    <tr>\n",
       "      <th>8</th>\n",
       "      <td>20</td>\n",
       "      <td>2900000.0</td>\n",
       "      <td>33.16</td>\n",
       "      <td>2018-05-23</td>\n",
       "      <td>1</td>\n",
       "      <td>2.65</td>\n",
       "      <td>27.0</td>\n",
       "      <td>15.43</td>\n",
       "      <td>26</td>\n",
       "      <td>False</td>\n",
       "      <td>...</td>\n",
       "      <td>501.0</td>\n",
       "      <td>1.0</td>\n",
       "      <td>501.0</td>\n",
       "      <td>189.0</td>\n",
       "      <td>87454.76</td>\n",
       "      <td>2</td>\n",
       "      <td>5</td>\n",
       "      <td>2018</td>\n",
       "      <td>другой</td>\n",
       "      <td>22.0</td>\n",
       "    </tr>\n",
       "    <tr>\n",
       "      <th>9</th>\n",
       "      <td>18</td>\n",
       "      <td>5400000.0</td>\n",
       "      <td>61.00</td>\n",
       "      <td>2017-02-26</td>\n",
       "      <td>3</td>\n",
       "      <td>2.50</td>\n",
       "      <td>9.0</td>\n",
       "      <td>43.60</td>\n",
       "      <td>7</td>\n",
       "      <td>False</td>\n",
       "      <td>...</td>\n",
       "      <td>501.0</td>\n",
       "      <td>1.0</td>\n",
       "      <td>501.0</td>\n",
       "      <td>289.0</td>\n",
       "      <td>88524.59</td>\n",
       "      <td>6</td>\n",
       "      <td>2</td>\n",
       "      <td>2017</td>\n",
       "      <td>другой</td>\n",
       "      <td>15.0</td>\n",
       "    </tr>\n",
       "  </tbody>\n",
       "</table>\n",
       "<p>10 rows × 28 columns</p>\n",
       "</div>"
      ],
      "text/plain": [
       "   total_images  last_price  total_area first_day_exposition  rooms  \\\n",
       "0            20  13000000.0      108.00           2019-03-07      3   \n",
       "1             7   3350000.0       40.40           2018-12-04      1   \n",
       "2            10   5196000.0       56.00           2015-08-20      2   \n",
       "3             0  64900000.0      159.00           2015-07-24      3   \n",
       "4             2  10000000.0      100.00           2018-06-19      2   \n",
       "5            10   2890000.0       30.40           2018-09-10      1   \n",
       "6             6   3700000.0       37.30           2017-11-02      1   \n",
       "7             5   7915000.0       71.60           2019-04-18      2   \n",
       "8            20   2900000.0       33.16           2018-05-23      1   \n",
       "9            18   5400000.0       61.00           2017-02-26      3   \n",
       "\n",
       "   ceiling_height  floors_total  living_area  floor  is_apartment  ...  \\\n",
       "0            2.70          16.0        51.00      8         False  ...   \n",
       "1            2.65          11.0        18.60      1         False  ...   \n",
       "2            2.65           5.0        34.30      4         False  ...   \n",
       "3            2.65          14.0        45.00      9         False  ...   \n",
       "4            3.03          14.0        32.00     13         False  ...   \n",
       "5            2.65          12.0        14.40      5         False  ...   \n",
       "6            2.65          26.0        10.60      6         False  ...   \n",
       "7            2.65          24.0        30.50     22         False  ...   \n",
       "8            2.65          27.0        15.43     26         False  ...   \n",
       "9            2.50           9.0        43.60      7         False  ...   \n",
       "\n",
       "   parks_nearest  ponds_around_3000  ponds_nearest  days_exposition  \\\n",
       "0          482.0                2.0          755.0              NaN   \n",
       "1          501.0                1.0          501.0             81.0   \n",
       "2           90.0                2.0          574.0            558.0   \n",
       "3           84.0                3.0          234.0            424.0   \n",
       "4          112.0                1.0           48.0            121.0   \n",
       "5          501.0                1.0          501.0             55.0   \n",
       "6          501.0                1.0          501.0            155.0   \n",
       "7          501.0                1.0          501.0              NaN   \n",
       "8          501.0                1.0          501.0            189.0   \n",
       "9          501.0                1.0          501.0            289.0   \n",
       "\n",
       "  square_m_price  day_of_week_exposition  month_exposition  year_exposition  \\\n",
       "0      120370.37                       3                 3             2019   \n",
       "1       82920.79                       1                12             2018   \n",
       "2       92785.71                       3                 8             2015   \n",
       "3      408176.10                       4                 7             2015   \n",
       "4      100000.00                       1                 6             2018   \n",
       "5       95065.79                       0                 9             2018   \n",
       "6       99195.71                       3                11             2017   \n",
       "7      110544.69                       3                 4             2019   \n",
       "8       87454.76                       2                 5             2018   \n",
       "9       88524.59                       6                 2             2017   \n",
       "\n",
       "   floor_type  city_centers_nearest_km  \n",
       "0      другой                     16.0  \n",
       "1      первый                     19.0  \n",
       "2      другой                     14.0  \n",
       "3      другой                      7.0  \n",
       "4      другой                      8.0  \n",
       "5      другой                      NaN  \n",
       "6      другой                     19.0  \n",
       "7      другой                     12.0  \n",
       "8      другой                     22.0  \n",
       "9      другой                     15.0  \n",
       "\n",
       "[10 rows x 28 columns]"
      ]
     },
     "execution_count": 33,
     "metadata": {},
     "output_type": "execute_result"
    }
   ],
   "source": [
    "# cоздаем функцию для категоризации этажа квартиры\n",
    "# получаем 3 категории этажей: первый, последний, другой\n",
    "def floor_type(row):\n",
    "    floor = row['floor']\n",
    "    floors_total = row['floors_total']\n",
    "    \n",
    "    if floor == 1:\n",
    "        return 'первый'\n",
    "    elif floor == floors_total:\n",
    "        return 'последний'\n",
    "    else:\n",
    "        return 'другой'\n",
    "\n",
    "data['floor_type'] = data.apply(floor_type, axis=1)\n",
    "\n",
    "# расстояние до центра города в километрах\n",
    "data['city_centers_nearest_km'] = round(data['city_centers_nearest']/1000, 0)\n",
    "\n",
    "# смотрим результат по первым значениям\n",
    "data.head(10)"
   ]
  },
  {
   "cell_type": "markdown",
   "metadata": {},
   "source": [
    "**Вывод:**\n",
    "\n",
    "Итак, мы добавили 6 новых столбцов в таблицу:\n",
    "- цена одного квадратного метра;\n",
    "- день недели публикации объявления;\n",
    "- месяц публикации объявления;\n",
    "- год публикации объявления;\n",
    "- тип этажа квартиры;\n",
    "- расстояние от центра города в километрах;\n",
    "\n",
    "Для категоризации этажа квартиры мы создали функцию, которая определяет категорию в зависимости от двух параметров: этаж квартиры и количество этажей в доме.\n",
    "\n",
    "После вывода первых строк таблицы мы убедились, что все столбцы добавились верно."
   ]
  },
  {
   "cell_type": "markdown",
   "metadata": {
    "id": "pPyxrKWTAwb-"
   },
   "source": [
    "## Исследовательский анализ данных"
   ]
  },
  {
   "cell_type": "markdown",
   "metadata": {},
   "source": [
    "**Изучим параметры объектов и построим отдельные гистограммы для каждого из этих параметров**"
   ]
  },
  {
   "cell_type": "code",
   "execution_count": 34,
   "metadata": {},
   "outputs": [
    {
     "data": {
      "text/plain": [
       "count    23268.000000\n",
       "mean        60.709853\n",
       "std         34.929565\n",
       "min         14.000000\n",
       "25%         40.400000\n",
       "50%         52.280000\n",
       "75%         70.000000\n",
       "max        631.200000\n",
       "Name: total_area, dtype: float64"
      ]
     },
     "execution_count": 34,
     "metadata": {},
     "output_type": "execute_result"
    }
   ],
   "source": [
    "# посмотрим описание данных по столбцу с общей площадью квартир\n",
    "data['total_area'].describe()"
   ]
  },
  {
   "cell_type": "code",
   "execution_count": 35,
   "metadata": {
    "id": "V2f0D3kLAwb-"
   },
   "outputs": [
    {
     "data": {
      "image/png": "[encoded data removed]",
      "text/plain": [
       "<Figure size 504x360 with 1 Axes>"
      ]
     },
     "metadata": {
      "needs_background": "light"
     },
     "output_type": "display_data"
    }
   ],
   "source": [
    "# строим гистограмму\n",
    "data['total_area'].hist(bins=15, figsize=(7, 5))\n",
    "plt.title('Распределение значений признака \"total_area\"')\n",
    "plt.ylabel('Частоты')\n",
    "plt.xlabel('Значения признака')\n",
    "plt.show()"
   ]
  },
  {
   "cell_type": "markdown",
   "metadata": {},
   "source": [
    "Описание данных и гистрограмма показывают, что большие значения являются выбросами, которые можно удалить из таблицы."
   ]
  },
  {
   "cell_type": "code",
   "execution_count": 36,
   "metadata": {},
   "outputs": [
    {
     "data": {
      "image/png": "[encoded data removed]",
      "text/plain": [
       "<Figure size 504x360 with 1 Axes>"
      ]
     },
     "metadata": {
      "needs_background": "light"
     },
     "output_type": "display_data"
    }
   ],
   "source": [
    "# повторно строим гистограмму, отбросив значения выше 250\n",
    "good_data = data.query('total_area <= 250')\n",
    "good_data['total_area'].hist(bins=15, figsize=(7, 5))\n",
    "plt.title('Распределение значений признака \"total_area\"')\n",
    "plt.ylabel('Частоты')\n",
    "plt.xlabel('Значения признака')\n",
    "plt.show()"
   ]
  },
  {
   "cell_type": "markdown",
   "metadata": {},
   "source": [
    "В таблице было незначительное число выбросов по столбцу 'total_area' со значениями вплоть до 631. Мы создали новую таблицу с очищенными от выбросов данными по общей площади квартир, теперь мы получили более типичную гистограмму с распределением Пуассона. Медианное значение общей площади находится в районе 50 кв. метров."
   ]
  },
  {
   "cell_type": "code",
   "execution_count": 37,
   "metadata": {
    "scrolled": true
   },
   "outputs": [
    {
     "data": {
      "text/plain": [
       "count    23161.000000\n",
       "mean        33.727612\n",
       "std         18.643850\n",
       "min          2.000000\n",
       "25%         18.500000\n",
       "50%         30.400000\n",
       "75%         42.500000\n",
       "max        200.000000\n",
       "Name: living_area, dtype: float64"
      ]
     },
     "execution_count": 37,
     "metadata": {},
     "output_type": "execute_result"
    }
   ],
   "source": [
    "# посмотрим описание данных по столбцу с жилой площадью\n",
    "good_data['living_area'].describe()"
   ]
  },
  {
   "cell_type": "code",
   "execution_count": 38,
   "metadata": {},
   "outputs": [
    {
     "data": {
      "image/png": "[encoded data removed]",
      "text/plain": [
       "<Figure size 504x360 with 1 Axes>"
      ]
     },
     "metadata": {
      "needs_background": "light"
     },
     "output_type": "display_data"
    }
   ],
   "source": [
    "# построим гистрограмму по 'living_area'\n",
    "good_data['living_area'].hist(bins=15, figsize=(7, 5))\n",
    "plt.ylabel('Частоты')\n",
    "plt.xlabel('Значения признака')\n",
    "plt.title('Распределение значений признака \"living_area\"')\n",
    "plt.show()"
   ]
  },
  {
   "cell_type": "markdown",
   "metadata": {},
   "source": [
    "В столбце 'living_area' есть значения от 100 до 204, которые выбиваются из общего тренда, но примерно соответсвует общей площади квартир (до 250 кв. м), так что мы оставили эти значения. Гистограмма также имеет вид распределения Пуассона. Медианное значение общей площади находится в районе 30 кв. метров."
   ]
  },
  {
   "cell_type": "code",
   "execution_count": 39,
   "metadata": {},
   "outputs": [
    {
     "data": {
      "text/plain": [
       "count    23161.00000\n",
       "mean        10.35296\n",
       "std          5.33146\n",
       "min          1.30000\n",
       "25%          7.20000\n",
       "50%          9.04000\n",
       "75%         11.50000\n",
       "max        107.00000\n",
       "Name: kitchen_area, dtype: float64"
      ]
     },
     "execution_count": 39,
     "metadata": {},
     "output_type": "execute_result"
    }
   ],
   "source": [
    "# посмотрим описание данных по столбцу с площадью кухни\n",
    "good_data['kitchen_area'].describe()"
   ]
  },
  {
   "cell_type": "code",
   "execution_count": 40,
   "metadata": {},
   "outputs": [
    {
     "data": {
      "image/png": "[encoded data removed]",
      "text/plain": [
       "<Figure size 504x360 with 1 Axes>"
      ]
     },
     "metadata": {
      "needs_background": "light"
     },
     "output_type": "display_data"
    }
   ],
   "source": [
    "# построим гистрограмму\n",
    "good_data['kitchen_area'].hist(bins=15, figsize=(7, 5))\n",
    "plt.title('Распределение значений признака \"kitchen_area\"')\n",
    "plt.ylabel('Частоты')\n",
    "plt.xlabel('Значения признака')\n",
    "plt.show()"
   ]
  },
  {
   "cell_type": "markdown",
   "metadata": {},
   "source": [
    "Видим, что 75% квартир имеют площадь в пределах 11,5 кв. м., тогда как максимальное значение в 9 раз выше. По гистаграмме мы видим, что выбросы более 50 очень незначительны, эти данные можно удалить"
   ]
  },
  {
   "cell_type": "code",
   "execution_count": 41,
   "metadata": {},
   "outputs": [
    {
     "data": {
      "image/png": "[encoded data removed]",
      "text/plain": [
       "<Figure size 504x360 with 1 Axes>"
      ]
     },
     "metadata": {
      "needs_background": "light"
     },
     "output_type": "display_data"
    }
   ],
   "source": [
    "good_data = good_data.query('kitchen_area <= 50')\n",
    "\n",
    "# повторно строим гистограмму, предварительно отбросив значения выше 50\n",
    "good_data['kitchen_area'].hist(bins=15, figsize=(7, 5))\n",
    "plt.title('Распределение значений признака \"kitchen_area\"')\n",
    "plt.ylabel('Частоты')\n",
    "plt.xlabel('Значения признака')\n",
    "plt.show()"
   ]
  },
  {
   "cell_type": "markdown",
   "metadata": {},
   "source": [
    "В столбце таблицы 'kitchen_area' было незначительное число выбросов со значениями более 50 кв. м, которые портили представление о данных по гистрограмме. Мы очистили таблицу от выбросов по 'kitchen_area', теперь мы получили более типичную гистограмму с распределением Пуассона. Мы видим, что медианное значение площади кухни находится в районе 10 кв. метров."
   ]
  },
  {
   "cell_type": "code",
   "execution_count": 42,
   "metadata": {},
   "outputs": [
    {
     "data": {
      "text/plain": [
       "count    2.312800e+04\n",
       "mean     6.181808e+06\n",
       "std      6.797478e+06\n",
       "min      1.219000e+04\n",
       "25%      3.450000e+06\n",
       "50%      4.650000e+06\n",
       "75%      6.750000e+06\n",
       "max      3.300000e+08\n",
       "Name: last_price, dtype: float64"
      ]
     },
     "execution_count": 42,
     "metadata": {},
     "output_type": "execute_result"
    }
   ],
   "source": [
    "# посмотрим описание данных по цене\n",
    "good_data['last_price'].describe()"
   ]
  },
  {
   "cell_type": "code",
   "execution_count": 43,
   "metadata": {},
   "outputs": [
    {
     "data": {
      "image/png": "[encoded data removed]",
      "text/plain": [
       "<Figure size 504x360 with 1 Axes>"
      ]
     },
     "metadata": {
      "needs_background": "light"
     },
     "output_type": "display_data"
    }
   ],
   "source": [
    "# строим гистограмму\n",
    "good_data['last_price'].hist(bins=15, figsize=(7, 5))\n",
    "plt.title('Распределение значений признака \"last_price\"')\n",
    "plt.ylabel('Частоты')\n",
    "plt.xlabel('Значения признака')\n",
    "plt.show()"
   ]
  },
  {
   "cell_type": "markdown",
   "metadata": {},
   "source": [
    "Высокое значение стандартного отклонения также показывает, что в данных есть выбросы. Выбросы показывает и гистограмма."
   ]
  },
  {
   "cell_type": "code",
   "execution_count": 44,
   "metadata": {},
   "outputs": [
    {
     "data": {
      "image/png": "[encoded data removed]",
      "text/plain": [
       "<Figure size 504x360 with 1 Axes>"
      ]
     },
     "metadata": {
      "needs_background": "light"
     },
     "output_type": "display_data"
    }
   ],
   "source": [
    "# повторно строим гистограмму, предварительно отбросив значения выше 30 млн.\n",
    "good_data = good_data.query('last_price <= 30000000')\n",
    "good_data['last_price'].hist(bins=15, figsize=(7, 5))\n",
    "plt.title('Распределение значений признака \"last_price\"')\n",
    "plt.ylabel('Частоты')\n",
    "plt.xlabel('Значения признака')\n",
    "plt.show()"
   ]
  },
  {
   "cell_type": "markdown",
   "metadata": {},
   "source": [
    "В столбце 'last_price' было незначительное число выбросов со значениями до 330 млн., которые портили представление о данных по гистрограмме. Мы очистили таблицу от выбросов, убрав значения выше 30 млн., теперь мы получили более типичную гистограмму с распределением Пуассона. Мы видим, что медианное значение цены квартиры находится в районе 5 млн."
   ]
  },
  {
   "cell_type": "code",
   "execution_count": 45,
   "metadata": {},
   "outputs": [
    {
     "data": {
      "text/plain": [
       "count    22912.000000\n",
       "mean         2.047922\n",
       "std          0.995503\n",
       "min          0.000000\n",
       "25%          1.000000\n",
       "50%          2.000000\n",
       "75%          3.000000\n",
       "max         10.000000\n",
       "Name: rooms, dtype: float64"
      ]
     },
     "execution_count": 45,
     "metadata": {},
     "output_type": "execute_result"
    }
   ],
   "source": [
    "# посмотрим описание данных по кол-ву комнат\n",
    "good_data['rooms'].describe()"
   ]
  },
  {
   "cell_type": "code",
   "execution_count": 46,
   "metadata": {},
   "outputs": [
    {
     "data": {
      "image/png": "[encoded data removed]",
      "text/plain": [
       "<Figure size 504x360 with 1 Axes>"
      ]
     },
     "metadata": {
      "needs_background": "light"
     },
     "output_type": "display_data"
    }
   ],
   "source": [
    "# строим график по кол-ву комнат\n",
    "good_data['rooms'].value_counts().plot(kind='bar', grid=True,\n",
    "                                       figsize=(7, 5))\n",
    "plt.title('Распределение значений признака \"rooms\"')\n",
    "plt.ylabel('Частоты')\n",
    "plt.xlabel('Значения признака')\n",
    "plt.show()"
   ]
  },
  {
   "cell_type": "markdown",
   "metadata": {},
   "source": [
    "В столбце 'rooms' число комнат распределено от 1 до 10. Медианное значение - 2 комнаты, а 75% квартир имеют кол-во комнат в пределах 3. Значения от 6 до 10 несколько выбиваются из общих данных, но они не оказывают существенного влияния на вид гистограммы. Мы оставили высокие значения, на графике получили распределением Пуассона."
   ]
  },
  {
   "cell_type": "code",
   "execution_count": 47,
   "metadata": {},
   "outputs": [
    {
     "data": {
      "text/plain": [
       "count    22912.000000\n",
       "mean         2.715828\n",
       "std          0.961504\n",
       "min          1.000000\n",
       "25%          2.600000\n",
       "50%          2.650000\n",
       "75%          2.700000\n",
       "max        100.000000\n",
       "Name: ceiling_height, dtype: float64"
      ]
     },
     "execution_count": 47,
     "metadata": {},
     "output_type": "execute_result"
    }
   ],
   "source": [
    "# посмотрим описание данных по высоте потолка\n",
    "good_data['ceiling_height'].describe()"
   ]
  },
  {
   "cell_type": "code",
   "execution_count": 48,
   "metadata": {},
   "outputs": [
    {
     "data": {
      "image/png": "[encoded data removed]",
      "text/plain": [
       "<Figure size 504x360 with 1 Axes>"
      ]
     },
     "metadata": {
      "needs_background": "light"
     },
     "output_type": "display_data"
    }
   ],
   "source": [
    "# строим гистограмму\n",
    "good_data['ceiling_height'].hist(bins=15, figsize=(7, 5))\n",
    "plt.title('Распределение значений признака \"ceiling_height\"')\n",
    "plt.ylabel('Частоты')\n",
    "plt.xlabel('Значения признака')\n",
    "plt.show()"
   ]
  },
  {
   "cell_type": "markdown",
   "metadata": {},
   "source": [
    "75% квартир имеют потолок высотой до 2,7 метров, при этом максимальное значение - 100. Явно есть аномалии в данных. Гистограмма также показывает наличие незначительной части выбросов с аномально высокими значениями, которые сильно портят вид гистограммы."
   ]
  },
  {
   "cell_type": "code",
   "execution_count": 49,
   "metadata": {},
   "outputs": [
    {
     "data": {
      "text/plain": [
       "array([  1.  ,   1.2 ,   1.75,   2.  ,   2.2 ,   2.25,   2.3 ,   2.4 ,\n",
       "         2.45,   2.46,   2.47,   2.48,   2.49,   2.5 ,   2.51,   2.52,\n",
       "         2.53,   2.54,   2.55,   2.56,   2.57,   2.58,   2.59,   2.6 ,\n",
       "         2.61,   2.62,   2.63,   2.64,   2.65,   2.66,   2.67,   2.68,\n",
       "         2.69,   2.7 ,   2.71,   2.72,   2.73,   2.74,   2.75,   2.76,\n",
       "         2.77,   2.78,   2.79,   2.8 ,   2.81,   2.82,   2.83,   2.84,\n",
       "         2.85,   2.86,   2.87,   2.88,   2.89,   2.9 ,   2.91,   2.92,\n",
       "         2.93,   2.94,   2.95,   2.96,   2.97,   2.98,   3.  ,   3.01,\n",
       "         3.02,   3.03,   3.04,   3.05,   3.06,   3.07,   3.08,   3.09,\n",
       "         3.1 ,   3.11,   3.12,   3.13,   3.14,   3.15,   3.16,   3.17,\n",
       "         3.18,   3.2 ,   3.21,   3.22,   3.23,   3.24,   3.25,   3.26,\n",
       "         3.27,   3.28,   3.29,   3.3 ,   3.31,   3.32,   3.33,   3.34,\n",
       "         3.35,   3.36,   3.37,   3.38,   3.39,   3.4 ,   3.42,   3.44,\n",
       "         3.45,   3.46,   3.47,   3.48,   3.49,   3.5 ,   3.51,   3.52,\n",
       "         3.53,   3.54,   3.55,   3.56,   3.57,   3.59,   3.6 ,   3.62,\n",
       "         3.63,   3.65,   3.66,   3.67,   3.68,   3.69,   3.7 ,   3.75,\n",
       "         3.78,   3.8 ,   3.83,   3.84,   3.85,   3.87,   3.88,   3.9 ,\n",
       "         3.93,   3.95,   3.98,   4.  ,   4.06,   4.1 ,   4.14,   4.15,\n",
       "         4.19,   4.2 ,   4.25,   4.3 ,   4.37,   4.4 ,   4.5 ,   4.7 ,\n",
       "         4.8 ,   5.  ,   5.3 ,   8.  ,   8.3 ,  10.3 ,  14.  ,  20.  ,\n",
       "        22.6 ,  24.  ,  25.  ,  26.  ,  27.  ,  32.  , 100.  ])"
      ]
     },
     "execution_count": 49,
     "metadata": {},
     "output_type": "execute_result"
    }
   ],
   "source": [
    "# посмотрим уникальные значения\n",
    "good_data['ceiling_height'].sort_values().unique()"
   ]
  },
  {
   "cell_type": "code",
   "execution_count": 50,
   "metadata": {},
   "outputs": [
    {
     "data": {
      "image/png": "[encoded data removed]",
      "text/plain": [
       "<Figure size 504x360 with 1 Axes>"
      ]
     },
     "metadata": {
      "needs_background": "light"
     },
     "output_type": "display_data"
    }
   ],
   "source": [
    "# делаем замену для явных опечаток в данных\n",
    "good_data['ceiling_height'].replace({22.6: 2.26, 24: 2.4, 25: 2.5, 26: 2.6,\n",
    "                                     27: 2.7, 27.5: 2.75}, inplace=True)\n",
    "# затем убираем оставшиеся строки с аномальными значениями выше 5 и ниже 2\n",
    "good_data = good_data.query('2 <= ceiling_height <= 5')\n",
    "# повторно строим гистограмму\n",
    "good_data['ceiling_height'].hist(bins=10, figsize=(7, 5))\n",
    "plt.title('Распределение значений признака \"ceiling_height\"')\n",
    "plt.ylabel('Частоты')\n",
    "plt.xlabel('Значения признака')\n",
    "plt.show()"
   ]
  },
  {
   "cell_type": "markdown",
   "metadata": {},
   "source": [
    "В столбце 'ceiling_height' выбросы до 100 оказывали сильное влияние на вид гистограммы. Медианное значение - 2,65 м, а 75% квартир имеют значения высоты потолка в пределах 2,7 м. Мы заменили значения в тех местах, где логично было предположить ошибку в данных - на уменьшенные в 10 раз вещественные значения. А оставшиеся аномальные значения больше 5 метров и ниже 2 метров мы удалили. В итоге мы получили гистограмму с распределением Пуассона."
   ]
  },
  {
   "cell_type": "code",
   "execution_count": 51,
   "metadata": {},
   "outputs": [
    {
     "data": {
      "text/plain": [
       "count      22898\n",
       "unique         3\n",
       "top       другой\n",
       "freq       16856\n",
       "Name: floor_type, dtype: object"
      ]
     },
     "execution_count": 51,
     "metadata": {},
     "output_type": "execute_result"
    }
   ],
   "source": [
    "# описание данных по типу этажа квартиры\n",
    "good_data['floor_type'].describe()"
   ]
  },
  {
   "cell_type": "code",
   "execution_count": 52,
   "metadata": {},
   "outputs": [
    {
     "data": {
      "image/png": "[encoded data removed]",
      "text/plain": [
       "<Figure size 504x360 with 1 Axes>"
      ]
     },
     "metadata": {
      "needs_background": "light"
     },
     "output_type": "display_data"
    }
   ],
   "source": [
    "# выводим гистрограмму\n",
    "good_data['floor_type'].value_counts().plot(grid=True, kind='bar',\n",
    "                                            figsize=(7, 5))\n",
    "plt.title('Распределение значений признака \"floor_type\"')\n",
    "plt.ylabel('Частоты')\n",
    "plt.xlabel('Значения признака')\n",
    "plt.xticks(fontsize=8, rotation=20, ha='right')\n",
    "plt.show()"
   ]
  },
  {
   "cell_type": "markdown",
   "metadata": {},
   "source": [
    "На гистограмме по столбцу 'floor_type' представлены все три установлненных ранее типа этажей: другой, первый, последний. Более 70% всех квартир составляют квартиры с типом этажа 'другой', т.е. квартиры не на первом и не на последнем этажах, что логично."
   ]
  },
  {
   "cell_type": "code",
   "execution_count": 53,
   "metadata": {},
   "outputs": [
    {
     "data": {
      "text/plain": [
       "count    22822.000000\n",
       "mean        10.657918\n",
       "std          6.575481\n",
       "min          1.000000\n",
       "25%          5.000000\n",
       "50%          9.000000\n",
       "75%         16.000000\n",
       "max         60.000000\n",
       "Name: floors_total, dtype: float64"
      ]
     },
     "execution_count": 53,
     "metadata": {},
     "output_type": "execute_result"
    }
   ],
   "source": [
    "# описание данных по кол-ву этажей в доме\n",
    "good_data['floors_total'].describe()"
   ]
  },
  {
   "cell_type": "code",
   "execution_count": 54,
   "metadata": {},
   "outputs": [
    {
     "data": {
      "image/png": "[encoded data removed]",
      "text/plain": [
       "<Figure size 504x360 with 1 Axes>"
      ]
     },
     "metadata": {
      "needs_background": "light"
     },
     "output_type": "display_data"
    }
   ],
   "source": [
    "# строим гистограмму\n",
    "good_data['floors_total'].hist(bins=20, figsize=(7, 5))\n",
    "plt.title('Распределение значений признака \"floors_total\"')\n",
    "plt.ylabel('Частоты')\n",
    "plt.xlabel('Значения признака')\n",
    "plt.show()"
   ]
  },
  {
   "cell_type": "code",
   "execution_count": 55,
   "metadata": {},
   "outputs": [
    {
     "data": {
      "image/png": "[encoded data removed]",
      "text/plain": [
       "<Figure size 504x360 with 1 Axes>"
      ]
     },
     "metadata": {
      "needs_background": "light"
     },
     "output_type": "display_data"
    }
   ],
   "source": [
    "# убираем аномальные значения и снова строим гистограмму\n",
    "good_data = good_data.query('floors_total <= 35')\n",
    "good_data['floors_total'].hist(bins=20, figsize=(7, 5))\n",
    "plt.title('Распределение значений признака \"floors_total\"')\n",
    "plt.ylabel('Частоты')\n",
    "plt.xlabel('Значения признака')\n",
    "plt.show()"
   ]
  },
  {
   "cell_type": "markdown",
   "metadata": {},
   "source": [
    "Медианное значение по столбцу 'floors_total' составляют квартиры в 9-ти этажных домах. 75% квартир находятся в домах не более чем в 16 этажей. В выборке представлены дома от 1 до 60 этажей. В этих цифрах явно есть аномалия, известный на сегодня самый высокий жилой дом в Санкт-Петербурге имеет этажность в 35 этажей. На гистограмме мы видим несколько пиков, самый высокий находится выше медианного значения в районе 5-6 этажей. "
   ]
  },
  {
   "cell_type": "code",
   "execution_count": 56,
   "metadata": {},
   "outputs": [
    {
     "data": {
      "text/plain": [
       "count    18032.000000\n",
       "mean     14595.714036\n",
       "std       8597.991985\n",
       "min        208.000000\n",
       "25%       9746.000000\n",
       "50%      13355.000000\n",
       "75%      16788.000000\n",
       "max      65968.000000\n",
       "Name: city_centers_nearest, dtype: float64"
      ]
     },
     "execution_count": 56,
     "metadata": {},
     "output_type": "execute_result"
    }
   ],
   "source": [
    "# описание данных по столбцу с расстоянием до центра города в метрах\n",
    "good_data['city_centers_nearest'].describe()"
   ]
  },
  {
   "cell_type": "code",
   "execution_count": 57,
   "metadata": {},
   "outputs": [
    {
     "data": {
      "image/png": "[encoded data removed]",
      "text/plain": [
       "<Figure size 504x360 with 1 Axes>"
      ]
     },
     "metadata": {
      "needs_background": "light"
     },
     "output_type": "display_data"
    }
   ],
   "source": [
    "# строим гистограмму\n",
    "good_data['city_centers_nearest'].hist(bins=15, figsize=(7, 5))\n",
    "plt.title('Распределение значений признака \"city_centers_nearest\"')\n",
    "plt.ylabel('Частоты')\n",
    "plt.xlabel('Значения признака')\n",
    "plt.show()"
   ]
  },
  {
   "cell_type": "markdown",
   "metadata": {},
   "source": [
    "В столбце 'city_centers_nearest' медиана приходится на 13199 метров, а 75% квартир находятся в пределах 16378 метров от центра. При этом максимальное значение составляет около 66 тысяч метров. Высокие значения не оказывают сущестеннного влияния на вид гистограммы."
   ]
  },
  {
   "cell_type": "code",
   "execution_count": 58,
   "metadata": {},
   "outputs": [
    {
     "data": {
      "text/plain": [
       "count    22817.000000\n",
       "mean       498.420169\n",
       "std        198.420561\n",
       "min          1.000000\n",
       "25%        501.000000\n",
       "50%        501.000000\n",
       "75%        501.000000\n",
       "max       3190.000000\n",
       "Name: parks_nearest, dtype: float64"
      ]
     },
     "execution_count": 58,
     "metadata": {},
     "output_type": "execute_result"
    }
   ],
   "source": [
    "# описание данных по столбцу с расстоянием до ближайшего парка\n",
    "good_data['parks_nearest'].describe()"
   ]
  },
  {
   "cell_type": "code",
   "execution_count": 59,
   "metadata": {},
   "outputs": [
    {
     "data": {
      "image/png": "[encoded data removed]",
      "text/plain": [
       "<Figure size 504x360 with 1 Axes>"
      ]
     },
     "metadata": {
      "needs_background": "light"
     },
     "output_type": "display_data"
    }
   ],
   "source": [
    "# строим гистограмму\n",
    "good_data['parks_nearest'].hist(bins=15, figsize=(7, 5))\n",
    "plt.title('Распределение значений признака \"parks_nearest\"')\n",
    "plt.ylabel('Частоты')\n",
    "plt.xlabel('Значения признака')\n",
    "plt.show()"
   ]
  },
  {
   "cell_type": "markdown",
   "metadata": {},
   "source": [
    "В столбце 'parks_nearest' медиана приходится на 501 метр, и 75% квартир находятся в пределах 501 метра от ближайшего парка. При этом максимальное значение составляет 3190 метров. Высокие значения не оказывают сущестеннного влияния на вид гистограммы. В результате мы получили гистограмму с распределением Пуассона."
   ]
  },
  {
   "cell_type": "markdown",
   "metadata": {},
   "source": [
    "**Изучим, как быстро продавались квартиры** "
   ]
  },
  {
   "cell_type": "code",
   "execution_count": 60,
   "metadata": {},
   "outputs": [
    {
     "data": {
      "image/png": "[encoded data removed]",
      "text/plain": [
       "<Figure size 432x432 with 1 Axes>"
      ]
     },
     "metadata": {
      "needs_background": "light"
     },
     "output_type": "display_data"
    }
   ],
   "source": [
    "# строим график типа box plot по срокам продажи квартир\n",
    "good_data['days_exposition'].plot.box(figsize = (6, 6))\n",
    "plt.ylabel('Значения признака \"days_exposition\"')\n",
    "plt.title('Диаграмма размаха для сроков продажи квартир')\n",
    "plt.show()"
   ]
  },
  {
   "cell_type": "code",
   "execution_count": 61,
   "metadata": {},
   "outputs": [
    {
     "data": {
      "text/plain": [
       "count    19769.000000\n",
       "mean       180.530376\n",
       "std        218.726337\n",
       "min          1.000000\n",
       "25%         45.000000\n",
       "50%         96.000000\n",
       "75%        231.000000\n",
       "max       1580.000000\n",
       "Name: days_exposition, dtype: float64"
      ]
     },
     "execution_count": 61,
     "metadata": {},
     "output_type": "execute_result"
    }
   ],
   "source": [
    "# посмотрим описательную статистику по срокам продажи квартир\n",
    "good_data['days_exposition'].describe()"
   ]
  },
  {
   "cell_type": "markdown",
   "metadata": {},
   "source": [
    "Медианное значение срока продажи квартиры по столбцу 'days_exposition' составляет 96 дней, т.е. половина квартир были проданы в пределах этого срока. На графике это значение отмечено зелёной линией. Среднее значение почти в два раза больше - 180,5 дней, что связано с тем, что среднее значение подвержено выбросам. \n",
    "\n",
    "75% квартир продалось в течение 231 дней. На графике это верхняя граница ящика, соответствующая 3-му квартилю. Можно сказать, что большая часть квартир продается в срок от 1 до 8 месяцев. Быстрыми продажами можно считать продажи в срок не более 1,5 месяцев, т.е. со сроком в первом квартиле (25%), на графике это продажи под нижней границей ящика. По графику также можно сказать, что необычно долгими продажами будут те, что выходят за пределы верхнего уса графика и являются выбросами. Это продажи от 500 дней. На графике их довольно много и они сливаются в чёрную линию. Самая долгая продажа в базе составляет 1580 дней, т.е. дольше 4 лет."
   ]
  },
  {
   "cell_type": "markdown",
   "metadata": {},
   "source": [
    "**Какие факторы больше всего влияют на общую (полную) стоимость объекта?**"
   ]
  },
  {
   "cell_type": "code",
   "execution_count": 62,
   "metadata": {},
   "outputs": [
    {
     "name": "stdout",
     "output_type": "stream",
     "text": [
      "Коэффициент корреляции между ценой объекта и общей площадью: 0.79\n"
     ]
    }
   ],
   "source": [
    "# выводим коэффициент корреляции между признаками\n",
    "print('Коэффициент корреляции между ценой объекта и общей площадью:',\n",
    "      round(good_data['last_price'].corr(good_data['total_area']), 2))"
   ]
  },
  {
   "cell_type": "code",
   "execution_count": 63,
   "metadata": {},
   "outputs": [
    {
     "data": {
      "image/png": "[encoded data removed]",
      "text/plain": [
       "<Figure size 504x360 with 1 Axes>"
      ]
     },
     "metadata": {
      "needs_background": "light"
     },
     "output_type": "display_data"
    }
   ],
   "source": [
    "# строим график зависимости медианной цены объекта от общей плошади\n",
    "good_data.pivot_table(index='last_price', values = 'total_area',\n",
    "                      aggfunc = 'median').reset_index().plot(x='total_area',\n",
    "                                                             y='last_price',\n",
    "                                                             kind='scatter',\n",
    "                                                             alpha=0.5,\n",
    "                                                             figsize=(7, 5))\n",
    "plt.title('Диаграмма рассеяния для признаков \"last_price\" и \"total_area\"\\n')\n",
    "plt.show()"
   ]
  },
  {
   "cell_type": "code",
   "execution_count": 64,
   "metadata": {},
   "outputs": [
    {
     "name": "stdout",
     "output_type": "stream",
     "text": [
      "Коэффициент корреляции между ценой объекта и жилой площадью: 0.66\n"
     ]
    }
   ],
   "source": [
    "# выводим коэффициент корреляции между признаками\n",
    "print('Коэффициент корреляции между ценой объекта и жилой площадью:',\n",
    "      round(good_data['last_price'].corr(good_data['living_area']), 2))"
   ]
  },
  {
   "cell_type": "code",
   "execution_count": 65,
   "metadata": {},
   "outputs": [
    {
     "data": {
      "image/png": "[encoded data removed]",
      "text/plain": [
       "<Figure size 504x360 with 1 Axes>"
      ]
     },
     "metadata": {
      "needs_background": "light"
     },
     "output_type": "display_data"
    }
   ],
   "source": [
    "# строим график зависимости медианной цены объекта от жилой плошади\n",
    "good_data.pivot_table(index='last_price', values = 'living_area',\n",
    "                      aggfunc = 'median').reset_index().plot(x='living_area',\n",
    "                                                             y='last_price',\n",
    "                                                             kind='scatter',\n",
    "                                                             alpha=0.5,\n",
    "                                                             figsize=(7, 5))\n",
    "plt.title('Диаграмма рассеяния для признаков \"last_price\" и \"living_area\"\\n')\n",
    "plt.show()"
   ]
  },
  {
   "cell_type": "code",
   "execution_count": 66,
   "metadata": {},
   "outputs": [
    {
     "name": "stdout",
     "output_type": "stream",
     "text": [
      "Коэффициент корреляции между ценой объекта и площадью кухни: 0.58\n"
     ]
    }
   ],
   "source": [
    "# выводим коэффициент корреляции между признаками\n",
    "print('Коэффициент корреляции между ценой объекта и площадью кухни:',\n",
    "      round(good_data['last_price'].corr(good_data['kitchen_area']), 2))"
   ]
  },
  {
   "cell_type": "code",
   "execution_count": 67,
   "metadata": {},
   "outputs": [
    {
     "data": {
      "image/png": "[encoded data removed]",
      "text/plain": [
       "<Figure size 504x360 with 1 Axes>"
      ]
     },
     "metadata": {
      "needs_background": "light"
     },
     "output_type": "display_data"
    }
   ],
   "source": [
    "# строим график зависимости медианной цены объекта от плошади кухни\n",
    "data.pivot_table(index='last_price', values = 'kitchen_area',\n",
    "                 aggfunc = 'median').reset_index().plot(x='kitchen_area',\n",
    "                                                        y='last_price',\n",
    "                                                        kind='scatter',\n",
    "                                                        alpha=0.5,\n",
    "                                                        figsize=(7, 5))\n",
    "plt.title('Диаграмма рассеяния для признаков \"last_price\" и \"kitchen_area\"\\n')\n",
    "plt.show()"
   ]
  },
  {
   "cell_type": "code",
   "execution_count": 68,
   "metadata": {},
   "outputs": [
    {
     "name": "stdout",
     "output_type": "stream",
     "text": [
      "Коэффициент корреляции между ценой объекта и кол-вом комнат: 0.51\n"
     ]
    }
   ],
   "source": [
    "# выводим коэффициенты корреляции между признаками\n",
    "print('Коэффициент корреляции между ценой объекта и кол-вом комнат:',\n",
    "      round(good_data['last_price'].corr(good_data['rooms']), 2))"
   ]
  },
  {
   "cell_type": "code",
   "execution_count": 69,
   "metadata": {},
   "outputs": [
    {
     "data": {
      "image/png": "[encoded data removed]",
      "text/plain": [
       "<Figure size 504x360 with 1 Axes>"
      ]
     },
     "metadata": {
      "needs_background": "light"
     },
     "output_type": "display_data"
    }
   ],
   "source": [
    "# строим график зависимости медианнной цены объекта от кол-ва комнат\n",
    "good_data.pivot_table(index='rooms', values = 'last_price',\n",
    "                      aggfunc = 'median').reset_index().plot(grid=True,\n",
    "                                                             x='rooms',\n",
    "                                                             y='last_price',\n",
    "                                                             kind='bar',\n",
    "                                                             figsize=(7, 5))\n",
    "plt.ylabel('Средняя цена квартиры')\n",
    "plt.xlabel('Кол-во комнат')\n",
    "plt.title('Зависимость между признаками \"last_price\" и \"rooms\"\\n')\n",
    "plt.show()"
   ]
  },
  {
   "cell_type": "code",
   "execution_count": 70,
   "metadata": {},
   "outputs": [
    {
     "data": {
      "image/png": "[encoded data removed]",
      "text/plain": [
       "<Figure size 504x360 with 1 Axes>"
      ]
     },
     "metadata": {
      "needs_background": "light"
     },
     "output_type": "display_data"
    }
   ],
   "source": [
    "# строим график зависимости между типом этажа и медианной ценой объекта для каждого типа этажа\n",
    "good_data.pivot_table(index='floor_type', values = 'last_price',\n",
    "                      aggfunc = 'median'\n",
    "                     ).reset_index().plot(grid = True,\n",
    "                                          kind = 'bar',\n",
    "                                          x='floor_type',\n",
    "                                          y='last_price',\n",
    "                                          figsize=(7, 5))\n",
    "plt.ylabel('Средняя цена квартиры')\n",
    "plt.xlabel('Тип этажа')\n",
    "plt.title('Зависимость между признаками \"last_price\" и \"floor_type\"\\n')\n",
    "plt.show()"
   ]
  },
  {
   "cell_type": "code",
   "execution_count": 71,
   "metadata": {},
   "outputs": [
    {
     "name": "stdout",
     "output_type": "stream",
     "text": [
      "Коэффициент корреляции между ценой объекта и днём размещения объявления: -0.02125826581692287\n"
     ]
    }
   ],
   "source": [
    "# выводим коэффициенты корреляции между признаками\n",
    "print('Коэффициент корреляции между ценой объекта и днём размещения объявления:',\n",
    "      good_data['last_price'].corr(good_data['day_of_week_exposition']))"
   ]
  },
  {
   "cell_type": "code",
   "execution_count": 72,
   "metadata": {},
   "outputs": [
    {
     "data": {
      "image/png": "[encoded data removed]",
      "text/plain": [
       "<Figure size 504x360 with 1 Axes>"
      ]
     },
     "metadata": {
      "needs_background": "light"
     },
     "output_type": "display_data"
    }
   ],
   "source": [
    "# строим график зависимости медианной ценой объекта от дня публикации объявления\n",
    "good_data.pivot_table(index='day_of_week_exposition', values = 'last_price',\n",
    "                      aggfunc = 'median').reset_index().plot(grid = True,\n",
    "                                                             x='day_of_week_exposition',\n",
    "                                                             y='last_price',\n",
    "                                                             kind='bar',\n",
    "                                                             figsize=(7, 5))\n",
    "plt.ylabel('Средняя цена квартиры')\n",
    "plt.xlabel('День публикации объявления')\n",
    "plt.title('Зависимость между признаками \"last_price\" и \"day_of_week_exposition\"\\n')\n",
    "plt.show()"
   ]
  },
  {
   "cell_type": "code",
   "execution_count": 73,
   "metadata": {},
   "outputs": [
    {
     "name": "stdout",
     "output_type": "stream",
     "text": [
      "Коэффициент корреляции между ценой объекта и месяцем размещения объявления: 0.004966695383370045\n"
     ]
    }
   ],
   "source": [
    "# выводим коэффициенты корреляции между признаками\n",
    "print('Коэффициент корреляции между ценой объекта и месяцем размещения объявления:',\n",
    "      good_data['last_price'].corr(good_data['month_exposition']))"
   ]
  },
  {
   "cell_type": "code",
   "execution_count": 74,
   "metadata": {},
   "outputs": [
    {
     "data": {
      "image/png": "[encoded data removed]",
      "text/plain": [
       "<Figure size 504x360 with 1 Axes>"
      ]
     },
     "metadata": {
      "needs_background": "light"
     },
     "output_type": "display_data"
    }
   ],
   "source": [
    "# строим график зависимости медианной ценой объекта от месяца публикации объявления\n",
    "good_data.pivot_table(index='month_exposition', values = 'last_price',\n",
    "                      aggfunc = 'median').reset_index().plot(grid = True,\n",
    "                                                             x='month_exposition',\n",
    "                                                             y='last_price',\n",
    "                                                             kind='bar',\n",
    "                                                             figsize=(7, 5))\n",
    "plt.ylabel('Средняя цена квартиры')\n",
    "plt.xlabel('Месяц публикации объявления')\n",
    "plt.title('Зависимость между признаками \"last_price\" и \"month_exposition\"\\n')\n",
    "plt.show()"
   ]
  },
  {
   "cell_type": "code",
   "execution_count": 75,
   "metadata": {},
   "outputs": [
    {
     "name": "stdout",
     "output_type": "stream",
     "text": [
      "Коэффициент корреляции между ценой объекта и годом размещения объявления: -0.03819551618422893\n"
     ]
    }
   ],
   "source": [
    "# выводим коэффициенты корреляции между признаками\n",
    "print('Коэффициент корреляции между ценой объекта и годом размещения объявления:',\n",
    "      good_data['last_price'].corr(good_data['year_exposition']))"
   ]
  },
  {
   "cell_type": "code",
   "execution_count": 76,
   "metadata": {},
   "outputs": [
    {
     "data": {
      "image/png": "[encoded data removed]",
      "text/plain": [
       "<Figure size 504x360 with 1 Axes>"
      ]
     },
     "metadata": {
      "needs_background": "light"
     },
     "output_type": "display_data"
    }
   ],
   "source": [
    "# строим график зависимости медианной цены объекта от года публикации объявления\n",
    "good_data.pivot_table(index='year_exposition', values = 'last_price',\n",
    "                      aggfunc = 'median').reset_index().plot(grid = True,\n",
    "                                                             x='year_exposition',\n",
    "                                                             y='last_price',\n",
    "                                                             kind='bar',\n",
    "                                                             figsize=(7, 5))\n",
    "plt.ylabel('Средняя цена квартиры')\n",
    "plt.xlabel('Год публикации объявления')\n",
    "plt.title('Зависимость между признаками \"last_price\" и \"year_exposition\"\\n')\n",
    "plt.show()"
   ]
  },
  {
   "cell_type": "markdown",
   "metadata": {},
   "source": [
    "Мы определили параметры, которые влияют на цену объекта. Там, где было возможно и уместно, мы посчитали коэффициент корреляции. А также для количественных переменных мы построили диаграммы размаха, по которым также легко отследить общие тренды, зависимости.\n",
    "\n",
    "Мы видим, что максимально цена объекта зависит от общей площади: чем больше медианное значение площади, тем выше значение цены. Коэффициент корреляции между ценой и общей площадью - 0,79. При этом все равно есть некоторая доля выбросов и точек, не укладывающихся в эту тенденцию, особенно это наблюдается для высоких значений цены. Также по граффикам и коэффициентам корреляции прослеживается зависимость цены от жилой площади (корреляция 0,66) и площади кухни (0,58). Здесь на графиках также при бОльших ценах от 10 млн. и выше наблюдается и бОльший разброс значений площадей.\n",
    "\n",
    "Также мы видим наличие заметной зависимости цены от кол-ва комнат. Коэффициент корреляции составляет 0,51. Потграфику мы видим, что с ростом числа комнат растёт и средня цена квартиры. При кол-ве комнта от 6 и выше рост уже не такой очевидный, цена здесь может и снижаться. Отчасти расчёты средней цены для 6-10 комнат могут быть менее точными из-за малой выборки, с другой стороны возможно, что для дорогой элитной недвижимости кол-во комнат играет меньшее значение чем другие факторы.\n",
    "\n",
    "Для категориальных переменных мы построили графики типа слобчатых диаграмм, которые лучше описывают связь тип этажа и даты размещения объявления со средней ценой объекта. Мы видим, что минимальная средняя цена соответсвует квартирам на первом этаже - ниже 4 млн., для квартир на последнем этаже средняя цена составляет 4,3 млн. А цена квартиры на любом другом этаже превышает 4,8 млн. Таким образом здесь тоже можно говорить о наличии зависимости: квартиры на первом этаже в среднем имеют самую низкую цену, а средняя цена квартиры на последнем этаже также ниже цены на квартиры между первым и последним этажами.\n",
    "\n",
    "День и месяц публикации объявления не оказывают сколько-то заметного влияния на цену объекта, которую можно проследить по графикам. В то же время по году публикации, мы видим, что данные за 2014 несколько выбиваются: средняя цена объектов превышает 7 млн., тогда как в последующие годы держится в пределах от 4,5 до 5,2 млн. Вероятно это связано с тем, что в этот период объявлений на яндексе было в разы меньше, а в последующие годы сервис более активно стал использоваться, при том что заметной зависимости цены от года публикации нет. "
   ]
  },
  {
   "cell_type": "markdown",
   "metadata": {},
   "source": [
    "**Посчитаем среднюю цену одного квадратного метра в 10 населённых пунктах с наибольшим числом объявлений** "
   ]
  },
  {
   "cell_type": "code",
   "execution_count": 77,
   "metadata": {},
   "outputs": [
    {
     "data": {
      "text/html": [
       "<div>\n",
       "<style scoped>\n",
       "    .dataframe tbody tr th:only-of-type {\n",
       "        vertical-align: middle;\n",
       "    }\n",
       "\n",
       "    .dataframe tbody tr th {\n",
       "        vertical-align: top;\n",
       "    }\n",
       "\n",
       "    .dataframe thead th {\n",
       "        text-align: right;\n",
       "    }\n",
       "</style>\n",
       "<table border=\"1\" class=\"dataframe\">\n",
       "  <thead>\n",
       "    <tr style=\"text-align: right;\">\n",
       "      <th></th>\n",
       "      <th>locality_name</th>\n",
       "      <th>locality_count</th>\n",
       "      <th>sqm_price_mean</th>\n",
       "    </tr>\n",
       "  </thead>\n",
       "  <tbody>\n",
       "    <tr>\n",
       "      <th>0</th>\n",
       "      <td>Санкт-Петербург</td>\n",
       "      <td>15478</td>\n",
       "      <td>114692.530006</td>\n",
       "    </tr>\n",
       "    <tr>\n",
       "      <th>1</th>\n",
       "      <td>Мурино</td>\n",
       "      <td>539</td>\n",
       "      <td>85202.169629</td>\n",
       "    </tr>\n",
       "    <tr>\n",
       "      <th>2</th>\n",
       "      <td>Кудрово</td>\n",
       "      <td>439</td>\n",
       "      <td>94889.321321</td>\n",
       "    </tr>\n",
       "    <tr>\n",
       "      <th>3</th>\n",
       "      <td>Шушары</td>\n",
       "      <td>432</td>\n",
       "      <td>78251.119907</td>\n",
       "    </tr>\n",
       "    <tr>\n",
       "      <th>4</th>\n",
       "      <td>Всеволожск</td>\n",
       "      <td>387</td>\n",
       "      <td>68664.111912</td>\n",
       "    </tr>\n",
       "    <tr>\n",
       "      <th>5</th>\n",
       "      <td>Пушкин</td>\n",
       "      <td>369</td>\n",
       "      <td>103125.819377</td>\n",
       "    </tr>\n",
       "    <tr>\n",
       "      <th>6</th>\n",
       "      <td>Колпино</td>\n",
       "      <td>335</td>\n",
       "      <td>75396.773821</td>\n",
       "    </tr>\n",
       "    <tr>\n",
       "      <th>7</th>\n",
       "      <td>Парголово</td>\n",
       "      <td>324</td>\n",
       "      <td>90148.373395</td>\n",
       "    </tr>\n",
       "    <tr>\n",
       "      <th>8</th>\n",
       "      <td>Гатчина</td>\n",
       "      <td>302</td>\n",
       "      <td>68699.549404</td>\n",
       "    </tr>\n",
       "    <tr>\n",
       "      <th>9</th>\n",
       "      <td>Выборг</td>\n",
       "      <td>233</td>\n",
       "      <td>57876.426824</td>\n",
       "    </tr>\n",
       "  </tbody>\n",
       "</table>\n",
       "</div>"
      ],
      "text/plain": [
       "     locality_name  locality_count  sqm_price_mean\n",
       "0  Санкт-Петербург           15478   114692.530006\n",
       "1           Мурино             539    85202.169629\n",
       "2          Кудрово             439    94889.321321\n",
       "3           Шушары             432    78251.119907\n",
       "4       Всеволожск             387    68664.111912\n",
       "5           Пушкин             369   103125.819377\n",
       "6          Колпино             335    75396.773821\n",
       "7        Парголово             324    90148.373395\n",
       "8          Гатчина             302    68699.549404\n",
       "9           Выборг             233    57876.426824"
      ]
     },
     "metadata": {},
     "output_type": "display_data"
    },
    {
     "name": "stdout",
     "output_type": "stream",
     "text": [
      "Минимальная стоимость квадратного метра: 57876.426824034366\n",
      "Максимальная стоимость квадратного метра: 114692.5300058141\n"
     ]
    }
   ],
   "source": [
    "# создаем сводную таблицу по населенным пунктом со столбцами по кол-ву объявлений и средней цене одного квадратного метра\n",
    "locality_pivot = data.pivot_table(index='locality_name',\n",
    "                                  values = 'square_m_price',\n",
    "                                  aggfunc = ['count', 'mean']\n",
    "                                 ).reset_index()\n",
    "# переименовываем названия столбцов, чтобы было удобно работать\n",
    "locality_pivot.columns = ['locality_name', 'locality_count', 'sqm_price_mean']\n",
    "# с помощью сортировки по убыванию и вывода первых 10 строк создаем массив из 10 населённых пунктов с наибольшим числом объявлений\n",
    "ten_big_locality = locality_pivot.sort_values(by='locality_count',\n",
    "                                              ascending = False\n",
    "                                             ).reset_index(drop=True).head(10) \n",
    "# вывод топ-10 населенных пунктов по кол-ву объявлений и среднюю цену кв. метра для них\n",
    "display(ten_big_locality)\n",
    "print('Минимальная стоимость квадратного метра:',\n",
    "      ten_big_locality['sqm_price_mean'].min())\n",
    "print('Максимальная стоимость квадратного метра:',\n",
    "      ten_big_locality['sqm_price_mean'].max())"
   ]
  },
  {
   "cell_type": "markdown",
   "metadata": {},
   "source": [
    "Мы последовательно создали сводную таблицу по населенным пунктам со столбцами по кол-ву объявлений и средней цене одного квадратного метра, затем отсортировали таблицу по убыванию кол-ва объектов в каждом населенном пункте и отрезали из массива 10 первых строк. Получили таблицу топ-10 населенных пунктов по кол-ву объявлений.\n",
    "\n",
    "Мы определили по таблице, что максимальная цена одного квадратного метра соответсвует объектам недвижимости в Санкт-Петербурге - 114693 руб. за метр квадратный. А минимальная цена за квадратный метр соответствует городу Выборгу - 57876 руб. за метр квадратный, т.е. почти в 2 раза дешевле цены квадратного метра в Санкт-Петербурге."
   ]
  },
  {
   "cell_type": "markdown",
   "metadata": {},
   "source": [
    "**Опишем, как стоимость объектов зависит от расстояния до центра города**"
   ]
  },
  {
   "cell_type": "markdown",
   "metadata": {},
   "source": [
    "Сначала выберем строки по объектам только в Санкт-Петербурге, затем создадим сводную таблицу по столбцу расстояний до центра города в километрах и со значениями средней стоимости объекта для каждого расстояния"
   ]
  },
  {
   "cell_type": "code",
   "execution_count": 78,
   "metadata": {
    "scrolled": true
   },
   "outputs": [
    {
     "data": {
      "text/html": [
       "<div>\n",
       "<style scoped>\n",
       "    .dataframe tbody tr th:only-of-type {\n",
       "        vertical-align: middle;\n",
       "    }\n",
       "\n",
       "    .dataframe tbody tr th {\n",
       "        vertical-align: top;\n",
       "    }\n",
       "\n",
       "    .dataframe thead th {\n",
       "        text-align: right;\n",
       "    }\n",
       "</style>\n",
       "<table border=\"1\" class=\"dataframe\">\n",
       "  <thead>\n",
       "    <tr style=\"text-align: right;\">\n",
       "      <th></th>\n",
       "      <th>city_centers_nearest_km</th>\n",
       "      <th>last_price</th>\n",
       "    </tr>\n",
       "  </thead>\n",
       "  <tbody>\n",
       "    <tr>\n",
       "      <th>0</th>\n",
       "      <td>0.0</td>\n",
       "      <td>3.144912e+07</td>\n",
       "    </tr>\n",
       "    <tr>\n",
       "      <th>1</th>\n",
       "      <td>1.0</td>\n",
       "      <td>2.140580e+07</td>\n",
       "    </tr>\n",
       "    <tr>\n",
       "      <th>2</th>\n",
       "      <td>2.0</td>\n",
       "      <td>1.800007e+07</td>\n",
       "    </tr>\n",
       "    <tr>\n",
       "      <th>3</th>\n",
       "      <td>3.0</td>\n",
       "      <td>1.119181e+07</td>\n",
       "    </tr>\n",
       "    <tr>\n",
       "      <th>4</th>\n",
       "      <td>4.0</td>\n",
       "      <td>1.336555e+07</td>\n",
       "    </tr>\n",
       "    <tr>\n",
       "      <th>5</th>\n",
       "      <td>5.0</td>\n",
       "      <td>1.453432e+07</td>\n",
       "    </tr>\n",
       "    <tr>\n",
       "      <th>6</th>\n",
       "      <td>6.0</td>\n",
       "      <td>1.520288e+07</td>\n",
       "    </tr>\n",
       "    <tr>\n",
       "      <th>7</th>\n",
       "      <td>7.0</td>\n",
       "      <td>1.483061e+07</td>\n",
       "    </tr>\n",
       "    <tr>\n",
       "      <th>8</th>\n",
       "      <td>8.0</td>\n",
       "      <td>9.306211e+06</td>\n",
       "    </tr>\n",
       "    <tr>\n",
       "      <th>9</th>\n",
       "      <td>9.0</td>\n",
       "      <td>7.000864e+06</td>\n",
       "    </tr>\n",
       "    <tr>\n",
       "      <th>10</th>\n",
       "      <td>10.0</td>\n",
       "      <td>6.522307e+06</td>\n",
       "    </tr>\n",
       "    <tr>\n",
       "      <th>11</th>\n",
       "      <td>11.0</td>\n",
       "      <td>6.259019e+06</td>\n",
       "    </tr>\n",
       "    <tr>\n",
       "      <th>12</th>\n",
       "      <td>12.0</td>\n",
       "      <td>5.870951e+06</td>\n",
       "    </tr>\n",
       "    <tr>\n",
       "      <th>13</th>\n",
       "      <td>13.0</td>\n",
       "      <td>6.124619e+06</td>\n",
       "    </tr>\n",
       "    <tr>\n",
       "      <th>14</th>\n",
       "      <td>14.0</td>\n",
       "      <td>5.660303e+06</td>\n",
       "    </tr>\n",
       "    <tr>\n",
       "      <th>15</th>\n",
       "      <td>15.0</td>\n",
       "      <td>5.900060e+06</td>\n",
       "    </tr>\n",
       "    <tr>\n",
       "      <th>16</th>\n",
       "      <td>16.0</td>\n",
       "      <td>5.393862e+06</td>\n",
       "    </tr>\n",
       "    <tr>\n",
       "      <th>17</th>\n",
       "      <td>17.0</td>\n",
       "      <td>5.349278e+06</td>\n",
       "    </tr>\n",
       "    <tr>\n",
       "      <th>18</th>\n",
       "      <td>18.0</td>\n",
       "      <td>5.139762e+06</td>\n",
       "    </tr>\n",
       "    <tr>\n",
       "      <th>19</th>\n",
       "      <td>19.0</td>\n",
       "      <td>5.087110e+06</td>\n",
       "    </tr>\n",
       "    <tr>\n",
       "      <th>20</th>\n",
       "      <td>20.0</td>\n",
       "      <td>6.073517e+06</td>\n",
       "    </tr>\n",
       "    <tr>\n",
       "      <th>21</th>\n",
       "      <td>21.0</td>\n",
       "      <td>5.535300e+06</td>\n",
       "    </tr>\n",
       "    <tr>\n",
       "      <th>22</th>\n",
       "      <td>22.0</td>\n",
       "      <td>5.422567e+06</td>\n",
       "    </tr>\n",
       "    <tr>\n",
       "      <th>23</th>\n",
       "      <td>23.0</td>\n",
       "      <td>5.019738e+06</td>\n",
       "    </tr>\n",
       "    <tr>\n",
       "      <th>24</th>\n",
       "      <td>24.0</td>\n",
       "      <td>3.890687e+06</td>\n",
       "    </tr>\n",
       "    <tr>\n",
       "      <th>25</th>\n",
       "      <td>25.0</td>\n",
       "      <td>4.229080e+06</td>\n",
       "    </tr>\n",
       "    <tr>\n",
       "      <th>26</th>\n",
       "      <td>26.0</td>\n",
       "      <td>3.993577e+06</td>\n",
       "    </tr>\n",
       "    <tr>\n",
       "      <th>27</th>\n",
       "      <td>27.0</td>\n",
       "      <td>8.300000e+06</td>\n",
       "    </tr>\n",
       "    <tr>\n",
       "      <th>28</th>\n",
       "      <td>28.0</td>\n",
       "      <td>5.026429e+06</td>\n",
       "    </tr>\n",
       "    <tr>\n",
       "      <th>29</th>\n",
       "      <td>29.0</td>\n",
       "      <td>4.236667e+06</td>\n",
       "    </tr>\n",
       "  </tbody>\n",
       "</table>\n",
       "</div>"
      ],
      "text/plain": [
       "    city_centers_nearest_km    last_price\n",
       "0                       0.0  3.144912e+07\n",
       "1                       1.0  2.140580e+07\n",
       "2                       2.0  1.800007e+07\n",
       "3                       3.0  1.119181e+07\n",
       "4                       4.0  1.336555e+07\n",
       "5                       5.0  1.453432e+07\n",
       "6                       6.0  1.520288e+07\n",
       "7                       7.0  1.483061e+07\n",
       "8                       8.0  9.306211e+06\n",
       "9                       9.0  7.000864e+06\n",
       "10                     10.0  6.522307e+06\n",
       "11                     11.0  6.259019e+06\n",
       "12                     12.0  5.870951e+06\n",
       "13                     13.0  6.124619e+06\n",
       "14                     14.0  5.660303e+06\n",
       "15                     15.0  5.900060e+06\n",
       "16                     16.0  5.393862e+06\n",
       "17                     17.0  5.349278e+06\n",
       "18                     18.0  5.139762e+06\n",
       "19                     19.0  5.087110e+06\n",
       "20                     20.0  6.073517e+06\n",
       "21                     21.0  5.535300e+06\n",
       "22                     22.0  5.422567e+06\n",
       "23                     23.0  5.019738e+06\n",
       "24                     24.0  3.890687e+06\n",
       "25                     25.0  4.229080e+06\n",
       "26                     26.0  3.993577e+06\n",
       "27                     27.0  8.300000e+06\n",
       "28                     28.0  5.026429e+06\n",
       "29                     29.0  4.236667e+06"
      ]
     },
     "metadata": {},
     "output_type": "display_data"
    }
   ],
   "source": [
    "# создадим свобную таблицу со средними стоимостями\n",
    "spb_km_price = data.query('locality_name == \"Санкт-Петербург\"'\n",
    "                         ).pivot_table(index = 'city_centers_nearest_km',\n",
    "                                       values = 'last_price', aggfunc = 'mean'\n",
    "                                      ).reset_index() \n",
    "\n",
    "# выводим на экран получившуюся сводную таблицу\n",
    "display(spb_km_price)"
   ]
  },
  {
   "cell_type": "code",
   "execution_count": 79,
   "metadata": {},
   "outputs": [
    {
     "data": {
      "image/png": "[encoded data removed]",
      "text/plain": [
       "<Figure size 576x432 with 1 Axes>"
      ]
     },
     "metadata": {
      "needs_background": "light"
     },
     "output_type": "display_data"
    }
   ],
   "source": [
    "# строим график со средними ценами объектов для каждого километра от центра\n",
    "spb_km_price.plot(grid=True, style='o-', x = 'city_centers_nearest_km',\n",
    "                  y = 'last_price', figsize=(8, 6))\n",
    "plt.xlabel('Расстояние от центра города, км')\n",
    "plt.ylabel('Средняя цена квартиры, * 10^7')\n",
    "plt.title('Средняя цена для каждого километра от центра Санкт-Петербурга\\n')\n",
    "plt.show()"
   ]
  },
  {
   "cell_type": "markdown",
   "metadata": {},
   "source": [
    "Мы отфильтровали все объекты по городу Санкт-Петербург, а затем создали сводную таблицу по столбцу расстояний до центра города в километрах и посчитали среднюю стоимость объекта для каждого расстояния. Мы получили таблицу и по таблице построили график зависимости цены объекта от удалённости от центра города.\n",
    "\n",
    "По графику мы видим явную зависимость цены объекта от удалённости от центра города. Прослеживается тренда: чем больше расстояние от центра города - тем ниже цена объекта. Таким образом корреляция между величинами отрицательная. Однако, график не является нисходящей линией на всем протяжении, на графике наблюдаются колебания. Цены на расстоянии от 0 до 3 км от центра резко снижается с 31,4 млн. руб. до 11,2 млн. руб., при этом в интервале от 0 до 2 км цена выше, чем по всем остальным расстояниям от центра. С 3 до 6 км цена объектов незначительно повышается по сравнению с 3 км, но остаётся ниже чем для объектов в пределах 2 км. Это может быть связано с наличием дорогой элитной недвижимости в непосредственной близости от центра Санкт-Петербурга. Затем с 6 до 9 км цена снижается, причем с 7 до 9 км происходит резкое падение цены с 14,8 млн. до 7 млн. Вероятно, примерно в 9 км от центра начинаются типовые спальные районы. С 9 км до 26 км цена снижается уже более плавно с 7 млн. до 4 млн, достигая минимума, небольшие повышения цены происходят лишь на 15, 20, 25 км. Затем на расстоянии 27 км цена резко возрастает с 4 до 8,3 млн. Вероятно, это связано с дорогой недвижимостью в курортных элитных районах Санкт-Петербурга, удалённых от центра, но лучше обустроенных по некоторым параметрам, чем спальные районы Санкт-Петербурга."
   ]
  },
  {
   "cell_type": "markdown",
   "metadata": {
    "id": "h7VpzkIDAwb-"
   },
   "source": [
    "## Общий вывод"
   ]
  },
  {
   "cell_type": "markdown",
   "metadata": {
    "id": "3H4lnp_KAwb-"
   },
   "source": [
    "Мы построили графики, показывающие распределение и медианные значения для значительной части параметров в таблице. По медианным значениям можно описать типовую квартиру в базе объявлений. Общая площадь типовых квартир по нашей базе объявлений - 52 кв. м, жилая площадь - 30 кв. м, кухонная площадь - 9 кв. м., высота потолка - 2,65 м. Это 2-х комнатные квартиры в 9-ти этажных домах, удалённые от центра города на расстоянии 13,2 км, а от ближайшего парка - 500 метров. Средняя цена такой типорвой квартиры - 4,65 млн. руб.\n",
    "\n",
    "В результате исследования мы выявили параметры, которые влияют на цену объекта. \n",
    "\n",
    "Цена объекта сильно зависит от площади (общей, жилой, кухонной) и практически не зависит от даты публикации объявления. Наибольшая зависимость цены наблюдается от общей площади: чем выше значение площади, тем выше значение цены. Коэффициент корреляции между ценой и общей площадью составляет 0,79. Также есть явная зависимость цены от жилой площади (корреляция 0,66) и площади кухни (0,58). При ценах от 10 млн. и выше (т.е. в дорогом сегменте) связь между ценой и площадью снижается, увеличивается разброс значений.\n",
    "\n",
    "Кроме того есть заметная зависимость цены от количества комнат в квартире (корреляция 0,51). Мы наблюдаем рост средней цены при росте кол-ва комнат в квартире. При кол-ве комнат от 6 и выше зависимость уже сглаживается, что может быть связано как с малой выборкой так и тем, что для элитной недвижимости значимость кол-ва комнат снижается.\n",
    "\n",
    "Также мы выявили зависимость цены от типа этажа квартиры: квартиры на первом этаже в среднем имеют самую низкую цену (ниже 4 млн.), а средняя цена квартиры на последнем этаже (4,3 млн.) ниже цены на квартиры между первым и последним этажами (4,8 млн.).\n",
    "\n",
    "День, месяц и год публикации объявления не оказывают сколько-то заметного влияния на цену объекта.\n",
    "\n",
    "Мы определили особенности сроков продажи квартир: наиболее распространенные сроки и минимальные, максимальные значения. Медианное значение срока продажи квартиры составляет 95 день. Это значит, что половина квартир были проданы в пределах этого срока. 75% квартир продалось в течение 237 дней, т.е. можно сказать, что бОльшая часть квартир продается в срок не более 8 месяцев. Быстрыми продажами мы считаем продажи в срок не более 1,5 месяцев, а необычно долгими - проджи сроком более 500 дней. В базе есть некотрое кол-во выбросов с аномально высокими сроками продажи вплоть до 1580 дней (более 4 лет).\n",
    "\n",
    "Кроме того, мы выделили топ-10 населенных пунктов по кол-ву объявлений и посчитали средние цены одного квадратного метра для каждого из них. Максимальная цена одного квадратного метра соответсвует объектам недвижимости в Санкт-Петербурге - 114849 руб. за метр квадратный, а минимальная цена за квадратный метр соответствует городу Выборгу - 58141 руб. за метр квадратный, т.е. почти в 2 раза дешевле цены квадратного метра в Санкт-Петербурге.\n",
    "\n",
    "Мы выявили зависимость средней цены объекта от расстояния до центра города для всех объектов в Санкт-Петербурге. Цена объекта зависит от удалённости от центра города: чем больше расстояние от центра города - тем ниже цена объекта. Однако зависимость проявляется нелинейно. Мы сделали вывод, что есть районы с элитной недвижимостью как в непосредственной близости от центра, так и на некотором удалении. Так, например, цены на расстоянии от 0 до 3 км от центра резко снижаются с 31,4 млн. руб. до 11,2 млн. руб., а с 3 до 6 км цена объектов незначительно повышается по сравнению с 3 км, но остаётся ниже чем для объектов в пределах 2 км. Кроме того, на расстоянии 27 км цена резко возрастает с 4 до 8,3 млн., что вероятно связано с дорогой недвижимостью в курортных элитных районах Санкт-Петербурга, удалённых от центра. В то же время исследование показало, что на расстоянии от 9 до 26 км от центра города цена не подвержена сильным колебаниям и снижается более плавно с 7 млн. до 4 млн. Мы считаем, что именно на такой удаленности от центра города находятся типовые спальные районы."
   ]
  },
  {
   "cell_type": "code",
   "execution_count": null,
   "metadata": {},
   "outputs": [],
   "source": []
  }
 ],
 "metadata": {
  "ExecuteTimeLog": [
   {
    "duration": 752,
    "start_time": "2024-10-09T16:41:04.512Z"
   },
   {
    "duration": 99,
    "start_time": "2024-10-09T16:49:25.675Z"
   },
   {
    "duration": 424,
    "start_time": "2024-10-09T16:49:46.027Z"
   },
   {
    "duration": 104,
    "start_time": "2024-10-09T16:57:55.266Z"
   },
   {
    "duration": 102,
    "start_time": "2024-10-09T16:58:16.707Z"
   },
   {
    "duration": 105,
    "start_time": "2024-10-09T16:58:28.509Z"
   },
   {
    "duration": 169,
    "start_time": "2024-10-09T17:05:59.662Z"
   },
   {
    "duration": 156,
    "start_time": "2024-10-09T17:06:20.825Z"
   },
   {
    "duration": 175,
    "start_time": "2024-10-09T17:08:30.304Z"
   },
   {
    "duration": 193,
    "start_time": "2024-10-09T17:08:57.590Z"
   },
   {
    "duration": 92,
    "start_time": "2024-10-09T17:09:05.764Z"
   },
   {
    "duration": 189,
    "start_time": "2024-10-09T17:09:23.959Z"
   },
   {
    "duration": 92,
    "start_time": "2024-10-09T17:10:06.422Z"
   },
   {
    "duration": 123,
    "start_time": "2024-10-09T17:10:19.410Z"
   },
   {
    "duration": 93,
    "start_time": "2024-10-09T17:11:05.021Z"
   },
   {
    "duration": 123,
    "start_time": "2024-10-09T17:11:09.427Z"
   },
   {
    "duration": 2078,
    "start_time": "2024-10-09T17:12:59.364Z"
   },
   {
    "duration": 42,
    "start_time": "2024-10-09T19:52:51.788Z"
   },
   {
    "duration": 7,
    "start_time": "2024-10-09T19:52:59.368Z"
   },
   {
    "duration": 5,
    "start_time": "2024-10-09T19:54:16.441Z"
   },
   {
    "duration": 528,
    "start_time": "2024-10-09T19:55:54.163Z"
   },
   {
    "duration": 105,
    "start_time": "2024-10-09T19:55:57.745Z"
   },
   {
    "duration": 2561,
    "start_time": "2024-10-09T19:56:08.699Z"
   },
   {
    "duration": 4,
    "start_time": "2024-10-09T19:56:30.679Z"
   },
   {
    "duration": 5,
    "start_time": "2024-10-09T19:56:41.516Z"
   },
   {
    "duration": 6,
    "start_time": "2024-10-09T21:26:21.364Z"
   },
   {
    "duration": 80,
    "start_time": "2024-10-09T21:34:07.618Z"
   },
   {
    "duration": 88,
    "start_time": "2024-10-09T21:34:07.699Z"
   },
   {
    "duration": 1564,
    "start_time": "2024-10-09T21:34:07.789Z"
   },
   {
    "duration": 6,
    "start_time": "2024-10-09T21:34:09.356Z"
   },
   {
    "duration": 5,
    "start_time": "2024-10-09T21:36:18.908Z"
   },
   {
    "duration": 5,
    "start_time": "2024-10-09T21:41:15.330Z"
   },
   {
    "duration": 712,
    "start_time": "2024-10-10T08:14:27.581Z"
   },
   {
    "duration": 106,
    "start_time": "2024-10-10T08:14:28.295Z"
   },
   {
    "duration": 2387,
    "start_time": "2024-10-10T08:14:28.402Z"
   },
   {
    "duration": 51,
    "start_time": "2024-10-10T08:14:30.791Z"
   },
   {
    "duration": 7,
    "start_time": "2024-10-10T08:14:55.235Z"
   },
   {
    "duration": 55,
    "start_time": "2024-10-10T08:15:47.421Z"
   },
   {
    "duration": 8,
    "start_time": "2024-10-10T08:23:11.408Z"
   },
   {
    "duration": 7,
    "start_time": "2024-10-10T08:30:16.534Z"
   },
   {
    "duration": 7,
    "start_time": "2024-10-10T08:31:06.508Z"
   },
   {
    "duration": 5,
    "start_time": "2024-10-10T09:04:59.675Z"
   },
   {
    "duration": 4,
    "start_time": "2024-10-10T09:07:31.724Z"
   },
   {
    "duration": 5,
    "start_time": "2024-10-10T09:14:01.236Z"
   },
   {
    "duration": 5,
    "start_time": "2024-10-10T09:14:20.769Z"
   },
   {
    "duration": 8,
    "start_time": "2024-10-10T09:15:00.539Z"
   },
   {
    "duration": 6,
    "start_time": "2024-10-10T09:22:01.511Z"
   },
   {
    "duration": 6,
    "start_time": "2024-10-10T09:24:07.050Z"
   },
   {
    "duration": 13,
    "start_time": "2024-10-10T09:24:47.657Z"
   },
   {
    "duration": 73,
    "start_time": "2024-10-10T09:29:35.866Z"
   },
   {
    "duration": 8,
    "start_time": "2024-10-10T09:30:01.947Z"
   },
   {
    "duration": 13,
    "start_time": "2024-10-10T09:31:50.574Z"
   },
   {
    "duration": 5,
    "start_time": "2024-10-10T09:33:47.190Z"
   },
   {
    "duration": 59,
    "start_time": "2024-10-10T09:34:16.044Z"
   },
   {
    "duration": 6,
    "start_time": "2024-10-10T09:35:01.366Z"
   },
   {
    "duration": 102,
    "start_time": "2024-10-10T09:37:03.385Z"
   },
   {
    "duration": 18,
    "start_time": "2024-10-10T09:37:54.684Z"
   },
   {
    "duration": 20,
    "start_time": "2024-10-10T09:38:24.807Z"
   },
   {
    "duration": 40,
    "start_time": "2024-10-10T09:38:38.307Z"
   },
   {
    "duration": 32,
    "start_time": "2024-10-10T09:39:18.983Z"
   },
   {
    "duration": 40,
    "start_time": "2024-10-10T09:39:39.650Z"
   },
   {
    "duration": 10,
    "start_time": "2024-10-10T09:42:27.632Z"
   },
   {
    "duration": 27,
    "start_time": "2024-10-10T09:43:08.047Z"
   },
   {
    "duration": 17,
    "start_time": "2024-10-10T09:43:22.981Z"
   },
   {
    "duration": 14,
    "start_time": "2024-10-10T09:44:14.140Z"
   },
   {
    "duration": 29,
    "start_time": "2024-10-10T09:45:57.325Z"
   },
   {
    "duration": 24,
    "start_time": "2024-10-10T09:46:36.370Z"
   },
   {
    "duration": 37,
    "start_time": "2024-10-10T10:03:00.976Z"
   },
   {
    "duration": 9,
    "start_time": "2024-10-10T10:07:38.652Z"
   },
   {
    "duration": 106,
    "start_time": "2024-10-10T10:28:28.257Z"
   },
   {
    "duration": 94,
    "start_time": "2024-10-10T10:28:55.414Z"
   },
   {
    "duration": 84,
    "start_time": "2024-10-10T10:29:08.723Z"
   },
   {
    "duration": 76,
    "start_time": "2024-10-10T10:29:44.257Z"
   },
   {
    "duration": 2068,
    "start_time": "2024-10-10T10:31:51.074Z"
   },
   {
    "duration": 1249,
    "start_time": "2024-10-10T10:32:12.007Z"
   },
   {
    "duration": 965,
    "start_time": "2024-10-10T10:32:29.656Z"
   },
   {
    "duration": 40,
    "start_time": "2024-10-10T10:34:03.494Z"
   },
   {
    "duration": 7,
    "start_time": "2024-10-10T10:34:36.878Z"
   },
   {
    "duration": 787,
    "start_time": "2024-10-10T10:36:09.894Z"
   },
   {
    "duration": 596,
    "start_time": "2024-10-10T10:36:42.613Z"
   },
   {
    "duration": 587,
    "start_time": "2024-10-10T10:36:49.558Z"
   },
   {
    "duration": 4,
    "start_time": "2024-10-10T10:37:16.120Z"
   },
   {
    "duration": 7,
    "start_time": "2024-10-10T10:37:22.980Z"
   },
   {
    "duration": 7,
    "start_time": "2024-10-10T10:37:52.101Z"
   },
   {
    "duration": 5,
    "start_time": "2024-10-10T10:51:22.250Z"
   },
   {
    "duration": 14,
    "start_time": "2024-10-10T10:57:25.244Z"
   },
   {
    "duration": 15,
    "start_time": "2024-10-10T10:57:41.861Z"
   },
   {
    "duration": 48,
    "start_time": "2024-10-10T10:57:50.257Z"
   },
   {
    "duration": 874,
    "start_time": "2024-10-10T11:02:50.678Z"
   },
   {
    "duration": 840,
    "start_time": "2024-10-10T11:03:04.878Z"
   },
   {
    "duration": 927,
    "start_time": "2024-10-10T11:06:31.092Z"
   },
   {
    "duration": 6,
    "start_time": "2024-10-10T11:06:35.669Z"
   },
   {
    "duration": 5,
    "start_time": "2024-10-10T11:13:51.094Z"
   },
   {
    "duration": 4,
    "start_time": "2024-10-10T11:48:49.905Z"
   },
   {
    "duration": 12,
    "start_time": "2024-10-10T11:49:27.800Z"
   },
   {
    "duration": 49,
    "start_time": "2024-10-10T11:50:01.511Z"
   },
   {
    "duration": 60,
    "start_time": "2024-10-10T12:02:12.877Z"
   },
   {
    "duration": 41,
    "start_time": "2024-10-10T12:04:26.559Z"
   },
   {
    "duration": 16,
    "start_time": "2024-10-10T12:09:29.896Z"
   },
   {
    "duration": 3,
    "start_time": "2024-10-10T12:09:45.793Z"
   },
   {
    "duration": 13,
    "start_time": "2024-10-10T12:10:11.737Z"
   },
   {
    "duration": 13,
    "start_time": "2024-10-10T12:10:28.963Z"
   },
   {
    "duration": 14,
    "start_time": "2024-10-10T12:10:55.664Z"
   },
   {
    "duration": 42,
    "start_time": "2024-10-10T12:12:00.225Z"
   },
   {
    "duration": 57,
    "start_time": "2024-10-10T12:12:51.680Z"
   },
   {
    "duration": 68,
    "start_time": "2024-10-10T12:13:16.999Z"
   },
   {
    "duration": 55,
    "start_time": "2024-10-10T12:15:56.030Z"
   },
   {
    "duration": 1464,
    "start_time": "2024-10-10T12:16:41.037Z"
   },
   {
    "duration": 1288,
    "start_time": "2024-10-10T12:17:45.836Z"
   },
   {
    "duration": 99,
    "start_time": "2024-10-10T12:55:41.225Z"
   },
   {
    "duration": 126,
    "start_time": "2024-10-10T12:55:45.966Z"
   },
   {
    "duration": 2009,
    "start_time": "2024-10-10T12:55:51.855Z"
   },
   {
    "duration": 13,
    "start_time": "2024-10-10T13:40:40.071Z"
   },
   {
    "duration": 5,
    "start_time": "2024-10-10T13:46:38.554Z"
   },
   {
    "duration": 13,
    "start_time": "2024-10-10T13:50:17.661Z"
   },
   {
    "duration": 13,
    "start_time": "2024-10-10T13:50:56.186Z"
   },
   {
    "duration": 11,
    "start_time": "2024-10-10T13:51:16.135Z"
   },
   {
    "duration": 100,
    "start_time": "2024-10-10T13:51:32.882Z"
   },
   {
    "duration": 130,
    "start_time": "2024-10-10T13:51:36.065Z"
   },
   {
    "duration": 1985,
    "start_time": "2024-10-10T13:51:42.948Z"
   },
   {
    "duration": 10,
    "start_time": "2024-10-10T13:51:53.330Z"
   },
   {
    "duration": 15,
    "start_time": "2024-10-10T13:52:05.098Z"
   },
   {
    "duration": 101,
    "start_time": "2024-10-10T14:11:21.583Z"
   },
   {
    "duration": 112,
    "start_time": "2024-10-10T14:11:21.686Z"
   },
   {
    "duration": 2155,
    "start_time": "2024-10-10T14:11:21.800Z"
   },
   {
    "duration": 9,
    "start_time": "2024-10-10T14:11:23.957Z"
   },
   {
    "duration": 18,
    "start_time": "2024-10-10T14:11:23.968Z"
   },
   {
    "duration": 99,
    "start_time": "2024-10-10T14:12:14.341Z"
   },
   {
    "duration": 113,
    "start_time": "2024-10-10T14:12:14.442Z"
   },
   {
    "duration": 2086,
    "start_time": "2024-10-10T14:12:14.557Z"
   },
   {
    "duration": 10,
    "start_time": "2024-10-10T14:12:16.645Z"
   },
   {
    "duration": 58,
    "start_time": "2024-10-10T14:12:16.657Z"
   },
   {
    "duration": 103,
    "start_time": "2024-10-10T14:13:08.133Z"
   },
   {
    "duration": 112,
    "start_time": "2024-10-10T14:13:08.237Z"
   },
   {
    "duration": 2200,
    "start_time": "2024-10-10T14:13:08.350Z"
   },
   {
    "duration": 9,
    "start_time": "2024-10-10T14:13:10.552Z"
   },
   {
    "duration": 24,
    "start_time": "2024-10-10T14:13:10.563Z"
   },
   {
    "duration": 13,
    "start_time": "2024-10-10T14:13:39.952Z"
   },
   {
    "duration": 8,
    "start_time": "2024-10-10T14:14:36.349Z"
   },
   {
    "duration": 95,
    "start_time": "2024-10-10T14:14:56.897Z"
   },
   {
    "duration": 105,
    "start_time": "2024-10-10T14:14:56.994Z"
   },
   {
    "duration": 2294,
    "start_time": "2024-10-10T14:14:57.101Z"
   },
   {
    "duration": 10,
    "start_time": "2024-10-10T14:14:59.397Z"
   },
   {
    "duration": 30,
    "start_time": "2024-10-10T14:14:59.408Z"
   },
   {
    "duration": 103,
    "start_time": "2024-10-10T14:15:14.373Z"
   },
   {
    "duration": 107,
    "start_time": "2024-10-10T14:15:14.478Z"
   },
   {
    "duration": 2128,
    "start_time": "2024-10-10T14:15:14.587Z"
   },
   {
    "duration": 21,
    "start_time": "2024-10-10T14:15:16.721Z"
   },
   {
    "duration": 13,
    "start_time": "2024-10-10T14:15:16.744Z"
   },
   {
    "duration": 109,
    "start_time": "2024-10-10T14:16:04.262Z"
   },
   {
    "duration": 109,
    "start_time": "2024-10-10T14:16:04.373Z"
   },
   {
    "duration": 2281,
    "start_time": "2024-10-10T14:16:04.484Z"
   },
   {
    "duration": 10,
    "start_time": "2024-10-10T14:16:06.767Z"
   },
   {
    "duration": 12,
    "start_time": "2024-10-10T14:16:06.779Z"
   },
   {
    "duration": 9,
    "start_time": "2024-10-10T14:19:47.648Z"
   },
   {
    "duration": 11,
    "start_time": "2024-10-10T14:20:13.089Z"
   },
   {
    "duration": 37,
    "start_time": "2024-10-10T14:20:28.817Z"
   },
   {
    "duration": 9,
    "start_time": "2024-10-10T14:20:44.377Z"
   },
   {
    "duration": 19,
    "start_time": "2024-10-10T14:21:13.657Z"
   },
   {
    "duration": 104,
    "start_time": "2024-10-10T14:22:18.084Z"
   },
   {
    "duration": 110,
    "start_time": "2024-10-10T14:22:18.190Z"
   },
   {
    "duration": 2109,
    "start_time": "2024-10-10T14:22:18.302Z"
   },
   {
    "duration": 21,
    "start_time": "2024-10-10T14:22:20.413Z"
   },
   {
    "duration": 13,
    "start_time": "2024-10-10T14:22:20.437Z"
   },
   {
    "duration": 101,
    "start_time": "2024-10-10T14:26:48.844Z"
   },
   {
    "duration": 110,
    "start_time": "2024-10-10T14:26:48.948Z"
   },
   {
    "duration": 2043,
    "start_time": "2024-10-10T14:26:49.060Z"
   },
   {
    "duration": 24,
    "start_time": "2024-10-10T14:26:51.105Z"
   },
   {
    "duration": 18,
    "start_time": "2024-10-10T14:26:51.131Z"
   },
   {
    "duration": 90,
    "start_time": "2024-10-10T14:27:01.212Z"
   },
   {
    "duration": 102,
    "start_time": "2024-10-10T14:27:01.304Z"
   },
   {
    "duration": 2359,
    "start_time": "2024-10-10T14:27:01.407Z"
   },
   {
    "duration": 10,
    "start_time": "2024-10-10T14:27:03.768Z"
   },
   {
    "duration": 21,
    "start_time": "2024-10-10T14:27:03.780Z"
   },
   {
    "duration": 98,
    "start_time": "2024-10-10T14:36:03.996Z"
   },
   {
    "duration": 102,
    "start_time": "2024-10-10T14:36:04.095Z"
   },
   {
    "duration": 1979,
    "start_time": "2024-10-10T14:36:04.198Z"
   },
   {
    "duration": 10,
    "start_time": "2024-10-10T14:36:06.178Z"
   },
   {
    "duration": 31,
    "start_time": "2024-10-10T14:36:06.190Z"
   },
   {
    "duration": 93,
    "start_time": "2024-10-10T14:36:19.051Z"
   },
   {
    "duration": 110,
    "start_time": "2024-10-10T14:36:19.147Z"
   },
   {
    "duration": 2306,
    "start_time": "2024-10-10T14:36:19.259Z"
   },
   {
    "duration": 10,
    "start_time": "2024-10-10T14:36:21.567Z"
   },
   {
    "duration": 12,
    "start_time": "2024-10-10T14:36:21.579Z"
   },
   {
    "duration": 100,
    "start_time": "2024-10-10T14:36:53.185Z"
   },
   {
    "duration": 100,
    "start_time": "2024-10-10T14:36:53.287Z"
   },
   {
    "duration": 1965,
    "start_time": "2024-10-10T14:36:53.388Z"
   },
   {
    "duration": 10,
    "start_time": "2024-10-10T14:36:55.354Z"
   },
   {
    "duration": 11,
    "start_time": "2024-10-10T14:36:55.366Z"
   },
   {
    "duration": 100,
    "start_time": "2024-10-10T14:40:06.430Z"
   },
   {
    "duration": 108,
    "start_time": "2024-10-10T14:40:06.533Z"
   },
   {
    "duration": 1939,
    "start_time": "2024-10-10T14:40:06.642Z"
   },
   {
    "duration": 12,
    "start_time": "2024-10-10T14:40:08.583Z"
   },
   {
    "duration": 31,
    "start_time": "2024-10-10T14:40:08.597Z"
   },
   {
    "duration": 106,
    "start_time": "2024-10-10T14:40:27.674Z"
   },
   {
    "duration": 104,
    "start_time": "2024-10-10T14:40:27.782Z"
   },
   {
    "duration": 1994,
    "start_time": "2024-10-10T14:40:27.888Z"
   },
   {
    "duration": 10,
    "start_time": "2024-10-10T14:40:29.884Z"
   },
   {
    "duration": 31,
    "start_time": "2024-10-10T14:40:29.896Z"
   },
   {
    "duration": 5,
    "start_time": "2024-10-10T14:47:17.950Z"
   },
   {
    "duration": 124,
    "start_time": "2024-10-10T14:51:20.353Z"
   },
   {
    "duration": 8,
    "start_time": "2024-10-10T14:51:29.212Z"
   },
   {
    "duration": 92,
    "start_time": "2024-10-10T14:56:49.318Z"
   },
   {
    "duration": 109,
    "start_time": "2024-10-10T14:56:49.413Z"
   },
   {
    "duration": 2567,
    "start_time": "2024-10-10T14:56:49.525Z"
   },
   {
    "duration": 10,
    "start_time": "2024-10-10T14:56:52.093Z"
   },
   {
    "duration": 36,
    "start_time": "2024-10-10T14:56:52.105Z"
   },
   {
    "duration": 13,
    "start_time": "2024-10-10T14:56:52.142Z"
   },
   {
    "duration": 99,
    "start_time": "2024-10-10T14:57:51.375Z"
   },
   {
    "duration": 113,
    "start_time": "2024-10-10T14:57:51.476Z"
   },
   {
    "duration": 2017,
    "start_time": "2024-10-10T14:57:51.591Z"
   },
   {
    "duration": 10,
    "start_time": "2024-10-10T14:57:53.610Z"
   },
   {
    "duration": 23,
    "start_time": "2024-10-10T14:57:53.623Z"
   },
   {
    "duration": 14,
    "start_time": "2024-10-10T14:57:53.647Z"
   },
   {
    "duration": 23,
    "start_time": "2024-10-10T14:59:08.219Z"
   },
   {
    "duration": 7,
    "start_time": "2024-10-10T14:59:57.893Z"
   },
   {
    "duration": 8,
    "start_time": "2024-10-10T15:00:37.732Z"
   },
   {
    "duration": 7,
    "start_time": "2024-10-10T15:00:58.088Z"
   },
   {
    "duration": 9,
    "start_time": "2024-10-10T15:01:55.997Z"
   },
   {
    "duration": 9,
    "start_time": "2024-10-10T15:02:24.838Z"
   },
   {
    "duration": 8,
    "start_time": "2024-10-10T15:02:36.509Z"
   },
   {
    "duration": 95,
    "start_time": "2024-10-10T15:03:41.218Z"
   },
   {
    "duration": 117,
    "start_time": "2024-10-10T15:03:41.315Z"
   },
   {
    "duration": 2129,
    "start_time": "2024-10-10T15:03:41.435Z"
   },
   {
    "duration": 10,
    "start_time": "2024-10-10T15:03:43.566Z"
   },
   {
    "duration": 33,
    "start_time": "2024-10-10T15:03:43.578Z"
   },
   {
    "duration": 25,
    "start_time": "2024-10-10T15:03:43.613Z"
   },
   {
    "duration": 8,
    "start_time": "2024-10-10T15:07:32.010Z"
   },
   {
    "duration": 11,
    "start_time": "2024-10-10T15:07:50.226Z"
   },
   {
    "duration": 6,
    "start_time": "2024-10-10T15:08:21.283Z"
   },
   {
    "duration": 7,
    "start_time": "2024-10-10T15:08:32.066Z"
   },
   {
    "duration": 6,
    "start_time": "2024-10-10T15:09:25.214Z"
   },
   {
    "duration": 10,
    "start_time": "2024-10-10T15:10:39.958Z"
   },
   {
    "duration": 17,
    "start_time": "2024-10-10T15:11:37.619Z"
   },
   {
    "duration": 99,
    "start_time": "2024-10-10T15:12:06.049Z"
   },
   {
    "duration": 113,
    "start_time": "2024-10-10T15:12:06.149Z"
   },
   {
    "duration": 2110,
    "start_time": "2024-10-10T15:12:06.264Z"
   },
   {
    "duration": 11,
    "start_time": "2024-10-10T15:12:08.375Z"
   },
   {
    "duration": 38,
    "start_time": "2024-10-10T15:12:08.388Z"
   },
   {
    "duration": 14,
    "start_time": "2024-10-10T15:12:08.429Z"
   },
   {
    "duration": 96,
    "start_time": "2024-10-10T15:12:53.233Z"
   },
   {
    "duration": 102,
    "start_time": "2024-10-10T15:12:53.331Z"
   },
   {
    "duration": 2502,
    "start_time": "2024-10-10T15:12:53.435Z"
   },
   {
    "duration": 12,
    "start_time": "2024-10-10T15:12:55.939Z"
   },
   {
    "duration": 20,
    "start_time": "2024-10-10T15:12:55.954Z"
   },
   {
    "duration": 22,
    "start_time": "2024-10-10T15:12:55.976Z"
   },
   {
    "duration": 6,
    "start_time": "2024-10-10T15:20:42.655Z"
   },
   {
    "duration": 4,
    "start_time": "2024-10-10T15:21:19.912Z"
   },
   {
    "duration": 6,
    "start_time": "2024-10-10T15:21:46.946Z"
   },
   {
    "duration": 16,
    "start_time": "2024-10-10T15:29:14.300Z"
   },
   {
    "duration": 18,
    "start_time": "2024-10-10T15:30:52.924Z"
   },
   {
    "duration": 9,
    "start_time": "2024-10-10T15:31:18.396Z"
   },
   {
    "duration": 16,
    "start_time": "2024-10-10T15:33:46.448Z"
   },
   {
    "duration": 93,
    "start_time": "2024-10-10T15:33:57.312Z"
   },
   {
    "duration": 94,
    "start_time": "2024-10-10T15:33:57.407Z"
   },
   {
    "duration": 1826,
    "start_time": "2024-10-10T15:33:57.503Z"
   },
   {
    "duration": 7,
    "start_time": "2024-10-10T15:33:59.330Z"
   },
   {
    "duration": 12,
    "start_time": "2024-10-10T15:33:59.339Z"
   },
   {
    "duration": 25,
    "start_time": "2024-10-10T15:33:59.353Z"
   },
   {
    "duration": 13,
    "start_time": "2024-10-10T15:33:59.379Z"
   },
   {
    "duration": 13,
    "start_time": "2024-10-10T15:33:59.394Z"
   },
   {
    "duration": 13,
    "start_time": "2024-10-10T15:41:24.505Z"
   },
   {
    "duration": 516,
    "start_time": "2024-10-10T21:08:39.829Z"
   },
   {
    "duration": 94,
    "start_time": "2024-10-10T21:08:40.347Z"
   },
   {
    "duration": 2042,
    "start_time": "2024-10-10T21:08:40.443Z"
   },
   {
    "duration": 6,
    "start_time": "2024-10-10T21:08:42.487Z"
   },
   {
    "duration": 87,
    "start_time": "2024-10-10T21:08:42.495Z"
   },
   {
    "duration": 37,
    "start_time": "2024-10-10T21:08:42.584Z"
   },
   {
    "duration": 12,
    "start_time": "2024-10-10T21:08:42.623Z"
   },
   {
    "duration": 83,
    "start_time": "2024-10-10T21:08:42.636Z"
   },
   {
    "duration": 3,
    "start_time": "2024-10-10T21:09:29.577Z"
   },
   {
    "duration": 10,
    "start_time": "2024-10-10T21:10:16.310Z"
   },
   {
    "duration": 11,
    "start_time": "2024-10-10T21:14:17.121Z"
   },
   {
    "duration": 12,
    "start_time": "2024-10-10T21:14:27.178Z"
   },
   {
    "duration": 5,
    "start_time": "2024-10-10T21:15:09.408Z"
   },
   {
    "duration": 5,
    "start_time": "2024-10-10T21:15:48.777Z"
   },
   {
    "duration": 5,
    "start_time": "2024-10-10T21:34:00.162Z"
   },
   {
    "duration": 31,
    "start_time": "2024-10-10T21:34:13.639Z"
   },
   {
    "duration": 5,
    "start_time": "2024-10-10T22:01:59.173Z"
   },
   {
    "duration": 5,
    "start_time": "2024-10-10T22:24:20.137Z"
   },
   {
    "duration": 90,
    "start_time": "2024-10-10T22:25:44.559Z"
   },
   {
    "duration": 5,
    "start_time": "2024-10-10T22:26:01.144Z"
   },
   {
    "duration": 3,
    "start_time": "2024-10-10T22:27:40.862Z"
   },
   {
    "duration": 6,
    "start_time": "2024-10-10T22:28:43.200Z"
   },
   {
    "duration": 8,
    "start_time": "2024-10-10T22:29:22.323Z"
   },
   {
    "duration": 17,
    "start_time": "2024-10-10T22:30:02.327Z"
   },
   {
    "duration": 86,
    "start_time": "2024-10-10T22:52:27.586Z"
   },
   {
    "duration": 91,
    "start_time": "2024-10-10T22:52:27.673Z"
   },
   {
    "duration": 1626,
    "start_time": "2024-10-10T22:52:27.766Z"
   },
   {
    "duration": 25,
    "start_time": "2024-10-10T22:52:29.394Z"
   },
   {
    "duration": 45,
    "start_time": "2024-10-10T22:52:29.426Z"
   },
   {
    "duration": 27,
    "start_time": "2024-10-10T22:52:29.473Z"
   },
   {
    "duration": 20,
    "start_time": "2024-10-10T22:52:29.502Z"
   },
   {
    "duration": 18,
    "start_time": "2024-10-10T22:52:29.525Z"
   },
   {
    "duration": 21,
    "start_time": "2024-10-10T22:52:29.544Z"
   },
   {
    "duration": 22,
    "start_time": "2024-10-10T22:54:05.905Z"
   },
   {
    "duration": 14,
    "start_time": "2024-10-10T22:59:37.435Z"
   },
   {
    "duration": 60,
    "start_time": "2024-10-10T23:00:56.027Z"
   },
   {
    "duration": 64,
    "start_time": "2024-10-10T23:01:13.312Z"
   },
   {
    "duration": 59,
    "start_time": "2024-10-10T23:01:54.889Z"
   },
   {
    "duration": 14,
    "start_time": "2024-10-10T23:02:03.540Z"
   },
   {
    "duration": 102,
    "start_time": "2024-10-10T23:05:11.985Z"
   },
   {
    "duration": 126,
    "start_time": "2024-10-10T23:05:32.000Z"
   },
   {
    "duration": 564,
    "start_time": "2024-10-11T10:43:19.774Z"
   },
   {
    "duration": 116,
    "start_time": "2024-10-11T10:43:20.340Z"
   },
   {
    "duration": 2579,
    "start_time": "2024-10-11T10:43:20.458Z"
   },
   {
    "duration": 8,
    "start_time": "2024-10-11T10:43:23.039Z"
   },
   {
    "duration": 12,
    "start_time": "2024-10-11T10:43:23.048Z"
   },
   {
    "duration": 9,
    "start_time": "2024-10-11T10:43:23.062Z"
   },
   {
    "duration": 5,
    "start_time": "2024-10-11T10:43:23.073Z"
   },
   {
    "duration": 10,
    "start_time": "2024-10-11T10:43:23.080Z"
   },
   {
    "duration": 21,
    "start_time": "2024-10-11T10:43:23.091Z"
   },
   {
    "duration": 162,
    "start_time": "2024-10-11T10:43:23.114Z"
   },
   {
    "duration": 253,
    "start_time": "2024-10-11T14:04:36.398Z"
   },
   {
    "duration": 258,
    "start_time": "2024-10-11T14:06:27.546Z"
   },
   {
    "duration": 244,
    "start_time": "2024-10-11T14:09:57.228Z"
   },
   {
    "duration": 37,
    "start_time": "2024-10-11T14:25:08.187Z"
   },
   {
    "duration": 59,
    "start_time": "2024-10-11T14:25:30.683Z"
   },
   {
    "duration": 93,
    "start_time": "2024-10-11T14:25:41.639Z"
   },
   {
    "duration": 106,
    "start_time": "2024-10-11T14:25:41.734Z"
   },
   {
    "duration": 2121,
    "start_time": "2024-10-11T14:25:41.842Z"
   },
   {
    "duration": 7,
    "start_time": "2024-10-11T14:25:43.964Z"
   },
   {
    "duration": 11,
    "start_time": "2024-10-11T14:25:43.974Z"
   },
   {
    "duration": 7,
    "start_time": "2024-10-11T14:25:43.986Z"
   },
   {
    "duration": 24,
    "start_time": "2024-10-11T14:25:43.995Z"
   },
   {
    "duration": 25,
    "start_time": "2024-10-11T14:25:44.021Z"
   },
   {
    "duration": 23,
    "start_time": "2024-10-11T14:25:44.047Z"
   },
   {
    "duration": 38,
    "start_time": "2024-10-11T14:25:44.071Z"
   },
   {
    "duration": 87,
    "start_time": "2024-10-11T14:26:29.401Z"
   },
   {
    "duration": 104,
    "start_time": "2024-10-11T14:26:29.490Z"
   },
   {
    "duration": 2123,
    "start_time": "2024-10-11T14:26:29.596Z"
   },
   {
    "duration": 9,
    "start_time": "2024-10-11T14:26:31.721Z"
   },
   {
    "duration": 50,
    "start_time": "2024-10-11T14:26:31.745Z"
   },
   {
    "duration": 45,
    "start_time": "2024-10-11T14:26:31.797Z"
   },
   {
    "duration": 33,
    "start_time": "2024-10-11T14:26:31.844Z"
   },
   {
    "duration": 6,
    "start_time": "2024-10-11T14:26:31.879Z"
   },
   {
    "duration": 39,
    "start_time": "2024-10-11T14:26:31.886Z"
   },
   {
    "duration": 258,
    "start_time": "2024-10-11T14:26:31.927Z"
   },
   {
    "duration": 98,
    "start_time": "2024-10-11T15:43:21.827Z"
   },
   {
    "duration": 5,
    "start_time": "2024-10-11T15:43:39.926Z"
   },
   {
    "duration": 8,
    "start_time": "2024-10-11T15:44:01.363Z"
   },
   {
    "duration": 13,
    "start_time": "2024-10-11T15:57:22.238Z"
   },
   {
    "duration": 13,
    "start_time": "2024-10-11T15:57:41.691Z"
   },
   {
    "duration": 16,
    "start_time": "2024-10-11T15:58:07.768Z"
   },
   {
    "duration": 16,
    "start_time": "2024-10-11T15:58:19.295Z"
   },
   {
    "duration": 68,
    "start_time": "2024-10-11T16:01:21.479Z"
   },
   {
    "duration": 18,
    "start_time": "2024-10-11T16:01:29.216Z"
   },
   {
    "duration": 16,
    "start_time": "2024-10-11T16:01:35.789Z"
   },
   {
    "duration": 16,
    "start_time": "2024-10-11T16:01:50.636Z"
   },
   {
    "duration": 16,
    "start_time": "2024-10-11T16:07:40.044Z"
   },
   {
    "duration": 600,
    "start_time": "2024-10-11T16:16:04.947Z"
   },
   {
    "duration": 759,
    "start_time": "2024-10-11T16:16:22.361Z"
   },
   {
    "duration": 639,
    "start_time": "2024-10-11T16:16:38.003Z"
   },
   {
    "duration": 922,
    "start_time": "2024-10-11T16:20:21.656Z"
   },
   {
    "duration": 662,
    "start_time": "2024-10-11T16:23:48.670Z"
   },
   {
    "duration": 573,
    "start_time": "2024-10-11T16:26:40.019Z"
   },
   {
    "duration": 91,
    "start_time": "2024-10-11T16:28:49.518Z"
   },
   {
    "duration": 135,
    "start_time": "2024-10-11T16:28:49.611Z"
   },
   {
    "duration": 2139,
    "start_time": "2024-10-11T16:28:49.748Z"
   },
   {
    "duration": 9,
    "start_time": "2024-10-11T16:28:51.889Z"
   },
   {
    "duration": 17,
    "start_time": "2024-10-11T16:28:51.901Z"
   },
   {
    "duration": 30,
    "start_time": "2024-10-11T16:28:51.920Z"
   },
   {
    "duration": 21,
    "start_time": "2024-10-11T16:28:51.952Z"
   },
   {
    "duration": 26,
    "start_time": "2024-10-11T16:28:51.975Z"
   },
   {
    "duration": 64,
    "start_time": "2024-10-11T16:28:52.003Z"
   },
   {
    "duration": 264,
    "start_time": "2024-10-11T16:28:52.068Z"
   },
   {
    "duration": 636,
    "start_time": "2024-10-11T16:28:52.334Z"
   },
   {
    "duration": 577,
    "start_time": "2024-10-11T16:35:05.061Z"
   },
   {
    "duration": 853,
    "start_time": "2024-10-11T16:35:13.375Z"
   },
   {
    "duration": 612,
    "start_time": "2024-10-11T16:37:54.451Z"
   },
   {
    "duration": 599,
    "start_time": "2024-10-11T16:43:47.774Z"
   },
   {
    "duration": 13,
    "start_time": "2024-10-11T16:44:33.921Z"
   },
   {
    "duration": 20,
    "start_time": "2024-10-11T16:45:33.888Z"
   },
   {
    "duration": 41,
    "start_time": "2024-10-11T16:45:45.830Z"
   },
   {
    "duration": 94,
    "start_time": "2024-10-11T16:53:19.013Z"
   },
   {
    "duration": 135,
    "start_time": "2024-10-11T16:53:19.109Z"
   },
   {
    "duration": 1937,
    "start_time": "2024-10-11T16:53:19.246Z"
   },
   {
    "duration": 7,
    "start_time": "2024-10-11T16:53:21.186Z"
   },
   {
    "duration": 27,
    "start_time": "2024-10-11T16:53:21.194Z"
   },
   {
    "duration": 24,
    "start_time": "2024-10-11T16:53:21.223Z"
   },
   {
    "duration": 14,
    "start_time": "2024-10-11T16:53:21.249Z"
   },
   {
    "duration": 48,
    "start_time": "2024-10-11T16:53:21.265Z"
   },
   {
    "duration": 23,
    "start_time": "2024-10-11T16:53:21.315Z"
   },
   {
    "duration": 23,
    "start_time": "2024-10-11T16:53:21.340Z"
   },
   {
    "duration": 262,
    "start_time": "2024-10-11T16:53:21.365Z"
   },
   {
    "duration": 39,
    "start_time": "2024-10-11T16:53:21.628Z"
   },
   {
    "duration": 1196,
    "start_time": "2024-10-11T17:55:59.383Z"
   },
   {
    "duration": 38,
    "start_time": "2024-10-11T17:58:32.775Z"
   },
   {
    "duration": 38,
    "start_time": "2024-10-11T18:02:16.320Z"
   },
   {
    "duration": 92,
    "start_time": "2024-10-11T18:02:40.739Z"
   },
   {
    "duration": 289,
    "start_time": "2024-10-11T18:02:40.833Z"
   },
   {
    "duration": 1983,
    "start_time": "2024-10-11T18:02:41.125Z"
   },
   {
    "duration": 9,
    "start_time": "2024-10-11T18:02:43.111Z"
   },
   {
    "duration": 31,
    "start_time": "2024-10-11T18:02:43.122Z"
   },
   {
    "duration": 21,
    "start_time": "2024-10-11T18:02:43.156Z"
   },
   {
    "duration": 6,
    "start_time": "2024-10-11T18:02:43.179Z"
   },
   {
    "duration": 11,
    "start_time": "2024-10-11T18:02:43.187Z"
   },
   {
    "duration": 5,
    "start_time": "2024-10-11T18:02:43.201Z"
   },
   {
    "duration": 45,
    "start_time": "2024-10-11T18:02:43.209Z"
   },
   {
    "duration": 261,
    "start_time": "2024-10-11T18:02:43.256Z"
   },
   {
    "duration": 48,
    "start_time": "2024-10-11T18:02:43.519Z"
   },
   {
    "duration": 88,
    "start_time": "2024-10-11T18:03:11.977Z"
   },
   {
    "duration": 115,
    "start_time": "2024-10-11T18:03:12.068Z"
   },
   {
    "duration": 2229,
    "start_time": "2024-10-11T18:03:12.185Z"
   },
   {
    "duration": 7,
    "start_time": "2024-10-11T18:03:14.416Z"
   },
   {
    "duration": 22,
    "start_time": "2024-10-11T18:03:14.425Z"
   },
   {
    "duration": 7,
    "start_time": "2024-10-11T18:03:14.449Z"
   },
   {
    "duration": 5,
    "start_time": "2024-10-11T18:03:14.458Z"
   },
   {
    "duration": 10,
    "start_time": "2024-10-11T18:03:14.465Z"
   },
   {
    "duration": 4,
    "start_time": "2024-10-11T18:03:14.477Z"
   },
   {
    "duration": 22,
    "start_time": "2024-10-11T18:03:14.484Z"
   },
   {
    "duration": 271,
    "start_time": "2024-10-11T18:03:14.545Z"
   },
   {
    "duration": 50,
    "start_time": "2024-10-11T18:03:14.818Z"
   },
   {
    "duration": 39,
    "start_time": "2024-10-11T18:16:15.529Z"
   },
   {
    "duration": 542,
    "start_time": "2024-10-12T06:24:08.694Z"
   },
   {
    "duration": 86,
    "start_time": "2024-10-12T06:24:09.238Z"
   },
   {
    "duration": 1913,
    "start_time": "2024-10-12T06:24:09.325Z"
   },
   {
    "duration": 7,
    "start_time": "2024-10-12T06:24:11.240Z"
   },
   {
    "duration": 17,
    "start_time": "2024-10-12T06:24:11.249Z"
   },
   {
    "duration": 8,
    "start_time": "2024-10-12T06:24:11.268Z"
   },
   {
    "duration": 5,
    "start_time": "2024-10-12T06:24:11.277Z"
   },
   {
    "duration": 10,
    "start_time": "2024-10-12T06:24:11.284Z"
   },
   {
    "duration": 6,
    "start_time": "2024-10-12T06:24:11.295Z"
   },
   {
    "duration": 21,
    "start_time": "2024-10-12T06:24:11.303Z"
   },
   {
    "duration": 218,
    "start_time": "2024-10-12T06:24:11.325Z"
   },
   {
    "duration": 63,
    "start_time": "2024-10-12T06:24:11.545Z"
   },
   {
    "duration": 12,
    "start_time": "2024-10-12T08:35:12.614Z"
   },
   {
    "duration": 4,
    "start_time": "2024-10-12T08:35:35.240Z"
   },
   {
    "duration": 159,
    "start_time": "2024-10-12T08:45:03.862Z"
   },
   {
    "duration": 2081,
    "start_time": "2024-10-12T08:45:30.282Z"
   },
   {
    "duration": 2062,
    "start_time": "2024-10-12T08:49:07.512Z"
   },
   {
    "duration": 126,
    "start_time": "2024-10-12T09:24:10.200Z"
   },
   {
    "duration": 141,
    "start_time": "2024-10-12T09:24:23.830Z"
   },
   {
    "duration": 101,
    "start_time": "2024-10-12T09:24:34.562Z"
   },
   {
    "duration": 92,
    "start_time": "2024-10-12T09:24:50.108Z"
   },
   {
    "duration": 103,
    "start_time": "2024-10-12T09:28:24.831Z"
   },
   {
    "duration": 4,
    "start_time": "2024-10-12T09:29:21.717Z"
   },
   {
    "duration": 4,
    "start_time": "2024-10-12T09:29:31.966Z"
   },
   {
    "duration": 4,
    "start_time": "2024-10-12T09:30:08.284Z"
   },
   {
    "duration": 7,
    "start_time": "2024-10-12T09:30:56.325Z"
   },
   {
    "duration": 167,
    "start_time": "2024-10-12T09:31:37.635Z"
   },
   {
    "duration": 94,
    "start_time": "2024-10-12T09:35:51.075Z"
   },
   {
    "duration": 112,
    "start_time": "2024-10-12T09:36:05.309Z"
   },
   {
    "duration": 116,
    "start_time": "2024-10-12T09:39:54.305Z"
   },
   {
    "duration": 7,
    "start_time": "2024-10-12T09:40:13.449Z"
   },
   {
    "duration": 8,
    "start_time": "2024-10-12T09:40:51.916Z"
   },
   {
    "duration": 88,
    "start_time": "2024-10-12T09:41:13.217Z"
   },
   {
    "duration": 727,
    "start_time": "2024-10-12T13:40:03.184Z"
   },
   {
    "duration": 97,
    "start_time": "2024-10-12T13:40:03.912Z"
   },
   {
    "duration": 2351,
    "start_time": "2024-10-12T13:40:04.010Z"
   },
   {
    "duration": 8,
    "start_time": "2024-10-12T13:40:06.363Z"
   },
   {
    "duration": 31,
    "start_time": "2024-10-12T13:40:06.372Z"
   },
   {
    "duration": 8,
    "start_time": "2024-10-12T13:40:06.405Z"
   },
   {
    "duration": 19,
    "start_time": "2024-10-12T13:40:06.414Z"
   },
   {
    "duration": 34,
    "start_time": "2024-10-12T13:40:06.434Z"
   },
   {
    "duration": 27,
    "start_time": "2024-10-12T13:40:06.470Z"
   },
   {
    "duration": 27,
    "start_time": "2024-10-12T13:40:06.499Z"
   },
   {
    "duration": 254,
    "start_time": "2024-10-12T13:40:06.528Z"
   },
   {
    "duration": 2249,
    "start_time": "2024-10-12T13:40:06.784Z"
   },
   {
    "duration": 143,
    "start_time": "2024-10-12T13:40:09.035Z"
   },
   {
    "duration": 9,
    "start_time": "2024-10-12T13:40:09.180Z"
   },
   {
    "duration": 132,
    "start_time": "2024-10-12T13:40:09.190Z"
   },
   {
    "duration": 9,
    "start_time": "2024-10-12T13:40:09.324Z"
   },
   {
    "duration": 137,
    "start_time": "2024-10-12T13:50:27.713Z"
   },
   {
    "duration": 10,
    "start_time": "2024-10-12T13:50:45.543Z"
   },
   {
    "duration": 125,
    "start_time": "2024-10-12T13:51:21.429Z"
   },
   {
    "duration": 140,
    "start_time": "2024-10-12T13:51:32.248Z"
   },
   {
    "duration": 217,
    "start_time": "2024-10-12T13:51:52.797Z"
   },
   {
    "duration": 127,
    "start_time": "2024-10-12T13:52:25.303Z"
   },
   {
    "duration": 115,
    "start_time": "2024-10-12T13:52:43.092Z"
   },
   {
    "duration": 139,
    "start_time": "2024-10-12T13:54:37.377Z"
   },
   {
    "duration": 126,
    "start_time": "2024-10-12T13:54:57.823Z"
   },
   {
    "duration": 127,
    "start_time": "2024-10-12T13:55:04.542Z"
   },
   {
    "duration": 135,
    "start_time": "2024-10-12T13:55:12.052Z"
   },
   {
    "duration": 9,
    "start_time": "2024-10-12T13:55:44.498Z"
   },
   {
    "duration": 728,
    "start_time": "2024-10-12T16:16:52.928Z"
   },
   {
    "duration": 99,
    "start_time": "2024-10-12T16:16:53.659Z"
   },
   {
    "duration": 2594,
    "start_time": "2024-10-12T16:16:53.760Z"
   },
   {
    "duration": 7,
    "start_time": "2024-10-12T16:16:56.356Z"
   },
   {
    "duration": 13,
    "start_time": "2024-10-12T16:16:56.365Z"
   },
   {
    "duration": 8,
    "start_time": "2024-10-12T16:16:56.380Z"
   },
   {
    "duration": 5,
    "start_time": "2024-10-12T16:16:56.389Z"
   },
   {
    "duration": 9,
    "start_time": "2024-10-12T16:16:56.395Z"
   },
   {
    "duration": 16,
    "start_time": "2024-10-12T16:16:56.405Z"
   },
   {
    "duration": 27,
    "start_time": "2024-10-12T16:16:56.423Z"
   },
   {
    "duration": 298,
    "start_time": "2024-10-12T16:16:56.452Z"
   },
   {
    "duration": 2647,
    "start_time": "2024-10-12T16:16:56.752Z"
   },
   {
    "duration": 122,
    "start_time": "2024-10-12T16:16:59.400Z"
   },
   {
    "duration": 11,
    "start_time": "2024-10-12T16:16:59.524Z"
   },
   {
    "duration": 166,
    "start_time": "2024-10-12T16:16:59.537Z"
   },
   {
    "duration": 8,
    "start_time": "2024-10-12T16:16:59.705Z"
   },
   {
    "duration": 163,
    "start_time": "2024-10-12T16:16:59.722Z"
   },
   {
    "duration": 8,
    "start_time": "2024-10-12T16:16:59.887Z"
   },
   {
    "duration": 190,
    "start_time": "2024-10-12T16:16:59.896Z"
   },
   {
    "duration": 10,
    "start_time": "2024-10-12T16:17:00.087Z"
   },
   {
    "duration": 151,
    "start_time": "2024-10-12T16:25:17.651Z"
   },
   {
    "duration": 231,
    "start_time": "2024-10-12T16:26:14.981Z"
   },
   {
    "duration": 12,
    "start_time": "2024-10-12T16:26:22.118Z"
   },
   {
    "duration": 134,
    "start_time": "2024-10-12T16:30:47.072Z"
   },
   {
    "duration": 10,
    "start_time": "2024-10-12T16:30:52.187Z"
   },
   {
    "duration": 179,
    "start_time": "2024-10-12T16:31:29.586Z"
   },
   {
    "duration": 153,
    "start_time": "2024-10-12T16:31:39.218Z"
   },
   {
    "duration": 175,
    "start_time": "2024-10-12T16:37:29.231Z"
   },
   {
    "duration": 222,
    "start_time": "2024-10-12T17:00:55.086Z"
   },
   {
    "duration": 203,
    "start_time": "2024-10-12T17:01:47.113Z"
   },
   {
    "duration": 151,
    "start_time": "2024-10-12T17:02:55.539Z"
   },
   {
    "duration": 176,
    "start_time": "2024-10-12T17:03:26.917Z"
   },
   {
    "duration": 192,
    "start_time": "2024-10-12T17:03:42.901Z"
   },
   {
    "duration": 134,
    "start_time": "2024-10-12T17:04:56.987Z"
   },
   {
    "duration": 153,
    "start_time": "2024-10-12T17:05:51.057Z"
   },
   {
    "duration": 184,
    "start_time": "2024-10-12T17:06:18.550Z"
   },
   {
    "duration": 257,
    "start_time": "2024-10-12T17:07:03.229Z"
   },
   {
    "duration": 160,
    "start_time": "2024-10-12T17:07:33.364Z"
   },
   {
    "duration": 103,
    "start_time": "2024-10-12T17:09:10.338Z"
   },
   {
    "duration": 162,
    "start_time": "2024-10-12T17:09:52.843Z"
   },
   {
    "duration": 15,
    "start_time": "2024-10-12T17:10:56.189Z"
   },
   {
    "duration": 52,
    "start_time": "2024-10-12T17:12:04.075Z"
   },
   {
    "duration": 2894,
    "start_time": "2024-10-12T17:12:13.748Z"
   },
   {
    "duration": 67,
    "start_time": "2024-10-12T17:21:15.284Z"
   },
   {
    "duration": 208,
    "start_time": "2024-10-12T17:22:04.884Z"
   },
   {
    "duration": 67,
    "start_time": "2024-10-12T17:23:17.898Z"
   },
   {
    "duration": 219,
    "start_time": "2024-10-12T17:23:32.652Z"
   },
   {
    "duration": 255,
    "start_time": "2024-10-12T17:24:21.718Z"
   },
   {
    "duration": 57,
    "start_time": "2024-10-12T17:25:22.985Z"
   },
   {
    "duration": 38,
    "start_time": "2024-10-12T17:25:41.877Z"
   },
   {
    "duration": 124,
    "start_time": "2024-10-12T17:26:11.863Z"
   },
   {
    "duration": 138,
    "start_time": "2024-10-12T17:26:26.172Z"
   },
   {
    "duration": 15,
    "start_time": "2024-10-12T17:26:38.747Z"
   },
   {
    "duration": 141,
    "start_time": "2024-10-12T17:26:53.972Z"
   },
   {
    "duration": 521,
    "start_time": "2024-10-12T19:49:50.988Z"
   },
   {
    "duration": 95,
    "start_time": "2024-10-12T19:49:51.510Z"
   },
   {
    "duration": 2336,
    "start_time": "2024-10-12T19:49:51.607Z"
   },
   {
    "duration": 7,
    "start_time": "2024-10-12T19:49:53.945Z"
   },
   {
    "duration": 24,
    "start_time": "2024-10-12T19:49:53.954Z"
   },
   {
    "duration": 28,
    "start_time": "2024-10-12T19:49:53.980Z"
   },
   {
    "duration": 29,
    "start_time": "2024-10-12T19:49:54.009Z"
   },
   {
    "duration": 38,
    "start_time": "2024-10-12T19:49:54.039Z"
   },
   {
    "duration": 52,
    "start_time": "2024-10-12T19:49:54.078Z"
   },
   {
    "duration": 26,
    "start_time": "2024-10-12T19:49:54.132Z"
   },
   {
    "duration": 253,
    "start_time": "2024-10-12T19:49:54.159Z"
   },
   {
    "duration": 531,
    "start_time": "2024-10-12T19:49:54.413Z"
   },
   {
    "duration": 0,
    "start_time": "2024-10-12T19:49:54.947Z"
   },
   {
    "duration": 0,
    "start_time": "2024-10-12T19:49:54.948Z"
   },
   {
    "duration": 0,
    "start_time": "2024-10-12T19:49:54.949Z"
   },
   {
    "duration": 0,
    "start_time": "2024-10-12T19:49:54.950Z"
   },
   {
    "duration": 0,
    "start_time": "2024-10-12T19:49:54.951Z"
   },
   {
    "duration": 0,
    "start_time": "2024-10-12T19:49:54.952Z"
   },
   {
    "duration": 0,
    "start_time": "2024-10-12T19:49:54.954Z"
   },
   {
    "duration": 0,
    "start_time": "2024-10-12T19:49:54.955Z"
   },
   {
    "duration": 0,
    "start_time": "2024-10-12T19:49:54.956Z"
   },
   {
    "duration": 0,
    "start_time": "2024-10-12T19:49:54.957Z"
   },
   {
    "duration": 0,
    "start_time": "2024-10-12T19:49:54.958Z"
   },
   {
    "duration": 0,
    "start_time": "2024-10-12T19:49:54.960Z"
   },
   {
    "duration": 0,
    "start_time": "2024-10-12T19:49:54.960Z"
   },
   {
    "duration": 0,
    "start_time": "2024-10-12T19:49:54.961Z"
   },
   {
    "duration": 322,
    "start_time": "2024-10-12T20:41:54.998Z"
   },
   {
    "duration": 87,
    "start_time": "2024-10-12T20:42:14.552Z"
   },
   {
    "duration": 104,
    "start_time": "2024-10-12T20:42:14.641Z"
   },
   {
    "duration": 1960,
    "start_time": "2024-10-12T20:42:14.747Z"
   },
   {
    "duration": 7,
    "start_time": "2024-10-12T20:42:16.709Z"
   },
   {
    "duration": 29,
    "start_time": "2024-10-12T20:42:16.719Z"
   },
   {
    "duration": 8,
    "start_time": "2024-10-12T20:42:16.750Z"
   },
   {
    "duration": 15,
    "start_time": "2024-10-12T20:42:16.760Z"
   },
   {
    "duration": 15,
    "start_time": "2024-10-12T20:42:16.777Z"
   },
   {
    "duration": 115,
    "start_time": "2024-10-12T20:42:16.794Z"
   },
   {
    "duration": 21,
    "start_time": "2024-10-12T20:42:16.911Z"
   },
   {
    "duration": 252,
    "start_time": "2024-10-12T20:42:16.934Z"
   },
   {
    "duration": 319,
    "start_time": "2024-10-12T20:42:17.188Z"
   },
   {
    "duration": 151,
    "start_time": "2024-10-12T20:42:17.509Z"
   },
   {
    "duration": 8,
    "start_time": "2024-10-12T20:42:17.663Z"
   },
   {
    "duration": 236,
    "start_time": "2024-10-12T20:42:17.673Z"
   },
   {
    "duration": 10,
    "start_time": "2024-10-12T20:42:17.910Z"
   },
   {
    "duration": 168,
    "start_time": "2024-10-12T20:42:17.922Z"
   },
   {
    "duration": 10,
    "start_time": "2024-10-12T20:42:18.092Z"
   },
   {
    "duration": 163,
    "start_time": "2024-10-12T20:42:18.103Z"
   },
   {
    "duration": 10,
    "start_time": "2024-10-12T20:42:18.268Z"
   },
   {
    "duration": 180,
    "start_time": "2024-10-12T20:42:18.280Z"
   },
   {
    "duration": 9,
    "start_time": "2024-10-12T20:42:18.462Z"
   },
   {
    "duration": 155,
    "start_time": "2024-10-12T20:42:18.472Z"
   },
   {
    "duration": 18,
    "start_time": "2024-10-12T20:42:18.629Z"
   },
   {
    "duration": 148,
    "start_time": "2024-10-12T20:42:18.648Z"
   },
   {
    "duration": 13,
    "start_time": "2024-10-12T20:42:18.798Z"
   },
   {
    "duration": 128,
    "start_time": "2024-10-12T21:02:08.956Z"
   },
   {
    "duration": 147,
    "start_time": "2024-10-12T21:02:14.585Z"
   },
   {
    "duration": 12,
    "start_time": "2024-10-12T21:02:38.642Z"
   },
   {
    "duration": 156,
    "start_time": "2024-10-12T21:04:01.419Z"
   },
   {
    "duration": 1153,
    "start_time": "2024-10-12T21:08:11.971Z"
   },
   {
    "duration": 1131,
    "start_time": "2024-10-12T21:08:24.625Z"
   },
   {
    "duration": 128,
    "start_time": "2024-10-12T21:09:30.619Z"
   },
   {
    "duration": 142,
    "start_time": "2024-10-12T21:09:30.749Z"
   },
   {
    "duration": 2044,
    "start_time": "2024-10-12T21:09:30.893Z"
   },
   {
    "duration": 6,
    "start_time": "2024-10-12T21:09:32.942Z"
   },
   {
    "duration": 48,
    "start_time": "2024-10-12T21:09:32.950Z"
   },
   {
    "duration": 31,
    "start_time": "2024-10-12T21:09:33.000Z"
   },
   {
    "duration": 17,
    "start_time": "2024-10-12T21:09:33.033Z"
   },
   {
    "duration": 24,
    "start_time": "2024-10-12T21:09:33.052Z"
   },
   {
    "duration": 17,
    "start_time": "2024-10-12T21:09:33.078Z"
   },
   {
    "duration": 41,
    "start_time": "2024-10-12T21:09:33.096Z"
   },
   {
    "duration": 276,
    "start_time": "2024-10-12T21:09:33.139Z"
   },
   {
    "duration": 394,
    "start_time": "2024-10-12T21:09:33.417Z"
   },
   {
    "duration": 205,
    "start_time": "2024-10-12T21:09:33.814Z"
   },
   {
    "duration": 9,
    "start_time": "2024-10-12T21:09:34.022Z"
   },
   {
    "duration": 144,
    "start_time": "2024-10-12T21:09:34.043Z"
   },
   {
    "duration": 11,
    "start_time": "2024-10-12T21:09:34.189Z"
   },
   {
    "duration": 190,
    "start_time": "2024-10-12T21:09:34.202Z"
   },
   {
    "duration": 8,
    "start_time": "2024-10-12T21:09:34.394Z"
   },
   {
    "duration": 159,
    "start_time": "2024-10-12T21:09:34.404Z"
   },
   {
    "duration": 10,
    "start_time": "2024-10-12T21:09:34.565Z"
   },
   {
    "duration": 166,
    "start_time": "2024-10-12T21:09:34.577Z"
   },
   {
    "duration": 10,
    "start_time": "2024-10-12T21:09:34.745Z"
   },
   {
    "duration": 323,
    "start_time": "2024-10-12T21:09:34.757Z"
   },
   {
    "duration": 10,
    "start_time": "2024-10-12T21:09:35.082Z"
   },
   {
    "duration": 158,
    "start_time": "2024-10-12T21:09:35.093Z"
   },
   {
    "duration": 10,
    "start_time": "2024-10-12T21:09:35.253Z"
   },
   {
    "duration": 207,
    "start_time": "2024-10-12T21:09:35.265Z"
   },
   {
    "duration": 12,
    "start_time": "2024-10-12T21:09:35.474Z"
   },
   {
    "duration": 1142,
    "start_time": "2024-10-12T21:09:35.488Z"
   },
   {
    "duration": 0,
    "start_time": "2024-10-12T21:09:36.631Z"
   },
   {
    "duration": 1165,
    "start_time": "2024-10-12T21:09:53.811Z"
   },
   {
    "duration": 152,
    "start_time": "2024-10-12T21:10:08.815Z"
   },
   {
    "duration": 11,
    "start_time": "2024-10-12T21:10:14.497Z"
   },
   {
    "duration": 183,
    "start_time": "2024-10-12T21:10:56.485Z"
   },
   {
    "duration": 147,
    "start_time": "2024-10-12T21:11:29.016Z"
   },
   {
    "duration": 9,
    "start_time": "2024-10-12T21:12:02.102Z"
   },
   {
    "duration": 146,
    "start_time": "2024-10-12T21:12:41.593Z"
   },
   {
    "duration": 141,
    "start_time": "2024-10-12T21:13:02.548Z"
   },
   {
    "duration": 1598,
    "start_time": "2024-10-12T21:15:20.677Z"
   },
   {
    "duration": 1321,
    "start_time": "2024-10-12T21:15:31.928Z"
   },
   {
    "duration": 131,
    "start_time": "2024-10-12T21:16:08.628Z"
   },
   {
    "duration": 10,
    "start_time": "2024-10-12T21:16:13.953Z"
   },
   {
    "duration": 148,
    "start_time": "2024-10-12T21:17:20.061Z"
   },
   {
    "duration": 164,
    "start_time": "2024-10-12T21:17:29.461Z"
   },
   {
    "duration": 6,
    "start_time": "2024-10-12T21:29:56.993Z"
   },
   {
    "duration": 9,
    "start_time": "2024-10-12T21:30:31.901Z"
   },
   {
    "duration": 9,
    "start_time": "2024-10-12T21:30:57.463Z"
   },
   {
    "duration": 45,
    "start_time": "2024-10-13T06:52:01.153Z"
   },
   {
    "duration": 5,
    "start_time": "2024-10-13T06:52:13.280Z"
   },
   {
    "duration": 530,
    "start_time": "2024-10-13T06:52:22.421Z"
   },
   {
    "duration": 87,
    "start_time": "2024-10-13T06:52:22.952Z"
   },
   {
    "duration": 2021,
    "start_time": "2024-10-13T06:52:23.041Z"
   },
   {
    "duration": 7,
    "start_time": "2024-10-13T06:52:25.063Z"
   },
   {
    "duration": 29,
    "start_time": "2024-10-13T06:52:25.072Z"
   },
   {
    "duration": 7,
    "start_time": "2024-10-13T06:52:25.102Z"
   },
   {
    "duration": 4,
    "start_time": "2024-10-13T06:52:25.111Z"
   },
   {
    "duration": 8,
    "start_time": "2024-10-13T06:52:25.117Z"
   },
   {
    "duration": 6,
    "start_time": "2024-10-13T06:52:25.126Z"
   },
   {
    "duration": 17,
    "start_time": "2024-10-13T06:52:25.133Z"
   },
   {
    "duration": 237,
    "start_time": "2024-10-13T06:52:25.151Z"
   },
   {
    "duration": 299,
    "start_time": "2024-10-13T06:52:25.390Z"
   },
   {
    "duration": 6,
    "start_time": "2024-10-13T06:52:25.691Z"
   },
   {
    "duration": 19,
    "start_time": "2024-10-13T06:52:25.701Z"
   },
   {
    "duration": 109,
    "start_time": "2024-10-13T06:52:25.722Z"
   },
   {
    "duration": 115,
    "start_time": "2024-10-13T06:52:25.832Z"
   },
   {
    "duration": 7,
    "start_time": "2024-10-13T06:52:25.948Z"
   },
   {
    "duration": 183,
    "start_time": "2024-10-13T06:52:25.956Z"
   },
   {
    "duration": 7,
    "start_time": "2024-10-13T06:52:26.140Z"
   },
   {
    "duration": 117,
    "start_time": "2024-10-13T06:52:26.148Z"
   },
   {
    "duration": 7,
    "start_time": "2024-10-13T06:52:26.266Z"
   },
   {
    "duration": 129,
    "start_time": "2024-10-13T06:52:26.274Z"
   },
   {
    "duration": 11,
    "start_time": "2024-10-13T06:52:26.404Z"
   },
   {
    "duration": 123,
    "start_time": "2024-10-13T06:52:26.416Z"
   },
   {
    "duration": 7,
    "start_time": "2024-10-13T06:52:26.540Z"
   },
   {
    "duration": 34,
    "start_time": "2024-10-13T06:52:26.548Z"
   },
   {
    "duration": 111,
    "start_time": "2024-10-13T06:52:26.583Z"
   },
   {
    "duration": 8,
    "start_time": "2024-10-13T06:52:26.695Z"
   },
   {
    "duration": 137,
    "start_time": "2024-10-13T06:52:26.704Z"
   },
   {
    "duration": 7,
    "start_time": "2024-10-13T06:52:26.843Z"
   },
   {
    "duration": 133,
    "start_time": "2024-10-13T06:52:26.851Z"
   },
   {
    "duration": 10,
    "start_time": "2024-10-13T06:52:26.986Z"
   },
   {
    "duration": 144,
    "start_time": "2024-10-13T06:52:26.997Z"
   },
   {
    "duration": 8,
    "start_time": "2024-10-13T06:52:27.142Z"
   },
   {
    "duration": 5,
    "start_time": "2024-10-13T06:53:31.540Z"
   },
   {
    "duration": 67,
    "start_time": "2024-10-13T06:53:44.149Z"
   },
   {
    "duration": 45,
    "start_time": "2024-10-13T06:53:48.705Z"
   },
   {
    "duration": 54,
    "start_time": "2024-10-13T06:54:03.305Z"
   },
   {
    "duration": 7,
    "start_time": "2024-10-13T06:54:09.050Z"
   },
   {
    "duration": 5,
    "start_time": "2024-10-13T06:54:20.580Z"
   },
   {
    "duration": 7,
    "start_time": "2024-10-13T06:55:07.357Z"
   },
   {
    "duration": 6,
    "start_time": "2024-10-13T06:55:13.084Z"
   },
   {
    "duration": 6,
    "start_time": "2024-10-13T06:55:17.554Z"
   },
   {
    "duration": 692,
    "start_time": "2024-10-13T16:09:58.788Z"
   },
   {
    "duration": 99,
    "start_time": "2024-10-13T16:09:59.481Z"
   },
   {
    "duration": 2343,
    "start_time": "2024-10-13T16:09:59.581Z"
   },
   {
    "duration": 7,
    "start_time": "2024-10-13T16:10:01.926Z"
   },
   {
    "duration": 20,
    "start_time": "2024-10-13T16:10:01.935Z"
   },
   {
    "duration": 10,
    "start_time": "2024-10-13T16:10:01.957Z"
   },
   {
    "duration": 6,
    "start_time": "2024-10-13T16:10:01.969Z"
   },
   {
    "duration": 42,
    "start_time": "2024-10-13T16:10:01.977Z"
   },
   {
    "duration": 43,
    "start_time": "2024-10-13T16:10:02.021Z"
   },
   {
    "duration": 22,
    "start_time": "2024-10-13T16:10:02.066Z"
   },
   {
    "duration": 267,
    "start_time": "2024-10-13T16:10:02.089Z"
   },
   {
    "duration": 379,
    "start_time": "2024-10-13T16:10:02.358Z"
   },
   {
    "duration": 14,
    "start_time": "2024-10-13T16:10:02.738Z"
   },
   {
    "duration": 143,
    "start_time": "2024-10-13T16:10:02.756Z"
   },
   {
    "duration": 157,
    "start_time": "2024-10-13T16:10:02.901Z"
   },
   {
    "duration": 142,
    "start_time": "2024-10-13T16:10:03.060Z"
   },
   {
    "duration": 10,
    "start_time": "2024-10-13T16:10:03.203Z"
   },
   {
    "duration": 241,
    "start_time": "2024-10-13T16:10:03.214Z"
   },
   {
    "duration": 9,
    "start_time": "2024-10-13T16:10:03.457Z"
   },
   {
    "duration": 162,
    "start_time": "2024-10-13T16:10:03.467Z"
   },
   {
    "duration": 9,
    "start_time": "2024-10-13T16:10:03.630Z"
   },
   {
    "duration": 196,
    "start_time": "2024-10-13T16:10:03.641Z"
   },
   {
    "duration": 21,
    "start_time": "2024-10-13T16:10:03.839Z"
   },
   {
    "duration": 233,
    "start_time": "2024-10-13T16:10:03.861Z"
   },
   {
    "duration": 11,
    "start_time": "2024-10-13T16:10:04.096Z"
   },
   {
    "duration": 13,
    "start_time": "2024-10-13T16:10:04.109Z"
   },
   {
    "duration": 154,
    "start_time": "2024-10-13T16:10:04.124Z"
   },
   {
    "duration": 10,
    "start_time": "2024-10-13T16:10:04.280Z"
   },
   {
    "duration": 202,
    "start_time": "2024-10-13T16:10:04.292Z"
   },
   {
    "duration": 9,
    "start_time": "2024-10-13T16:10:04.495Z"
   },
   {
    "duration": 198,
    "start_time": "2024-10-13T16:10:04.506Z"
   },
   {
    "duration": 13,
    "start_time": "2024-10-13T16:10:04.706Z"
   },
   {
    "duration": 163,
    "start_time": "2024-10-13T16:10:04.720Z"
   },
   {
    "duration": 10,
    "start_time": "2024-10-13T16:10:04.885Z"
   },
   {
    "duration": 140,
    "start_time": "2024-10-13T16:11:43.398Z"
   },
   {
    "duration": 111,
    "start_time": "2024-10-13T16:12:09.908Z"
   },
   {
    "duration": 9,
    "start_time": "2024-10-13T16:24:04.647Z"
   },
   {
    "duration": 125,
    "start_time": "2024-10-13T16:25:20.362Z"
   },
   {
    "duration": 78,
    "start_time": "2024-10-13T16:28:30.313Z"
   },
   {
    "duration": 139,
    "start_time": "2024-10-13T16:42:40.018Z"
   },
   {
    "duration": 258,
    "start_time": "2024-10-13T16:44:28.919Z"
   },
   {
    "duration": 126,
    "start_time": "2024-10-13T16:46:19.581Z"
   },
   {
    "duration": 162,
    "start_time": "2024-10-13T16:46:37.308Z"
   },
   {
    "duration": 10,
    "start_time": "2024-10-13T16:49:51.819Z"
   },
   {
    "duration": 136,
    "start_time": "2024-10-13T16:50:34.864Z"
   },
   {
    "duration": 133,
    "start_time": "2024-10-13T16:50:48.889Z"
   },
   {
    "duration": 11,
    "start_time": "2024-10-13T17:07:33.269Z"
   },
   {
    "duration": 132,
    "start_time": "2024-10-13T17:08:29.101Z"
   },
   {
    "duration": 9,
    "start_time": "2024-10-13T17:20:39.450Z"
   },
   {
    "duration": 11,
    "start_time": "2024-10-13T17:21:25.859Z"
   },
   {
    "duration": 141,
    "start_time": "2024-10-13T17:21:37.405Z"
   },
   {
    "duration": 136,
    "start_time": "2024-10-13T17:23:57.380Z"
   },
   {
    "duration": 146,
    "start_time": "2024-10-13T17:26:18.033Z"
   },
   {
    "duration": 9,
    "start_time": "2024-10-13T17:35:10.774Z"
   },
   {
    "duration": 9,
    "start_time": "2024-10-13T17:41:42.651Z"
   },
   {
    "duration": 144,
    "start_time": "2024-10-13T17:42:02.852Z"
   },
   {
    "duration": 136,
    "start_time": "2024-10-13T17:42:27.464Z"
   },
   {
    "duration": 133,
    "start_time": "2024-10-13T17:48:01.461Z"
   },
   {
    "duration": 144,
    "start_time": "2024-10-13T17:48:50.880Z"
   },
   {
    "duration": 160,
    "start_time": "2024-10-13T17:51:56.366Z"
   },
   {
    "duration": 10,
    "start_time": "2024-10-13T17:57:20.445Z"
   },
   {
    "duration": 9,
    "start_time": "2024-10-13T17:57:52.312Z"
   },
   {
    "duration": 250,
    "start_time": "2024-10-13T17:58:16.358Z"
   },
   {
    "duration": 148,
    "start_time": "2024-10-13T18:00:07.445Z"
   },
   {
    "duration": 128,
    "start_time": "2024-10-13T18:00:38.397Z"
   },
   {
    "duration": 133,
    "start_time": "2024-10-13T18:01:03.508Z"
   },
   {
    "duration": 142,
    "start_time": "2024-10-13T18:01:11.087Z"
   },
   {
    "duration": 8,
    "start_time": "2024-10-13T18:03:46.514Z"
   },
   {
    "duration": 134,
    "start_time": "2024-10-13T18:03:54.898Z"
   },
   {
    "duration": 127,
    "start_time": "2024-10-13T18:04:41.500Z"
   },
   {
    "duration": 130,
    "start_time": "2024-10-13T18:05:00.100Z"
   },
   {
    "duration": 149,
    "start_time": "2024-10-13T18:05:28.856Z"
   },
   {
    "duration": 134,
    "start_time": "2024-10-13T18:07:48.825Z"
   },
   {
    "duration": 45,
    "start_time": "2024-10-13T19:43:59.168Z"
   },
   {
    "duration": 5,
    "start_time": "2024-10-13T19:44:26.472Z"
   },
   {
    "duration": 6,
    "start_time": "2024-10-13T19:44:37.068Z"
   },
   {
    "duration": 517,
    "start_time": "2024-10-13T19:44:43.024Z"
   },
   {
    "duration": 81,
    "start_time": "2024-10-13T19:44:43.542Z"
   },
   {
    "duration": 1990,
    "start_time": "2024-10-13T19:44:43.624Z"
   },
   {
    "duration": 6,
    "start_time": "2024-10-13T19:44:45.616Z"
   },
   {
    "duration": 10,
    "start_time": "2024-10-13T19:44:45.623Z"
   },
   {
    "duration": 73,
    "start_time": "2024-10-13T19:44:45.634Z"
   },
   {
    "duration": 11,
    "start_time": "2024-10-13T19:44:45.708Z"
   },
   {
    "duration": 9,
    "start_time": "2024-10-13T19:44:45.720Z"
   },
   {
    "duration": 6,
    "start_time": "2024-10-13T19:44:45.730Z"
   },
   {
    "duration": 32,
    "start_time": "2024-10-13T19:44:45.739Z"
   },
   {
    "duration": 227,
    "start_time": "2024-10-13T19:44:45.773Z"
   },
   {
    "duration": 300,
    "start_time": "2024-10-13T19:44:46.001Z"
   },
   {
    "duration": 15,
    "start_time": "2024-10-13T19:44:46.302Z"
   },
   {
    "duration": 119,
    "start_time": "2024-10-13T19:44:46.318Z"
   },
   {
    "duration": 121,
    "start_time": "2024-10-13T19:44:46.438Z"
   },
   {
    "duration": 8,
    "start_time": "2024-10-13T19:44:46.560Z"
   },
   {
    "duration": 163,
    "start_time": "2024-10-13T19:44:46.569Z"
   },
   {
    "duration": 8,
    "start_time": "2024-10-13T19:44:46.733Z"
   },
   {
    "duration": 122,
    "start_time": "2024-10-13T19:44:46.742Z"
   },
   {
    "duration": 120,
    "start_time": "2024-10-13T19:44:46.866Z"
   },
   {
    "duration": 7,
    "start_time": "2024-10-13T19:44:46.987Z"
   },
   {
    "duration": 169,
    "start_time": "2024-10-13T19:44:46.996Z"
   },
   {
    "duration": 121,
    "start_time": "2024-10-13T19:44:47.167Z"
   },
   {
    "duration": 7,
    "start_time": "2024-10-13T19:44:47.289Z"
   },
   {
    "duration": 132,
    "start_time": "2024-10-13T19:44:47.298Z"
   },
   {
    "duration": 7,
    "start_time": "2024-10-13T19:44:47.431Z"
   },
   {
    "duration": 122,
    "start_time": "2024-10-13T19:44:47.439Z"
   },
   {
    "duration": 6,
    "start_time": "2024-10-13T19:44:47.564Z"
   },
   {
    "duration": 14,
    "start_time": "2024-10-13T19:44:47.572Z"
   },
   {
    "duration": 106,
    "start_time": "2024-10-13T19:44:47.587Z"
   },
   {
    "duration": 8,
    "start_time": "2024-10-13T19:44:47.694Z"
   },
   {
    "duration": 156,
    "start_time": "2024-10-13T19:44:47.703Z"
   },
   {
    "duration": 54,
    "start_time": "2024-10-13T19:44:47.861Z"
   },
   {
    "duration": 121,
    "start_time": "2024-10-13T19:44:47.916Z"
   },
   {
    "duration": 8,
    "start_time": "2024-10-13T19:44:48.038Z"
   },
   {
    "duration": 114,
    "start_time": "2024-10-13T19:44:48.047Z"
   },
   {
    "duration": 9,
    "start_time": "2024-10-13T19:44:48.162Z"
   },
   {
    "duration": 122,
    "start_time": "2024-10-13T19:46:28.101Z"
   },
   {
    "duration": 174,
    "start_time": "2024-10-13T19:46:39.262Z"
   },
   {
    "duration": 117,
    "start_time": "2024-10-13T19:46:48.773Z"
   },
   {
    "duration": 7,
    "start_time": "2024-10-13T19:50:42.840Z"
   },
   {
    "duration": 7,
    "start_time": "2024-10-13T19:54:27.869Z"
   },
   {
    "duration": 9,
    "start_time": "2024-10-13T19:57:00.959Z"
   },
   {
    "duration": 6,
    "start_time": "2024-10-13T19:57:48.690Z"
   },
   {
    "duration": 5,
    "start_time": "2024-10-13T20:22:59.299Z"
   },
   {
    "duration": 81,
    "start_time": "2024-10-13T20:23:32.044Z"
   },
   {
    "duration": 90,
    "start_time": "2024-10-13T20:23:32.127Z"
   },
   {
    "duration": 1545,
    "start_time": "2024-10-13T20:23:32.218Z"
   },
   {
    "duration": 5,
    "start_time": "2024-10-13T20:23:33.764Z"
   },
   {
    "duration": 38,
    "start_time": "2024-10-13T20:23:33.771Z"
   },
   {
    "duration": 33,
    "start_time": "2024-10-13T20:23:33.810Z"
   },
   {
    "duration": 5,
    "start_time": "2024-10-13T20:23:33.845Z"
   },
   {
    "duration": 9,
    "start_time": "2024-10-13T20:23:33.851Z"
   },
   {
    "duration": 6,
    "start_time": "2024-10-13T20:23:33.861Z"
   },
   {
    "duration": 24,
    "start_time": "2024-10-13T20:23:33.868Z"
   },
   {
    "duration": 31,
    "start_time": "2024-10-13T20:23:33.894Z"
   },
   {
    "duration": 394,
    "start_time": "2024-10-13T20:23:33.926Z"
   },
   {
    "duration": 7,
    "start_time": "2024-10-13T20:23:34.321Z"
   },
   {
    "duration": 124,
    "start_time": "2024-10-13T20:23:34.330Z"
   },
   {
    "duration": 120,
    "start_time": "2024-10-13T20:23:34.455Z"
   },
   {
    "duration": 8,
    "start_time": "2024-10-13T20:23:34.577Z"
   },
   {
    "duration": 127,
    "start_time": "2024-10-13T20:23:34.586Z"
   },
   {
    "duration": 9,
    "start_time": "2024-10-13T20:23:34.714Z"
   },
   {
    "duration": 118,
    "start_time": "2024-10-13T20:23:34.725Z"
   },
   {
    "duration": 121,
    "start_time": "2024-10-13T20:23:34.844Z"
   },
   {
    "duration": 6,
    "start_time": "2024-10-13T20:23:34.967Z"
   },
   {
    "duration": 126,
    "start_time": "2024-10-13T20:23:34.975Z"
   },
   {
    "duration": 148,
    "start_time": "2024-10-13T20:23:35.103Z"
   },
   {
    "duration": 6,
    "start_time": "2024-10-13T20:23:35.253Z"
   },
   {
    "duration": 119,
    "start_time": "2024-10-13T20:23:35.261Z"
   },
   {
    "duration": 8,
    "start_time": "2024-10-13T20:23:35.381Z"
   },
   {
    "duration": 134,
    "start_time": "2024-10-13T20:23:35.390Z"
   },
   {
    "duration": 7,
    "start_time": "2024-10-13T20:23:35.525Z"
   },
   {
    "duration": 18,
    "start_time": "2024-10-13T20:23:35.533Z"
   },
   {
    "duration": 105,
    "start_time": "2024-10-13T20:23:35.552Z"
   },
   {
    "duration": 7,
    "start_time": "2024-10-13T20:23:35.659Z"
   },
   {
    "duration": 145,
    "start_time": "2024-10-13T20:23:35.667Z"
   },
   {
    "duration": 7,
    "start_time": "2024-10-13T20:23:35.813Z"
   },
   {
    "duration": 135,
    "start_time": "2024-10-13T20:23:35.821Z"
   },
   {
    "duration": 8,
    "start_time": "2024-10-13T20:23:35.957Z"
   },
   {
    "duration": 121,
    "start_time": "2024-10-13T20:23:35.966Z"
   },
   {
    "duration": 8,
    "start_time": "2024-10-13T20:23:36.088Z"
   },
   {
    "duration": 81,
    "start_time": "2024-10-13T20:24:30.757Z"
   },
   {
    "duration": 93,
    "start_time": "2024-10-13T20:24:30.840Z"
   },
   {
    "duration": 1643,
    "start_time": "2024-10-13T20:24:30.934Z"
   },
   {
    "duration": 6,
    "start_time": "2024-10-13T20:24:32.578Z"
   },
   {
    "duration": 24,
    "start_time": "2024-10-13T20:24:32.585Z"
   },
   {
    "duration": 14,
    "start_time": "2024-10-13T20:24:32.611Z"
   },
   {
    "duration": 15,
    "start_time": "2024-10-13T20:24:32.626Z"
   },
   {
    "duration": 15,
    "start_time": "2024-10-13T20:24:32.643Z"
   },
   {
    "duration": 19,
    "start_time": "2024-10-13T20:24:32.659Z"
   },
   {
    "duration": 33,
    "start_time": "2024-10-13T20:24:32.679Z"
   },
   {
    "duration": 233,
    "start_time": "2024-10-13T20:24:32.713Z"
   },
   {
    "duration": 302,
    "start_time": "2024-10-13T20:24:32.948Z"
   },
   {
    "duration": 8,
    "start_time": "2024-10-13T20:24:33.251Z"
   },
   {
    "duration": 126,
    "start_time": "2024-10-13T20:24:33.262Z"
   },
   {
    "duration": 109,
    "start_time": "2024-10-13T20:24:33.390Z"
   },
   {
    "duration": 14,
    "start_time": "2024-10-13T20:24:33.500Z"
   },
   {
    "duration": 119,
    "start_time": "2024-10-13T20:24:33.515Z"
   },
   {
    "duration": 7,
    "start_time": "2024-10-13T20:24:33.635Z"
   },
   {
    "duration": 225,
    "start_time": "2024-10-13T20:24:33.643Z"
   },
   {
    "duration": 117,
    "start_time": "2024-10-13T20:24:33.869Z"
   },
   {
    "duration": 7,
    "start_time": "2024-10-13T20:24:33.987Z"
   },
   {
    "duration": 131,
    "start_time": "2024-10-13T20:24:33.995Z"
   },
   {
    "duration": 133,
    "start_time": "2024-10-13T20:24:34.127Z"
   },
   {
    "duration": 7,
    "start_time": "2024-10-13T20:24:34.261Z"
   },
   {
    "duration": 116,
    "start_time": "2024-10-13T20:24:34.270Z"
   },
   {
    "duration": 7,
    "start_time": "2024-10-13T20:24:34.387Z"
   },
   {
    "duration": 162,
    "start_time": "2024-10-13T20:24:34.395Z"
   },
   {
    "duration": 6,
    "start_time": "2024-10-13T20:24:34.559Z"
   },
   {
    "duration": 5,
    "start_time": "2024-10-13T20:24:34.566Z"
   },
   {
    "duration": 124,
    "start_time": "2024-10-13T20:24:34.572Z"
   },
   {
    "duration": 16,
    "start_time": "2024-10-13T20:24:34.697Z"
   },
   {
    "duration": 144,
    "start_time": "2024-10-13T20:24:34.714Z"
   },
   {
    "duration": 7,
    "start_time": "2024-10-13T20:24:34.859Z"
   },
   {
    "duration": 120,
    "start_time": "2024-10-13T20:24:34.867Z"
   },
   {
    "duration": 7,
    "start_time": "2024-10-13T20:24:34.988Z"
   },
   {
    "duration": 120,
    "start_time": "2024-10-13T20:24:34.997Z"
   },
   {
    "duration": 8,
    "start_time": "2024-10-13T20:24:35.119Z"
   },
   {
    "duration": 146,
    "start_time": "2024-10-13T20:32:27.206Z"
   },
   {
    "duration": 110,
    "start_time": "2024-10-13T20:32:40.340Z"
   },
   {
    "duration": 106,
    "start_time": "2024-10-13T20:33:00.073Z"
   },
   {
    "duration": 116,
    "start_time": "2024-10-13T20:33:13.905Z"
   },
   {
    "duration": 109,
    "start_time": "2024-10-13T20:33:22.908Z"
   },
   {
    "duration": 114,
    "start_time": "2024-10-13T20:33:34.880Z"
   },
   {
    "duration": 92,
    "start_time": "2024-10-13T20:33:40.609Z"
   },
   {
    "duration": 82,
    "start_time": "2024-10-13T20:33:40.704Z"
   },
   {
    "duration": 1710,
    "start_time": "2024-10-13T20:33:40.787Z"
   },
   {
    "duration": 14,
    "start_time": "2024-10-13T20:33:42.498Z"
   },
   {
    "duration": 9,
    "start_time": "2024-10-13T20:33:42.514Z"
   },
   {
    "duration": 5,
    "start_time": "2024-10-13T20:33:42.525Z"
   },
   {
    "duration": 5,
    "start_time": "2024-10-13T20:33:42.531Z"
   },
   {
    "duration": 9,
    "start_time": "2024-10-13T20:33:42.537Z"
   },
   {
    "duration": 13,
    "start_time": "2024-10-13T20:33:42.547Z"
   },
   {
    "duration": 16,
    "start_time": "2024-10-13T20:33:42.562Z"
   },
   {
    "duration": 250,
    "start_time": "2024-10-13T20:33:42.579Z"
   },
   {
    "duration": 312,
    "start_time": "2024-10-13T20:33:42.830Z"
   },
   {
    "duration": 7,
    "start_time": "2024-10-13T20:33:43.144Z"
   },
   {
    "duration": 132,
    "start_time": "2024-10-13T20:33:43.155Z"
   },
   {
    "duration": 125,
    "start_time": "2024-10-13T20:33:43.288Z"
   },
   {
    "duration": 8,
    "start_time": "2024-10-13T20:33:43.414Z"
   },
   {
    "duration": 125,
    "start_time": "2024-10-13T20:33:43.423Z"
   },
   {
    "duration": 9,
    "start_time": "2024-10-13T20:33:43.549Z"
   },
   {
    "duration": 128,
    "start_time": "2024-10-13T20:33:43.559Z"
   },
   {
    "duration": 125,
    "start_time": "2024-10-13T20:33:43.688Z"
   },
   {
    "duration": 10,
    "start_time": "2024-10-13T20:33:43.815Z"
   },
   {
    "duration": 210,
    "start_time": "2024-10-13T20:33:43.826Z"
   },
   {
    "duration": 159,
    "start_time": "2024-10-13T20:33:44.038Z"
   },
   {
    "duration": 16,
    "start_time": "2024-10-13T20:33:44.198Z"
   },
   {
    "duration": 133,
    "start_time": "2024-10-13T20:33:44.215Z"
   },
   {
    "duration": 8,
    "start_time": "2024-10-13T20:33:44.349Z"
   },
   {
    "duration": 134,
    "start_time": "2024-10-13T20:33:44.358Z"
   },
   {
    "duration": 7,
    "start_time": "2024-10-13T20:33:44.493Z"
   },
   {
    "duration": 127,
    "start_time": "2024-10-13T20:33:44.501Z"
   },
   {
    "duration": 119,
    "start_time": "2024-10-13T20:33:44.630Z"
   },
   {
    "duration": 8,
    "start_time": "2024-10-13T20:33:44.750Z"
   },
   {
    "duration": 129,
    "start_time": "2024-10-13T20:33:44.759Z"
   },
   {
    "duration": 7,
    "start_time": "2024-10-13T20:33:44.889Z"
   },
   {
    "duration": 126,
    "start_time": "2024-10-13T20:33:44.898Z"
   },
   {
    "duration": 8,
    "start_time": "2024-10-13T20:33:45.025Z"
   },
   {
    "duration": 152,
    "start_time": "2024-10-13T20:33:45.034Z"
   },
   {
    "duration": 8,
    "start_time": "2024-10-13T20:33:45.188Z"
   },
   {
    "duration": 17,
    "start_time": "2024-10-13T20:35:04.076Z"
   },
   {
    "duration": 109,
    "start_time": "2024-10-13T20:38:47.191Z"
   },
   {
    "duration": 117,
    "start_time": "2024-10-13T20:46:58.787Z"
   },
   {
    "duration": 114,
    "start_time": "2024-10-13T20:47:25.378Z"
   },
   {
    "duration": 8,
    "start_time": "2024-10-13T20:48:51.693Z"
   },
   {
    "duration": 7,
    "start_time": "2024-10-13T20:51:03.047Z"
   },
   {
    "duration": 106,
    "start_time": "2024-10-13T20:51:18.471Z"
   },
   {
    "duration": 102,
    "start_time": "2024-10-13T20:51:42.749Z"
   },
   {
    "duration": 7,
    "start_time": "2024-10-13T20:57:54.534Z"
   },
   {
    "duration": 7,
    "start_time": "2024-10-13T21:00:57.634Z"
   },
   {
    "duration": 6,
    "start_time": "2024-10-13T21:01:49.777Z"
   },
   {
    "duration": 117,
    "start_time": "2024-10-13T21:02:06.058Z"
   },
   {
    "duration": 122,
    "start_time": "2024-10-13T21:02:25.434Z"
   },
   {
    "duration": 4,
    "start_time": "2024-10-13T21:03:12.466Z"
   },
   {
    "duration": 126,
    "start_time": "2024-10-13T21:06:34.303Z"
   },
   {
    "duration": 78,
    "start_time": "2024-10-13T21:17:14.071Z"
   },
   {
    "duration": 90,
    "start_time": "2024-10-13T21:17:14.151Z"
   },
   {
    "duration": 1712,
    "start_time": "2024-10-13T21:17:14.242Z"
   },
   {
    "duration": 6,
    "start_time": "2024-10-13T21:17:15.955Z"
   },
   {
    "duration": 10,
    "start_time": "2024-10-13T21:17:15.962Z"
   },
   {
    "duration": 24,
    "start_time": "2024-10-13T21:17:15.974Z"
   },
   {
    "duration": 4,
    "start_time": "2024-10-13T21:17:16.000Z"
   },
   {
    "duration": 11,
    "start_time": "2024-10-13T21:17:16.012Z"
   },
   {
    "duration": 22,
    "start_time": "2024-10-13T21:17:16.025Z"
   },
   {
    "duration": 19,
    "start_time": "2024-10-13T21:17:16.048Z"
   },
   {
    "duration": 207,
    "start_time": "2024-10-13T21:17:16.068Z"
   },
   {
    "duration": 288,
    "start_time": "2024-10-13T21:17:16.276Z"
   },
   {
    "duration": 6,
    "start_time": "2024-10-13T21:17:16.566Z"
   },
   {
    "duration": 123,
    "start_time": "2024-10-13T21:17:16.575Z"
   },
   {
    "duration": 119,
    "start_time": "2024-10-13T21:17:16.700Z"
   },
   {
    "duration": 7,
    "start_time": "2024-10-13T21:17:16.821Z"
   },
   {
    "duration": 124,
    "start_time": "2024-10-13T21:17:16.829Z"
   },
   {
    "duration": 8,
    "start_time": "2024-10-13T21:17:16.954Z"
   },
   {
    "duration": 140,
    "start_time": "2024-10-13T21:17:16.963Z"
   },
   {
    "duration": 120,
    "start_time": "2024-10-13T21:17:17.111Z"
   },
   {
    "duration": 7,
    "start_time": "2024-10-13T21:17:17.232Z"
   },
   {
    "duration": 135,
    "start_time": "2024-10-13T21:17:17.240Z"
   },
   {
    "duration": 130,
    "start_time": "2024-10-13T21:17:17.377Z"
   },
   {
    "duration": 6,
    "start_time": "2024-10-13T21:17:17.511Z"
   },
   {
    "duration": 144,
    "start_time": "2024-10-13T21:17:17.518Z"
   },
   {
    "duration": 8,
    "start_time": "2024-10-13T21:17:17.664Z"
   },
   {
    "duration": 128,
    "start_time": "2024-10-13T21:17:17.673Z"
   },
   {
    "duration": 9,
    "start_time": "2024-10-13T21:17:17.803Z"
   },
   {
    "duration": 119,
    "start_time": "2024-10-13T21:17:17.814Z"
   },
   {
    "duration": 7,
    "start_time": "2024-10-13T21:17:17.935Z"
   },
   {
    "duration": 109,
    "start_time": "2024-10-13T21:17:17.943Z"
   },
   {
    "duration": 7,
    "start_time": "2024-10-13T21:17:18.053Z"
   },
   {
    "duration": 130,
    "start_time": "2024-10-13T21:17:18.061Z"
   },
   {
    "duration": 120,
    "start_time": "2024-10-13T21:17:18.193Z"
   },
   {
    "duration": 8,
    "start_time": "2024-10-13T21:17:18.314Z"
   },
   {
    "duration": 119,
    "start_time": "2024-10-13T21:17:18.323Z"
   },
   {
    "duration": 7,
    "start_time": "2024-10-13T21:17:18.444Z"
   },
   {
    "duration": 9,
    "start_time": "2024-10-13T21:23:47.070Z"
   },
   {
    "duration": 78,
    "start_time": "2024-10-13T21:23:55.489Z"
   },
   {
    "duration": 85,
    "start_time": "2024-10-13T21:23:55.568Z"
   },
   {
    "duration": 1771,
    "start_time": "2024-10-13T21:23:55.654Z"
   },
   {
    "duration": 6,
    "start_time": "2024-10-13T21:23:57.426Z"
   },
   {
    "duration": 23,
    "start_time": "2024-10-13T21:23:57.434Z"
   },
   {
    "duration": 6,
    "start_time": "2024-10-13T21:23:57.458Z"
   },
   {
    "duration": 7,
    "start_time": "2024-10-13T21:23:57.465Z"
   },
   {
    "duration": 14,
    "start_time": "2024-10-13T21:23:57.473Z"
   },
   {
    "duration": 7,
    "start_time": "2024-10-13T21:23:57.489Z"
   },
   {
    "duration": 23,
    "start_time": "2024-10-13T21:23:57.497Z"
   },
   {
    "duration": 256,
    "start_time": "2024-10-13T21:23:57.521Z"
   },
   {
    "duration": 290,
    "start_time": "2024-10-13T21:23:57.778Z"
   },
   {
    "duration": 7,
    "start_time": "2024-10-13T21:23:58.069Z"
   },
   {
    "duration": 119,
    "start_time": "2024-10-13T21:23:58.078Z"
   },
   {
    "duration": 127,
    "start_time": "2024-10-13T21:23:58.199Z"
   },
   {
    "duration": 8,
    "start_time": "2024-10-13T21:23:58.327Z"
   },
   {
    "duration": 140,
    "start_time": "2024-10-13T21:23:58.336Z"
   },
   {
    "duration": 8,
    "start_time": "2024-10-13T21:23:58.478Z"
   },
   {
    "duration": 134,
    "start_time": "2024-10-13T21:23:58.488Z"
   },
   {
    "duration": 113,
    "start_time": "2024-10-13T21:23:58.624Z"
   },
   {
    "duration": 8,
    "start_time": "2024-10-13T21:23:58.738Z"
   },
   {
    "duration": 131,
    "start_time": "2024-10-13T21:23:58.747Z"
   },
   {
    "duration": 132,
    "start_time": "2024-10-13T21:23:58.880Z"
   },
   {
    "duration": 8,
    "start_time": "2024-10-13T21:23:59.013Z"
   },
   {
    "duration": 125,
    "start_time": "2024-10-13T21:23:59.022Z"
   },
   {
    "duration": 7,
    "start_time": "2024-10-13T21:23:59.148Z"
   },
   {
    "duration": 135,
    "start_time": "2024-10-13T21:23:59.156Z"
   },
   {
    "duration": 6,
    "start_time": "2024-10-13T21:23:59.293Z"
   },
   {
    "duration": 132,
    "start_time": "2024-10-13T21:23:59.300Z"
   },
   {
    "duration": 8,
    "start_time": "2024-10-13T21:23:59.433Z"
   },
   {
    "duration": 108,
    "start_time": "2024-10-13T21:23:59.442Z"
   },
   {
    "duration": 7,
    "start_time": "2024-10-13T21:23:59.551Z"
   },
   {
    "duration": 140,
    "start_time": "2024-10-13T21:23:59.559Z"
   },
   {
    "duration": 124,
    "start_time": "2024-10-13T21:23:59.701Z"
   },
   {
    "duration": 8,
    "start_time": "2024-10-13T21:23:59.827Z"
   },
   {
    "duration": 126,
    "start_time": "2024-10-13T21:23:59.836Z"
   },
   {
    "duration": 7,
    "start_time": "2024-10-13T21:23:59.964Z"
   },
   {
    "duration": 116,
    "start_time": "2024-10-13T21:29:24.349Z"
   },
   {
    "duration": 111,
    "start_time": "2024-10-13T21:29:33.689Z"
   },
   {
    "duration": 112,
    "start_time": "2024-10-13T21:29:40.530Z"
   },
   {
    "duration": 111,
    "start_time": "2024-10-13T21:29:59.838Z"
   },
   {
    "duration": 110,
    "start_time": "2024-10-13T21:30:18.660Z"
   },
   {
    "duration": 109,
    "start_time": "2024-10-13T21:33:41.452Z"
   },
   {
    "duration": 118,
    "start_time": "2024-10-13T21:33:50.788Z"
   },
   {
    "duration": 117,
    "start_time": "2024-10-13T21:34:57.522Z"
   },
   {
    "duration": 119,
    "start_time": "2024-10-13T21:35:09.270Z"
   },
   {
    "duration": 8,
    "start_time": "2024-10-13T21:35:45.043Z"
   },
   {
    "duration": 82,
    "start_time": "2024-10-13T21:35:56.485Z"
   },
   {
    "duration": 94,
    "start_time": "2024-10-13T21:35:56.569Z"
   },
   {
    "duration": 1798,
    "start_time": "2024-10-13T21:35:56.664Z"
   },
   {
    "duration": 6,
    "start_time": "2024-10-13T21:35:58.464Z"
   },
   {
    "duration": 9,
    "start_time": "2024-10-13T21:35:58.471Z"
   },
   {
    "duration": 4,
    "start_time": "2024-10-13T21:35:58.482Z"
   },
   {
    "duration": 26,
    "start_time": "2024-10-13T21:35:58.487Z"
   },
   {
    "duration": 10,
    "start_time": "2024-10-13T21:35:58.515Z"
   },
   {
    "duration": 3,
    "start_time": "2024-10-13T21:35:58.527Z"
   },
   {
    "duration": 16,
    "start_time": "2024-10-13T21:35:58.533Z"
   },
   {
    "duration": 241,
    "start_time": "2024-10-13T21:35:58.550Z"
   },
   {
    "duration": 296,
    "start_time": "2024-10-13T21:35:58.792Z"
   },
   {
    "duration": 7,
    "start_time": "2024-10-13T21:35:59.089Z"
   },
   {
    "duration": 130,
    "start_time": "2024-10-13T21:35:59.098Z"
   },
   {
    "duration": 124,
    "start_time": "2024-10-13T21:35:59.229Z"
   },
   {
    "duration": 8,
    "start_time": "2024-10-13T21:35:59.354Z"
   },
   {
    "duration": 110,
    "start_time": "2024-10-13T21:35:59.363Z"
   },
   {
    "duration": 7,
    "start_time": "2024-10-13T21:35:59.474Z"
   },
   {
    "duration": 124,
    "start_time": "2024-10-13T21:35:59.483Z"
   },
   {
    "duration": 116,
    "start_time": "2024-10-13T21:35:59.612Z"
   },
   {
    "duration": 8,
    "start_time": "2024-10-13T21:35:59.729Z"
   },
   {
    "duration": 134,
    "start_time": "2024-10-13T21:35:59.739Z"
   },
   {
    "duration": 127,
    "start_time": "2024-10-13T21:35:59.874Z"
   },
   {
    "duration": 10,
    "start_time": "2024-10-13T21:36:00.002Z"
   },
   {
    "duration": 149,
    "start_time": "2024-10-13T21:36:00.014Z"
   },
   {
    "duration": 8,
    "start_time": "2024-10-13T21:36:00.165Z"
   },
   {
    "duration": 148,
    "start_time": "2024-10-13T21:36:00.174Z"
   },
   {
    "duration": 6,
    "start_time": "2024-10-13T21:36:00.325Z"
   },
   {
    "duration": 132,
    "start_time": "2024-10-13T21:36:00.332Z"
   },
   {
    "duration": 8,
    "start_time": "2024-10-13T21:36:00.465Z"
   },
   {
    "duration": 158,
    "start_time": "2024-10-13T21:36:00.474Z"
   },
   {
    "duration": 7,
    "start_time": "2024-10-13T21:36:00.633Z"
   },
   {
    "duration": 130,
    "start_time": "2024-10-13T21:36:00.642Z"
   },
   {
    "duration": 127,
    "start_time": "2024-10-13T21:36:00.773Z"
   },
   {
    "duration": 15,
    "start_time": "2024-10-13T21:36:00.902Z"
   },
   {
    "duration": 115,
    "start_time": "2024-10-13T21:36:00.918Z"
   },
   {
    "duration": 7,
    "start_time": "2024-10-13T21:36:01.035Z"
   },
   {
    "duration": 8,
    "start_time": "2024-10-13T21:40:34.652Z"
   },
   {
    "duration": 107,
    "start_time": "2024-10-13T21:41:31.246Z"
   },
   {
    "duration": 116,
    "start_time": "2024-10-13T21:42:31.622Z"
   },
   {
    "duration": 8,
    "start_time": "2024-10-13T21:42:59.892Z"
   },
   {
    "duration": 105,
    "start_time": "2024-10-13T21:43:31.847Z"
   },
   {
    "duration": 8,
    "start_time": "2024-10-13T21:49:19.555Z"
   },
   {
    "duration": 103,
    "start_time": "2024-10-13T21:49:45.299Z"
   },
   {
    "duration": 8,
    "start_time": "2024-10-13T21:56:45.259Z"
   },
   {
    "duration": 102,
    "start_time": "2024-10-13T21:57:28.672Z"
   },
   {
    "duration": 114,
    "start_time": "2024-10-13T22:02:21.700Z"
   },
   {
    "duration": 114,
    "start_time": "2024-10-13T22:02:38.755Z"
   },
   {
    "duration": 113,
    "start_time": "2024-10-13T22:18:55.275Z"
   },
   {
    "duration": 7,
    "start_time": "2024-10-13T22:19:16.976Z"
   },
   {
    "duration": 6,
    "start_time": "2024-10-13T22:19:40.174Z"
   },
   {
    "duration": 9,
    "start_time": "2024-10-13T22:21:45.635Z"
   },
   {
    "duration": 10,
    "start_time": "2024-10-13T22:22:00.977Z"
   },
   {
    "duration": 117,
    "start_time": "2024-10-13T22:23:04.117Z"
   },
   {
    "duration": 9,
    "start_time": "2024-10-13T22:24:43.437Z"
   },
   {
    "duration": 8,
    "start_time": "2024-10-13T22:26:00.307Z"
   },
   {
    "duration": 5,
    "start_time": "2024-10-13T22:46:11.649Z"
   },
   {
    "duration": 353,
    "start_time": "2024-10-13T22:50:20.394Z"
   },
   {
    "duration": 8,
    "start_time": "2024-10-13T22:51:16.497Z"
   },
   {
    "duration": 310,
    "start_time": "2024-10-13T22:51:31.005Z"
   },
   {
    "duration": 9,
    "start_time": "2024-10-13T22:51:51.715Z"
   },
   {
    "duration": 4,
    "start_time": "2024-10-13T22:54:51.988Z"
   },
   {
    "duration": 5,
    "start_time": "2024-10-13T22:55:07.087Z"
   },
   {
    "duration": 5,
    "start_time": "2024-10-13T22:55:23.210Z"
   },
   {
    "duration": 4,
    "start_time": "2024-10-13T22:55:37.794Z"
   },
   {
    "duration": 298,
    "start_time": "2024-10-13T22:55:51.375Z"
   },
   {
    "duration": 4,
    "start_time": "2024-10-13T22:56:11.162Z"
   },
   {
    "duration": 4,
    "start_time": "2024-10-13T22:56:36.330Z"
   },
   {
    "duration": 4,
    "start_time": "2024-10-13T22:56:41.264Z"
   },
   {
    "duration": 52,
    "start_time": "2024-10-14T06:11:23.790Z"
   },
   {
    "duration": 719,
    "start_time": "2024-10-14T06:11:38.892Z"
   },
   {
    "duration": 104,
    "start_time": "2024-10-14T06:11:39.613Z"
   },
   {
    "duration": 2391,
    "start_time": "2024-10-14T06:11:39.718Z"
   },
   {
    "duration": 8,
    "start_time": "2024-10-14T06:11:42.110Z"
   },
   {
    "duration": 12,
    "start_time": "2024-10-14T06:11:42.120Z"
   },
   {
    "duration": 18,
    "start_time": "2024-10-14T06:11:42.134Z"
   },
   {
    "duration": 7,
    "start_time": "2024-10-14T06:11:42.153Z"
   },
   {
    "duration": 18,
    "start_time": "2024-10-14T06:11:42.162Z"
   },
   {
    "duration": 8,
    "start_time": "2024-10-14T06:11:42.182Z"
   },
   {
    "duration": 21,
    "start_time": "2024-10-14T06:11:42.192Z"
   },
   {
    "duration": 282,
    "start_time": "2024-10-14T06:11:42.215Z"
   },
   {
    "duration": 354,
    "start_time": "2024-10-14T06:11:42.499Z"
   },
   {
    "duration": 9,
    "start_time": "2024-10-14T06:11:42.854Z"
   },
   {
    "duration": 158,
    "start_time": "2024-10-14T06:11:42.865Z"
   },
   {
    "duration": 162,
    "start_time": "2024-10-14T06:11:43.025Z"
   },
   {
    "duration": 9,
    "start_time": "2024-10-14T06:11:43.188Z"
   },
   {
    "duration": 247,
    "start_time": "2024-10-14T06:11:43.198Z"
   },
   {
    "duration": 10,
    "start_time": "2024-10-14T06:11:43.446Z"
   },
   {
    "duration": 150,
    "start_time": "2024-10-14T06:11:43.458Z"
   },
   {
    "duration": 154,
    "start_time": "2024-10-14T06:11:43.610Z"
   },
   {
    "duration": 9,
    "start_time": "2024-10-14T06:11:43.766Z"
   },
   {
    "duration": 207,
    "start_time": "2024-10-14T06:11:43.776Z"
   },
   {
    "duration": 183,
    "start_time": "2024-10-14T06:11:43.985Z"
   },
   {
    "duration": 9,
    "start_time": "2024-10-14T06:11:44.169Z"
   },
   {
    "duration": 158,
    "start_time": "2024-10-14T06:11:44.180Z"
   },
   {
    "duration": 13,
    "start_time": "2024-10-14T06:11:44.340Z"
   },
   {
    "duration": 189,
    "start_time": "2024-10-14T06:11:44.354Z"
   },
   {
    "duration": 8,
    "start_time": "2024-10-14T06:11:44.545Z"
   },
   {
    "duration": 163,
    "start_time": "2024-10-14T06:11:44.555Z"
   },
   {
    "duration": 10,
    "start_time": "2024-10-14T06:11:44.720Z"
   },
   {
    "duration": 152,
    "start_time": "2024-10-14T06:11:44.732Z"
   },
   {
    "duration": 9,
    "start_time": "2024-10-14T06:11:44.886Z"
   },
   {
    "duration": 181,
    "start_time": "2024-10-14T06:11:44.896Z"
   },
   {
    "duration": 9,
    "start_time": "2024-10-14T06:11:45.079Z"
   },
   {
    "duration": 146,
    "start_time": "2024-10-14T06:11:45.090Z"
   },
   {
    "duration": 19,
    "start_time": "2024-10-14T06:11:45.237Z"
   },
   {
    "duration": 137,
    "start_time": "2024-10-14T06:11:45.258Z"
   },
   {
    "duration": 246,
    "start_time": "2024-10-14T06:11:45.396Z"
   },
   {
    "duration": 15,
    "start_time": "2024-10-14T06:11:45.644Z"
   },
   {
    "duration": 5,
    "start_time": "2024-10-14T06:11:45.661Z"
   },
   {
    "duration": 89,
    "start_time": "2024-10-14T06:11:45.669Z"
   },
   {
    "duration": 1223,
    "start_time": "2024-10-14T06:16:30.427Z"
   },
   {
    "duration": 141,
    "start_time": "2024-10-14T06:17:45.188Z"
   },
   {
    "duration": 147,
    "start_time": "2024-10-14T06:18:32.526Z"
   },
   {
    "duration": 149,
    "start_time": "2024-10-14T06:18:45.288Z"
   },
   {
    "duration": 172,
    "start_time": "2024-10-14T06:27:06.782Z"
   },
   {
    "duration": 128,
    "start_time": "2024-10-14T06:28:29.868Z"
   },
   {
    "duration": 303,
    "start_time": "2024-10-14T06:30:58.549Z"
   },
   {
    "duration": 168,
    "start_time": "2024-10-14T06:34:52.899Z"
   },
   {
    "duration": 7,
    "start_time": "2024-10-14T06:35:43.598Z"
   },
   {
    "duration": 148,
    "start_time": "2024-10-14T06:36:10.174Z"
   },
   {
    "duration": 6,
    "start_time": "2024-10-14T06:36:31.520Z"
   },
   {
    "duration": 159,
    "start_time": "2024-10-14T06:36:46.453Z"
   },
   {
    "duration": 7,
    "start_time": "2024-10-14T06:37:11.228Z"
   },
   {
    "duration": 158,
    "start_time": "2024-10-14T06:37:22.885Z"
   },
   {
    "duration": 7,
    "start_time": "2024-10-14T06:37:41.061Z"
   },
   {
    "duration": 7,
    "start_time": "2024-10-14T06:38:29.173Z"
   },
   {
    "duration": 6,
    "start_time": "2024-10-14T06:38:36.369Z"
   },
   {
    "duration": 6,
    "start_time": "2024-10-14T06:38:44.409Z"
   },
   {
    "duration": 155,
    "start_time": "2024-10-14T06:39:56.018Z"
   },
   {
    "duration": 144,
    "start_time": "2024-10-14T06:40:54.391Z"
   },
   {
    "duration": 154,
    "start_time": "2024-10-14T06:42:26.580Z"
   },
   {
    "duration": 6,
    "start_time": "2024-10-14T06:42:37.084Z"
   },
   {
    "duration": 584,
    "start_time": "2024-10-14T08:30:08.247Z"
   },
   {
    "duration": 106,
    "start_time": "2024-10-14T08:30:08.833Z"
   },
   {
    "duration": 2519,
    "start_time": "2024-10-14T08:30:08.941Z"
   },
   {
    "duration": 7,
    "start_time": "2024-10-14T08:30:11.462Z"
   },
   {
    "duration": 25,
    "start_time": "2024-10-14T08:30:11.471Z"
   },
   {
    "duration": 15,
    "start_time": "2024-10-14T08:30:11.498Z"
   },
   {
    "duration": 5,
    "start_time": "2024-10-14T08:30:11.515Z"
   },
   {
    "duration": 13,
    "start_time": "2024-10-14T08:30:11.521Z"
   },
   {
    "duration": 22,
    "start_time": "2024-10-14T08:30:11.535Z"
   },
   {
    "duration": 26,
    "start_time": "2024-10-14T08:30:11.559Z"
   },
   {
    "duration": 263,
    "start_time": "2024-10-14T08:30:11.587Z"
   },
   {
    "duration": 352,
    "start_time": "2024-10-14T08:30:11.852Z"
   },
   {
    "duration": 19,
    "start_time": "2024-10-14T08:30:12.205Z"
   },
   {
    "duration": 161,
    "start_time": "2024-10-14T08:30:12.227Z"
   },
   {
    "duration": 179,
    "start_time": "2024-10-14T08:30:12.390Z"
   },
   {
    "duration": 9,
    "start_time": "2024-10-14T08:30:12.571Z"
   },
   {
    "duration": 223,
    "start_time": "2024-10-14T08:30:12.582Z"
   },
   {
    "duration": 14,
    "start_time": "2024-10-14T08:30:12.807Z"
   },
   {
    "duration": 150,
    "start_time": "2024-10-14T08:30:12.823Z"
   },
   {
    "duration": 152,
    "start_time": "2024-10-14T08:30:12.974Z"
   },
   {
    "duration": 10,
    "start_time": "2024-10-14T08:30:13.128Z"
   },
   {
    "duration": 160,
    "start_time": "2024-10-14T08:30:13.139Z"
   },
   {
    "duration": 166,
    "start_time": "2024-10-14T08:30:13.300Z"
   },
   {
    "duration": 9,
    "start_time": "2024-10-14T08:30:13.467Z"
   },
   {
    "duration": 161,
    "start_time": "2024-10-14T08:30:13.477Z"
   },
   {
    "duration": 9,
    "start_time": "2024-10-14T08:30:13.640Z"
   },
   {
    "duration": 185,
    "start_time": "2024-10-14T08:30:13.650Z"
   },
   {
    "duration": 8,
    "start_time": "2024-10-14T08:30:13.837Z"
   },
   {
    "duration": 164,
    "start_time": "2024-10-14T08:30:13.847Z"
   },
   {
    "duration": 16,
    "start_time": "2024-10-14T08:30:14.012Z"
   },
   {
    "duration": 143,
    "start_time": "2024-10-14T08:30:14.029Z"
   },
   {
    "duration": 10,
    "start_time": "2024-10-14T08:30:14.173Z"
   },
   {
    "duration": 192,
    "start_time": "2024-10-14T08:30:14.184Z"
   },
   {
    "duration": 12,
    "start_time": "2024-10-14T08:30:14.378Z"
   },
   {
    "duration": 194,
    "start_time": "2024-10-14T08:30:14.392Z"
   },
   {
    "duration": 10,
    "start_time": "2024-10-14T08:30:14.588Z"
   },
   {
    "duration": 145,
    "start_time": "2024-10-14T08:30:14.600Z"
   },
   {
    "duration": 268,
    "start_time": "2024-10-14T08:30:14.747Z"
   },
   {
    "duration": 12,
    "start_time": "2024-10-14T08:30:15.020Z"
   },
   {
    "duration": 112,
    "start_time": "2024-10-14T08:30:15.034Z"
   },
   {
    "duration": 166,
    "start_time": "2024-10-14T08:30:15.151Z"
   },
   {
    "duration": 5,
    "start_time": "2024-10-14T08:30:15.319Z"
   },
   {
    "duration": 189,
    "start_time": "2024-10-14T08:30:15.326Z"
   },
   {
    "duration": 9,
    "start_time": "2024-10-14T08:30:15.516Z"
   },
   {
    "duration": 168,
    "start_time": "2024-10-14T08:30:15.526Z"
   },
   {
    "duration": 6,
    "start_time": "2024-10-14T08:30:15.695Z"
   },
   {
    "duration": 188,
    "start_time": "2024-10-14T08:30:15.703Z"
   },
   {
    "duration": 407,
    "start_time": "2024-10-14T08:30:15.893Z"
   },
   {
    "duration": 0,
    "start_time": "2024-10-14T08:30:16.302Z"
   },
   {
    "duration": 0,
    "start_time": "2024-10-14T08:30:16.304Z"
   },
   {
    "duration": 0,
    "start_time": "2024-10-14T08:30:16.306Z"
   },
   {
    "duration": 0,
    "start_time": "2024-10-14T08:30:16.307Z"
   },
   {
    "duration": 0,
    "start_time": "2024-10-14T08:30:16.308Z"
   },
   {
    "duration": 0,
    "start_time": "2024-10-14T08:30:16.309Z"
   },
   {
    "duration": 172,
    "start_time": "2024-10-14T08:31:09.355Z"
   },
   {
    "duration": 10,
    "start_time": "2024-10-14T08:31:22.718Z"
   },
   {
    "duration": 1289,
    "start_time": "2024-10-14T08:36:57.211Z"
   },
   {
    "duration": 116,
    "start_time": "2024-10-14T08:37:57.104Z"
   },
   {
    "duration": 22,
    "start_time": "2024-10-14T08:52:51.774Z"
   },
   {
    "duration": 69,
    "start_time": "2024-10-14T08:54:05.994Z"
   },
   {
    "duration": 66,
    "start_time": "2024-10-14T09:04:54.464Z"
   },
   {
    "duration": 124,
    "start_time": "2024-10-14T09:05:06.742Z"
   },
   {
    "duration": 1246,
    "start_time": "2024-10-14T09:08:28.450Z"
   },
   {
    "duration": 122,
    "start_time": "2024-10-14T09:08:55.428Z"
   },
   {
    "duration": 317,
    "start_time": "2024-10-14T09:11:23.199Z"
   },
   {
    "duration": 117,
    "start_time": "2024-10-14T09:13:34.376Z"
   },
   {
    "duration": 6,
    "start_time": "2024-10-14T09:27:09.805Z"
   },
   {
    "duration": 5,
    "start_time": "2024-10-14T09:27:59.348Z"
   },
   {
    "duration": 6,
    "start_time": "2024-10-14T09:29:15.140Z"
   },
   {
    "duration": 6,
    "start_time": "2024-10-14T09:30:37.468Z"
   },
   {
    "duration": 6,
    "start_time": "2024-10-14T09:31:17.228Z"
   },
   {
    "duration": 170,
    "start_time": "2024-10-14T09:31:20.818Z"
   },
   {
    "duration": 6,
    "start_time": "2024-10-14T09:31:25.365Z"
   },
   {
    "duration": 152,
    "start_time": "2024-10-14T09:31:28.970Z"
   },
   {
    "duration": 7,
    "start_time": "2024-10-14T09:31:34.582Z"
   },
   {
    "duration": 162,
    "start_time": "2024-10-14T09:31:38.428Z"
   },
   {
    "duration": 6,
    "start_time": "2024-10-14T09:35:08.226Z"
   },
   {
    "duration": 108,
    "start_time": "2024-10-14T09:36:25.727Z"
   },
   {
    "duration": 5,
    "start_time": "2024-10-14T09:36:42.007Z"
   },
   {
    "duration": 60,
    "start_time": "2024-10-14T09:40:16.102Z"
   },
   {
    "duration": 6,
    "start_time": "2024-10-14T09:40:31.369Z"
   },
   {
    "duration": 166,
    "start_time": "2024-10-14T09:53:38.738Z"
   },
   {
    "duration": 168,
    "start_time": "2024-10-14T10:03:37.265Z"
   },
   {
    "duration": 24,
    "start_time": "2024-10-14T10:05:48.936Z"
   },
   {
    "duration": 22,
    "start_time": "2024-10-14T10:06:37.912Z"
   },
   {
    "duration": 115,
    "start_time": "2024-10-14T10:06:56.138Z"
   },
   {
    "duration": 21,
    "start_time": "2024-10-14T10:19:27.717Z"
   },
   {
    "duration": 28,
    "start_time": "2024-10-14T10:19:50.670Z"
   },
   {
    "duration": 10,
    "start_time": "2024-10-14T10:20:42.246Z"
   },
   {
    "duration": 10,
    "start_time": "2024-10-14T10:21:12.882Z"
   },
   {
    "duration": 10,
    "start_time": "2024-10-14T10:21:24.885Z"
   },
   {
    "duration": 10,
    "start_time": "2024-10-14T10:21:46.441Z"
   },
   {
    "duration": 765,
    "start_time": "2024-10-14T15:22:51.133Z"
   },
   {
    "duration": 108,
    "start_time": "2024-10-14T15:22:51.900Z"
   },
   {
    "duration": 2432,
    "start_time": "2024-10-14T15:22:52.009Z"
   },
   {
    "duration": 6,
    "start_time": "2024-10-14T15:22:54.443Z"
   },
   {
    "duration": 28,
    "start_time": "2024-10-14T15:22:54.451Z"
   },
   {
    "duration": 8,
    "start_time": "2024-10-14T15:22:54.480Z"
   },
   {
    "duration": 5,
    "start_time": "2024-10-14T15:22:54.489Z"
   },
   {
    "duration": 9,
    "start_time": "2024-10-14T15:22:54.495Z"
   },
   {
    "duration": 33,
    "start_time": "2024-10-14T15:22:54.506Z"
   },
   {
    "duration": 25,
    "start_time": "2024-10-14T15:22:54.541Z"
   },
   {
    "duration": 239,
    "start_time": "2024-10-14T15:22:54.568Z"
   },
   {
    "duration": 344,
    "start_time": "2024-10-14T15:22:54.809Z"
   },
   {
    "duration": 9,
    "start_time": "2024-10-14T15:22:55.154Z"
   },
   {
    "duration": 180,
    "start_time": "2024-10-14T15:22:55.164Z"
   },
   {
    "duration": 159,
    "start_time": "2024-10-14T15:22:55.345Z"
   },
   {
    "duration": 9,
    "start_time": "2024-10-14T15:22:55.506Z"
   },
   {
    "duration": 214,
    "start_time": "2024-10-14T15:22:55.516Z"
   },
   {
    "duration": 21,
    "start_time": "2024-10-14T15:22:55.732Z"
   },
   {
    "duration": 147,
    "start_time": "2024-10-14T15:22:55.754Z"
   },
   {
    "duration": 155,
    "start_time": "2024-10-14T15:22:55.903Z"
   },
   {
    "duration": 10,
    "start_time": "2024-10-14T15:22:56.060Z"
   },
   {
    "duration": 167,
    "start_time": "2024-10-14T15:22:56.071Z"
   },
   {
    "duration": 170,
    "start_time": "2024-10-14T15:22:56.240Z"
   },
   {
    "duration": 9,
    "start_time": "2024-10-14T15:22:56.412Z"
   },
   {
    "duration": 183,
    "start_time": "2024-10-14T15:22:56.423Z"
   },
   {
    "duration": 9,
    "start_time": "2024-10-14T15:22:56.608Z"
   },
   {
    "duration": 186,
    "start_time": "2024-10-14T15:22:56.618Z"
   },
   {
    "duration": 7,
    "start_time": "2024-10-14T15:22:56.808Z"
   },
   {
    "duration": 152,
    "start_time": "2024-10-14T15:22:56.816Z"
   },
   {
    "duration": 9,
    "start_time": "2024-10-14T15:22:56.970Z"
   },
   {
    "duration": 148,
    "start_time": "2024-10-14T15:22:56.980Z"
   },
   {
    "duration": 9,
    "start_time": "2024-10-14T15:22:57.129Z"
   },
   {
    "duration": 204,
    "start_time": "2024-10-14T15:22:57.139Z"
   },
   {
    "duration": 8,
    "start_time": "2024-10-14T15:22:57.345Z"
   },
   {
    "duration": 133,
    "start_time": "2024-10-14T15:22:57.355Z"
   },
   {
    "duration": 8,
    "start_time": "2024-10-14T15:22:57.490Z"
   },
   {
    "duration": 130,
    "start_time": "2024-10-14T15:22:57.500Z"
   },
   {
    "duration": 244,
    "start_time": "2024-10-14T15:22:57.631Z"
   },
   {
    "duration": 8,
    "start_time": "2024-10-14T15:22:57.877Z"
   },
   {
    "duration": 5,
    "start_time": "2024-10-14T15:22:57.887Z"
   },
   {
    "duration": 159,
    "start_time": "2024-10-14T15:22:57.893Z"
   },
   {
    "duration": 5,
    "start_time": "2024-10-14T15:22:58.054Z"
   },
   {
    "duration": 161,
    "start_time": "2024-10-14T15:22:58.060Z"
   },
   {
    "duration": 5,
    "start_time": "2024-10-14T15:22:58.223Z"
   },
   {
    "duration": 145,
    "start_time": "2024-10-14T15:22:58.230Z"
   },
   {
    "duration": 6,
    "start_time": "2024-10-14T15:22:58.376Z"
   },
   {
    "duration": 159,
    "start_time": "2024-10-14T15:22:58.384Z"
   },
   {
    "duration": 131,
    "start_time": "2024-10-14T15:22:58.544Z"
   },
   {
    "duration": 7,
    "start_time": "2024-10-14T15:22:58.677Z"
   },
   {
    "duration": 176,
    "start_time": "2024-10-14T15:22:58.686Z"
   },
   {
    "duration": 6,
    "start_time": "2024-10-14T15:22:58.864Z"
   },
   {
    "duration": 165,
    "start_time": "2024-10-14T15:22:58.871Z"
   },
   {
    "duration": 6,
    "start_time": "2024-10-14T15:22:59.037Z"
   },
   {
    "duration": 161,
    "start_time": "2024-10-14T15:22:59.051Z"
   },
   {
    "duration": 9,
    "start_time": "2024-10-14T15:22:59.213Z"
   },
   {
    "duration": 149,
    "start_time": "2024-10-14T16:12:15.843Z"
   },
   {
    "duration": 97,
    "start_time": "2024-10-14T16:16:50.492Z"
   },
   {
    "duration": 20,
    "start_time": "2024-10-14T16:18:38.415Z"
   },
   {
    "duration": 23,
    "start_time": "2024-10-14T16:20:06.926Z"
   },
   {
    "duration": 19,
    "start_time": "2024-10-14T16:20:31.215Z"
   },
   {
    "duration": 25,
    "start_time": "2024-10-14T16:21:49.068Z"
   },
   {
    "duration": 23,
    "start_time": "2024-10-14T16:26:38.331Z"
   },
   {
    "duration": 24,
    "start_time": "2024-10-14T16:27:24.409Z"
   },
   {
    "duration": 25,
    "start_time": "2024-10-14T16:30:28.238Z"
   },
   {
    "duration": 26,
    "start_time": "2024-10-14T16:30:44.116Z"
   },
   {
    "duration": 10,
    "start_time": "2024-10-14T16:32:22.697Z"
   },
   {
    "duration": 25,
    "start_time": "2024-10-14T16:32:56.808Z"
   },
   {
    "duration": 25,
    "start_time": "2024-10-14T16:33:32.227Z"
   },
   {
    "duration": 24,
    "start_time": "2024-10-14T16:34:46.337Z"
   },
   {
    "duration": 26,
    "start_time": "2024-10-14T16:36:06.903Z"
   },
   {
    "duration": 48,
    "start_time": "2024-10-14T16:36:15.369Z"
   },
   {
    "duration": 24,
    "start_time": "2024-10-14T16:37:29.296Z"
   },
   {
    "duration": 25,
    "start_time": "2024-10-14T16:38:38.925Z"
   },
   {
    "duration": 24,
    "start_time": "2024-10-14T16:39:27.860Z"
   },
   {
    "duration": 32,
    "start_time": "2024-10-14T16:42:39.989Z"
   },
   {
    "duration": 32,
    "start_time": "2024-10-14T16:43:39.014Z"
   },
   {
    "duration": 32,
    "start_time": "2024-10-14T16:44:05.801Z"
   },
   {
    "duration": 0,
    "start_time": "2024-10-14T16:45:08.007Z"
   },
   {
    "duration": 31,
    "start_time": "2024-10-14T16:45:14.702Z"
   },
   {
    "duration": 32,
    "start_time": "2024-10-14T16:45:59.303Z"
   },
   {
    "duration": 25,
    "start_time": "2024-10-14T16:52:01.339Z"
   },
   {
    "duration": 28,
    "start_time": "2024-10-14T16:53:25.142Z"
   },
   {
    "duration": 35,
    "start_time": "2024-10-14T16:53:38.429Z"
   },
   {
    "duration": 27,
    "start_time": "2024-10-14T16:55:22.216Z"
   },
   {
    "duration": 27,
    "start_time": "2024-10-14T16:56:05.090Z"
   },
   {
    "duration": 26,
    "start_time": "2024-10-14T16:57:02.372Z"
   },
   {
    "duration": 28,
    "start_time": "2024-10-14T17:00:39.384Z"
   },
   {
    "duration": 25,
    "start_time": "2024-10-14T17:02:54.136Z"
   },
   {
    "duration": 25,
    "start_time": "2024-10-14T17:06:21.027Z"
   },
   {
    "duration": 33,
    "start_time": "2024-10-14T17:06:34.979Z"
   },
   {
    "duration": 32,
    "start_time": "2024-10-14T17:10:25.990Z"
   },
   {
    "duration": 24,
    "start_time": "2024-10-14T17:16:20.383Z"
   },
   {
    "duration": 23,
    "start_time": "2024-10-14T17:18:37.492Z"
   },
   {
    "duration": 21,
    "start_time": "2024-10-14T17:19:01.512Z"
   },
   {
    "duration": 21,
    "start_time": "2024-10-14T17:19:34.956Z"
   },
   {
    "duration": 24,
    "start_time": "2024-10-14T17:19:59.914Z"
   },
   {
    "duration": 24,
    "start_time": "2024-10-14T17:20:32.095Z"
   },
   {
    "duration": 833,
    "start_time": "2024-10-14T17:22:02.970Z"
   },
   {
    "duration": 55,
    "start_time": "2024-10-14T17:30:00.119Z"
   },
   {
    "duration": 28,
    "start_time": "2024-10-14T17:36:24.183Z"
   },
   {
    "duration": 40,
    "start_time": "2024-10-14T17:59:20.331Z"
   },
   {
    "duration": 578,
    "start_time": "2024-10-15T09:19:05.581Z"
   },
   {
    "duration": 121,
    "start_time": "2024-10-15T09:19:06.162Z"
   },
   {
    "duration": 2728,
    "start_time": "2024-10-15T09:19:06.284Z"
   },
   {
    "duration": 9,
    "start_time": "2024-10-15T09:19:09.014Z"
   },
   {
    "duration": 38,
    "start_time": "2024-10-15T09:19:09.025Z"
   },
   {
    "duration": 10,
    "start_time": "2024-10-15T09:19:09.065Z"
   },
   {
    "duration": 6,
    "start_time": "2024-10-15T09:19:09.076Z"
   },
   {
    "duration": 28,
    "start_time": "2024-10-15T09:19:09.084Z"
   },
   {
    "duration": 20,
    "start_time": "2024-10-15T09:19:09.114Z"
   },
   {
    "duration": 33,
    "start_time": "2024-10-15T09:19:09.136Z"
   },
   {
    "duration": 298,
    "start_time": "2024-10-15T09:19:09.171Z"
   },
   {
    "duration": 402,
    "start_time": "2024-10-15T09:19:09.471Z"
   },
   {
    "duration": 10,
    "start_time": "2024-10-15T09:19:09.875Z"
   },
   {
    "duration": 173,
    "start_time": "2024-10-15T09:19:09.891Z"
   },
   {
    "duration": 177,
    "start_time": "2024-10-15T09:19:10.066Z"
   },
   {
    "duration": 17,
    "start_time": "2024-10-15T09:19:10.245Z"
   },
   {
    "duration": 237,
    "start_time": "2024-10-15T09:19:10.264Z"
   },
   {
    "duration": 10,
    "start_time": "2024-10-15T09:19:10.503Z"
   },
   {
    "duration": 222,
    "start_time": "2024-10-15T09:19:10.515Z"
   },
   {
    "duration": 156,
    "start_time": "2024-10-15T09:19:10.738Z"
   },
   {
    "duration": 13,
    "start_time": "2024-10-15T09:19:10.896Z"
   },
   {
    "duration": 196,
    "start_time": "2024-10-15T09:19:10.911Z"
   },
   {
    "duration": 224,
    "start_time": "2024-10-15T09:19:11.108Z"
   },
   {
    "duration": 21,
    "start_time": "2024-10-15T09:19:11.334Z"
   },
   {
    "duration": 191,
    "start_time": "2024-10-15T09:19:11.364Z"
   },
   {
    "duration": 10,
    "start_time": "2024-10-15T09:19:11.557Z"
   },
   {
    "duration": 189,
    "start_time": "2024-10-15T09:19:11.569Z"
   },
   {
    "duration": 11,
    "start_time": "2024-10-15T09:19:11.761Z"
   },
   {
    "duration": 258,
    "start_time": "2024-10-15T09:19:11.774Z"
   },
   {
    "duration": 11,
    "start_time": "2024-10-15T09:19:12.033Z"
   },
   {
    "duration": 218,
    "start_time": "2024-10-15T09:19:12.046Z"
   },
   {
    "duration": 9,
    "start_time": "2024-10-15T09:19:12.266Z"
   },
   {
    "duration": 270,
    "start_time": "2024-10-15T09:19:12.277Z"
   },
   {
    "duration": 12,
    "start_time": "2024-10-15T09:19:12.555Z"
   },
   {
    "duration": 162,
    "start_time": "2024-10-15T09:19:12.569Z"
   },
   {
    "duration": 21,
    "start_time": "2024-10-15T09:19:12.735Z"
   },
   {
    "duration": 152,
    "start_time": "2024-10-15T09:19:12.758Z"
   },
   {
    "duration": 310,
    "start_time": "2024-10-15T09:19:12.912Z"
   },
   {
    "duration": 10,
    "start_time": "2024-10-15T09:19:13.224Z"
   },
   {
    "duration": 23,
    "start_time": "2024-10-15T09:19:13.236Z"
   },
   {
    "duration": 199,
    "start_time": "2024-10-15T09:19:13.264Z"
   },
   {
    "duration": 5,
    "start_time": "2024-10-15T09:19:13.465Z"
   },
   {
    "duration": 185,
    "start_time": "2024-10-15T09:19:13.472Z"
   },
   {
    "duration": 7,
    "start_time": "2024-10-15T09:19:13.659Z"
   },
   {
    "duration": 167,
    "start_time": "2024-10-15T09:19:13.668Z"
   },
   {
    "duration": 7,
    "start_time": "2024-10-15T09:19:13.837Z"
   },
   {
    "duration": 177,
    "start_time": "2024-10-15T09:19:13.856Z"
   },
   {
    "duration": 137,
    "start_time": "2024-10-15T09:19:14.035Z"
   },
   {
    "duration": 7,
    "start_time": "2024-10-15T09:19:14.174Z"
   },
   {
    "duration": 199,
    "start_time": "2024-10-15T09:19:14.183Z"
   },
   {
    "duration": 7,
    "start_time": "2024-10-15T09:19:14.384Z"
   },
   {
    "duration": 194,
    "start_time": "2024-10-15T09:19:14.393Z"
   },
   {
    "duration": 7,
    "start_time": "2024-10-15T09:19:14.589Z"
   },
   {
    "duration": 200,
    "start_time": "2024-10-15T09:19:14.598Z"
   },
   {
    "duration": 28,
    "start_time": "2024-10-15T09:19:14.800Z"
   },
   {
    "duration": 58,
    "start_time": "2024-10-15T09:19:14.830Z"
   },
   {
    "duration": 37,
    "start_time": "2024-10-15T09:33:20.986Z"
   },
   {
    "duration": 27,
    "start_time": "2024-10-15T09:34:22.500Z"
   },
   {
    "duration": 46,
    "start_time": "2024-10-15T09:37:47.365Z"
   },
   {
    "duration": 22,
    "start_time": "2024-10-15T09:45:13.791Z"
   },
   {
    "duration": 250,
    "start_time": "2024-10-15T09:45:23.474Z"
   },
   {
    "duration": 210,
    "start_time": "2024-10-15T09:45:40.400Z"
   },
   {
    "duration": 212,
    "start_time": "2024-10-15T09:45:59.720Z"
   },
   {
    "duration": 185,
    "start_time": "2024-10-15T09:47:28.758Z"
   },
   {
    "duration": 246,
    "start_time": "2024-10-15T09:48:25.546Z"
   },
   {
    "duration": 41,
    "start_time": "2024-10-15T09:56:12.821Z"
   },
   {
    "duration": 194,
    "start_time": "2024-10-15T09:57:14.426Z"
   },
   {
    "duration": 226,
    "start_time": "2024-10-15T10:01:58.479Z"
   },
   {
    "duration": 226,
    "start_time": "2024-10-15T10:06:30.618Z"
   },
   {
    "duration": 417,
    "start_time": "2024-10-15T10:07:07.476Z"
   },
   {
    "duration": 206,
    "start_time": "2024-10-15T10:07:36.346Z"
   },
   {
    "duration": 233,
    "start_time": "2024-10-15T10:17:17.376Z"
   },
   {
    "duration": 208,
    "start_time": "2024-10-15T10:17:57.674Z"
   },
   {
    "duration": 200,
    "start_time": "2024-10-15T10:18:44.930Z"
   },
   {
    "duration": 218,
    "start_time": "2024-10-15T10:19:03.151Z"
   },
   {
    "duration": 93,
    "start_time": "2024-10-15T10:22:32.011Z"
   },
   {
    "duration": 67,
    "start_time": "2024-10-15T10:22:46.103Z"
   },
   {
    "duration": 893,
    "start_time": "2024-10-15T10:31:09.184Z"
   },
   {
    "duration": 748,
    "start_time": "2024-10-15T11:59:44.715Z"
   },
   {
    "duration": 97,
    "start_time": "2024-10-15T11:59:45.465Z"
   },
   {
    "duration": 2509,
    "start_time": "2024-10-15T11:59:45.564Z"
   },
   {
    "duration": 7,
    "start_time": "2024-10-15T11:59:48.075Z"
   },
   {
    "duration": 12,
    "start_time": "2024-10-15T11:59:48.084Z"
   },
   {
    "duration": 10,
    "start_time": "2024-10-15T11:59:48.097Z"
   },
   {
    "duration": 14,
    "start_time": "2024-10-15T11:59:48.108Z"
   },
   {
    "duration": 13,
    "start_time": "2024-10-15T11:59:48.123Z"
   },
   {
    "duration": 74,
    "start_time": "2024-10-15T11:59:48.138Z"
   },
   {
    "duration": 26,
    "start_time": "2024-10-15T11:59:48.214Z"
   },
   {
    "duration": 279,
    "start_time": "2024-10-15T11:59:48.242Z"
   },
   {
    "duration": 344,
    "start_time": "2024-10-15T11:59:48.522Z"
   },
   {
    "duration": 9,
    "start_time": "2024-10-15T11:59:48.867Z"
   },
   {
    "duration": 224,
    "start_time": "2024-10-15T11:59:48.878Z"
   },
   {
    "duration": 155,
    "start_time": "2024-10-15T11:59:49.104Z"
   },
   {
    "duration": 9,
    "start_time": "2024-10-15T11:59:49.260Z"
   },
   {
    "duration": 206,
    "start_time": "2024-10-15T11:59:49.271Z"
   },
   {
    "duration": 11,
    "start_time": "2024-10-15T11:59:49.479Z"
   },
   {
    "duration": 160,
    "start_time": "2024-10-15T11:59:49.492Z"
   },
   {
    "duration": 147,
    "start_time": "2024-10-15T11:59:49.653Z"
   },
   {
    "duration": 9,
    "start_time": "2024-10-15T11:59:49.801Z"
   },
   {
    "duration": 219,
    "start_time": "2024-10-15T11:59:49.821Z"
   },
   {
    "duration": 165,
    "start_time": "2024-10-15T11:59:50.042Z"
   },
   {
    "duration": 12,
    "start_time": "2024-10-15T11:59:50.209Z"
   },
   {
    "duration": 155,
    "start_time": "2024-10-15T11:59:50.223Z"
   },
   {
    "duration": 9,
    "start_time": "2024-10-15T11:59:50.380Z"
   },
   {
    "duration": 163,
    "start_time": "2024-10-15T11:59:50.391Z"
   },
   {
    "duration": 7,
    "start_time": "2024-10-15T11:59:50.556Z"
   },
   {
    "duration": 176,
    "start_time": "2024-10-15T11:59:50.564Z"
   },
   {
    "duration": 12,
    "start_time": "2024-10-15T11:59:50.742Z"
   },
   {
    "duration": 150,
    "start_time": "2024-10-15T11:59:50.756Z"
   },
   {
    "duration": 14,
    "start_time": "2024-10-15T11:59:50.907Z"
   },
   {
    "duration": 176,
    "start_time": "2024-10-15T11:59:50.922Z"
   },
   {
    "duration": 10,
    "start_time": "2024-10-15T11:59:51.100Z"
   },
   {
    "duration": 139,
    "start_time": "2024-10-15T11:59:51.122Z"
   },
   {
    "duration": 9,
    "start_time": "2024-10-15T11:59:51.262Z"
   },
   {
    "duration": 140,
    "start_time": "2024-10-15T11:59:51.273Z"
   },
   {
    "duration": 250,
    "start_time": "2024-10-15T11:59:51.420Z"
   },
   {
    "duration": 8,
    "start_time": "2024-10-15T11:59:51.672Z"
   },
   {
    "duration": 8,
    "start_time": "2024-10-15T11:59:51.682Z"
   },
   {
    "duration": 164,
    "start_time": "2024-10-15T11:59:51.694Z"
   },
   {
    "duration": 6,
    "start_time": "2024-10-15T11:59:51.859Z"
   },
   {
    "duration": 196,
    "start_time": "2024-10-15T11:59:51.866Z"
   },
   {
    "duration": 7,
    "start_time": "2024-10-15T11:59:52.064Z"
   },
   {
    "duration": 163,
    "start_time": "2024-10-15T11:59:52.073Z"
   },
   {
    "duration": 5,
    "start_time": "2024-10-15T11:59:52.237Z"
   },
   {
    "duration": 170,
    "start_time": "2024-10-15T11:59:52.243Z"
   },
   {
    "duration": 123,
    "start_time": "2024-10-15T11:59:52.415Z"
   },
   {
    "duration": 5,
    "start_time": "2024-10-15T11:59:52.540Z"
   },
   {
    "duration": 154,
    "start_time": "2024-10-15T11:59:52.547Z"
   },
   {
    "duration": 5,
    "start_time": "2024-10-15T11:59:52.703Z"
   },
   {
    "duration": 166,
    "start_time": "2024-10-15T11:59:52.710Z"
   },
   {
    "duration": 6,
    "start_time": "2024-10-15T11:59:52.877Z"
   },
   {
    "duration": 191,
    "start_time": "2024-10-15T11:59:52.884Z"
   },
   {
    "duration": 23,
    "start_time": "2024-10-15T11:59:53.077Z"
   },
   {
    "duration": 196,
    "start_time": "2024-10-15T11:59:53.101Z"
   },
   {
    "duration": 172,
    "start_time": "2024-10-15T12:01:59.364Z"
   },
   {
    "duration": 176,
    "start_time": "2024-10-15T12:02:52.222Z"
   },
   {
    "duration": 159,
    "start_time": "2024-10-15T12:03:15.854Z"
   },
   {
    "duration": 182,
    "start_time": "2024-10-15T12:06:42.903Z"
   },
   {
    "duration": 181,
    "start_time": "2024-10-15T12:07:16.909Z"
   },
   {
    "duration": 181,
    "start_time": "2024-10-15T12:08:35.144Z"
   },
   {
    "duration": 165,
    "start_time": "2024-10-15T12:08:54.690Z"
   },
   {
    "duration": 52,
    "start_time": "2024-10-15T12:09:39.947Z"
   },
   {
    "duration": 175,
    "start_time": "2024-10-15T12:10:00.744Z"
   },
   {
    "duration": 285,
    "start_time": "2024-10-15T12:10:09.261Z"
   },
   {
    "duration": 171,
    "start_time": "2024-10-15T12:10:18.972Z"
   },
   {
    "duration": 167,
    "start_time": "2024-10-15T12:10:36.904Z"
   },
   {
    "duration": 178,
    "start_time": "2024-10-15T12:13:28.149Z"
   },
   {
    "duration": 178,
    "start_time": "2024-10-15T12:13:56.965Z"
   },
   {
    "duration": 168,
    "start_time": "2024-10-15T12:14:31.841Z"
   },
   {
    "duration": 178,
    "start_time": "2024-10-15T12:14:51.924Z"
   },
   {
    "duration": 175,
    "start_time": "2024-10-15T12:15:13.632Z"
   },
   {
    "duration": 177,
    "start_time": "2024-10-15T12:17:47.484Z"
   },
   {
    "duration": 176,
    "start_time": "2024-10-15T12:18:04.293Z"
   },
   {
    "duration": 187,
    "start_time": "2024-10-15T12:19:37.138Z"
   },
   {
    "duration": 166,
    "start_time": "2024-10-15T12:21:16.544Z"
   },
   {
    "duration": 295,
    "start_time": "2024-10-15T12:21:28.032Z"
   },
   {
    "duration": 172,
    "start_time": "2024-10-15T12:22:33.785Z"
   },
   {
    "duration": 168,
    "start_time": "2024-10-15T12:23:32.611Z"
   },
   {
    "duration": 164,
    "start_time": "2024-10-15T12:23:54.549Z"
   },
   {
    "duration": 179,
    "start_time": "2024-10-15T12:24:18.258Z"
   },
   {
    "duration": 172,
    "start_time": "2024-10-15T12:26:17.733Z"
   },
   {
    "duration": 9,
    "start_time": "2024-10-15T12:50:04.413Z"
   },
   {
    "duration": 134,
    "start_time": "2024-10-15T13:27:09.214Z"
   },
   {
    "duration": 155,
    "start_time": "2024-10-15T13:39:55.864Z"
   },
   {
    "duration": 10,
    "start_time": "2024-10-15T13:44:54.552Z"
   },
   {
    "duration": 4,
    "start_time": "2024-10-15T13:44:58.252Z"
   },
   {
    "duration": 55,
    "start_time": "2024-10-15T13:45:07.232Z"
   },
   {
    "duration": 29,
    "start_time": "2024-10-15T13:55:27.352Z"
   },
   {
    "duration": 201,
    "start_time": "2024-10-15T15:06:31.874Z"
   },
   {
    "duration": 96,
    "start_time": "2024-10-15T15:42:39.556Z"
   },
   {
    "duration": 107,
    "start_time": "2024-10-15T15:42:39.654Z"
   },
   {
    "duration": 2029,
    "start_time": "2024-10-15T15:42:39.763Z"
   },
   {
    "duration": 6,
    "start_time": "2024-10-15T15:42:41.793Z"
   },
   {
    "duration": 25,
    "start_time": "2024-10-15T15:42:41.801Z"
   },
   {
    "duration": 9,
    "start_time": "2024-10-15T15:42:41.828Z"
   },
   {
    "duration": 6,
    "start_time": "2024-10-15T15:42:41.839Z"
   },
   {
    "duration": 9,
    "start_time": "2024-10-15T15:42:41.847Z"
   },
   {
    "duration": 9,
    "start_time": "2024-10-15T15:42:41.858Z"
   },
   {
    "duration": 22,
    "start_time": "2024-10-15T15:42:41.868Z"
   },
   {
    "duration": 273,
    "start_time": "2024-10-15T15:42:41.891Z"
   },
   {
    "duration": 314,
    "start_time": "2024-10-15T15:42:42.166Z"
   },
   {
    "duration": 7,
    "start_time": "2024-10-15T15:42:42.482Z"
   },
   {
    "duration": 143,
    "start_time": "2024-10-15T15:42:42.492Z"
   },
   {
    "duration": 150,
    "start_time": "2024-10-15T15:42:42.636Z"
   },
   {
    "duration": 9,
    "start_time": "2024-10-15T15:42:42.787Z"
   },
   {
    "duration": 146,
    "start_time": "2024-10-15T15:42:42.797Z"
   },
   {
    "duration": 9,
    "start_time": "2024-10-15T15:42:42.944Z"
   },
   {
    "duration": 146,
    "start_time": "2024-10-15T15:42:42.955Z"
   },
   {
    "duration": 149,
    "start_time": "2024-10-15T15:42:43.102Z"
   },
   {
    "duration": 9,
    "start_time": "2024-10-15T15:42:43.253Z"
   },
   {
    "duration": 152,
    "start_time": "2024-10-15T15:42:43.263Z"
   },
   {
    "duration": 153,
    "start_time": "2024-10-15T15:42:43.420Z"
   },
   {
    "duration": 8,
    "start_time": "2024-10-15T15:42:43.574Z"
   },
   {
    "duration": 164,
    "start_time": "2024-10-15T15:42:43.584Z"
   },
   {
    "duration": 9,
    "start_time": "2024-10-15T15:42:43.749Z"
   },
   {
    "duration": 162,
    "start_time": "2024-10-15T15:42:43.760Z"
   },
   {
    "duration": 7,
    "start_time": "2024-10-15T15:42:43.924Z"
   },
   {
    "duration": 225,
    "start_time": "2024-10-15T15:42:43.932Z"
   },
   {
    "duration": 11,
    "start_time": "2024-10-15T15:42:44.158Z"
   },
   {
    "duration": 137,
    "start_time": "2024-10-15T15:42:44.171Z"
   },
   {
    "duration": 18,
    "start_time": "2024-10-15T15:42:44.310Z"
   },
   {
    "duration": 166,
    "start_time": "2024-10-15T15:42:44.330Z"
   },
   {
    "duration": 10,
    "start_time": "2024-10-15T15:42:44.497Z"
   },
   {
    "duration": 146,
    "start_time": "2024-10-15T15:42:44.509Z"
   },
   {
    "duration": 9,
    "start_time": "2024-10-15T15:42:44.657Z"
   },
   {
    "duration": 141,
    "start_time": "2024-10-15T15:42:44.668Z"
   },
   {
    "duration": 171,
    "start_time": "2024-10-15T15:42:44.811Z"
   },
   {
    "duration": 10,
    "start_time": "2024-10-15T15:42:44.984Z"
   },
   {
    "duration": 54,
    "start_time": "2024-10-15T15:42:44.996Z"
   },
   {
    "duration": 159,
    "start_time": "2024-10-15T15:42:45.055Z"
   },
   {
    "duration": 7,
    "start_time": "2024-10-15T15:42:45.216Z"
   },
   {
    "duration": 164,
    "start_time": "2024-10-15T15:42:45.224Z"
   },
   {
    "duration": 6,
    "start_time": "2024-10-15T15:42:45.390Z"
   },
   {
    "duration": 209,
    "start_time": "2024-10-15T15:42:45.398Z"
   },
   {
    "duration": 14,
    "start_time": "2024-10-15T15:42:45.609Z"
   },
   {
    "duration": 153,
    "start_time": "2024-10-15T15:42:45.625Z"
   },
   {
    "duration": 321,
    "start_time": "2024-10-15T15:42:45.779Z"
   },
   {
    "duration": 5,
    "start_time": "2024-10-15T15:42:46.102Z"
   },
   {
    "duration": 168,
    "start_time": "2024-10-15T15:42:46.109Z"
   },
   {
    "duration": 5,
    "start_time": "2024-10-15T15:42:46.278Z"
   },
   {
    "duration": 156,
    "start_time": "2024-10-15T15:42:46.285Z"
   },
   {
    "duration": 6,
    "start_time": "2024-10-15T15:42:46.442Z"
   },
   {
    "duration": 178,
    "start_time": "2024-10-15T15:42:46.449Z"
   },
   {
    "duration": 22,
    "start_time": "2024-10-15T15:42:46.629Z"
   },
   {
    "duration": 189,
    "start_time": "2024-10-15T15:42:46.653Z"
   },
   {
    "duration": 515,
    "start_time": "2024-10-15T20:52:03.537Z"
   },
   {
    "duration": 87,
    "start_time": "2024-10-15T20:52:04.054Z"
   },
   {
    "duration": 1978,
    "start_time": "2024-10-15T20:52:04.142Z"
   },
   {
    "duration": 7,
    "start_time": "2024-10-15T20:52:06.122Z"
   },
   {
    "duration": 59,
    "start_time": "2024-10-15T20:52:06.131Z"
   },
   {
    "duration": 28,
    "start_time": "2024-10-15T20:52:06.192Z"
   },
   {
    "duration": 19,
    "start_time": "2024-10-15T20:52:06.222Z"
   },
   {
    "duration": 41,
    "start_time": "2024-10-15T20:52:06.243Z"
   },
   {
    "duration": 31,
    "start_time": "2024-10-15T20:52:06.286Z"
   },
   {
    "duration": 40,
    "start_time": "2024-10-15T20:52:06.319Z"
   },
   {
    "duration": 248,
    "start_time": "2024-10-15T20:52:06.361Z"
   },
   {
    "duration": 325,
    "start_time": "2024-10-15T20:52:06.610Z"
   },
   {
    "duration": 8,
    "start_time": "2024-10-15T20:52:06.937Z"
   },
   {
    "duration": 152,
    "start_time": "2024-10-15T20:52:06.948Z"
   },
   {
    "duration": 150,
    "start_time": "2024-10-15T20:52:07.102Z"
   },
   {
    "duration": 8,
    "start_time": "2024-10-15T20:52:07.254Z"
   },
   {
    "duration": 133,
    "start_time": "2024-10-15T20:52:07.263Z"
   },
   {
    "duration": 10,
    "start_time": "2024-10-15T20:52:07.397Z"
   },
   {
    "duration": 233,
    "start_time": "2024-10-15T20:52:07.409Z"
   },
   {
    "duration": 130,
    "start_time": "2024-10-15T20:52:07.643Z"
   },
   {
    "duration": 8,
    "start_time": "2024-10-15T20:52:07.774Z"
   },
   {
    "duration": 223,
    "start_time": "2024-10-15T20:52:07.784Z"
   },
   {
    "duration": 151,
    "start_time": "2024-10-15T20:52:08.008Z"
   },
   {
    "duration": 7,
    "start_time": "2024-10-15T20:52:08.160Z"
   },
   {
    "duration": 136,
    "start_time": "2024-10-15T20:52:08.168Z"
   },
   {
    "duration": 8,
    "start_time": "2024-10-15T20:52:08.306Z"
   },
   {
    "duration": 140,
    "start_time": "2024-10-15T20:52:08.315Z"
   },
   {
    "duration": 7,
    "start_time": "2024-10-15T20:52:08.456Z"
   },
   {
    "duration": 138,
    "start_time": "2024-10-15T20:52:08.464Z"
   },
   {
    "duration": 10,
    "start_time": "2024-10-15T20:52:08.603Z"
   },
   {
    "duration": 129,
    "start_time": "2024-10-15T20:52:08.615Z"
   },
   {
    "duration": 8,
    "start_time": "2024-10-15T20:52:08.745Z"
   },
   {
    "duration": 149,
    "start_time": "2024-10-15T20:52:08.754Z"
   },
   {
    "duration": 8,
    "start_time": "2024-10-15T20:52:08.906Z"
   },
   {
    "duration": 177,
    "start_time": "2024-10-15T20:52:08.915Z"
   },
   {
    "duration": 13,
    "start_time": "2024-10-15T20:52:09.094Z"
   },
   {
    "duration": 112,
    "start_time": "2024-10-15T20:52:09.109Z"
   },
   {
    "duration": 154,
    "start_time": "2024-10-15T20:52:09.223Z"
   },
   {
    "duration": 10,
    "start_time": "2024-10-15T20:52:09.378Z"
   },
   {
    "duration": 157,
    "start_time": "2024-10-15T20:52:09.389Z"
   },
   {
    "duration": 203,
    "start_time": "2024-10-15T20:52:09.550Z"
   },
   {
    "duration": 5,
    "start_time": "2024-10-15T20:52:09.755Z"
   },
   {
    "duration": 240,
    "start_time": "2024-10-15T20:52:09.761Z"
   },
   {
    "duration": 7,
    "start_time": "2024-10-15T20:52:10.003Z"
   },
   {
    "duration": 139,
    "start_time": "2024-10-15T20:52:10.012Z"
   },
   {
    "duration": 6,
    "start_time": "2024-10-15T20:52:10.152Z"
   },
   {
    "duration": 138,
    "start_time": "2024-10-15T20:52:10.159Z"
   },
   {
    "duration": 109,
    "start_time": "2024-10-15T20:52:10.298Z"
   },
   {
    "duration": 6,
    "start_time": "2024-10-15T20:52:10.408Z"
   },
   {
    "duration": 245,
    "start_time": "2024-10-15T20:52:10.415Z"
   },
   {
    "duration": 5,
    "start_time": "2024-10-15T20:52:10.661Z"
   },
   {
    "duration": 145,
    "start_time": "2024-10-15T20:52:10.667Z"
   },
   {
    "duration": 5,
    "start_time": "2024-10-15T20:52:10.813Z"
   },
   {
    "duration": 145,
    "start_time": "2024-10-15T20:52:10.820Z"
   },
   {
    "duration": 21,
    "start_time": "2024-10-15T20:52:10.966Z"
   },
   {
    "duration": 181,
    "start_time": "2024-10-15T20:52:10.989Z"
   },
   {
    "duration": 81,
    "start_time": "2024-10-15T21:01:47.067Z"
   },
   {
    "duration": 98,
    "start_time": "2024-10-15T21:01:47.150Z"
   },
   {
    "duration": 1681,
    "start_time": "2024-10-15T21:01:47.250Z"
   },
   {
    "duration": 7,
    "start_time": "2024-10-15T21:01:48.932Z"
   },
   {
    "duration": 62,
    "start_time": "2024-10-15T21:01:48.943Z"
   },
   {
    "duration": 24,
    "start_time": "2024-10-15T21:01:49.006Z"
   },
   {
    "duration": 11,
    "start_time": "2024-10-15T21:01:49.031Z"
   },
   {
    "duration": 8,
    "start_time": "2024-10-15T21:01:49.043Z"
   },
   {
    "duration": 4,
    "start_time": "2024-10-15T21:01:49.053Z"
   },
   {
    "duration": 32,
    "start_time": "2024-10-15T21:01:49.058Z"
   },
   {
    "duration": 271,
    "start_time": "2024-10-15T21:01:49.092Z"
   },
   {
    "duration": 330,
    "start_time": "2024-10-15T21:01:49.365Z"
   },
   {
    "duration": 10,
    "start_time": "2024-10-15T21:01:49.697Z"
   },
   {
    "duration": 135,
    "start_time": "2024-10-15T21:01:49.710Z"
   },
   {
    "duration": 135,
    "start_time": "2024-10-15T21:01:49.847Z"
   },
   {
    "duration": 8,
    "start_time": "2024-10-15T21:01:49.984Z"
   },
   {
    "duration": 121,
    "start_time": "2024-10-15T21:01:49.993Z"
   },
   {
    "duration": 8,
    "start_time": "2024-10-15T21:01:50.115Z"
   },
   {
    "duration": 129,
    "start_time": "2024-10-15T21:01:50.125Z"
   },
   {
    "duration": 225,
    "start_time": "2024-10-15T21:01:50.255Z"
   },
   {
    "duration": 8,
    "start_time": "2024-10-15T21:01:50.481Z"
   },
   {
    "duration": 176,
    "start_time": "2024-10-15T21:01:50.490Z"
   },
   {
    "duration": 146,
    "start_time": "2024-10-15T21:01:50.668Z"
   },
   {
    "duration": 7,
    "start_time": "2024-10-15T21:01:50.815Z"
   },
   {
    "duration": 201,
    "start_time": "2024-10-15T21:01:50.824Z"
   },
   {
    "duration": 8,
    "start_time": "2024-10-15T21:01:51.027Z"
   },
   {
    "duration": 145,
    "start_time": "2024-10-15T21:01:51.036Z"
   },
   {
    "duration": 8,
    "start_time": "2024-10-15T21:01:51.183Z"
   },
   {
    "duration": 168,
    "start_time": "2024-10-15T21:01:51.193Z"
   },
   {
    "duration": 11,
    "start_time": "2024-10-15T21:01:51.363Z"
   },
   {
    "duration": 292,
    "start_time": "2024-10-15T21:01:51.375Z"
   },
   {
    "duration": 8,
    "start_time": "2024-10-15T21:01:51.669Z"
   },
   {
    "duration": 150,
    "start_time": "2024-10-15T21:01:51.678Z"
   },
   {
    "duration": 8,
    "start_time": "2024-10-15T21:01:51.830Z"
   },
   {
    "duration": 179,
    "start_time": "2024-10-15T21:01:51.840Z"
   },
   {
    "duration": 8,
    "start_time": "2024-10-15T21:01:52.021Z"
   },
   {
    "duration": 114,
    "start_time": "2024-10-15T21:01:52.031Z"
   },
   {
    "duration": 142,
    "start_time": "2024-10-15T21:01:52.146Z"
   },
   {
    "duration": 18,
    "start_time": "2024-10-15T21:01:52.289Z"
   },
   {
    "duration": 39,
    "start_time": "2024-10-15T21:01:52.308Z"
   },
   {
    "duration": 185,
    "start_time": "2024-10-15T21:01:52.351Z"
   },
   {
    "duration": 6,
    "start_time": "2024-10-15T21:01:52.537Z"
   },
   {
    "duration": 170,
    "start_time": "2024-10-15T21:01:52.545Z"
   },
   {
    "duration": 5,
    "start_time": "2024-10-15T21:01:52.717Z"
   },
   {
    "duration": 133,
    "start_time": "2024-10-15T21:01:52.724Z"
   },
   {
    "duration": 4,
    "start_time": "2024-10-15T21:01:52.859Z"
   },
   {
    "duration": 142,
    "start_time": "2024-10-15T21:01:52.865Z"
   },
   {
    "duration": 116,
    "start_time": "2024-10-15T21:01:53.009Z"
   },
   {
    "duration": 7,
    "start_time": "2024-10-15T21:01:53.126Z"
   },
   {
    "duration": 187,
    "start_time": "2024-10-15T21:01:53.135Z"
   },
   {
    "duration": 5,
    "start_time": "2024-10-15T21:01:53.324Z"
   },
   {
    "duration": 292,
    "start_time": "2024-10-15T21:01:53.331Z"
   },
   {
    "duration": 12,
    "start_time": "2024-10-15T21:01:53.625Z"
   },
   {
    "duration": 132,
    "start_time": "2024-10-15T21:01:53.639Z"
   },
   {
    "duration": 21,
    "start_time": "2024-10-15T21:01:53.773Z"
   },
   {
    "duration": 172,
    "start_time": "2024-10-15T21:01:53.795Z"
   },
   {
    "duration": 50,
    "start_time": "2024-10-18T09:33:41.489Z"
   },
   {
    "duration": 756,
    "start_time": "2024-10-18T09:33:56.381Z"
   },
   {
    "duration": 106,
    "start_time": "2024-10-18T09:33:57.139Z"
   },
   {
    "duration": 2403,
    "start_time": "2024-10-18T09:33:57.247Z"
   },
   {
    "duration": 8,
    "start_time": "2024-10-18T09:33:59.663Z"
   },
   {
    "duration": 8,
    "start_time": "2024-10-18T10:01:27.446Z"
   },
   {
    "duration": 6,
    "start_time": "2024-10-18T10:01:40.223Z"
   },
   {
    "duration": 754,
    "start_time": "2024-10-18T10:02:03.611Z"
   },
   {
    "duration": 7,
    "start_time": "2024-10-18T10:02:37.006Z"
   },
   {
    "duration": 7,
    "start_time": "2024-10-18T10:12:05.864Z"
   },
   {
    "duration": 7,
    "start_time": "2024-10-18T10:12:19.328Z"
   },
   {
    "duration": 148,
    "start_time": "2024-10-18T10:22:16.502Z"
   },
   {
    "duration": 61,
    "start_time": "2024-10-18T10:22:31.699Z"
   },
   {
    "duration": 55,
    "start_time": "2024-10-18T10:22:41.054Z"
   },
   {
    "duration": 60,
    "start_time": "2024-10-18T10:25:01.774Z"
   },
   {
    "duration": 57,
    "start_time": "2024-10-18T10:25:10.930Z"
   },
   {
    "duration": 5,
    "start_time": "2024-10-18T10:27:40.092Z"
   },
   {
    "duration": 7,
    "start_time": "2024-10-18T10:28:00.085Z"
   },
   {
    "duration": 8,
    "start_time": "2024-10-18T10:28:21.597Z"
   },
   {
    "duration": 5,
    "start_time": "2024-10-18T10:28:51.321Z"
   },
   {
    "duration": 18,
    "start_time": "2024-10-18T10:30:19.638Z"
   },
   {
    "duration": 17,
    "start_time": "2024-10-18T10:30:31.987Z"
   },
   {
    "duration": 29,
    "start_time": "2024-10-18T10:30:40.907Z"
   },
   {
    "duration": 27,
    "start_time": "2024-10-18T10:31:44.500Z"
   },
   {
    "duration": 18,
    "start_time": "2024-10-18T10:31:52.228Z"
   },
   {
    "duration": 17,
    "start_time": "2024-10-18T10:32:00.258Z"
   },
   {
    "duration": 16,
    "start_time": "2024-10-18T10:32:04.932Z"
   },
   {
    "duration": 30,
    "start_time": "2024-10-18T10:37:47.652Z"
   },
   {
    "duration": 53,
    "start_time": "2024-10-18T10:39:07.161Z"
   },
   {
    "duration": 96,
    "start_time": "2024-10-18T10:40:05.577Z"
   },
   {
    "duration": 101,
    "start_time": "2024-10-18T10:40:05.675Z"
   },
   {
    "duration": 2020,
    "start_time": "2024-10-18T10:40:05.777Z"
   },
   {
    "duration": 57,
    "start_time": "2024-10-18T10:40:07.799Z"
   },
   {
    "duration": 55,
    "start_time": "2024-10-18T10:40:08.516Z"
   },
   {
    "duration": 55,
    "start_time": "2024-10-18T10:40:14.029Z"
   },
   {
    "duration": 54,
    "start_time": "2024-10-18T10:42:30.547Z"
   },
   {
    "duration": 30,
    "start_time": "2024-10-18T10:44:15.775Z"
   },
   {
    "duration": 55,
    "start_time": "2024-10-18T10:45:31.577Z"
   },
   {
    "duration": 56,
    "start_time": "2024-10-18T10:47:11.145Z"
   },
   {
    "duration": 60,
    "start_time": "2024-10-18T10:55:29.103Z"
   },
   {
    "duration": 92,
    "start_time": "2024-10-18T10:55:40.033Z"
   },
   {
    "duration": 109,
    "start_time": "2024-10-18T10:55:40.127Z"
   },
   {
    "duration": 2031,
    "start_time": "2024-10-18T10:55:40.237Z"
   },
   {
    "duration": 66,
    "start_time": "2024-10-18T10:55:42.269Z"
   },
   {
    "duration": 55,
    "start_time": "2024-10-18T10:55:44.306Z"
   },
   {
    "duration": 5,
    "start_time": "2024-10-18T10:57:19.961Z"
   },
   {
    "duration": 5,
    "start_time": "2024-10-18T10:57:31.569Z"
   },
   {
    "duration": 22,
    "start_time": "2024-10-18T10:58:45.278Z"
   },
   {
    "duration": 15,
    "start_time": "2024-10-18T10:58:52.384Z"
   },
   {
    "duration": 5,
    "start_time": "2024-10-18T11:00:25.072Z"
   },
   {
    "duration": 95,
    "start_time": "2024-10-18T11:00:43.154Z"
   },
   {
    "duration": 124,
    "start_time": "2024-10-18T11:00:45.933Z"
   },
   {
    "duration": 1980,
    "start_time": "2024-10-18T11:00:52.003Z"
   },
   {
    "duration": 6,
    "start_time": "2024-10-18T11:01:13.737Z"
   },
   {
    "duration": 5,
    "start_time": "2024-10-18T11:01:28.812Z"
   },
   {
    "duration": 4,
    "start_time": "2024-10-18T11:01:59.412Z"
   },
   {
    "duration": 54,
    "start_time": "2024-10-18T11:02:57.557Z"
   },
   {
    "duration": 825,
    "start_time": "2024-10-18T11:03:52.775Z"
   },
   {
    "duration": 8,
    "start_time": "2024-10-18T11:03:59.224Z"
   },
   {
    "duration": 5,
    "start_time": "2024-10-18T11:04:16.429Z"
   },
   {
    "duration": 5,
    "start_time": "2024-10-18T11:04:45.781Z"
   },
   {
    "duration": 93,
    "start_time": "2024-10-18T11:04:53.577Z"
   },
   {
    "duration": 126,
    "start_time": "2024-10-18T11:04:53.672Z"
   },
   {
    "duration": 1941,
    "start_time": "2024-10-18T11:04:53.800Z"
   },
   {
    "duration": 65,
    "start_time": "2024-10-18T11:04:55.743Z"
   },
   {
    "duration": 5,
    "start_time": "2024-10-18T11:04:55.810Z"
   },
   {
    "duration": 20,
    "start_time": "2024-10-18T11:04:55.816Z"
   },
   {
    "duration": 11,
    "start_time": "2024-10-18T11:04:55.838Z"
   },
   {
    "duration": 12,
    "start_time": "2024-10-18T11:04:55.850Z"
   },
   {
    "duration": 7,
    "start_time": "2024-10-18T11:04:55.863Z"
   },
   {
    "duration": 30,
    "start_time": "2024-10-18T11:04:55.871Z"
   },
   {
    "duration": 15,
    "start_time": "2024-10-18T11:04:55.903Z"
   },
   {
    "duration": 27,
    "start_time": "2024-10-18T11:04:55.919Z"
   },
   {
    "duration": 263,
    "start_time": "2024-10-18T11:04:55.948Z"
   },
   {
    "duration": 498,
    "start_time": "2024-10-18T11:04:56.215Z"
   },
   {
    "duration": 9,
    "start_time": "2024-10-18T11:04:56.714Z"
   },
   {
    "duration": 173,
    "start_time": "2024-10-18T11:04:56.725Z"
   },
   {
    "duration": 160,
    "start_time": "2024-10-18T11:04:56.899Z"
   },
   {
    "duration": 9,
    "start_time": "2024-10-18T11:04:57.060Z"
   },
   {
    "duration": 162,
    "start_time": "2024-10-18T11:04:57.070Z"
   },
   {
    "duration": 9,
    "start_time": "2024-10-18T11:04:57.234Z"
   },
   {
    "duration": 162,
    "start_time": "2024-10-18T11:04:57.244Z"
   },
   {
    "duration": 162,
    "start_time": "2024-10-18T11:04:57.407Z"
   },
   {
    "duration": 10,
    "start_time": "2024-10-18T11:04:57.570Z"
   },
   {
    "duration": 154,
    "start_time": "2024-10-18T11:04:57.581Z"
   },
   {
    "duration": 171,
    "start_time": "2024-10-18T11:04:57.737Z"
   },
   {
    "duration": 9,
    "start_time": "2024-10-18T11:04:57.910Z"
   },
   {
    "duration": 155,
    "start_time": "2024-10-18T11:04:57.920Z"
   },
   {
    "duration": 9,
    "start_time": "2024-10-18T11:04:58.076Z"
   },
   {
    "duration": 137,
    "start_time": "2024-10-18T11:04:58.097Z"
   },
   {
    "duration": 7,
    "start_time": "2024-10-18T11:04:58.236Z"
   },
   {
    "duration": 203,
    "start_time": "2024-10-18T11:04:58.245Z"
   },
   {
    "duration": 13,
    "start_time": "2024-10-18T11:04:58.450Z"
   },
   {
    "duration": 150,
    "start_time": "2024-10-18T11:04:58.465Z"
   },
   {
    "duration": 10,
    "start_time": "2024-10-18T11:04:58.618Z"
   },
   {
    "duration": 188,
    "start_time": "2024-10-18T11:04:58.630Z"
   },
   {
    "duration": 10,
    "start_time": "2024-10-18T11:04:58.819Z"
   },
   {
    "duration": 173,
    "start_time": "2024-10-18T11:04:58.831Z"
   },
   {
    "duration": 12,
    "start_time": "2024-10-18T11:04:59.006Z"
   },
   {
    "duration": 260,
    "start_time": "2024-10-18T11:04:59.019Z"
   },
   {
    "duration": 151,
    "start_time": "2024-10-18T11:04:59.280Z"
   },
   {
    "duration": 10,
    "start_time": "2024-10-18T11:04:59.436Z"
   },
   {
    "duration": 74,
    "start_time": "2024-10-18T11:04:59.448Z"
   },
   {
    "duration": 150,
    "start_time": "2024-10-18T11:04:59.523Z"
   },
   {
    "duration": 6,
    "start_time": "2024-10-18T11:04:59.675Z"
   },
   {
    "duration": 175,
    "start_time": "2024-10-18T11:04:59.697Z"
   },
   {
    "duration": 6,
    "start_time": "2024-10-18T11:04:59.874Z"
   },
   {
    "duration": 194,
    "start_time": "2024-10-18T11:04:59.882Z"
   },
   {
    "duration": 6,
    "start_time": "2024-10-18T11:05:00.077Z"
   },
   {
    "duration": 209,
    "start_time": "2024-10-18T11:05:00.085Z"
   },
   {
    "duration": 126,
    "start_time": "2024-10-18T11:05:00.297Z"
   },
   {
    "duration": 6,
    "start_time": "2024-10-18T11:05:00.425Z"
   },
   {
    "duration": 221,
    "start_time": "2024-10-18T11:05:00.432Z"
   },
   {
    "duration": 6,
    "start_time": "2024-10-18T11:05:00.654Z"
   },
   {
    "duration": 184,
    "start_time": "2024-10-18T11:05:00.661Z"
   },
   {
    "duration": 8,
    "start_time": "2024-10-18T11:05:00.847Z"
   },
   {
    "duration": 258,
    "start_time": "2024-10-18T11:05:00.856Z"
   },
   {
    "duration": 24,
    "start_time": "2024-10-18T11:05:01.116Z"
   },
   {
    "duration": 210,
    "start_time": "2024-10-18T11:05:01.142Z"
   },
   {
    "duration": 11,
    "start_time": "2024-10-18T11:05:30.821Z"
   },
   {
    "duration": 5,
    "start_time": "2024-10-18T11:05:35.453Z"
   },
   {
    "duration": 6,
    "start_time": "2024-10-18T11:05:44.801Z"
   },
   {
    "duration": 5,
    "start_time": "2024-10-18T11:05:58.969Z"
   },
   {
    "duration": 54,
    "start_time": "2024-10-18T11:07:28.699Z"
   },
   {
    "duration": 5,
    "start_time": "2024-10-18T11:08:05.956Z"
   },
   {
    "duration": 131,
    "start_time": "2024-10-18T11:09:26.644Z"
   },
   {
    "duration": 2173,
    "start_time": "2024-10-18T11:09:31.725Z"
   },
   {
    "duration": 55,
    "start_time": "2024-10-18T11:09:39.238Z"
   },
   {
    "duration": 4,
    "start_time": "2024-10-18T11:09:42.854Z"
   },
   {
    "duration": 4,
    "start_time": "2024-10-18T11:09:49.191Z"
   },
   {
    "duration": 10,
    "start_time": "2024-10-18T11:13:21.304Z"
   },
   {
    "duration": 10,
    "start_time": "2024-10-18T11:13:54.068Z"
   },
   {
    "duration": 11,
    "start_time": "2024-10-18T11:14:02.665Z"
   },
   {
    "duration": 16,
    "start_time": "2024-10-18T11:14:10.350Z"
   },
   {
    "duration": 92,
    "start_time": "2024-10-18T11:14:33.978Z"
   },
   {
    "duration": 98,
    "start_time": "2024-10-18T11:15:08.644Z"
   },
   {
    "duration": 135,
    "start_time": "2024-10-18T11:15:13.617Z"
   },
   {
    "duration": 1957,
    "start_time": "2024-10-18T11:15:35.151Z"
   },
   {
    "duration": 5,
    "start_time": "2024-10-18T11:16:25.786Z"
   },
   {
    "duration": 5,
    "start_time": "2024-10-18T11:16:43.186Z"
   },
   {
    "duration": 30,
    "start_time": "2024-10-18T11:17:22.757Z"
   },
   {
    "duration": 5,
    "start_time": "2024-10-18T11:17:35.518Z"
   },
   {
    "duration": 42,
    "start_time": "2024-10-18T11:18:00.671Z"
   },
   {
    "duration": 5,
    "start_time": "2024-10-18T11:18:11.275Z"
   },
   {
    "duration": 801,
    "start_time": "2024-10-18T11:19:04.039Z"
   },
   {
    "duration": 7,
    "start_time": "2024-10-18T11:19:40.336Z"
   },
   {
    "duration": 10,
    "start_time": "2024-10-18T11:21:03.642Z"
   },
   {
    "duration": 28,
    "start_time": "2024-10-18T11:23:58.016Z"
   },
   {
    "duration": 31,
    "start_time": "2024-10-18T11:24:16.806Z"
   },
   {
    "duration": 48,
    "start_time": "2024-10-18T11:28:08.036Z"
   },
   {
    "duration": 31,
    "start_time": "2024-10-18T11:28:55.703Z"
   },
   {
    "duration": 29,
    "start_time": "2024-10-18T11:29:46.824Z"
   },
   {
    "duration": 33,
    "start_time": "2024-10-18T11:30:02.283Z"
   },
   {
    "duration": 5,
    "start_time": "2024-10-18T11:31:42.110Z"
   },
   {
    "duration": 7,
    "start_time": "2024-10-18T11:32:01.798Z"
   },
   {
    "duration": 33,
    "start_time": "2024-10-18T11:36:26.951Z"
   },
   {
    "duration": 15,
    "start_time": "2024-10-18T11:37:28.592Z"
   },
   {
    "duration": 21,
    "start_time": "2024-10-18T11:37:45.429Z"
   },
   {
    "duration": 19,
    "start_time": "2024-10-18T11:38:24.893Z"
   },
   {
    "duration": 12,
    "start_time": "2024-10-18T11:40:57.866Z"
   },
   {
    "duration": 26,
    "start_time": "2024-10-18T11:41:23.753Z"
   },
   {
    "duration": 29,
    "start_time": "2024-10-18T11:45:43.549Z"
   },
   {
    "duration": 28,
    "start_time": "2024-10-18T11:48:57.112Z"
   },
   {
    "duration": 95,
    "start_time": "2024-10-18T11:54:22.807Z"
   },
   {
    "duration": 108,
    "start_time": "2024-10-18T11:54:22.904Z"
   },
   {
    "duration": 2255,
    "start_time": "2024-10-18T11:54:23.014Z"
   },
   {
    "duration": 43,
    "start_time": "2024-10-18T11:54:25.271Z"
   },
   {
    "duration": 31,
    "start_time": "2024-10-18T11:54:25.315Z"
   },
   {
    "duration": 6,
    "start_time": "2024-10-18T11:54:25.354Z"
   },
   {
    "duration": 29,
    "start_time": "2024-10-18T11:54:30.302Z"
   },
   {
    "duration": 6,
    "start_time": "2024-10-18T11:56:07.831Z"
   },
   {
    "duration": 6,
    "start_time": "2024-10-18T11:58:46.516Z"
   },
   {
    "duration": 6,
    "start_time": "2024-10-18T11:59:08.792Z"
   },
   {
    "duration": 9,
    "start_time": "2024-10-18T12:04:02.662Z"
   },
   {
    "duration": 6,
    "start_time": "2024-10-18T12:04:07.911Z"
   },
   {
    "duration": 33,
    "start_time": "2024-10-18T12:05:05.494Z"
   },
   {
    "duration": 6,
    "start_time": "2024-10-18T12:05:09.775Z"
   },
   {
    "duration": 32,
    "start_time": "2024-10-18T12:07:11.081Z"
   },
   {
    "duration": 9,
    "start_time": "2024-10-18T12:09:35.997Z"
   },
   {
    "duration": 40,
    "start_time": "2024-10-18T12:09:42.958Z"
   },
   {
    "duration": 23,
    "start_time": "2024-10-18T12:11:47.815Z"
   },
   {
    "duration": 96,
    "start_time": "2024-10-18T12:26:24.100Z"
   },
   {
    "duration": 105,
    "start_time": "2024-10-18T12:26:24.198Z"
   },
   {
    "duration": 1882,
    "start_time": "2024-10-18T12:26:24.305Z"
   },
   {
    "duration": 40,
    "start_time": "2024-10-18T12:26:26.188Z"
   },
   {
    "duration": 29,
    "start_time": "2024-10-18T12:26:26.230Z"
   },
   {
    "duration": 6,
    "start_time": "2024-10-18T12:26:26.260Z"
   },
   {
    "duration": 32,
    "start_time": "2024-10-18T12:26:30.154Z"
   },
   {
    "duration": 15,
    "start_time": "2024-10-18T12:27:10.443Z"
   },
   {
    "duration": 67,
    "start_time": "2024-10-18T12:28:18.837Z"
   },
   {
    "duration": 65,
    "start_time": "2024-10-18T12:30:09.171Z"
   },
   {
    "duration": 10,
    "start_time": "2024-10-18T12:37:23.636Z"
   },
   {
    "duration": 12,
    "start_time": "2024-10-18T12:44:05.098Z"
   },
   {
    "duration": 61,
    "start_time": "2024-10-18T12:57:04.875Z"
   },
   {
    "duration": 55,
    "start_time": "2024-10-18T12:57:44.539Z"
   },
   {
    "duration": 66,
    "start_time": "2024-10-18T12:58:40.695Z"
   },
   {
    "duration": 52,
    "start_time": "2024-10-18T12:58:51.367Z"
   },
   {
    "duration": 30,
    "start_time": "2024-10-18T12:59:20.405Z"
   },
   {
    "duration": 26,
    "start_time": "2024-10-18T12:59:28.531Z"
   },
   {
    "duration": 4,
    "start_time": "2024-10-18T13:03:07.111Z"
   },
   {
    "duration": 25467,
    "start_time": "2024-10-18T13:03:18.792Z"
   },
   {
    "duration": 0,
    "start_time": "2024-10-18T13:08:57.292Z"
   },
   {
    "duration": 96,
    "start_time": "2024-10-18T13:09:00.809Z"
   },
   {
    "duration": 100,
    "start_time": "2024-10-18T13:09:00.907Z"
   },
   {
    "duration": 2434,
    "start_time": "2024-10-18T13:09:01.009Z"
   },
   {
    "duration": 29,
    "start_time": "2024-10-18T13:09:03.445Z"
   },
   {
    "duration": 46,
    "start_time": "2024-10-18T13:09:03.476Z"
   },
   {
    "duration": 6,
    "start_time": "2024-10-18T13:09:03.524Z"
   },
   {
    "duration": 17,
    "start_time": "2024-10-18T13:09:03.531Z"
   },
   {
    "duration": 25406,
    "start_time": "2024-10-18T13:09:12.602Z"
   },
   {
    "duration": 25009,
    "start_time": "2024-10-18T13:10:50.690Z"
   },
   {
    "duration": 94,
    "start_time": "2024-10-18T13:14:25.164Z"
   },
   {
    "duration": 98,
    "start_time": "2024-10-18T13:14:25.260Z"
   },
   {
    "duration": 1959,
    "start_time": "2024-10-18T13:14:25.360Z"
   },
   {
    "duration": 29,
    "start_time": "2024-10-18T13:14:27.321Z"
   },
   {
    "duration": 50,
    "start_time": "2024-10-18T13:14:27.351Z"
   },
   {
    "duration": 6,
    "start_time": "2024-10-18T13:14:27.402Z"
   },
   {
    "duration": 14,
    "start_time": "2024-10-18T13:14:27.409Z"
   },
   {
    "duration": 12,
    "start_time": "2024-10-18T13:51:14.473Z"
   },
   {
    "duration": 8,
    "start_time": "2024-10-18T13:53:56.999Z"
   },
   {
    "duration": 9,
    "start_time": "2024-10-18T13:54:10.396Z"
   },
   {
    "duration": 16,
    "start_time": "2024-10-18T13:57:29.373Z"
   },
   {
    "duration": 4,
    "start_time": "2024-10-18T14:02:34.468Z"
   },
   {
    "duration": 3110,
    "start_time": "2024-10-18T14:02:49.057Z"
   },
   {
    "duration": 26129,
    "start_time": "2024-10-18T14:03:17.503Z"
   },
   {
    "duration": 25529,
    "start_time": "2024-10-18T14:04:45.458Z"
   },
   {
    "duration": 16,
    "start_time": "2024-10-18T14:28:40.285Z"
   },
   {
    "duration": 5,
    "start_time": "2024-10-18T14:37:27.516Z"
   },
   {
    "duration": 15,
    "start_time": "2024-10-18T14:38:15.255Z"
   },
   {
    "duration": 96,
    "start_time": "2024-10-18T14:38:32.575Z"
   },
   {
    "duration": 103,
    "start_time": "2024-10-18T14:38:32.672Z"
   },
   {
    "duration": 1922,
    "start_time": "2024-10-18T14:38:32.776Z"
   },
   {
    "duration": 30,
    "start_time": "2024-10-18T14:38:34.700Z"
   },
   {
    "duration": 68,
    "start_time": "2024-10-18T14:38:34.732Z"
   },
   {
    "duration": 0,
    "start_time": "2024-10-18T14:38:34.801Z"
   },
   {
    "duration": 31,
    "start_time": "2024-10-18T14:39:28.642Z"
   },
   {
    "duration": 202,
    "start_time": "2024-10-18T14:40:18.602Z"
   },
   {
    "duration": 64,
    "start_time": "2024-10-18T14:40:57.840Z"
   },
   {
    "duration": 29,
    "start_time": "2024-10-18T14:41:21.080Z"
   },
   {
    "duration": 9,
    "start_time": "2024-10-18T14:41:28.504Z"
   },
   {
    "duration": 15,
    "start_time": "2024-10-18T14:41:40.621Z"
   },
   {
    "duration": 21,
    "start_time": "2024-10-18T14:41:47.161Z"
   },
   {
    "duration": 6,
    "start_time": "2024-10-18T14:46:09.069Z"
   },
   {
    "duration": 388,
    "start_time": "2024-10-18T15:04:21.869Z"
   },
   {
    "duration": 378,
    "start_time": "2024-10-18T15:04:41.615Z"
   },
   {
    "duration": 395,
    "start_time": "2024-10-18T15:05:40.109Z"
   },
   {
    "duration": 100,
    "start_time": "2024-10-18T15:08:35.264Z"
   },
   {
    "duration": 109,
    "start_time": "2024-10-18T15:08:35.366Z"
   },
   {
    "duration": 2285,
    "start_time": "2024-10-18T15:08:35.477Z"
   },
   {
    "duration": 45,
    "start_time": "2024-10-18T15:08:37.763Z"
   },
   {
    "duration": 32,
    "start_time": "2024-10-18T15:08:37.811Z"
   },
   {
    "duration": 25,
    "start_time": "2024-10-18T15:08:37.844Z"
   },
   {
    "duration": 26,
    "start_time": "2024-10-18T15:08:37.871Z"
   },
   {
    "duration": 392,
    "start_time": "2024-10-18T15:08:40.234Z"
   },
   {
    "duration": 380,
    "start_time": "2024-10-18T15:10:16.208Z"
   },
   {
    "duration": 94,
    "start_time": "2024-10-18T15:10:53.950Z"
   },
   {
    "duration": 99,
    "start_time": "2024-10-18T15:10:54.046Z"
   },
   {
    "duration": 1957,
    "start_time": "2024-10-18T15:10:54.146Z"
   },
   {
    "duration": 28,
    "start_time": "2024-10-18T15:10:56.105Z"
   },
   {
    "duration": 29,
    "start_time": "2024-10-18T15:10:56.135Z"
   },
   {
    "duration": 6,
    "start_time": "2024-10-18T15:10:56.165Z"
   },
   {
    "duration": 37,
    "start_time": "2024-10-18T15:10:56.173Z"
   },
   {
    "duration": 5,
    "start_time": "2024-10-18T15:10:58.620Z"
   },
   {
    "duration": 435,
    "start_time": "2024-10-18T15:11:09.010Z"
   },
   {
    "duration": 92,
    "start_time": "2024-10-18T15:17:41.938Z"
   },
   {
    "duration": 98,
    "start_time": "2024-10-18T15:17:42.032Z"
   },
   {
    "duration": 1816,
    "start_time": "2024-10-18T15:17:42.132Z"
   },
   {
    "duration": 30,
    "start_time": "2024-10-18T15:17:43.949Z"
   },
   {
    "duration": 43,
    "start_time": "2024-10-18T15:17:43.981Z"
   },
   {
    "duration": 6,
    "start_time": "2024-10-18T15:17:44.025Z"
   },
   {
    "duration": 23,
    "start_time": "2024-10-18T15:17:44.032Z"
   },
   {
    "duration": 6,
    "start_time": "2024-10-18T15:17:44.521Z"
   },
   {
    "duration": 357,
    "start_time": "2024-10-18T15:17:47.901Z"
   },
   {
    "duration": 96,
    "start_time": "2024-10-18T15:18:05.155Z"
   },
   {
    "duration": 104,
    "start_time": "2024-10-18T15:18:05.253Z"
   },
   {
    "duration": 2305,
    "start_time": "2024-10-18T15:18:05.358Z"
   },
   {
    "duration": 38,
    "start_time": "2024-10-18T15:18:07.664Z"
   },
   {
    "duration": 30,
    "start_time": "2024-10-18T15:18:07.705Z"
   },
   {
    "duration": 69,
    "start_time": "2024-10-18T15:18:07.736Z"
   },
   {
    "duration": 29,
    "start_time": "2024-10-18T15:18:07.806Z"
   },
   {
    "duration": 6,
    "start_time": "2024-10-18T15:18:07.836Z"
   },
   {
    "duration": 352,
    "start_time": "2024-10-18T15:18:13.288Z"
   },
   {
    "duration": 56,
    "start_time": "2024-10-18T15:32:53.160Z"
   },
   {
    "duration": 60,
    "start_time": "2024-10-18T15:34:45.759Z"
   },
   {
    "duration": 55,
    "start_time": "2024-10-18T15:34:58.188Z"
   },
   {
    "duration": 98,
    "start_time": "2024-10-18T16:00:05.467Z"
   },
   {
    "duration": 101,
    "start_time": "2024-10-18T16:00:05.568Z"
   },
   {
    "duration": 1943,
    "start_time": "2024-10-18T16:00:05.670Z"
   },
   {
    "duration": 29,
    "start_time": "2024-10-18T16:00:07.614Z"
   },
   {
    "duration": 39,
    "start_time": "2024-10-18T16:00:07.646Z"
   },
   {
    "duration": 6,
    "start_time": "2024-10-18T16:00:07.697Z"
   },
   {
    "duration": 42,
    "start_time": "2024-10-18T16:00:07.705Z"
   },
   {
    "duration": 23,
    "start_time": "2024-10-18T16:00:07.748Z"
   },
   {
    "duration": 395,
    "start_time": "2024-10-18T16:00:07.772Z"
   },
   {
    "duration": 7,
    "start_time": "2024-10-18T16:00:08.168Z"
   },
   {
    "duration": 32,
    "start_time": "2024-10-18T16:00:08.177Z"
   },
   {
    "duration": 61,
    "start_time": "2024-10-18T16:00:08.211Z"
   },
   {
    "duration": 6,
    "start_time": "2024-10-18T16:00:08.273Z"
   },
   {
    "duration": 45,
    "start_time": "2024-10-18T16:00:08.282Z"
   },
   {
    "duration": 42,
    "start_time": "2024-10-18T16:00:08.328Z"
   },
   {
    "duration": 41,
    "start_time": "2024-10-18T16:00:08.373Z"
   },
   {
    "duration": 296,
    "start_time": "2024-10-18T16:00:08.417Z"
   },
   {
    "duration": 352,
    "start_time": "2024-10-18T16:00:08.714Z"
   },
   {
    "duration": 10,
    "start_time": "2024-10-18T16:00:09.067Z"
   },
   {
    "duration": 206,
    "start_time": "2024-10-18T16:00:09.079Z"
   },
   {
    "duration": 162,
    "start_time": "2024-10-18T16:00:09.287Z"
   },
   {
    "duration": 10,
    "start_time": "2024-10-18T16:00:09.450Z"
   },
   {
    "duration": 163,
    "start_time": "2024-10-18T16:00:09.461Z"
   },
   {
    "duration": 96,
    "start_time": "2024-10-18T16:04:06.518Z"
   },
   {
    "duration": 103,
    "start_time": "2024-10-18T16:04:06.615Z"
   },
   {
    "duration": 1914,
    "start_time": "2024-10-18T16:04:06.720Z"
   },
   {
    "duration": 30,
    "start_time": "2024-10-18T16:04:08.636Z"
   },
   {
    "duration": 48,
    "start_time": "2024-10-18T16:04:08.668Z"
   },
   {
    "duration": 6,
    "start_time": "2024-10-18T16:04:08.717Z"
   },
   {
    "duration": 55,
    "start_time": "2024-10-18T16:04:18.207Z"
   },
   {
    "duration": 14,
    "start_time": "2024-10-18T16:05:03.919Z"
   },
   {
    "duration": 7,
    "start_time": "2024-10-18T16:05:12.138Z"
   },
   {
    "duration": 370,
    "start_time": "2024-10-18T16:05:15.904Z"
   },
   {
    "duration": 7,
    "start_time": "2024-10-18T16:05:41.142Z"
   },
   {
    "duration": 11,
    "start_time": "2024-10-18T16:05:46.423Z"
   },
   {
    "duration": 10,
    "start_time": "2024-10-18T16:05:50.498Z"
   },
   {
    "duration": 5,
    "start_time": "2024-10-18T16:05:58.683Z"
   },
   {
    "duration": 9,
    "start_time": "2024-10-18T16:06:03.842Z"
   },
   {
    "duration": 4,
    "start_time": "2024-10-18T16:06:09.441Z"
   },
   {
    "duration": 21,
    "start_time": "2024-10-18T16:06:11.999Z"
   },
   {
    "duration": 248,
    "start_time": "2024-10-18T16:06:15.995Z"
   },
   {
    "duration": 341,
    "start_time": "2024-10-18T16:06:21.227Z"
   },
   {
    "duration": 9,
    "start_time": "2024-10-18T16:06:26.743Z"
   },
   {
    "duration": 154,
    "start_time": "2024-10-18T16:06:36.184Z"
   },
   {
    "duration": 153,
    "start_time": "2024-10-18T16:06:39.520Z"
   },
   {
    "duration": 9,
    "start_time": "2024-10-18T16:06:46.565Z"
   },
   {
    "duration": 9,
    "start_time": "2024-10-18T16:08:26.980Z"
   },
   {
    "duration": 9,
    "start_time": "2024-10-18T16:08:38.648Z"
   },
   {
    "duration": 9,
    "start_time": "2024-10-18T16:08:57.980Z"
   },
   {
    "duration": 9,
    "start_time": "2024-10-18T16:09:58.636Z"
   },
   {
    "duration": 98,
    "start_time": "2024-10-18T16:10:11.026Z"
   },
   {
    "duration": 112,
    "start_time": "2024-10-18T16:10:11.126Z"
   },
   {
    "duration": 2493,
    "start_time": "2024-10-18T16:10:11.241Z"
   },
   {
    "duration": 34,
    "start_time": "2024-10-18T16:10:13.736Z"
   },
   {
    "duration": 48,
    "start_time": "2024-10-18T16:10:13.773Z"
   },
   {
    "duration": 6,
    "start_time": "2024-10-18T16:10:13.822Z"
   },
   {
    "duration": 9,
    "start_time": "2024-10-18T16:10:19.887Z"
   },
   {
    "duration": 10,
    "start_time": "2024-10-18T16:10:34.549Z"
   },
   {
    "duration": 14,
    "start_time": "2024-10-18T16:11:27.698Z"
   },
   {
    "duration": 6,
    "start_time": "2024-10-18T16:11:30.774Z"
   },
   {
    "duration": 9,
    "start_time": "2024-10-18T16:11:41.474Z"
   },
   {
    "duration": 10,
    "start_time": "2024-10-18T16:11:48.352Z"
   },
   {
    "duration": 367,
    "start_time": "2024-10-18T16:11:55.196Z"
   },
   {
    "duration": 9,
    "start_time": "2024-10-18T16:11:59.942Z"
   },
   {
    "duration": 94,
    "start_time": "2024-10-18T16:14:34.702Z"
   },
   {
    "duration": 114,
    "start_time": "2024-10-18T16:14:34.798Z"
   },
   {
    "duration": 1938,
    "start_time": "2024-10-18T16:14:34.913Z"
   },
   {
    "duration": 30,
    "start_time": "2024-10-18T16:14:36.853Z"
   },
   {
    "duration": 32,
    "start_time": "2024-10-18T16:14:36.897Z"
   },
   {
    "duration": 5,
    "start_time": "2024-10-18T16:14:36.931Z"
   },
   {
    "duration": 18,
    "start_time": "2024-10-18T16:14:36.937Z"
   },
   {
    "duration": 18,
    "start_time": "2024-10-18T16:14:36.957Z"
   },
   {
    "duration": 23,
    "start_time": "2024-10-18T16:14:36.977Z"
   },
   {
    "duration": 423,
    "start_time": "2024-10-18T16:14:39.972Z"
   },
   {
    "duration": 10,
    "start_time": "2024-10-18T16:14:46.297Z"
   },
   {
    "duration": 95,
    "start_time": "2024-10-18T16:15:53.675Z"
   },
   {
    "duration": 99,
    "start_time": "2024-10-18T16:15:53.772Z"
   },
   {
    "duration": 1928,
    "start_time": "2024-10-18T16:15:53.873Z"
   },
   {
    "duration": 30,
    "start_time": "2024-10-18T16:15:55.803Z"
   },
   {
    "duration": 30,
    "start_time": "2024-10-18T16:15:55.835Z"
   },
   {
    "duration": 6,
    "start_time": "2024-10-18T16:15:55.866Z"
   },
   {
    "duration": 36,
    "start_time": "2024-10-18T16:15:55.873Z"
   },
   {
    "duration": 58,
    "start_time": "2024-10-18T16:15:55.911Z"
   },
   {
    "duration": 423,
    "start_time": "2024-10-18T16:15:55.971Z"
   },
   {
    "duration": 6,
    "start_time": "2024-10-18T16:15:56.398Z"
   },
   {
    "duration": 14,
    "start_time": "2024-10-18T16:15:56.406Z"
   },
   {
    "duration": 25,
    "start_time": "2024-10-18T16:15:56.421Z"
   },
   {
    "duration": 7,
    "start_time": "2024-10-18T16:15:56.448Z"
   },
   {
    "duration": 12,
    "start_time": "2024-10-18T16:15:56.458Z"
   },
   {
    "duration": 8,
    "start_time": "2024-10-18T16:15:56.472Z"
   },
   {
    "duration": 35,
    "start_time": "2024-10-18T16:15:56.482Z"
   },
   {
    "duration": 259,
    "start_time": "2024-10-18T16:15:56.518Z"
   },
   {
    "duration": 345,
    "start_time": "2024-10-18T16:15:56.779Z"
   },
   {
    "duration": 9,
    "start_time": "2024-10-18T16:15:58.719Z"
   },
   {
    "duration": 150,
    "start_time": "2024-10-18T16:16:14.504Z"
   },
   {
    "duration": 155,
    "start_time": "2024-10-18T16:16:18.938Z"
   },
   {
    "duration": 9,
    "start_time": "2024-10-18T16:16:26.157Z"
   },
   {
    "duration": 133,
    "start_time": "2024-10-18T16:16:52.060Z"
   },
   {
    "duration": 129,
    "start_time": "2024-10-18T16:19:46.688Z"
   },
   {
    "duration": 129,
    "start_time": "2024-10-18T16:19:59.827Z"
   },
   {
    "duration": 48,
    "start_time": "2024-10-18T23:40:49.760Z"
   },
   {
    "duration": 564,
    "start_time": "2024-10-18T23:40:57.025Z"
   },
   {
    "duration": 85,
    "start_time": "2024-10-18T23:40:57.591Z"
   },
   {
    "duration": 1967,
    "start_time": "2024-10-18T23:40:57.678Z"
   },
   {
    "duration": 25,
    "start_time": "2024-10-18T23:40:59.647Z"
   },
   {
    "duration": 24,
    "start_time": "2024-10-18T23:40:59.674Z"
   },
   {
    "duration": 9,
    "start_time": "2024-10-18T23:40:59.699Z"
   },
   {
    "duration": 19,
    "start_time": "2024-10-18T23:40:59.709Z"
   },
   {
    "duration": 70,
    "start_time": "2024-10-18T23:40:59.730Z"
   },
   {
    "duration": 416,
    "start_time": "2024-10-18T23:40:59.801Z"
   },
   {
    "duration": 6,
    "start_time": "2024-10-18T23:41:00.219Z"
   },
   {
    "duration": 61,
    "start_time": "2024-10-18T23:41:00.226Z"
   },
   {
    "duration": 56,
    "start_time": "2024-10-18T23:41:00.288Z"
   },
   {
    "duration": 80,
    "start_time": "2024-10-18T23:41:00.345Z"
   },
   {
    "duration": 115,
    "start_time": "2024-10-18T23:41:00.427Z"
   },
   {
    "duration": 61,
    "start_time": "2024-10-18T23:41:00.543Z"
   },
   {
    "duration": 149,
    "start_time": "2024-10-18T23:41:00.605Z"
   },
   {
    "duration": 286,
    "start_time": "2024-10-18T23:41:00.755Z"
   },
   {
    "duration": 346,
    "start_time": "2024-10-18T23:41:01.042Z"
   },
   {
    "duration": 9,
    "start_time": "2024-10-18T23:41:01.390Z"
   },
   {
    "duration": 120,
    "start_time": "2024-10-18T23:41:01.408Z"
   },
   {
    "duration": 139,
    "start_time": "2024-10-18T23:41:01.530Z"
   },
   {
    "duration": 9,
    "start_time": "2024-10-18T23:41:01.670Z"
   },
   {
    "duration": 169,
    "start_time": "2024-10-18T23:41:01.680Z"
   },
   {
    "duration": 7,
    "start_time": "2024-10-18T23:41:01.851Z"
   },
   {
    "duration": 169,
    "start_time": "2024-10-18T23:41:01.859Z"
   },
   {
    "duration": 128,
    "start_time": "2024-10-18T23:41:02.030Z"
   },
   {
    "duration": 7,
    "start_time": "2024-10-18T23:41:02.159Z"
   },
   {
    "duration": 135,
    "start_time": "2024-10-18T23:41:02.167Z"
   },
   {
    "duration": 150,
    "start_time": "2024-10-18T23:41:02.303Z"
   },
   {
    "duration": 8,
    "start_time": "2024-10-18T23:41:02.454Z"
   },
   {
    "duration": 190,
    "start_time": "2024-10-18T23:41:02.463Z"
   },
   {
    "duration": 8,
    "start_time": "2024-10-18T23:41:02.654Z"
   },
   {
    "duration": 160,
    "start_time": "2024-10-18T23:41:02.663Z"
   },
   {
    "duration": 6,
    "start_time": "2024-10-18T23:41:02.824Z"
   },
   {
    "duration": 199,
    "start_time": "2024-10-18T23:41:02.831Z"
   },
   {
    "duration": 7,
    "start_time": "2024-10-18T23:41:03.032Z"
   },
   {
    "duration": 183,
    "start_time": "2024-10-18T23:41:03.041Z"
   },
   {
    "duration": 9,
    "start_time": "2024-10-18T23:41:03.225Z"
   },
   {
    "duration": 139,
    "start_time": "2024-10-18T23:41:03.235Z"
   },
   {
    "duration": 113,
    "start_time": "2024-10-18T23:41:20.083Z"
   },
   {
    "duration": 8,
    "start_time": "2024-10-18T23:42:40.096Z"
   },
   {
    "duration": 101,
    "start_time": "2024-10-18T23:46:37.353Z"
   },
   {
    "duration": 183,
    "start_time": "2024-10-18T23:47:58.696Z"
   },
   {
    "duration": 112,
    "start_time": "2024-10-18T23:48:08.952Z"
   },
   {
    "duration": 105,
    "start_time": "2024-10-18T23:48:31.046Z"
   },
   {
    "duration": 759,
    "start_time": "2024-10-19T08:11:57.447Z"
   },
   {
    "duration": 103,
    "start_time": "2024-10-19T08:11:58.208Z"
   },
   {
    "duration": 2396,
    "start_time": "2024-10-19T08:11:58.313Z"
   },
   {
    "duration": 31,
    "start_time": "2024-10-19T08:12:00.710Z"
   },
   {
    "duration": 90,
    "start_time": "2024-10-19T08:12:00.743Z"
   },
   {
    "duration": 6,
    "start_time": "2024-10-19T08:12:00.834Z"
   },
   {
    "duration": 28,
    "start_time": "2024-10-19T08:12:00.841Z"
   },
   {
    "duration": 7,
    "start_time": "2024-10-19T08:12:00.870Z"
   },
   {
    "duration": 431,
    "start_time": "2024-10-19T08:12:00.878Z"
   },
   {
    "duration": 6,
    "start_time": "2024-10-19T08:12:01.311Z"
   },
   {
    "duration": 30,
    "start_time": "2024-10-19T08:12:01.318Z"
   },
   {
    "duration": 11,
    "start_time": "2024-10-19T08:12:01.349Z"
   },
   {
    "duration": 4,
    "start_time": "2024-10-19T08:12:01.362Z"
   },
   {
    "duration": 14,
    "start_time": "2024-10-19T08:12:01.369Z"
   },
   {
    "duration": 29,
    "start_time": "2024-10-19T08:12:01.384Z"
   },
   {
    "duration": 39,
    "start_time": "2024-10-19T08:12:01.414Z"
   },
   {
    "duration": 251,
    "start_time": "2024-10-19T08:12:01.455Z"
   },
   {
    "duration": 333,
    "start_time": "2024-10-19T08:12:01.707Z"
   },
   {
    "duration": 17,
    "start_time": "2024-10-19T08:12:02.041Z"
   },
   {
    "duration": 227,
    "start_time": "2024-10-19T08:12:02.059Z"
   },
   {
    "duration": 167,
    "start_time": "2024-10-19T08:12:02.287Z"
   },
   {
    "duration": 11,
    "start_time": "2024-10-19T08:12:02.456Z"
   },
   {
    "duration": 221,
    "start_time": "2024-10-19T08:12:02.469Z"
   },
   {
    "duration": 10,
    "start_time": "2024-10-19T08:12:02.693Z"
   },
   {
    "duration": 164,
    "start_time": "2024-10-19T08:12:02.704Z"
   },
   {
    "duration": 159,
    "start_time": "2024-10-19T08:12:02.870Z"
   },
   {
    "duration": 10,
    "start_time": "2024-10-19T08:12:03.031Z"
   },
   {
    "duration": 172,
    "start_time": "2024-10-19T08:12:03.053Z"
   },
   {
    "duration": 178,
    "start_time": "2024-10-19T08:12:03.228Z"
   },
   {
    "duration": 10,
    "start_time": "2024-10-19T08:12:03.408Z"
   },
   {
    "duration": 168,
    "start_time": "2024-10-19T08:12:03.420Z"
   },
   {
    "duration": 11,
    "start_time": "2024-10-19T08:12:03.590Z"
   },
   {
    "duration": 151,
    "start_time": "2024-10-19T08:12:03.603Z"
   },
   {
    "duration": 9,
    "start_time": "2024-10-19T08:12:03.756Z"
   },
   {
    "duration": 209,
    "start_time": "2024-10-19T08:12:03.767Z"
   },
   {
    "duration": 12,
    "start_time": "2024-10-19T08:12:03.977Z"
   },
   {
    "duration": 177,
    "start_time": "2024-10-19T08:12:03.990Z"
   },
   {
    "duration": 9,
    "start_time": "2024-10-19T08:12:04.169Z"
   },
   {
    "duration": 183,
    "start_time": "2024-10-19T08:12:04.180Z"
   },
   {
    "duration": 154,
    "start_time": "2024-10-19T08:12:04.364Z"
   },
   {
    "duration": 10,
    "start_time": "2024-10-19T08:12:04.524Z"
   },
   {
    "duration": 156,
    "start_time": "2024-10-19T08:12:04.535Z"
   },
   {
    "duration": 11,
    "start_time": "2024-10-19T08:12:04.693Z"
   },
   {
    "duration": 302,
    "start_time": "2024-10-19T08:12:04.706Z"
   },
   {
    "duration": 144,
    "start_time": "2024-10-19T08:12:05.010Z"
   },
   {
    "duration": 10,
    "start_time": "2024-10-19T08:12:05.156Z"
   },
   {
    "duration": 74,
    "start_time": "2024-10-19T08:12:05.168Z"
   },
   {
    "duration": 164,
    "start_time": "2024-10-19T08:12:05.244Z"
   },
   {
    "duration": 7,
    "start_time": "2024-10-19T08:12:05.410Z"
   },
   {
    "duration": 179,
    "start_time": "2024-10-19T08:12:05.419Z"
   },
   {
    "duration": 6,
    "start_time": "2024-10-19T08:12:05.600Z"
   },
   {
    "duration": 181,
    "start_time": "2024-10-19T08:12:05.607Z"
   },
   {
    "duration": 8,
    "start_time": "2024-10-19T08:12:05.789Z"
   },
   {
    "duration": 170,
    "start_time": "2024-10-19T08:12:05.798Z"
   },
   {
    "duration": 125,
    "start_time": "2024-10-19T08:12:05.969Z"
   },
   {
    "duration": 6,
    "start_time": "2024-10-19T08:12:06.096Z"
   },
   {
    "duration": 177,
    "start_time": "2024-10-19T08:12:06.104Z"
   },
   {
    "duration": 6,
    "start_time": "2024-10-19T08:12:06.282Z"
   },
   {
    "duration": 169,
    "start_time": "2024-10-19T08:12:06.290Z"
   },
   {
    "duration": 6,
    "start_time": "2024-10-19T08:12:06.461Z"
   },
   {
    "duration": 162,
    "start_time": "2024-10-19T08:12:06.469Z"
   },
   {
    "duration": 33,
    "start_time": "2024-10-19T08:12:06.633Z"
   },
   {
    "duration": 198,
    "start_time": "2024-10-19T08:12:06.668Z"
   },
   {
    "duration": 87,
    "start_time": "2024-10-19T08:41:00.430Z"
   },
   {
    "duration": 11,
    "start_time": "2024-10-19T08:41:31.323Z"
   },
   {
    "duration": 94,
    "start_time": "2024-10-19T08:41:37.434Z"
   },
   {
    "duration": 120,
    "start_time": "2024-10-19T08:41:37.529Z"
   },
   {
    "duration": 2057,
    "start_time": "2024-10-19T08:41:37.652Z"
   },
   {
    "duration": 44,
    "start_time": "2024-10-19T08:41:39.712Z"
   },
   {
    "duration": 31,
    "start_time": "2024-10-19T08:41:39.758Z"
   },
   {
    "duration": 8,
    "start_time": "2024-10-19T08:41:39.790Z"
   },
   {
    "duration": 40,
    "start_time": "2024-10-19T08:41:39.799Z"
   },
   {
    "duration": 7,
    "start_time": "2024-10-19T08:41:39.840Z"
   },
   {
    "duration": 436,
    "start_time": "2024-10-19T08:41:39.852Z"
   },
   {
    "duration": 7,
    "start_time": "2024-10-19T08:41:40.291Z"
   },
   {
    "duration": 20,
    "start_time": "2024-10-19T08:41:40.300Z"
   },
   {
    "duration": 9,
    "start_time": "2024-10-19T08:41:40.321Z"
   },
   {
    "duration": 24,
    "start_time": "2024-10-19T08:41:40.331Z"
   },
   {
    "duration": 33,
    "start_time": "2024-10-19T08:41:40.357Z"
   },
   {
    "duration": 15,
    "start_time": "2024-10-19T08:41:40.392Z"
   },
   {
    "duration": 21,
    "start_time": "2024-10-19T08:41:40.409Z"
   },
   {
    "duration": 265,
    "start_time": "2024-10-19T08:41:40.432Z"
   },
   {
    "duration": 344,
    "start_time": "2024-10-19T08:41:40.699Z"
   },
   {
    "duration": 14,
    "start_time": "2024-10-19T08:41:41.045Z"
   },
   {
    "duration": 168,
    "start_time": "2024-10-19T08:41:41.060Z"
   },
   {
    "duration": 167,
    "start_time": "2024-10-19T08:41:41.230Z"
   },
   {
    "duration": 11,
    "start_time": "2024-10-19T08:41:41.398Z"
   },
   {
    "duration": 278,
    "start_time": "2024-10-19T08:41:41.411Z"
   },
   {
    "duration": 9,
    "start_time": "2024-10-19T08:41:41.691Z"
   },
   {
    "duration": 165,
    "start_time": "2024-10-19T08:41:41.702Z"
   },
   {
    "duration": 159,
    "start_time": "2024-10-19T08:41:41.869Z"
   },
   {
    "duration": 10,
    "start_time": "2024-10-19T08:41:42.029Z"
   },
   {
    "duration": 149,
    "start_time": "2024-10-19T08:41:42.051Z"
   },
   {
    "duration": 181,
    "start_time": "2024-10-19T08:41:42.202Z"
   },
   {
    "duration": 10,
    "start_time": "2024-10-19T08:41:42.384Z"
   },
   {
    "duration": 168,
    "start_time": "2024-10-19T08:41:42.395Z"
   },
   {
    "duration": 9,
    "start_time": "2024-10-19T08:41:42.565Z"
   },
   {
    "duration": 159,
    "start_time": "2024-10-19T08:41:42.575Z"
   },
   {
    "duration": 17,
    "start_time": "2024-10-19T08:41:42.736Z"
   },
   {
    "duration": 162,
    "start_time": "2024-10-19T08:41:42.754Z"
   },
   {
    "duration": 12,
    "start_time": "2024-10-19T08:41:42.917Z"
   },
   {
    "duration": 145,
    "start_time": "2024-10-19T08:41:42.930Z"
   },
   {
    "duration": 10,
    "start_time": "2024-10-19T08:41:43.076Z"
   },
   {
    "duration": 189,
    "start_time": "2024-10-19T08:41:43.088Z"
   },
   {
    "duration": 170,
    "start_time": "2024-10-19T08:41:43.278Z"
   },
   {
    "duration": 10,
    "start_time": "2024-10-19T08:41:43.450Z"
   },
   {
    "duration": 148,
    "start_time": "2024-10-19T08:41:43.461Z"
   },
   {
    "duration": 10,
    "start_time": "2024-10-19T08:41:43.610Z"
   },
   {
    "duration": 145,
    "start_time": "2024-10-19T08:41:43.621Z"
   },
   {
    "duration": 9,
    "start_time": "2024-10-19T08:41:52.680Z"
   },
   {
    "duration": 140,
    "start_time": "2024-10-19T08:54:55.333Z"
   },
   {
    "duration": 11,
    "start_time": "2024-10-19T09:07:37.081Z"
   },
   {
    "duration": 7,
    "start_time": "2024-10-19T09:07:48.860Z"
   },
   {
    "duration": 167,
    "start_time": "2024-10-19T09:07:52.703Z"
   },
   {
    "duration": 6,
    "start_time": "2024-10-19T09:07:58.468Z"
   },
   {
    "duration": 6,
    "start_time": "2024-10-19T09:08:08.933Z"
   },
   {
    "duration": 147,
    "start_time": "2024-10-19T09:08:18.621Z"
   },
   {
    "duration": 6,
    "start_time": "2024-10-19T09:08:24.020Z"
   },
   {
    "duration": 177,
    "start_time": "2024-10-19T09:08:32.276Z"
   },
   {
    "duration": 6,
    "start_time": "2024-10-19T09:08:43.589Z"
   },
   {
    "duration": 151,
    "start_time": "2024-10-19T09:08:43.596Z"
   },
   {
    "duration": 7,
    "start_time": "2024-10-19T09:08:43.748Z"
   },
   {
    "duration": 212,
    "start_time": "2024-10-19T09:08:43.756Z"
   },
   {
    "duration": 8,
    "start_time": "2024-10-19T09:08:43.972Z"
   },
   {
    "duration": 175,
    "start_time": "2024-10-19T09:08:43.982Z"
   },
   {
    "duration": 6,
    "start_time": "2024-10-19T09:08:44.159Z"
   },
   {
    "duration": 162,
    "start_time": "2024-10-19T09:08:44.166Z"
   },
   {
    "duration": 135,
    "start_time": "2024-10-19T09:08:44.329Z"
   },
   {
    "duration": 6,
    "start_time": "2024-10-19T09:08:44.466Z"
   },
   {
    "duration": 169,
    "start_time": "2024-10-19T09:08:44.473Z"
   },
   {
    "duration": 11,
    "start_time": "2024-10-19T09:08:44.644Z"
   },
   {
    "duration": 337,
    "start_time": "2024-10-19T09:08:44.657Z"
   },
   {
    "duration": 6,
    "start_time": "2024-10-19T09:08:44.997Z"
   },
   {
    "duration": 173,
    "start_time": "2024-10-19T09:08:45.004Z"
   },
   {
    "duration": 25,
    "start_time": "2024-10-19T09:08:45.178Z"
   },
   {
    "duration": 207,
    "start_time": "2024-10-19T09:08:45.204Z"
   },
   {
    "duration": 23,
    "start_time": "2024-10-19T09:09:44.113Z"
   },
   {
    "duration": 21,
    "start_time": "2024-10-19T09:10:07.101Z"
   },
   {
    "duration": 229,
    "start_time": "2024-10-19T09:11:05.748Z"
   },
   {
    "duration": 22,
    "start_time": "2024-10-19T09:13:14.042Z"
   },
   {
    "duration": 27,
    "start_time": "2024-10-19T09:35:16.902Z"
   },
   {
    "duration": 6,
    "start_time": "2024-10-19T09:36:40.538Z"
   },
   {
    "duration": 33770,
    "start_time": "2024-10-19T09:36:44.820Z"
   },
   {
    "duration": 148,
    "start_time": "2024-10-19T09:39:07.865Z"
   },
   {
    "duration": 190,
    "start_time": "2024-10-19T09:40:26.436Z"
   },
   {
    "duration": 132,
    "start_time": "2024-10-19T09:41:37.889Z"
   },
   {
    "duration": 6,
    "start_time": "2024-10-19T09:42:12.957Z"
   },
   {
    "duration": 142,
    "start_time": "2024-10-19T09:42:31.825Z"
   },
   {
    "duration": 6,
    "start_time": "2024-10-19T09:42:52.763Z"
   },
   {
    "duration": 176,
    "start_time": "2024-10-19T09:43:06.542Z"
   },
   {
    "duration": 5,
    "start_time": "2024-10-19T09:43:13.629Z"
   },
   {
    "duration": 157,
    "start_time": "2024-10-19T09:44:11.463Z"
   },
   {
    "duration": 12,
    "start_time": "2024-10-19T10:25:03.317Z"
   },
   {
    "duration": 825,
    "start_time": "2024-10-19T10:26:01.997Z"
   },
   {
    "duration": 19,
    "start_time": "2024-10-19T10:36:18.209Z"
   },
   {
    "duration": 30,
    "start_time": "2024-10-19T10:36:24.978Z"
   },
   {
    "duration": 95,
    "start_time": "2024-10-19T10:36:44.988Z"
   },
   {
    "duration": 104,
    "start_time": "2024-10-19T10:36:45.085Z"
   },
   {
    "duration": 1945,
    "start_time": "2024-10-19T10:36:45.190Z"
   },
   {
    "duration": 39,
    "start_time": "2024-10-19T10:36:47.137Z"
   },
   {
    "duration": 30,
    "start_time": "2024-10-19T10:36:47.177Z"
   },
   {
    "duration": 44,
    "start_time": "2024-10-19T10:36:47.209Z"
   },
   {
    "duration": 15,
    "start_time": "2024-10-19T10:36:47.255Z"
   },
   {
    "duration": 6,
    "start_time": "2024-10-19T10:36:47.271Z"
   },
   {
    "duration": 433,
    "start_time": "2024-10-19T10:36:47.279Z"
   },
   {
    "duration": 6,
    "start_time": "2024-10-19T10:36:47.714Z"
   },
   {
    "duration": 21,
    "start_time": "2024-10-19T10:36:47.722Z"
   },
   {
    "duration": 8,
    "start_time": "2024-10-19T10:36:47.753Z"
   },
   {
    "duration": 26,
    "start_time": "2024-10-19T10:36:48.688Z"
   },
   {
    "duration": 9,
    "start_time": "2024-10-19T10:38:34.747Z"
   },
   {
    "duration": 55,
    "start_time": "2024-10-19T10:53:57.620Z"
   },
   {
    "duration": 153,
    "start_time": "2024-10-19T12:18:29.120Z"
   },
   {
    "duration": 97,
    "start_time": "2024-10-19T12:23:01.828Z"
   },
   {
    "duration": 140,
    "start_time": "2024-10-19T12:23:01.927Z"
   },
   {
    "duration": 2344,
    "start_time": "2024-10-19T12:23:02.068Z"
   },
   {
    "duration": 38,
    "start_time": "2024-10-19T12:23:04.414Z"
   },
   {
    "duration": 30,
    "start_time": "2024-10-19T12:23:04.454Z"
   },
   {
    "duration": 5,
    "start_time": "2024-10-19T12:23:04.486Z"
   },
   {
    "duration": 30,
    "start_time": "2024-10-19T12:23:04.493Z"
   },
   {
    "duration": 19,
    "start_time": "2024-10-19T12:23:04.524Z"
   },
   {
    "duration": 421,
    "start_time": "2024-10-19T12:23:04.545Z"
   },
   {
    "duration": 7,
    "start_time": "2024-10-19T12:23:04.968Z"
   },
   {
    "duration": 53,
    "start_time": "2024-10-19T12:23:04.976Z"
   },
   {
    "duration": 17,
    "start_time": "2024-10-19T12:23:05.031Z"
   },
   {
    "duration": 14,
    "start_time": "2024-10-19T12:23:05.049Z"
   },
   {
    "duration": 12,
    "start_time": "2024-10-19T12:23:05.066Z"
   },
   {
    "duration": 6,
    "start_time": "2024-10-19T12:23:05.079Z"
   },
   {
    "duration": 50,
    "start_time": "2024-10-19T12:23:05.087Z"
   },
   {
    "duration": 253,
    "start_time": "2024-10-19T12:23:05.138Z"
   },
   {
    "duration": 332,
    "start_time": "2024-10-19T12:23:05.392Z"
   },
   {
    "duration": 9,
    "start_time": "2024-10-19T12:23:05.725Z"
   },
   {
    "duration": 163,
    "start_time": "2024-10-19T12:23:05.735Z"
   },
   {
    "duration": 156,
    "start_time": "2024-10-19T12:23:05.900Z"
   },
   {
    "duration": 8,
    "start_time": "2024-10-19T12:23:06.058Z"
   },
   {
    "duration": 147,
    "start_time": "2024-10-19T12:23:06.068Z"
   },
   {
    "duration": 8,
    "start_time": "2024-10-19T12:23:06.216Z"
   },
   {
    "duration": 154,
    "start_time": "2024-10-19T12:23:06.226Z"
   },
   {
    "duration": 159,
    "start_time": "2024-10-19T12:23:06.381Z"
   },
   {
    "duration": 12,
    "start_time": "2024-10-19T12:23:06.542Z"
   },
   {
    "duration": 138,
    "start_time": "2024-10-19T12:23:06.555Z"
   },
   {
    "duration": 175,
    "start_time": "2024-10-19T12:23:06.695Z"
   },
   {
    "duration": 8,
    "start_time": "2024-10-19T12:23:06.871Z"
   },
   {
    "duration": 162,
    "start_time": "2024-10-19T12:23:06.881Z"
   },
   {
    "duration": 15,
    "start_time": "2024-10-19T12:23:07.044Z"
   },
   {
    "duration": 148,
    "start_time": "2024-10-19T12:23:07.060Z"
   },
   {
    "duration": 7,
    "start_time": "2024-10-19T12:23:07.209Z"
   },
   {
    "duration": 164,
    "start_time": "2024-10-19T12:23:07.218Z"
   },
   {
    "duration": 10,
    "start_time": "2024-10-19T12:23:07.383Z"
   },
   {
    "duration": 139,
    "start_time": "2024-10-19T12:23:07.394Z"
   },
   {
    "duration": 19,
    "start_time": "2024-10-19T12:23:07.534Z"
   },
   {
    "duration": 172,
    "start_time": "2024-10-19T12:23:07.554Z"
   },
   {
    "duration": 161,
    "start_time": "2024-10-19T12:23:07.728Z"
   },
   {
    "duration": 9,
    "start_time": "2024-10-19T12:23:07.893Z"
   },
   {
    "duration": 178,
    "start_time": "2024-10-19T12:23:07.903Z"
   },
   {
    "duration": 9,
    "start_time": "2024-10-19T12:23:08.082Z"
   },
   {
    "duration": 148,
    "start_time": "2024-10-19T12:23:08.093Z"
   },
   {
    "duration": 132,
    "start_time": "2024-10-19T12:23:08.243Z"
   },
   {
    "duration": 9,
    "start_time": "2024-10-19T12:23:08.377Z"
   },
   {
    "duration": 6,
    "start_time": "2024-10-19T12:23:08.388Z"
   },
   {
    "duration": 176,
    "start_time": "2024-10-19T12:23:08.395Z"
   },
   {
    "duration": 6,
    "start_time": "2024-10-19T12:23:08.574Z"
   },
   {
    "duration": 187,
    "start_time": "2024-10-19T12:23:08.582Z"
   },
   {
    "duration": 6,
    "start_time": "2024-10-19T12:23:08.770Z"
   },
   {
    "duration": 159,
    "start_time": "2024-10-19T12:23:08.777Z"
   },
   {
    "duration": 13,
    "start_time": "2024-10-19T12:23:08.938Z"
   },
   {
    "duration": 214,
    "start_time": "2024-10-19T12:23:08.953Z"
   },
   {
    "duration": 146,
    "start_time": "2024-10-19T12:23:09.169Z"
   },
   {
    "duration": 7,
    "start_time": "2024-10-19T12:23:09.317Z"
   },
   {
    "duration": 163,
    "start_time": "2024-10-19T12:23:09.326Z"
   },
   {
    "duration": 6,
    "start_time": "2024-10-19T12:23:09.492Z"
   },
   {
    "duration": 232,
    "start_time": "2024-10-19T12:23:09.500Z"
   },
   {
    "duration": 7,
    "start_time": "2024-10-19T12:23:09.734Z"
   },
   {
    "duration": 171,
    "start_time": "2024-10-19T12:23:09.743Z"
   },
   {
    "duration": 39,
    "start_time": "2024-10-19T12:23:09.916Z"
   },
   {
    "duration": 201,
    "start_time": "2024-10-19T12:23:09.956Z"
   },
   {
    "duration": 637,
    "start_time": "2024-10-20T07:28:00.640Z"
   },
   {
    "duration": 139,
    "start_time": "2024-10-20T07:28:01.280Z"
   },
   {
    "duration": 2759,
    "start_time": "2024-10-20T07:28:01.421Z"
   },
   {
    "duration": 33,
    "start_time": "2024-10-20T07:28:04.183Z"
   },
   {
    "duration": 56,
    "start_time": "2024-10-20T07:28:04.218Z"
   },
   {
    "duration": 8,
    "start_time": "2024-10-20T07:28:04.275Z"
   },
   {
    "duration": 22,
    "start_time": "2024-10-20T07:28:04.285Z"
   },
   {
    "duration": 16,
    "start_time": "2024-10-20T07:28:04.309Z"
   },
   {
    "duration": 14,
    "start_time": "2024-10-20T07:28:20.048Z"
   },
   {
    "duration": 19,
    "start_time": "2024-10-20T07:30:00.324Z"
   },
   {
    "duration": 80,
    "start_time": "2024-10-20T07:30:00.344Z"
   },
   {
    "duration": 133,
    "start_time": "2024-10-20T07:30:00.425Z"
   },
   {
    "duration": 82,
    "start_time": "2024-10-20T07:30:00.560Z"
   },
   {
    "duration": 59,
    "start_time": "2024-10-20T07:30:00.644Z"
   },
   {
    "duration": 44,
    "start_time": "2024-10-20T07:30:00.704Z"
   },
   {
    "duration": 58,
    "start_time": "2024-10-20T07:30:00.750Z"
   },
   {
    "duration": 32,
    "start_time": "2024-10-20T07:30:00.810Z"
   },
   {
    "duration": 303,
    "start_time": "2024-10-20T07:30:00.845Z"
   },
   {
    "duration": 390,
    "start_time": "2024-10-20T07:30:01.152Z"
   },
   {
    "duration": 12,
    "start_time": "2024-10-20T07:30:01.545Z"
   },
   {
    "duration": 291,
    "start_time": "2024-10-20T07:30:01.559Z"
   },
   {
    "duration": 190,
    "start_time": "2024-10-20T07:30:01.853Z"
   },
   {
    "duration": 12,
    "start_time": "2024-10-20T07:30:02.049Z"
   },
   {
    "duration": 273,
    "start_time": "2024-10-20T07:30:02.063Z"
   },
   {
    "duration": 16,
    "start_time": "2024-10-20T07:30:02.339Z"
   },
   {
    "duration": 189,
    "start_time": "2024-10-20T07:30:02.357Z"
   },
   {
    "duration": 181,
    "start_time": "2024-10-20T07:30:02.548Z"
   },
   {
    "duration": 13,
    "start_time": "2024-10-20T07:30:02.731Z"
   },
   {
    "duration": 178,
    "start_time": "2024-10-20T07:30:02.746Z"
   },
   {
    "duration": 205,
    "start_time": "2024-10-20T07:30:02.926Z"
   },
   {
    "duration": 15,
    "start_time": "2024-10-20T07:30:03.133Z"
   },
   {
    "duration": 194,
    "start_time": "2024-10-20T07:30:03.150Z"
   },
   {
    "duration": 11,
    "start_time": "2024-10-20T07:30:03.345Z"
   },
   {
    "duration": 208,
    "start_time": "2024-10-20T07:30:03.357Z"
   },
   {
    "duration": 8,
    "start_time": "2024-10-20T07:30:03.567Z"
   },
   {
    "duration": 239,
    "start_time": "2024-10-20T07:30:03.576Z"
   },
   {
    "duration": 10,
    "start_time": "2024-10-20T07:30:03.817Z"
   },
   {
    "duration": 157,
    "start_time": "2024-10-20T07:30:03.829Z"
   },
   {
    "duration": 9,
    "start_time": "2024-10-20T07:30:03.988Z"
   },
   {
    "duration": 265,
    "start_time": "2024-10-20T07:30:03.999Z"
   },
   {
    "duration": 200,
    "start_time": "2024-10-20T07:30:04.266Z"
   },
   {
    "duration": 10,
    "start_time": "2024-10-20T07:30:04.468Z"
   },
   {
    "duration": 169,
    "start_time": "2024-10-20T07:30:04.479Z"
   },
   {
    "duration": 12,
    "start_time": "2024-10-20T07:30:04.650Z"
   },
   {
    "duration": 284,
    "start_time": "2024-10-20T07:30:04.665Z"
   },
   {
    "duration": 178,
    "start_time": "2024-10-20T07:30:04.951Z"
   },
   {
    "duration": 13,
    "start_time": "2024-10-20T07:30:05.131Z"
   },
   {
    "duration": 8,
    "start_time": "2024-10-20T07:30:05.146Z"
   },
   {
    "duration": 191,
    "start_time": "2024-10-20T07:30:05.156Z"
   },
   {
    "duration": 10,
    "start_time": "2024-10-20T07:30:05.353Z"
   },
   {
    "duration": 219,
    "start_time": "2024-10-20T07:30:05.364Z"
   },
   {
    "duration": 6,
    "start_time": "2024-10-20T07:30:05.585Z"
   },
   {
    "duration": 224,
    "start_time": "2024-10-20T07:30:05.593Z"
   },
   {
    "duration": 8,
    "start_time": "2024-10-20T07:30:05.819Z"
   },
   {
    "duration": 218,
    "start_time": "2024-10-20T07:30:05.830Z"
   },
   {
    "duration": 157,
    "start_time": "2024-10-20T07:30:06.050Z"
   },
   {
    "duration": 130,
    "start_time": "2024-10-20T07:30:06.209Z"
   },
   {
    "duration": 0,
    "start_time": "2024-10-20T07:30:06.340Z"
   },
   {
    "duration": 0,
    "start_time": "2024-10-20T07:30:06.342Z"
   },
   {
    "duration": 0,
    "start_time": "2024-10-20T07:30:06.343Z"
   },
   {
    "duration": 0,
    "start_time": "2024-10-20T07:30:06.344Z"
   },
   {
    "duration": 1,
    "start_time": "2024-10-20T07:30:06.345Z"
   },
   {
    "duration": 0,
    "start_time": "2024-10-20T07:30:06.347Z"
   },
   {
    "duration": 0,
    "start_time": "2024-10-20T07:30:06.348Z"
   },
   {
    "duration": 187,
    "start_time": "2024-10-20T07:51:53.440Z"
   },
   {
    "duration": 6,
    "start_time": "2024-10-20T07:58:31.643Z"
   },
   {
    "duration": 99,
    "start_time": "2024-10-20T07:58:42.697Z"
   },
   {
    "duration": 132,
    "start_time": "2024-10-20T07:58:42.798Z"
   },
   {
    "duration": 2400,
    "start_time": "2024-10-20T07:58:42.932Z"
   },
   {
    "duration": 33,
    "start_time": "2024-10-20T07:58:45.334Z"
   },
   {
    "duration": 51,
    "start_time": "2024-10-20T07:58:45.370Z"
   },
   {
    "duration": 6,
    "start_time": "2024-10-20T07:58:45.423Z"
   },
   {
    "duration": 105,
    "start_time": "2024-10-20T07:58:45.430Z"
   },
   {
    "duration": 8,
    "start_time": "2024-10-20T07:58:45.537Z"
   },
   {
    "duration": 11,
    "start_time": "2024-10-20T07:58:45.546Z"
   },
   {
    "duration": 6,
    "start_time": "2024-10-20T07:58:45.559Z"
   },
   {
    "duration": 12,
    "start_time": "2024-10-20T07:58:45.567Z"
   },
   {
    "duration": 10,
    "start_time": "2024-10-20T07:58:45.580Z"
   },
   {
    "duration": 6,
    "start_time": "2024-10-20T07:58:45.621Z"
   },
   {
    "duration": 56,
    "start_time": "2024-10-20T07:58:45.630Z"
   },
   {
    "duration": 15,
    "start_time": "2024-10-20T07:58:45.688Z"
   },
   {
    "duration": 22,
    "start_time": "2024-10-20T07:58:45.705Z"
   },
   {
    "duration": 290,
    "start_time": "2024-10-20T07:58:45.729Z"
   },
   {
    "duration": 378,
    "start_time": "2024-10-20T07:58:46.021Z"
   },
   {
    "duration": 10,
    "start_time": "2024-10-20T07:58:46.400Z"
   },
   {
    "duration": 172,
    "start_time": "2024-10-20T07:58:46.420Z"
   },
   {
    "duration": 189,
    "start_time": "2024-10-20T07:58:46.594Z"
   },
   {
    "duration": 9,
    "start_time": "2024-10-20T07:58:46.785Z"
   },
   {
    "duration": 162,
    "start_time": "2024-10-20T07:58:46.795Z"
   },
   {
    "duration": 10,
    "start_time": "2024-10-20T07:58:46.960Z"
   },
   {
    "duration": 173,
    "start_time": "2024-10-20T07:58:46.972Z"
   },
   {
    "duration": 305,
    "start_time": "2024-10-20T07:58:47.148Z"
   },
   {
    "duration": 10,
    "start_time": "2024-10-20T07:58:47.455Z"
   },
   {
    "duration": 173,
    "start_time": "2024-10-20T07:58:47.467Z"
   },
   {
    "duration": 200,
    "start_time": "2024-10-20T07:58:47.642Z"
   },
   {
    "duration": 9,
    "start_time": "2024-10-20T07:58:47.844Z"
   },
   {
    "duration": 184,
    "start_time": "2024-10-20T07:58:47.855Z"
   },
   {
    "duration": 10,
    "start_time": "2024-10-20T07:58:48.041Z"
   },
   {
    "duration": 159,
    "start_time": "2024-10-20T07:58:48.052Z"
   },
   {
    "duration": 18,
    "start_time": "2024-10-20T07:58:48.212Z"
   },
   {
    "duration": 163,
    "start_time": "2024-10-20T07:58:48.232Z"
   },
   {
    "duration": 11,
    "start_time": "2024-10-20T07:58:48.397Z"
   },
   {
    "duration": 159,
    "start_time": "2024-10-20T07:58:48.421Z"
   },
   {
    "duration": 11,
    "start_time": "2024-10-20T07:58:48.582Z"
   },
   {
    "duration": 212,
    "start_time": "2024-10-20T07:58:48.595Z"
   },
   {
    "duration": 173,
    "start_time": "2024-10-20T07:58:48.809Z"
   },
   {
    "duration": 10,
    "start_time": "2024-10-20T07:58:48.986Z"
   },
   {
    "duration": 183,
    "start_time": "2024-10-20T07:58:48.997Z"
   },
   {
    "duration": 10,
    "start_time": "2024-10-20T07:58:49.182Z"
   },
   {
    "duration": 162,
    "start_time": "2024-10-20T07:58:49.194Z"
   },
   {
    "duration": 147,
    "start_time": "2024-10-20T07:58:49.358Z"
   },
   {
    "duration": 19,
    "start_time": "2024-10-20T07:58:49.507Z"
   },
   {
    "duration": 6,
    "start_time": "2024-10-20T07:58:49.527Z"
   },
   {
    "duration": 172,
    "start_time": "2024-10-20T07:58:49.535Z"
   },
   {
    "duration": 6,
    "start_time": "2024-10-20T07:58:49.708Z"
   },
   {
    "duration": 191,
    "start_time": "2024-10-20T07:58:49.722Z"
   },
   {
    "duration": 6,
    "start_time": "2024-10-20T07:58:49.921Z"
   },
   {
    "duration": 175,
    "start_time": "2024-10-20T07:58:49.928Z"
   },
   {
    "duration": 17,
    "start_time": "2024-10-20T07:58:50.104Z"
   },
   {
    "duration": 250,
    "start_time": "2024-10-20T07:58:50.122Z"
   },
   {
    "duration": 155,
    "start_time": "2024-10-20T07:58:50.373Z"
   },
   {
    "duration": 15,
    "start_time": "2024-10-20T07:58:50.531Z"
   },
   {
    "duration": 164,
    "start_time": "2024-10-20T07:59:12.986Z"
   },
   {
    "duration": 184,
    "start_time": "2024-10-20T07:59:25.795Z"
   },
   {
    "duration": 6,
    "start_time": "2024-10-20T07:59:25.981Z"
   },
   {
    "duration": 220,
    "start_time": "2024-10-20T07:59:25.989Z"
   },
   {
    "duration": 12,
    "start_time": "2024-10-20T07:59:26.212Z"
   },
   {
    "duration": 190,
    "start_time": "2024-10-20T07:59:26.226Z"
   },
   {
    "duration": 34,
    "start_time": "2024-10-20T07:59:26.418Z"
   },
   {
    "duration": 214,
    "start_time": "2024-10-20T07:59:26.454Z"
   },
   {
    "duration": 1507,
    "start_time": "2024-10-20T08:25:09.646Z"
   },
   {
    "duration": 91,
    "start_time": "2024-10-20T08:25:22.437Z"
   },
   {
    "duration": 115,
    "start_time": "2024-10-20T08:25:22.530Z"
   },
   {
    "duration": 2274,
    "start_time": "2024-10-20T08:25:22.647Z"
   },
   {
    "duration": 33,
    "start_time": "2024-10-20T08:25:24.923Z"
   },
   {
    "duration": 31,
    "start_time": "2024-10-20T08:25:24.958Z"
   },
   {
    "duration": 6,
    "start_time": "2024-10-20T08:25:24.992Z"
   },
   {
    "duration": 18,
    "start_time": "2024-10-20T08:25:25.021Z"
   },
   {
    "duration": 39,
    "start_time": "2024-10-20T08:25:25.041Z"
   },
   {
    "duration": 42,
    "start_time": "2024-10-20T08:25:25.082Z"
   },
   {
    "duration": 24,
    "start_time": "2024-10-20T08:25:25.126Z"
   },
   {
    "duration": 21,
    "start_time": "2024-10-20T08:25:25.152Z"
   },
   {
    "duration": 24,
    "start_time": "2024-10-20T08:25:25.175Z"
   },
   {
    "duration": 67,
    "start_time": "2024-10-20T08:25:25.201Z"
   },
   {
    "duration": 6,
    "start_time": "2024-10-20T08:26:10.059Z"
   },
   {
    "duration": 85,
    "start_time": "2024-10-20T08:27:57.786Z"
   },
   {
    "duration": 9,
    "start_time": "2024-10-20T08:29:14.218Z"
   },
   {
    "duration": 8,
    "start_time": "2024-10-20T08:29:46.273Z"
   },
   {
    "duration": 9,
    "start_time": "2024-10-20T08:32:17.401Z"
   },
   {
    "duration": 10,
    "start_time": "2024-10-20T08:50:03.508Z"
   },
   {
    "duration": 16,
    "start_time": "2024-10-20T08:51:11.346Z"
   },
   {
    "duration": 90,
    "start_time": "2024-10-20T08:51:54.119Z"
   },
   {
    "duration": 106,
    "start_time": "2024-10-20T08:51:54.211Z"
   },
   {
    "duration": 2290,
    "start_time": "2024-10-20T08:51:54.320Z"
   },
   {
    "duration": 32,
    "start_time": "2024-10-20T08:51:56.621Z"
   },
   {
    "duration": 30,
    "start_time": "2024-10-20T08:51:56.655Z"
   },
   {
    "duration": 5,
    "start_time": "2024-10-20T08:51:56.687Z"
   },
   {
    "duration": 35,
    "start_time": "2024-10-20T08:51:56.694Z"
   },
   {
    "duration": 7,
    "start_time": "2024-10-20T08:51:56.731Z"
   },
   {
    "duration": 11,
    "start_time": "2024-10-20T08:51:56.740Z"
   },
   {
    "duration": 6,
    "start_time": "2024-10-20T08:51:56.753Z"
   },
   {
    "duration": 14,
    "start_time": "2024-10-20T08:51:56.760Z"
   },
   {
    "duration": 49,
    "start_time": "2024-10-20T08:51:56.776Z"
   },
   {
    "duration": 10,
    "start_time": "2024-10-20T08:51:56.827Z"
   },
   {
    "duration": 8,
    "start_time": "2024-10-20T08:51:56.841Z"
   },
   {
    "duration": 6,
    "start_time": "2024-10-20T08:51:56.851Z"
   },
   {
    "duration": 7,
    "start_time": "2024-10-20T08:51:56.859Z"
   },
   {
    "duration": 16,
    "start_time": "2024-10-20T08:52:01.526Z"
   },
   {
    "duration": 1047,
    "start_time": "2024-10-20T08:52:39.016Z"
   },
   {
    "duration": 1221,
    "start_time": "2024-10-20T08:53:07.230Z"
   },
   {
    "duration": 1170,
    "start_time": "2024-10-20T08:55:39.374Z"
   },
   {
    "duration": 966,
    "start_time": "2024-10-20T08:57:57.840Z"
   },
   {
    "duration": 558,
    "start_time": "2024-10-20T10:25:32.945Z"
   },
   {
    "duration": 106,
    "start_time": "2024-10-20T10:25:33.504Z"
   },
   {
    "duration": 2532,
    "start_time": "2024-10-20T10:25:33.612Z"
   },
   {
    "duration": 32,
    "start_time": "2024-10-20T10:25:36.146Z"
   },
   {
    "duration": 67,
    "start_time": "2024-10-20T10:25:36.180Z"
   },
   {
    "duration": 6,
    "start_time": "2024-10-20T10:25:36.249Z"
   },
   {
    "duration": 43,
    "start_time": "2024-10-20T10:25:36.257Z"
   },
   {
    "duration": 16,
    "start_time": "2024-10-20T10:25:36.302Z"
   },
   {
    "duration": 117,
    "start_time": "2024-10-20T10:25:36.320Z"
   },
   {
    "duration": 6,
    "start_time": "2024-10-20T10:25:36.439Z"
   },
   {
    "duration": 12,
    "start_time": "2024-10-20T10:25:36.446Z"
   },
   {
    "duration": 45,
    "start_time": "2024-10-20T10:25:36.460Z"
   },
   {
    "duration": 25,
    "start_time": "2024-10-20T10:25:36.507Z"
   },
   {
    "duration": 10,
    "start_time": "2024-10-20T10:25:36.534Z"
   },
   {
    "duration": 47,
    "start_time": "2024-10-20T10:25:36.546Z"
   },
   {
    "duration": 7,
    "start_time": "2024-10-20T10:26:55.505Z"
   },
   {
    "duration": 16,
    "start_time": "2024-10-20T10:32:04.306Z"
   },
   {
    "duration": 92,
    "start_time": "2024-10-20T10:33:13.293Z"
   },
   {
    "duration": 111,
    "start_time": "2024-10-20T10:33:13.387Z"
   },
   {
    "duration": 2130,
    "start_time": "2024-10-20T10:33:13.500Z"
   },
   {
    "duration": 30,
    "start_time": "2024-10-20T10:33:15.632Z"
   },
   {
    "duration": 28,
    "start_time": "2024-10-20T10:33:15.665Z"
   },
   {
    "duration": 27,
    "start_time": "2024-10-20T10:33:15.695Z"
   },
   {
    "duration": 55,
    "start_time": "2024-10-20T10:33:15.723Z"
   },
   {
    "duration": 7,
    "start_time": "2024-10-20T10:33:15.780Z"
   },
   {
    "duration": 24,
    "start_time": "2024-10-20T10:33:15.788Z"
   },
   {
    "duration": 13,
    "start_time": "2024-10-20T10:33:15.814Z"
   },
   {
    "duration": 33,
    "start_time": "2024-10-20T10:33:15.829Z"
   },
   {
    "duration": 18,
    "start_time": "2024-10-20T10:33:15.863Z"
   },
   {
    "duration": 34,
    "start_time": "2024-10-20T10:33:15.882Z"
   },
   {
    "duration": 8,
    "start_time": "2024-10-20T10:33:15.919Z"
   },
   {
    "duration": 6,
    "start_time": "2024-10-20T10:33:15.929Z"
   },
   {
    "duration": 6,
    "start_time": "2024-10-20T10:33:15.937Z"
   },
   {
    "duration": 4,
    "start_time": "2024-10-20T10:33:40.938Z"
   },
   {
    "duration": 15,
    "start_time": "2024-10-20T10:33:45.954Z"
   },
   {
    "duration": 8,
    "start_time": "2024-10-20T10:34:17.016Z"
   },
   {
    "duration": 5,
    "start_time": "2024-10-20T10:34:55.849Z"
   },
   {
    "duration": 63,
    "start_time": "2024-10-20T10:58:32.707Z"
   },
   {
    "duration": 6,
    "start_time": "2024-10-20T10:58:50.195Z"
   },
   {
    "duration": 778,
    "start_time": "2024-10-20T20:31:27.318Z"
   },
   {
    "duration": 106,
    "start_time": "2024-10-20T20:31:28.097Z"
   },
   {
    "duration": 2380,
    "start_time": "2024-10-20T20:31:28.205Z"
   },
   {
    "duration": 30,
    "start_time": "2024-10-20T20:31:30.587Z"
   },
   {
    "duration": 29,
    "start_time": "2024-10-20T20:31:30.619Z"
   },
   {
    "duration": 5,
    "start_time": "2024-10-20T20:31:30.650Z"
   },
   {
    "duration": 22,
    "start_time": "2024-10-20T20:31:30.656Z"
   },
   {
    "duration": 6,
    "start_time": "2024-10-20T20:31:30.680Z"
   },
   {
    "duration": 35,
    "start_time": "2024-10-20T20:31:30.688Z"
   },
   {
    "duration": 11,
    "start_time": "2024-10-20T20:31:30.726Z"
   },
   {
    "duration": 17,
    "start_time": "2024-10-20T20:31:30.739Z"
   },
   {
    "duration": 8,
    "start_time": "2024-10-20T20:31:30.757Z"
   },
   {
    "duration": 9,
    "start_time": "2024-10-20T20:31:30.767Z"
   },
   {
    "duration": 7,
    "start_time": "2024-10-20T20:31:30.777Z"
   },
   {
    "duration": 5,
    "start_time": "2024-10-20T20:31:30.786Z"
   },
   {
    "duration": 21,
    "start_time": "2024-10-20T20:31:30.793Z"
   },
   {
    "duration": 5,
    "start_time": "2024-10-20T20:31:30.815Z"
   },
   {
    "duration": 38,
    "start_time": "2024-10-20T20:31:30.821Z"
   },
   {
    "duration": 15,
    "start_time": "2024-10-20T20:31:30.861Z"
   },
   {
    "duration": 4,
    "start_time": "2024-10-20T20:31:30.878Z"
   },
   {
    "duration": 20,
    "start_time": "2024-10-20T20:31:30.884Z"
   },
   {
    "duration": 18,
    "start_time": "2024-10-20T20:31:30.905Z"
   },
   {
    "duration": 27,
    "start_time": "2024-10-20T20:31:30.925Z"
   },
   {
    "duration": 251,
    "start_time": "2024-10-20T20:31:30.954Z"
   },
   {
    "duration": 340,
    "start_time": "2024-10-20T20:31:31.206Z"
   },
   {
    "duration": 9,
    "start_time": "2024-10-20T20:31:31.552Z"
   },
   {
    "duration": 163,
    "start_time": "2024-10-20T20:31:31.563Z"
   },
   {
    "duration": 162,
    "start_time": "2024-10-20T20:31:31.730Z"
   },
   {
    "duration": 9,
    "start_time": "2024-10-20T20:31:31.894Z"
   },
   {
    "duration": 219,
    "start_time": "2024-10-20T20:31:31.904Z"
   },
   {
    "duration": 9,
    "start_time": "2024-10-20T20:31:32.125Z"
   },
   {
    "duration": 167,
    "start_time": "2024-10-20T20:31:32.135Z"
   },
   {
    "duration": 169,
    "start_time": "2024-10-20T20:31:32.304Z"
   },
   {
    "duration": 9,
    "start_time": "2024-10-20T20:31:32.475Z"
   },
   {
    "duration": 162,
    "start_time": "2024-10-20T20:31:32.486Z"
   },
   {
    "duration": 166,
    "start_time": "2024-10-20T20:31:32.652Z"
   },
   {
    "duration": 8,
    "start_time": "2024-10-20T20:31:32.820Z"
   },
   {
    "duration": 175,
    "start_time": "2024-10-20T20:31:32.830Z"
   },
   {
    "duration": 10,
    "start_time": "2024-10-20T20:31:33.007Z"
   },
   {
    "duration": 157,
    "start_time": "2024-10-20T20:31:33.019Z"
   },
   {
    "duration": 7,
    "start_time": "2024-10-20T20:31:33.178Z"
   },
   {
    "duration": 214,
    "start_time": "2024-10-20T20:31:33.187Z"
   },
   {
    "duration": 10,
    "start_time": "2024-10-20T20:31:33.403Z"
   },
   {
    "duration": 142,
    "start_time": "2024-10-20T20:31:33.415Z"
   },
   {
    "duration": 9,
    "start_time": "2024-10-20T20:31:33.559Z"
   },
   {
    "duration": 175,
    "start_time": "2024-10-20T20:31:33.570Z"
   },
   {
    "duration": 173,
    "start_time": "2024-10-20T20:31:33.746Z"
   },
   {
    "duration": 15,
    "start_time": "2024-10-20T20:31:33.921Z"
   },
   {
    "duration": 150,
    "start_time": "2024-10-20T20:31:33.951Z"
   },
   {
    "duration": 10,
    "start_time": "2024-10-20T20:31:34.103Z"
   },
   {
    "duration": 272,
    "start_time": "2024-10-20T20:31:34.114Z"
   },
   {
    "duration": 138,
    "start_time": "2024-10-20T20:31:34.388Z"
   },
   {
    "duration": 10,
    "start_time": "2024-10-20T20:31:34.528Z"
   },
   {
    "duration": 36,
    "start_time": "2024-10-20T20:31:34.539Z"
   },
   {
    "duration": 143,
    "start_time": "2024-10-20T20:31:34.577Z"
   },
   {
    "duration": 5,
    "start_time": "2024-10-20T20:31:34.722Z"
   },
   {
    "duration": 172,
    "start_time": "2024-10-20T20:31:34.728Z"
   },
   {
    "duration": 5,
    "start_time": "2024-10-20T20:31:34.902Z"
   },
   {
    "duration": 170,
    "start_time": "2024-10-20T20:31:34.908Z"
   },
   {
    "duration": 6,
    "start_time": "2024-10-20T20:31:35.080Z"
   },
   {
    "duration": 189,
    "start_time": "2024-10-20T20:31:35.088Z"
   },
   {
    "duration": 153,
    "start_time": "2024-10-20T20:31:35.278Z"
   },
   {
    "duration": 5,
    "start_time": "2024-10-20T20:31:35.433Z"
   },
   {
    "duration": 173,
    "start_time": "2024-10-20T20:31:35.440Z"
   },
   {
    "duration": 6,
    "start_time": "2024-10-20T20:31:35.615Z"
   },
   {
    "duration": 198,
    "start_time": "2024-10-20T20:31:35.622Z"
   },
   {
    "duration": 6,
    "start_time": "2024-10-20T20:31:35.821Z"
   },
   {
    "duration": 213,
    "start_time": "2024-10-20T20:31:35.828Z"
   },
   {
    "duration": 28,
    "start_time": "2024-10-20T20:31:36.043Z"
   },
   {
    "duration": 203,
    "start_time": "2024-10-20T20:31:36.073Z"
   },
   {
    "duration": 98,
    "start_time": "2024-10-20T20:45:15.841Z"
   },
   {
    "duration": 110,
    "start_time": "2024-10-20T20:45:15.941Z"
   },
   {
    "duration": 2077,
    "start_time": "2024-10-20T20:45:16.053Z"
   },
   {
    "duration": 41,
    "start_time": "2024-10-20T20:45:18.132Z"
   },
   {
    "duration": 31,
    "start_time": "2024-10-20T20:45:18.175Z"
   },
   {
    "duration": 5,
    "start_time": "2024-10-20T20:45:18.208Z"
   },
   {
    "duration": 17,
    "start_time": "2024-10-20T20:45:18.215Z"
   },
   {
    "duration": 7,
    "start_time": "2024-10-20T20:45:18.252Z"
   },
   {
    "duration": 14,
    "start_time": "2024-10-20T20:45:18.261Z"
   },
   {
    "duration": 6,
    "start_time": "2024-10-20T20:45:18.276Z"
   },
   {
    "duration": 11,
    "start_time": "2024-10-20T20:45:18.284Z"
   },
   {
    "duration": 9,
    "start_time": "2024-10-20T20:45:18.296Z"
   },
   {
    "duration": 8,
    "start_time": "2024-10-20T20:45:18.307Z"
   },
   {
    "duration": 9,
    "start_time": "2024-10-20T20:45:18.353Z"
   },
   {
    "duration": 6,
    "start_time": "2024-10-20T20:45:18.363Z"
   },
   {
    "duration": 6,
    "start_time": "2024-10-20T20:45:18.370Z"
   },
   {
    "duration": 5,
    "start_time": "2024-10-20T20:47:22.383Z"
   },
   {
    "duration": 10,
    "start_time": "2024-10-20T20:48:05.627Z"
   },
   {
    "duration": 44,
    "start_time": "2024-10-20T20:48:05.638Z"
   },
   {
    "duration": 23,
    "start_time": "2024-10-20T20:48:05.683Z"
   },
   {
    "duration": 66,
    "start_time": "2024-10-20T20:48:05.708Z"
   },
   {
    "duration": 200,
    "start_time": "2024-10-20T20:48:05.776Z"
   },
   {
    "duration": 26,
    "start_time": "2024-10-20T20:48:05.978Z"
   },
   {
    "duration": 258,
    "start_time": "2024-10-20T20:48:06.005Z"
   },
   {
    "duration": 335,
    "start_time": "2024-10-20T20:48:06.264Z"
   },
   {
    "duration": 8,
    "start_time": "2024-10-20T20:48:06.601Z"
   },
   {
    "duration": 170,
    "start_time": "2024-10-20T20:48:06.611Z"
   },
   {
    "duration": 166,
    "start_time": "2024-10-20T20:48:06.782Z"
   },
   {
    "duration": 11,
    "start_time": "2024-10-20T20:48:06.949Z"
   },
   {
    "duration": 280,
    "start_time": "2024-10-20T20:48:06.962Z"
   },
   {
    "duration": 11,
    "start_time": "2024-10-20T20:48:07.251Z"
   },
   {
    "duration": 183,
    "start_time": "2024-10-20T20:48:07.264Z"
   },
   {
    "duration": 150,
    "start_time": "2024-10-20T20:48:07.452Z"
   },
   {
    "duration": 10,
    "start_time": "2024-10-20T20:48:07.603Z"
   },
   {
    "duration": 148,
    "start_time": "2024-10-20T20:48:07.615Z"
   },
   {
    "duration": 174,
    "start_time": "2024-10-20T20:48:07.765Z"
   },
   {
    "duration": 20,
    "start_time": "2024-10-20T20:48:07.941Z"
   },
   {
    "duration": 162,
    "start_time": "2024-10-20T20:48:07.963Z"
   },
   {
    "duration": 10,
    "start_time": "2024-10-20T20:48:08.126Z"
   },
   {
    "duration": 154,
    "start_time": "2024-10-20T20:48:08.137Z"
   },
   {
    "duration": 8,
    "start_time": "2024-10-20T20:48:08.293Z"
   },
   {
    "duration": 171,
    "start_time": "2024-10-20T20:48:08.302Z"
   },
   {
    "duration": 10,
    "start_time": "2024-10-20T20:48:08.475Z"
   },
   {
    "duration": 144,
    "start_time": "2024-10-20T20:48:08.487Z"
   },
   {
    "duration": 10,
    "start_time": "2024-10-20T20:48:08.633Z"
   },
   {
    "duration": 172,
    "start_time": "2024-10-20T20:48:08.652Z"
   },
   {
    "duration": 156,
    "start_time": "2024-10-20T20:48:08.826Z"
   },
   {
    "duration": 11,
    "start_time": "2024-10-20T20:48:08.984Z"
   },
   {
    "duration": 160,
    "start_time": "2024-10-20T20:48:08.997Z"
   },
   {
    "duration": 11,
    "start_time": "2024-10-20T20:48:09.160Z"
   },
   {
    "duration": 164,
    "start_time": "2024-10-20T20:48:09.173Z"
   },
   {
    "duration": 142,
    "start_time": "2024-10-20T20:48:09.339Z"
   },
   {
    "duration": 9,
    "start_time": "2024-10-20T20:48:09.483Z"
   },
   {
    "duration": 27,
    "start_time": "2024-10-20T20:48:09.494Z"
   },
   {
    "duration": 156,
    "start_time": "2024-10-20T20:48:09.523Z"
   },
   {
    "duration": 7,
    "start_time": "2024-10-20T20:48:09.681Z"
   },
   {
    "duration": 228,
    "start_time": "2024-10-20T20:48:09.689Z"
   },
   {
    "duration": 5,
    "start_time": "2024-10-20T20:48:09.923Z"
   },
   {
    "duration": 178,
    "start_time": "2024-10-20T20:48:09.930Z"
   },
   {
    "duration": 7,
    "start_time": "2024-10-20T20:48:10.110Z"
   },
   {
    "duration": 217,
    "start_time": "2024-10-20T20:48:10.119Z"
   },
   {
    "duration": 147,
    "start_time": "2024-10-20T20:48:10.338Z"
   },
   {
    "duration": 5,
    "start_time": "2024-10-20T20:48:10.487Z"
   },
   {
    "duration": 165,
    "start_time": "2024-10-20T20:48:10.494Z"
   },
   {
    "duration": 6,
    "start_time": "2024-10-20T20:48:10.661Z"
   },
   {
    "duration": 204,
    "start_time": "2024-10-20T20:48:10.668Z"
   },
   {
    "duration": 6,
    "start_time": "2024-10-20T20:48:10.873Z"
   },
   {
    "duration": 173,
    "start_time": "2024-10-20T20:48:10.880Z"
   },
   {
    "duration": 25,
    "start_time": "2024-10-20T20:48:11.055Z"
   },
   {
    "duration": 370,
    "start_time": "2024-10-20T20:48:11.082Z"
   },
   {
    "duration": 904,
    "start_time": "2024-10-20T20:53:19.745Z"
   },
   {
    "duration": 97,
    "start_time": "2024-10-20T20:53:46.221Z"
   },
   {
    "duration": 118,
    "start_time": "2024-10-20T20:53:46.319Z"
   },
   {
    "duration": 1960,
    "start_time": "2024-10-20T20:53:46.438Z"
   },
   {
    "duration": 30,
    "start_time": "2024-10-20T20:53:48.400Z"
   },
   {
    "duration": 42,
    "start_time": "2024-10-20T20:53:48.432Z"
   },
   {
    "duration": 7,
    "start_time": "2024-10-20T20:53:48.476Z"
   },
   {
    "duration": 26,
    "start_time": "2024-10-20T20:53:48.484Z"
   },
   {
    "duration": 11,
    "start_time": "2024-10-20T20:53:48.512Z"
   },
   {
    "duration": 27,
    "start_time": "2024-10-20T20:53:48.525Z"
   },
   {
    "duration": 30,
    "start_time": "2024-10-20T20:53:48.554Z"
   },
   {
    "duration": 119,
    "start_time": "2024-10-20T20:53:48.585Z"
   },
   {
    "duration": 11,
    "start_time": "2024-10-20T20:53:48.706Z"
   },
   {
    "duration": 14,
    "start_time": "2024-10-20T20:53:48.719Z"
   },
   {
    "duration": 18,
    "start_time": "2024-10-20T20:53:48.734Z"
   },
   {
    "duration": 6,
    "start_time": "2024-10-20T20:53:48.754Z"
   },
   {
    "duration": 5,
    "start_time": "2024-10-20T20:53:48.762Z"
   },
   {
    "duration": 9,
    "start_time": "2024-10-20T20:54:38.120Z"
   },
   {
    "duration": 23,
    "start_time": "2024-10-20T20:54:38.131Z"
   },
   {
    "duration": 5,
    "start_time": "2024-10-20T20:54:38.156Z"
   },
   {
    "duration": 9,
    "start_time": "2024-10-20T20:54:38.163Z"
   },
   {
    "duration": 4,
    "start_time": "2024-10-20T20:54:38.174Z"
   },
   {
    "duration": 28,
    "start_time": "2024-10-20T20:54:38.180Z"
   },
   {
    "duration": 274,
    "start_time": "2024-10-20T20:54:38.210Z"
   },
   {
    "duration": 341,
    "start_time": "2024-10-20T20:54:38.485Z"
   },
   {
    "duration": 9,
    "start_time": "2024-10-20T20:54:38.827Z"
   },
   {
    "duration": 167,
    "start_time": "2024-10-20T20:54:38.837Z"
   },
   {
    "duration": 166,
    "start_time": "2024-10-20T20:54:39.005Z"
   },
   {
    "duration": 10,
    "start_time": "2024-10-20T20:54:39.172Z"
   },
   {
    "duration": 153,
    "start_time": "2024-10-20T20:54:39.184Z"
   },
   {
    "duration": 15,
    "start_time": "2024-10-20T20:54:39.340Z"
   },
   {
    "duration": 168,
    "start_time": "2024-10-20T20:54:39.357Z"
   },
   {
    "duration": 344,
    "start_time": "2024-10-20T20:54:39.526Z"
   },
   {
    "duration": 9,
    "start_time": "2024-10-20T20:54:39.872Z"
   },
   {
    "duration": 189,
    "start_time": "2024-10-20T20:54:39.883Z"
   },
   {
    "duration": 173,
    "start_time": "2024-10-20T20:54:40.074Z"
   },
   {
    "duration": 9,
    "start_time": "2024-10-20T20:54:40.249Z"
   },
   {
    "duration": 171,
    "start_time": "2024-10-20T20:54:40.260Z"
   },
   {
    "duration": 9,
    "start_time": "2024-10-20T20:54:40.432Z"
   },
   {
    "duration": 142,
    "start_time": "2024-10-20T20:54:40.451Z"
   },
   {
    "duration": 8,
    "start_time": "2024-10-20T20:54:40.595Z"
   },
   {
    "duration": 215,
    "start_time": "2024-10-20T20:54:40.604Z"
   },
   {
    "duration": 10,
    "start_time": "2024-10-20T20:54:40.821Z"
   },
   {
    "duration": 145,
    "start_time": "2024-10-20T20:54:40.833Z"
   },
   {
    "duration": 9,
    "start_time": "2024-10-20T20:54:40.980Z"
   },
   {
    "duration": 185,
    "start_time": "2024-10-20T20:54:40.991Z"
   },
   {
    "duration": 161,
    "start_time": "2024-10-20T20:54:41.178Z"
   },
   {
    "duration": 14,
    "start_time": "2024-10-20T20:54:41.341Z"
   },
   {
    "duration": 147,
    "start_time": "2024-10-20T20:54:41.356Z"
   },
   {
    "duration": 10,
    "start_time": "2024-10-20T20:54:41.504Z"
   },
   {
    "duration": 148,
    "start_time": "2024-10-20T20:54:41.516Z"
   },
   {
    "duration": 142,
    "start_time": "2024-10-20T20:54:41.666Z"
   },
   {
    "duration": 9,
    "start_time": "2024-10-20T20:54:41.810Z"
   },
   {
    "duration": 43,
    "start_time": "2024-10-20T20:54:41.821Z"
   },
   {
    "duration": 155,
    "start_time": "2024-10-20T20:54:41.866Z"
   },
   {
    "duration": 7,
    "start_time": "2024-10-20T20:54:42.022Z"
   },
   {
    "duration": 185,
    "start_time": "2024-10-20T20:54:42.030Z"
   },
   {
    "duration": 6,
    "start_time": "2024-10-20T20:54:42.219Z"
   },
   {
    "duration": 174,
    "start_time": "2024-10-20T20:54:42.227Z"
   },
   {
    "duration": 5,
    "start_time": "2024-10-20T20:54:42.402Z"
   },
   {
    "duration": 190,
    "start_time": "2024-10-20T20:54:42.409Z"
   },
   {
    "duration": 143,
    "start_time": "2024-10-20T20:54:42.601Z"
   },
   {
    "duration": 10,
    "start_time": "2024-10-20T20:54:42.746Z"
   },
   {
    "duration": 167,
    "start_time": "2024-10-20T20:54:42.757Z"
   },
   {
    "duration": 5,
    "start_time": "2024-10-20T20:54:42.926Z"
   },
   {
    "duration": 194,
    "start_time": "2024-10-20T20:54:42.933Z"
   },
   {
    "duration": 6,
    "start_time": "2024-10-20T20:54:43.128Z"
   },
   {
    "duration": 176,
    "start_time": "2024-10-20T20:54:43.136Z"
   },
   {
    "duration": 25,
    "start_time": "2024-10-20T20:54:43.314Z"
   },
   {
    "duration": 194,
    "start_time": "2024-10-20T20:54:43.340Z"
   },
   {
    "duration": 708,
    "start_time": "2024-10-20T20:54:52.926Z"
   },
   {
    "duration": 95,
    "start_time": "2024-10-20T20:55:13.510Z"
   },
   {
    "duration": 108,
    "start_time": "2024-10-20T20:55:13.607Z"
   },
   {
    "duration": 2259,
    "start_time": "2024-10-20T20:55:13.717Z"
   },
   {
    "duration": 30,
    "start_time": "2024-10-20T20:55:15.977Z"
   },
   {
    "duration": 48,
    "start_time": "2024-10-20T20:55:16.009Z"
   },
   {
    "duration": 5,
    "start_time": "2024-10-20T20:55:16.058Z"
   },
   {
    "duration": 14,
    "start_time": "2024-10-20T20:55:16.065Z"
   },
   {
    "duration": 6,
    "start_time": "2024-10-20T20:55:16.080Z"
   },
   {
    "duration": 10,
    "start_time": "2024-10-20T20:55:16.088Z"
   },
   {
    "duration": 7,
    "start_time": "2024-10-20T20:55:16.100Z"
   },
   {
    "duration": 49,
    "start_time": "2024-10-20T20:55:16.108Z"
   },
   {
    "duration": 10,
    "start_time": "2024-10-20T20:55:16.159Z"
   },
   {
    "duration": 8,
    "start_time": "2024-10-20T20:55:16.171Z"
   },
   {
    "duration": 8,
    "start_time": "2024-10-20T20:55:16.182Z"
   },
   {
    "duration": 6,
    "start_time": "2024-10-20T20:55:16.192Z"
   },
   {
    "duration": 6,
    "start_time": "2024-10-20T20:55:16.199Z"
   },
   {
    "duration": 6,
    "start_time": "2024-10-20T20:55:31.453Z"
   },
   {
    "duration": 10,
    "start_time": "2024-10-20T20:55:37.223Z"
   },
   {
    "duration": 9,
    "start_time": "2024-10-20T20:55:49.606Z"
   },
   {
    "duration": 15,
    "start_time": "2024-10-20T20:55:49.617Z"
   },
   {
    "duration": 5,
    "start_time": "2024-10-20T20:55:49.633Z"
   },
   {
    "duration": 9,
    "start_time": "2024-10-20T20:55:49.639Z"
   },
   {
    "duration": 6,
    "start_time": "2024-10-20T20:55:49.650Z"
   },
   {
    "duration": 21,
    "start_time": "2024-10-20T20:55:49.657Z"
   },
   {
    "duration": 271,
    "start_time": "2024-10-20T20:55:49.679Z"
   },
   {
    "duration": 344,
    "start_time": "2024-10-20T20:55:49.951Z"
   },
   {
    "duration": 9,
    "start_time": "2024-10-20T20:55:50.296Z"
   },
   {
    "duration": 168,
    "start_time": "2024-10-20T20:55:50.307Z"
   },
   {
    "duration": 167,
    "start_time": "2024-10-20T20:55:50.476Z"
   },
   {
    "duration": 9,
    "start_time": "2024-10-20T20:55:50.644Z"
   },
   {
    "duration": 166,
    "start_time": "2024-10-20T20:55:50.654Z"
   },
   {
    "duration": 9,
    "start_time": "2024-10-20T20:55:50.823Z"
   },
   {
    "duration": 156,
    "start_time": "2024-10-20T20:55:50.833Z"
   },
   {
    "duration": 153,
    "start_time": "2024-10-20T20:55:50.990Z"
   },
   {
    "duration": 14,
    "start_time": "2024-10-20T20:55:51.144Z"
   },
   {
    "duration": 137,
    "start_time": "2024-10-20T20:55:51.159Z"
   },
   {
    "duration": 170,
    "start_time": "2024-10-20T20:55:51.297Z"
   },
   {
    "duration": 8,
    "start_time": "2024-10-20T20:55:51.469Z"
   },
   {
    "duration": 168,
    "start_time": "2024-10-20T20:55:51.479Z"
   },
   {
    "duration": 10,
    "start_time": "2024-10-20T20:55:51.651Z"
   },
   {
    "duration": 156,
    "start_time": "2024-10-20T20:55:51.662Z"
   },
   {
    "duration": 8,
    "start_time": "2024-10-20T20:55:51.821Z"
   },
   {
    "duration": 262,
    "start_time": "2024-10-20T20:55:51.831Z"
   },
   {
    "duration": 11,
    "start_time": "2024-10-20T20:55:52.095Z"
   },
   {
    "duration": 146,
    "start_time": "2024-10-20T20:55:52.108Z"
   },
   {
    "duration": 11,
    "start_time": "2024-10-20T20:55:52.255Z"
   },
   {
    "duration": 186,
    "start_time": "2024-10-20T20:55:52.268Z"
   },
   {
    "duration": 158,
    "start_time": "2024-10-20T20:55:52.456Z"
   },
   {
    "duration": 10,
    "start_time": "2024-10-20T20:55:52.617Z"
   },
   {
    "duration": 167,
    "start_time": "2024-10-20T20:55:52.629Z"
   },
   {
    "duration": 11,
    "start_time": "2024-10-20T20:55:52.798Z"
   },
   {
    "duration": 152,
    "start_time": "2024-10-20T20:55:52.811Z"
   },
   {
    "duration": 146,
    "start_time": "2024-10-20T20:55:52.965Z"
   },
   {
    "duration": 11,
    "start_time": "2024-10-20T20:55:53.114Z"
   },
   {
    "duration": 7,
    "start_time": "2024-10-20T20:55:53.126Z"
   },
   {
    "duration": 158,
    "start_time": "2024-10-20T20:55:53.153Z"
   },
   {
    "duration": 5,
    "start_time": "2024-10-20T20:55:53.313Z"
   },
   {
    "duration": 172,
    "start_time": "2024-10-20T20:55:53.320Z"
   },
   {
    "duration": 5,
    "start_time": "2024-10-20T20:55:53.496Z"
   },
   {
    "duration": 169,
    "start_time": "2024-10-20T20:55:53.503Z"
   },
   {
    "duration": 6,
    "start_time": "2024-10-20T20:55:53.673Z"
   },
   {
    "duration": 187,
    "start_time": "2024-10-20T20:55:53.681Z"
   },
   {
    "duration": 184,
    "start_time": "2024-10-20T20:55:53.870Z"
   },
   {
    "duration": 6,
    "start_time": "2024-10-20T20:55:54.056Z"
   },
   {
    "duration": 174,
    "start_time": "2024-10-20T20:55:54.063Z"
   },
   {
    "duration": 14,
    "start_time": "2024-10-20T20:55:54.238Z"
   },
   {
    "duration": 198,
    "start_time": "2024-10-20T20:55:54.254Z"
   },
   {
    "duration": 5,
    "start_time": "2024-10-20T20:55:54.454Z"
   },
   {
    "duration": 176,
    "start_time": "2024-10-20T20:55:54.461Z"
   },
   {
    "duration": 30,
    "start_time": "2024-10-20T20:55:54.638Z"
   },
   {
    "duration": 204,
    "start_time": "2024-10-20T20:55:54.669Z"
   },
   {
    "duration": 61,
    "start_time": "2024-10-22T18:24:30.273Z"
   },
   {
    "duration": 769,
    "start_time": "2024-10-22T18:24:42.899Z"
   },
   {
    "duration": 101,
    "start_time": "2024-10-22T18:24:43.670Z"
   },
   {
    "duration": 2404,
    "start_time": "2024-10-22T18:24:43.773Z"
   },
   {
    "duration": 30,
    "start_time": "2024-10-22T18:24:46.179Z"
   },
   {
    "duration": 33,
    "start_time": "2024-10-22T18:24:46.210Z"
   },
   {
    "duration": 6,
    "start_time": "2024-10-22T18:24:46.245Z"
   },
   {
    "duration": 20,
    "start_time": "2024-10-22T18:24:46.252Z"
   },
   {
    "duration": 5,
    "start_time": "2024-10-22T18:24:46.274Z"
   },
   {
    "duration": 13,
    "start_time": "2024-10-22T18:24:46.280Z"
   },
   {
    "duration": 41,
    "start_time": "2024-10-22T18:24:46.294Z"
   },
   {
    "duration": 12,
    "start_time": "2024-10-22T18:24:46.336Z"
   },
   {
    "duration": 7,
    "start_time": "2024-10-22T18:24:46.349Z"
   },
   {
    "duration": 8,
    "start_time": "2024-10-22T18:24:46.357Z"
   },
   {
    "duration": 8,
    "start_time": "2024-10-22T18:24:46.367Z"
   },
   {
    "duration": 4,
    "start_time": "2024-10-22T18:24:46.377Z"
   },
   {
    "duration": 5,
    "start_time": "2024-10-22T18:24:46.382Z"
   },
   {
    "duration": 5,
    "start_time": "2024-10-22T18:24:46.389Z"
   },
   {
    "duration": 42,
    "start_time": "2024-10-22T18:24:46.395Z"
   },
   {
    "duration": 13,
    "start_time": "2024-10-22T18:24:46.438Z"
   },
   {
    "duration": 5,
    "start_time": "2024-10-22T18:24:46.453Z"
   },
   {
    "duration": 12,
    "start_time": "2024-10-22T18:24:46.460Z"
   },
   {
    "duration": 5,
    "start_time": "2024-10-22T18:24:46.473Z"
   },
   {
    "duration": 53,
    "start_time": "2024-10-22T18:24:46.480Z"
   },
   {
    "duration": 247,
    "start_time": "2024-10-22T18:24:46.535Z"
   },
   {
    "duration": 330,
    "start_time": "2024-10-22T18:24:46.784Z"
   },
   {
    "duration": 94,
    "start_time": "2024-10-22T18:24:47.115Z"
   },
   {
    "duration": 18,
    "start_time": "2024-10-22T18:25:47.415Z"
   },
   {
    "duration": 7,
    "start_time": "2024-10-22T18:26:36.029Z"
   },
   {
    "duration": 510,
    "start_time": "2024-11-02T15:33:04.341Z"
   },
   {
    "duration": 90,
    "start_time": "2024-11-02T15:33:04.852Z"
   },
   {
    "duration": 2014,
    "start_time": "2024-11-02T15:33:04.943Z"
   },
   {
    "duration": 24,
    "start_time": "2024-11-02T15:33:06.959Z"
   },
   {
    "duration": 35,
    "start_time": "2024-11-02T15:33:06.985Z"
   },
   {
    "duration": 6,
    "start_time": "2024-11-02T15:33:07.022Z"
   },
   {
    "duration": 25,
    "start_time": "2024-11-02T15:33:07.029Z"
   },
   {
    "duration": 22,
    "start_time": "2024-11-02T15:33:07.056Z"
   },
   {
    "duration": 27,
    "start_time": "2024-11-02T15:33:07.080Z"
   },
   {
    "duration": 7,
    "start_time": "2024-11-02T15:33:07.109Z"
   },
   {
    "duration": 11,
    "start_time": "2024-11-02T15:33:07.118Z"
   },
   {
    "duration": 35,
    "start_time": "2024-11-02T15:33:07.130Z"
   },
   {
    "duration": 20,
    "start_time": "2024-11-02T15:33:07.166Z"
   },
   {
    "duration": 14,
    "start_time": "2024-11-02T15:33:07.189Z"
   },
   {
    "duration": 18,
    "start_time": "2024-11-02T15:33:07.205Z"
   },
   {
    "duration": 21,
    "start_time": "2024-11-02T15:33:07.224Z"
   },
   {
    "duration": 5,
    "start_time": "2024-11-02T15:33:07.246Z"
   },
   {
    "duration": 46,
    "start_time": "2024-11-02T15:33:07.252Z"
   },
   {
    "duration": 33,
    "start_time": "2024-11-02T15:33:07.299Z"
   },
   {
    "duration": 16,
    "start_time": "2024-11-02T15:33:07.334Z"
   },
   {
    "duration": 30,
    "start_time": "2024-11-02T15:33:07.352Z"
   },
   {
    "duration": 12,
    "start_time": "2024-11-02T15:33:07.383Z"
   },
   {
    "duration": 34,
    "start_time": "2024-11-02T15:33:07.397Z"
   },
   {
    "duration": 237,
    "start_time": "2024-11-02T15:33:07.433Z"
   },
   {
    "duration": 310,
    "start_time": "2024-11-02T15:33:07.671Z"
   },
   {
    "duration": 8,
    "start_time": "2024-11-02T15:33:07.982Z"
   },
   {
    "duration": 194,
    "start_time": "2024-11-02T15:33:07.991Z"
   },
   {
    "duration": 138,
    "start_time": "2024-11-02T15:33:08.187Z"
   },
   {
    "duration": 8,
    "start_time": "2024-11-02T15:33:08.327Z"
   },
   {
    "duration": 123,
    "start_time": "2024-11-02T15:33:08.336Z"
   },
   {
    "duration": 8,
    "start_time": "2024-11-02T15:33:08.460Z"
   },
   {
    "duration": 187,
    "start_time": "2024-11-02T15:33:08.470Z"
   },
   {
    "duration": 125,
    "start_time": "2024-11-02T15:33:08.658Z"
   },
   {
    "duration": 7,
    "start_time": "2024-11-02T15:33:08.785Z"
   },
   {
    "duration": 119,
    "start_time": "2024-11-02T15:33:08.793Z"
   },
   {
    "duration": 137,
    "start_time": "2024-11-02T15:33:08.914Z"
   },
   {
    "duration": 7,
    "start_time": "2024-11-02T15:33:09.052Z"
   },
   {
    "duration": 136,
    "start_time": "2024-11-02T15:33:09.060Z"
   },
   {
    "duration": 15,
    "start_time": "2024-11-02T15:33:09.198Z"
   },
   {
    "duration": 132,
    "start_time": "2024-11-02T15:33:09.215Z"
   },
   {
    "duration": 7,
    "start_time": "2024-11-02T15:33:09.351Z"
   },
   {
    "duration": 141,
    "start_time": "2024-11-02T15:33:09.359Z"
   },
   {
    "duration": 11,
    "start_time": "2024-11-02T15:33:09.502Z"
   },
   {
    "duration": 124,
    "start_time": "2024-11-02T15:33:09.514Z"
   },
   {
    "duration": 7,
    "start_time": "2024-11-02T15:33:09.639Z"
   },
   {
    "duration": 145,
    "start_time": "2024-11-02T15:33:09.648Z"
   },
   {
    "duration": 142,
    "start_time": "2024-11-02T15:33:09.794Z"
   },
   {
    "duration": 8,
    "start_time": "2024-11-02T15:33:09.937Z"
   },
   {
    "duration": 126,
    "start_time": "2024-11-02T15:33:09.946Z"
   },
   {
    "duration": 7,
    "start_time": "2024-11-02T15:33:10.073Z"
   },
   {
    "duration": 126,
    "start_time": "2024-11-02T15:33:10.081Z"
   },
   {
    "duration": 182,
    "start_time": "2024-11-02T15:33:10.208Z"
   },
   {
    "duration": 18,
    "start_time": "2024-11-02T15:33:10.391Z"
   },
   {
    "duration": 4,
    "start_time": "2024-11-02T15:33:12.908Z"
   },
   {
    "duration": 123,
    "start_time": "2024-11-02T15:33:23.270Z"
   },
   {
    "duration": 4,
    "start_time": "2024-11-02T15:33:30.882Z"
   },
   {
    "duration": 136,
    "start_time": "2024-11-02T15:33:37.284Z"
   },
   {
    "duration": 5,
    "start_time": "2024-11-02T15:33:55.957Z"
   },
   {
    "duration": 125,
    "start_time": "2024-11-02T15:34:01.772Z"
   },
   {
    "duration": 4,
    "start_time": "2024-11-02T15:34:15.186Z"
   },
   {
    "duration": 144,
    "start_time": "2024-11-02T15:34:23.422Z"
   },
   {
    "duration": 125,
    "start_time": "2024-11-02T15:34:30.889Z"
   },
   {
    "duration": 4,
    "start_time": "2024-11-02T15:35:00.914Z"
   },
   {
    "duration": 121,
    "start_time": "2024-11-02T15:35:11.280Z"
   },
   {
    "duration": 4,
    "start_time": "2024-11-02T15:35:23.976Z"
   },
   {
    "duration": 145,
    "start_time": "2024-11-02T15:35:27.621Z"
   },
   {
    "duration": 4,
    "start_time": "2024-11-02T15:35:37.670Z"
   },
   {
    "duration": 126,
    "start_time": "2024-11-02T15:35:44.244Z"
   },
   {
    "duration": 165737,
    "start_time": "2025-04-09T12:03:03.681Z"
   },
   {
    "duration": 3655,
    "start_time": "2025-04-09T12:07:54.642Z"
   },
   {
    "duration": 3492,
    "start_time": "2025-04-09T12:09:33.703Z"
   },
   {
    "duration": 3523,
    "start_time": "2025-04-09T12:10:31.515Z"
   },
   {
    "duration": 87,
    "start_time": "2025-04-09T12:14:19.723Z"
   },
   {
    "duration": 3484,
    "start_time": "2025-04-09T12:14:34.991Z"
   },
   {
    "duration": 653,
    "start_time": "2025-04-09T12:15:06.403Z"
   },
   {
    "duration": 653,
    "start_time": "2025-04-09T12:15:41.457Z"
   },
   {
    "duration": 3562,
    "start_time": "2025-04-09T12:16:17.300Z"
   },
   {
    "duration": 3423,
    "start_time": "2025-04-09T12:17:40.675Z"
   },
   {
    "duration": 3517,
    "start_time": "2025-04-09T12:19:04.267Z"
   },
   {
    "duration": 646,
    "start_time": "2025-04-09T12:19:39.018Z"
   },
   {
    "duration": 659,
    "start_time": "2025-04-09T12:20:54.837Z"
   },
   {
    "duration": 3519,
    "start_time": "2025-04-09T12:22:32.158Z"
   },
   {
    "duration": 3529,
    "start_time": "2025-04-09T12:24:05.876Z"
   },
   {
    "duration": 3293,
    "start_time": "2025-04-09T12:28:26.190Z"
   },
   {
    "duration": 3865,
    "start_time": "2025-04-09T14:04:47.707Z"
   },
   {
    "duration": 82,
    "start_time": "2025-04-09T14:06:46.802Z"
   },
   {
    "duration": 758,
    "start_time": "2025-04-09T14:06:57.460Z"
   },
   {
    "duration": 714,
    "start_time": "2025-04-09T14:08:17.077Z"
   },
   {
    "duration": 3306,
    "start_time": "2025-04-09T14:11:11.469Z"
   },
   {
    "duration": 643,
    "start_time": "2025-04-09T14:35:17.994Z"
   },
   {
    "duration": 3203,
    "start_time": "2025-04-09T14:36:20.422Z"
   },
   {
    "duration": 665,
    "start_time": "2025-04-09T14:40:35.116Z"
   },
   {
    "duration": 647,
    "start_time": "2025-04-09T14:44:56.856Z"
   },
   {
    "duration": 644,
    "start_time": "2025-04-09T14:49:34.312Z"
   },
   {
    "duration": 107,
    "start_time": "2025-04-09T14:51:37.406Z"
   },
   {
    "duration": 107,
    "start_time": "2025-04-09T14:52:16.456Z"
   },
   {
    "duration": 1032,
    "start_time": "2025-04-09T14:52:48.859Z"
   },
   {
    "duration": 581,
    "start_time": "2025-04-09T15:07:53.657Z"
   },
   {
    "duration": 106,
    "start_time": "2025-04-09T15:08:16.555Z"
   },
   {
    "duration": 1335,
    "start_time": "2025-04-09T15:08:40.940Z"
   },
   {
    "duration": 3226,
    "start_time": "2025-04-09T15:09:23.803Z"
   },
   {
    "duration": 600,
    "start_time": "2025-04-09T15:14:37.006Z"
   },
   {
    "duration": 582,
    "start_time": "2025-04-09T15:14:54.835Z"
   },
   {
    "duration": 598,
    "start_time": "2025-04-09T15:15:09.506Z"
   },
   {
    "duration": 621,
    "start_time": "2025-04-09T15:15:40.831Z"
   },
   {
    "duration": 610,
    "start_time": "2025-04-09T15:16:08.638Z"
   },
   {
    "duration": 618,
    "start_time": "2025-04-09T15:17:45.638Z"
   },
   {
    "duration": 3256,
    "start_time": "2025-04-09T15:18:18.046Z"
   },
   {
    "duration": 590,
    "start_time": "2025-04-09T15:31:00.438Z"
   },
   {
    "duration": 616,
    "start_time": "2025-04-09T15:31:29.662Z"
   },
   {
    "duration": 615,
    "start_time": "2025-04-09T15:31:45.178Z"
   },
   {
    "duration": 254,
    "start_time": "2025-04-09T15:36:46.238Z"
   },
   {
    "duration": 597,
    "start_time": "2025-04-09T15:37:03.011Z"
   },
   {
    "duration": 612,
    "start_time": "2025-04-09T15:37:17.073Z"
   },
   {
    "duration": 592,
    "start_time": "2025-04-09T15:39:27.338Z"
   },
   {
    "duration": 284,
    "start_time": "2025-04-09T15:40:54.085Z"
   },
   {
    "duration": 2753,
    "start_time": "2025-04-09T15:43:10.123Z"
   },
   {
    "duration": 8738,
    "start_time": "2025-04-09T15:43:36.809Z"
   },
   {
    "duration": 7997,
    "start_time": "2025-04-09T15:44:49.295Z"
   },
   {
    "duration": 6937,
    "start_time": "2025-04-09T15:45:50.046Z"
   },
   {
    "duration": 24092,
    "start_time": "2025-04-09T15:46:38.046Z"
   },
   {
    "duration": 24102,
    "start_time": "2025-04-09T15:47:41.893Z"
   },
   {
    "duration": 29492,
    "start_time": "2025-04-09T15:49:04.489Z"
   },
   {
    "duration": 30788,
    "start_time": "2025-04-09T15:52:01.271Z"
   },
   {
    "duration": 31008,
    "start_time": "2025-04-09T15:52:54.077Z"
   },
   {
    "duration": 31779,
    "start_time": "2025-04-09T15:53:39.362Z"
   },
   {
    "duration": 289,
    "start_time": "2025-04-09T15:56:36.533Z"
   },
   {
    "duration": 31192,
    "start_time": "2025-04-09T15:57:48.665Z"
   },
   {
    "duration": 30761,
    "start_time": "2025-04-09T16:00:03.387Z"
   },
   {
    "duration": 31922,
    "start_time": "2025-04-09T16:01:00.553Z"
   },
   {
    "duration": 31427,
    "start_time": "2025-04-09T16:02:42.124Z"
   },
   {
    "duration": 34239,
    "start_time": "2025-04-09T16:04:29.004Z"
   },
   {
    "duration": 34673,
    "start_time": "2025-04-09T16:06:10.178Z"
   },
   {
    "duration": 62285,
    "start_time": "2025-04-09T16:07:31.164Z"
   },
   {
    "duration": 52199,
    "start_time": "2025-04-09T16:08:51.178Z"
   },
   {
    "duration": 19186,
    "start_time": "2025-04-09T16:10:02.176Z"
   },
   {
    "duration": 56832,
    "start_time": "2025-04-09T16:10:31.829Z"
   },
   {
    "duration": 388,
    "start_time": "2025-05-23T17:01:46.160Z"
   },
   {
    "duration": 102,
    "start_time": "2025-05-23T17:01:47.859Z"
   },
   {
    "duration": 120,
    "start_time": "2025-05-23T17:02:20.149Z"
   },
   {
    "duration": 131,
    "start_time": "2025-05-23T17:02:45.074Z"
   },
   {
    "duration": 2716,
    "start_time": "2025-05-23T17:03:30.374Z"
   },
   {
    "duration": 3,
    "start_time": "2025-05-23T17:03:59.152Z"
   },
   {
    "duration": 2129,
    "start_time": "2025-05-23T17:04:16.008Z"
   },
   {
    "duration": 2159,
    "start_time": "2025-05-23T17:04:28.080Z"
   },
   {
    "duration": 2044,
    "start_time": "2025-05-23T17:04:32.546Z"
   },
   {
    "duration": 93,
    "start_time": "2025-05-23T17:05:13.315Z"
   },
   {
    "duration": 33,
    "start_time": "2025-05-23T17:06:25.533Z"
   },
   {
    "duration": 32,
    "start_time": "2025-05-23T17:07:04.464Z"
   },
   {
    "duration": 30,
    "start_time": "2025-05-23T19:11:53.073Z"
   },
   {
    "duration": 36,
    "start_time": "2025-05-23T19:11:55.657Z"
   },
   {
    "duration": 670,
    "start_time": "2025-05-23T19:14:05.751Z"
   },
   {
    "duration": 99,
    "start_time": "2025-05-23T19:14:06.423Z"
   },
   {
    "duration": 133,
    "start_time": "2025-05-23T19:14:06.524Z"
   },
   {
    "duration": 2067,
    "start_time": "2025-05-23T19:14:06.659Z"
   },
   {
    "duration": 39,
    "start_time": "2025-05-23T19:14:08.728Z"
   },
   {
    "duration": 35,
    "start_time": "2025-05-23T19:14:08.769Z"
   },
   {
    "duration": 6,
    "start_time": "2025-05-23T19:14:31.121Z"
   },
   {
    "duration": 710,
    "start_time": "2025-05-23T19:25:40.907Z"
   },
   {
    "duration": 88,
    "start_time": "2025-05-23T19:25:41.619Z"
   },
   {
    "duration": 124,
    "start_time": "2025-05-23T19:25:41.709Z"
   },
   {
    "duration": 2164,
    "start_time": "2025-05-23T19:25:41.834Z"
   },
   {
    "duration": 41,
    "start_time": "2025-05-23T19:25:44.000Z"
   },
   {
    "duration": 37,
    "start_time": "2025-05-23T19:25:44.043Z"
   },
   {
    "duration": 24,
    "start_time": "2025-05-23T19:25:44.082Z"
   },
   {
    "duration": 13,
    "start_time": "2025-05-23T19:25:53.972Z"
   },
   {
    "duration": 7,
    "start_time": "2025-05-23T19:27:29.807Z"
   },
   {
    "duration": 11,
    "start_time": "2025-05-23T19:33:04.883Z"
   },
   {
    "duration": 7,
    "start_time": "2025-05-23T19:33:39.153Z"
   },
   {
    "duration": 2246,
    "start_time": "2025-05-23T19:40:08.051Z"
   },
   {
    "duration": 2249,
    "start_time": "2025-05-23T19:40:22.756Z"
   },
   {
    "duration": 2177,
    "start_time": "2025-05-23T19:40:44.560Z"
   },
   {
    "duration": 770,
    "start_time": "2025-05-23T19:55:34.209Z"
   },
   {
    "duration": 103,
    "start_time": "2025-05-23T19:55:34.982Z"
   },
   {
    "duration": 132,
    "start_time": "2025-05-23T19:55:35.088Z"
   },
   {
    "duration": 2220,
    "start_time": "2025-05-23T19:55:35.222Z"
   },
   {
    "duration": 39,
    "start_time": "2025-05-23T19:55:37.444Z"
   },
   {
    "duration": 39,
    "start_time": "2025-05-23T19:55:37.485Z"
   },
   {
    "duration": 6,
    "start_time": "2025-05-23T19:55:37.526Z"
   },
   {
    "duration": 151,
    "start_time": "2025-05-23T19:55:37.533Z"
   },
   {
    "duration": 18,
    "start_time": "2025-05-23T19:55:37.686Z"
   },
   {
    "duration": 9,
    "start_time": "2025-05-23T19:55:37.706Z"
   },
   {
    "duration": 45,
    "start_time": "2025-05-23T19:55:37.717Z"
   },
   {
    "duration": 10,
    "start_time": "2025-05-23T19:55:37.764Z"
   },
   {
    "duration": 14,
    "start_time": "2025-05-23T19:55:37.775Z"
   },
   {
    "duration": 19,
    "start_time": "2025-05-23T19:55:37.793Z"
   },
   {
    "duration": 10,
    "start_time": "2025-05-23T19:55:37.815Z"
   },
   {
    "duration": 29,
    "start_time": "2025-05-23T19:55:37.827Z"
   },
   {
    "duration": 7,
    "start_time": "2025-05-23T19:55:37.858Z"
   },
   {
    "duration": 8,
    "start_time": "2025-05-23T19:55:37.867Z"
   },
   {
    "duration": 9,
    "start_time": "2025-05-23T19:55:37.877Z"
   },
   {
    "duration": 11,
    "start_time": "2025-05-23T19:55:37.906Z"
   },
   {
    "duration": 22,
    "start_time": "2025-05-23T19:55:37.919Z"
   },
   {
    "duration": 106,
    "start_time": "2025-05-23T19:55:37.943Z"
   },
   {
    "duration": 19,
    "start_time": "2025-05-23T19:55:38.051Z"
   },
   {
    "duration": 7,
    "start_time": "2025-05-23T19:55:38.072Z"
   },
   {
    "duration": 29,
    "start_time": "2025-05-23T19:55:38.080Z"
   },
   {
    "duration": 257,
    "start_time": "2025-05-23T19:55:38.111Z"
   },
   {
    "duration": 343,
    "start_time": "2025-05-23T19:55:38.370Z"
   },
   {
    "duration": 9,
    "start_time": "2025-05-23T19:55:38.714Z"
   },
   {
    "duration": 207,
    "start_time": "2025-05-23T19:55:38.725Z"
   },
   {
    "duration": 177,
    "start_time": "2025-05-23T19:55:38.934Z"
   },
   {
    "duration": 10,
    "start_time": "2025-05-23T19:55:39.113Z"
   },
   {
    "duration": 214,
    "start_time": "2025-05-23T19:55:39.125Z"
   },
   {
    "duration": 11,
    "start_time": "2025-05-23T19:55:39.341Z"
   },
   {
    "duration": 322,
    "start_time": "2025-05-23T19:55:39.354Z"
   },
   {
    "duration": 163,
    "start_time": "2025-05-23T19:55:39.679Z"
   },
   {
    "duration": 10,
    "start_time": "2025-05-23T19:55:39.845Z"
   },
   {
    "duration": 160,
    "start_time": "2025-05-23T19:55:39.856Z"
   },
   {
    "duration": 174,
    "start_time": "2025-05-23T19:55:40.017Z"
   },
   {
    "duration": 18,
    "start_time": "2025-05-23T19:55:40.192Z"
   },
   {
    "duration": 174,
    "start_time": "2025-05-23T19:55:40.212Z"
   },
   {
    "duration": 17,
    "start_time": "2025-05-23T19:55:40.391Z"
   },
   {
    "duration": 155,
    "start_time": "2025-05-23T19:55:40.410Z"
   },
   {
    "duration": 9,
    "start_time": "2025-05-23T19:55:40.566Z"
   },
   {
    "duration": 177,
    "start_time": "2025-05-23T19:55:40.576Z"
   },
   {
    "duration": 10,
    "start_time": "2025-05-23T19:55:40.755Z"
   },
   {
    "duration": 159,
    "start_time": "2025-05-23T19:55:40.767Z"
   },
   {
    "duration": 10,
    "start_time": "2025-05-23T19:55:40.928Z"
   },
   {
    "duration": 210,
    "start_time": "2025-05-23T19:55:40.939Z"
   },
   {
    "duration": 164,
    "start_time": "2025-05-23T19:55:41.151Z"
   },
   {
    "duration": 11,
    "start_time": "2025-05-23T19:55:41.317Z"
   },
   {
    "duration": 188,
    "start_time": "2025-05-23T19:55:41.330Z"
   },
   {
    "duration": 11,
    "start_time": "2025-05-23T19:55:41.520Z"
   },
   {
    "duration": 391,
    "start_time": "2025-05-23T19:55:41.532Z"
   },
   {
    "duration": 150,
    "start_time": "2025-05-23T19:55:41.925Z"
   },
   {
    "duration": 11,
    "start_time": "2025-05-23T19:55:42.077Z"
   },
   {
    "duration": 7,
    "start_time": "2025-05-23T19:55:42.105Z"
   },
   {
    "duration": 170,
    "start_time": "2025-05-23T19:55:42.114Z"
   },
   {
    "duration": 5,
    "start_time": "2025-05-23T19:55:42.286Z"
   },
   {
    "duration": 242,
    "start_time": "2025-05-23T19:55:42.293Z"
   },
   {
    "duration": 6,
    "start_time": "2025-05-23T19:55:42.537Z"
   },
   {
    "duration": 172,
    "start_time": "2025-05-23T19:55:42.545Z"
   },
   {
    "duration": 6,
    "start_time": "2025-05-23T19:55:42.719Z"
   },
   {
    "duration": 204,
    "start_time": "2025-05-23T19:55:42.726Z"
   },
   {
    "duration": 156,
    "start_time": "2025-05-23T19:55:42.932Z"
   },
   {
    "duration": 5,
    "start_time": "2025-05-23T19:55:43.090Z"
   },
   {
    "duration": 255,
    "start_time": "2025-05-23T19:55:43.105Z"
   },
   {
    "duration": 5,
    "start_time": "2025-05-23T19:55:43.363Z"
   },
   {
    "duration": 219,
    "start_time": "2025-05-23T19:55:43.370Z"
   },
   {
    "duration": 5,
    "start_time": "2025-05-23T19:55:43.591Z"
   },
   {
    "duration": 240,
    "start_time": "2025-05-23T19:55:43.606Z"
   },
   {
    "duration": 32,
    "start_time": "2025-05-23T19:55:43.848Z"
   },
   {
    "duration": 46,
    "start_time": "2025-05-23T19:55:43.882Z"
   },
   {
    "duration": 202,
    "start_time": "2025-05-23T19:55:43.929Z"
   },
   {
    "duration": 177,
    "start_time": "2025-05-23T19:56:28.847Z"
   },
   {
    "duration": 270,
    "start_time": "2025-05-23T19:58:51.219Z"
   },
   {
    "duration": 172,
    "start_time": "2025-05-23T20:05:20.034Z"
   },
   {
    "duration": 182,
    "start_time": "2025-05-23T20:11:14.439Z"
   },
   {
    "duration": 116,
    "start_time": "2025-05-23T20:13:01.651Z"
   },
   {
    "duration": 271,
    "start_time": "2025-05-23T20:13:31.180Z"
   },
   {
    "duration": 65,
    "start_time": "2025-05-23T20:15:04.401Z"
   },
   {
    "duration": 152,
    "start_time": "2025-05-23T20:15:30.799Z"
   },
   {
    "duration": 119,
    "start_time": "2025-05-23T20:16:15.811Z"
   },
   {
    "duration": 277,
    "start_time": "2025-05-23T20:17:06.112Z"
   },
   {
    "duration": 24,
    "start_time": "2025-05-23T20:17:23.959Z"
   },
   {
    "duration": 699,
    "start_time": "2025-05-23T20:17:47.112Z"
   },
   {
    "duration": 101,
    "start_time": "2025-05-23T20:17:47.814Z"
   },
   {
    "duration": 127,
    "start_time": "2025-05-23T20:17:47.916Z"
   },
   {
    "duration": 2342,
    "start_time": "2025-05-23T20:17:48.044Z"
   },
   {
    "duration": 38,
    "start_time": "2025-05-23T20:17:50.388Z"
   },
   {
    "duration": 37,
    "start_time": "2025-05-23T20:17:50.428Z"
   },
   {
    "duration": 5,
    "start_time": "2025-05-23T20:17:50.467Z"
   },
   {
    "duration": 14,
    "start_time": "2025-05-23T20:17:50.474Z"
   },
   {
    "duration": 20,
    "start_time": "2025-05-23T20:17:50.490Z"
   },
   {
    "duration": 10,
    "start_time": "2025-05-23T20:17:50.512Z"
   },
   {
    "duration": 13,
    "start_time": "2025-05-23T20:17:50.523Z"
   },
   {
    "duration": 6,
    "start_time": "2025-05-23T20:17:50.538Z"
   },
   {
    "duration": 27,
    "start_time": "2025-05-23T20:17:50.545Z"
   },
   {
    "duration": 30,
    "start_time": "2025-05-23T20:17:50.576Z"
   },
   {
    "duration": 14,
    "start_time": "2025-05-23T20:17:50.608Z"
   },
   {
    "duration": 50,
    "start_time": "2025-05-23T20:17:50.624Z"
   },
   {
    "duration": 12,
    "start_time": "2025-05-23T20:17:50.676Z"
   },
   {
    "duration": 7,
    "start_time": "2025-05-23T20:17:50.689Z"
   },
   {
    "duration": 9,
    "start_time": "2025-05-23T20:17:50.697Z"
   },
   {
    "duration": 17,
    "start_time": "2025-05-23T20:17:50.708Z"
   },
   {
    "duration": 33,
    "start_time": "2025-05-23T20:17:50.727Z"
   },
   {
    "duration": 6,
    "start_time": "2025-05-23T20:17:50.762Z"
   },
   {
    "duration": 25,
    "start_time": "2025-05-23T20:17:50.770Z"
   },
   {
    "duration": 23,
    "start_time": "2025-05-23T20:17:50.797Z"
   },
   {
    "duration": 30,
    "start_time": "2025-05-23T20:17:50.822Z"
   },
   {
    "duration": 258,
    "start_time": "2025-05-23T20:17:50.854Z"
   },
   {
    "duration": 354,
    "start_time": "2025-05-23T20:17:51.114Z"
   },
   {
    "duration": 11,
    "start_time": "2025-05-23T20:17:51.470Z"
   },
   {
    "duration": 180,
    "start_time": "2025-05-23T20:17:51.483Z"
   },
   {
    "duration": 174,
    "start_time": "2025-05-23T20:17:51.665Z"
   },
   {
    "duration": 10,
    "start_time": "2025-05-23T20:17:51.841Z"
   },
   {
    "duration": 157,
    "start_time": "2025-05-23T20:17:51.853Z"
   },
   {
    "duration": 9,
    "start_time": "2025-05-23T20:17:52.012Z"
   },
   {
    "duration": 263,
    "start_time": "2025-05-23T20:17:52.023Z"
   },
   {
    "duration": 184,
    "start_time": "2025-05-23T20:17:52.288Z"
   },
   {
    "duration": 9,
    "start_time": "2025-05-23T20:17:52.474Z"
   },
   {
    "duration": 172,
    "start_time": "2025-05-23T20:17:52.485Z"
   },
   {
    "duration": 173,
    "start_time": "2025-05-23T20:17:52.659Z"
   },
   {
    "duration": 9,
    "start_time": "2025-05-23T20:17:52.833Z"
   },
   {
    "duration": 178,
    "start_time": "2025-05-23T20:17:52.844Z"
   },
   {
    "duration": 9,
    "start_time": "2025-05-23T20:17:53.027Z"
   },
   {
    "duration": 159,
    "start_time": "2025-05-23T20:17:53.038Z"
   },
   {
    "duration": 8,
    "start_time": "2025-05-23T20:17:53.205Z"
   },
   {
    "duration": 250,
    "start_time": "2025-05-23T20:17:53.215Z"
   },
   {
    "duration": 10,
    "start_time": "2025-05-23T20:17:53.466Z"
   },
   {
    "duration": 151,
    "start_time": "2025-05-23T20:17:53.478Z"
   },
   {
    "duration": 10,
    "start_time": "2025-05-23T20:17:53.631Z"
   },
   {
    "duration": 293,
    "start_time": "2025-05-23T20:17:53.642Z"
   },
   {
    "duration": 168,
    "start_time": "2025-05-23T20:17:53.937Z"
   },
   {
    "duration": 10,
    "start_time": "2025-05-23T20:17:54.107Z"
   },
   {
    "duration": 189,
    "start_time": "2025-05-23T20:17:54.119Z"
   },
   {
    "duration": 11,
    "start_time": "2025-05-23T20:17:54.310Z"
   },
   {
    "duration": 248,
    "start_time": "2025-05-23T20:17:54.323Z"
   },
   {
    "duration": 151,
    "start_time": "2025-05-23T20:17:54.572Z"
   },
   {
    "duration": 11,
    "start_time": "2025-05-23T20:17:54.724Z"
   },
   {
    "duration": 5,
    "start_time": "2025-05-23T20:17:54.736Z"
   },
   {
    "duration": 184,
    "start_time": "2025-05-23T20:17:54.743Z"
   },
   {
    "duration": 6,
    "start_time": "2025-05-23T20:17:54.929Z"
   },
   {
    "duration": 196,
    "start_time": "2025-05-23T20:17:54.936Z"
   },
   {
    "duration": 5,
    "start_time": "2025-05-23T20:17:55.133Z"
   },
   {
    "duration": 169,
    "start_time": "2025-05-23T20:17:55.139Z"
   },
   {
    "duration": 6,
    "start_time": "2025-05-23T20:17:55.309Z"
   },
   {
    "duration": 193,
    "start_time": "2025-05-23T20:17:55.316Z"
   },
   {
    "duration": 159,
    "start_time": "2025-05-23T20:17:55.511Z"
   },
   {
    "duration": 5,
    "start_time": "2025-05-23T20:17:55.672Z"
   },
   {
    "duration": 264,
    "start_time": "2025-05-23T20:17:55.679Z"
   },
   {
    "duration": 5,
    "start_time": "2025-05-23T20:17:55.945Z"
   },
   {
    "duration": 227,
    "start_time": "2025-05-23T20:17:55.952Z"
   },
   {
    "duration": 5,
    "start_time": "2025-05-23T20:17:56.181Z"
   },
   {
    "duration": 178,
    "start_time": "2025-05-23T20:17:56.187Z"
   },
   {
    "duration": 40,
    "start_time": "2025-05-23T20:17:56.367Z"
   },
   {
    "duration": 77,
    "start_time": "2025-05-23T20:17:56.409Z"
   },
   {
    "duration": 179,
    "start_time": "2025-05-23T20:17:56.487Z"
   },
   {
    "duration": 176,
    "start_time": "2025-05-23T20:18:09.772Z"
   },
   {
    "duration": 308,
    "start_time": "2025-05-23T20:18:33.691Z"
   },
   {
    "duration": 183,
    "start_time": "2025-05-23T20:18:51.227Z"
   },
   {
    "duration": 187,
    "start_time": "2025-05-23T20:19:04.020Z"
   },
   {
    "duration": 193,
    "start_time": "2025-05-23T20:19:23.750Z"
   },
   {
    "duration": 181,
    "start_time": "2025-05-23T20:19:30.185Z"
   },
   {
    "duration": 149,
    "start_time": "2025-05-23T20:21:20.347Z"
   },
   {
    "duration": 184,
    "start_time": "2025-05-23T20:22:27.545Z"
   },
   {
    "duration": 167,
    "start_time": "2025-05-23T20:23:15.406Z"
   },
   {
    "duration": 29,
    "start_time": "2025-05-23T20:27:20.724Z"
   },
   {
    "duration": 144,
    "start_time": "2025-05-23T20:29:01.980Z"
   },
   {
    "duration": 6,
    "start_time": "2025-05-23T20:30:45.483Z"
   },
   {
    "duration": 176,
    "start_time": "2025-05-23T20:32:07.652Z"
   },
   {
    "duration": 6,
    "start_time": "2025-05-23T20:33:36.881Z"
   },
   {
    "duration": 162,
    "start_time": "2025-05-23T20:33:42.645Z"
   },
   {
    "duration": 6,
    "start_time": "2025-05-23T20:34:10.037Z"
   },
   {
    "duration": 5,
    "start_time": "2025-05-23T20:35:01.527Z"
   },
   {
    "duration": 157,
    "start_time": "2025-05-23T20:35:16.808Z"
   },
   {
    "duration": 170,
    "start_time": "2025-05-23T20:36:48.518Z"
   },
   {
    "duration": 133,
    "start_time": "2025-05-23T20:38:01.352Z"
   },
   {
    "duration": 128,
    "start_time": "2025-05-23T20:38:18.092Z"
   },
   {
    "duration": 283,
    "start_time": "2025-05-23T20:46:39.887Z"
   },
   {
    "duration": 157,
    "start_time": "2025-05-23T20:46:50.198Z"
   },
   {
    "duration": 160,
    "start_time": "2025-05-23T20:47:08.340Z"
   },
   {
    "duration": 154,
    "start_time": "2025-05-23T20:47:26.937Z"
   },
   {
    "duration": 152,
    "start_time": "2025-05-23T20:47:39.935Z"
   },
   {
    "duration": 155,
    "start_time": "2025-05-23T20:47:56.460Z"
   },
   {
    "duration": 157,
    "start_time": "2025-05-23T20:48:07.768Z"
   },
   {
    "duration": 166,
    "start_time": "2025-05-23T20:48:19.985Z"
   },
   {
    "duration": 162,
    "start_time": "2025-05-23T20:48:29.278Z"
   },
   {
    "duration": 141,
    "start_time": "2025-05-23T20:48:41.272Z"
   },
   {
    "duration": 8,
    "start_time": "2025-05-23T20:48:46.019Z"
   },
   {
    "duration": 178,
    "start_time": "2025-05-23T20:49:13.306Z"
   },
   {
    "duration": 134,
    "start_time": "2025-05-23T20:49:35.833Z"
   },
   {
    "duration": 88,
    "start_time": "2025-05-23T20:50:11.471Z"
   },
   {
    "duration": 16,
    "start_time": "2025-05-23T20:50:43.641Z"
   },
   {
    "duration": 10,
    "start_time": "2025-05-23T20:50:55.460Z"
   },
   {
    "duration": 13,
    "start_time": "2025-05-23T20:52:01.205Z"
   },
   {
    "duration": 254,
    "start_time": "2025-05-23T20:52:38.870Z"
   },
   {
    "duration": 170,
    "start_time": "2025-05-23T20:53:48.987Z"
   },
   {
    "duration": 170,
    "start_time": "2025-05-23T20:54:10.946Z"
   },
   {
    "duration": 162,
    "start_time": "2025-05-23T20:54:29.460Z"
   },
   {
    "duration": 134,
    "start_time": "2025-05-23T20:55:42.252Z"
   },
   {
    "duration": 142,
    "start_time": "2025-05-23T20:56:35.184Z"
   },
   {
    "duration": 702,
    "start_time": "2025-05-23T20:57:34.686Z"
   },
   {
    "duration": 91,
    "start_time": "2025-05-23T20:57:35.390Z"
   },
   {
    "duration": 138,
    "start_time": "2025-05-23T20:57:35.483Z"
   },
   {
    "duration": 2239,
    "start_time": "2025-05-23T20:57:35.623Z"
   },
   {
    "duration": 37,
    "start_time": "2025-05-23T20:57:37.864Z"
   },
   {
    "duration": 43,
    "start_time": "2025-05-23T20:57:37.903Z"
   },
   {
    "duration": 12,
    "start_time": "2025-05-23T20:57:37.947Z"
   },
   {
    "duration": 19,
    "start_time": "2025-05-23T20:57:37.961Z"
   },
   {
    "duration": 6,
    "start_time": "2025-05-23T20:57:37.982Z"
   },
   {
    "duration": 16,
    "start_time": "2025-05-23T20:57:37.990Z"
   },
   {
    "duration": 18,
    "start_time": "2025-05-23T20:57:38.008Z"
   },
   {
    "duration": 23,
    "start_time": "2025-05-23T20:57:38.027Z"
   },
   {
    "duration": 11,
    "start_time": "2025-05-23T20:57:38.051Z"
   },
   {
    "duration": 8,
    "start_time": "2025-05-23T20:57:38.066Z"
   },
   {
    "duration": 30,
    "start_time": "2025-05-23T20:57:38.076Z"
   },
   {
    "duration": 9,
    "start_time": "2025-05-23T20:57:38.108Z"
   },
   {
    "duration": 6,
    "start_time": "2025-05-23T20:57:38.119Z"
   },
   {
    "duration": 30,
    "start_time": "2025-05-23T20:57:38.126Z"
   },
   {
    "duration": 31,
    "start_time": "2025-05-23T20:57:38.157Z"
   },
   {
    "duration": 25,
    "start_time": "2025-05-23T20:57:38.190Z"
   },
   {
    "duration": 14,
    "start_time": "2025-05-23T20:57:38.217Z"
   },
   {
    "duration": 81,
    "start_time": "2025-05-23T20:57:38.233Z"
   },
   {
    "duration": 48,
    "start_time": "2025-05-23T20:57:38.316Z"
   },
   {
    "duration": 4,
    "start_time": "2025-05-23T20:57:38.366Z"
   },
   {
    "duration": 21,
    "start_time": "2025-05-23T20:57:38.372Z"
   },
   {
    "duration": 253,
    "start_time": "2025-05-23T20:57:38.395Z"
   },
   {
    "duration": 341,
    "start_time": "2025-05-23T20:57:38.650Z"
   },
   {
    "duration": 18,
    "start_time": "2025-05-23T20:57:38.993Z"
   },
   {
    "duration": 162,
    "start_time": "2025-05-23T20:57:39.012Z"
   },
   {
    "duration": 172,
    "start_time": "2025-05-23T20:57:39.175Z"
   },
   {
    "duration": 9,
    "start_time": "2025-05-23T20:57:39.349Z"
   },
   {
    "duration": 218,
    "start_time": "2025-05-23T20:57:39.360Z"
   },
   {
    "duration": 9,
    "start_time": "2025-05-23T20:57:39.580Z"
   },
   {
    "duration": 253,
    "start_time": "2025-05-23T20:57:39.591Z"
   },
   {
    "duration": 165,
    "start_time": "2025-05-23T20:57:39.845Z"
   },
   {
    "duration": 10,
    "start_time": "2025-05-23T20:57:40.012Z"
   },
   {
    "duration": 161,
    "start_time": "2025-05-23T20:57:40.023Z"
   },
   {
    "duration": 177,
    "start_time": "2025-05-23T20:57:40.186Z"
   },
   {
    "duration": 10,
    "start_time": "2025-05-23T20:57:40.364Z"
   },
   {
    "duration": 180,
    "start_time": "2025-05-23T20:57:40.375Z"
   },
   {
    "duration": 9,
    "start_time": "2025-05-23T20:57:40.559Z"
   },
   {
    "duration": 190,
    "start_time": "2025-05-23T20:57:40.570Z"
   },
   {
    "duration": 7,
    "start_time": "2025-05-23T20:57:40.762Z"
   },
   {
    "duration": 183,
    "start_time": "2025-05-23T20:57:40.771Z"
   },
   {
    "duration": 10,
    "start_time": "2025-05-23T20:57:40.956Z"
   },
   {
    "duration": 149,
    "start_time": "2025-05-23T20:57:40.967Z"
   },
   {
    "duration": 9,
    "start_time": "2025-05-23T20:57:41.118Z"
   },
   {
    "duration": 185,
    "start_time": "2025-05-23T20:57:41.129Z"
   },
   {
    "duration": 177,
    "start_time": "2025-05-23T20:57:41.316Z"
   },
   {
    "duration": 14,
    "start_time": "2025-05-23T20:57:41.494Z"
   },
   {
    "duration": 172,
    "start_time": "2025-05-23T20:57:41.510Z"
   },
   {
    "duration": 9,
    "start_time": "2025-05-23T20:57:41.684Z"
   },
   {
    "duration": 244,
    "start_time": "2025-05-23T20:57:41.694Z"
   },
   {
    "duration": 148,
    "start_time": "2025-05-23T20:57:41.940Z"
   },
   {
    "duration": 17,
    "start_time": "2025-05-23T20:57:42.089Z"
   },
   {
    "duration": 10,
    "start_time": "2025-05-23T20:57:42.108Z"
   },
   {
    "duration": 166,
    "start_time": "2025-05-23T20:57:42.120Z"
   },
   {
    "duration": 6,
    "start_time": "2025-05-23T20:57:42.288Z"
   },
   {
    "duration": 203,
    "start_time": "2025-05-23T20:57:42.305Z"
   },
   {
    "duration": 5,
    "start_time": "2025-05-23T20:57:42.509Z"
   },
   {
    "duration": 259,
    "start_time": "2025-05-23T20:57:42.516Z"
   },
   {
    "duration": 6,
    "start_time": "2025-05-23T20:57:42.777Z"
   },
   {
    "duration": 189,
    "start_time": "2025-05-23T20:57:42.784Z"
   },
   {
    "duration": 145,
    "start_time": "2025-05-23T20:57:42.975Z"
   },
   {
    "duration": 5,
    "start_time": "2025-05-23T20:57:43.122Z"
   },
   {
    "duration": 182,
    "start_time": "2025-05-23T20:57:43.128Z"
   },
   {
    "duration": 5,
    "start_time": "2025-05-23T20:57:43.311Z"
   },
   {
    "duration": 256,
    "start_time": "2025-05-23T20:57:43.318Z"
   },
   {
    "duration": 5,
    "start_time": "2025-05-23T20:57:43.576Z"
   },
   {
    "duration": 171,
    "start_time": "2025-05-23T20:57:43.582Z"
   },
   {
    "duration": 29,
    "start_time": "2025-05-23T20:57:43.754Z"
   },
   {
    "duration": 148,
    "start_time": "2025-05-23T20:57:43.805Z"
   },
   {
    "duration": 179,
    "start_time": "2025-05-23T20:57:43.954Z"
   },
   {
    "duration": 896,
    "start_time": "2025-05-24T06:50:00.702Z"
   },
   {
    "duration": 102,
    "start_time": "2025-05-24T06:50:01.601Z"
   },
   {
    "duration": 142,
    "start_time": "2025-05-24T06:50:01.706Z"
   },
   {
    "duration": 2275,
    "start_time": "2025-05-24T06:50:01.850Z"
   },
   {
    "duration": 45,
    "start_time": "2025-05-24T06:50:04.128Z"
   },
   {
    "duration": 35,
    "start_time": "2025-05-24T06:50:04.175Z"
   },
   {
    "duration": 6,
    "start_time": "2025-05-24T06:50:04.212Z"
   },
   {
    "duration": 51,
    "start_time": "2025-05-24T06:50:04.220Z"
   },
   {
    "duration": 14,
    "start_time": "2025-05-24T06:50:04.275Z"
   },
   {
    "duration": 110,
    "start_time": "2025-05-24T06:50:04.291Z"
   },
   {
    "duration": 48,
    "start_time": "2025-05-24T06:50:04.403Z"
   },
   {
    "duration": 20,
    "start_time": "2025-05-24T06:50:04.453Z"
   },
   {
    "duration": 11,
    "start_time": "2025-05-24T06:50:04.475Z"
   },
   {
    "duration": 13,
    "start_time": "2025-05-24T06:50:04.489Z"
   },
   {
    "duration": 37,
    "start_time": "2025-05-24T06:50:04.504Z"
   },
   {
    "duration": 673,
    "start_time": "2025-05-24T06:50:38.209Z"
   },
   {
    "duration": 100,
    "start_time": "2025-05-24T06:50:38.884Z"
   },
   {
    "duration": 164,
    "start_time": "2025-05-24T06:50:38.986Z"
   },
   {
    "duration": 2297,
    "start_time": "2025-05-24T06:50:39.152Z"
   },
   {
    "duration": 41,
    "start_time": "2025-05-24T06:50:41.452Z"
   },
   {
    "duration": 37,
    "start_time": "2025-05-24T06:50:41.495Z"
   },
   {
    "duration": 6,
    "start_time": "2025-05-24T06:50:41.534Z"
   },
   {
    "duration": 33,
    "start_time": "2025-05-24T06:50:41.541Z"
   },
   {
    "duration": 8,
    "start_time": "2025-05-24T06:50:41.577Z"
   },
   {
    "duration": 13,
    "start_time": "2025-05-24T06:50:41.587Z"
   },
   {
    "duration": 14,
    "start_time": "2025-05-24T06:50:41.603Z"
   },
   {
    "duration": 8,
    "start_time": "2025-05-24T06:50:41.620Z"
   },
   {
    "duration": 62,
    "start_time": "2025-05-24T06:50:41.660Z"
   },
   {
    "duration": 10,
    "start_time": "2025-05-24T06:50:41.725Z"
   },
   {
    "duration": 16,
    "start_time": "2025-05-24T06:50:41.737Z"
   },
   {
    "duration": 749,
    "start_time": "2025-05-24T06:51:39.229Z"
   },
   {
    "duration": 91,
    "start_time": "2025-05-24T06:51:39.980Z"
   },
   {
    "duration": 138,
    "start_time": "2025-05-24T06:51:40.073Z"
   },
   {
    "duration": 2264,
    "start_time": "2025-05-24T06:51:40.213Z"
   },
   {
    "duration": 38,
    "start_time": "2025-05-24T06:51:42.479Z"
   },
   {
    "duration": 36,
    "start_time": "2025-05-24T06:51:42.518Z"
   },
   {
    "duration": 8,
    "start_time": "2025-05-24T06:51:42.556Z"
   },
   {
    "duration": 24,
    "start_time": "2025-05-24T06:51:42.566Z"
   },
   {
    "duration": 7,
    "start_time": "2025-05-24T06:51:42.592Z"
   },
   {
    "duration": 6,
    "start_time": "2025-05-24T06:51:42.601Z"
   },
   {
    "duration": 19,
    "start_time": "2025-05-24T06:51:42.609Z"
   },
   {
    "duration": 36,
    "start_time": "2025-05-24T06:51:42.629Z"
   },
   {
    "duration": 5,
    "start_time": "2025-05-24T06:51:42.667Z"
   },
   {
    "duration": 104,
    "start_time": "2025-05-24T06:51:42.673Z"
   },
   {
    "duration": 0,
    "start_time": "2025-05-24T06:51:42.779Z"
   },
   {
    "duration": 5,
    "start_time": "2025-05-24T06:51:52.109Z"
   },
   {
    "duration": 4,
    "start_time": "2025-05-24T06:51:57.213Z"
   },
   {
    "duration": 5,
    "start_time": "2025-05-24T06:53:38.545Z"
   },
   {
    "duration": 7,
    "start_time": "2025-05-24T06:54:58.777Z"
   },
   {
    "duration": 10,
    "start_time": "2025-05-24T07:00:23.492Z"
   },
   {
    "duration": 9,
    "start_time": "2025-05-24T07:00:24.732Z"
   },
   {
    "duration": 5,
    "start_time": "2025-05-24T07:00:31.383Z"
   },
   {
    "duration": 5,
    "start_time": "2025-05-24T07:01:01.178Z"
   },
   {
    "duration": 5,
    "start_time": "2025-05-24T07:04:37.306Z"
   },
   {
    "duration": 11,
    "start_time": "2025-05-24T07:17:37.080Z"
   },
   {
    "duration": 16,
    "start_time": "2025-05-24T07:18:05.438Z"
   },
   {
    "duration": 7,
    "start_time": "2025-05-24T07:23:51.648Z"
   },
   {
    "duration": 10,
    "start_time": "2025-05-24T07:24:57.949Z"
   },
   {
    "duration": 9,
    "start_time": "2025-05-24T07:25:17.161Z"
   },
   {
    "duration": 7,
    "start_time": "2025-05-24T07:25:49.546Z"
   },
   {
    "duration": 908,
    "start_time": "2025-05-24T09:47:15.207Z"
   },
   {
    "duration": 107,
    "start_time": "2025-05-24T09:47:16.118Z"
   },
   {
    "duration": 135,
    "start_time": "2025-05-24T09:47:16.227Z"
   },
   {
    "duration": 2239,
    "start_time": "2025-05-24T09:47:16.363Z"
   },
   {
    "duration": 37,
    "start_time": "2025-05-24T09:47:18.604Z"
   },
   {
    "duration": 35,
    "start_time": "2025-05-24T09:47:18.643Z"
   },
   {
    "duration": 5,
    "start_time": "2025-05-24T09:47:18.680Z"
   },
   {
    "duration": 13,
    "start_time": "2025-05-24T09:47:18.705Z"
   },
   {
    "duration": 6,
    "start_time": "2025-05-24T09:47:18.720Z"
   },
   {
    "duration": 6,
    "start_time": "2025-05-24T09:47:18.728Z"
   },
   {
    "duration": 18,
    "start_time": "2025-05-24T09:47:18.735Z"
   },
   {
    "duration": 6,
    "start_time": "2025-05-24T09:47:18.755Z"
   },
   {
    "duration": 100,
    "start_time": "2025-05-24T09:47:18.763Z"
   },
   {
    "duration": 22,
    "start_time": "2025-05-24T09:47:18.867Z"
   },
   {
    "duration": 90,
    "start_time": "2025-05-24T09:47:18.891Z"
   },
   {
    "duration": 19,
    "start_time": "2025-05-24T09:47:18.983Z"
   },
   {
    "duration": 28,
    "start_time": "2025-05-24T09:47:19.004Z"
   },
   {
    "duration": 20,
    "start_time": "2025-05-24T09:47:19.034Z"
   },
   {
    "duration": 9,
    "start_time": "2025-05-24T09:47:19.056Z"
   },
   {
    "duration": 5,
    "start_time": "2025-05-24T09:47:19.067Z"
   },
   {
    "duration": 7,
    "start_time": "2025-05-24T09:47:19.074Z"
   },
   {
    "duration": 8,
    "start_time": "2025-05-24T09:47:19.083Z"
   },
   {
    "duration": 19,
    "start_time": "2025-05-24T09:47:19.093Z"
   },
   {
    "duration": 14,
    "start_time": "2025-05-24T09:47:19.114Z"
   },
   {
    "duration": 5,
    "start_time": "2025-05-24T09:48:02.069Z"
   },
   {
    "duration": 9,
    "start_time": "2025-05-24T09:48:31.108Z"
   },
   {
    "duration": 5,
    "start_time": "2025-05-24T09:48:57.899Z"
   },
   {
    "duration": 21,
    "start_time": "2025-05-24T09:49:16.177Z"
   },
   {
    "duration": 289,
    "start_time": "2025-05-24T09:51:01.675Z"
   },
   {
    "duration": 1335,
    "start_time": "2025-05-24T09:55:23.222Z"
   },
   {
    "duration": 11,
    "start_time": "2025-05-24T09:55:32.101Z"
   },
   {
    "duration": 5,
    "start_time": "2025-05-24T09:55:39.069Z"
   },
   {
    "duration": 5,
    "start_time": "2025-05-24T09:55:59.267Z"
   },
   {
    "duration": 16,
    "start_time": "2025-05-24T09:59:30.273Z"
   },
   {
    "duration": 45,
    "start_time": "2025-05-24T10:09:05.211Z"
   },
   {
    "duration": 76,
    "start_time": "2025-05-24T10:20:36.952Z"
   },
   {
    "duration": 42,
    "start_time": "2025-05-24T10:21:52.296Z"
   },
   {
    "duration": 31,
    "start_time": "2025-05-24T10:22:34.159Z"
   },
   {
    "duration": 732,
    "start_time": "2025-05-24T10:28:44.313Z"
   },
   {
    "duration": 99,
    "start_time": "2025-05-24T10:28:45.048Z"
   },
   {
    "duration": 183,
    "start_time": "2025-05-24T10:28:45.149Z"
   },
   {
    "duration": 2392,
    "start_time": "2025-05-24T10:28:45.334Z"
   },
   {
    "duration": 38,
    "start_time": "2025-05-24T10:28:47.728Z"
   },
   {
    "duration": 37,
    "start_time": "2025-05-24T10:28:47.768Z"
   },
   {
    "duration": 5,
    "start_time": "2025-05-24T10:28:47.807Z"
   },
   {
    "duration": 20,
    "start_time": "2025-05-24T10:28:47.814Z"
   },
   {
    "duration": 7,
    "start_time": "2025-05-24T10:28:47.836Z"
   },
   {
    "duration": 6,
    "start_time": "2025-05-24T10:28:47.845Z"
   },
   {
    "duration": 24,
    "start_time": "2025-05-24T10:28:47.853Z"
   },
   {
    "duration": 6,
    "start_time": "2025-05-24T10:28:47.879Z"
   },
   {
    "duration": 6,
    "start_time": "2025-05-24T10:28:47.906Z"
   },
   {
    "duration": 33,
    "start_time": "2025-05-24T10:28:47.915Z"
   },
   {
    "duration": 109,
    "start_time": "2025-05-24T10:28:47.950Z"
   },
   {
    "duration": 13,
    "start_time": "2025-05-24T10:28:48.061Z"
   },
   {
    "duration": 9,
    "start_time": "2025-05-24T10:28:48.076Z"
   },
   {
    "duration": 9,
    "start_time": "2025-05-24T10:28:48.086Z"
   },
   {
    "duration": 11,
    "start_time": "2025-05-24T10:28:48.097Z"
   },
   {
    "duration": 7,
    "start_time": "2025-05-24T10:28:48.118Z"
   },
   {
    "duration": 5,
    "start_time": "2025-05-24T10:28:48.127Z"
   },
   {
    "duration": 6,
    "start_time": "2025-05-24T10:28:48.133Z"
   },
   {
    "duration": 9,
    "start_time": "2025-05-24T10:28:48.140Z"
   },
   {
    "duration": 13,
    "start_time": "2025-05-24T10:28:48.151Z"
   },
   {
    "duration": 5,
    "start_time": "2025-05-24T10:28:48.166Z"
   },
   {
    "duration": 52,
    "start_time": "2025-05-24T10:28:48.172Z"
   },
   {
    "duration": 4,
    "start_time": "2025-05-24T10:28:48.226Z"
   },
   {
    "duration": 21,
    "start_time": "2025-05-24T10:28:48.231Z"
   },
   {
    "duration": 279,
    "start_time": "2025-05-24T10:28:48.254Z"
   },
   {
    "duration": 1289,
    "start_time": "2025-05-24T10:28:53.404Z"
   },
   {
    "duration": 676,
    "start_time": "2025-05-24T10:30:36.654Z"
   },
   {
    "duration": 108,
    "start_time": "2025-05-24T10:30:37.332Z"
   },
   {
    "duration": 144,
    "start_time": "2025-05-24T10:30:37.441Z"
   },
   {
    "duration": 2391,
    "start_time": "2025-05-24T10:30:37.587Z"
   },
   {
    "duration": 44,
    "start_time": "2025-05-24T10:30:39.981Z"
   },
   {
    "duration": 105,
    "start_time": "2025-05-24T10:30:40.027Z"
   },
   {
    "duration": 55,
    "start_time": "2025-05-24T10:30:40.133Z"
   },
   {
    "duration": 58,
    "start_time": "2025-05-24T10:30:40.190Z"
   },
   {
    "duration": 58,
    "start_time": "2025-05-24T10:30:40.250Z"
   },
   {
    "duration": 23,
    "start_time": "2025-05-24T10:30:40.310Z"
   },
   {
    "duration": 22,
    "start_time": "2025-05-24T10:30:40.335Z"
   },
   {
    "duration": 8,
    "start_time": "2025-05-24T10:30:40.359Z"
   },
   {
    "duration": 8,
    "start_time": "2025-05-24T10:30:40.369Z"
   },
   {
    "duration": 20,
    "start_time": "2025-05-24T10:30:40.380Z"
   },
   {
    "duration": 216,
    "start_time": "2025-05-24T10:30:40.402Z"
   },
   {
    "duration": 21,
    "start_time": "2025-05-24T10:30:40.620Z"
   },
   {
    "duration": 24,
    "start_time": "2025-05-24T10:30:40.643Z"
   },
   {
    "duration": 8,
    "start_time": "2025-05-24T10:30:40.669Z"
   },
   {
    "duration": 15,
    "start_time": "2025-05-24T10:30:40.679Z"
   },
   {
    "duration": 7,
    "start_time": "2025-05-24T10:30:40.696Z"
   },
   {
    "duration": 22,
    "start_time": "2025-05-24T10:30:40.704Z"
   },
   {
    "duration": 6,
    "start_time": "2025-05-24T10:30:40.728Z"
   },
   {
    "duration": 10,
    "start_time": "2025-05-24T10:30:40.736Z"
   },
   {
    "duration": 13,
    "start_time": "2025-05-24T10:30:40.748Z"
   },
   {
    "duration": 6,
    "start_time": "2025-05-24T10:30:40.763Z"
   },
   {
    "duration": 16,
    "start_time": "2025-05-24T10:30:40.770Z"
   },
   {
    "duration": 51,
    "start_time": "2025-05-24T10:30:40.788Z"
   },
   {
    "duration": 22,
    "start_time": "2025-05-24T10:30:40.841Z"
   },
   {
    "duration": 265,
    "start_time": "2025-05-24T10:30:40.864Z"
   },
   {
    "duration": 73,
    "start_time": "2025-05-24T10:30:41.130Z"
   },
   {
    "duration": 2593,
    "start_time": "2025-05-24T10:31:31.790Z"
   },
   {
    "duration": 14,
    "start_time": "2025-05-24T10:32:47.126Z"
   },
   {
    "duration": 15,
    "start_time": "2025-05-24T10:37:26.143Z"
   },
   {
    "duration": 351,
    "start_time": "2025-05-24T10:39:14.705Z"
   },
   {
    "duration": 11,
    "start_time": "2025-05-24T10:41:51.871Z"
   },
   {
    "duration": 156,
    "start_time": "2025-05-24T10:41:57.039Z"
   },
   {
    "duration": 160,
    "start_time": "2025-05-24T10:42:35.739Z"
   },
   {
    "duration": 11,
    "start_time": "2025-05-24T10:44:54.375Z"
   },
   {
    "duration": 161,
    "start_time": "2025-05-24T10:45:14.166Z"
   },
   {
    "duration": 9,
    "start_time": "2025-05-24T10:46:53.390Z"
   },
   {
    "duration": 248,
    "start_time": "2025-05-24T10:48:31.363Z"
   },
   {
    "duration": 188,
    "start_time": "2025-05-24T10:51:06.078Z"
   },
   {
    "duration": 9,
    "start_time": "2025-05-24T10:54:55.992Z"
   },
   {
    "duration": 187,
    "start_time": "2025-05-24T10:55:09.751Z"
   },
   {
    "duration": 9,
    "start_time": "2025-05-24T10:55:33.145Z"
   },
   {
    "duration": 169,
    "start_time": "2025-05-24T10:55:51.268Z"
   },
   {
    "duration": 177,
    "start_time": "2025-05-24T10:56:48.146Z"
   },
   {
    "duration": 10,
    "start_time": "2025-05-24T10:57:41.118Z"
   },
   {
    "duration": 163,
    "start_time": "2025-05-24T10:59:45.404Z"
   },
   {
    "duration": 180,
    "start_time": "2025-05-24T11:00:32.892Z"
   },
   {
    "duration": 9,
    "start_time": "2025-05-24T11:01:58.270Z"
   },
   {
    "duration": 186,
    "start_time": "2025-05-24T11:03:40.588Z"
   },
   {
    "duration": 188,
    "start_time": "2025-05-24T11:03:51.811Z"
   },
   {
    "duration": 9,
    "start_time": "2025-05-24T11:05:40.033Z"
   },
   {
    "duration": 166,
    "start_time": "2025-05-24T11:06:55.378Z"
   },
   {
    "duration": 9,
    "start_time": "2025-05-24T11:07:59.155Z"
   },
   {
    "duration": 201,
    "start_time": "2025-05-24T11:09:42.355Z"
   },
   {
    "duration": 718,
    "start_time": "2025-05-24T11:11:45.833Z"
   },
   {
    "duration": 95,
    "start_time": "2025-05-24T11:11:46.553Z"
   },
   {
    "duration": 140,
    "start_time": "2025-05-24T11:11:46.650Z"
   },
   {
    "duration": 2406,
    "start_time": "2025-05-24T11:11:46.792Z"
   },
   {
    "duration": 38,
    "start_time": "2025-05-24T11:11:49.200Z"
   },
   {
    "duration": 166,
    "start_time": "2025-05-24T11:11:49.240Z"
   },
   {
    "duration": 5,
    "start_time": "2025-05-24T11:11:49.408Z"
   },
   {
    "duration": 17,
    "start_time": "2025-05-24T11:11:49.415Z"
   },
   {
    "duration": 7,
    "start_time": "2025-05-24T11:11:49.433Z"
   },
   {
    "duration": 8,
    "start_time": "2025-05-24T11:11:49.442Z"
   },
   {
    "duration": 22,
    "start_time": "2025-05-24T11:11:49.452Z"
   },
   {
    "duration": 38,
    "start_time": "2025-05-24T11:11:49.476Z"
   },
   {
    "duration": 6,
    "start_time": "2025-05-24T11:11:49.515Z"
   },
   {
    "duration": 11,
    "start_time": "2025-05-24T11:11:49.524Z"
   },
   {
    "duration": 5,
    "start_time": "2025-05-24T11:11:49.536Z"
   },
   {
    "duration": 10,
    "start_time": "2025-05-24T11:11:49.543Z"
   },
   {
    "duration": 8,
    "start_time": "2025-05-24T11:11:49.554Z"
   },
   {
    "duration": 8,
    "start_time": "2025-05-24T11:11:49.564Z"
   },
   {
    "duration": 39,
    "start_time": "2025-05-24T11:11:49.574Z"
   },
   {
    "duration": 4,
    "start_time": "2025-05-24T11:11:49.615Z"
   },
   {
    "duration": 7,
    "start_time": "2025-05-24T11:11:49.621Z"
   },
   {
    "duration": 12,
    "start_time": "2025-05-24T11:11:49.629Z"
   },
   {
    "duration": 11,
    "start_time": "2025-05-24T11:11:49.643Z"
   },
   {
    "duration": 31,
    "start_time": "2025-05-24T11:11:49.655Z"
   },
   {
    "duration": 6,
    "start_time": "2025-05-24T11:11:49.705Z"
   },
   {
    "duration": 10,
    "start_time": "2025-05-24T11:11:49.714Z"
   },
   {
    "duration": 6,
    "start_time": "2025-05-24T11:11:49.727Z"
   },
   {
    "duration": 35,
    "start_time": "2025-05-24T11:11:49.734Z"
   },
   {
    "duration": 301,
    "start_time": "2025-05-24T11:11:49.771Z"
   },
   {
    "duration": 2688,
    "start_time": "2025-05-24T11:11:50.074Z"
   },
   {
    "duration": 12,
    "start_time": "2025-05-24T11:11:52.764Z"
   },
   {
    "duration": 64,
    "start_time": "2025-05-24T11:11:52.778Z"
   },
   {
    "duration": 348,
    "start_time": "2025-05-24T11:11:52.843Z"
   },
   {
    "duration": 24,
    "start_time": "2025-05-24T11:11:53.192Z"
   },
   {
    "duration": 324,
    "start_time": "2025-05-24T11:11:53.218Z"
   },
   {
    "duration": 176,
    "start_time": "2025-05-24T11:11:53.544Z"
   },
   {
    "duration": 9,
    "start_time": "2025-05-24T11:11:53.722Z"
   },
   {
    "duration": 299,
    "start_time": "2025-05-24T11:11:53.733Z"
   },
   {
    "duration": 9,
    "start_time": "2025-05-24T11:11:54.034Z"
   },
   {
    "duration": 197,
    "start_time": "2025-05-24T11:11:54.045Z"
   },
   {
    "duration": 188,
    "start_time": "2025-05-24T11:11:54.246Z"
   },
   {
    "duration": 9,
    "start_time": "2025-05-24T11:11:54.436Z"
   },
   {
    "duration": 190,
    "start_time": "2025-05-24T11:11:54.446Z"
   },
   {
    "duration": 203,
    "start_time": "2025-05-24T11:11:54.638Z"
   },
   {
    "duration": 9,
    "start_time": "2025-05-24T11:11:54.842Z"
   },
   {
    "duration": 227,
    "start_time": "2025-05-24T11:11:54.853Z"
   },
   {
    "duration": 11,
    "start_time": "2025-05-24T11:11:55.082Z"
   },
   {
    "duration": 166,
    "start_time": "2025-05-24T11:11:55.106Z"
   },
   {
    "duration": 8,
    "start_time": "2025-05-24T11:11:55.274Z"
   },
   {
    "duration": 220,
    "start_time": "2025-05-24T11:12:36.001Z"
   },
   {
    "duration": 12,
    "start_time": "2025-05-24T11:14:38.715Z"
   },
   {
    "duration": 161,
    "start_time": "2025-05-24T11:14:53.037Z"
   },
   {
    "duration": 159,
    "start_time": "2025-05-24T11:16:44.273Z"
   },
   {
    "duration": 147,
    "start_time": "2025-05-24T11:17:01.431Z"
   },
   {
    "duration": 11,
    "start_time": "2025-05-24T11:17:23.084Z"
   },
   {
    "duration": 282,
    "start_time": "2025-05-24T11:18:02.505Z"
   },
   {
    "duration": 197,
    "start_time": "2025-05-24T11:19:03.833Z"
   },
   {
    "duration": 11,
    "start_time": "2025-05-24T11:19:52.106Z"
   },
   {
    "duration": 168,
    "start_time": "2025-05-24T11:20:31.924Z"
   },
   {
    "duration": 9,
    "start_time": "2025-05-24T11:21:43.855Z"
   },
   {
    "duration": 207,
    "start_time": "2025-05-24T11:21:56.483Z"
   },
   {
    "duration": 153,
    "start_time": "2025-05-24T11:24:34.269Z"
   },
   {
    "duration": 10,
    "start_time": "2025-05-24T11:25:13.811Z"
   },
   {
    "duration": 6,
    "start_time": "2025-05-24T11:26:20.100Z"
   },
   {
    "duration": 161,
    "start_time": "2025-05-24T11:26:27.903Z"
   },
   {
    "duration": 5,
    "start_time": "2025-05-24T11:26:37.822Z"
   },
   {
    "duration": 168,
    "start_time": "2025-05-24T11:26:43.660Z"
   },
   {
    "duration": 5,
    "start_time": "2025-05-24T11:26:54.798Z"
   },
   {
    "duration": 167,
    "start_time": "2025-05-24T11:27:04.100Z"
   },
   {
    "duration": 206,
    "start_time": "2025-05-24T11:55:34.796Z"
   },
   {
    "duration": 166,
    "start_time": "2025-05-24T11:55:43.121Z"
   },
   {
    "duration": 203,
    "start_time": "2025-05-24T11:56:12.064Z"
   },
   {
    "duration": 240,
    "start_time": "2025-05-24T11:56:51.881Z"
   },
   {
    "duration": 5,
    "start_time": "2025-05-24T12:22:55.470Z"
   },
   {
    "duration": 189,
    "start_time": "2025-05-24T12:34:59.681Z"
   },
   {
    "duration": 449,
    "start_time": "2025-05-24T12:36:48.503Z"
   },
   {
    "duration": 141,
    "start_time": "2025-05-24T13:11:44.345Z"
   },
   {
    "duration": 5573,
    "start_time": "2025-05-24T13:13:37.340Z"
   },
   {
    "duration": 155,
    "start_time": "2025-05-24T13:15:31.752Z"
   },
   {
    "duration": 189,
    "start_time": "2025-05-24T13:16:11.556Z"
   },
   {
    "duration": 154,
    "start_time": "2025-05-24T13:16:27.945Z"
   },
   {
    "duration": 6,
    "start_time": "2025-05-24T13:17:17.742Z"
   },
   {
    "duration": 173,
    "start_time": "2025-05-24T13:19:10.898Z"
   },
   {
    "duration": 6,
    "start_time": "2025-05-24T13:19:31.356Z"
   },
   {
    "duration": 206,
    "start_time": "2025-05-24T13:20:25.142Z"
   },
   {
    "duration": 6,
    "start_time": "2025-05-24T13:20:43.845Z"
   },
   {
    "duration": 178,
    "start_time": "2025-05-24T13:21:16.816Z"
   },
   {
    "duration": 29,
    "start_time": "2025-05-24T13:21:47.325Z"
   },
   {
    "duration": 24,
    "start_time": "2025-05-24T13:22:45.712Z"
   },
   {
    "duration": 193,
    "start_time": "2025-05-24T13:22:53.964Z"
   },
   {
    "duration": 1277,
    "start_time": "2025-05-24T13:32:02.134Z"
   },
   {
    "duration": 103,
    "start_time": "2025-05-24T13:32:03.413Z"
   },
   {
    "duration": 148,
    "start_time": "2025-05-24T13:32:03.518Z"
   },
   {
    "duration": 2246,
    "start_time": "2025-05-24T13:32:03.668Z"
   },
   {
    "duration": 38,
    "start_time": "2025-05-24T13:32:05.917Z"
   },
   {
    "duration": 82,
    "start_time": "2025-05-24T13:32:05.957Z"
   },
   {
    "duration": 8,
    "start_time": "2025-05-24T13:32:06.042Z"
   },
   {
    "duration": 54,
    "start_time": "2025-05-24T13:32:06.054Z"
   },
   {
    "duration": 14,
    "start_time": "2025-05-24T13:32:06.110Z"
   },
   {
    "duration": 28,
    "start_time": "2025-05-24T13:32:06.126Z"
   },
   {
    "duration": 40,
    "start_time": "2025-05-24T13:32:06.156Z"
   },
   {
    "duration": 14,
    "start_time": "2025-05-24T13:32:06.199Z"
   },
   {
    "duration": 37,
    "start_time": "2025-05-24T13:32:06.215Z"
   },
   {
    "duration": 63,
    "start_time": "2025-05-24T13:32:06.256Z"
   },
   {
    "duration": 55,
    "start_time": "2025-05-24T13:32:06.321Z"
   },
   {
    "duration": 30,
    "start_time": "2025-05-24T13:32:06.378Z"
   },
   {
    "duration": 46,
    "start_time": "2025-05-24T13:32:06.410Z"
   },
   {
    "duration": 268,
    "start_time": "2025-05-24T13:32:06.458Z"
   },
   {
    "duration": 188,
    "start_time": "2025-05-24T13:32:06.728Z"
   },
   {
    "duration": 25,
    "start_time": "2025-05-24T13:32:06.918Z"
   },
   {
    "duration": 48,
    "start_time": "2025-05-24T13:32:06.945Z"
   },
   {
    "duration": 52,
    "start_time": "2025-05-24T13:32:06.995Z"
   },
   {
    "duration": 27,
    "start_time": "2025-05-24T13:32:07.049Z"
   },
   {
    "duration": 18,
    "start_time": "2025-05-24T13:32:07.078Z"
   },
   {
    "duration": 115,
    "start_time": "2025-05-24T13:32:07.098Z"
   },
   {
    "duration": 48,
    "start_time": "2025-05-24T13:32:07.215Z"
   },
   {
    "duration": 38,
    "start_time": "2025-05-24T13:32:07.265Z"
   },
   {
    "duration": 55,
    "start_time": "2025-05-24T13:32:07.305Z"
   },
   {
    "duration": 257,
    "start_time": "2025-05-24T13:32:07.362Z"
   },
   {
    "duration": 2486,
    "start_time": "2025-05-24T13:32:07.621Z"
   },
   {
    "duration": 13,
    "start_time": "2025-05-24T13:32:10.109Z"
   },
   {
    "duration": 13,
    "start_time": "2025-05-24T13:32:10.124Z"
   },
   {
    "duration": 352,
    "start_time": "2025-05-24T13:32:10.139Z"
   },
   {
    "duration": 17,
    "start_time": "2025-05-24T13:32:10.493Z"
   },
   {
    "duration": 176,
    "start_time": "2025-05-24T13:32:10.512Z"
   },
   {
    "duration": 186,
    "start_time": "2025-05-24T13:32:10.690Z"
   },
   {
    "duration": 12,
    "start_time": "2025-05-24T13:32:10.879Z"
   },
   {
    "duration": 178,
    "start_time": "2025-05-24T13:32:10.905Z"
   },
   {
    "duration": 9,
    "start_time": "2025-05-24T13:32:11.085Z"
   },
   {
    "duration": 356,
    "start_time": "2025-05-24T13:32:11.095Z"
   },
   {
    "duration": 173,
    "start_time": "2025-05-24T13:32:11.455Z"
   },
   {
    "duration": 10,
    "start_time": "2025-05-24T13:32:11.629Z"
   },
   {
    "duration": 167,
    "start_time": "2025-05-24T13:32:11.640Z"
   },
   {
    "duration": 181,
    "start_time": "2025-05-24T13:32:11.808Z"
   },
   {
    "duration": 17,
    "start_time": "2025-05-24T13:32:11.991Z"
   },
   {
    "duration": 184,
    "start_time": "2025-05-24T13:32:12.010Z"
   },
   {
    "duration": 16,
    "start_time": "2025-05-24T13:32:12.196Z"
   },
   {
    "duration": 160,
    "start_time": "2025-05-24T13:32:12.214Z"
   },
   {
    "duration": 7,
    "start_time": "2025-05-24T13:32:12.376Z"
   },
   {
    "duration": 186,
    "start_time": "2025-05-24T13:32:12.385Z"
   },
   {
    "duration": 11,
    "start_time": "2025-05-24T13:32:12.573Z"
   },
   {
    "duration": 159,
    "start_time": "2025-05-24T13:32:12.586Z"
   },
   {
    "duration": 10,
    "start_time": "2025-05-24T13:32:12.747Z"
   },
   {
    "duration": 199,
    "start_time": "2025-05-24T13:32:12.759Z"
   },
   {
    "duration": 190,
    "start_time": "2025-05-24T13:32:12.960Z"
   },
   {
    "duration": 9,
    "start_time": "2025-05-24T13:32:13.152Z"
   },
   {
    "duration": 218,
    "start_time": "2025-05-24T13:32:13.163Z"
   },
   {
    "duration": 8,
    "start_time": "2025-05-24T13:32:13.383Z"
   },
   {
    "duration": 264,
    "start_time": "2025-05-24T13:32:13.393Z"
   },
   {
    "duration": 188,
    "start_time": "2025-05-24T13:32:13.659Z"
   },
   {
    "duration": 10,
    "start_time": "2025-05-24T13:32:13.849Z"
   },
   {
    "duration": 84,
    "start_time": "2025-05-24T13:32:13.860Z"
   },
   {
    "duration": 164,
    "start_time": "2025-05-24T13:32:13.946Z"
   },
   {
    "duration": 4,
    "start_time": "2025-05-24T13:32:14.112Z"
   },
   {
    "duration": 198,
    "start_time": "2025-05-24T13:32:14.118Z"
   },
   {
    "duration": 5,
    "start_time": "2025-05-24T13:32:14.318Z"
   },
   {
    "duration": 202,
    "start_time": "2025-05-24T13:32:14.324Z"
   },
   {
    "duration": 5,
    "start_time": "2025-05-24T13:32:14.528Z"
   },
   {
    "duration": 217,
    "start_time": "2025-05-24T13:32:14.535Z"
   },
   {
    "duration": 167,
    "start_time": "2025-05-24T13:32:14.753Z"
   },
   {
    "duration": 4,
    "start_time": "2025-05-24T13:32:14.922Z"
   },
   {
    "duration": 199,
    "start_time": "2025-05-24T13:32:14.928Z"
   },
   {
    "duration": 5,
    "start_time": "2025-05-24T13:32:15.128Z"
   },
   {
    "duration": 376,
    "start_time": "2025-05-24T13:32:15.135Z"
   },
   {
    "duration": 5,
    "start_time": "2025-05-24T13:32:15.513Z"
   },
   {
    "duration": 304,
    "start_time": "2025-05-24T13:32:15.520Z"
   },
   {
    "duration": 27,
    "start_time": "2025-05-24T13:32:15.826Z"
   },
   {
    "duration": 111,
    "start_time": "2025-05-24T13:32:15.855Z"
   },
   {
    "duration": 246,
    "start_time": "2025-05-24T13:32:15.968Z"
   }
  ],
  "colab": {
   "provenance": []
  },
  "kernelspec": {
   "display_name": "Python [conda env:base] *",
   "language": "python",
   "name": "conda-base-py"
  },
  "language_info": {
   "codemirror_mode": {
    "name": "ipython",
    "version": 3
   },
   "file_extension": ".py",
   "mimetype": "text/x-python",
   "name": "python",
   "nbconvert_exporter": "python",
   "pygments_lexer": "ipython3",
   "version": "3.12.7"
  },
  "toc": {
   "base_numbering": 1,
   "nav_menu": {},
   "number_sections": true,
   "sideBar": true,
   "skip_h1_title": true,
   "title_cell": "Table of Contents",
   "title_sidebar": "Contents",
   "toc_cell": false,
   "toc_position": {},
   "toc_section_display": true,
   "toc_window_display": true
  }
 },
 "nbformat": 4,
 "nbformat_minor": 4
}
